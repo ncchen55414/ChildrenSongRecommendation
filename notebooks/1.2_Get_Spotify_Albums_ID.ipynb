{
 "cells": [
  {
   "cell_type": "markdown",
   "metadata": {
    "ExecuteTime": {
     "end_time": "2022-02-08T18:36:39.453745Z",
     "start_time": "2022-02-08T18:36:39.429329Z"
    },
    "heading_collapsed": true
   },
   "source": [
    "# Summary:\n",
    "\n",
    "## Goal:\n",
    "Given the data of music albums from [CSM](https://www.commonsensemedia.org/music-reviews), the purpose of this notebook is to find the corresponding album identifiers in Spotify.    \n",
    "\n",
    "## Tools:\n",
    "-  Spotify API and its python interface Spotipy.\n",
    "-  Python regular expression to clean string and match\n",
    "\n",
    "## Outcomes:\n",
    "I found 1748 album ids out of 2206 albums."
   ]
  },
  {
   "cell_type": "markdown",
   "metadata": {},
   "source": [
    "# Import modules and credentials"
   ]
  },
  {
   "cell_type": "code",
   "execution_count": 1,
   "metadata": {
    "ExecuteTime": {
     "end_time": "2022-02-08T20:15:22.559282Z",
     "start_time": "2022-02-08T20:15:20.787156Z"
    }
   },
   "outputs": [],
   "source": [
    "import numpy as np\n",
    "import pandas as pd\n",
    "import matplotlib.pyplot as plt\n",
    "import seaborn as sns\n",
    "sns.set()\n",
    "import spotipy\n",
    "import os\n",
    "import sys\n",
    "import re\n",
    "import time \n",
    "%matplotlib inline\n",
    "\n",
    "import spotipy\n",
    "from spotipy.oauth2 import SpotifyClientCredentials\n",
    "\n",
    "from dotenv import load_dotenv\n",
    "%load_ext dotenv\n",
    "%dotenv\n",
    "\n",
    "\n",
    "client_id = os.environ['SPOTIFY_CLIENT_ID']\n",
    "client_secret = os.environ['SPOTIFY_CLIENT_SECRET']\n",
    "spotify = spotipy.Spotify(\n",
    "    client_credentials_manager=SpotifyClientCredentials(client_id = client_id, client_secret=client_secret))"
   ]
  },
  {
   "cell_type": "markdown",
   "metadata": {
    "heading_collapsed": true
   },
   "source": [
    "# Load  album age ratings"
   ]
  },
  {
   "cell_type": "code",
   "execution_count": 2,
   "metadata": {
    "ExecuteTime": {
     "end_time": "2022-02-08T17:47:20.423833Z",
     "start_time": "2022-02-08T17:47:20.332831Z"
    },
    "hidden": true
   },
   "outputs": [
    {
     "name": "stdout",
     "output_type": "stream",
     "text": [
      "Number of albums:  2206\n"
     ]
    },
    {
     "data": {
      "text/html": [
       "<div>\n",
       "<style scoped>\n",
       "    .dataframe tbody tr th:only-of-type {\n",
       "        vertical-align: middle;\n",
       "    }\n",
       "\n",
       "    .dataframe tbody tr th {\n",
       "        vertical-align: top;\n",
       "    }\n",
       "\n",
       "    .dataframe thead th {\n",
       "        text-align: right;\n",
       "    }\n",
       "</style>\n",
       "<table border=\"1\" class=\"dataframe\">\n",
       "  <thead>\n",
       "    <tr style=\"text-align: right;\">\n",
       "      <th></th>\n",
       "      <th>Title</th>\n",
       "      <th>Age</th>\n",
       "      <th>Age Group</th>\n",
       "      <th>Artist</th>\n",
       "      <th>Year</th>\n",
       "      <th>Description</th>\n",
       "    </tr>\n",
       "  </thead>\n",
       "  <tbody>\n",
       "    <tr>\n",
       "      <th>1977</th>\n",
       "      <td>Greatest Hits...So Far!!!</td>\n",
       "      <td>15</td>\n",
       "      <td>Teenager</td>\n",
       "      <td>Pink</td>\n",
       "      <td>2010</td>\n",
       "      <td>Some mature themes -- but lots of positivity,...</td>\n",
       "    </tr>\n",
       "    <tr>\n",
       "      <th>1178</th>\n",
       "      <td>Now That's What I Call Music! 17</td>\n",
       "      <td>12</td>\n",
       "      <td>Young Teen</td>\n",
       "      <td>Various Artists</td>\n",
       "      <td>2004</td>\n",
       "      <td>You've heard it all before.</td>\n",
       "    </tr>\n",
       "    <tr>\n",
       "      <th>1857</th>\n",
       "      <td>The Doors</td>\n",
       "      <td>14</td>\n",
       "      <td>Young Teen</td>\n",
       "      <td>The Doors</td>\n",
       "      <td>1967</td>\n",
       "      <td>Morrison &amp; Co.'s debut: dark, hypnotic all-ti...</td>\n",
       "    </tr>\n",
       "  </tbody>\n",
       "</table>\n",
       "</div>"
      ],
      "text/plain": [
       "                                 Title  Age   Age Group           Artist  \\\n",
       "1977         Greatest Hits...So Far!!!   15    Teenager             Pink   \n",
       "1178  Now That's What I Call Music! 17   12  Young Teen  Various Artists   \n",
       "1857                         The Doors   14  Young Teen        The Doors   \n",
       "\n",
       "      Year                                        Description  \n",
       "1977  2010   Some mature themes -- but lots of positivity,...  \n",
       "1178  2004                       You've heard it all before.   \n",
       "1857  1967   Morrison & Co.'s debut: dark, hypnotic all-ti...  "
      ]
     },
     "metadata": {},
     "output_type": "display_data"
    }
   ],
   "source": [
    "album_ratings = pd.read_csv(\"./data/Album_Ratings.csv\")\n",
    "print (\"Number of albums: \", album_ratings.shape[0])\n",
    "display(album_ratings.sample(3))"
   ]
  },
  {
   "cell_type": "markdown",
   "metadata": {
    "heading_collapsed": true
   },
   "source": [
    "# Search albums using SpotifyAPI"
   ]
  },
  {
   "cell_type": "code",
   "execution_count": null,
   "metadata": {
    "hidden": true
   },
   "outputs": [],
   "source": [
    "# Example: write search query\n",
    "\n",
    "album_name = \"Can a Jumbo Jet Sing the Alphabet?\"\n",
    "artist_name = \"Hap Palmer\"\n",
    "\n",
    "results = spotify.search(q=\"album:\" + album_name + \" artist:\" + artist_name, type='album,track')\n",
    "\n",
    "print (results['albums']['items'][0]['name'])\n",
    "print (results['albums']['items'][0]['id'])\n",
    "print (results['albums']['items'][0]['artists'])\n"
   ]
  },
  {
   "cell_type": "markdown",
   "metadata": {
    "heading_collapsed": true
   },
   "source": [
    "#  Define string-matchinig methods"
   ]
  },
  {
   "cell_type": "code",
   "execution_count": 3,
   "metadata": {
    "ExecuteTime": {
     "end_time": "2022-02-08T17:47:32.540643Z",
     "start_time": "2022-02-08T17:47:32.514426Z"
    },
    "hidden": true
   },
   "outputs": [],
   "source": [
    "from tabulate import tabulate\n",
    "\n",
    "\n",
    "def isMatch(str1, str2, clean_str = None):\n",
    "    \n",
    "    \"\"\"\n",
    "    Decide whether str1 and str2 matched in a loose sense.\n",
    "    \"\"\"\n",
    "    if (str1.lower() in str2.lower()) or (str2.lower() in str1.lower()):\n",
    "        return True\n",
    "    \n",
    "    if clean_str:\n",
    "        str1, str2 = clean_str(str1), clean_str(str2)\n",
    "        return (str1 in str2) or (str2 in str1)\n",
    "        \n",
    "\n",
    "\n",
    "def manualMatch(title1, title2, artist1, artist2):\n",
    "    \"\"\"\n",
    "    Let users decide whether (title1, artist1) and (title2, artist2) is a match.\n",
    "    \"\"\"\n",
    "\n",
    "    \n",
    "\n",
    "    display(pd.DataFrame([[title1, artist1],[title2, artist2]], index = ['query input','output']))\n",
    "    \n",
    "    match = input(\"Is it match? (y/n)\")\n",
    "    return (match.lower()=='y')"
   ]
  },
  {
   "cell_type": "markdown",
   "metadata": {
    "heading_collapsed": true
   },
   "source": [
    "#  Search Albums: Found 953 albums"
   ]
  },
  {
   "cell_type": "code",
   "execution_count": 4,
   "metadata": {
    "ExecuteTime": {
     "end_time": "2022-02-08T17:47:39.071200Z",
     "start_time": "2022-02-08T17:47:39.056881Z"
    },
    "hidden": true
   },
   "outputs": [],
   "source": [
    "def search_album(album_name, artist_name, loose_query = False, manual_match = False, clean_str = None):\n",
    "    \n",
    "    if clean_str:\n",
    "        album_name, artist_name = clean_str(album_name), clean_str(artist_name)\n",
    "    \n",
    "    if loose_query:\n",
    "        results = spotify.search(q=album_name, type='album')  # slower\n",
    "    else:\n",
    "        results = spotify.search(q=\"album:\" + album_name + \" artist:\" + artist_name, type='album') # faster\n",
    "\n",
    "    for item in results['albums']['items']:\n",
    "        album_name_spotify = item['name']\n",
    "        album_id = item['id']\n",
    "        artists = [artist['name'] for artist in item['artists']]\n",
    "        \n",
    "        if manual_match:\n",
    "            for artist in artists:\n",
    "                search_terms = [album_name, album_name_spotify, artist_name, artist]\n",
    "                if manualMatch(*search_terms):\n",
    "                    return [album_id, album_name_spotify, artists]\n",
    "        \n",
    "        elif isMatch(album_name, album_name_spotify):\n",
    "            for artist in artists: \n",
    "                if isMatch(artist_name, artist, clean_str):\n",
    "                    return [album_id, album_name_spotify, artists]\n",
    "                 "
   ]
  },
  {
   "cell_type": "code",
   "execution_count": 5,
   "metadata": {
    "ExecuteTime": {
     "end_time": "2022-02-07T05:01:37.911087Z",
     "start_time": "2022-02-07T04:58:31.663152Z"
    },
    "hidden": true
   },
   "outputs": [
    {
     "name": "stdout",
     "output_type": "stream",
     "text": [
      "Processing 0th row.  Time elapsed: 0.00 minutes. Found 0 albums.\n",
      "Processing 300th row.  Time elapsed: 0.58 minutes. Found 157 albums.\n",
      "Processing 600th row.  Time elapsed: 1.03 minutes. Found 252 albums.\n",
      "Processing 900th row.  Time elapsed: 1.37 minutes. Found 358 albums.\n",
      "Processing 1200th row.  Time elapsed: 1.67 minutes. Found 452 albums.\n",
      "Processing 1500th row.  Time elapsed: 2.12 minutes. Found 607 albums.\n",
      "Processing 1800th row.  Time elapsed: 2.53 minutes. Found 758 albums.\n",
      "Processing 2100th row.  Time elapsed: 2.88 minutes. Found 875 albums.\n",
      "Found 953 Albums.\n"
     ]
    }
   ],
   "source": [
    "results = []\n",
    "t1 = time.time()\n",
    "    \n",
    "for (i, row) in album_ratings.iterrows():\n",
    "    \n",
    "    if i%300 ==0 :\n",
    "        time_elapsed = (time.time()-t1)/60\n",
    "        print (f\"Processing {i}th row.  Time elapsed: {time_elapsed:.2f} minutes. Found {len(results)} albums.\")\n",
    "        \n",
    "    album_name, artist_name = row.Title, row.Artist\n",
    "   \n",
    "    if not 'cd single' in album_name.lower():\n",
    "        try:\n",
    "            result = search_album(album_name, artist_name)\n",
    "\n",
    "            if result: \n",
    "                results.append((album_name, artist_name, *result))\n",
    "        except:\n",
    "            print(\"(i, album_name, artist_name)=\", (i,album_name, artist_name))\n",
    "            print(\"Unexpected error:\", sys.exc_info()[0])\n",
    "            break\n",
    "    \n",
    "    \n",
    "print (f\"Found {len(results)} Albums.\")\n",
    "\n",
    "albums_id_1 = pd.DataFrame(results,columns=['Album_Name','Artist','Album_ID','Album_Name_Spotify','Artists_Spotify'])"
   ]
  },
  {
   "cell_type": "code",
   "execution_count": 6,
   "metadata": {
    "ExecuteTime": {
     "end_time": "2022-02-08T17:48:08.749849Z",
     "start_time": "2022-02-08T17:48:08.702184Z"
    },
    "hidden": true
   },
   "outputs": [
    {
     "name": "stdout",
     "output_type": "stream",
     "text": [
      "Number of albums found:  953\n"
     ]
    },
    {
     "data": {
      "text/html": [
       "<div>\n",
       "<style scoped>\n",
       "    .dataframe tbody tr th:only-of-type {\n",
       "        vertical-align: middle;\n",
       "    }\n",
       "\n",
       "    .dataframe tbody tr th {\n",
       "        vertical-align: top;\n",
       "    }\n",
       "\n",
       "    .dataframe thead th {\n",
       "        text-align: right;\n",
       "    }\n",
       "</style>\n",
       "<table border=\"1\" class=\"dataframe\">\n",
       "  <thead>\n",
       "    <tr style=\"text-align: right;\">\n",
       "      <th></th>\n",
       "      <th>Album_Name</th>\n",
       "      <th>Artist</th>\n",
       "      <th>Album_ID</th>\n",
       "      <th>Album_Name_Spotify</th>\n",
       "      <th>Artists_Spotify</th>\n",
       "    </tr>\n",
       "  </thead>\n",
       "  <tbody>\n",
       "    <tr>\n",
       "      <th>124</th>\n",
       "      <td>Parades and Panoramas</td>\n",
       "      <td>Dan Zanes</td>\n",
       "      <td>5ZagB9RVFTD7gXfpf1w7Yc</td>\n",
       "      <td>Parades And Panoramas: 25 Songs Collected By C...</td>\n",
       "      <td>['Dan Zanes']</td>\n",
       "    </tr>\n",
       "    <tr>\n",
       "      <th>252</th>\n",
       "      <td>I Don't Want to Go to School</td>\n",
       "      <td>The Naked Brothers Band</td>\n",
       "      <td>7944vq6z7A1SE3MoflJqvY</td>\n",
       "      <td>I Don't Want To Go To School</td>\n",
       "      <td>['The Naked Brothers Band']</td>\n",
       "    </tr>\n",
       "    <tr>\n",
       "      <th>731</th>\n",
       "      <td>Kevin Lyttle</td>\n",
       "      <td>Kevin Lyttle</td>\n",
       "      <td>0OWwtYwEZFMquSeHGNv3cw</td>\n",
       "      <td>Kevin Lyttle (US Domestic Release)</td>\n",
       "      <td>['Kevin Lyttle']</td>\n",
       "    </tr>\n",
       "  </tbody>\n",
       "</table>\n",
       "</div>"
      ],
      "text/plain": [
       "                       Album_Name                   Artist  \\\n",
       "124         Parades and Panoramas                Dan Zanes   \n",
       "252  I Don't Want to Go to School  The Naked Brothers Band   \n",
       "731                  Kevin Lyttle             Kevin Lyttle   \n",
       "\n",
       "                   Album_ID  \\\n",
       "124  5ZagB9RVFTD7gXfpf1w7Yc   \n",
       "252  7944vq6z7A1SE3MoflJqvY   \n",
       "731  0OWwtYwEZFMquSeHGNv3cw   \n",
       "\n",
       "                                    Album_Name_Spotify  \\\n",
       "124  Parades And Panoramas: 25 Songs Collected By C...   \n",
       "252                       I Don't Want To Go To School   \n",
       "731                 Kevin Lyttle (US Domestic Release)   \n",
       "\n",
       "                 Artists_Spotify  \n",
       "124                ['Dan Zanes']  \n",
       "252  ['The Naked Brothers Band']  \n",
       "731             ['Kevin Lyttle']  "
      ]
     },
     "metadata": {},
     "output_type": "display_data"
    }
   ],
   "source": [
    "#albums_id_1.to_csv(\"./data/albums_id_1.csv\", index=False)\n",
    "\n",
    "albums_id_1 = pd.read_csv(\"./data/albums_id_1.csv\")\n",
    "print (\"Number of albums found: \", albums_id_1.shape[0])\n",
    "\n",
    "# Albums name \n",
    "mask = albums_id_1['Album_Name']!=albums_id_1['Album_Name_Spotify']\n",
    "display(albums_id_1[mask].sample(3))"
   ]
  },
  {
   "cell_type": "markdown",
   "metadata": {
    "heading_collapsed": true
   },
   "source": [
    "# Search Albums with clean string, loose search: Found  125 albums"
   ]
  },
  {
   "cell_type": "code",
   "execution_count": 5,
   "metadata": {
    "ExecuteTime": {
     "end_time": "2022-02-08T17:47:48.392514Z",
     "start_time": "2022-02-08T17:47:48.375094Z"
    },
    "hidden": true
   },
   "outputs": [],
   "source": [
    "def cleanStr(s):\n",
    "   \n",
    "    \"\"\"\n",
    "    Clean input string by keeping only alphabet, numerics, and white space. Then lowercasing.\n",
    "    \"\"\"\n",
    "    \n",
    "    # https://stackoverflow.com/a/70310018\n",
    "    \n",
    "    pattern = \"\\(.*\\)\"\n",
    "    pattern += \"|Original Motion Picture Soundtrack|Original Soundtrack|Soundtrack\"\n",
    "    pattern += \"|Soundtrack Album|Movie Soundtrack|Music from the Motion Picture|Original Motion Picture\"\n",
    "    s = re.sub(pattern, \"\", s, flags = re.IGNORECASE).lower().strip()\n",
    "    \n",
    "    #del_chars = ''.join(c for c in map(chr, range(256)) if not (c.isalnum()|c.isspace()))\n",
    "    #del_map = str.maketrans('', '', del_chars)\n",
    "    #scrunched = s.translate(del_map).lower().strip()\n",
    "                        \n",
    "    #return scrunched\n",
    "    return s"
   ]
  },
  {
   "cell_type": "code",
   "execution_count": 136,
   "metadata": {
    "ExecuteTime": {
     "end_time": "2022-02-07T06:57:46.732879Z",
     "start_time": "2022-02-07T06:56:35.553576Z"
    },
    "hidden": true
   },
   "outputs": [
    {
     "name": "stdout",
     "output_type": "stream",
     "text": [
      "Processing 0th row.  Time elapsed: 0.00 minutes. Found 0 albums.\n",
      "Processing 200th row.  Time elapsed: 0.21 minutes. Found 6 albums.\n",
      "Processing 400th row.  Time elapsed: 0.39 minutes. Found 18 albums.\n",
      "Processing 600th row.  Time elapsed: 0.57 minutes. Found 52 albums.\n",
      "Processing 800th row.  Time elapsed: 0.69 minutes. Found 72 albums.\n",
      "Processing 1000th row.  Time elapsed: 0.78 minutes. Found 79 albums.\n",
      "Processing 1200th row.  Time elapsed: 0.85 minutes. Found 85 albums.\n",
      "Processing 1400th row.  Time elapsed: 0.93 minutes. Found 96 albums.\n",
      "Processing 1600th row.  Time elapsed: 0.98 minutes. Found 106 albums.\n",
      "Processing 1800th row.  Time elapsed: 1.06 minutes. Found 113 albums.\n",
      "Processing 2000th row.  Time elapsed: 1.13 minutes. Found 120 albums.\n",
      "Processing 2200th row.  Time elapsed: 1.19 minutes. Found 125 albums.\n",
      "Found 125 Albums.\n"
     ]
    }
   ],
   "source": [
    "results = []\n",
    "t1 = time.time()\n",
    "found = albums_id_1[['Album_Name','Artist']].values.tolist() \n",
    "\n",
    "for (i, row) in album_ratings.iterrows():\n",
    "    \n",
    "    if i%200 ==0 :\n",
    "        time_elapsed = (time.time()-t1)/60\n",
    "        print (f\"Processing {i}th row.  Time elapsed: {time_elapsed:.2f} minutes. Found {len(results)} albums.\")\n",
    "        \n",
    "    album_name, artist_name = row.Title, row.Artist\n",
    "    \n",
    "    if [album_name, artist_name] in found:  # ignore albums already found\n",
    "        continue\n",
    "    \n",
    "    \n",
    "    if not 'cd single' in album_name.lower():\n",
    "        result = search_album(album_name, artist_name, loose_query = True, clean_str = cleanStr)\n",
    "        if result: \n",
    "            results.append((album_name, artist_name, *result))\n",
    "      \n",
    "    \n",
    "print (f\"Found {len(results)} Albums.\")\n",
    "\n",
    "albums_id_2 = pd.DataFrame(results,columns=['Album_Name','Artist','Album_ID','Album_Name_Spotify','Artists_Spotify'])"
   ]
  },
  {
   "cell_type": "code",
   "execution_count": 7,
   "metadata": {
    "ExecuteTime": {
     "end_time": "2022-02-08T17:48:29.791028Z",
     "start_time": "2022-02-08T17:48:29.723963Z"
    },
    "hidden": true
   },
   "outputs": [
    {
     "name": "stdout",
     "output_type": "stream",
     "text": [
      "Number of albums found:  125\n"
     ]
    },
    {
     "data": {
      "text/html": [
       "<div>\n",
       "<style scoped>\n",
       "    .dataframe tbody tr th:only-of-type {\n",
       "        vertical-align: middle;\n",
       "    }\n",
       "\n",
       "    .dataframe tbody tr th {\n",
       "        vertical-align: top;\n",
       "    }\n",
       "\n",
       "    .dataframe thead th {\n",
       "        text-align: right;\n",
       "    }\n",
       "</style>\n",
       "<table border=\"1\" class=\"dataframe\">\n",
       "  <thead>\n",
       "    <tr style=\"text-align: right;\">\n",
       "      <th></th>\n",
       "      <th>Album_Name</th>\n",
       "      <th>Artist</th>\n",
       "      <th>Album_ID</th>\n",
       "      <th>Album_Name_Spotify</th>\n",
       "      <th>Artists_Spotify</th>\n",
       "    </tr>\n",
       "  </thead>\n",
       "  <tbody>\n",
       "    <tr>\n",
       "      <th>28</th>\n",
       "      <td>A Cinderella Story Soundtrack</td>\n",
       "      <td>Various Artists</td>\n",
       "      <td>5fDujJMK88H9vZYRjVb2Bz</td>\n",
       "      <td>A Cinderella Story: Once Upon A Song (Original...</td>\n",
       "      <td>['Various Artists']</td>\n",
       "    </tr>\n",
       "    <tr>\n",
       "      <th>95</th>\n",
       "      <td>The Breakfast Club: Original Motion Picture So...</td>\n",
       "      <td>Various Artists</td>\n",
       "      <td>2yrEJ5xNvTdEEFuTtcku9M</td>\n",
       "      <td>The Breakfast Club</td>\n",
       "      <td>['Various Artists']</td>\n",
       "    </tr>\n",
       "    <tr>\n",
       "      <th>69</th>\n",
       "      <td>Scooby-Doo 2: Monsters Unleashed Soundtrack</td>\n",
       "      <td>Various Artists</td>\n",
       "      <td>5BobIMS3CojORsCYNeVky7</td>\n",
       "      <td>Scooby-Doo 2: Monsters Unleashed</td>\n",
       "      <td>['Various Artists']</td>\n",
       "    </tr>\n",
       "  </tbody>\n",
       "</table>\n",
       "</div>"
      ],
      "text/plain": [
       "                                           Album_Name           Artist  \\\n",
       "28                      A Cinderella Story Soundtrack  Various Artists   \n",
       "95  The Breakfast Club: Original Motion Picture So...  Various Artists   \n",
       "69        Scooby-Doo 2: Monsters Unleashed Soundtrack  Various Artists   \n",
       "\n",
       "                  Album_ID                                 Album_Name_Spotify  \\\n",
       "28  5fDujJMK88H9vZYRjVb2Bz  A Cinderella Story: Once Upon A Song (Original...   \n",
       "95  2yrEJ5xNvTdEEFuTtcku9M                                 The Breakfast Club   \n",
       "69  5BobIMS3CojORsCYNeVky7                   Scooby-Doo 2: Monsters Unleashed   \n",
       "\n",
       "        Artists_Spotify  \n",
       "28  ['Various Artists']  \n",
       "95  ['Various Artists']  \n",
       "69  ['Various Artists']  "
      ]
     },
     "metadata": {},
     "output_type": "display_data"
    }
   ],
   "source": [
    "#albums_id_2.to_csv(\"./data/albums_id_2.csv\", index=False)\n",
    "\n",
    "albums_id_2 = pd.read_csv(\"./data/albums_id_2.csv\")\n",
    "print (\"Number of albums found: \", albums_id_2.shape[0])\n",
    "\n",
    "# Albums name \n",
    "mask = albums_id_2['Album_Name']!=albums_id_2['Album_Name_Spotify']\n",
    "display(albums_id_2[mask].sample(3))"
   ]
  },
  {
   "cell_type": "markdown",
   "metadata": {
    "heading_collapsed": true
   },
   "source": [
    "# Search Singles:  Found 567 singles"
   ]
  },
  {
   "cell_type": "code",
   "execution_count": 8,
   "metadata": {
    "ExecuteTime": {
     "end_time": "2022-02-08T17:48:34.894292Z",
     "start_time": "2022-02-08T17:48:34.877284Z"
    },
    "hidden": true
   },
   "outputs": [],
   "source": [
    "def search_single(album_name, artist_name, loose_query = False, manual_match = False):\n",
    "    \n",
    "    track_name = album_name.lower().replace(\"(cd single)\",\"\").replace(\"\\\"\",\"\").strip()\n",
    "    \n",
    "    if loose_query:\n",
    "        results =  spotify.search(q=\"track:\" + track_name, type='track')\n",
    "    else:\n",
    "        results =  spotify.search(q=\"track:\" + track_name + \" artist:\" + artist_name, type='track')\n",
    "        \n",
    "    for item in results['tracks']['items']:\n",
    "        track_name_spotify = item['name']\n",
    "        track_id = item['id']\n",
    "        artists = [artist['name'] for artist in item['artists']]\n",
    "                \n",
    "        if manual_match:\n",
    "            for artist in artists:\n",
    "                search_terms = [album_name, track_name_spotify, artist_name, artist]         \n",
    "                if manualMatch(*search_terms):\n",
    "                    return [track_id, track_name_spotify, artists]\n",
    "        \n",
    "        elif isMatch(track_name, track_name_spotify):\n",
    "            for artist in artists: \n",
    "                if isMatch(artist, artist_name):\n",
    "                    return [track_id, track_name_spotify, artists]\n"
   ]
  },
  {
   "cell_type": "code",
   "execution_count": 140,
   "metadata": {
    "ExecuteTime": {
     "end_time": "2022-02-07T07:05:23.657061Z",
     "start_time": "2022-02-07T07:03:52.889020Z"
    },
    "hidden": true
   },
   "outputs": [
    {
     "name": "stdout",
     "output_type": "stream",
     "text": [
      "Processing 0th row.  Time elapsed: 0.00 minutes. Found 0 singles.\n",
      "Processing 400th row.  Time elapsed: 0.02 minutes. Found 7 singles.\n",
      "Processing 800th row.  Time elapsed: 0.35 minutes. Found 129 singles.\n",
      "Processing 1200th row.  Time elapsed: 0.72 minutes. Found 295 singles.\n",
      "Processing 1600th row.  Time elapsed: 1.00 minutes. Found 397 singles.\n",
      "Processing 2000th row.  Time elapsed: 1.36 minutes. Found 526 singles.\n",
      "Found 567 Singles.\n"
     ]
    }
   ],
   "source": [
    "results = []\n",
    "t1 = time.time()\n",
    "\n",
    "found = albums_id_1[['Album_Name','Artist']].values.tolist() + albums_id_2[['Album_Name','Artist']].values.tolist()\n",
    "\n",
    "for (i, row) in album_ratings.iterrows():\n",
    "    \n",
    "    if i%400 ==0 :\n",
    "        time_elapsed = (time.time()-t1)/60\n",
    "        print (f\"Processing {i}th row.  Time elapsed: {time_elapsed:.2f} minutes. Found {len(results)} singles.\")\n",
    "        \n",
    "    album_name, artist_name = row.Title, row.Artist\n",
    "    \n",
    "    if ([album_name, artist_name] not in found) and ('cd single' in album_name.lower()):  \n",
    "        result = search_single(album_name, artist_name)\n",
    "        if result: \n",
    "            results.append((album_name, artist_name, *result))\n",
    "        \n",
    "        else:\n",
    "            result = search_single(album_name, artist_name, loose_query = True)\n",
    "            if result: \n",
    "                results.append((album_name, artist_name, *result))\n",
    "\n",
    "    \n",
    "print (f\"Found {len(results)} Singles.\")\n",
    "\n",
    "singles_id_1 = pd.DataFrame(results,columns=['Album_Name','Artist','Track_ID','Track_Name_Spotify','Artists_Spotify'])"
   ]
  },
  {
   "cell_type": "code",
   "execution_count": 141,
   "metadata": {
    "ExecuteTime": {
     "end_time": "2022-02-07T07:06:05.908331Z",
     "start_time": "2022-02-07T07:06:05.883161Z"
    },
    "hidden": true
   },
   "outputs": [
    {
     "data": {
      "text/html": [
       "<div>\n",
       "<style scoped>\n",
       "    .dataframe tbody tr th:only-of-type {\n",
       "        vertical-align: middle;\n",
       "    }\n",
       "\n",
       "    .dataframe tbody tr th {\n",
       "        vertical-align: top;\n",
       "    }\n",
       "\n",
       "    .dataframe thead th {\n",
       "        text-align: right;\n",
       "    }\n",
       "</style>\n",
       "<table border=\"1\" class=\"dataframe\">\n",
       "  <thead>\n",
       "    <tr style=\"text-align: right;\">\n",
       "      <th></th>\n",
       "      <th>Album_Name</th>\n",
       "      <th>Artist</th>\n",
       "      <th>Track_ID</th>\n",
       "      <th>Track_Name_Spotify</th>\n",
       "      <th>Artists_Spotify</th>\n",
       "    </tr>\n",
       "  </thead>\n",
       "  <tbody>\n",
       "    <tr>\n",
       "      <th>209</th>\n",
       "      <td>\"I Found You\" (CD Single)</td>\n",
       "      <td>The Wanted</td>\n",
       "      <td>1CRY4X2b8X7X10EUdPUutw</td>\n",
       "      <td>I Found You</td>\n",
       "      <td>[The Wanted]</td>\n",
       "    </tr>\n",
       "    <tr>\n",
       "      <th>101</th>\n",
       "      <td>\"Burnin' Up\" (CD single)</td>\n",
       "      <td>Jonas Brothers</td>\n",
       "      <td>2VEsmoek0sol9MnJFyoG9e</td>\n",
       "      <td>Burnin' Up</td>\n",
       "      <td>[Jonas Brothers]</td>\n",
       "    </tr>\n",
       "    <tr>\n",
       "      <th>359</th>\n",
       "      <td>\"Troublemaker (feat. Flo Rida)\" (CD Single)</td>\n",
       "      <td>Olly Murs</td>\n",
       "      <td>6s8nHXTJVqFjXE4yVZPDHR</td>\n",
       "      <td>Troublemaker (feat. Flo Rida)</td>\n",
       "      <td>[Olly Murs, Flo Rida]</td>\n",
       "    </tr>\n",
       "  </tbody>\n",
       "</table>\n",
       "</div>"
      ],
      "text/plain": [
       "                                      Album_Name          Artist  \\\n",
       "209                    \"I Found You\" (CD Single)      The Wanted   \n",
       "101                     \"Burnin' Up\" (CD single)  Jonas Brothers   \n",
       "359  \"Troublemaker (feat. Flo Rida)\" (CD Single)       Olly Murs   \n",
       "\n",
       "                   Track_ID             Track_Name_Spotify  \\\n",
       "209  1CRY4X2b8X7X10EUdPUutw                    I Found You   \n",
       "101  2VEsmoek0sol9MnJFyoG9e                     Burnin' Up   \n",
       "359  6s8nHXTJVqFjXE4yVZPDHR  Troublemaker (feat. Flo Rida)   \n",
       "\n",
       "           Artists_Spotify  \n",
       "209           [The Wanted]  \n",
       "101       [Jonas Brothers]  \n",
       "359  [Olly Murs, Flo Rida]  "
      ]
     },
     "execution_count": 141,
     "metadata": {},
     "output_type": "execute_result"
    }
   ],
   "source": [
    "singles_id_1.sample(3)"
   ]
  },
  {
   "cell_type": "code",
   "execution_count": 10,
   "metadata": {
    "ExecuteTime": {
     "end_time": "2022-02-08T17:49:07.082524Z",
     "start_time": "2022-02-08T17:49:07.042739Z"
    },
    "hidden": true
   },
   "outputs": [
    {
     "name": "stdout",
     "output_type": "stream",
     "text": [
      "Number of singles found:  567\n"
     ]
    },
    {
     "data": {
      "text/html": [
       "<div>\n",
       "<style scoped>\n",
       "    .dataframe tbody tr th:only-of-type {\n",
       "        vertical-align: middle;\n",
       "    }\n",
       "\n",
       "    .dataframe tbody tr th {\n",
       "        vertical-align: top;\n",
       "    }\n",
       "\n",
       "    .dataframe thead th {\n",
       "        text-align: right;\n",
       "    }\n",
       "</style>\n",
       "<table border=\"1\" class=\"dataframe\">\n",
       "  <thead>\n",
       "    <tr style=\"text-align: right;\">\n",
       "      <th></th>\n",
       "      <th>Album_Name</th>\n",
       "      <th>Artist</th>\n",
       "      <th>Track_ID</th>\n",
       "      <th>Track_Name_Spotify</th>\n",
       "      <th>Artists_Spotify</th>\n",
       "    </tr>\n",
       "  </thead>\n",
       "  <tbody>\n",
       "    <tr>\n",
       "      <th>122</th>\n",
       "      <td>\"Magic\" (CD Single)</td>\n",
       "      <td>Coldplay</td>\n",
       "      <td>23khhseCLQqVMCIT1WMAns</td>\n",
       "      <td>Magic</td>\n",
       "      <td>['Coldplay']</td>\n",
       "    </tr>\n",
       "    <tr>\n",
       "      <th>96</th>\n",
       "      <td>\"Burn\" (CD Single)</td>\n",
       "      <td>Ellie Goulding</td>\n",
       "      <td>0xMd5bcWTbyXS7wPrBtZA6</td>\n",
       "      <td>Burn</td>\n",
       "      <td>['Ellie Goulding']</td>\n",
       "    </tr>\n",
       "    <tr>\n",
       "      <th>442</th>\n",
       "      <td>\"Swagga Like Us\" (CD single)</td>\n",
       "      <td>Jay-Z, Kanye West, Lil Wayne, T.I.</td>\n",
       "      <td>6N6bpwA4iiq7HtKToeVH0c</td>\n",
       "      <td>Swagga Like Us</td>\n",
       "      <td>['JAY-Z', 'T.I.', 'Kanye West', 'Lil Wayne']</td>\n",
       "    </tr>\n",
       "  </tbody>\n",
       "</table>\n",
       "</div>"
      ],
      "text/plain": [
       "                       Album_Name                              Artist  \\\n",
       "122           \"Magic\" (CD Single)                            Coldplay   \n",
       "96             \"Burn\" (CD Single)                      Ellie Goulding   \n",
       "442  \"Swagga Like Us\" (CD single)  Jay-Z, Kanye West, Lil Wayne, T.I.   \n",
       "\n",
       "                   Track_ID Track_Name_Spotify  \\\n",
       "122  23khhseCLQqVMCIT1WMAns              Magic   \n",
       "96   0xMd5bcWTbyXS7wPrBtZA6               Burn   \n",
       "442  6N6bpwA4iiq7HtKToeVH0c     Swagga Like Us   \n",
       "\n",
       "                                  Artists_Spotify  \n",
       "122                                  ['Coldplay']  \n",
       "96                             ['Ellie Goulding']  \n",
       "442  ['JAY-Z', 'T.I.', 'Kanye West', 'Lil Wayne']  "
      ]
     },
     "metadata": {},
     "output_type": "display_data"
    }
   ],
   "source": [
    "#singles_id_1.to_csv(\"./data/singles_id_1.csv\", index=False)\n",
    "\n",
    "singles_id_1 = pd.read_csv(\"./data/singles_id_1.csv\")\n",
    "print (\"Number of singles found: \", singles_id_1.shape[0])\n",
    "\n",
    "display(singles_id_1.sample(3))"
   ]
  },
  {
   "cell_type": "markdown",
   "metadata": {},
   "source": [
    "# Semi-Manual Search:  Display query result and decide match or not"
   ]
  },
  {
   "cell_type": "code",
   "execution_count": 11,
   "metadata": {
    "ExecuteTime": {
     "end_time": "2022-02-08T17:49:15.412485Z",
     "start_time": "2022-02-08T17:49:15.372149Z"
    }
   },
   "outputs": [
    {
     "name": "stdout",
     "output_type": "stream",
     "text": [
      "Found 1645 albums; 561 albums not found yet.\n"
     ]
    }
   ],
   "source": [
    "results = []\n",
    "t1 = time.time()\n",
    "\n",
    "found = albums_id_1[['Album_Name','Artist']].values.tolist() + albums_id_2[['Album_Name','Artist']].values.tolist()\n",
    "found += singles_id_1[['Album_Name', 'Artist']].values.tolist()\n",
    "\n",
    "print (f\"Found {len(found)} albums; {len(album_ratings)-len(found)} albums not found yet.\")"
   ]
  },
  {
   "cell_type": "code",
   "execution_count": null,
   "metadata": {
    "ExecuteTime": {
     "start_time": "2022-02-07T07:39:14.991Z"
    }
   },
   "outputs": [],
   "source": [
    "for (i, row) in album_ratings.iterrows():\n",
    "    \n",
    "    if i%400 ==0 :\n",
    "        time_elapsed = (time.time()-t1)/60\n",
    "        print (f\"Processing {i}th row.  Time elapsed: {time_elapsed:.2f} minutes. Found {len(results)} singles.\")\n",
    "        \n",
    "    album_name, artist_name = row.Title, row.Artist\n",
    "    \n",
    "    if ([album_name, artist_name] not in found) and ('cd single' not in album_name.lower()):  \n",
    "        result = search_album(album_name, artist_name, loose_query = True, manual_match = True)\n",
    "        if result: \n",
    "            results.append((album_name, artist_name, *result))\n",
    "        \n",
    "    \n",
    "print (f\"Semi-manually Found {len(results)} albums.\")\n",
    "\n",
    "albums_id_3 = pd.DataFrame(results,columns=['Album_Name','Artist','Album_ID','Album_Name_Spotify','Artists_Spotify'])"
   ]
  },
  {
   "cell_type": "code",
   "execution_count": 167,
   "metadata": {
    "ExecuteTime": {
     "end_time": "2022-02-07T08:04:35.314691Z",
     "start_time": "2022-02-07T08:04:35.278417Z"
    }
   },
   "outputs": [],
   "source": [
    "albums_id_3 = pd.DataFrame(results,columns=['Album_Name','Artist','Album_ID','Album_Name_Spotify','Artists_Spotify'])"
   ]
  },
  {
   "cell_type": "code",
   "execution_count": 7,
   "metadata": {
    "ExecuteTime": {
     "end_time": "2022-02-08T20:50:01.515939Z",
     "start_time": "2022-02-08T20:50:01.478358Z"
    }
   },
   "outputs": [
    {
     "data": {
      "text/html": [
       "<div>\n",
       "<style scoped>\n",
       "    .dataframe tbody tr th:only-of-type {\n",
       "        vertical-align: middle;\n",
       "    }\n",
       "\n",
       "    .dataframe tbody tr th {\n",
       "        vertical-align: top;\n",
       "    }\n",
       "\n",
       "    .dataframe thead th {\n",
       "        text-align: right;\n",
       "    }\n",
       "</style>\n",
       "<table border=\"1\" class=\"dataframe\">\n",
       "  <thead>\n",
       "    <tr style=\"text-align: right;\">\n",
       "      <th></th>\n",
       "      <th>Album_Name</th>\n",
       "      <th>Artist</th>\n",
       "      <th>Album_ID</th>\n",
       "      <th>Album_Name_Spotify</th>\n",
       "      <th>Artists_Spotify</th>\n",
       "    </tr>\n",
       "  </thead>\n",
       "  <tbody>\n",
       "    <tr>\n",
       "      <th>67</th>\n",
       "      <td>KinderAngst</td>\n",
       "      <td>KinderAngst</td>\n",
       "      <td>3inNtbWFV5y9Cqr2MZUjxQ</td>\n",
       "      <td>Kinder Angst</td>\n",
       "      <td>['KinderAngst']</td>\n",
       "    </tr>\n",
       "    <tr>\n",
       "      <th>6</th>\n",
       "      <td>Swing Around the World</td>\n",
       "      <td>Various Artists</td>\n",
       "      <td>1X70XfhXt2okvamjvuZXVK</td>\n",
       "      <td>Swing Around the World</td>\n",
       "      <td>['Fleur Seule']</td>\n",
       "    </tr>\n",
       "    <tr>\n",
       "      <th>11</th>\n",
       "      <td>Dora's World Adventure!</td>\n",
       "      <td>Various Artists</td>\n",
       "      <td>0WDSy20FE73C0f3QR3x73M</td>\n",
       "      <td>Dora The Explorer World Adventure</td>\n",
       "      <td>['Dora The Explorer']</td>\n",
       "    </tr>\n",
       "  </tbody>\n",
       "</table>\n",
       "</div>"
      ],
      "text/plain": [
       "                 Album_Name           Artist                Album_ID  \\\n",
       "67              KinderAngst      KinderAngst  3inNtbWFV5y9Cqr2MZUjxQ   \n",
       "6    Swing Around the World  Various Artists  1X70XfhXt2okvamjvuZXVK   \n",
       "11  Dora's World Adventure!  Various Artists  0WDSy20FE73C0f3QR3x73M   \n",
       "\n",
       "                   Album_Name_Spotify        Artists_Spotify  \n",
       "67                       Kinder Angst        ['KinderAngst']  \n",
       "6              Swing Around the World        ['Fleur Seule']  \n",
       "11  Dora The Explorer World Adventure  ['Dora The Explorer']  "
      ]
     },
     "execution_count": 7,
     "metadata": {},
     "output_type": "execute_result"
    }
   ],
   "source": [
    "#albums_id_3.to_csv(\"./data/albums_id_3.csv\", index=False)\n",
    "\n",
    "albums_id_3 = pd.read_csv(\"../data/albums_id_3.csv\")\n",
    "albums_id_3.sample(3)"
   ]
  },
  {
   "cell_type": "code",
   "execution_count": 13,
   "metadata": {
    "ExecuteTime": {
     "end_time": "2022-02-08T17:50:22.904006Z",
     "start_time": "2022-02-08T17:50:22.886936Z"
    }
   },
   "outputs": [
    {
     "name": "stdout",
     "output_type": "stream",
     "text": [
      "Found 1745 albums; 461 albums not found yet.\n"
     ]
    }
   ],
   "source": [
    "results = []\n",
    "t1 = time.time()\n",
    "\n",
    "found = albums_id_1[['Album_Name','Artist']].values.tolist() + albums_id_2[['Album_Name','Artist']].values.tolist()\n",
    "found += singles_id_1[['Album_Name', 'Artist']].values.tolist()\n",
    "found += albums_id_3[['Album_Name','Artist']].values.tolist()\n",
    "\n",
    "print (f\"Found {len(found)} albums; {len(album_ratings)-len(found)} albums not found yet.\")"
   ]
  },
  {
   "cell_type": "code",
   "execution_count": null,
   "metadata": {
    "ExecuteTime": {
     "start_time": "2022-02-08T17:50:41.703Z"
    }
   },
   "outputs": [],
   "source": [
    "for (i, row) in album_ratings[200:].iterrows():\n",
    "    \n",
    "    if i%400 ==0 :\n",
    "        time_elapsed = (time.time()-t1)/60\n",
    "        print (f\"Processing {i}th row.  Time elapsed: {time_elapsed:.2f} minutes. Found {len(results)} singles.\")\n",
    "        \n",
    "    album_name, artist_name = row.Title, row.Artist\n",
    "    \n",
    "    if ([album_name, artist_name] not in found) and ('cd single' not in album_name.lower()):  \n",
    "        result = search_album(album_name, artist_name, loose_query = True, manual_match = True)\n",
    "        if result: \n",
    "            results.append((album_name, artist_name, *result))\n",
    "        \n",
    "    \n",
    "print (f\"Semi-manually Found {len(results)} albums.\")\n",
    "\n",
    "albums_id_4 = pd.DataFrame(results,columns=['Album_Name','Artist','Album_ID','Album_Name_Spotify','Artists_Spotify'])"
   ]
  },
  {
   "cell_type": "code",
   "execution_count": 9,
   "metadata": {
    "ExecuteTime": {
     "end_time": "2022-02-08T20:51:16.630031Z",
     "start_time": "2022-02-08T20:51:16.607265Z"
    }
   },
   "outputs": [
    {
     "data": {
      "text/html": [
       "<div>\n",
       "<style scoped>\n",
       "    .dataframe tbody tr th:only-of-type {\n",
       "        vertical-align: middle;\n",
       "    }\n",
       "\n",
       "    .dataframe tbody tr th {\n",
       "        vertical-align: top;\n",
       "    }\n",
       "\n",
       "    .dataframe thead th {\n",
       "        text-align: right;\n",
       "    }\n",
       "</style>\n",
       "<table border=\"1\" class=\"dataframe\">\n",
       "  <thead>\n",
       "    <tr style=\"text-align: right;\">\n",
       "      <th></th>\n",
       "      <th>Album_Name</th>\n",
       "      <th>Artist</th>\n",
       "      <th>Album_ID</th>\n",
       "      <th>Album_Name_Spotify</th>\n",
       "      <th>Artists_Spotify</th>\n",
       "    </tr>\n",
       "  </thead>\n",
       "  <tbody>\n",
       "    <tr>\n",
       "      <th>1</th>\n",
       "      <td>Making Silly Faces</td>\n",
       "      <td>Nick Deysher</td>\n",
       "      <td>2MPgd67X25SmFa01Gj6XRZ</td>\n",
       "      <td>Making Silly Faces</td>\n",
       "      <td>['In The Nick of Time']</td>\n",
       "    </tr>\n",
       "    <tr>\n",
       "      <th>0</th>\n",
       "      <td>The Fresh Beat Band: Music from the Hit TV Sho...</td>\n",
       "      <td>The Fresh Beat Band</td>\n",
       "      <td>6jXrznEcmVQ741Kq7zDbQg</td>\n",
       "      <td>The Fresh Beat Band Vol 2.0: More Music From T...</td>\n",
       "      <td>['The Fresh Beat Band']</td>\n",
       "    </tr>\n",
       "    <tr>\n",
       "      <th>2</th>\n",
       "      <td>Dev2.0</td>\n",
       "      <td>Dev2.0</td>\n",
       "      <td>5yOLkUelCWvz7pNb3Uyvu6</td>\n",
       "      <td>Devo 2.0</td>\n",
       "      <td>['Devo 2.0']</td>\n",
       "    </tr>\n",
       "  </tbody>\n",
       "</table>\n",
       "</div>"
      ],
      "text/plain": [
       "                                          Album_Name               Artist  \\\n",
       "1                                 Making Silly Faces         Nick Deysher   \n",
       "0  The Fresh Beat Band: Music from the Hit TV Sho...  The Fresh Beat Band   \n",
       "2                                             Dev2.0               Dev2.0   \n",
       "\n",
       "                 Album_ID                                 Album_Name_Spotify  \\\n",
       "1  2MPgd67X25SmFa01Gj6XRZ                                 Making Silly Faces   \n",
       "0  6jXrznEcmVQ741Kq7zDbQg  The Fresh Beat Band Vol 2.0: More Music From T...   \n",
       "2  5yOLkUelCWvz7pNb3Uyvu6                                           Devo 2.0   \n",
       "\n",
       "           Artists_Spotify  \n",
       "1  ['In The Nick of Time']  \n",
       "0  ['The Fresh Beat Band']  \n",
       "2             ['Devo 2.0']  "
      ]
     },
     "execution_count": 9,
     "metadata": {},
     "output_type": "execute_result"
    }
   ],
   "source": [
    "##albums_id_4.to_csv(\"./data/albums_id_4.csv\", index=False)\n",
    "\n",
    "albums_id_4 = pd.read_csv(\"../data/albums_id_4.csv\")\n",
    "\n",
    "albums_id_4.sample(3)"
   ]
  },
  {
   "cell_type": "markdown",
   "metadata": {},
   "source": [
    "# Summary: number of albums found"
   ]
  },
  {
   "cell_type": "code",
   "execution_count": 10,
   "metadata": {
    "ExecuteTime": {
     "end_time": "2022-02-08T20:51:31.429107Z",
     "start_time": "2022-02-08T20:51:31.359381Z"
    }
   },
   "outputs": [],
   "source": [
    "import pandas as pd\n",
    "albums_id_1 = pd.read_csv(\"../data/albums_id_1.csv\")\n",
    "albums_id_2 = pd.read_csv(\"../data/albums_id_2.csv\")\n",
    "\n",
    "albums_id_3 = pd.read_csv(\"../data/albums_id_3.csv\")\n",
    "albums_id_4 = pd.read_csv(\"../data/albums_id_4.csv\")\n",
    "singles_id_1 = pd.read_csv(\"../data/singles_id_1.csv\")"
   ]
  },
  {
   "cell_type": "code",
   "execution_count": 11,
   "metadata": {
    "ExecuteTime": {
     "end_time": "2022-02-08T20:51:38.731501Z",
     "start_time": "2022-02-08T20:51:38.696282Z"
    }
   },
   "outputs": [
    {
     "name": "stdout",
     "output_type": "stream",
     "text": [
      "1181 albums\n",
      "567 singles\n",
      "total: albums + singles =  1748\n"
     ]
    },
    {
     "data": {
      "text/html": [
       "<div>\n",
       "<style scoped>\n",
       "    .dataframe tbody tr th:only-of-type {\n",
       "        vertical-align: middle;\n",
       "    }\n",
       "\n",
       "    .dataframe tbody tr th {\n",
       "        vertical-align: top;\n",
       "    }\n",
       "\n",
       "    .dataframe thead th {\n",
       "        text-align: right;\n",
       "    }\n",
       "</style>\n",
       "<table border=\"1\" class=\"dataframe\">\n",
       "  <thead>\n",
       "    <tr style=\"text-align: right;\">\n",
       "      <th></th>\n",
       "      <th>Album_Name</th>\n",
       "      <th>Artist</th>\n",
       "      <th>Album_ID</th>\n",
       "      <th>Album_Name_Spotify</th>\n",
       "      <th>Artists_Spotify</th>\n",
       "    </tr>\n",
       "  </thead>\n",
       "  <tbody>\n",
       "    <tr>\n",
       "      <th>479</th>\n",
       "      <td>Too Young To Fight It</td>\n",
       "      <td>Young Love</td>\n",
       "      <td>36XBifBZoPyhczlXOiFBbk</td>\n",
       "      <td>Too Young To Fight It</td>\n",
       "      <td>['Young Love']</td>\n",
       "    </tr>\n",
       "    <tr>\n",
       "      <th>863</th>\n",
       "      <td>Seeing Sounds</td>\n",
       "      <td>N.E.R.D.</td>\n",
       "      <td>20jWmZIMmIaclvShj8KSrB</td>\n",
       "      <td>Seeing Sounds</td>\n",
       "      <td>['N.E.R.D']</td>\n",
       "    </tr>\n",
       "    <tr>\n",
       "      <th>588</th>\n",
       "      <td>After the Storm</td>\n",
       "      <td>Monica</td>\n",
       "      <td>4lSQkGgFffaUOd22Yrc25v</td>\n",
       "      <td>After The Storm</td>\n",
       "      <td>['Monica']</td>\n",
       "    </tr>\n",
       "  </tbody>\n",
       "</table>\n",
       "</div>"
      ],
      "text/plain": [
       "                Album_Name      Artist                Album_ID  \\\n",
       "479  Too Young To Fight It  Young Love  36XBifBZoPyhczlXOiFBbk   \n",
       "863          Seeing Sounds    N.E.R.D.  20jWmZIMmIaclvShj8KSrB   \n",
       "588        After the Storm      Monica  4lSQkGgFffaUOd22Yrc25v   \n",
       "\n",
       "        Album_Name_Spotify Artists_Spotify  \n",
       "479  Too Young To Fight It  ['Young Love']  \n",
       "863          Seeing Sounds     ['N.E.R.D']  \n",
       "588        After The Storm      ['Monica']  "
      ]
     },
     "metadata": {},
     "output_type": "display_data"
    },
    {
     "data": {
      "text/html": [
       "<div>\n",
       "<style scoped>\n",
       "    .dataframe tbody tr th:only-of-type {\n",
       "        vertical-align: middle;\n",
       "    }\n",
       "\n",
       "    .dataframe tbody tr th {\n",
       "        vertical-align: top;\n",
       "    }\n",
       "\n",
       "    .dataframe thead th {\n",
       "        text-align: right;\n",
       "    }\n",
       "</style>\n",
       "<table border=\"1\" class=\"dataframe\">\n",
       "  <thead>\n",
       "    <tr style=\"text-align: right;\">\n",
       "      <th></th>\n",
       "      <th>Album_Name</th>\n",
       "      <th>Artist</th>\n",
       "      <th>Track_ID</th>\n",
       "      <th>Track_Name_Spotify</th>\n",
       "      <th>Artists_Spotify</th>\n",
       "    </tr>\n",
       "  </thead>\n",
       "  <tbody>\n",
       "    <tr>\n",
       "      <th>260</th>\n",
       "      <td>\"Animal\" (CD single)</td>\n",
       "      <td>Neon Trees</td>\n",
       "      <td>1fBl642IhJOE5U319Gy2Go</td>\n",
       "      <td>Animal</td>\n",
       "      <td>['Neon Trees']</td>\n",
       "    </tr>\n",
       "    <tr>\n",
       "      <th>2</th>\n",
       "      <td>\"Just Like a Rockstar\" (CD Single)</td>\n",
       "      <td>The Fresh Beat Band</td>\n",
       "      <td>1b8NAn2ehmesKq4luLIfAc</td>\n",
       "      <td>Just Like A Rockstar</td>\n",
       "      <td>['The Fresh Beat Band']</td>\n",
       "    </tr>\n",
       "    <tr>\n",
       "      <th>406</th>\n",
       "      <td>\"Dirty Dancer\" (CD Single)</td>\n",
       "      <td>Enrique Iglesias, Lil Wayne, Usher</td>\n",
       "      <td>1XS0Gyb2YyUgoxa8O67emr</td>\n",
       "      <td>Dirty Dancer</td>\n",
       "      <td>['Enrique Iglesias', 'Usher']</td>\n",
       "    </tr>\n",
       "  </tbody>\n",
       "</table>\n",
       "</div>"
      ],
      "text/plain": [
       "                             Album_Name                              Artist  \\\n",
       "260                \"Animal\" (CD single)                          Neon Trees   \n",
       "2    \"Just Like a Rockstar\" (CD Single)                 The Fresh Beat Band   \n",
       "406          \"Dirty Dancer\" (CD Single)  Enrique Iglesias, Lil Wayne, Usher   \n",
       "\n",
       "                   Track_ID    Track_Name_Spotify  \\\n",
       "260  1fBl642IhJOE5U319Gy2Go                Animal   \n",
       "2    1b8NAn2ehmesKq4luLIfAc  Just Like A Rockstar   \n",
       "406  1XS0Gyb2YyUgoxa8O67emr          Dirty Dancer   \n",
       "\n",
       "                   Artists_Spotify  \n",
       "260                 ['Neon Trees']  \n",
       "2          ['The Fresh Beat Band']  \n",
       "406  ['Enrique Iglesias', 'Usher']  "
      ]
     },
     "metadata": {},
     "output_type": "display_data"
    }
   ],
   "source": [
    "albums_df = pd.concat([albums_id_1, albums_id_2, albums_id_3, albums_id_4])\n",
    "print (albums_df.shape[0], \"albums\")\n",
    "print (singles_id_1.shape[0], \"singles\")\n",
    "print (\"total: albums + singles = \", albums_df.shape[0] + singles_id_1.shape[0])\n",
    "\n",
    "display(albums_df.sample(3))\n",
    "display(singles_id_1.sample(3))"
   ]
  },
  {
   "cell_type": "code",
   "execution_count": 12,
   "metadata": {
    "ExecuteTime": {
     "end_time": "2022-02-08T20:51:42.809455Z",
     "start_time": "2022-02-08T20:51:42.790147Z"
    }
   },
   "outputs": [],
   "source": [
    "albums_df.to_csv(\"../data/album_ids.csv\", index = False)\n",
    "singles_id_1.to_csv(\"../data/single_ids.csv\", index = False)"
   ]
  }
 ],
 "metadata": {
  "kernelspec": {
   "display_name": "Python 3 (ipykernel)",
   "language": "python",
   "name": "python3"
  },
  "language_info": {
   "codemirror_mode": {
    "name": "ipython",
    "version": 3
   },
   "file_extension": ".py",
   "mimetype": "text/x-python",
   "name": "python",
   "nbconvert_exporter": "python",
   "pygments_lexer": "ipython3",
   "version": "3.9.7"
  }
 },
 "nbformat": 4,
 "nbformat_minor": 4
}
