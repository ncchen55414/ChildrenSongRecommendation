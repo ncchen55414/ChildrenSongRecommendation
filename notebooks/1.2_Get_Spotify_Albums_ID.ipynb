{
 "cells": [
  {
   "cell_type": "markdown",
   "metadata": {
    "ExecuteTime": {
     "end_time": "2022-02-08T18:36:39.453745Z",
     "start_time": "2022-02-08T18:36:39.429329Z"
    },
    "heading_collapsed": true
   },
   "source": [
    "# Summary:\n",
    "\n",
    "## Goal:\n",
    "Given the data of music albums from [CSM](https://www.commonsensemedia.org/music-reviews), the purpose of this notebook is to find the corresponding album identifiers in Spotify.    \n",
    "\n",
    "## Tools:\n",
    "-  Spotify API and its python interface Spotipy.\n",
    "-  Python regular expression to clean string and match\n",
    "\n",
    "## Outcomes:\n",
    "I found 1748 album ids out of 2206 albums."
   ]
  },
  {
   "cell_type": "markdown",
   "metadata": {},
   "source": [
    "# Import modules and credentials"
   ]
  },
  {
   "cell_type": "code",
   "execution_count": 1,
   "metadata": {
    "ExecuteTime": {
     "end_time": "2022-02-23T01:36:57.307648Z",
     "start_time": "2022-02-23T01:36:54.982640Z"
    }
   },
   "outputs": [],
   "source": [
    "import numpy as np\n",
    "import pandas as pd\n",
    "import matplotlib.pyplot as plt\n",
    "import seaborn as sns\n",
    "sns.set()\n",
    "import spotipy\n",
    "import os\n",
    "import sys\n",
    "import re\n",
    "import time \n",
    "%matplotlib inline\n",
    "\n",
    "import spotipy\n",
    "from spotipy.oauth2 import SpotifyClientCredentials\n",
    "\n",
    "from dotenv import load_dotenv\n",
    "%load_ext dotenv\n",
    "%dotenv\n",
    "\n",
    "\n",
    "client_id = os.environ['SPOTIFY_CLIENT_ID']\n",
    "client_secret = os.environ['SPOTIFY_CLIENT_SECRET']\n",
    "spotify = spotipy.Spotify(\n",
    "    client_credentials_manager=SpotifyClientCredentials(client_id = client_id, client_secret=client_secret))"
   ]
  },
  {
   "cell_type": "markdown",
   "metadata": {},
   "source": [
    "# Load  album age ratings"
   ]
  },
  {
   "cell_type": "code",
   "execution_count": 2,
   "metadata": {
    "ExecuteTime": {
     "end_time": "2022-02-23T01:36:59.566674Z",
     "start_time": "2022-02-23T01:36:59.505928Z"
    }
   },
   "outputs": [
    {
     "name": "stdout",
     "output_type": "stream",
     "text": [
      "Number of albums:  2206\n"
     ]
    },
    {
     "data": {
      "text/html": [
       "<div>\n",
       "<style scoped>\n",
       "    .dataframe tbody tr th:only-of-type {\n",
       "        vertical-align: middle;\n",
       "    }\n",
       "\n",
       "    .dataframe tbody tr th {\n",
       "        vertical-align: top;\n",
       "    }\n",
       "\n",
       "    .dataframe thead th {\n",
       "        text-align: right;\n",
       "    }\n",
       "</style>\n",
       "<table border=\"1\" class=\"dataframe\">\n",
       "  <thead>\n",
       "    <tr style=\"text-align: right;\">\n",
       "      <th></th>\n",
       "      <th>Age</th>\n",
       "      <th>Album_Name</th>\n",
       "      <th>Artist</th>\n",
       "      <th>Year</th>\n",
       "      <th>Description</th>\n",
       "      <th>Age Group</th>\n",
       "    </tr>\n",
       "  </thead>\n",
       "  <tbody>\n",
       "    <tr>\n",
       "      <th>632</th>\n",
       "      <td>8</td>\n",
       "      <td>A Little Bit Longer</td>\n",
       "      <td>Jonas Brothers</td>\n",
       "      <td>2008</td>\n",
       "      <td>OMG! More of, like, the same sweet punk pop!</td>\n",
       "      <td>Middle Childhood 1</td>\n",
       "    </tr>\n",
       "    <tr>\n",
       "      <th>339</th>\n",
       "      <td>4</td>\n",
       "      <td>My Trampoline</td>\n",
       "      <td>Peter Himmelman</td>\n",
       "      <td>2009</td>\n",
       "      <td>Clever lyrics and bright, stylish music in a ...</td>\n",
       "      <td>Pre-Schooler</td>\n",
       "    </tr>\n",
       "    <tr>\n",
       "      <th>1</th>\n",
       "      <td>2</td>\n",
       "      <td>A Child's Celebration of Rock 'n' Roll</td>\n",
       "      <td>Various Artists</td>\n",
       "      <td>1996</td>\n",
       "      <td>Songs to get toddlers and teens energized.</td>\n",
       "      <td>Toodler</td>\n",
       "    </tr>\n",
       "  </tbody>\n",
       "</table>\n",
       "</div>"
      ],
      "text/plain": [
       "     Age                              Album_Name           Artist  Year  \\\n",
       "632    8                     A Little Bit Longer   Jonas Brothers  2008   \n",
       "339    4                           My Trampoline  Peter Himmelman  2009   \n",
       "1      2  A Child's Celebration of Rock 'n' Roll  Various Artists  1996   \n",
       "\n",
       "                                           Description           Age Group  \n",
       "632      OMG! More of, like, the same sweet punk pop!   Middle Childhood 1  \n",
       "339   Clever lyrics and bright, stylish music in a ...        Pre-Schooler  \n",
       "1          Songs to get toddlers and teens energized.              Toodler  "
      ]
     },
     "metadata": {},
     "output_type": "display_data"
    }
   ],
   "source": [
    "album_ratings = pd.read_csv(\"../data/album_age_ratings.csv\")\n",
    "print (\"Number of albums: \", album_ratings.shape[0])\n",
    "display(album_ratings.sample(3))"
   ]
  },
  {
   "cell_type": "markdown",
   "metadata": {},
   "source": [
    "# Search albums using SpotifyAPI"
   ]
  },
  {
   "cell_type": "code",
   "execution_count": 3,
   "metadata": {
    "ExecuteTime": {
     "end_time": "2022-02-23T01:37:04.988642Z",
     "start_time": "2022-02-23T01:37:04.577789Z"
    }
   },
   "outputs": [
    {
     "name": "stdout",
     "output_type": "stream",
     "text": [
      "Can a Jumbo Jet Sing the Alphabet? - Songs For Learning Through Music and Movement\n",
      "5HNNn1QUjSqI3UaBs2uc5f\n",
      "[{'external_urls': {'spotify': 'https://open.spotify.com/artist/69mxXDPodcz1qr9p68AqsJ'}, 'href': 'https://api.spotify.com/v1/artists/69mxXDPodcz1qr9p68AqsJ', 'id': '69mxXDPodcz1qr9p68AqsJ', 'name': 'Hap Palmer', 'type': 'artist', 'uri': 'spotify:artist:69mxXDPodcz1qr9p68AqsJ'}]\n"
     ]
    }
   ],
   "source": [
    "# Example: write search query\n",
    "\n",
    "album_name = \"Can a Jumbo Jet Sing the Alphabet?\"\n",
    "artist_name = \"Hap Palmer\"\n",
    "\n",
    "results = spotify.search(q=\"album:\" + album_name + \" artist:\" + artist_name, type='album,track')\n",
    "\n",
    "print (results['albums']['items'][0]['name'])\n",
    "print (results['albums']['items'][0]['id'])\n",
    "print (results['albums']['items'][0]['artists'])\n"
   ]
  },
  {
   "cell_type": "code",
   "execution_count": 17,
   "metadata": {
    "ExecuteTime": {
     "end_time": "2022-02-23T01:43:11.970296Z",
     "start_time": "2022-02-23T01:43:11.842053Z"
    }
   },
   "outputs": [
    {
     "name": "stdout",
     "output_type": "stream",
     "text": [
      "4kOQZmvSBepp9AUhc65Tgf\n",
      "Word Of Mouth (Deluxe)\n",
      "I Found You\n",
      "0U7s0q2Q81a3n4bvPi6vSb\n"
     ]
    }
   ],
   "source": [
    "# Example: Search for a track\n",
    "\n",
    "\n",
    "track_name = \"I Found You\" \n",
    "artist_name = \"The Wanted\"\n",
    "\n",
    "\n",
    "results = spotify.search(q=\"track:\" + track_name + \" artist:\" + artist_name, type='track')\n",
    "\n",
    "print (results['tracks']['items'][0]['album']['id'])\n",
    "print (results['tracks']['items'][0]['album']['name'])\n",
    "print (results['tracks']['items'][0]['name'])\n",
    "print (results['tracks']['items'][0]['id'])\n"
   ]
  },
  {
   "cell_type": "markdown",
   "metadata": {},
   "source": [
    "#  Define string-matchinig methods"
   ]
  },
  {
   "cell_type": "code",
   "execution_count": 22,
   "metadata": {
    "ExecuteTime": {
     "end_time": "2022-02-23T01:50:19.860687Z",
     "start_time": "2022-02-23T01:50:19.843090Z"
    }
   },
   "outputs": [],
   "source": [
    "\n",
    "\n",
    "def isMatch(str1, str2, clean_str = None):\n",
    "    \n",
    "    \"\"\"\n",
    "    Decide whether str1 and str2 matched in a loose sense.\n",
    "    \"\"\"\n",
    "    if (str1.lower() in str2.lower()) or (str2.lower() in str1.lower()):\n",
    "        return True\n",
    "    \n",
    "    if clean_str:\n",
    "        str1, str2 = clean_str(str1), clean_str(str2)\n",
    "        return (str1 in str2) or (str2 in str1)\n",
    "        \n",
    "\n",
    "\n",
    "def manualMatch(title1, title2, artist1, artist2):\n",
    "    \"\"\"\n",
    "    Let users decide whether (title1, artist1) and (title2, artist2) is a match.\n",
    "    \"\"\"\n",
    "\n",
    "    \n",
    "\n",
    "    display(pd.DataFrame([[title1, artist1],[title2, artist2]], index = ['query input','output']))\n",
    "    \n",
    "    match = input(\"Is it match? (y/n)\")\n",
    "    return (match.lower()=='y')"
   ]
  },
  {
   "cell_type": "markdown",
   "metadata": {},
   "source": [
    "#  Search Albums: Found 953 albums"
   ]
  },
  {
   "cell_type": "code",
   "execution_count": 4,
   "metadata": {
    "ExecuteTime": {
     "end_time": "2022-02-08T17:47:39.071200Z",
     "start_time": "2022-02-08T17:47:39.056881Z"
    }
   },
   "outputs": [],
   "source": [
    "def search_album(album_name, artist_name, loose_query = False, manual_match = False, clean_str = None):\n",
    "    \n",
    "    if clean_str:\n",
    "        album_name, artist_name = clean_str(album_name), clean_str(artist_name)\n",
    "    \n",
    "    if loose_query:\n",
    "        results = spotify.search(q=album_name, type='album')  # slower\n",
    "    else:\n",
    "        results = spotify.search(q=\"album:\" + album_name + \" artist:\" + artist_name, type='album') # faster\n",
    "\n",
    "    for item in results['albums']['items']:\n",
    "        album_name_spotify = item['name']\n",
    "        album_id = item['id']\n",
    "        artists = [artist['name'] for artist in item['artists']]\n",
    "        \n",
    "        if manual_match:\n",
    "            for artist in artists:\n",
    "                search_terms = [album_name, album_name_spotify, artist_name, artist]\n",
    "                if manualMatch(*search_terms):\n",
    "                    return [album_id, album_name_spotify, artists]\n",
    "        \n",
    "        elif isMatch(album_name, album_name_spotify):\n",
    "            for artist in artists: \n",
    "                if isMatch(artist_name, artist, clean_str):\n",
    "                    return [album_id, album_name_spotify, artists]\n",
    "                 "
   ]
  },
  {
   "cell_type": "code",
   "execution_count": 5,
   "metadata": {
    "ExecuteTime": {
     "end_time": "2022-02-07T05:01:37.911087Z",
     "start_time": "2022-02-07T04:58:31.663152Z"
    }
   },
   "outputs": [
    {
     "name": "stdout",
     "output_type": "stream",
     "text": [
      "Processing 0th row.  Time elapsed: 0.00 minutes. Found 0 albums.\n",
      "Processing 300th row.  Time elapsed: 0.58 minutes. Found 157 albums.\n",
      "Processing 600th row.  Time elapsed: 1.03 minutes. Found 252 albums.\n",
      "Processing 900th row.  Time elapsed: 1.37 minutes. Found 358 albums.\n",
      "Processing 1200th row.  Time elapsed: 1.67 minutes. Found 452 albums.\n",
      "Processing 1500th row.  Time elapsed: 2.12 minutes. Found 607 albums.\n",
      "Processing 1800th row.  Time elapsed: 2.53 minutes. Found 758 albums.\n",
      "Processing 2100th row.  Time elapsed: 2.88 minutes. Found 875 albums.\n",
      "Found 953 Albums.\n"
     ]
    }
   ],
   "source": [
    "results = []\n",
    "t1 = time.time()\n",
    "    \n",
    "for (i, row) in album_ratings.iterrows():\n",
    "    \n",
    "    if i%300 ==0 :\n",
    "        time_elapsed = (time.time()-t1)/60\n",
    "        print (f\"Processing {i}th row.  Time elapsed: {time_elapsed:.2f} minutes. Found {len(results)} albums.\")\n",
    "        \n",
    "    album_name, artist_name = row.Album_Name, row.Artist\n",
    "   \n",
    "    if not 'cd single' in album_name.lower():\n",
    "        try:\n",
    "            result = search_album(album_name, artist_name)\n",
    "\n",
    "            if result: \n",
    "                results.append((album_name, artist_name, *result))\n",
    "        except:\n",
    "            print(\"(i, album_name, artist_name)=\", (i,album_name, artist_name))\n",
    "            print(\"Unexpected error:\", sys.exc_info()[0])\n",
    "            break\n",
    "    \n",
    "    \n",
    "print (f\"Found {len(results)} Albums.\")\n",
    "\n",
    "albums_id_1 = pd.DataFrame(results,columns=['Album_Name','Artist','Album_ID','Album_Name_Spotify','Artists_Spotify'])"
   ]
  },
  {
   "cell_type": "code",
   "execution_count": 5,
   "metadata": {
    "ExecuteTime": {
     "end_time": "2022-02-23T01:38:26.235898Z",
     "start_time": "2022-02-23T01:38:26.196675Z"
    }
   },
   "outputs": [
    {
     "name": "stdout",
     "output_type": "stream",
     "text": [
      "Number of albums found:  953\n"
     ]
    },
    {
     "data": {
      "text/html": [
       "<div>\n",
       "<style scoped>\n",
       "    .dataframe tbody tr th:only-of-type {\n",
       "        vertical-align: middle;\n",
       "    }\n",
       "\n",
       "    .dataframe tbody tr th {\n",
       "        vertical-align: top;\n",
       "    }\n",
       "\n",
       "    .dataframe thead th {\n",
       "        text-align: right;\n",
       "    }\n",
       "</style>\n",
       "<table border=\"1\" class=\"dataframe\">\n",
       "  <thead>\n",
       "    <tr style=\"text-align: right;\">\n",
       "      <th></th>\n",
       "      <th>Album_Name</th>\n",
       "      <th>Artist</th>\n",
       "      <th>Album_ID</th>\n",
       "      <th>Album_Name_Spotify</th>\n",
       "      <th>Artists_Spotify</th>\n",
       "    </tr>\n",
       "  </thead>\n",
       "  <tbody>\n",
       "    <tr>\n",
       "      <th>639</th>\n",
       "      <td>Best of Hilary Duff</td>\n",
       "      <td>Hilary Duff</td>\n",
       "      <td>3w94bw5d71KiF3NOkxSwPi</td>\n",
       "      <td>Best Of</td>\n",
       "      <td>['Hilary Duff']</td>\n",
       "    </tr>\n",
       "    <tr>\n",
       "      <th>426</th>\n",
       "      <td>Life for Rent</td>\n",
       "      <td>Dido</td>\n",
       "      <td>6PEApt1cBh2EtWeXMKZJzo</td>\n",
       "      <td>Life For Rent</td>\n",
       "      <td>['Dido']</td>\n",
       "    </tr>\n",
       "    <tr>\n",
       "      <th>920</th>\n",
       "      <td>Curtain Call</td>\n",
       "      <td>Eminem</td>\n",
       "      <td>5qENHeCSlwWpEzb25peRmQ</td>\n",
       "      <td>Curtain Call: The Hits (Deluxe Edition)</td>\n",
       "      <td>['Eminem']</td>\n",
       "    </tr>\n",
       "  </tbody>\n",
       "</table>\n",
       "</div>"
      ],
      "text/plain": [
       "              Album_Name       Artist                Album_ID  \\\n",
       "639  Best of Hilary Duff  Hilary Duff  3w94bw5d71KiF3NOkxSwPi   \n",
       "426        Life for Rent         Dido  6PEApt1cBh2EtWeXMKZJzo   \n",
       "920         Curtain Call       Eminem  5qENHeCSlwWpEzb25peRmQ   \n",
       "\n",
       "                          Album_Name_Spotify  Artists_Spotify  \n",
       "639                                  Best Of  ['Hilary Duff']  \n",
       "426                            Life For Rent         ['Dido']  \n",
       "920  Curtain Call: The Hits (Deluxe Edition)       ['Eminem']  "
      ]
     },
     "metadata": {},
     "output_type": "display_data"
    }
   ],
   "source": [
    "#albums_id_1.to_csv(\"../data/albums_id_1.csv\", index=False)\n",
    "\n",
    "albums_id_1 = pd.read_csv(\"../data/albums_id_1.csv\")\n",
    "print (\"Number of albums found: \", albums_id_1.shape[0])\n",
    "\n",
    "# Albums name \n",
    "mask = albums_id_1['Album_Name']!=albums_id_1['Album_Name_Spotify']\n",
    "display(albums_id_1[mask].sample(3))"
   ]
  },
  {
   "cell_type": "markdown",
   "metadata": {},
   "source": [
    "# Search Albums with clean string, loose search: Found  125 albums"
   ]
  },
  {
   "cell_type": "code",
   "execution_count": 23,
   "metadata": {
    "ExecuteTime": {
     "end_time": "2022-02-23T01:50:27.162380Z",
     "start_time": "2022-02-23T01:50:27.148553Z"
    }
   },
   "outputs": [],
   "source": [
    "def cleanStr(s):\n",
    "   \n",
    "    \"\"\"\n",
    "    Clean input string by keeping only alphabet, numerics, and white space. Then lowercasing.\n",
    "    \"\"\"\n",
    "    \n",
    "    # https://stackoverflow.com/a/70310018\n",
    "    \n",
    "    pattern = \"\\(.*\\)\"\n",
    "    pattern += \"|Original Motion Picture Soundtrack|Original Soundtrack|Soundtrack\"\n",
    "    pattern += \"|Soundtrack Album|Movie Soundtrack|Music from the Motion Picture|Original Motion Picture\"\n",
    "    s = re.sub(pattern, \"\", s, flags = re.IGNORECASE).lower().strip()\n",
    "    \n",
    "    #del_chars = ''.join(c for c in map(chr, range(256)) if not (c.isalnum()|c.isspace()))\n",
    "    #del_map = str.maketrans('', '', del_chars)\n",
    "    #scrunched = s.translate(del_map).lower().strip()\n",
    "                        \n",
    "    #return scrunched\n",
    "    return s"
   ]
  },
  {
   "cell_type": "code",
   "execution_count": 136,
   "metadata": {
    "ExecuteTime": {
     "end_time": "2022-02-07T06:57:46.732879Z",
     "start_time": "2022-02-07T06:56:35.553576Z"
    }
   },
   "outputs": [
    {
     "name": "stdout",
     "output_type": "stream",
     "text": [
      "Processing 0th row.  Time elapsed: 0.00 minutes. Found 0 albums.\n",
      "Processing 200th row.  Time elapsed: 0.21 minutes. Found 6 albums.\n",
      "Processing 400th row.  Time elapsed: 0.39 minutes. Found 18 albums.\n",
      "Processing 600th row.  Time elapsed: 0.57 minutes. Found 52 albums.\n",
      "Processing 800th row.  Time elapsed: 0.69 minutes. Found 72 albums.\n",
      "Processing 1000th row.  Time elapsed: 0.78 minutes. Found 79 albums.\n",
      "Processing 1200th row.  Time elapsed: 0.85 minutes. Found 85 albums.\n",
      "Processing 1400th row.  Time elapsed: 0.93 minutes. Found 96 albums.\n",
      "Processing 1600th row.  Time elapsed: 0.98 minutes. Found 106 albums.\n",
      "Processing 1800th row.  Time elapsed: 1.06 minutes. Found 113 albums.\n",
      "Processing 2000th row.  Time elapsed: 1.13 minutes. Found 120 albums.\n",
      "Processing 2200th row.  Time elapsed: 1.19 minutes. Found 125 albums.\n",
      "Found 125 Albums.\n"
     ]
    }
   ],
   "source": [
    "results = []\n",
    "t1 = time.time()\n",
    "found = albums_id_1[['Album_Name','Artist']].values.tolist() \n",
    "\n",
    "for (i, row) in album_ratings.iterrows():\n",
    "    \n",
    "    if i%200 ==0 :\n",
    "        time_elapsed = (time.time()-t1)/60\n",
    "        print (f\"Processing {i}th row.  Time elapsed: {time_elapsed:.2f} minutes. Found {len(results)} albums.\")\n",
    "        \n",
    "    album_name, artist_name = row.Title, row.Artist\n",
    "    \n",
    "    if [album_name, artist_name] in found:  # ignore albums already found\n",
    "        continue\n",
    "    \n",
    "    \n",
    "    if not 'cd single' in album_name.lower():\n",
    "        result = search_album(album_name, artist_name, loose_query = True, clean_str = cleanStr)\n",
    "        if result: \n",
    "            results.append((album_name, artist_name, *result))\n",
    "      \n",
    "    \n",
    "print (f\"Found {len(results)} Albums.\")\n",
    "\n",
    "albums_id_2 = pd.DataFrame(results,columns=['Album_Name','Artist','Album_ID','Album_Name_Spotify','Artists_Spotify'])"
   ]
  },
  {
   "cell_type": "code",
   "execution_count": 6,
   "metadata": {
    "ExecuteTime": {
     "end_time": "2022-02-23T01:38:52.406696Z",
     "start_time": "2022-02-23T01:38:52.365255Z"
    }
   },
   "outputs": [
    {
     "name": "stdout",
     "output_type": "stream",
     "text": [
      "Number of albums found:  125\n"
     ]
    },
    {
     "data": {
      "text/html": [
       "<div>\n",
       "<style scoped>\n",
       "    .dataframe tbody tr th:only-of-type {\n",
       "        vertical-align: middle;\n",
       "    }\n",
       "\n",
       "    .dataframe tbody tr th {\n",
       "        vertical-align: top;\n",
       "    }\n",
       "\n",
       "    .dataframe thead th {\n",
       "        text-align: right;\n",
       "    }\n",
       "</style>\n",
       "<table border=\"1\" class=\"dataframe\">\n",
       "  <thead>\n",
       "    <tr style=\"text-align: right;\">\n",
       "      <th></th>\n",
       "      <th>Album_Name</th>\n",
       "      <th>Artist</th>\n",
       "      <th>Album_ID</th>\n",
       "      <th>Album_Name_Spotify</th>\n",
       "      <th>Artists_Spotify</th>\n",
       "    </tr>\n",
       "  </thead>\n",
       "  <tbody>\n",
       "    <tr>\n",
       "      <th>12</th>\n",
       "      <td>The Princess and the Frog Soundtrack</td>\n",
       "      <td>Various Artists</td>\n",
       "      <td>0CcL28OkH89kjgKpNZC8sW</td>\n",
       "      <td>The Princess and the Frog (Original Motion Pic...</td>\n",
       "      <td>['Various Artists']</td>\n",
       "    </tr>\n",
       "    <tr>\n",
       "      <th>113</th>\n",
       "      <td>Taking Woodstock Movie Soundtrack</td>\n",
       "      <td>Various Artists</td>\n",
       "      <td>6oN7rDjXg03uGblQzuk52p</td>\n",
       "      <td>Taking Woodstock [Original Motion Picture Soun...</td>\n",
       "      <td>['Various Artists']</td>\n",
       "    </tr>\n",
       "    <tr>\n",
       "      <th>28</th>\n",
       "      <td>A Cinderella Story Soundtrack</td>\n",
       "      <td>Various Artists</td>\n",
       "      <td>5fDujJMK88H9vZYRjVb2Bz</td>\n",
       "      <td>A Cinderella Story: Once Upon A Song (Original...</td>\n",
       "      <td>['Various Artists']</td>\n",
       "    </tr>\n",
       "  </tbody>\n",
       "</table>\n",
       "</div>"
      ],
      "text/plain": [
       "                               Album_Name           Artist  \\\n",
       "12   The Princess and the Frog Soundtrack  Various Artists   \n",
       "113     Taking Woodstock Movie Soundtrack  Various Artists   \n",
       "28          A Cinderella Story Soundtrack  Various Artists   \n",
       "\n",
       "                   Album_ID  \\\n",
       "12   0CcL28OkH89kjgKpNZC8sW   \n",
       "113  6oN7rDjXg03uGblQzuk52p   \n",
       "28   5fDujJMK88H9vZYRjVb2Bz   \n",
       "\n",
       "                                    Album_Name_Spotify      Artists_Spotify  \n",
       "12   The Princess and the Frog (Original Motion Pic...  ['Various Artists']  \n",
       "113  Taking Woodstock [Original Motion Picture Soun...  ['Various Artists']  \n",
       "28   A Cinderella Story: Once Upon A Song (Original...  ['Various Artists']  "
      ]
     },
     "metadata": {},
     "output_type": "display_data"
    }
   ],
   "source": [
    "#albums_id_2.to_csv(\"../data/albums_id_2.csv\", index=False)\n",
    "\n",
    "albums_id_2 = pd.read_csv(\"../data/albums_id_2.csv\")\n",
    "print (\"Number of albums found: \", albums_id_2.shape[0])\n",
    "\n",
    "# Albums name \n",
    "mask = albums_id_2['Album_Name']!=albums_id_2['Album_Name_Spotify']\n",
    "display(albums_id_2[mask].sample(3))"
   ]
  },
  {
   "cell_type": "markdown",
   "metadata": {},
   "source": [
    "# Search Singles:  Found 567 singles"
   ]
  },
  {
   "cell_type": "code",
   "execution_count": 24,
   "metadata": {
    "ExecuteTime": {
     "end_time": "2022-02-23T01:50:34.061198Z",
     "start_time": "2022-02-23T01:50:34.040334Z"
    }
   },
   "outputs": [],
   "source": [
    "def search_single(album_name, artist_name, loose_query = False, manual_match = False):\n",
    "    \n",
    "    track_name = album_name.lower().replace(\"(cd single)\",\"\").replace(\"\\\"\",\"\").strip()\n",
    "    \n",
    "    if loose_query:\n",
    "        results =  spotify.search(q=\"track:\" + track_name, type='track')\n",
    "    else:\n",
    "        results =  spotify.search(q=\"track:\" + track_name + \" artist:\" + artist_name, type='track')\n",
    "        \n",
    "    for item in results['tracks']['items']:\n",
    "        track_name_spotify = item['name']\n",
    "        track_id = item['id']\n",
    "        album_name = item['album']['name']\n",
    "        album_id = item['album']['id']\n",
    "        artists = [artist['name'] for artist in item['artists']]\n",
    "                \n",
    "        if manual_match:\n",
    "            for artist in artists:\n",
    "                search_terms = [album_name, track_name_spotify, artist_name, artist]         \n",
    "                if manualMatch(*search_terms):\n",
    "                    return [album_id, album_name, artists, track_id, track_name_spotify]\n",
    "        \n",
    "        elif isMatch(track_name, track_name_spotify):\n",
    "            for artist in artists: \n",
    "                if isMatch(artist, artist_name):\n",
    "                    return [album_id, album_name, artists, track_id, track_name_spotify]\n"
   ]
  },
  {
   "cell_type": "code",
   "execution_count": 25,
   "metadata": {
    "ExecuteTime": {
     "end_time": "2022-02-23T01:52:26.998013Z",
     "start_time": "2022-02-23T01:50:40.737192Z"
    }
   },
   "outputs": [
    {
     "name": "stdout",
     "output_type": "stream",
     "text": [
      "Processing 0th row.  Time elapsed: 0.00 minutes. Found 0 singles.\n",
      "Processing 400th row.  Time elapsed: 0.03 minutes. Found 7 singles.\n",
      "Processing 800th row.  Time elapsed: 0.43 minutes. Found 129 singles.\n",
      "Processing 1200th row.  Time elapsed: 0.86 minutes. Found 295 singles.\n",
      "Processing 1600th row.  Time elapsed: 1.20 minutes. Found 398 singles.\n",
      "Processing 2000th row.  Time elapsed: 1.62 minutes. Found 526 singles.\n",
      "Found 567 Singles.\n"
     ]
    }
   ],
   "source": [
    "results = []\n",
    "t1 = time.time()\n",
    "\n",
    "found = albums_id_1[['Album_Name','Artist']].values.tolist() + albums_id_2[['Album_Name','Artist']].values.tolist()\n",
    "\n",
    "for (i, row) in album_ratings.iterrows():\n",
    "    \n",
    "    if i%400 ==0 :\n",
    "        time_elapsed = (time.time()-t1)/60\n",
    "        print (f\"Processing {i}th row.  Time elapsed: {time_elapsed:.2f} minutes. Found {len(results)} singles.\")\n",
    "        \n",
    "    album_name, artist_name = row.Album_Name, row.Artist\n",
    "    \n",
    "    if ([album_name, artist_name] not in found) and ('cd single' in album_name.lower()):  \n",
    "        result = search_single(album_name, artist_name)\n",
    "        if result: \n",
    "            results.append((album_name, artist_name, *result))\n",
    "        \n",
    "        else:\n",
    "            result = search_single(album_name, artist_name, loose_query = True)\n",
    "            if result: \n",
    "                results.append((album_name, artist_name, *result))\n",
    "\n",
    "    \n",
    "print (f\"Found {len(results)} Singles.\")\n",
    "\n"
   ]
  },
  {
   "cell_type": "code",
   "execution_count": 26,
   "metadata": {
    "ExecuteTime": {
     "end_time": "2022-02-23T01:58:09.831139Z",
     "start_time": "2022-02-23T01:58:09.811081Z"
    }
   },
   "outputs": [
    {
     "data": {
      "text/html": [
       "<div>\n",
       "<style scoped>\n",
       "    .dataframe tbody tr th:only-of-type {\n",
       "        vertical-align: middle;\n",
       "    }\n",
       "\n",
       "    .dataframe tbody tr th {\n",
       "        vertical-align: top;\n",
       "    }\n",
       "\n",
       "    .dataframe thead th {\n",
       "        text-align: right;\n",
       "    }\n",
       "</style>\n",
       "<table border=\"1\" class=\"dataframe\">\n",
       "  <thead>\n",
       "    <tr style=\"text-align: right;\">\n",
       "      <th></th>\n",
       "      <th>Album_Name</th>\n",
       "      <th>Artist</th>\n",
       "      <th>Album_ID</th>\n",
       "      <th>Album_Name_Spotify</th>\n",
       "      <th>Artists_Spotify</th>\n",
       "      <th>Track_ID</th>\n",
       "      <th>Track_Name_Spotify</th>\n",
       "    </tr>\n",
       "  </thead>\n",
       "  <tbody>\n",
       "    <tr>\n",
       "      <th>124</th>\n",
       "      <td>\"Skyscraper\" (CD Single)</td>\n",
       "      <td>Demi Lovato</td>\n",
       "      <td>1ypH0eU9RcE6wngSGSqmeY</td>\n",
       "      <td>Unbroken</td>\n",
       "      <td>[Demi Lovato]</td>\n",
       "      <td>4B3RmT3cGvh8By3WY9pbIx</td>\n",
       "      <td>Skyscraper</td>\n",
       "    </tr>\n",
       "    <tr>\n",
       "      <th>474</th>\n",
       "      <td>\"Scream\" (CD Single)</td>\n",
       "      <td>Usher</td>\n",
       "      <td>7eyuQZCLG5tdjWpKZbDE8g</td>\n",
       "      <td>Looking 4 Myself (Expanded Edition)</td>\n",
       "      <td>[Usher]</td>\n",
       "      <td>12eMQUn2GzfsfsQLH53M19</td>\n",
       "      <td>Scream</td>\n",
       "    </tr>\n",
       "    <tr>\n",
       "      <th>409</th>\n",
       "      <td>\"How to Love\" (CD Single)</td>\n",
       "      <td>Lil Wayne</td>\n",
       "      <td>1MGEMBqM3v8OUM2glv7MSx</td>\n",
       "      <td>Tha Carter IV</td>\n",
       "      <td>[Lil Wayne]</td>\n",
       "      <td>36IZGm2IuECLTxMKa9qajO</td>\n",
       "      <td>How To Love</td>\n",
       "    </tr>\n",
       "  </tbody>\n",
       "</table>\n",
       "</div>"
      ],
      "text/plain": [
       "                    Album_Name       Artist                Album_ID  \\\n",
       "124   \"Skyscraper\" (CD Single)  Demi Lovato  1ypH0eU9RcE6wngSGSqmeY   \n",
       "474       \"Scream\" (CD Single)        Usher  7eyuQZCLG5tdjWpKZbDE8g   \n",
       "409  \"How to Love\" (CD Single)    Lil Wayne  1MGEMBqM3v8OUM2glv7MSx   \n",
       "\n",
       "                      Album_Name_Spotify Artists_Spotify  \\\n",
       "124                             Unbroken   [Demi Lovato]   \n",
       "474  Looking 4 Myself (Expanded Edition)         [Usher]   \n",
       "409                        Tha Carter IV     [Lil Wayne]   \n",
       "\n",
       "                   Track_ID Track_Name_Spotify  \n",
       "124  4B3RmT3cGvh8By3WY9pbIx         Skyscraper  \n",
       "474  12eMQUn2GzfsfsQLH53M19             Scream  \n",
       "409  36IZGm2IuECLTxMKa9qajO        How To Love  "
      ]
     },
     "execution_count": 26,
     "metadata": {},
     "output_type": "execute_result"
    }
   ],
   "source": [
    "singles_id = pd.DataFrame(results,columns=['Album_Name','Artist','Album_ID','Album_Name_Spotify','Artists_Spotify','Track_ID',\n",
    "                                             'Track_Name_Spotify'])\n",
    "singles_id.sample(3)"
   ]
  },
  {
   "cell_type": "code",
   "execution_count": 31,
   "metadata": {
    "ExecuteTime": {
     "end_time": "2022-02-23T02:05:08.527700Z",
     "start_time": "2022-02-23T02:05:08.473237Z"
    }
   },
   "outputs": [
    {
     "name": "stdout",
     "output_type": "stream",
     "text": [
      "Number of singles found:  567\n"
     ]
    },
    {
     "data": {
      "text/html": [
       "<div>\n",
       "<style scoped>\n",
       "    .dataframe tbody tr th:only-of-type {\n",
       "        vertical-align: middle;\n",
       "    }\n",
       "\n",
       "    .dataframe tbody tr th {\n",
       "        vertical-align: top;\n",
       "    }\n",
       "\n",
       "    .dataframe thead th {\n",
       "        text-align: right;\n",
       "    }\n",
       "</style>\n",
       "<table border=\"1\" class=\"dataframe\">\n",
       "  <thead>\n",
       "    <tr style=\"text-align: right;\">\n",
       "      <th></th>\n",
       "      <th>Album_Name</th>\n",
       "      <th>Artist</th>\n",
       "      <th>Album_ID</th>\n",
       "      <th>Album_Name_Spotify</th>\n",
       "      <th>Artists_Spotify</th>\n",
       "      <th>Track_ID</th>\n",
       "      <th>Track_Name_Spotify</th>\n",
       "    </tr>\n",
       "  </thead>\n",
       "  <tbody>\n",
       "    <tr>\n",
       "      <th>338</th>\n",
       "      <td>\"Holocene\" (CD Single)</td>\n",
       "      <td>Bon Iver</td>\n",
       "      <td>2LpfNj3vB5rOXfaawLcOBg</td>\n",
       "      <td>Bon Iver</td>\n",
       "      <td>['Bon Iver']</td>\n",
       "      <td>35KiiILklye1JRRctaLUb4</td>\n",
       "      <td>Holocene</td>\n",
       "    </tr>\n",
       "    <tr>\n",
       "      <th>77</th>\n",
       "      <td>\"Like My Mother Does\" (CD Single)</td>\n",
       "      <td>Lauren Alaina</td>\n",
       "      <td>2KdVCn9Q0Q7UQd2L8SpcPX</td>\n",
       "      <td>Wildflower</td>\n",
       "      <td>['Lauren Alaina']</td>\n",
       "      <td>7t8oQycrEftd8NuWdCcfQb</td>\n",
       "      <td>Like My Mother Does</td>\n",
       "    </tr>\n",
       "    <tr>\n",
       "      <th>151</th>\n",
       "      <td>\"Kissin U\" (CD single)</td>\n",
       "      <td>Miranda Cosgrove</td>\n",
       "      <td>3Y5W2onbNSiRWSwROthGnH</td>\n",
       "      <td>Sparks Fly (Deluxe Version)</td>\n",
       "      <td>['Miranda Cosgrove']</td>\n",
       "      <td>3pt4BDnaMo2vznoVSv7b2y</td>\n",
       "      <td>Kissin U</td>\n",
       "    </tr>\n",
       "  </tbody>\n",
       "</table>\n",
       "</div>"
      ],
      "text/plain": [
       "                            Album_Name            Artist  \\\n",
       "338             \"Holocene\" (CD Single)          Bon Iver   \n",
       "77   \"Like My Mother Does\" (CD Single)     Lauren Alaina   \n",
       "151             \"Kissin U\" (CD single)  Miranda Cosgrove   \n",
       "\n",
       "                   Album_ID           Album_Name_Spotify  \\\n",
       "338  2LpfNj3vB5rOXfaawLcOBg                     Bon Iver   \n",
       "77   2KdVCn9Q0Q7UQd2L8SpcPX                   Wildflower   \n",
       "151  3Y5W2onbNSiRWSwROthGnH  Sparks Fly (Deluxe Version)   \n",
       "\n",
       "          Artists_Spotify                Track_ID   Track_Name_Spotify  \n",
       "338          ['Bon Iver']  35KiiILklye1JRRctaLUb4             Holocene  \n",
       "77      ['Lauren Alaina']  7t8oQycrEftd8NuWdCcfQb  Like My Mother Does  \n",
       "151  ['Miranda Cosgrove']  3pt4BDnaMo2vznoVSv7b2y             Kissin U  "
      ]
     },
     "metadata": {},
     "output_type": "display_data"
    }
   ],
   "source": [
    "singles_id.to_csv(\"../data/single_ids.csv\", index=False)\n",
    "\n",
    "singles_id= pd.read_csv(\"../data/single_ids.csv\")\n",
    "print (\"Number of singles found: \", singles_id.shape[0])\n",
    "\n",
    "display(singles_id.sample(3))"
   ]
  },
  {
   "cell_type": "markdown",
   "metadata": {},
   "source": [
    "# Semi-Manual Search:  Display query result and decide match or not"
   ]
  },
  {
   "cell_type": "code",
   "execution_count": 11,
   "metadata": {
    "ExecuteTime": {
     "end_time": "2022-02-08T17:49:15.412485Z",
     "start_time": "2022-02-08T17:49:15.372149Z"
    }
   },
   "outputs": [
    {
     "name": "stdout",
     "output_type": "stream",
     "text": [
      "Found 1645 albums; 561 albums not found yet.\n"
     ]
    }
   ],
   "source": [
    "results = []\n",
    "t1 = time.time()\n",
    "\n",
    "found = albums_id_1[['Album_Name','Artist']].values.tolist() + albums_id_2[['Album_Name','Artist']].values.tolist()\n",
    "found += singles_id_1[['Album_Name', 'Artist']].values.tolist()\n",
    "\n",
    "print (f\"Found {len(found)} albums; {len(album_ratings)-len(found)} albums not found yet.\")"
   ]
  },
  {
   "cell_type": "code",
   "execution_count": null,
   "metadata": {
    "ExecuteTime": {
     "start_time": "2022-02-07T07:39:14.991Z"
    }
   },
   "outputs": [],
   "source": [
    "for (i, row) in album_ratings.iterrows():\n",
    "    \n",
    "    if i%400 ==0 :\n",
    "        time_elapsed = (time.time()-t1)/60\n",
    "        print (f\"Processing {i}th row.  Time elapsed: {time_elapsed:.2f} minutes. Found {len(results)} singles.\")\n",
    "        \n",
    "    album_name, artist_name = row.Album_Name, row.Artist\n",
    "    \n",
    "    if ([album_name, artist_name] not in found) and ('cd single' not in album_name.lower()):  \n",
    "        result = search_album(album_name, artist_name, loose_query = True, manual_match = True)\n",
    "        if result: \n",
    "            results.append((album_name, artist_name, *result))\n",
    "        \n",
    "    \n",
    "print (f\"Semi-manually Found {len(results)} albums.\")\n",
    "\n",
    "albums_id_3 = pd.DataFrame(results,columns=['Album_Name','Artist','Album_ID','Album_Name_Spotify','Artists_Spotify'])"
   ]
  },
  {
   "cell_type": "code",
   "execution_count": 167,
   "metadata": {
    "ExecuteTime": {
     "end_time": "2022-02-07T08:04:35.314691Z",
     "start_time": "2022-02-07T08:04:35.278417Z"
    }
   },
   "outputs": [],
   "source": [
    "albums_id_3 = pd.DataFrame(results,columns=['Album_Name','Artist','Album_ID','Album_Name_Spotify','Artists_Spotify'])"
   ]
  },
  {
   "cell_type": "code",
   "execution_count": 7,
   "metadata": {
    "ExecuteTime": {
     "end_time": "2022-02-08T20:50:01.515939Z",
     "start_time": "2022-02-08T20:50:01.478358Z"
    }
   },
   "outputs": [
    {
     "data": {
      "text/html": [
       "<div>\n",
       "<style scoped>\n",
       "    .dataframe tbody tr th:only-of-type {\n",
       "        vertical-align: middle;\n",
       "    }\n",
       "\n",
       "    .dataframe tbody tr th {\n",
       "        vertical-align: top;\n",
       "    }\n",
       "\n",
       "    .dataframe thead th {\n",
       "        text-align: right;\n",
       "    }\n",
       "</style>\n",
       "<table border=\"1\" class=\"dataframe\">\n",
       "  <thead>\n",
       "    <tr style=\"text-align: right;\">\n",
       "      <th></th>\n",
       "      <th>Album_Name</th>\n",
       "      <th>Artist</th>\n",
       "      <th>Album_ID</th>\n",
       "      <th>Album_Name_Spotify</th>\n",
       "      <th>Artists_Spotify</th>\n",
       "    </tr>\n",
       "  </thead>\n",
       "  <tbody>\n",
       "    <tr>\n",
       "      <th>67</th>\n",
       "      <td>KinderAngst</td>\n",
       "      <td>KinderAngst</td>\n",
       "      <td>3inNtbWFV5y9Cqr2MZUjxQ</td>\n",
       "      <td>Kinder Angst</td>\n",
       "      <td>['KinderAngst']</td>\n",
       "    </tr>\n",
       "    <tr>\n",
       "      <th>6</th>\n",
       "      <td>Swing Around the World</td>\n",
       "      <td>Various Artists</td>\n",
       "      <td>1X70XfhXt2okvamjvuZXVK</td>\n",
       "      <td>Swing Around the World</td>\n",
       "      <td>['Fleur Seule']</td>\n",
       "    </tr>\n",
       "    <tr>\n",
       "      <th>11</th>\n",
       "      <td>Dora's World Adventure!</td>\n",
       "      <td>Various Artists</td>\n",
       "      <td>0WDSy20FE73C0f3QR3x73M</td>\n",
       "      <td>Dora The Explorer World Adventure</td>\n",
       "      <td>['Dora The Explorer']</td>\n",
       "    </tr>\n",
       "  </tbody>\n",
       "</table>\n",
       "</div>"
      ],
      "text/plain": [
       "                 Album_Name           Artist                Album_ID  \\\n",
       "67              KinderAngst      KinderAngst  3inNtbWFV5y9Cqr2MZUjxQ   \n",
       "6    Swing Around the World  Various Artists  1X70XfhXt2okvamjvuZXVK   \n",
       "11  Dora's World Adventure!  Various Artists  0WDSy20FE73C0f3QR3x73M   \n",
       "\n",
       "                   Album_Name_Spotify        Artists_Spotify  \n",
       "67                       Kinder Angst        ['KinderAngst']  \n",
       "6              Swing Around the World        ['Fleur Seule']  \n",
       "11  Dora The Explorer World Adventure  ['Dora The Explorer']  "
      ]
     },
     "execution_count": 7,
     "metadata": {},
     "output_type": "execute_result"
    }
   ],
   "source": [
    "#albums_id_3.to_csv(\"./data/albums_id_3.csv\", index=False)\n",
    "\n",
    "albums_id_3 = pd.read_csv(\"../data/albums_id_3.csv\")\n",
    "albums_id_3.sample(3)"
   ]
  },
  {
   "cell_type": "code",
   "execution_count": 13,
   "metadata": {
    "ExecuteTime": {
     "end_time": "2022-02-08T17:50:22.904006Z",
     "start_time": "2022-02-08T17:50:22.886936Z"
    }
   },
   "outputs": [
    {
     "name": "stdout",
     "output_type": "stream",
     "text": [
      "Found 1745 albums; 461 albums not found yet.\n"
     ]
    }
   ],
   "source": [
    "results = []\n",
    "t1 = time.time()\n",
    "\n",
    "found = albums_id_1[['Album_Name','Artist']].values.tolist() + albums_id_2[['Album_Name','Artist']].values.tolist()\n",
    "found += singles_id_1[['Album_Name', 'Artist']].values.tolist()\n",
    "found += albums_id_3[['Album_Name','Artist']].values.tolist()\n",
    "\n",
    "print (f\"Found {len(found)} albums; {len(album_ratings)-len(found)} albums not found yet.\")"
   ]
  },
  {
   "cell_type": "code",
   "execution_count": null,
   "metadata": {
    "ExecuteTime": {
     "start_time": "2022-02-08T17:50:41.703Z"
    }
   },
   "outputs": [],
   "source": [
    "for (i, row) in album_ratings[200:].iterrows():\n",
    "    \n",
    "    if i%400 ==0 :\n",
    "        time_elapsed = (time.time()-t1)/60\n",
    "        print (f\"Processing {i}th row.  Time elapsed: {time_elapsed:.2f} minutes. Found {len(results)} singles.\")\n",
    "        \n",
    "    album_name, artist_name = row.Album_Name, row.Artist\n",
    "    \n",
    "    if ([album_name, artist_name] not in found) and ('cd single' not in album_name.lower()):  \n",
    "        result = search_album(album_name, artist_name, loose_query = True, manual_match = True)\n",
    "        if result: \n",
    "            results.append((album_name, artist_name, *result))\n",
    "        \n",
    "    \n",
    "print (f\"Semi-manually Found {len(results)} albums.\")\n",
    "\n",
    "albums_id_4 = pd.DataFrame(results,columns=['Album_Name','Artist','Album_ID','Album_Name_Spotify','Artists_Spotify'])"
   ]
  },
  {
   "cell_type": "code",
   "execution_count": 9,
   "metadata": {
    "ExecuteTime": {
     "end_time": "2022-02-08T20:51:16.630031Z",
     "start_time": "2022-02-08T20:51:16.607265Z"
    }
   },
   "outputs": [
    {
     "data": {
      "text/html": [
       "<div>\n",
       "<style scoped>\n",
       "    .dataframe tbody tr th:only-of-type {\n",
       "        vertical-align: middle;\n",
       "    }\n",
       "\n",
       "    .dataframe tbody tr th {\n",
       "        vertical-align: top;\n",
       "    }\n",
       "\n",
       "    .dataframe thead th {\n",
       "        text-align: right;\n",
       "    }\n",
       "</style>\n",
       "<table border=\"1\" class=\"dataframe\">\n",
       "  <thead>\n",
       "    <tr style=\"text-align: right;\">\n",
       "      <th></th>\n",
       "      <th>Album_Name</th>\n",
       "      <th>Artist</th>\n",
       "      <th>Album_ID</th>\n",
       "      <th>Album_Name_Spotify</th>\n",
       "      <th>Artists_Spotify</th>\n",
       "    </tr>\n",
       "  </thead>\n",
       "  <tbody>\n",
       "    <tr>\n",
       "      <th>1</th>\n",
       "      <td>Making Silly Faces</td>\n",
       "      <td>Nick Deysher</td>\n",
       "      <td>2MPgd67X25SmFa01Gj6XRZ</td>\n",
       "      <td>Making Silly Faces</td>\n",
       "      <td>['In The Nick of Time']</td>\n",
       "    </tr>\n",
       "    <tr>\n",
       "      <th>0</th>\n",
       "      <td>The Fresh Beat Band: Music from the Hit TV Sho...</td>\n",
       "      <td>The Fresh Beat Band</td>\n",
       "      <td>6jXrznEcmVQ741Kq7zDbQg</td>\n",
       "      <td>The Fresh Beat Band Vol 2.0: More Music From T...</td>\n",
       "      <td>['The Fresh Beat Band']</td>\n",
       "    </tr>\n",
       "    <tr>\n",
       "      <th>2</th>\n",
       "      <td>Dev2.0</td>\n",
       "      <td>Dev2.0</td>\n",
       "      <td>5yOLkUelCWvz7pNb3Uyvu6</td>\n",
       "      <td>Devo 2.0</td>\n",
       "      <td>['Devo 2.0']</td>\n",
       "    </tr>\n",
       "  </tbody>\n",
       "</table>\n",
       "</div>"
      ],
      "text/plain": [
       "                                          Album_Name               Artist  \\\n",
       "1                                 Making Silly Faces         Nick Deysher   \n",
       "0  The Fresh Beat Band: Music from the Hit TV Sho...  The Fresh Beat Band   \n",
       "2                                             Dev2.0               Dev2.0   \n",
       "\n",
       "                 Album_ID                                 Album_Name_Spotify  \\\n",
       "1  2MPgd67X25SmFa01Gj6XRZ                                 Making Silly Faces   \n",
       "0  6jXrznEcmVQ741Kq7zDbQg  The Fresh Beat Band Vol 2.0: More Music From T...   \n",
       "2  5yOLkUelCWvz7pNb3Uyvu6                                           Devo 2.0   \n",
       "\n",
       "           Artists_Spotify  \n",
       "1  ['In The Nick of Time']  \n",
       "0  ['The Fresh Beat Band']  \n",
       "2             ['Devo 2.0']  "
      ]
     },
     "execution_count": 9,
     "metadata": {},
     "output_type": "execute_result"
    }
   ],
   "source": [
    "##albums_id_4.to_csv(\"./data/albums_id_4.csv\", index=False)\n",
    "\n",
    "albums_id_4 = pd.read_csv(\"../data/albums_id_4.csv\")\n",
    "\n",
    "albums_id_4.sample(3)"
   ]
  },
  {
   "cell_type": "markdown",
   "metadata": {},
   "source": [
    "# Summary: number of albums found"
   ]
  },
  {
   "cell_type": "code",
   "execution_count": 32,
   "metadata": {
    "ExecuteTime": {
     "end_time": "2022-02-23T02:05:21.003804Z",
     "start_time": "2022-02-23T02:05:20.968174Z"
    }
   },
   "outputs": [],
   "source": [
    "import pandas as pd\n",
    "albums_id_1 = pd.read_csv(\"../data/albums_id_1.csv\")\n",
    "albums_id_2 = pd.read_csv(\"../data/albums_id_2.csv\")\n",
    "\n",
    "albums_id_3 = pd.read_csv(\"../data/albums_id_3.csv\")\n",
    "albums_id_4 = pd.read_csv(\"../data/albums_id_4.csv\")\n",
    "singles_id= pd.read_csv(\"../data/single_ids.csv\")"
   ]
  },
  {
   "cell_type": "code",
   "execution_count": 33,
   "metadata": {
    "ExecuteTime": {
     "end_time": "2022-02-23T02:05:22.437004Z",
     "start_time": "2022-02-23T02:05:22.392374Z"
    }
   },
   "outputs": [
    {
     "name": "stdout",
     "output_type": "stream",
     "text": [
      "1181 albums\n",
      "567 singles\n",
      "total: albums + singles =  1748\n"
     ]
    },
    {
     "data": {
      "text/html": [
       "<div>\n",
       "<style scoped>\n",
       "    .dataframe tbody tr th:only-of-type {\n",
       "        vertical-align: middle;\n",
       "    }\n",
       "\n",
       "    .dataframe tbody tr th {\n",
       "        vertical-align: top;\n",
       "    }\n",
       "\n",
       "    .dataframe thead th {\n",
       "        text-align: right;\n",
       "    }\n",
       "</style>\n",
       "<table border=\"1\" class=\"dataframe\">\n",
       "  <thead>\n",
       "    <tr style=\"text-align: right;\">\n",
       "      <th></th>\n",
       "      <th>Album_Name</th>\n",
       "      <th>Artist</th>\n",
       "      <th>Album_ID</th>\n",
       "      <th>Album_Name_Spotify</th>\n",
       "      <th>Artists_Spotify</th>\n",
       "    </tr>\n",
       "  </thead>\n",
       "  <tbody>\n",
       "    <tr>\n",
       "      <th>447</th>\n",
       "      <td>Right Where You Want Me</td>\n",
       "      <td>Jesse McCartney</td>\n",
       "      <td>2fcFCBEV9lCi8eQeLJIDYA</td>\n",
       "      <td>Right Where You Want Me</td>\n",
       "      <td>['Jesse McCartney']</td>\n",
       "    </tr>\n",
       "    <tr>\n",
       "      <th>862</th>\n",
       "      <td>The Music of Grand Theft Auto IV</td>\n",
       "      <td>Various Artists</td>\n",
       "      <td>0lTknHCG5YS0NeVWZuiWzm</td>\n",
       "      <td>The Music of Grand Theft Auto IV</td>\n",
       "      <td>['Various Artists']</td>\n",
       "    </tr>\n",
       "    <tr>\n",
       "      <th>649</th>\n",
       "      <td>Raditude</td>\n",
       "      <td>Weezer</td>\n",
       "      <td>6J2BJd3FQDDlh2ZjL6QIpF</td>\n",
       "      <td>Raditude (Deluxe)</td>\n",
       "      <td>['Weezer']</td>\n",
       "    </tr>\n",
       "  </tbody>\n",
       "</table>\n",
       "</div>"
      ],
      "text/plain": [
       "                           Album_Name           Artist  \\\n",
       "447           Right Where You Want Me  Jesse McCartney   \n",
       "862  The Music of Grand Theft Auto IV  Various Artists   \n",
       "649                          Raditude           Weezer   \n",
       "\n",
       "                   Album_ID                Album_Name_Spotify  \\\n",
       "447  2fcFCBEV9lCi8eQeLJIDYA           Right Where You Want Me   \n",
       "862  0lTknHCG5YS0NeVWZuiWzm  The Music of Grand Theft Auto IV   \n",
       "649  6J2BJd3FQDDlh2ZjL6QIpF                 Raditude (Deluxe)   \n",
       "\n",
       "         Artists_Spotify  \n",
       "447  ['Jesse McCartney']  \n",
       "862  ['Various Artists']  \n",
       "649           ['Weezer']  "
      ]
     },
     "metadata": {},
     "output_type": "display_data"
    },
    {
     "data": {
      "text/html": [
       "<div>\n",
       "<style scoped>\n",
       "    .dataframe tbody tr th:only-of-type {\n",
       "        vertical-align: middle;\n",
       "    }\n",
       "\n",
       "    .dataframe tbody tr th {\n",
       "        vertical-align: top;\n",
       "    }\n",
       "\n",
       "    .dataframe thead th {\n",
       "        text-align: right;\n",
       "    }\n",
       "</style>\n",
       "<table border=\"1\" class=\"dataframe\">\n",
       "  <thead>\n",
       "    <tr style=\"text-align: right;\">\n",
       "      <th></th>\n",
       "      <th>Album_Name</th>\n",
       "      <th>Artist</th>\n",
       "      <th>Album_ID</th>\n",
       "      <th>Album_Name_Spotify</th>\n",
       "      <th>Artists_Spotify</th>\n",
       "      <th>Track_ID</th>\n",
       "      <th>Track_Name_Spotify</th>\n",
       "    </tr>\n",
       "  </thead>\n",
       "  <tbody>\n",
       "    <tr>\n",
       "      <th>168</th>\n",
       "      <td>\"Gonna Get Over You\" (CD Single)</td>\n",
       "      <td>Sara Bareilles</td>\n",
       "      <td>627ukPRwYxyBREHxBq0vGJ</td>\n",
       "      <td>Kaleidoscope Heart</td>\n",
       "      <td>['Sara Bareilles']</td>\n",
       "      <td>45ou2UBThJA4WtFGIiYLI3</td>\n",
       "      <td>Gonna Get Over You</td>\n",
       "    </tr>\n",
       "    <tr>\n",
       "      <th>54</th>\n",
       "      <td>\"Hollywood's Not America\" (CD single)</td>\n",
       "      <td>Ferras</td>\n",
       "      <td>2fYGqY3ELfZ5goVJJjXIWi</td>\n",
       "      <td>Aliens &amp; Rainbows</td>\n",
       "      <td>['Ferras']</td>\n",
       "      <td>5wizvr1JlRR3XWmKkOmEtV</td>\n",
       "      <td>Hollywood's Not America - Matrix Version</td>\n",
       "    </tr>\n",
       "    <tr>\n",
       "      <th>204</th>\n",
       "      <td>\"State of Grace\" (CD Single)</td>\n",
       "      <td>Taylor Swift</td>\n",
       "      <td>6kZ42qRrzov54LcAk4onW9</td>\n",
       "      <td>Red (Taylor's Version)</td>\n",
       "      <td>['Taylor Swift']</td>\n",
       "      <td>6lzc0Al0zfZOIFsFvBS1ki</td>\n",
       "      <td>State Of Grace (Taylor's Version)</td>\n",
       "    </tr>\n",
       "  </tbody>\n",
       "</table>\n",
       "</div>"
      ],
      "text/plain": [
       "                                Album_Name          Artist  \\\n",
       "168       \"Gonna Get Over You\" (CD Single)  Sara Bareilles   \n",
       "54   \"Hollywood's Not America\" (CD single)          Ferras   \n",
       "204           \"State of Grace\" (CD Single)    Taylor Swift   \n",
       "\n",
       "                   Album_ID      Album_Name_Spotify     Artists_Spotify  \\\n",
       "168  627ukPRwYxyBREHxBq0vGJ      Kaleidoscope Heart  ['Sara Bareilles']   \n",
       "54   2fYGqY3ELfZ5goVJJjXIWi       Aliens & Rainbows          ['Ferras']   \n",
       "204  6kZ42qRrzov54LcAk4onW9  Red (Taylor's Version)    ['Taylor Swift']   \n",
       "\n",
       "                   Track_ID                        Track_Name_Spotify  \n",
       "168  45ou2UBThJA4WtFGIiYLI3                        Gonna Get Over You  \n",
       "54   5wizvr1JlRR3XWmKkOmEtV  Hollywood's Not America - Matrix Version  \n",
       "204  6lzc0Al0zfZOIFsFvBS1ki         State Of Grace (Taylor's Version)  "
      ]
     },
     "metadata": {},
     "output_type": "display_data"
    }
   ],
   "source": [
    "albums_df = pd.concat([albums_id_1, albums_id_2, albums_id_3, albums_id_4])\n",
    "print (albums_df.shape[0], \"albums\")\n",
    "print (singles_id_1.shape[0], \"singles\")\n",
    "print (\"total: albums + singles = \", albums_df.shape[0] + singles_id.shape[0])\n",
    "\n",
    "display(albums_df.sample(3))\n",
    "display(singles_id.sample(3))"
   ]
  },
  {
   "cell_type": "code",
   "execution_count": 30,
   "metadata": {
    "ExecuteTime": {
     "end_time": "2022-02-23T02:00:04.726444Z",
     "start_time": "2022-02-23T02:00:04.693584Z"
    }
   },
   "outputs": [],
   "source": [
    "albums_df.to_csv(\"../data/album_ids.csv\", index = False)"
   ]
  }
 ],
 "metadata": {
  "kernelspec": {
   "display_name": "Python 3 (ipykernel)",
   "language": "python",
   "name": "python3"
  },
  "language_info": {
   "codemirror_mode": {
    "name": "ipython",
    "version": 3
   },
   "file_extension": ".py",
   "mimetype": "text/x-python",
   "name": "python",
   "nbconvert_exporter": "python",
   "pygments_lexer": "ipython3",
   "version": "3.9.10"
  }
 },
 "nbformat": 4,
 "nbformat_minor": 4
}
