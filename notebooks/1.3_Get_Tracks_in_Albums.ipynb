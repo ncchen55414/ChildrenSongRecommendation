{
 "cells": [
  {
   "cell_type": "markdown",
   "id": "0c47be4d",
   "metadata": {},
   "source": [
    "# Summary\n",
    "\n",
    "For each album with album_ID, use Spotify API to get track_ID of tracks in the album.\n",
    "\n",
    "- Inupt \n",
    "     - 1181 albums and 567 singles\n",
    "- Output\n",
    "     - 17505 track + 567 tracks = 18074 tracks"
   ]
  },
  {
   "cell_type": "markdown",
   "id": "04b1612a",
   "metadata": {},
   "source": [
    "# Import modules and credentials"
   ]
  },
  {
   "cell_type": "code",
   "execution_count": 1,
   "id": "d7cc9411",
   "metadata": {
    "ExecuteTime": {
     "end_time": "2022-02-08T20:41:49.045549Z",
     "start_time": "2022-02-08T20:41:47.197186Z"
    }
   },
   "outputs": [],
   "source": [
    "import numpy as np\n",
    "import pandas as pd\n",
    "import matplotlib.pyplot as plt\n",
    "import seaborn as sns\n",
    "sns.set()\n",
    "import spotipy\n",
    "import os\n",
    "import sys\n",
    "import re\n",
    "import time \n",
    "%matplotlib inline\n",
    "\n",
    "import spotipy\n",
    "from spotipy.oauth2 import SpotifyClientCredentials\n",
    "\n",
    "from dotenv import load_dotenv\n",
    "%load_ext dotenv\n",
    "%dotenv\n",
    "\n",
    "\n",
    "client_id = os.environ['SPOTIFY_CLIENT_ID']\n",
    "client_secret = os.environ['SPOTIFY_CLIENT_SECRET']\n",
    "spotify = spotipy.Spotify(\n",
    "    client_credentials_manager=SpotifyClientCredentials(client_id = client_id, client_secret=client_secret))"
   ]
  },
  {
   "cell_type": "markdown",
   "id": "b144b86e",
   "metadata": {},
   "source": [
    "# For each albumID, get trackIDs."
   ]
  },
  {
   "cell_type": "code",
   "execution_count": 16,
   "id": "e148aa01",
   "metadata": {
    "ExecuteTime": {
     "end_time": "2022-02-08T20:53:37.244393Z",
     "start_time": "2022-02-08T20:53:37.217914Z"
    }
   },
   "outputs": [
    {
     "data": {
      "text/html": [
       "<div>\n",
       "<style scoped>\n",
       "    .dataframe tbody tr th:only-of-type {\n",
       "        vertical-align: middle;\n",
       "    }\n",
       "\n",
       "    .dataframe tbody tr th {\n",
       "        vertical-align: top;\n",
       "    }\n",
       "\n",
       "    .dataframe thead th {\n",
       "        text-align: right;\n",
       "    }\n",
       "</style>\n",
       "<table border=\"1\" class=\"dataframe\">\n",
       "  <thead>\n",
       "    <tr style=\"text-align: right;\">\n",
       "      <th></th>\n",
       "      <th>Album_Name</th>\n",
       "      <th>Artist</th>\n",
       "      <th>Album_ID</th>\n",
       "      <th>Album_Name_Spotify</th>\n",
       "      <th>Artists_Spotify</th>\n",
       "    </tr>\n",
       "  </thead>\n",
       "  <tbody>\n",
       "    <tr>\n",
       "      <th>221</th>\n",
       "      <td>Cheetah-licious Christmas</td>\n",
       "      <td>The Cheetah Girls</td>\n",
       "      <td>2dCaJ5ten3q3AbJ2VJZ8MY</td>\n",
       "      <td>The Cheetah Girls: A Cheetah-licious Christmas</td>\n",
       "      <td>['The Cheetah Girls']</td>\n",
       "    </tr>\n",
       "    <tr>\n",
       "      <th>1178</th>\n",
       "      <td>The Fresh Beat Band: Music from the Hit TV Sho...</td>\n",
       "      <td>The Fresh Beat Band</td>\n",
       "      <td>6jXrznEcmVQ741Kq7zDbQg</td>\n",
       "      <td>The Fresh Beat Band Vol 2.0: More Music From T...</td>\n",
       "      <td>['The Fresh Beat Band']</td>\n",
       "    </tr>\n",
       "    <tr>\n",
       "      <th>229</th>\n",
       "      <td>T-Squad</td>\n",
       "      <td>T-Squad</td>\n",
       "      <td>4rg5KjkmvXLtW9Hd1ReNY7</td>\n",
       "      <td>T-Squad</td>\n",
       "      <td>['T-Squad']</td>\n",
       "    </tr>\n",
       "  </tbody>\n",
       "</table>\n",
       "</div>"
      ],
      "text/plain": [
       "                                             Album_Name               Artist  \\\n",
       "221                           Cheetah-licious Christmas    The Cheetah Girls   \n",
       "1178  The Fresh Beat Band: Music from the Hit TV Sho...  The Fresh Beat Band   \n",
       "229                                             T-Squad              T-Squad   \n",
       "\n",
       "                    Album_ID  \\\n",
       "221   2dCaJ5ten3q3AbJ2VJZ8MY   \n",
       "1178  6jXrznEcmVQ741Kq7zDbQg   \n",
       "229   4rg5KjkmvXLtW9Hd1ReNY7   \n",
       "\n",
       "                                     Album_Name_Spotify  \\\n",
       "221      The Cheetah Girls: A Cheetah-licious Christmas   \n",
       "1178  The Fresh Beat Band Vol 2.0: More Music From T...   \n",
       "229                                             T-Squad   \n",
       "\n",
       "              Artists_Spotify  \n",
       "221     ['The Cheetah Girls']  \n",
       "1178  ['The Fresh Beat Band']  \n",
       "229               ['T-Squad']  "
      ]
     },
     "metadata": {},
     "output_type": "display_data"
    },
    {
     "name": "stdout",
     "output_type": "stream",
     "text": [
      "Number of albums:  1181\n"
     ]
    }
   ],
   "source": [
    "albums_df = pd.read_csv(\"../data/album_ids.csv\")\n",
    "\n",
    "display(albums_df.sample(3))\n",
    "print (\"Number of albums: \", albums_df.shape[0])"
   ]
  },
  {
   "cell_type": "code",
   "execution_count": 13,
   "id": "0ad9a672",
   "metadata": {
    "ExecuteTime": {
     "end_time": "2022-02-08T20:52:44.572874Z",
     "start_time": "2022-02-08T20:52:32.765436Z"
    }
   },
   "outputs": [],
   "source": [
    "for _, row in albums_df.iterrows():\n",
    "    album_name, album_id = row['Album_Name'], row['Album_ID']\n",
    "    \n",
    "    album = spotify.album(album_id)\n",
    "    tracks = []\n",
    "    for track in album['tracks']['items']:\n",
    "        tracks.append(track['id'])\n",
    "        album_tracks[album_id]=tracks\n",
    "            \n",
    "\n",
    "album_tracks_df = pd.DataFrame([(album_id, track_id) for album_id in album_tracks for track_id in album_tracks[album_id]], columns=['Album_ID','Track_ID'])\n",
    "album_tracks_df.to_csv(\"../data/album_tracks.csv\", index = False)"
   ]
  },
  {
   "cell_type": "code",
   "execution_count": 24,
   "id": "c88d7ca3",
   "metadata": {
    "ExecuteTime": {
     "end_time": "2022-02-08T20:58:04.220320Z",
     "start_time": "2022-02-08T20:58:04.154945Z"
    }
   },
   "outputs": [
    {
     "data": {
      "text/html": [
       "<div>\n",
       "<style scoped>\n",
       "    .dataframe tbody tr th:only-of-type {\n",
       "        vertical-align: middle;\n",
       "    }\n",
       "\n",
       "    .dataframe tbody tr th {\n",
       "        vertical-align: top;\n",
       "    }\n",
       "\n",
       "    .dataframe thead th {\n",
       "        text-align: right;\n",
       "    }\n",
       "</style>\n",
       "<table border=\"1\" class=\"dataframe\">\n",
       "  <thead>\n",
       "    <tr style=\"text-align: right;\">\n",
       "      <th></th>\n",
       "      <th>Album_ID</th>\n",
       "      <th>Track_ID</th>\n",
       "    </tr>\n",
       "  </thead>\n",
       "  <tbody>\n",
       "    <tr>\n",
       "      <th>0</th>\n",
       "      <td>3Bj9gANIphLWtsNj3mw1bI</td>\n",
       "      <td>2FPQI1LRwWszttbRG8hknk</td>\n",
       "    </tr>\n",
       "    <tr>\n",
       "      <th>1</th>\n",
       "      <td>3Bj9gANIphLWtsNj3mw1bI</td>\n",
       "      <td>6pOoswwC1lNBI2TapMdaEW</td>\n",
       "    </tr>\n",
       "    <tr>\n",
       "      <th>2</th>\n",
       "      <td>3Bj9gANIphLWtsNj3mw1bI</td>\n",
       "      <td>2EEwSq98rKwlRWT7sNCLRc</td>\n",
       "    </tr>\n",
       "  </tbody>\n",
       "</table>\n",
       "</div>"
      ],
      "text/plain": [
       "                 Album_ID                Track_ID\n",
       "0  3Bj9gANIphLWtsNj3mw1bI  2FPQI1LRwWszttbRG8hknk\n",
       "1  3Bj9gANIphLWtsNj3mw1bI  6pOoswwC1lNBI2TapMdaEW\n",
       "2  3Bj9gANIphLWtsNj3mw1bI  2EEwSq98rKwlRWT7sNCLRc"
      ]
     },
     "metadata": {},
     "output_type": "display_data"
    },
    {
     "data": {
      "text/html": [
       "<div>\n",
       "<style scoped>\n",
       "    .dataframe tbody tr th:only-of-type {\n",
       "        vertical-align: middle;\n",
       "    }\n",
       "\n",
       "    .dataframe tbody tr th {\n",
       "        vertical-align: top;\n",
       "    }\n",
       "\n",
       "    .dataframe thead th {\n",
       "        text-align: right;\n",
       "    }\n",
       "</style>\n",
       "<table border=\"1\" class=\"dataframe\">\n",
       "  <thead>\n",
       "    <tr style=\"text-align: right;\">\n",
       "      <th></th>\n",
       "      <th>Album_Name</th>\n",
       "      <th>Track_ID</th>\n",
       "    </tr>\n",
       "  </thead>\n",
       "  <tbody>\n",
       "    <tr>\n",
       "      <th>0</th>\n",
       "      <td>\"All Is Love\" (CD single)</td>\n",
       "      <td>6SExQ9H4mX00FIhjffFM2z</td>\n",
       "    </tr>\n",
       "    <tr>\n",
       "      <th>1</th>\n",
       "      <td>\"Wash Your Hands\" (CD single)</td>\n",
       "      <td>5gzOuRPg48fglThPc84goP</td>\n",
       "    </tr>\n",
       "    <tr>\n",
       "      <th>2</th>\n",
       "      <td>\"Just Like a Rockstar\" (CD Single)</td>\n",
       "      <td>1b8NAn2ehmesKq4luLIfAc</td>\n",
       "    </tr>\n",
       "  </tbody>\n",
       "</table>\n",
       "</div>"
      ],
      "text/plain": [
       "                           Album_Name                Track_ID\n",
       "0           \"All Is Love\" (CD single)  6SExQ9H4mX00FIhjffFM2z\n",
       "1       \"Wash Your Hands\" (CD single)  5gzOuRPg48fglThPc84goP\n",
       "2  \"Just Like a Rockstar\" (CD Single)  1b8NAn2ehmesKq4luLIfAc"
      ]
     },
     "metadata": {},
     "output_type": "display_data"
    },
    {
     "name": "stdout",
     "output_type": "stream",
     "text": [
      "Number of tracks (from albums excluding singles):  17507\n",
      "Number of tracks (from singles):  567\n",
      "Total Number of tracks:  18074\n"
     ]
    }
   ],
   "source": [
    "album_tracks_df = pd.read_csv(\"../data/album_tracks.csv\")\n",
    "single_tracks_df = pd.read_csv(\"../data/single_ids.csv\")\n",
    "\n",
    "\n",
    "display(album_tracks_df.head(3))\n",
    "display(single_tracks_df[['Album_Name','Track_ID']].head(3))\n",
    "\n",
    "print (\"Number of tracks (from albums excluding singles): \", album_tracks_df.shape[0])\n",
    "print (\"Number of tracks (from singles): \", single_tracks_df.shape[0])\n",
    "print (\"Total Number of tracks: \", album_tracks_df.shape[0]+single_tracks_df.shape[0])\n"
   ]
  }
 ],
 "metadata": {
  "kernelspec": {
   "display_name": "Python 3 (ipykernel)",
   "language": "python",
   "name": "python3"
  },
  "language_info": {
   "codemirror_mode": {
    "name": "ipython",
    "version": 3
   },
   "file_extension": ".py",
   "mimetype": "text/x-python",
   "name": "python",
   "nbconvert_exporter": "python",
   "pygments_lexer": "ipython3",
   "version": "3.9.7"
  }
 },
 "nbformat": 4,
 "nbformat_minor": 5
}
