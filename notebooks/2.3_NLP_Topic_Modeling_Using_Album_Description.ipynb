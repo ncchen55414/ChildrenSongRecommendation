{
 "cells": [
  {
   "cell_type": "markdown",
   "id": "9f655a0d",
   "metadata": {},
   "source": [
    "# Load Data"
   ]
  },
  {
   "cell_type": "code",
   "execution_count": 4,
   "id": "90c61297",
   "metadata": {
    "ExecuteTime": {
     "end_time": "2022-03-07T22:46:20.458076Z",
     "start_time": "2022-03-07T22:46:20.439388Z"
    }
   },
   "outputs": [],
   "source": [
    "import seaborn as sns\n",
    "import re"
   ]
  },
  {
   "cell_type": "code",
   "execution_count": 5,
   "id": "e9cc0f76",
   "metadata": {
    "ExecuteTime": {
     "end_time": "2022-03-07T22:46:20.520033Z",
     "start_time": "2022-03-07T22:46:20.459418Z"
    }
   },
   "outputs": [
    {
     "name": "stdout",
     "output_type": "stream",
     "text": [
      "Columns of df:  [(0, 'Title'), (1, 'Age'), (2, 'Age Group'), (3, 'Artist'), (4, 'Year'), (5, 'Description')] \n",
      "\n",
      "Shape of df:  (2206, 6) \n",
      "\n",
      "Number of albums having description:  2206 \n",
      "\n"
     ]
    },
    {
     "data": {
      "text/html": [
       "<div>\n",
       "<style scoped>\n",
       "    .dataframe tbody tr th:only-of-type {\n",
       "        vertical-align: middle;\n",
       "    }\n",
       "\n",
       "    .dataframe tbody tr th {\n",
       "        vertical-align: top;\n",
       "    }\n",
       "\n",
       "    .dataframe thead th {\n",
       "        text-align: right;\n",
       "    }\n",
       "</style>\n",
       "<table border=\"1\" class=\"dataframe\">\n",
       "  <thead>\n",
       "    <tr style=\"text-align: right;\">\n",
       "      <th></th>\n",
       "      <th>Title</th>\n",
       "      <th>Age</th>\n",
       "      <th>Age Group</th>\n",
       "      <th>Artist</th>\n",
       "      <th>Year</th>\n",
       "      <th>Description</th>\n",
       "    </tr>\n",
       "  </thead>\n",
       "  <tbody>\n",
       "    <tr>\n",
       "      <th>0</th>\n",
       "      <td>Sesame Street: Halloween Collection</td>\n",
       "      <td>2</td>\n",
       "      <td>Toodler</td>\n",
       "      <td>Sesame Street</td>\n",
       "      <td>2012</td>\n",
       "      <td>Playful, not-so-spooky Halloween songs for th...</td>\n",
       "    </tr>\n",
       "    <tr>\n",
       "      <th>1</th>\n",
       "      <td>A Child's Celebration of Rock 'n' Roll</td>\n",
       "      <td>2</td>\n",
       "      <td>Toodler</td>\n",
       "      <td>Various Artists</td>\n",
       "      <td>1996</td>\n",
       "      <td>Songs to get toddlers and teens energized.</td>\n",
       "    </tr>\n",
       "    <tr>\n",
       "      <th>2</th>\n",
       "      <td>Wake up Jeff</td>\n",
       "      <td>2</td>\n",
       "      <td>Toodler</td>\n",
       "      <td>The Wiggles</td>\n",
       "      <td>2000</td>\n",
       "      <td>Songs and scenes certain to keep kids attenti...</td>\n",
       "    </tr>\n",
       "  </tbody>\n",
       "</table>\n",
       "</div>"
      ],
      "text/plain": [
       "                                    Title  Age Age Group           Artist  \\\n",
       "0     Sesame Street: Halloween Collection    2   Toodler    Sesame Street   \n",
       "1  A Child's Celebration of Rock 'n' Roll    2   Toodler  Various Artists   \n",
       "2                            Wake up Jeff    2   Toodler      The Wiggles   \n",
       "\n",
       "   Year                                        Description  \n",
       "0  2012   Playful, not-so-spooky Halloween songs for th...  \n",
       "1  1996        Songs to get toddlers and teens energized.   \n",
       "2  2000   Songs and scenes certain to keep kids attenti...  "
      ]
     },
     "execution_count": 5,
     "metadata": {},
     "output_type": "execute_result"
    }
   ],
   "source": [
    "import pandas as pd\n",
    "\n",
    "df = pd.read_csv(\"../data/album_age_ratings.csv\")\n",
    "print (\"Columns of df: \",  list(enumerate(df.columns)), \"\\n\")\n",
    "\n",
    "print (\"Shape of df: \", df.shape, \"\\n\")\n",
    "\n",
    "print (\"Number of albums having description: \", df['Description'].notnull().sum(), \"\\n\")\n",
    "\n",
    "df.head(3)"
   ]
  },
  {
   "cell_type": "markdown",
   "id": "4bf9a0a0",
   "metadata": {},
   "source": [
    "# Text Processing"
   ]
  },
  {
   "cell_type": "code",
   "execution_count": 6,
   "id": "f1cc3b77",
   "metadata": {
    "ExecuteTime": {
     "end_time": "2022-03-07T22:46:23.157302Z",
     "start_time": "2022-03-07T22:46:20.520033Z"
    }
   },
   "outputs": [],
   "source": [
    "import spacy\n",
    "nlp = spacy.load(\"en\", disable=['parser','ner','tagger', 'textcat'])"
   ]
  },
  {
   "cell_type": "code",
   "execution_count": 7,
   "id": "9abab84d",
   "metadata": {
    "ExecuteTime": {
     "end_time": "2022-03-07T22:46:23.218656Z",
     "start_time": "2022-03-07T22:46:23.157652Z"
    }
   },
   "outputs": [],
   "source": [
    "import re\n",
    "\n",
    "def my_lemmatizer(doc):\n",
    "    doc_cleaned = ' '.join(re.findall(r'\\b\\w[\\w\\']+\\b', doc))\n",
    "    return [ w.lemma_.lower() for w in nlp(doc_cleaned) \n",
    "                      if w.lemma_ not in ['_', '.', '-PRON-'] ]\n",
    "\n",
    "stopwords = spacy.lang.en.stop_words.STOP_WORDS\n",
    "\n",
    "stopwords = set(my_lemmatizer(' '.join(list(stopwords))))"
   ]
  },
  {
   "cell_type": "markdown",
   "id": "55957ff2",
   "metadata": {},
   "source": [
    "# Bag-of-Words Model + K-Mean clustering"
   ]
  },
  {
   "cell_type": "code",
   "execution_count": 8,
   "id": "01112c22",
   "metadata": {
    "ExecuteTime": {
     "end_time": "2022-03-07T22:46:24.200315Z",
     "start_time": "2022-03-07T22:46:23.218656Z"
    }
   },
   "outputs": [],
   "source": [
    "from sklearn.feature_extraction.text import CountVectorizer, TfidfTransformer\n",
    "max_features = 1000\n",
    "\n",
    "cv = CountVectorizer(tokenizer=my_lemmatizer, stop_words=stopwords, \n",
    "                     min_df=1, max_df=0.9, max_features=max_features)\n",
    "counts = cv.fit_transform(df['Description'])\n",
    "\n",
    "tf = TfidfTransformer()\n",
    "matrix = tf.fit_transform(counts)"
   ]
  },
  {
   "cell_type": "code",
   "execution_count": 9,
   "id": "02a8c689",
   "metadata": {
    "ExecuteTime": {
     "end_time": "2022-03-07T22:46:24.232159Z",
     "start_time": "2022-03-07T22:46:24.201198Z"
    }
   },
   "outputs": [
    {
     "data": {
      "text/plain": [
       "['tedious',\n",
       " 'fun',\n",
       " 'sexist',\n",
       " 'version',\n",
       " 'gentle',\n",
       " 'mar',\n",
       " 'clever',\n",
       " 'intense',\n",
       " 'casual',\n",
       " 'duo']"
      ]
     },
     "execution_count": 9,
     "metadata": {},
     "output_type": "execute_result"
    }
   ],
   "source": [
    "import random   \n",
    "random.sample(list(cv.get_feature_names_out()), 10)    #random select 10 words from CountVectorizer"
   ]
  },
  {
   "cell_type": "code",
   "execution_count": 10,
   "id": "eafa0453",
   "metadata": {
    "ExecuteTime": {
     "end_time": "2022-03-07T22:46:27.338089Z",
     "start_time": "2022-03-07T22:46:24.235410Z"
    }
   },
   "outputs": [
    {
     "name": "stdout",
     "output_type": "stream",
     "text": [
      "Cluster 0: \n",
      "love family sex message album cd rock fun music song \n",
      "\n",
      "Cluster 1: \n",
      "idol country rock squeaky pop tune love song track clean \n",
      "\n",
      "Cluster 2: \n",
      "parent tune old young okay music fun friendly song kid \n",
      "\n",
      "Cluster 3: \n",
      "country fun star dance electro song punk tweens rock pop \n",
      "\n",
      "Cluster 4: \n",
      "well mature song explicit tweens okay old rap tune teen \n",
      "\n"
     ]
    }
   ],
   "source": [
    "from sklearn.cluster import KMeans\n",
    "number_of_clusters = 5\n",
    "\n",
    "kmc_5 = KMeans(n_clusters=number_of_clusters, n_init=3, random_state=117)  # random_state for consistency\n",
    "kmc_5.fit(matrix)\n",
    "kmc_5.cluster_centers_\n",
    "import numpy as np\n",
    "\n",
    "number_of_top_words = 10\n",
    "\n",
    "cluster_words = np.argsort(kmc_5.cluster_centers_, axis=1)\n",
    "terms = cv.get_feature_names_out()\n",
    "\n",
    "top_words = set()\n",
    "\n",
    "for i in range(number_of_clusters):\n",
    "    print('Cluster {}: '.format(i))\n",
    "    print(' '.join([terms[k] for k in cluster_words[i][-number_of_top_words:]]),'\\n')\n",
    "    top_words = top_words.union([terms[k] for k in cluster_words[i][-number_of_top_words:]])\n",
    "    \n",
    "top_words = sorted(list(top_words))"
   ]
  },
  {
   "cell_type": "code",
   "execution_count": 11,
   "id": "808a3019",
   "metadata": {
    "ExecuteTime": {
     "end_time": "2022-03-07T22:46:27.413830Z",
     "start_time": "2022-03-07T22:46:27.341817Z"
    }
   },
   "outputs": [
    {
     "data": {
      "text/html": [
       "<div>\n",
       "<style scoped>\n",
       "    .dataframe tbody tr th:only-of-type {\n",
       "        vertical-align: middle;\n",
       "    }\n",
       "\n",
       "    .dataframe tbody tr th {\n",
       "        vertical-align: top;\n",
       "    }\n",
       "\n",
       "    .dataframe thead th {\n",
       "        text-align: right;\n",
       "    }\n",
       "</style>\n",
       "<table border=\"1\" class=\"dataframe\">\n",
       "  <thead>\n",
       "    <tr style=\"text-align: right;\">\n",
       "      <th></th>\n",
       "      <th>album</th>\n",
       "      <th>cd</th>\n",
       "      <th>clean</th>\n",
       "      <th>country</th>\n",
       "      <th>dance</th>\n",
       "      <th>electro</th>\n",
       "      <th>explicit</th>\n",
       "      <th>family</th>\n",
       "      <th>friendly</th>\n",
       "      <th>fun</th>\n",
       "      <th>...</th>\n",
       "      <th>song</th>\n",
       "      <th>squeaky</th>\n",
       "      <th>star</th>\n",
       "      <th>teen</th>\n",
       "      <th>track</th>\n",
       "      <th>tune</th>\n",
       "      <th>tweens</th>\n",
       "      <th>well</th>\n",
       "      <th>young</th>\n",
       "      <th>Cluster</th>\n",
       "    </tr>\n",
       "  </thead>\n",
       "  <tbody>\n",
       "    <tr>\n",
       "      <th>55</th>\n",
       "      <td>0</td>\n",
       "      <td>0</td>\n",
       "      <td>0</td>\n",
       "      <td>0</td>\n",
       "      <td>0</td>\n",
       "      <td>0</td>\n",
       "      <td>0</td>\n",
       "      <td>0</td>\n",
       "      <td>0</td>\n",
       "      <td>0</td>\n",
       "      <td>...</td>\n",
       "      <td>0</td>\n",
       "      <td>0</td>\n",
       "      <td>0</td>\n",
       "      <td>0</td>\n",
       "      <td>0</td>\n",
       "      <td>0</td>\n",
       "      <td>0</td>\n",
       "      <td>0</td>\n",
       "      <td>0</td>\n",
       "      <td>0</td>\n",
       "    </tr>\n",
       "    <tr>\n",
       "      <th>1035</th>\n",
       "      <td>0</td>\n",
       "      <td>0</td>\n",
       "      <td>0</td>\n",
       "      <td>0</td>\n",
       "      <td>0</td>\n",
       "      <td>0</td>\n",
       "      <td>0</td>\n",
       "      <td>0</td>\n",
       "      <td>0</td>\n",
       "      <td>0</td>\n",
       "      <td>...</td>\n",
       "      <td>0</td>\n",
       "      <td>0</td>\n",
       "      <td>0</td>\n",
       "      <td>0</td>\n",
       "      <td>0</td>\n",
       "      <td>0</td>\n",
       "      <td>0</td>\n",
       "      <td>0</td>\n",
       "      <td>0</td>\n",
       "      <td>0</td>\n",
       "    </tr>\n",
       "    <tr>\n",
       "      <th>758</th>\n",
       "      <td>0</td>\n",
       "      <td>0</td>\n",
       "      <td>1</td>\n",
       "      <td>0</td>\n",
       "      <td>0</td>\n",
       "      <td>0</td>\n",
       "      <td>0</td>\n",
       "      <td>0</td>\n",
       "      <td>0</td>\n",
       "      <td>0</td>\n",
       "      <td>...</td>\n",
       "      <td>1</td>\n",
       "      <td>0</td>\n",
       "      <td>0</td>\n",
       "      <td>0</td>\n",
       "      <td>0</td>\n",
       "      <td>0</td>\n",
       "      <td>0</td>\n",
       "      <td>0</td>\n",
       "      <td>0</td>\n",
       "      <td>1</td>\n",
       "    </tr>\n",
       "  </tbody>\n",
       "</table>\n",
       "<p>3 rows × 34 columns</p>\n",
       "</div>"
      ],
      "text/plain": [
       "      album  cd  clean  country  dance  electro  explicit  family  friendly  \\\n",
       "55        0   0      0        0      0        0         0       0         0   \n",
       "1035      0   0      0        0      0        0         0       0         0   \n",
       "758       0   0      1        0      0        0         0       0         0   \n",
       "\n",
       "      fun  ...  song  squeaky  star  teen  track  tune  tweens  well  young  \\\n",
       "55      0  ...     0        0     0     0      0     0       0     0      0   \n",
       "1035    0  ...     0        0     0     0      0     0       0     0      0   \n",
       "758     0  ...     1        0     0     0      0     0       0     0      0   \n",
       "\n",
       "      Cluster  \n",
       "55          0  \n",
       "1035        0  \n",
       "758         1  \n",
       "\n",
       "[3 rows x 34 columns]"
      ]
     },
     "execution_count": 11,
     "metadata": {},
     "output_type": "execute_result"
    }
   ],
   "source": [
    "word_df = pd.DataFrame(counts.toarray(), columns=terms)[top_words]\n",
    "word_df['Cluster'] = kmc_5.labels_.tolist()\n",
    "word_df.sample(3)"
   ]
  },
  {
   "cell_type": "code",
   "execution_count": 12,
   "id": "6882381f",
   "metadata": {
    "ExecuteTime": {
     "end_time": "2022-03-07T22:46:27.818411Z",
     "start_time": "2022-03-07T22:46:27.414883Z"
    }
   },
   "outputs": [
    {
     "data": {
      "image/png": "[encoded data removed]",
      "text/plain": [
       "<Figure size 432x288 with 1 Axes>"
      ]
     },
     "metadata": {
      "needs_background": "light"
     },
     "output_type": "display_data"
    }
   ],
   "source": [
    "word_df.groupby('Cluster').count()[top_words[0]].\\\n",
    "    plot.bar(rot=0).\\\n",
    "    set(ylabel='Document count',\n",
    "    title='Number of Documents per Cluster');"
   ]
  },
  {
   "cell_type": "markdown",
   "id": "3c09a8bb",
   "metadata": {},
   "source": [
    "# Latent Dirichlet allocation (LDA)"
   ]
  },
  {
   "cell_type": "code",
   "execution_count": 13,
   "id": "d747c0dc",
   "metadata": {
    "ExecuteTime": {
     "end_time": "2022-03-07T22:46:28.620717Z",
     "start_time": "2022-03-07T22:46:27.818923Z"
    }
   },
   "outputs": [],
   "source": [
    "import gensim\n",
    "\n",
    "import re\n",
    "def process_words(texts, stop_words=set()):\n",
    "    result = []\n",
    "    for t in texts:\n",
    "        t = ' '.join(re.findall(r'\\b\\w[\\w\\']+\\b', t))\n",
    "        doc = nlp(t)\n",
    "        result.append([token.lemma_.lower() for token in doc if token.lemma_ not in stop_words])\n",
    "    return result\n",
    "\n",
    "processed_text = process_words(df['Description'], stop_words=stopwords.union(['-PRON-','song','album','cd','track']))"
   ]
  },
  {
   "cell_type": "code",
   "execution_count": 14,
   "id": "c0a0bfd4",
   "metadata": {
    "ExecuteTime": {
     "end_time": "2022-03-07T22:46:33.586194Z",
     "start_time": "2022-03-07T22:46:28.620717Z"
    }
   },
   "outputs": [
    {
     "name": "stdout",
     "output_type": "stream",
     "text": [
      "Number of unique tokens: 2528\n"
     ]
    }
   ],
   "source": [
    "dictionary = gensim.corpora.Dictionary(processed_text)\n",
    "print('Number of unique tokens: {}'.format(len(dictionary)))\n",
    "corpus = [dictionary.doc2bow(t) for t in processed_text]\n",
    "num_topics = 5\n",
    "\n",
    "lda_model = gensim.models.ldamodel.LdaModel(corpus=corpus, \n",
    "                                            id2word=dictionary,\n",
    "                                            num_topics=num_topics, \n",
    "                                            random_state=117, update_every=1,\n",
    "                                            chunksize=1500, \n",
    "                                            passes=5, iterations=10,\n",
    "                                            alpha='asymmetric', eta=1/100,\n",
    "                                            per_word_topics=True)"
   ]
  },
  {
   "cell_type": "code",
   "execution_count": null,
   "id": "f0424f2a",
   "metadata": {},
   "outputs": [],
   "source": []
  },
  {
   "cell_type": "code",
   "execution_count": 15,
   "id": "ed2644fe",
   "metadata": {
    "ExecuteTime": {
     "end_time": "2022-03-07T22:46:33.615347Z",
     "start_time": "2022-03-07T22:46:33.586828Z"
    }
   },
   "outputs": [
    {
     "name": "stdout",
     "output_type": "stream",
     "text": [
      "[(0,\n",
      "  '0.024*\"kid\" + 0.023*\"teen\" + 0.023*\"clean\" + 0.021*\"pop\" + 0.017*\"mature\"'),\n",
      " (1,\n",
      "  '0.030*\"tune\" + 0.025*\"rap\" + 0.024*\"clean\" + 0.022*\"message\" + 0.018*\"sex\"'),\n",
      " (2,\n",
      "  '0.034*\"talk\" + 0.034*\"sound\" + 0.032*\"love\" + 0.029*\"kid\" + 0.029*\"lyric\"'),\n",
      " (3,\n",
      "  '0.056*\"fun\" + 0.034*\"rock\" + 0.033*\"pop\" + 0.027*\"country\" + '\n",
      "  '0.026*\"message\"'),\n",
      " (4, '0.075*\"edgy\" + 0.073*\"hip\" + 0.066*\"hop\" + 0.042*\"graphic\" + 0.041*\"ok\"')]\n"
     ]
    }
   ],
   "source": [
    "from pprint import pprint\n",
    "\n",
    "pprint(lda_model.print_topics(num_words=5))"
   ]
  },
  {
   "cell_type": "code",
   "execution_count": 16,
   "id": "eac6a21b",
   "metadata": {
    "ExecuteTime": {
     "end_time": "2022-03-07T22:46:33.638052Z",
     "start_time": "2022-03-07T22:46:33.619514Z"
    }
   },
   "outputs": [
    {
     "data": {
      "text/plain": [
       "[(0, 0.06699819),\n",
       " (1, 0.5026351),\n",
       " (2, 0.03516461),\n",
       " (3, 0.37131524),\n",
       " (4, 0.023886794)]"
      ]
     },
     "execution_count": 16,
     "metadata": {},
     "output_type": "execute_result"
    }
   ],
   "source": [
    "lda_model.get_document_topics(corpus[0])"
   ]
  },
  {
   "cell_type": "code",
   "execution_count": 17,
   "id": "6b3e068d",
   "metadata": {
    "ExecuteTime": {
     "end_time": "2022-03-07T22:46:33.665876Z",
     "start_time": "2022-03-07T22:46:33.639884Z"
    }
   },
   "outputs": [],
   "source": [
    "def get_main_topic_df(model, bow, texts):\n",
    "    topic_list = []\n",
    "    percent_list = []\n",
    "    keyword_list = []\n",
    "    \n",
    "    for wc in bow:\n",
    "        topic, percent = sorted(model.get_document_topics(wc), key=lambda x: x[1], reverse=True)[0]\n",
    "        topic_list.append(topic)\n",
    "        percent_list.append(round(percent, 3))\n",
    "        keyword_list.append(' '.join(sorted([x[0] for x in model.show_topic(topic)])))\n",
    "\n",
    "    result_df = pd.concat([pd.Series(topic_list, name='Dominant_topic'), \n",
    "                           pd.Series(percent_list, name='Percent'), \n",
    "                           pd.Series(texts, name='Processed_text'), \n",
    "                           pd.Series(keyword_list, name='Keywords')], axis=1)\n",
    "\n",
    "    return result_df"
   ]
  },
  {
   "cell_type": "code",
   "execution_count": 18,
   "id": "6493b4ad",
   "metadata": {
    "ExecuteTime": {
     "end_time": "2022-03-07T22:46:35.296156Z",
     "start_time": "2022-03-07T22:46:33.667600Z"
    }
   },
   "outputs": [
    {
     "data": {
      "text/html": [
       "<div>\n",
       "<style scoped>\n",
       "    .dataframe tbody tr th:only-of-type {\n",
       "        vertical-align: middle;\n",
       "    }\n",
       "\n",
       "    .dataframe tbody tr th {\n",
       "        vertical-align: top;\n",
       "    }\n",
       "\n",
       "    .dataframe thead th {\n",
       "        text-align: right;\n",
       "    }\n",
       "</style>\n",
       "<table border=\"1\" class=\"dataframe\">\n",
       "  <thead>\n",
       "    <tr style=\"text-align: right;\">\n",
       "      <th></th>\n",
       "      <th>Dominant_topic</th>\n",
       "      <th>Percent</th>\n",
       "      <th>Processed_text</th>\n",
       "      <th>Keywords</th>\n",
       "    </tr>\n",
       "  </thead>\n",
       "  <tbody>\n",
       "    <tr>\n",
       "      <th>396</th>\n",
       "      <td>0</td>\n",
       "      <td>0.887</td>\n",
       "      <td>[terrific, music, kid, point, view]</td>\n",
       "      <td>clean explicit kid mature party pop rap rock t...</td>\n",
       "    </tr>\n",
       "    <tr>\n",
       "      <th>829</th>\n",
       "      <td>0</td>\n",
       "      <td>0.887</td>\n",
       "      <td>[pussycat, clean, act, pop, love]</td>\n",
       "      <td>clean explicit kid mature party pop rap rock t...</td>\n",
       "    </tr>\n",
       "    <tr>\n",
       "      <th>1878</th>\n",
       "      <td>1</td>\n",
       "      <td>0.501</td>\n",
       "      <td>[tragic, intense, film, deliver, passion]</td>\n",
       "      <td>cd clean message pop rap sex star strong tune ...</td>\n",
       "    </tr>\n",
       "    <tr>\n",
       "      <th>306</th>\n",
       "      <td>0</td>\n",
       "      <td>0.512</td>\n",
       "      <td>[music, memorable, lyric]</td>\n",
       "      <td>clean explicit kid mature party pop rap rock t...</td>\n",
       "    </tr>\n",
       "    <tr>\n",
       "      <th>2099</th>\n",
       "      <td>1</td>\n",
       "      <td>0.863</td>\n",
       "      <td>[confusing, mix, shock, vulgar, rap, radio, fr...</td>\n",
       "      <td>cd clean message pop rap sex star strong tune ...</td>\n",
       "    </tr>\n",
       "    <tr>\n",
       "      <th>1793</th>\n",
       "      <td>1</td>\n",
       "      <td>0.842</td>\n",
       "      <td>[deep, stuff, hide, message, worry]</td>\n",
       "      <td>cd clean message pop rap sex star strong tune ...</td>\n",
       "    </tr>\n",
       "    <tr>\n",
       "      <th>828</th>\n",
       "      <td>0</td>\n",
       "      <td>0.866</td>\n",
       "      <td>[idol, runner, warn, player]</td>\n",
       "      <td>clean explicit kid mature party pop rap rock t...</td>\n",
       "    </tr>\n",
       "    <tr>\n",
       "      <th>528</th>\n",
       "      <td>1</td>\n",
       "      <td>0.901</td>\n",
       "      <td>[hannah, reign, end, clean, tween, friendly, t...</td>\n",
       "      <td>cd clean message pop rap sex star strong tune ...</td>\n",
       "    </tr>\n",
       "    <tr>\n",
       "      <th>1053</th>\n",
       "      <td>0</td>\n",
       "      <td>0.900</td>\n",
       "      <td>[another, yawn, manufacture, safe, pop, star]</td>\n",
       "      <td>clean explicit kid mature party pop rap rock t...</td>\n",
       "    </tr>\n",
       "    <tr>\n",
       "      <th>762</th>\n",
       "      <td>4</td>\n",
       "      <td>0.473</td>\n",
       "      <td>[tales, heartbreak, fill, disney, star, sad, w...</td>\n",
       "      <td>cd edgy graphic hip hop offer ok old pop teen</td>\n",
       "    </tr>\n",
       "  </tbody>\n",
       "</table>\n",
       "</div>"
      ],
      "text/plain": [
       "      Dominant_topic  Percent  \\\n",
       "396                0    0.887   \n",
       "829                0    0.887   \n",
       "1878               1    0.501   \n",
       "306                0    0.512   \n",
       "2099               1    0.863   \n",
       "1793               1    0.842   \n",
       "828                0    0.866   \n",
       "528                1    0.901   \n",
       "1053               0    0.900   \n",
       "762                4    0.473   \n",
       "\n",
       "                                         Processed_text  \\\n",
       "396                 [terrific, music, kid, point, view]   \n",
       "829                   [pussycat, clean, act, pop, love]   \n",
       "1878          [tragic, intense, film, deliver, passion]   \n",
       "306                           [music, memorable, lyric]   \n",
       "2099  [confusing, mix, shock, vulgar, rap, radio, fr...   \n",
       "1793                [deep, stuff, hide, message, worry]   \n",
       "828                        [idol, runner, warn, player]   \n",
       "528   [hannah, reign, end, clean, tween, friendly, t...   \n",
       "1053      [another, yawn, manufacture, safe, pop, star]   \n",
       "762   [tales, heartbreak, fill, disney, star, sad, w...   \n",
       "\n",
       "                                               Keywords  \n",
       "396   clean explicit kid mature party pop rap rock t...  \n",
       "829   clean explicit kid mature party pop rap rock t...  \n",
       "1878  cd clean message pop rap sex star strong tune ...  \n",
       "306   clean explicit kid mature party pop rap rock t...  \n",
       "2099  cd clean message pop rap sex star strong tune ...  \n",
       "1793  cd clean message pop rap sex star strong tune ...  \n",
       "828   clean explicit kid mature party pop rap rock t...  \n",
       "528   cd clean message pop rap sex star strong tune ...  \n",
       "1053  clean explicit kid mature party pop rap rock t...  \n",
       "762       cd edgy graphic hip hop offer ok old pop teen  "
      ]
     },
     "execution_count": 18,
     "metadata": {},
     "output_type": "execute_result"
    }
   ],
   "source": [
    "main_topic_df = get_main_topic_df(lda_model, corpus, processed_text)\n",
    "\n",
    "main_topic_df.sample(10)"
   ]
  },
  {
   "cell_type": "code",
   "execution_count": 19,
   "id": "5d00bbd2",
   "metadata": {
    "ExecuteTime": {
     "end_time": "2022-03-07T22:46:35.514333Z",
     "start_time": "2022-03-07T22:46:35.297887Z"
    }
   },
   "outputs": [
    {
     "data": {
      "image/png": "[encoded data removed]",
      "text/plain": [
       "<Figure size 432x288 with 1 Axes>"
      ]
     },
     "metadata": {
      "needs_background": "light"
     },
     "output_type": "display_data"
    }
   ],
   "source": [
    "grouped_topics = main_topic_df.groupby('Dominant_topic')\n",
    "grouped_topics.count()['Processed_text'].\\\n",
    "    plot.bar(rot=0).\\\n",
    "    set(title='Dominant Topic Frequency in the {} Reviews'.format(len(df)),\n",
    "        ylabel='Topic frequency'); "
   ]
  },
  {
   "cell_type": "code",
   "execution_count": 20,
   "id": "281a101d",
   "metadata": {
    "ExecuteTime": {
     "end_time": "2022-03-07T22:46:35.581854Z",
     "start_time": "2022-03-07T22:46:35.514598Z"
    }
   },
   "outputs": [
    {
     "data": {
      "text/html": [
       "<div>\n",
       "<style scoped>\n",
       "    .dataframe tbody tr th:only-of-type {\n",
       "        vertical-align: middle;\n",
       "    }\n",
       "\n",
       "    .dataframe tbody tr th {\n",
       "        vertical-align: top;\n",
       "    }\n",
       "\n",
       "    .dataframe thead th {\n",
       "        text-align: right;\n",
       "    }\n",
       "</style>\n",
       "<table border=\"1\" class=\"dataframe\">\n",
       "  <thead>\n",
       "    <tr style=\"text-align: right;\">\n",
       "      <th></th>\n",
       "      <th>Dominant_topic</th>\n",
       "      <th>Percent</th>\n",
       "      <th>Processed_text</th>\n",
       "      <th>Keywords</th>\n",
       "    </tr>\n",
       "  </thead>\n",
       "  <tbody>\n",
       "    <tr>\n",
       "      <th>406</th>\n",
       "      <td>0</td>\n",
       "      <td>0.933</td>\n",
       "      <td>[pint, size, music, festival, hit, bring, pare...</td>\n",
       "      <td>clean explicit kid mature party pop rap rock t...</td>\n",
       "    </tr>\n",
       "    <tr>\n",
       "      <th>938</th>\n",
       "      <td>1</td>\n",
       "      <td>0.911</td>\n",
       "      <td>[self, esteem, reign, supreme, clean, uplift, ...</td>\n",
       "      <td>cd clean message pop rap sex star strong tune ...</td>\n",
       "    </tr>\n",
       "    <tr>\n",
       "      <th>328</th>\n",
       "      <td>2</td>\n",
       "      <td>0.906</td>\n",
       "      <td>[tribute, 60s, kid, mix, folk, pop, peace, love]</td>\n",
       "      <td>classic kid love lyric music pop rock sex soun...</td>\n",
       "    </tr>\n",
       "    <tr>\n",
       "      <th>566</th>\n",
       "      <td>3</td>\n",
       "      <td>0.904</td>\n",
       "      <td>[viral, smash, animal, noise, fun, goofy, pop,...</td>\n",
       "      <td>country family fun hit love message movie musi...</td>\n",
       "    </tr>\n",
       "    <tr>\n",
       "      <th>264</th>\n",
       "      <td>4</td>\n",
       "      <td>0.888</td>\n",
       "      <td>[tv, tune, ok, whet, appetite, tv, time]</td>\n",
       "      <td>cd edgy graphic hip hop offer ok old pop teen</td>\n",
       "    </tr>\n",
       "  </tbody>\n",
       "</table>\n",
       "</div>"
      ],
      "text/plain": [
       "     Dominant_topic  Percent  \\\n",
       "406               0    0.933   \n",
       "938               1    0.911   \n",
       "328               2    0.906   \n",
       "566               3    0.904   \n",
       "264               4    0.888   \n",
       "\n",
       "                                        Processed_text  \\\n",
       "406  [pint, size, music, festival, hit, bring, pare...   \n",
       "938  [self, esteem, reign, supreme, clean, uplift, ...   \n",
       "328   [tribute, 60s, kid, mix, folk, pop, peace, love]   \n",
       "566  [viral, smash, animal, noise, fun, goofy, pop,...   \n",
       "264           [tv, tune, ok, whet, appetite, tv, time]   \n",
       "\n",
       "                                              Keywords  \n",
       "406  clean explicit kid mature party pop rap rock t...  \n",
       "938  cd clean message pop rap sex star strong tune ...  \n",
       "328  classic kid love lyric music pop rock sex soun...  \n",
       "566  country family fun hit love message movie musi...  \n",
       "264      cd edgy graphic hip hop offer ok old pop teen  "
      ]
     },
     "execution_count": 20,
     "metadata": {},
     "output_type": "execute_result"
    }
   ],
   "source": [
    "representatives = pd.DataFrame()\n",
    "\n",
    "for k in grouped_topics.groups.keys():\n",
    "    representatives = pd.concat([ representatives, \n",
    "                                 grouped_topics.get_group(k).sort_values(['Percent'], ascending=False).head(1) ])\n",
    "    \n",
    "representatives"
   ]
  },
  {
   "cell_type": "code",
   "execution_count": 21,
   "id": "b6f41708",
   "metadata": {
    "ExecuteTime": {
     "end_time": "2022-03-07T22:46:35.658125Z",
     "start_time": "2022-03-07T22:46:35.582248Z"
    }
   },
   "outputs": [
    {
     "data": {
      "application/vnd.jupyter.widget-view+json": {
       "model_id": "bf60482780ec4831ab7c4672f8cd6f40",
       "version_major": 2,
       "version_minor": 0
      },
      "text/plain": [
       "interactive(children=(Dropdown(description='topic id', options=(0, 1, 2, 3, 4), value=0), Output()), _dom_clas…"
      ]
     },
     "metadata": {},
     "output_type": "display_data"
    }
   ],
   "source": [
    "import ipywidgets as widgets\n",
    "from IPython.display import display\n",
    "from ipywidgets import interact, interactive\n",
    "\n",
    "\n",
    "\n",
    "def f(idx):\n",
    "    print('Document: {}  Dominant topic: {}\\n'.format(representatives.index[idx], \n",
    "                                       representatives.loc[representatives.index[idx]]['Dominant_topic']))\n",
    "    print(df['Description'][representatives.index[idx]])\n",
    "\n",
    "    \n",
    "interactive(f, idx = widgets.Dropdown(options=[0,1,2,3,4], value=0, description='topic id'))"
   ]
  },
  {
   "cell_type": "code",
   "execution_count": null,
   "id": "767b2548",
   "metadata": {},
   "outputs": [],
   "source": []
  }
 ],
 "metadata": {
  "kernelspec": {
   "display_name": "Python 3 (ipykernel)",
   "language": "python",
   "name": "python3"
  },
  "language_info": {
   "codemirror_mode": {
    "name": "ipython",
    "version": 3
   },
   "file_extension": ".py",
   "mimetype": "text/x-python",
   "name": "python",
   "nbconvert_exporter": "python",
   "pygments_lexer": "ipython3",
   "version": "3.9.10"
  }
 },
 "nbformat": 4,
 "nbformat_minor": 5
}
