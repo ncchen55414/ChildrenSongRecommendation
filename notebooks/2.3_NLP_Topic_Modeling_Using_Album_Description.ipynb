{
 "cells": [
  {
   "cell_type": "markdown",
   "id": "9f655a0d",
   "metadata": {},
   "source": [
    "# Load Data"
   ]
  },
  {
   "cell_type": "code",
   "execution_count": 1,
   "id": "90c61297",
   "metadata": {
    "ExecuteTime": {
     "end_time": "2022-03-08T23:13:58.994712Z",
     "start_time": "2022-03-08T23:13:56.332240Z"
    }
   },
   "outputs": [],
   "source": [
    "import seaborn as sns\n",
    "sns.set()\n",
    "import re"
   ]
  },
  {
   "cell_type": "code",
   "execution_count": 2,
   "id": "e9cc0f76",
   "metadata": {
    "ExecuteTime": {
     "end_time": "2022-03-08T23:13:59.041619Z",
     "start_time": "2022-03-08T23:13:58.997682Z"
    }
   },
   "outputs": [
    {
     "name": "stdout",
     "output_type": "stream",
     "text": [
      "Columns of df:  [(0, 'Title'), (1, 'Age'), (2, 'Age Group'), (3, 'Artist'), (4, 'Year'), (5, 'Description')] \n",
      "\n",
      "Shape of df:  (2206, 6) \n",
      "\n",
      "Number of albums having description:  2206 \n",
      "\n"
     ]
    },
    {
     "data": {
      "text/html": [
       "<div>\n",
       "<style scoped>\n",
       "    .dataframe tbody tr th:only-of-type {\n",
       "        vertical-align: middle;\n",
       "    }\n",
       "\n",
       "    .dataframe tbody tr th {\n",
       "        vertical-align: top;\n",
       "    }\n",
       "\n",
       "    .dataframe thead th {\n",
       "        text-align: right;\n",
       "    }\n",
       "</style>\n",
       "<table border=\"1\" class=\"dataframe\">\n",
       "  <thead>\n",
       "    <tr style=\"text-align: right;\">\n",
       "      <th></th>\n",
       "      <th>Title</th>\n",
       "      <th>Age</th>\n",
       "      <th>Age Group</th>\n",
       "      <th>Artist</th>\n",
       "      <th>Year</th>\n",
       "      <th>Description</th>\n",
       "    </tr>\n",
       "  </thead>\n",
       "  <tbody>\n",
       "    <tr>\n",
       "      <th>0</th>\n",
       "      <td>Sesame Street: Halloween Collection</td>\n",
       "      <td>2</td>\n",
       "      <td>Toodler</td>\n",
       "      <td>Sesame Street</td>\n",
       "      <td>2012</td>\n",
       "      <td>Playful, not-so-spooky Halloween songs for th...</td>\n",
       "    </tr>\n",
       "    <tr>\n",
       "      <th>1</th>\n",
       "      <td>A Child's Celebration of Rock 'n' Roll</td>\n",
       "      <td>2</td>\n",
       "      <td>Toodler</td>\n",
       "      <td>Various Artists</td>\n",
       "      <td>1996</td>\n",
       "      <td>Songs to get toddlers and teens energized.</td>\n",
       "    </tr>\n",
       "    <tr>\n",
       "      <th>2</th>\n",
       "      <td>Wake up Jeff</td>\n",
       "      <td>2</td>\n",
       "      <td>Toodler</td>\n",
       "      <td>The Wiggles</td>\n",
       "      <td>2000</td>\n",
       "      <td>Songs and scenes certain to keep kids attenti...</td>\n",
       "    </tr>\n",
       "  </tbody>\n",
       "</table>\n",
       "</div>"
      ],
      "text/plain": [
       "                                    Title  Age Age Group           Artist  \\\n",
       "0     Sesame Street: Halloween Collection    2   Toodler    Sesame Street   \n",
       "1  A Child's Celebration of Rock 'n' Roll    2   Toodler  Various Artists   \n",
       "2                            Wake up Jeff    2   Toodler      The Wiggles   \n",
       "\n",
       "   Year                                        Description  \n",
       "0  2012   Playful, not-so-spooky Halloween songs for th...  \n",
       "1  1996        Songs to get toddlers and teens energized.   \n",
       "2  2000   Songs and scenes certain to keep kids attenti...  "
      ]
     },
     "execution_count": 2,
     "metadata": {},
     "output_type": "execute_result"
    }
   ],
   "source": [
    "import pandas as pd\n",
    "\n",
    "df = pd.read_csv(\"../data/album_age_ratings.csv\")\n",
    "print (\"Columns of df: \",  list(enumerate(df.columns)), \"\\n\")\n",
    "\n",
    "print (\"Shape of df: \", df.shape, \"\\n\")\n",
    "\n",
    "print (\"Number of albums having description: \", df['Description'].notnull().sum(), \"\\n\")\n",
    "\n",
    "df.head(3)"
   ]
  },
  {
   "cell_type": "code",
   "execution_count": 3,
   "id": "36d0004d",
   "metadata": {
    "ExecuteTime": {
     "end_time": "2022-03-08T23:13:59.072675Z",
     "start_time": "2022-03-08T23:13:59.043617Z"
    }
   },
   "outputs": [
    {
     "data": {
      "text/html": [
       "<div>\n",
       "<style scoped>\n",
       "    .dataframe tbody tr th:only-of-type {\n",
       "        vertical-align: middle;\n",
       "    }\n",
       "\n",
       "    .dataframe tbody tr th {\n",
       "        vertical-align: top;\n",
       "    }\n",
       "\n",
       "    .dataframe thead th {\n",
       "        text-align: right;\n",
       "    }\n",
       "</style>\n",
       "<table border=\"1\" class=\"dataframe\">\n",
       "  <thead>\n",
       "    <tr style=\"text-align: right;\">\n",
       "      <th></th>\n",
       "      <th>Age</th>\n",
       "      <th>Title</th>\n",
       "      <th>Description</th>\n",
       "    </tr>\n",
       "  </thead>\n",
       "  <tbody>\n",
       "    <tr>\n",
       "      <th>34</th>\n",
       "      <td>2</td>\n",
       "      <td>Victor Vito</td>\n",
       "      <td>Clean but bland blend of familiar and new songs.</td>\n",
       "    </tr>\n",
       "    <tr>\n",
       "      <th>276</th>\n",
       "      <td>3</td>\n",
       "      <td>\"Just Like a Rockstar\" (CD Single)</td>\n",
       "      <td>Teamwork takes center stage in this cute, clean tune.</td>\n",
       "    </tr>\n",
       "    <tr>\n",
       "      <th>419</th>\n",
       "      <td>5</td>\n",
       "      <td>Muppets: The Green Album</td>\n",
       "      <td>Cool, modern remakes of classic, clean Muppet tunes.</td>\n",
       "    </tr>\n",
       "    <tr>\n",
       "      <th>421</th>\n",
       "      <td>5</td>\n",
       "      <td>The Muppets Soundtrack</td>\n",
       "      <td>Super-clean, cute soundtrack has something for everyone.</td>\n",
       "    </tr>\n",
       "    <tr>\n",
       "      <th>450</th>\n",
       "      <td>6</td>\n",
       "      <td>Cheetah-licious Christmas</td>\n",
       "      <td>Good clean Christmas fun!</td>\n",
       "    </tr>\n",
       "    <tr>\n",
       "      <th>...</th>\n",
       "      <td>...</td>\n",
       "      <td>...</td>\n",
       "      <td>...</td>\n",
       "    </tr>\n",
       "    <tr>\n",
       "      <th>1843</th>\n",
       "      <td>14</td>\n",
       "      <td>\"Super Bass\" (CD Single)</td>\n",
       "      <td>Minaj keeps it cleaner than usual, but song is still mature.</td>\n",
       "    </tr>\n",
       "    <tr>\n",
       "      <th>1886</th>\n",
       "      <td>14</td>\n",
       "      <td>\"Holy Grail (feat. Justin Timberlake)\" (CD Single)</td>\n",
       "      <td>Superstar team-up is explicit; clean version OK for teens.</td>\n",
       "    </tr>\n",
       "    <tr>\n",
       "      <th>1983</th>\n",
       "      <td>15</td>\n",
       "      <td>F.A.M.E.</td>\n",
       "      <td>R&amp;B songs run gamut from clean to extremely dirty, mature.</td>\n",
       "    </tr>\n",
       "    <tr>\n",
       "      <th>1993</th>\n",
       "      <td>15</td>\n",
       "      <td>\"Strange Clouds\" (CD Single)</td>\n",
       "      <td>Unusually explicit song from typically clean rapper.</td>\n",
       "    </tr>\n",
       "    <tr>\n",
       "      <th>2067</th>\n",
       "      <td>16</td>\n",
       "      <td>\"Prom Queen\" (CD single)</td>\n",
       "      <td>Infamously raunchy rapper goes cleaner with rock release.</td>\n",
       "    </tr>\n",
       "  </tbody>\n",
       "</table>\n",
       "<p>294 rows × 3 columns</p>\n",
       "</div>"
      ],
      "text/plain": [
       "      Age                                               Title  \\\n",
       "34      2                                         Victor Vito   \n",
       "276     3                  \"Just Like a Rockstar\" (CD Single)   \n",
       "419     5                            Muppets: The Green Album   \n",
       "421     5                              The Muppets Soundtrack   \n",
       "450     6                           Cheetah-licious Christmas   \n",
       "...   ...                                                 ...   \n",
       "1843   14                            \"Super Bass\" (CD Single)   \n",
       "1886   14  \"Holy Grail (feat. Justin Timberlake)\" (CD Single)   \n",
       "1983   15                                            F.A.M.E.   \n",
       "1993   15                        \"Strange Clouds\" (CD Single)   \n",
       "2067   16                            \"Prom Queen\" (CD single)   \n",
       "\n",
       "                                                         Description  \n",
       "34                 Clean but bland blend of familiar and new songs.   \n",
       "276           Teamwork takes center stage in this cute, clean tune.   \n",
       "419            Cool, modern remakes of classic, clean Muppet tunes.   \n",
       "421        Super-clean, cute soundtrack has something for everyone.   \n",
       "450                                       Good clean Christmas fun!   \n",
       "...                                                              ...  \n",
       "1843   Minaj keeps it cleaner than usual, but song is still mature.   \n",
       "1886     Superstar team-up is explicit; clean version OK for teens.   \n",
       "1983     R&B songs run gamut from clean to extremely dirty, mature.   \n",
       "1993           Unusually explicit song from typically clean rapper.   \n",
       "2067      Infamously raunchy rapper goes cleaner with rock release.   \n",
       "\n",
       "[294 rows x 3 columns]"
      ]
     },
     "execution_count": 3,
     "metadata": {},
     "output_type": "execute_result"
    }
   ],
   "source": [
    "#df[df['Description'].apply(lambda x: 'clean' in x.lower())][['Age','Title','Description']]\n",
    "\n",
    "pd.set_option(\"max_colwidth\", 150)\n",
    "df[df['Description'].str.contains('[C|c]lean', regex=True)][['Age','Title','Description']]\n"
   ]
  },
  {
   "cell_type": "markdown",
   "id": "4bf9a0a0",
   "metadata": {},
   "source": [
    "# Text Processing"
   ]
  },
  {
   "cell_type": "code",
   "execution_count": 4,
   "id": "f1cc3b77",
   "metadata": {
    "ExecuteTime": {
     "end_time": "2022-03-08T23:14:00.199026Z",
     "start_time": "2022-03-08T23:13:59.075675Z"
    }
   },
   "outputs": [],
   "source": [
    "import spacy\n",
    "nlp = spacy.load(\"en\", disable=['parser','ner','tagger', 'textcat'])"
   ]
  },
  {
   "cell_type": "code",
   "execution_count": 5,
   "id": "9abab84d",
   "metadata": {
    "ExecuteTime": {
     "end_time": "2022-03-08T23:14:00.229602Z",
     "start_time": "2022-03-08T23:14:00.201966Z"
    }
   },
   "outputs": [],
   "source": [
    "import re\n",
    "\n",
    "def my_lemmatizer(doc):\n",
    "    doc_cleaned = ' '.join(re.findall(r'\\b\\w[\\w\\']+\\b', doc))\n",
    "    return [ w.lemma_.lower() for w in nlp(doc_cleaned) \n",
    "                      if w.lemma_ not in ['_', '.', '-PRON-'] ]\n",
    "\n",
    "stopwords = spacy.lang.en.stop_words.STOP_WORDS.union(['song', 'album','cd', 'music', 'track','tune'])\n",
    "\n",
    "stopwords = set(my_lemmatizer(' '.join(list(stopwords))))"
   ]
  },
  {
   "cell_type": "markdown",
   "id": "55957ff2",
   "metadata": {},
   "source": [
    "# Bag-of-Words Model + K-Mean clustering"
   ]
  },
  {
   "cell_type": "code",
   "execution_count": 6,
   "id": "01112c22",
   "metadata": {
    "ExecuteTime": {
     "end_time": "2022-03-08T23:14:00.682681Z",
     "start_time": "2022-03-08T23:14:00.232581Z"
    }
   },
   "outputs": [],
   "source": [
    "from sklearn.feature_extraction.text import CountVectorizer, TfidfTransformer\n",
    "\n",
    "cv = CountVectorizer(tokenizer=my_lemmatizer, stop_words=stopwords, ngram_range=(1,1),\n",
    "                     min_df=2, max_df=0.95)\n",
    "counts = cv.fit_transform(df['Description'])\n",
    "\n",
    "tf = TfidfTransformer()\n",
    "matrix = tf.fit_transform(counts)"
   ]
  },
  {
   "cell_type": "code",
   "execution_count": 7,
   "id": "02a8c689",
   "metadata": {
    "ExecuteTime": {
     "end_time": "2022-03-08T23:14:00.698605Z",
     "start_time": "2022-03-08T23:14:00.685615Z"
    }
   },
   "outputs": [
    {
     "data": {
      "text/plain": [
       "['lyrical',\n",
       " 'pain',\n",
       " 'steamy',\n",
       " 'rise',\n",
       " 'hunger',\n",
       " 'sweetheart',\n",
       " 'fantastic',\n",
       " 'promote',\n",
       " 'turn',\n",
       " 'english']"
      ]
     },
     "execution_count": 7,
     "metadata": {},
     "output_type": "execute_result"
    }
   ],
   "source": [
    "import random   \n",
    "random.sample(list(cv.get_feature_names_out()), 10)    #random select 10 words from CountVectorizer"
   ]
  },
  {
   "cell_type": "code",
   "execution_count": 8,
   "id": "eafa0453",
   "metadata": {
    "ExecuteTime": {
     "end_time": "2022-03-08T23:14:01.980246Z",
     "start_time": "2022-03-08T23:14:00.702604Z"
    }
   },
   "outputs": [
    {
     "name": "stdout",
     "output_type": "stream",
     "text": [
      "Words listed in decreasing order of tf-idf \n",
      "\n",
      "Cluster 0: \n",
      "clean, pop, love, dance, country, idol, squeaky, star, fun, catchy \n",
      "\n",
      "Cluster 1: \n",
      "fun, teen, sex, love, message, family, sexy, sweet, soundtrack, classic \n",
      "\n",
      "Cluster 2: \n",
      "kid, friendly, young, fun, okay, old, movie, parent, enjoy, great \n",
      "\n",
      "Cluster 3: \n",
      "rock, alt, indie, pop, clean, roll, classic, punk, kid, teen \n",
      "\n",
      "Cluster 4: \n",
      "mature, explicit, old, teen, rap, theme, clean, okay, message, content \n",
      "\n"
     ]
    }
   ],
   "source": [
    "from sklearn.cluster import KMeans\n",
    "number_of_clusters = 5\n",
    "\n",
    "kmc_5 = KMeans(n_clusters=number_of_clusters, n_init=3, random_state=117)  # random_state for consistency\n",
    "kmc_5.fit(matrix)\n",
    "\n",
    "import numpy as np\n",
    "\n",
    "number_of_top_words = 10\n",
    "\n",
    "cluster_words = np.argsort(kmc_5.cluster_centers_, axis=1)\n",
    "terms = cv.get_feature_names_out()\n",
    "\n",
    "top_words = set()\n",
    "\n",
    "print (\"Words listed in decreasing order of tf-idf \\n\")\n",
    "\n",
    "for i in range(number_of_clusters):\n",
    "    print('Cluster {}: '.format(i))\n",
    "    print(', '.join([terms[k] for k in cluster_words[i][-number_of_top_words:]][::-1]),'\\n')\n",
    "    top_words = top_words.union([terms[k] for k in cluster_words[i][-number_of_top_words:]])\n",
    "    \n",
    "top_words = sorted(list(top_words))"
   ]
  },
  {
   "cell_type": "code",
   "execution_count": 9,
   "id": "808a3019",
   "metadata": {
    "ExecuteTime": {
     "end_time": "2022-03-08T23:14:02.027165Z",
     "start_time": "2022-03-08T23:14:01.982248Z"
    }
   },
   "outputs": [
    {
     "data": {
      "text/html": [
       "<div>\n",
       "<style scoped>\n",
       "    .dataframe tbody tr th:only-of-type {\n",
       "        vertical-align: middle;\n",
       "    }\n",
       "\n",
       "    .dataframe tbody tr th {\n",
       "        vertical-align: top;\n",
       "    }\n",
       "\n",
       "    .dataframe thead th {\n",
       "        text-align: right;\n",
       "    }\n",
       "</style>\n",
       "<table border=\"1\" class=\"dataframe\">\n",
       "  <thead>\n",
       "    <tr style=\"text-align: right;\">\n",
       "      <th></th>\n",
       "      <th>alt</th>\n",
       "      <th>catchy</th>\n",
       "      <th>classic</th>\n",
       "      <th>clean</th>\n",
       "      <th>content</th>\n",
       "      <th>country</th>\n",
       "      <th>dance</th>\n",
       "      <th>enjoy</th>\n",
       "      <th>explicit</th>\n",
       "      <th>family</th>\n",
       "      <th>...</th>\n",
       "      <th>sex</th>\n",
       "      <th>sexy</th>\n",
       "      <th>soundtrack</th>\n",
       "      <th>squeaky</th>\n",
       "      <th>star</th>\n",
       "      <th>sweet</th>\n",
       "      <th>teen</th>\n",
       "      <th>theme</th>\n",
       "      <th>young</th>\n",
       "      <th>Cluster</th>\n",
       "    </tr>\n",
       "  </thead>\n",
       "  <tbody>\n",
       "    <tr>\n",
       "      <th>0</th>\n",
       "      <td>0</td>\n",
       "      <td>0</td>\n",
       "      <td>0</td>\n",
       "      <td>0</td>\n",
       "      <td>0</td>\n",
       "      <td>0</td>\n",
       "      <td>0</td>\n",
       "      <td>0</td>\n",
       "      <td>0</td>\n",
       "      <td>1</td>\n",
       "      <td>...</td>\n",
       "      <td>0</td>\n",
       "      <td>0</td>\n",
       "      <td>0</td>\n",
       "      <td>0</td>\n",
       "      <td>0</td>\n",
       "      <td>0</td>\n",
       "      <td>0</td>\n",
       "      <td>0</td>\n",
       "      <td>0</td>\n",
       "      <td>1</td>\n",
       "    </tr>\n",
       "    <tr>\n",
       "      <th>1</th>\n",
       "      <td>0</td>\n",
       "      <td>0</td>\n",
       "      <td>0</td>\n",
       "      <td>0</td>\n",
       "      <td>0</td>\n",
       "      <td>0</td>\n",
       "      <td>0</td>\n",
       "      <td>0</td>\n",
       "      <td>0</td>\n",
       "      <td>0</td>\n",
       "      <td>...</td>\n",
       "      <td>0</td>\n",
       "      <td>0</td>\n",
       "      <td>0</td>\n",
       "      <td>0</td>\n",
       "      <td>0</td>\n",
       "      <td>0</td>\n",
       "      <td>1</td>\n",
       "      <td>0</td>\n",
       "      <td>0</td>\n",
       "      <td>1</td>\n",
       "    </tr>\n",
       "    <tr>\n",
       "      <th>2</th>\n",
       "      <td>0</td>\n",
       "      <td>0</td>\n",
       "      <td>0</td>\n",
       "      <td>0</td>\n",
       "      <td>0</td>\n",
       "      <td>0</td>\n",
       "      <td>0</td>\n",
       "      <td>0</td>\n",
       "      <td>0</td>\n",
       "      <td>0</td>\n",
       "      <td>...</td>\n",
       "      <td>0</td>\n",
       "      <td>0</td>\n",
       "      <td>0</td>\n",
       "      <td>0</td>\n",
       "      <td>0</td>\n",
       "      <td>0</td>\n",
       "      <td>0</td>\n",
       "      <td>0</td>\n",
       "      <td>0</td>\n",
       "      <td>2</td>\n",
       "    </tr>\n",
       "  </tbody>\n",
       "</table>\n",
       "<p>3 rows × 38 columns</p>\n",
       "</div>"
      ],
      "text/plain": [
       "   alt  catchy  classic  clean  content  country  dance  enjoy  explicit  \\\n",
       "0    0       0        0      0        0        0      0      0         0   \n",
       "1    0       0        0      0        0        0      0      0         0   \n",
       "2    0       0        0      0        0        0      0      0         0   \n",
       "\n",
       "   family  ...  sex  sexy  soundtrack  squeaky  star  sweet  teen  theme  \\\n",
       "0       1  ...    0     0           0        0     0      0     0      0   \n",
       "1       0  ...    0     0           0        0     0      0     1      0   \n",
       "2       0  ...    0     0           0        0     0      0     0      0   \n",
       "\n",
       "   young  Cluster  \n",
       "0      0        1  \n",
       "1      0        1  \n",
       "2      0        2  \n",
       "\n",
       "[3 rows x 38 columns]"
      ]
     },
     "execution_count": 9,
     "metadata": {},
     "output_type": "execute_result"
    }
   ],
   "source": [
    "word_df = pd.DataFrame(counts.toarray(), columns=terms)[top_words]\n",
    "word_df['Cluster'] = kmc_5.labels_.tolist()\n",
    "word_df.head(3)"
   ]
  },
  {
   "cell_type": "code",
   "execution_count": 10,
   "id": "6bac809c",
   "metadata": {
    "ExecuteTime": {
     "end_time": "2022-03-08T23:14:02.042612Z",
     "start_time": "2022-03-08T23:14:02.030328Z"
    }
   },
   "outputs": [],
   "source": [
    "df['knn_cluster'] = word_df['Cluster']"
   ]
  },
  {
   "cell_type": "code",
   "execution_count": 11,
   "id": "50b88253",
   "metadata": {
    "ExecuteTime": {
     "end_time": "2022-03-08T23:14:02.058388Z",
     "start_time": "2022-03-08T23:14:02.044733Z"
    }
   },
   "outputs": [
    {
     "data": {
      "text/html": [
       "<div>\n",
       "<style scoped>\n",
       "    .dataframe tbody tr th:only-of-type {\n",
       "        vertical-align: middle;\n",
       "    }\n",
       "\n",
       "    .dataframe tbody tr th {\n",
       "        vertical-align: top;\n",
       "    }\n",
       "\n",
       "    .dataframe thead th {\n",
       "        text-align: right;\n",
       "    }\n",
       "</style>\n",
       "<table border=\"1\" class=\"dataframe\">\n",
       "  <thead>\n",
       "    <tr style=\"text-align: right;\">\n",
       "      <th></th>\n",
       "      <th>Title</th>\n",
       "      <th>Age</th>\n",
       "      <th>Age Group</th>\n",
       "      <th>Artist</th>\n",
       "      <th>Year</th>\n",
       "      <th>Description</th>\n",
       "      <th>knn_cluster</th>\n",
       "    </tr>\n",
       "  </thead>\n",
       "  <tbody>\n",
       "    <tr>\n",
       "      <th>0</th>\n",
       "      <td>Sesame Street: Halloween Collection</td>\n",
       "      <td>2</td>\n",
       "      <td>Toodler</td>\n",
       "      <td>Sesame Street</td>\n",
       "      <td>2012</td>\n",
       "      <td>Playful, not-so-spooky Halloween songs for the family.</td>\n",
       "      <td>1</td>\n",
       "    </tr>\n",
       "    <tr>\n",
       "      <th>1</th>\n",
       "      <td>A Child's Celebration of Rock 'n' Roll</td>\n",
       "      <td>2</td>\n",
       "      <td>Toodler</td>\n",
       "      <td>Various Artists</td>\n",
       "      <td>1996</td>\n",
       "      <td>Songs to get toddlers and teens energized.</td>\n",
       "      <td>1</td>\n",
       "    </tr>\n",
       "    <tr>\n",
       "      <th>2</th>\n",
       "      <td>Wake up Jeff</td>\n",
       "      <td>2</td>\n",
       "      <td>Toodler</td>\n",
       "      <td>The Wiggles</td>\n",
       "      <td>2000</td>\n",
       "      <td>Songs and scenes certain to keep kids attentive.</td>\n",
       "      <td>2</td>\n",
       "    </tr>\n",
       "    <tr>\n",
       "      <th>3</th>\n",
       "      <td>Toot Toot!</td>\n",
       "      <td>2</td>\n",
       "      <td>Toodler</td>\n",
       "      <td>The Wiggles</td>\n",
       "      <td>2001</td>\n",
       "      <td>Gets little couch potatoes up and moving.</td>\n",
       "      <td>1</td>\n",
       "    </tr>\n",
       "    <tr>\n",
       "      <th>4</th>\n",
       "      <td>A Child's Celebration of Classical Music</td>\n",
       "      <td>2</td>\n",
       "      <td>Toodler</td>\n",
       "      <td>Various Artists</td>\n",
       "      <td>1999</td>\n",
       "      <td>Talented celebs promote classics for kids.</td>\n",
       "      <td>2</td>\n",
       "    </tr>\n",
       "  </tbody>\n",
       "</table>\n",
       "</div>"
      ],
      "text/plain": [
       "                                      Title  Age Age Group           Artist  \\\n",
       "0       Sesame Street: Halloween Collection    2   Toodler    Sesame Street   \n",
       "1    A Child's Celebration of Rock 'n' Roll    2   Toodler  Various Artists   \n",
       "2                              Wake up Jeff    2   Toodler      The Wiggles   \n",
       "3                                Toot Toot!    2   Toodler      The Wiggles   \n",
       "4  A Child's Celebration of Classical Music    2   Toodler  Various Artists   \n",
       "\n",
       "   Year                                               Description  knn_cluster  \n",
       "0  2012   Playful, not-so-spooky Halloween songs for the family.             1  \n",
       "1  1996               Songs to get toddlers and teens energized.             1  \n",
       "2  2000         Songs and scenes certain to keep kids attentive.             2  \n",
       "3  2001                Gets little couch potatoes up and moving.             1  \n",
       "4  1999               Talented celebs promote classics for kids.             2  "
      ]
     },
     "execution_count": 11,
     "metadata": {},
     "output_type": "execute_result"
    }
   ],
   "source": [
    "df.head(5)"
   ]
  },
  {
   "cell_type": "code",
   "execution_count": 12,
   "id": "90171641",
   "metadata": {
    "ExecuteTime": {
     "end_time": "2022-03-08T23:14:02.073621Z",
     "start_time": "2022-03-08T23:14:02.061061Z"
    }
   },
   "outputs": [
    {
     "data": {
      "text/plain": [
       "Cluster\n",
       "0     412\n",
       "1    1278\n",
       "2     220\n",
       "3     156\n",
       "4     140\n",
       "dtype: int64"
      ]
     },
     "execution_count": 12,
     "metadata": {},
     "output_type": "execute_result"
    }
   ],
   "source": [
    "word_df.groupby('Cluster').size()"
   ]
  },
  {
   "cell_type": "code",
   "execution_count": 13,
   "id": "97435dcb",
   "metadata": {
    "ExecuteTime": {
     "end_time": "2022-03-08T23:14:02.357958Z",
     "start_time": "2022-03-08T23:14:02.075984Z"
    }
   },
   "outputs": [
    {
     "data": {
      "image/png": "[encoded data removed]",
      "text/plain": [
       "<Figure size 432x288 with 1 Axes>"
      ]
     },
     "metadata": {},
     "output_type": "display_data"
    }
   ],
   "source": [
    "(word_df.groupby('Cluster').size().\n",
    "    plot.bar(rot=0).\n",
    "    set(ylabel='Document count',\n",
    "    title='Number of Documents per Cluster'));"
   ]
  },
  {
   "cell_type": "markdown",
   "id": "3c09a8bb",
   "metadata": {},
   "source": [
    "# Latent Dirichlet allocation (LDA)"
   ]
  },
  {
   "cell_type": "code",
   "execution_count": 14,
   "id": "d747c0dc",
   "metadata": {
    "ExecuteTime": {
     "end_time": "2022-03-08T23:14:02.749658Z",
     "start_time": "2022-03-08T23:14:02.361959Z"
    }
   },
   "outputs": [],
   "source": [
    "import gensim\n",
    "\n",
    "import re\n",
    "def process_words(texts, stop_words=set()):\n",
    "    result = []\n",
    "    for t in texts:\n",
    "        t = ' '.join(re.findall(r'\\b\\w[\\w\\']+\\b', t))\n",
    "        doc = nlp(t)\n",
    "        result.append([token.lemma_.lower() for token in doc if token.lemma_.lower() not in stop_words])\n",
    "    return result\n",
    "\n",
    "processed_text = process_words(df['Description'], stop_words=stopwords.union(['-PRON-','song','album','cd','track','music']))"
   ]
  },
  {
   "cell_type": "code",
   "execution_count": 30,
   "id": "c0a0bfd4",
   "metadata": {
    "ExecuteTime": {
     "end_time": "2022-03-08T23:15:34.329848Z",
     "start_time": "2022-03-08T23:15:32.065966Z"
    }
   },
   "outputs": [
    {
     "name": "stdout",
     "output_type": "stream",
     "text": [
      "Number of unique tokens: 2458\n"
     ]
    },
    {
     "data": {
      "text/plain": [
       "'\\n\\nlda_model = gensim.models.ldamodel.LdaModel(corpus=corpus, \\n                                            id2word=dictionary,\\n                                            num_topics=num_topics, \\n                                            random_state=117)\\n'"
      ]
     },
     "execution_count": 30,
     "metadata": {},
     "output_type": "execute_result"
    }
   ],
   "source": [
    "dictionary = gensim.corpora.Dictionary(processed_text)\n",
    "print('Number of unique tokens: {}'.format(len(dictionary)))\n",
    "corpus = [dictionary.doc2bow(t) for t in processed_text]\n",
    "num_topics = 6\n",
    "\n",
    "\n",
    "lda_model = gensim.models.ldamodel.LdaModel(corpus=corpus, \n",
    "                                            id2word=dictionary,\n",
    "                                            num_topics=num_topics, \n",
    "                                            random_state=117, update_every=1,\n",
    "                                            chunksize=1500, \n",
    "                                            passes=5, iterations=10,\n",
    "                                            alpha='asymmetric', eta=1/100,\n",
    "                                            per_word_topics=True)\n",
    "\"\"\"\n",
    "\n",
    "lda_model = gensim.models.ldamodel.LdaModel(corpus=corpus, \n",
    "                                            id2word=dictionary,\n",
    "                                            num_topics=num_topics, \n",
    "                                            random_state=117)\n",
    "\"\"\"\n"
   ]
  },
  {
   "cell_type": "code",
   "execution_count": 31,
   "id": "ed2644fe",
   "metadata": {
    "ExecuteTime": {
     "end_time": "2022-03-08T23:15:34.345171Z",
     "start_time": "2022-03-08T23:15:34.332802Z"
    }
   },
   "outputs": [
    {
     "name": "stdout",
     "output_type": "stream",
     "text": [
      "[(0, '0.033*\"teen\" + 0.029*\"kid\" + 0.021*\"clean\" + 0.018*\"rock\" + 0.016*\"fun\"'),\n",
      " (1,\n",
      "  '0.033*\"pop\" + 0.023*\"graphic\" + 0.019*\"punk\" + 0.017*\"love\" + '\n",
      "  '0.016*\"violent\"'),\n",
      " (2,\n",
      "  '0.060*\"pop\" + 0.040*\"drink\" + 0.037*\"dance\" + 0.031*\"club\" + 0.025*\"party\"'),\n",
      " (3,\n",
      "  '0.119*\"rap\" + 0.061*\"message\" + 0.049*\"sex\" + 0.039*\"iffy\" + '\n",
      "  '0.036*\"content\"'),\n",
      " (4,\n",
      "  '0.089*\"single\" + 0.070*\"clean\" + 0.056*\"band\" + 0.041*\"catchy\" + '\n",
      "  '0.027*\"well\"'),\n",
      " (5,\n",
      "  '0.150*\"sex\" + 0.094*\"explicit\" + 0.062*\"party\" + 0.059*\"profanity\" + '\n",
      "  '0.043*\"heavy\"')]\n"
     ]
    }
   ],
   "source": [
    "from pprint import pprint\n",
    "\n",
    "pprint(lda_model.print_topics(num_words=5))"
   ]
  },
  {
   "cell_type": "code",
   "execution_count": 49,
   "id": "6b3e068d",
   "metadata": {
    "ExecuteTime": {
     "end_time": "2022-03-08T23:21:11.930875Z",
     "start_time": "2022-03-08T23:21:11.916401Z"
    }
   },
   "outputs": [],
   "source": [
    "def get_main_topic_df(model, bow, texts):\n",
    "    topic_list = []\n",
    "    percent_list = []\n",
    "    keyword_list = []\n",
    "    \n",
    "    for wc in bow:\n",
    "        topic, percent = sorted(model.get_document_topics(wc), key=lambda x: x[1], reverse=True)[0]\n",
    "        topic_list.append(topic)\n",
    "        percent_list.append(round(percent, 3))\n",
    "        keyword_list.append(' '.join([x[0] for x in model.show_topic(topic)]))\n",
    "\n",
    "    result_df = pd.concat([pd.Series(topic_list, name='Dominant_topic'), \n",
    "                           pd.Series(percent_list, name='Percent'), \n",
    "                           pd.Series(texts, name='Processed_text'), \n",
    "                           pd.Series(keyword_list, name='Keywords')], axis=1)\n",
    "    #result_df = pd.concat([result_df, df['Description']], axis=1)\n",
    "\n",
    "    return result_df"
   ]
  },
  {
   "cell_type": "code",
   "execution_count": 50,
   "id": "6493b4ad",
   "metadata": {
    "ExecuteTime": {
     "end_time": "2022-03-08T23:21:16.023417Z",
     "start_time": "2022-03-08T23:21:15.390513Z"
    }
   },
   "outputs": [
    {
     "data": {
      "text/html": [
       "<div>\n",
       "<style scoped>\n",
       "    .dataframe tbody tr th:only-of-type {\n",
       "        vertical-align: middle;\n",
       "    }\n",
       "\n",
       "    .dataframe tbody tr th {\n",
       "        vertical-align: top;\n",
       "    }\n",
       "\n",
       "    .dataframe thead th {\n",
       "        text-align: right;\n",
       "    }\n",
       "</style>\n",
       "<table border=\"1\" class=\"dataframe\">\n",
       "  <thead>\n",
       "    <tr style=\"text-align: right;\">\n",
       "      <th></th>\n",
       "      <th>Title</th>\n",
       "      <th>Age</th>\n",
       "      <th>Description</th>\n",
       "      <th>knn_cluster</th>\n",
       "      <th>Processed_text</th>\n",
       "      <th>Dominant_topic</th>\n",
       "      <th>Percent</th>\n",
       "      <th>Keywords</th>\n",
       "    </tr>\n",
       "  </thead>\n",
       "  <tbody>\n",
       "    <tr>\n",
       "      <th>0</th>\n",
       "      <td>Sesame Street: Halloween Collection</td>\n",
       "      <td>2</td>\n",
       "      <td>Playful, not-so-spooky Halloween songs for the family.</td>\n",
       "      <td>1</td>\n",
       "      <td>[playful, spooky, halloween, family]</td>\n",
       "      <td>3</td>\n",
       "      <td>0.423</td>\n",
       "      <td>rap message sex iffy content positive lyric super bore talk</td>\n",
       "    </tr>\n",
       "    <tr>\n",
       "      <th>1</th>\n",
       "      <td>A Child's Celebration of Rock 'n' Roll</td>\n",
       "      <td>2</td>\n",
       "      <td>Songs to get toddlers and teens energized.</td>\n",
       "      <td>1</td>\n",
       "      <td>[songs, toddler, teen, energize]</td>\n",
       "      <td>0</td>\n",
       "      <td>0.856</td>\n",
       "      <td>teen kid clean rock fun ok old pop mature young</td>\n",
       "    </tr>\n",
       "    <tr>\n",
       "      <th>2</th>\n",
       "      <td>Wake up Jeff</td>\n",
       "      <td>2</td>\n",
       "      <td>Songs and scenes certain to keep kids attentive.</td>\n",
       "      <td>2</td>\n",
       "      <td>[songs, scene, certain, kid, attentive]</td>\n",
       "      <td>0</td>\n",
       "      <td>0.881</td>\n",
       "      <td>teen kid clean rock fun ok old pop mature young</td>\n",
       "    </tr>\n",
       "    <tr>\n",
       "      <th>3</th>\n",
       "      <td>Toot Toot!</td>\n",
       "      <td>2</td>\n",
       "      <td>Gets little couch potatoes up and moving.</td>\n",
       "      <td>1</td>\n",
       "      <td>[gets, couch, potato]</td>\n",
       "      <td>0</td>\n",
       "      <td>0.823</td>\n",
       "      <td>teen kid clean rock fun ok old pop mature young</td>\n",
       "    </tr>\n",
       "    <tr>\n",
       "      <th>4</th>\n",
       "      <td>A Child's Celebration of Classical Music</td>\n",
       "      <td>2</td>\n",
       "      <td>Talented celebs promote classics for kids.</td>\n",
       "      <td>2</td>\n",
       "      <td>[talented, celebs, promote, classic, kid]</td>\n",
       "      <td>0</td>\n",
       "      <td>0.882</td>\n",
       "      <td>teen kid clean rock fun ok old pop mature young</td>\n",
       "    </tr>\n",
       "    <tr>\n",
       "      <th>5</th>\n",
       "      <td>A Child's Celebration of Dance Music</td>\n",
       "      <td>2</td>\n",
       "      <td>Guaranteed dance-crowd pleasers.</td>\n",
       "      <td>1</td>\n",
       "      <td>[guaranteed, dance, crowd, pleaser]</td>\n",
       "      <td>0</td>\n",
       "      <td>0.844</td>\n",
       "      <td>teen kid clean rock fun ok old pop mature young</td>\n",
       "    </tr>\n",
       "    <tr>\n",
       "      <th>6</th>\n",
       "      <td>A Child's Celebration of Song 2</td>\n",
       "      <td>2</td>\n",
       "      <td>Decades-old songs made fresh for kids.</td>\n",
       "      <td>2</td>\n",
       "      <td>[decades, old, fresh, kid]</td>\n",
       "      <td>5</td>\n",
       "      <td>0.784</td>\n",
       "      <td>sex explicit party profanity heavy video relationship brit kid reference</td>\n",
       "    </tr>\n",
       "    <tr>\n",
       "      <th>7</th>\n",
       "      <td>The Best of Elmo</td>\n",
       "      <td>2</td>\n",
       "      <td>Sesame Street fans love Elmo's fun-filled songs.</td>\n",
       "      <td>1</td>\n",
       "      <td>[sesame, street, fan, love, elmo, fun, fill]</td>\n",
       "      <td>0</td>\n",
       "      <td>0.911</td>\n",
       "      <td>teen kid clean rock fun ok old pop mature young</td>\n",
       "    </tr>\n",
       "    <tr>\n",
       "      <th>8</th>\n",
       "      <td>Fiesta Songs!</td>\n",
       "      <td>2</td>\n",
       "      <td>Parents may enjoy the music as much as their kids.</td>\n",
       "      <td>2</td>\n",
       "      <td>[parents, enjoy, kid]</td>\n",
       "      <td>0</td>\n",
       "      <td>0.823</td>\n",
       "      <td>teen kid clean rock fun ok old pop mature young</td>\n",
       "    </tr>\n",
       "    <tr>\n",
       "      <th>9</th>\n",
       "      <td>Uni Verse of Song-French</td>\n",
       "      <td>2</td>\n",
       "      <td>Excellent French/English sing-along.</td>\n",
       "      <td>1</td>\n",
       "      <td>[excellent, french, english, sing]</td>\n",
       "      <td>0</td>\n",
       "      <td>0.858</td>\n",
       "      <td>teen kid clean rock fun ok old pop mature young</td>\n",
       "    </tr>\n",
       "  </tbody>\n",
       "</table>\n",
       "</div>"
      ],
      "text/plain": [
       "                                      Title  Age  \\\n",
       "0       Sesame Street: Halloween Collection    2   \n",
       "1    A Child's Celebration of Rock 'n' Roll    2   \n",
       "2                              Wake up Jeff    2   \n",
       "3                                Toot Toot!    2   \n",
       "4  A Child's Celebration of Classical Music    2   \n",
       "5      A Child's Celebration of Dance Music    2   \n",
       "6           A Child's Celebration of Song 2    2   \n",
       "7                          The Best of Elmo    2   \n",
       "8                             Fiesta Songs!    2   \n",
       "9                  Uni Verse of Song-French    2   \n",
       "\n",
       "                                                Description  knn_cluster  \\\n",
       "0   Playful, not-so-spooky Halloween songs for the family.             1   \n",
       "1               Songs to get toddlers and teens energized.             1   \n",
       "2         Songs and scenes certain to keep kids attentive.             2   \n",
       "3                Gets little couch potatoes up and moving.             1   \n",
       "4               Talented celebs promote classics for kids.             2   \n",
       "5                         Guaranteed dance-crowd pleasers.             1   \n",
       "6                   Decades-old songs made fresh for kids.             2   \n",
       "7         Sesame Street fans love Elmo's fun-filled songs.             1   \n",
       "8       Parents may enjoy the music as much as their kids.             2   \n",
       "9                     Excellent French/English sing-along.             1   \n",
       "\n",
       "                                 Processed_text  Dominant_topic  Percent  \\\n",
       "0          [playful, spooky, halloween, family]               3    0.423   \n",
       "1              [songs, toddler, teen, energize]               0    0.856   \n",
       "2       [songs, scene, certain, kid, attentive]               0    0.881   \n",
       "3                         [gets, couch, potato]               0    0.823   \n",
       "4     [talented, celebs, promote, classic, kid]               0    0.882   \n",
       "5           [guaranteed, dance, crowd, pleaser]               0    0.844   \n",
       "6                    [decades, old, fresh, kid]               5    0.784   \n",
       "7  [sesame, street, fan, love, elmo, fun, fill]               0    0.911   \n",
       "8                         [parents, enjoy, kid]               0    0.823   \n",
       "9            [excellent, french, english, sing]               0    0.858   \n",
       "\n",
       "                                                                   Keywords  \n",
       "0               rap message sex iffy content positive lyric super bore talk  \n",
       "1                           teen kid clean rock fun ok old pop mature young  \n",
       "2                           teen kid clean rock fun ok old pop mature young  \n",
       "3                           teen kid clean rock fun ok old pop mature young  \n",
       "4                           teen kid clean rock fun ok old pop mature young  \n",
       "5                           teen kid clean rock fun ok old pop mature young  \n",
       "6  sex explicit party profanity heavy video relationship brit kid reference  \n",
       "7                           teen kid clean rock fun ok old pop mature young  \n",
       "8                           teen kid clean rock fun ok old pop mature young  \n",
       "9                           teen kid clean rock fun ok old pop mature young  "
      ]
     },
     "execution_count": 50,
     "metadata": {},
     "output_type": "execute_result"
    }
   ],
   "source": [
    "main_topic_df = get_main_topic_df(lda_model, corpus, processed_text)\n",
    "main_topic_df = pd.concat([df.drop(columns=['Age Group','Artist','Year']), \n",
    "                           main_topic_df[['Processed_text','Dominant_topic','Percent','Keywords']]], axis=1)\n",
    "\n",
    "main_topic_df.head(10)\n"
   ]
  },
  {
   "cell_type": "code",
   "execution_count": 51,
   "id": "5d00bbd2",
   "metadata": {
    "ExecuteTime": {
     "end_time": "2022-03-08T23:21:43.369536Z",
     "start_time": "2022-03-08T23:21:43.168387Z"
    }
   },
   "outputs": [
    {
     "data": {
      "image/png": "[encoded data removed]",
      "text/plain": [
       "<Figure size 432x288 with 1 Axes>"
      ]
     },
     "metadata": {},
     "output_type": "display_data"
    }
   ],
   "source": [
    "grouped_topics = main_topic_df.groupby('Dominant_topic')\n",
    "grouped_topics.count()['Processed_text'].\\\n",
    "    plot.bar(rot=0).\\\n",
    "    set(title='Dominant Topic Frequency in the {} Reviews'.format(len(df)),\n",
    "        ylabel='Topic frequency'); "
   ]
  },
  {
   "cell_type": "code",
   "execution_count": 52,
   "id": "281a101d",
   "metadata": {
    "ExecuteTime": {
     "end_time": "2022-03-08T23:21:45.963877Z",
     "start_time": "2022-03-08T23:21:45.917969Z"
    }
   },
   "outputs": [
    {
     "data": {
      "text/html": [
       "<div>\n",
       "<style scoped>\n",
       "    .dataframe tbody tr th:only-of-type {\n",
       "        vertical-align: middle;\n",
       "    }\n",
       "\n",
       "    .dataframe tbody tr th {\n",
       "        vertical-align: top;\n",
       "    }\n",
       "\n",
       "    .dataframe thead th {\n",
       "        text-align: right;\n",
       "    }\n",
       "</style>\n",
       "<table border=\"1\" class=\"dataframe\">\n",
       "  <thead>\n",
       "    <tr style=\"text-align: right;\">\n",
       "      <th></th>\n",
       "      <th>Title</th>\n",
       "      <th>Age</th>\n",
       "      <th>Description</th>\n",
       "      <th>knn_cluster</th>\n",
       "      <th>Dominant_topic</th>\n",
       "      <th>Percent</th>\n",
       "      <th>Keywords</th>\n",
       "    </tr>\n",
       "  </thead>\n",
       "  <tbody>\n",
       "    <tr>\n",
       "      <th>1280</th>\n",
       "      <td>Love IS</td>\n",
       "      <td>12</td>\n",
       "      <td>Idol's \"Velvet Teddy Bear\" offers clean, gospel-tinged CD.</td>\n",
       "      <td>0</td>\n",
       "      <td>0</td>\n",
       "      <td>0.921</td>\n",
       "      <td>teen kid clean rock fun ok old pop mature young</td>\n",
       "    </tr>\n",
       "    <tr>\n",
       "      <th>970</th>\n",
       "      <td>Highlights From the Complete Soundtrack of American Graffiti</td>\n",
       "      <td>10</td>\n",
       "      <td>Small-town, early '60s innocence frozen in time forever.</td>\n",
       "      <td>1</td>\n",
       "      <td>1</td>\n",
       "      <td>0.912</td>\n",
       "      <td>pop graphic punk love violent clean lyric rock word language</td>\n",
       "    </tr>\n",
       "    <tr>\n",
       "      <th>561</th>\n",
       "      <td>\"Heard It on the Radio\" (CD Single)</td>\n",
       "      <td>7</td>\n",
       "      <td>Austin &amp; Ally star cuts clean track about a fun beach party.</td>\n",
       "      <td>0</td>\n",
       "      <td>2</td>\n",
       "      <td>0.903</td>\n",
       "      <td>pop drink dance club party sexy rock beat star clean</td>\n",
       "    </tr>\n",
       "    <tr>\n",
       "      <th>160</th>\n",
       "      <td>Picnic Playgound</td>\n",
       "      <td>2</td>\n",
       "      <td>Putumayo Kids serves up a colorful mix of tasty treats.</td>\n",
       "      <td>2</td>\n",
       "      <td>3</td>\n",
       "      <td>0.890</td>\n",
       "      <td>rap message sex iffy content positive lyric super bore talk</td>\n",
       "    </tr>\n",
       "    <tr>\n",
       "      <th>757</th>\n",
       "      <td>\"Pompeii\" (CD single)</td>\n",
       "      <td>9</td>\n",
       "      <td>British band's single about famous city's fall stays clean.</td>\n",
       "      <td>0</td>\n",
       "      <td>4</td>\n",
       "      <td>0.897</td>\n",
       "      <td>single clean band catchy well smooth teens bite classic sensation</td>\n",
       "    </tr>\n",
       "    <tr>\n",
       "      <th>1294</th>\n",
       "      <td>\"Didn't You Know How Much I Loved You\" (CD single)</td>\n",
       "      <td>12</td>\n",
       "      <td>Jilted lover's revenge invokes the bedroom but stays tame.</td>\n",
       "      <td>1</td>\n",
       "      <td>5</td>\n",
       "      <td>0.886</td>\n",
       "      <td>sex explicit party profanity heavy video relationship brit kid reference</td>\n",
       "    </tr>\n",
       "  </tbody>\n",
       "</table>\n",
       "</div>"
      ],
      "text/plain": [
       "                                                             Title  Age  \\\n",
       "1280                                                       Love IS   12   \n",
       "970   Highlights From the Complete Soundtrack of American Graffiti   10   \n",
       "561                            \"Heard It on the Radio\" (CD Single)    7   \n",
       "160                                               Picnic Playgound    2   \n",
       "757                                          \"Pompeii\" (CD single)    9   \n",
       "1294            \"Didn't You Know How Much I Loved You\" (CD single)   12   \n",
       "\n",
       "                                                         Description  \\\n",
       "1280     Idol's \"Velvet Teddy Bear\" offers clean, gospel-tinged CD.    \n",
       "970        Small-town, early '60s innocence frozen in time forever.    \n",
       "561    Austin & Ally star cuts clean track about a fun beach party.    \n",
       "160         Putumayo Kids serves up a colorful mix of tasty treats.    \n",
       "757     British band's single about famous city's fall stays clean.    \n",
       "1294     Jilted lover's revenge invokes the bedroom but stays tame.    \n",
       "\n",
       "      knn_cluster  Dominant_topic  Percent  \\\n",
       "1280            0               0    0.921   \n",
       "970             1               1    0.912   \n",
       "561             0               2    0.903   \n",
       "160             2               3    0.890   \n",
       "757             0               4    0.897   \n",
       "1294            1               5    0.886   \n",
       "\n",
       "                                                                      Keywords  \n",
       "1280                           teen kid clean rock fun ok old pop mature young  \n",
       "970               pop graphic punk love violent clean lyric rock word language  \n",
       "561                       pop drink dance club party sexy rock beat star clean  \n",
       "160                rap message sex iffy content positive lyric super bore talk  \n",
       "757          single clean band catchy well smooth teens bite classic sensation  \n",
       "1294  sex explicit party profanity heavy video relationship brit kid reference  "
      ]
     },
     "execution_count": 52,
     "metadata": {},
     "output_type": "execute_result"
    }
   ],
   "source": [
    "representatives = pd.DataFrame()\n",
    "\n",
    "for k in grouped_topics.groups.keys():\n",
    "    representatives = pd.concat([ representatives, \n",
    "                                 grouped_topics.get_group(k).sort_values(['Percent'], ascending=False).head(1) ])\n",
    "    \n",
    "representatives.drop(columns=['Processed_text'])"
   ]
  },
  {
   "cell_type": "code",
   "execution_count": 36,
   "id": "b6f41708",
   "metadata": {
    "ExecuteTime": {
     "end_time": "2022-03-08T23:15:55.915219Z",
     "start_time": "2022-03-08T23:15:55.833758Z"
    }
   },
   "outputs": [
    {
     "data": {
      "application/vnd.jupyter.widget-view+json": {
       "model_id": "d21125e9854a41b69a1139330423982d",
       "version_major": 2,
       "version_minor": 0
      },
      "text/plain": [
       "interactive(children=(Dropdown(description='topic id', options=(0, 1, 2, 3, 4, 5), value=0), Output()), _dom_c…"
      ]
     },
     "metadata": {},
     "output_type": "display_data"
    }
   ],
   "source": [
    "import ipywidgets as widgets\n",
    "from IPython.display import display\n",
    "from ipywidgets import interact, interactive\n",
    "\n",
    "\n",
    "def f(idx):\n",
    "    print('Document: {}  Dominant topic: {}\\n'.format(representatives.index[idx], \n",
    "                                       representatives.loc[representatives.index[idx]]['Dominant_topic']))\n",
    "    print(df['Description'][representatives.index[idx]])\n",
    "\n",
    "    \n",
    "interactive(f, idx = widgets.Dropdown(options=range(num_topics), value=0, description='topic id'))"
   ]
  },
  {
   "cell_type": "markdown",
   "id": "5a109bec",
   "metadata": {},
   "source": [
    "### Topic words destribution per topic "
   ]
  },
  {
   "cell_type": "code",
   "execution_count": 37,
   "id": "d3ffbd22",
   "metadata": {
    "ExecuteTime": {
     "end_time": "2022-03-08T23:15:57.681983Z",
     "start_time": "2022-03-08T23:15:57.655083Z"
    }
   },
   "outputs": [
    {
     "name": "stdout",
     "output_type": "stream",
     "text": [
      "Indices of top words: \n",
      "{962, 131, 6, 10, 74, 202, 1356, 1358, 912, 20, 278, 1752, 793, 29, 30, 1762, 418, 1381, 296, 1772, 173, 115, 1270, 1207, 507, 63}\n",
      "\n"
     ]
    }
   ],
   "source": [
    "lda_top_words_index = set()\n",
    "for i in range(lda_model.num_topics):\n",
    "    lda_top_words_index = lda_top_words_index.union([k for (k,v) in lda_model.get_topic_terms(i)[0:5]])\n",
    "\n",
    "print('Indices of top words: \\n{}\\n'.format(lda_top_words_index))"
   ]
  },
  {
   "cell_type": "code",
   "execution_count": 38,
   "id": "64a6d777",
   "metadata": {
    "ExecuteTime": {
     "end_time": "2022-03-08T23:16:01.613554Z",
     "start_time": "2022-03-08T23:16:01.598363Z"
    }
   },
   "outputs": [
    {
     "data": {
      "text/plain": [
       "[(74, 0.059604354),\n",
       " (1207, 0.040176734),\n",
       " (20, 0.036646508),\n",
       " (962, 0.031089649),\n",
       " (63, 0.025270768),\n",
       " (1292, 0.025252124),\n",
       " (202, 0.02261976),\n",
       " (655, 0.02158346),\n",
       " (104, 0.018632093),\n",
       " (115, 0.016890507)]"
      ]
     },
     "execution_count": 38,
     "metadata": {},
     "output_type": "execute_result"
    }
   ],
   "source": [
    "lda_model.get_topic_terms(2)"
   ]
  },
  {
   "cell_type": "code",
   "execution_count": 39,
   "id": "c2c43363",
   "metadata": {
    "ExecuteTime": {
     "end_time": "2022-03-08T23:16:04.921588Z",
     "start_time": "2022-03-08T23:16:04.895648Z"
    }
   },
   "outputs": [],
   "source": [
    "words_we_care_about = [{dictionary[tup[0]]: tup[1] for tup in lst if tup[0] in lda_top_words_index} \n",
    "                       for lst in corpus]"
   ]
  },
  {
   "cell_type": "code",
   "execution_count": 40,
   "id": "1c22cc7c",
   "metadata": {
    "ExecuteTime": {
     "end_time": "2022-03-08T23:16:06.172057Z",
     "start_time": "2022-03-08T23:16:06.133572Z"
    }
   },
   "outputs": [],
   "source": [
    "lda_top_words_df = pd.DataFrame(words_we_care_about).fillna(0).astype(int).sort_index(axis=1)\n",
    "lda_top_words_df['Cluster'] = main_topic_df['Dominant_topic']"
   ]
  },
  {
   "cell_type": "code",
   "execution_count": 41,
   "id": "8ed30f48",
   "metadata": {
    "ExecuteTime": {
     "end_time": "2022-03-08T23:16:07.825821Z",
     "start_time": "2022-03-08T23:16:07.805868Z"
    }
   },
   "outputs": [
    {
     "data": {
      "text/plain": [
       "Index(['band', 'catchy', 'clean', 'club', 'content', 'dance', 'drink',\n",
       "       'explicit', 'fun', 'graphic', 'heavy', 'iffy', 'kid', 'love', 'message',\n",
       "       'party', 'pop', 'profanity', 'punk', 'rap', 'rock', 'sex', 'single',\n",
       "       'teen', 'violent', 'well', 'Cluster'],\n",
       "      dtype='object')"
      ]
     },
     "execution_count": 41,
     "metadata": {},
     "output_type": "execute_result"
    }
   ],
   "source": [
    "lda_top_words_df.columns"
   ]
  },
  {
   "cell_type": "code",
   "execution_count": 42,
   "id": "8e5baaad",
   "metadata": {
    "ExecuteTime": {
     "end_time": "2022-03-08T23:16:16.792283Z",
     "start_time": "2022-03-08T23:16:16.232722Z"
    }
   },
   "outputs": [
    {
     "data": {
      "image/png": "[encoded data removed]",
      "text/plain": [
       "<Figure size 1080x360 with 1 Axes>"
      ]
     },
     "metadata": {},
     "output_type": "display_data"
    }
   ],
   "source": [
    "\n",
    "import matplotlib.pyplot as plt\n",
    "\n",
    "plt.rc('axes', labelsize=24) \n",
    "plt.rc('xtick', labelsize=24) \n",
    "\n",
    "\n",
    "lda_top_words_df.groupby('Cluster').sum().transpose().\\\n",
    "         plot.bar(figsize=(15, 5), width=0.7).\\\n",
    "         set(ylabel='Word frequency', \n",
    "         title='Word Frequencies by Topic, Combining the Top {} Words in Each Topic'.format(len(lda_top_words_index)));"
   ]
  },
  {
   "cell_type": "code",
   "execution_count": 43,
   "id": "0ebd2256",
   "metadata": {
    "ExecuteTime": {
     "end_time": "2022-03-08T23:16:25.078525Z",
     "start_time": "2022-03-08T23:16:25.024327Z"
    }
   },
   "outputs": [
    {
     "data": {
      "text/html": [
       "<div>\n",
       "<style scoped>\n",
       "    .dataframe tbody tr th:only-of-type {\n",
       "        vertical-align: middle;\n",
       "    }\n",
       "\n",
       "    .dataframe tbody tr th {\n",
       "        vertical-align: top;\n",
       "    }\n",
       "\n",
       "    .dataframe thead th {\n",
       "        text-align: right;\n",
       "    }\n",
       "</style>\n",
       "<table border=\"1\" class=\"dataframe\">\n",
       "  <thead>\n",
       "    <tr style=\"text-align: right;\">\n",
       "      <th></th>\n",
       "      <th>band</th>\n",
       "      <th>catchy</th>\n",
       "      <th>clean</th>\n",
       "      <th>club</th>\n",
       "      <th>content</th>\n",
       "      <th>dance</th>\n",
       "      <th>drink</th>\n",
       "      <th>explicit</th>\n",
       "      <th>fun</th>\n",
       "      <th>graphic</th>\n",
       "      <th>...</th>\n",
       "      <th>pop</th>\n",
       "      <th>profanity</th>\n",
       "      <th>punk</th>\n",
       "      <th>rap</th>\n",
       "      <th>rock</th>\n",
       "      <th>sex</th>\n",
       "      <th>single</th>\n",
       "      <th>teen</th>\n",
       "      <th>violent</th>\n",
       "      <th>well</th>\n",
       "    </tr>\n",
       "    <tr>\n",
       "      <th>Cluster</th>\n",
       "      <th></th>\n",
       "      <th></th>\n",
       "      <th></th>\n",
       "      <th></th>\n",
       "      <th></th>\n",
       "      <th></th>\n",
       "      <th></th>\n",
       "      <th></th>\n",
       "      <th></th>\n",
       "      <th></th>\n",
       "      <th></th>\n",
       "      <th></th>\n",
       "      <th></th>\n",
       "      <th></th>\n",
       "      <th></th>\n",
       "      <th></th>\n",
       "      <th></th>\n",
       "      <th></th>\n",
       "      <th></th>\n",
       "      <th></th>\n",
       "      <th></th>\n",
       "    </tr>\n",
       "  </thead>\n",
       "  <tbody>\n",
       "    <tr>\n",
       "      <th>1</th>\n",
       "      <td>17</td>\n",
       "      <td>12</td>\n",
       "      <td>51</td>\n",
       "      <td>3</td>\n",
       "      <td>4</td>\n",
       "      <td>13</td>\n",
       "      <td>0</td>\n",
       "      <td>3</td>\n",
       "      <td>16</td>\n",
       "      <td>14</td>\n",
       "      <td>...</td>\n",
       "      <td>74</td>\n",
       "      <td>2</td>\n",
       "      <td>23</td>\n",
       "      <td>17</td>\n",
       "      <td>22</td>\n",
       "      <td>4</td>\n",
       "      <td>7</td>\n",
       "      <td>8</td>\n",
       "      <td>15</td>\n",
       "      <td>8</td>\n",
       "    </tr>\n",
       "    <tr>\n",
       "      <th>2</th>\n",
       "      <td>4</td>\n",
       "      <td>9</td>\n",
       "      <td>28</td>\n",
       "      <td>19</td>\n",
       "      <td>1</td>\n",
       "      <td>28</td>\n",
       "      <td>17</td>\n",
       "      <td>4</td>\n",
       "      <td>22</td>\n",
       "      <td>3</td>\n",
       "      <td>...</td>\n",
       "      <td>53</td>\n",
       "      <td>2</td>\n",
       "      <td>2</td>\n",
       "      <td>12</td>\n",
       "      <td>24</td>\n",
       "      <td>6</td>\n",
       "      <td>3</td>\n",
       "      <td>3</td>\n",
       "      <td>4</td>\n",
       "      <td>2</td>\n",
       "    </tr>\n",
       "    <tr>\n",
       "      <th>3</th>\n",
       "      <td>1</td>\n",
       "      <td>2</td>\n",
       "      <td>16</td>\n",
       "      <td>2</td>\n",
       "      <td>8</td>\n",
       "      <td>3</td>\n",
       "      <td>0</td>\n",
       "      <td>6</td>\n",
       "      <td>0</td>\n",
       "      <td>4</td>\n",
       "      <td>...</td>\n",
       "      <td>12</td>\n",
       "      <td>2</td>\n",
       "      <td>0</td>\n",
       "      <td>22</td>\n",
       "      <td>0</td>\n",
       "      <td>20</td>\n",
       "      <td>1</td>\n",
       "      <td>3</td>\n",
       "      <td>1</td>\n",
       "      <td>0</td>\n",
       "    </tr>\n",
       "    <tr>\n",
       "      <th>4</th>\n",
       "      <td>11</td>\n",
       "      <td>13</td>\n",
       "      <td>30</td>\n",
       "      <td>0</td>\n",
       "      <td>0</td>\n",
       "      <td>8</td>\n",
       "      <td>1</td>\n",
       "      <td>1</td>\n",
       "      <td>1</td>\n",
       "      <td>0</td>\n",
       "      <td>...</td>\n",
       "      <td>2</td>\n",
       "      <td>0</td>\n",
       "      <td>0</td>\n",
       "      <td>2</td>\n",
       "      <td>10</td>\n",
       "      <td>1</td>\n",
       "      <td>16</td>\n",
       "      <td>2</td>\n",
       "      <td>0</td>\n",
       "      <td>11</td>\n",
       "    </tr>\n",
       "    <tr>\n",
       "      <th>5</th>\n",
       "      <td>1</td>\n",
       "      <td>1</td>\n",
       "      <td>2</td>\n",
       "      <td>1</td>\n",
       "      <td>0</td>\n",
       "      <td>0</td>\n",
       "      <td>4</td>\n",
       "      <td>9</td>\n",
       "      <td>0</td>\n",
       "      <td>1</td>\n",
       "      <td>...</td>\n",
       "      <td>7</td>\n",
       "      <td>6</td>\n",
       "      <td>0</td>\n",
       "      <td>5</td>\n",
       "      <td>0</td>\n",
       "      <td>18</td>\n",
       "      <td>2</td>\n",
       "      <td>0</td>\n",
       "      <td>0</td>\n",
       "      <td>0</td>\n",
       "    </tr>\n",
       "  </tbody>\n",
       "</table>\n",
       "<p>5 rows × 26 columns</p>\n",
       "</div>"
      ],
      "text/plain": [
       "         band  catchy  clean  club  content  dance  drink  explicit  fun  \\\n",
       "Cluster                                                                    \n",
       "1          17      12     51     3        4     13      0         3   16   \n",
       "2           4       9     28    19        1     28     17         4   22   \n",
       "3           1       2     16     2        8      3      0         6    0   \n",
       "4          11      13     30     0        0      8      1         1    1   \n",
       "5           1       1      2     1        0      0      4         9    0   \n",
       "\n",
       "         graphic  ...  pop  profanity  punk  rap  rock  sex  single  teen  \\\n",
       "Cluster           ...                                                       \n",
       "1             14  ...   74          2    23   17    22    4       7     8   \n",
       "2              3  ...   53          2     2   12    24    6       3     3   \n",
       "3              4  ...   12          2     0   22     0   20       1     3   \n",
       "4              0  ...    2          0     0    2    10    1      16     2   \n",
       "5              1  ...    7          6     0    5     0   18       2     0   \n",
       "\n",
       "         violent  well  \n",
       "Cluster                 \n",
       "1             15     8  \n",
       "2              4     2  \n",
       "3              1     0  \n",
       "4              0    11  \n",
       "5              0     0  \n",
       "\n",
       "[5 rows x 26 columns]"
      ]
     },
     "execution_count": 43,
     "metadata": {},
     "output_type": "execute_result"
    }
   ],
   "source": [
    "lda_top_words_df.groupby('Cluster').sum().iloc[[1,2,3,4,5]]"
   ]
  },
  {
   "cell_type": "code",
   "execution_count": 44,
   "id": "4d22cdd8",
   "metadata": {
    "ExecuteTime": {
     "end_time": "2022-03-08T23:16:29.421911Z",
     "start_time": "2022-03-08T23:16:28.906410Z"
    }
   },
   "outputs": [
    {
     "data": {
      "image/png": "[encoded data removed]",
      "text/plain": [
       "<Figure size 1080x360 with 1 Axes>"
      ]
     },
     "metadata": {},
     "output_type": "display_data"
    }
   ],
   "source": [
    "import matplotlib.pyplot as plt\n",
    "\n",
    "plt.rc('axes', labelsize=24) \n",
    "plt.rc('xtick', labelsize=24) \n",
    "\n",
    "lda_top_words_df.groupby('Cluster').sum().iloc[[1,2,3,4,5]].drop(columns=['clean','kid']).transpose().\\\n",
    "         plot.bar(figsize=(15, 5), width=0.7).\\\n",
    "         set(ylabel='Word frequency', \n",
    "         title='Word Frequencies by Topic, Combining the Top {} Words in Each Topic'.format(len(lda_top_words_index)));\n",
    "\n"
   ]
  },
  {
   "cell_type": "markdown",
   "id": "0fb583fd",
   "metadata": {},
   "source": [
    "### Number of Topics"
   ]
  },
  {
   "cell_type": "code",
   "execution_count": 45,
   "id": "8cfebde0",
   "metadata": {
    "ExecuteTime": {
     "end_time": "2022-03-08T23:17:05.183611Z",
     "start_time": "2022-03-08T23:16:55.443398Z"
    }
   },
   "outputs": [
    {
     "name": "stdout",
     "output_type": "stream",
     "text": [
      "Coherence score for 6 topics:  0.4639508936496488\n"
     ]
    }
   ],
   "source": [
    "cm = gensim.models.coherencemodel.CoherenceModel(model=lda_model,\n",
    "                                                 texts=processed_text,\n",
    "                                                 dictionary=dictionary)\n",
    "\n",
    "coherence_scores = [(num_topics, cm.get_coherence())]\n",
    "print('Coherence score for {} topics:  {}'.format(*coherence_scores[0]))"
   ]
  },
  {
   "cell_type": "code",
   "execution_count": 46,
   "id": "125a32c3",
   "metadata": {
    "ExecuteTime": {
     "end_time": "2022-03-08T23:20:22.170271Z",
     "start_time": "2022-03-08T23:17:09.486573Z"
    }
   },
   "outputs": [
    {
     "data": {
      "text/plain": [
       "[(4, 0.4119012387246631),\n",
       " (5, 0.45838042508682886),\n",
       " (6, 0.4639508936496488),\n",
       " (7, 0.4751209671822399),\n",
       " (8, 0.5027893838233537),\n",
       " (9, 0.5015018937843336),\n",
       " (10, 0.4939042899301721),\n",
       " (11, 0.5198487864048752),\n",
       " (12, 0.5063204507990501),\n",
       " (13, 0.5328261420654614),\n",
       " (14, 0.5194699654333372),\n",
       " (15, 0.521320137604544),\n",
       " (16, 0.5270601266031287),\n",
       " (17, 0.5332656970289977),\n",
       " (18, 0.5465781390551996),\n",
       " (19, 0.5525245997285361)]"
      ]
     },
     "execution_count": 46,
     "metadata": {},
     "output_type": "execute_result"
    }
   ],
   "source": [
    "coherence_scores = []\n",
    "for n in range(4, 20):\n",
    "    mod = gensim.models.ldamodel.LdaModel(corpus=corpus, \n",
    "                                          id2word=dictionary,\n",
    "                                          num_topics=n, \n",
    "                                          random_state=117, update_every=1,\n",
    "                                          chunksize=1500, \n",
    "                                          passes=5, iterations=10,\n",
    "                                          alpha='asymmetric', eta=1/100,\n",
    "                                          per_word_topics=True)\n",
    "    cmodel = gensim.models.coherencemodel.CoherenceModel(model=mod,\n",
    "                                                 texts=processed_text,\n",
    "                                                 dictionary=dictionary)\n",
    "    coherence_scores.append((n, cmodel.get_coherence()))\n",
    "\n",
    "coherence_scores"
   ]
  },
  {
   "cell_type": "code",
   "execution_count": null,
   "id": "fab09cca",
   "metadata": {},
   "outputs": [],
   "source": []
  }
 ],
 "metadata": {
  "kernelspec": {
   "display_name": "Python 3 (ipykernel)",
   "language": "python",
   "name": "python3"
  },
  "language_info": {
   "codemirror_mode": {
    "name": "ipython",
    "version": 3
   },
   "file_extension": ".py",
   "mimetype": "text/x-python",
   "name": "python",
   "nbconvert_exporter": "python",
   "pygments_lexer": "ipython3",
   "version": "3.9.7"
  }
 },
 "nbformat": 4,
 "nbformat_minor": 5
}
