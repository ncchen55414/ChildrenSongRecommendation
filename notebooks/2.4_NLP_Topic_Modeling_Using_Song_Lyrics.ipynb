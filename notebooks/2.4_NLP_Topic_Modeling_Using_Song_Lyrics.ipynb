{
 "cells": [
  {
   "cell_type": "markdown",
   "id": "9f655a0d",
   "metadata": {},
   "source": [
    "# Load Data"
   ]
  },
  {
   "cell_type": "code",
   "execution_count": 1,
   "id": "90c61297",
   "metadata": {
    "ExecuteTime": {
     "end_time": "2022-03-15T00:48:10.103197Z",
     "start_time": "2022-03-15T00:48:04.836080Z"
    }
   },
   "outputs": [],
   "source": [
    "import seaborn as sns\n",
    "import matplotlib.pyplot as plt"
   ]
  },
  {
   "cell_type": "code",
   "execution_count": 2,
   "id": "e9cc0f76",
   "metadata": {
    "ExecuteTime": {
     "end_time": "2022-03-15T00:48:10.641870Z",
     "start_time": "2022-03-15T00:48:10.108230Z"
    }
   },
   "outputs": [
    {
     "name": "stdout",
     "output_type": "stream",
     "text": [
      "Columns of df:  [(0, 'Age'), (1, 'Album_Name'), (2, 'Artist'), (3, 'Year'), (4, 'Description'), (5, 'Age Group'), (6, 'Album_ID'), (7, 'Album_Name_Spotify'), (8, 'Artists_Spotify'), (9, 'Track_ID'), (10, 'ISRC'), (11, 'Track_Name'), (12, 'Artists'), (13, 'popularity'), (14, 'preview_url'), (15, 'image_url'), (16, 'danceability'), (17, 'energy'), (18, 'key'), (19, 'loudness'), (20, 'mode'), (21, 'speechiness'), (22, 'acousticness'), (23, 'instrumentalness'), (24, 'liveness'), (25, 'valence'), (26, 'tempo'), (27, 'type'), (28, 'uri'), (29, 'track_href'), (30, 'analysis_url'), (31, 'duration_ms'), (32, 'time_signature'), (33, 'lyrics')] \n",
      "\n",
      "Shape of df:  (19560, 34) \n",
      "\n",
      "Number of songs having lyrics:  14270 \n",
      "\n"
     ]
    }
   ],
   "source": [
    "import pandas as pd\n",
    "\n",
    "df = pd.read_csv(\"../data/all.csv\")\n",
    "print (\"Columns of df: \",  list(enumerate(df.columns)), \"\\n\")\n",
    "\n",
    "print (\"Shape of df: \", df.shape, \"\\n\")\n",
    "\n",
    "print (\"Number of songs having lyrics: \", df['lyrics'].notnull().sum(), \"\\n\")\n",
    "\n"
   ]
  },
  {
   "cell_type": "code",
   "execution_count": 4,
   "id": "b6193a7a",
   "metadata": {
    "ExecuteTime": {
     "end_time": "2022-03-15T00:48:11.165795Z",
     "start_time": "2022-03-15T00:48:10.678366Z"
    }
   },
   "outputs": [],
   "source": [
    "#df =  df[df['Age']<6]\n",
    "df = df.dropna(subset=['lyrics'])\n",
    "df = df.drop_duplicates(subset=['lyrics'])\n",
    "df = df.reset_index(drop=True)\n",
    "\n",
    "import re\n",
    "\n",
    "def remove_disclaimer(string):\n",
    "    s = re.sub(r'(\\*)+ This Lyrics is NOT for Commercial use .*\\r\\n\\([0-9]*\\)',\"\", string)\n",
    "    return s\n",
    "\n",
    "df['lyrics'] = df['lyrics'].apply(remove_disclaimer)"
   ]
  },
  {
   "cell_type": "code",
   "execution_count": 7,
   "id": "27544182",
   "metadata": {
    "ExecuteTime": {
     "end_time": "2022-03-15T00:48:11.624832Z",
     "start_time": "2022-03-15T00:48:11.200203Z"
    }
   },
   "outputs": [
    {
     "data": {
      "image/png": "[encoded data removed]",
      "text/plain": [
       "<Figure size 432x288 with 1 Axes>"
      ]
     },
     "metadata": {
      "needs_background": "light"
     },
     "output_type": "display_data"
    }
   ],
   "source": [
    "df[df['Age']<5].shape\n",
    "df.groupby('Age').size().\\\n",
    "    plot.bar(rot=0).\\\n",
    "    set(ylabel='Song Count',\n",
    "    title='Number of Song Lyrics per Age');"
   ]
  },
  {
   "cell_type": "markdown",
   "id": "4bf9a0a0",
   "metadata": {},
   "source": [
    "# Text Processing"
   ]
  },
  {
   "cell_type": "code",
   "execution_count": 8,
   "id": "f1cc3b77",
   "metadata": {
    "ExecuteTime": {
     "end_time": "2022-03-15T00:48:23.190126Z",
     "start_time": "2022-03-15T00:48:11.628823Z"
    }
   },
   "outputs": [],
   "source": [
    "import spacy\n",
    "#nlp = spacy.load(\"en\", disable=['parser','ner','tagger', 'textcat'])\n",
    "nlp = spacy.load(\"en_core_web_sm\",  disable=['parser','ner', 'textcat'])"
   ]
  },
  {
   "cell_type": "code",
   "execution_count": 9,
   "id": "9abab84d",
   "metadata": {
    "ExecuteTime": {
     "end_time": "2022-03-15T00:48:23.281113Z",
     "start_time": "2022-03-15T00:48:23.193052Z"
    }
   },
   "outputs": [],
   "source": [
    "import re\n",
    "\n",
    "stopwords = spacy.lang.en.STOP_WORDS\n",
    "stopwords = stopwords.union(['-pron-', 'oh','ooh','la','don','want'])\n",
    "\n",
    "def my_lemmatizer(doc):\n",
    "    doc_cleaned = ' '.join(re.findall(r'\\b\\w\\w\\w+\\b', doc)) \n",
    "    return [ w.lemma_.lower() for w in nlp(doc_cleaned) \n",
    "                      if len(w.lemma_)>2 ]\n",
    "\n",
    "\n",
    "stopwords = set(my_lemmatizer(' '.join(list(stopwords))))\n",
    "\n"
   ]
  },
  {
   "cell_type": "code",
   "execution_count": 10,
   "id": "aee8aeca",
   "metadata": {
    "ExecuteTime": {
     "end_time": "2022-03-15T00:48:23.312611Z",
     "start_time": "2022-03-15T00:48:23.287040Z"
    }
   },
   "outputs": [
    {
     "data": {
      "text/plain": [
       "0        In old Transylvania when I was a lad\\r\\nOur ca...\n",
       "1        Saw a monster in the mirror when I woke up tod...\n",
       "2        The Big Red Car rolls along the street\\r\\nAnd ...\n",
       "3        Every night under the sea, a friendly octopus,...\n",
       "4        Having fun at the beach\\r\\nHaving fun at the b...\n",
       "                               ...                        \n",
       "12272    Now I don't really care what you call me\\r\\nJu...\n",
       "12273    Listen to this track, bitch\\r\\n\\r\\nGirl the wa...\n",
       "12274    My...\\r\\nYeah, yeah\\r\\nMmm\\r\\n\\r\\nMy life, my ...\n",
       "12275    Uh, I like a long-haired, thick redbone\\r\\nOpe...\n",
       "12276    Rack rack city, bitch\\r\\nRack rack rack city, ...\n",
       "Name: lyrics, Length: 12277, dtype: object"
      ]
     },
     "execution_count": 10,
     "metadata": {},
     "output_type": "execute_result"
    }
   ],
   "source": [
    "df['lyrics']"
   ]
  },
  {
   "cell_type": "markdown",
   "id": "55957ff2",
   "metadata": {
    "heading_collapsed": true
   },
   "source": [
    "# Bag-of-Words Model + K-Mean clustering"
   ]
  },
  {
   "cell_type": "code",
   "execution_count": 11,
   "id": "01112c22",
   "metadata": {
    "ExecuteTime": {
     "end_time": "2022-03-15T00:50:02.785107Z",
     "start_time": "2022-03-15T00:48:23.316824Z"
    },
    "hidden": true
   },
   "outputs": [],
   "source": [
    "from sklearn.feature_extraction.text import CountVectorizer, TfidfTransformer\n",
    "\n",
    "cv = CountVectorizer(tokenizer=my_lemmatizer, stop_words=stopwords, \n",
    "                     min_df=2, max_df=0.9)\n",
    "counts = cv.fit_transform(df['lyrics'])\n",
    "\n",
    "tf = TfidfTransformer()\n",
    "matrix = tf.fit_transform(counts)"
   ]
  },
  {
   "cell_type": "code",
   "execution_count": 12,
   "id": "b9030be3",
   "metadata": {
    "ExecuteTime": {
     "end_time": "2022-03-15T00:50:02.810050Z",
     "start_time": "2022-03-15T00:50:02.785107Z"
    },
    "hidden": true
   },
   "outputs": [
    {
     "data": {
      "text/plain": [
       "<bound method CountVectorizer.get_feature_names of CountVectorizer(max_df=0.9, min_df=2,\n",
       "                stop_words={'about', 'above', 'across', 'after', 'afterwards',\n",
       "                            'again', 'against', 'all', 'almost', 'alone',\n",
       "                            'along', 'already', 'also', 'although', 'always',\n",
       "                            'among', 'amongst', 'amount', 'and', 'another',\n",
       "                            'any', 'anyhow', 'anyone', 'anything', 'anyway',\n",
       "                            'anywhere', 'around', 'back', 'because', 'become', ...},\n",
       "                tokenizer=<function my_lemmatizer at 0x000002831AC1B8B0>)>"
      ]
     },
     "execution_count": 12,
     "metadata": {},
     "output_type": "execute_result"
    }
   ],
   "source": [
    "cv.get_feature_names"
   ]
  },
  {
   "cell_type": "code",
   "execution_count": 13,
   "id": "eafa0453",
   "metadata": {
    "ExecuteTime": {
     "end_time": "2022-03-15T00:50:27.341455Z",
     "start_time": "2022-03-15T00:50:02.813355Z"
    },
    "hidden": true
   },
   "outputs": [
    {
     "name": "stdout",
     "output_type": "stream",
     "text": [
      "Cluster 0: \n",
      "like come know man let look ain day time cause \n",
      "\n",
      "Cluster 1: \n",
      "yeah know like love baby cause hey right let girl \n",
      "\n",
      "Cluster 2: \n",
      "baby girl wanna know like let hey cause ain love \n",
      "\n",
      "Cluster 3: \n",
      "know time feel like let way think cause tell away \n",
      "\n",
      "Cluster 4: \n",
      "love know baby like feel heart need let come cause \n",
      "\n"
     ]
    },
    {
     "name": "stderr",
     "output_type": "stream",
     "text": [
      "C:\\Users\\ncche_hrdkov7\\anaconda3\\envs\\nlp\\lib\\site-packages\\sklearn\\utils\\deprecation.py:87: FutureWarning: Function get_feature_names is deprecated; get_feature_names is deprecated in 1.0 and will be removed in 1.2. Please use get_feature_names_out instead.\n",
      "  warnings.warn(msg, category=FutureWarning)\n"
     ]
    }
   ],
   "source": [
    "from sklearn.cluster import KMeans\n",
    "number_of_clusters = 5\n",
    "\n",
    "kmc_5 = KMeans(n_clusters=number_of_clusters, n_init=3, random_state=117)  # random_state for consistency\n",
    "kmc_5.fit(matrix)\n",
    "kmc_5.cluster_centers_\n",
    "import numpy as np\n",
    "\n",
    "number_of_top_words = 10\n",
    "\n",
    "cluster_words = np.argsort(kmc_5.cluster_centers_, axis=1)\n",
    "terms = cv.get_feature_names()\n",
    "\n",
    "top_words = set()\n",
    "\n",
    "for i in range(number_of_clusters):\n",
    "    print('Cluster {}: '.format(i))\n",
    "    print(' '.join([terms[k] for k in cluster_words[i][-number_of_top_words:]][::-1]),'\\n')\n",
    "    top_words = top_words.union([terms[k] for k in cluster_words[i][-number_of_top_words:]])\n",
    "    \n",
    "top_words = sorted(list(top_words))"
   ]
  },
  {
   "cell_type": "code",
   "execution_count": 14,
   "id": "808a3019",
   "metadata": {
    "ExecuteTime": {
     "end_time": "2022-03-15T00:50:27.995936Z",
     "start_time": "2022-03-15T00:50:27.341572Z"
    },
    "hidden": true
   },
   "outputs": [
    {
     "data": {
      "text/html": [
       "<div>\n",
       "<style scoped>\n",
       "    .dataframe tbody tr th:only-of-type {\n",
       "        vertical-align: middle;\n",
       "    }\n",
       "\n",
       "    .dataframe tbody tr th {\n",
       "        vertical-align: top;\n",
       "    }\n",
       "\n",
       "    .dataframe thead th {\n",
       "        text-align: right;\n",
       "    }\n",
       "</style>\n",
       "<table border=\"1\" class=\"dataframe\">\n",
       "  <thead>\n",
       "    <tr style=\"text-align: right;\">\n",
       "      <th></th>\n",
       "      <th>ain</th>\n",
       "      <th>away</th>\n",
       "      <th>baby</th>\n",
       "      <th>cause</th>\n",
       "      <th>come</th>\n",
       "      <th>day</th>\n",
       "      <th>feel</th>\n",
       "      <th>girl</th>\n",
       "      <th>heart</th>\n",
       "      <th>hey</th>\n",
       "      <th>...</th>\n",
       "      <th>man</th>\n",
       "      <th>need</th>\n",
       "      <th>right</th>\n",
       "      <th>tell</th>\n",
       "      <th>think</th>\n",
       "      <th>time</th>\n",
       "      <th>wanna</th>\n",
       "      <th>way</th>\n",
       "      <th>yeah</th>\n",
       "      <th>Cluster</th>\n",
       "    </tr>\n",
       "  </thead>\n",
       "  <tbody>\n",
       "    <tr>\n",
       "      <th>11551</th>\n",
       "      <td>0</td>\n",
       "      <td>0</td>\n",
       "      <td>0</td>\n",
       "      <td>0</td>\n",
       "      <td>1</td>\n",
       "      <td>0</td>\n",
       "      <td>0</td>\n",
       "      <td>0</td>\n",
       "      <td>0</td>\n",
       "      <td>0</td>\n",
       "      <td>...</td>\n",
       "      <td>0</td>\n",
       "      <td>0</td>\n",
       "      <td>2</td>\n",
       "      <td>0</td>\n",
       "      <td>0</td>\n",
       "      <td>1</td>\n",
       "      <td>0</td>\n",
       "      <td>1</td>\n",
       "      <td>0</td>\n",
       "      <td>0</td>\n",
       "    </tr>\n",
       "    <tr>\n",
       "      <th>8020</th>\n",
       "      <td>0</td>\n",
       "      <td>0</td>\n",
       "      <td>0</td>\n",
       "      <td>0</td>\n",
       "      <td>0</td>\n",
       "      <td>0</td>\n",
       "      <td>2</td>\n",
       "      <td>0</td>\n",
       "      <td>0</td>\n",
       "      <td>0</td>\n",
       "      <td>...</td>\n",
       "      <td>2</td>\n",
       "      <td>2</td>\n",
       "      <td>1</td>\n",
       "      <td>0</td>\n",
       "      <td>0</td>\n",
       "      <td>0</td>\n",
       "      <td>0</td>\n",
       "      <td>0</td>\n",
       "      <td>0</td>\n",
       "      <td>4</td>\n",
       "    </tr>\n",
       "    <tr>\n",
       "      <th>5450</th>\n",
       "      <td>0</td>\n",
       "      <td>0</td>\n",
       "      <td>0</td>\n",
       "      <td>0</td>\n",
       "      <td>0</td>\n",
       "      <td>2</td>\n",
       "      <td>0</td>\n",
       "      <td>0</td>\n",
       "      <td>0</td>\n",
       "      <td>0</td>\n",
       "      <td>...</td>\n",
       "      <td>0</td>\n",
       "      <td>0</td>\n",
       "      <td>0</td>\n",
       "      <td>0</td>\n",
       "      <td>0</td>\n",
       "      <td>1</td>\n",
       "      <td>0</td>\n",
       "      <td>0</td>\n",
       "      <td>0</td>\n",
       "      <td>0</td>\n",
       "    </tr>\n",
       "  </tbody>\n",
       "</table>\n",
       "<p>3 rows × 25 columns</p>\n",
       "</div>"
      ],
      "text/plain": [
       "       ain  away  baby  cause  come  day  feel  girl  heart  hey  ...  man  \\\n",
       "11551    0     0     0      0     1    0     0     0      0    0  ...    0   \n",
       "8020     0     0     0      0     0    0     2     0      0    0  ...    2   \n",
       "5450     0     0     0      0     0    2     0     0      0    0  ...    0   \n",
       "\n",
       "       need  right  tell  think  time  wanna  way  yeah  Cluster  \n",
       "11551     0      2     0      0     1      0    1     0        0  \n",
       "8020      2      1     0      0     0      0    0     0        4  \n",
       "5450      0      0     0      0     1      0    0     0        0  \n",
       "\n",
       "[3 rows x 25 columns]"
      ]
     },
     "execution_count": 14,
     "metadata": {},
     "output_type": "execute_result"
    }
   ],
   "source": [
    "word_df = pd.DataFrame(counts.toarray(), columns=terms)[top_words]\n",
    "word_df['Cluster'] = kmc_5.labels_.tolist()\n",
    "word_df.sample(3)"
   ]
  },
  {
   "cell_type": "code",
   "execution_count": 15,
   "id": "6882381f",
   "metadata": {
    "ExecuteTime": {
     "end_time": "2022-03-15T00:50:28.116477Z",
     "start_time": "2022-03-15T00:50:27.995936Z"
    },
    "hidden": true
   },
   "outputs": [
    {
     "data": {
      "image/png": "[encoded data removed]",
      "text/plain": [
       "<Figure size 432x288 with 1 Axes>"
      ]
     },
     "metadata": {
      "needs_background": "light"
     },
     "output_type": "display_data"
    }
   ],
   "source": [
    "word_df.groupby('Cluster').count()[top_words[0]].\\\n",
    "    plot.bar(rot=0).\\\n",
    "    set(ylabel='Document count',\n",
    "    title='Number of Documents per Cluster');"
   ]
  },
  {
   "cell_type": "markdown",
   "id": "3c09a8bb",
   "metadata": {},
   "source": [
    "# Latent Dirichlet allocation (LDA)"
   ]
  },
  {
   "cell_type": "code",
   "execution_count": 27,
   "id": "d747c0dc",
   "metadata": {
    "ExecuteTime": {
     "end_time": "2022-03-15T01:03:40.455359Z",
     "start_time": "2022-03-15T01:02:05.873106Z"
    }
   },
   "outputs": [],
   "source": [
    "import gensim\n",
    "\n",
    "import re\n",
    "def process_words(texts, stop_words=set()):\n",
    "    result = []\n",
    "    for t in texts:\n",
    "        #t = ' '.join(re.findall(r'\\b\\w[\\w\\']+\\b', t))\n",
    "        t = ' '.join(re.findall(r'\\b\\w\\w\\w+\\b', t))   #only keep word with at least 3 chars\n",
    "\n",
    "        doc = nlp(t)\n",
    "        result.append([token.lemma_.lower() for token in doc if token.lemma_.lower() not in stop_words])\n",
    "    return result\n",
    "\n",
    "processed_text = process_words(df['lyrics'], stop_words=stopwords.union(\n",
    "                                ['-pron-', 'oh','ooh','la','don','want', 'like','ain','hey','be','yeah']))"
   ]
  },
  {
   "cell_type": "code",
   "execution_count": 28,
   "id": "c0a0bfd4",
   "metadata": {
    "ExecuteTime": {
     "end_time": "2022-03-15T01:04:08.615151Z",
     "start_time": "2022-03-15T01:03:53.869450Z"
    }
   },
   "outputs": [
    {
     "name": "stdout",
     "output_type": "stream",
     "text": [
      "Number of unique tokens: 24032\n"
     ]
    }
   ],
   "source": [
    "dictionary = gensim.corpora.Dictionary(processed_text)\n",
    "print('Number of unique tokens: {}'.format(len(dictionary)))\n",
    "corpus = [dictionary.doc2bow(t) for t in processed_text]\n",
    "num_topics = 10\n",
    "\n",
    "lda_model = gensim.models.ldamodel.LdaModel(corpus=corpus, \n",
    "                                            id2word=dictionary,\n",
    "                                            num_topics=num_topics, \n",
    "                                            random_state=117, update_every=1,\n",
    "                                            passes=5, iterations=10,\n",
    "                                            alpha='asymmetric', eta=1/100,\n",
    "                                            per_word_topics=True)"
   ]
  },
  {
   "cell_type": "code",
   "execution_count": 29,
   "id": "0f076715",
   "metadata": {
    "ExecuteTime": {
     "end_time": "2022-03-15T01:04:11.787375Z",
     "start_time": "2022-03-15T01:04:11.766854Z"
    }
   },
   "outputs": [
    {
     "data": {
      "text/plain": [
       "'0.021*\"whip\" + 0.020*\"huh\" + 0.019*\"roll\" + 0.019*\"turn\" + 0.018*\"hot\" + 0.016*\"boy\" + 0.015*\"pop\" + 0.015*\"man\" + 0.014*\"dem\" + 0.014*\"hair\"'"
      ]
     },
     "execution_count": 29,
     "metadata": {},
     "output_type": "execute_result"
    }
   ],
   "source": [
    "lda_model.print_topic(5)\n"
   ]
  },
  {
   "cell_type": "code",
   "execution_count": 31,
   "id": "7e94e814",
   "metadata": {
    "ExecuteTime": {
     "end_time": "2022-03-15T01:04:18.974862Z",
     "start_time": "2022-03-15T01:04:18.939663Z"
    },
    "scrolled": true
   },
   "outputs": [
    {
     "name": "stdout",
     "output_type": "stream",
     "text": [
      "[(0,\n",
      "  '0.030*\"run\" + 0.017*\"eye\" + 0.015*\"away\" + 0.013*\"look\" + 0.011*\"fall\" + '\n",
      "  '0.011*\"turn\" + 0.011*\"ground\" + 0.010*\"know\" + 0.009*\"sound\" + '\n",
      "  '0.008*\"rain\"'),\n",
      " (1,\n",
      "  '0.083*\"love\" + 0.044*\"know\" + 0.032*\"tell\" + 0.029*\"think\" + 0.027*\"wanna\" '\n",
      "  '+ 0.020*\"need\" + 0.018*\"time\" + 0.016*\"do\" + 0.016*\"cause\" + 0.012*\"kiss\"'),\n",
      " (2,\n",
      "  '0.033*\"come\" + 0.028*\"let\" + 0.018*\"life\" + 0.017*\"world\" + 0.017*\"time\" + '\n",
      "  '0.015*\"dream\" + 0.014*\"heart\" + 0.014*\"day\" + 0.013*\"fall\" + 0.013*\"light\"'),\n",
      " (3,\n",
      "  '0.017*\"everybody\" + 0.017*\"big\" + 0.012*\"let\" + 0.012*\"play\" + 0.012*\"shit\" '\n",
      "  '+ 0.010*\"know\" + 0.010*\"jump\" + 0.010*\"man\" + 0.010*\"kid\" + 0.010*\"hit\"'),\n",
      " (4,\n",
      "  '0.033*\"night\" + 0.028*\"fuck\" + 0.018*\"black\" + 0.012*\"drink\" + '\n",
      "  '0.012*\"sleep\" + 0.011*\"bed\" + 0.011*\"blow\" + 0.010*\"woah\" + 0.010*\"hoe\" + '\n",
      "  '0.010*\"come\"'),\n",
      " (5,\n",
      "  '0.021*\"whip\" + 0.020*\"huh\" + 0.019*\"roll\" + 0.019*\"turn\" + 0.018*\"hot\" + '\n",
      "  '0.016*\"boy\" + 0.015*\"pop\" + 0.015*\"man\" + 0.014*\"dem\" + 0.014*\"hair\"'),\n",
      " (6,\n",
      "  '0.059*\"know\" + 0.036*\"feel\" + 0.034*\"way\" + 0.030*\"go\" + 0.030*\"try\" + '\n",
      "  '0.022*\"find\" + 0.021*\"hard\" + 0.019*\"do\" + 0.019*\"cause\" + 0.016*\"thing\"'),\n",
      " (7,\n",
      "  '0.095*\"baby\" + 0.086*\"girl\" + 0.042*\"let\" + 0.039*\"know\" + 0.035*\"right\" + '\n",
      "  '0.025*\"wanna\" + 0.019*\"tonight\" + 0.019*\"good\" + 0.019*\"come\" + '\n",
      "  '0.018*\"cause\"'),\n",
      " (8,\n",
      "  '0.036*\"bitch\" + 0.035*\"nigga\" + 0.033*\"shit\" + 0.022*\"money\" + 0.022*\"man\" '\n",
      "  '+ 0.018*\"niggas\" + 0.018*\"he\" + 0.015*\"bout\" + 0.014*\"gon\" + 0.013*\"ass\"'),\n",
      " (9,\n",
      "  '0.144*\"to\" + 0.089*\"going\" + 0.063*\"got\" + 0.026*\"dance\" + 0.025*\"party\" + '\n",
      "  '0.016*\"stop\" + 0.014*\"let\" + 0.014*\"start\" + 0.013*\"way\" + 0.012*\"wanna\"')]\n"
     ]
    }
   ],
   "source": [
    "from pprint import pprint\n",
    "\n",
    "pprint(lda_model.print_topics(num_words=10))"
   ]
  },
  {
   "cell_type": "code",
   "execution_count": 32,
   "id": "6b3e068d",
   "metadata": {
    "ExecuteTime": {
     "end_time": "2022-03-15T01:04:38.257168Z",
     "start_time": "2022-03-15T01:04:38.231765Z"
    }
   },
   "outputs": [],
   "source": [
    "def get_main_topic_df(model, bow, texts):\n",
    "    topic_list = []\n",
    "    percent_list = []\n",
    "    keyword_list = []\n",
    "    \n",
    "    for wc in bow:\n",
    "        topic, percent = sorted(model.get_document_topics(wc), key=lambda x: x[1], reverse=True)[0]\n",
    "        topic_list.append(topic)\n",
    "        percent_list.append(round(percent, 3))\n",
    "        keyword_list.append(' '.join([x[0] for x in model.show_topic(topic)]))\n",
    "\n",
    "    result_df = pd.concat([pd.Series(topic_list, name='Dominant_topic'), \n",
    "                           pd.Series(percent_list, name='Percent'), \n",
    "                           pd.Series(texts, name='Processed_Lyrics'), \n",
    "                           pd.Series(keyword_list, name='Keywords')], axis=1)\n",
    "\n",
    "    return result_df"
   ]
  },
  {
   "cell_type": "code",
   "execution_count": 34,
   "id": "6493b4ad",
   "metadata": {
    "ExecuteTime": {
     "end_time": "2022-03-15T01:04:54.549126Z",
     "start_time": "2022-03-15T01:04:44.970176Z"
    },
    "scrolled": true
   },
   "outputs": [
    {
     "data": {
      "text/html": [
       "<div>\n",
       "<style scoped>\n",
       "    .dataframe tbody tr th:only-of-type {\n",
       "        vertical-align: middle;\n",
       "    }\n",
       "\n",
       "    .dataframe tbody tr th {\n",
       "        vertical-align: top;\n",
       "    }\n",
       "\n",
       "    .dataframe thead th {\n",
       "        text-align: right;\n",
       "    }\n",
       "</style>\n",
       "<table border=\"1\" class=\"dataframe\">\n",
       "  <thead>\n",
       "    <tr style=\"text-align: right;\">\n",
       "      <th></th>\n",
       "      <th>lyrics</th>\n",
       "      <th>Age</th>\n",
       "      <th>Dominant_topic</th>\n",
       "      <th>Percent</th>\n",
       "      <th>Processed_Lyrics</th>\n",
       "      <th>Keywords</th>\n",
       "    </tr>\n",
       "  </thead>\n",
       "  <tbody>\n",
       "    <tr>\n",
       "      <th>3937</th>\n",
       "      <td>Oh\\r\\nCaught in a bad romance\\r\\nOh\\r\\nCaught ...</td>\n",
       "      <td>10</td>\n",
       "      <td>1</td>\n",
       "      <td>0.986</td>\n",
       "      <td>[catch, bad, romance, catch, bad, romance, rah...</td>\n",
       "      <td>love know tell think wanna need time do cause ...</td>\n",
       "    </tr>\n",
       "    <tr>\n",
       "      <th>1936</th>\n",
       "      <td>The situation is critical\\r\\n(Ha, ha, ha)\\r\\nY...</td>\n",
       "      <td>7</td>\n",
       "      <td>9</td>\n",
       "      <td>0.985</td>\n",
       "      <td>[situation, critical, babe, critical, gone, cr...</td>\n",
       "      <td>to going got dance party stop let start way wanna</td>\n",
       "    </tr>\n",
       "    <tr>\n",
       "      <th>1213</th>\n",
       "      <td>Alalo, le, le le\\r\\n\\r\\nEl barrio tiene la lla...</td>\n",
       "      <td>5</td>\n",
       "      <td>5</td>\n",
       "      <td>0.984</td>\n",
       "      <td>[alalo, barrio, tiene, llave, bronx, pelota, c...</td>\n",
       "      <td>whip huh roll turn hot boy pop man dem hair</td>\n",
       "    </tr>\n",
       "    <tr>\n",
       "      <th>1579</th>\n",
       "      <td>Feliz Navidad\\r\\nFeliz Navidad\\r\\nFeliz Navida...</td>\n",
       "      <td>6</td>\n",
       "      <td>1</td>\n",
       "      <td>0.983</td>\n",
       "      <td>[feliz, navidad, feliz, navidad, feliz, navida...</td>\n",
       "      <td>love know tell think wanna need time do cause ...</td>\n",
       "    </tr>\n",
       "    <tr>\n",
       "      <th>3471</th>\n",
       "      <td>(Bah Dah Dah Dah Bah Bah Bah Buh Dah)\\r\\n(Bah ...</td>\n",
       "      <td>10</td>\n",
       "      <td>0</td>\n",
       "      <td>0.982</td>\n",
       "      <td>[bah, dah, dah, dah, bah, bah, bah, buh, dah, ...</td>\n",
       "      <td>run eye away look fall turn ground know sound ...</td>\n",
       "    </tr>\n",
       "    <tr>\n",
       "      <th>3415</th>\n",
       "      <td>Cumbia\\r\\n\\r\\nLa temperatura caliente\\r\\nGotas...</td>\n",
       "      <td>10</td>\n",
       "      <td>5</td>\n",
       "      <td>0.980</td>\n",
       "      <td>[cumbia, temperatura, caliente, gotas, sudor, ...</td>\n",
       "      <td>whip huh roll turn hot boy pop man dem hair</td>\n",
       "    </tr>\n",
       "    <tr>\n",
       "      <th>618</th>\n",
       "      <td>(Quimbombó quimbombó)\\r\\n(Dame cualquier cosa ...</td>\n",
       "      <td>2</td>\n",
       "      <td>5</td>\n",
       "      <td>0.979</td>\n",
       "      <td>[quimbombó, quimbombó, dame, cualquier, cosa, ...</td>\n",
       "      <td>whip huh roll turn hot boy pop man dem hair</td>\n",
       "    </tr>\n",
       "    <tr>\n",
       "      <th>12071</th>\n",
       "      <td>I could lift you up\\r\\nI could show you what y...</td>\n",
       "      <td>8</td>\n",
       "      <td>0</td>\n",
       "      <td>0.978</td>\n",
       "      <td>[lift, wanna, wanna, luck, sky, fall, know, sa...</td>\n",
       "      <td>run eye away look fall turn ground know sound ...</td>\n",
       "    </tr>\n",
       "    <tr>\n",
       "      <th>6523</th>\n",
       "      <td>Llegaste justo a tiempo\\r\\nComo un ángel caído...</td>\n",
       "      <td>13</td>\n",
       "      <td>5</td>\n",
       "      <td>0.977</td>\n",
       "      <td>[llegaste, justo, tiempo, como, ángel, caído, ...</td>\n",
       "      <td>whip huh roll turn hot boy pop man dem hair</td>\n",
       "    </tr>\n",
       "    <tr>\n",
       "      <th>889</th>\n",
       "      <td>I don't want a lot for Christmas\\r\\nThere is j...</td>\n",
       "      <td>4</td>\n",
       "      <td>1</td>\n",
       "      <td>0.977</td>\n",
       "      <td>[lot, christmas, thing, need, care, present, u...</td>\n",
       "      <td>love know tell think wanna need time do cause ...</td>\n",
       "    </tr>\n",
       "  </tbody>\n",
       "</table>\n",
       "</div>"
      ],
      "text/plain": [
       "                                                  lyrics  Age  Dominant_topic  \\\n",
       "3937   Oh\\r\\nCaught in a bad romance\\r\\nOh\\r\\nCaught ...   10               1   \n",
       "1936   The situation is critical\\r\\n(Ha, ha, ha)\\r\\nY...    7               9   \n",
       "1213   Alalo, le, le le\\r\\n\\r\\nEl barrio tiene la lla...    5               5   \n",
       "1579   Feliz Navidad\\r\\nFeliz Navidad\\r\\nFeliz Navida...    6               1   \n",
       "3471   (Bah Dah Dah Dah Bah Bah Bah Buh Dah)\\r\\n(Bah ...   10               0   \n",
       "3415   Cumbia\\r\\n\\r\\nLa temperatura caliente\\r\\nGotas...   10               5   \n",
       "618    (Quimbombó quimbombó)\\r\\n(Dame cualquier cosa ...    2               5   \n",
       "12071  I could lift you up\\r\\nI could show you what y...    8               0   \n",
       "6523   Llegaste justo a tiempo\\r\\nComo un ángel caído...   13               5   \n",
       "889    I don't want a lot for Christmas\\r\\nThere is j...    4               1   \n",
       "\n",
       "       Percent                                   Processed_Lyrics  \\\n",
       "3937     0.986  [catch, bad, romance, catch, bad, romance, rah...   \n",
       "1936     0.985  [situation, critical, babe, critical, gone, cr...   \n",
       "1213     0.984  [alalo, barrio, tiene, llave, bronx, pelota, c...   \n",
       "1579     0.983  [feliz, navidad, feliz, navidad, feliz, navida...   \n",
       "3471     0.982  [bah, dah, dah, dah, bah, bah, bah, buh, dah, ...   \n",
       "3415     0.980  [cumbia, temperatura, caliente, gotas, sudor, ...   \n",
       "618      0.979  [quimbombó, quimbombó, dame, cualquier, cosa, ...   \n",
       "12071    0.978  [lift, wanna, wanna, luck, sky, fall, know, sa...   \n",
       "6523     0.977  [llegaste, justo, tiempo, como, ángel, caído, ...   \n",
       "889      0.977  [lot, christmas, thing, need, care, present, u...   \n",
       "\n",
       "                                                Keywords  \n",
       "3937   love know tell think wanna need time do cause ...  \n",
       "1936   to going got dance party stop let start way wanna  \n",
       "1213         whip huh roll turn hot boy pop man dem hair  \n",
       "1579   love know tell think wanna need time do cause ...  \n",
       "3471   run eye away look fall turn ground know sound ...  \n",
       "3415         whip huh roll turn hot boy pop man dem hair  \n",
       "618          whip huh roll turn hot boy pop man dem hair  \n",
       "12071  run eye away look fall turn ground know sound ...  \n",
       "6523         whip huh roll turn hot boy pop man dem hair  \n",
       "889    love know tell think wanna need time do cause ...  "
      ]
     },
     "execution_count": 34,
     "metadata": {},
     "output_type": "execute_result"
    }
   ],
   "source": [
    "main_topic_df = get_main_topic_df(lda_model, corpus, processed_text)\n",
    "main_topic_df = pd.concat([df[['lyrics','Age']], main_topic_df], axis=1)\n",
    "\n",
    "main_topic_df.sort_values(by='Percent',ascending=False).head(10)"
   ]
  },
  {
   "cell_type": "code",
   "execution_count": 36,
   "id": "cac07674",
   "metadata": {
    "ExecuteTime": {
     "end_time": "2022-03-15T01:05:10.397140Z",
     "start_time": "2022-03-15T01:05:10.331347Z"
    }
   },
   "outputs": [
    {
     "data": {
      "text/html": [
       "<div>\n",
       "<style scoped>\n",
       "    .dataframe tbody tr th:only-of-type {\n",
       "        vertical-align: middle;\n",
       "    }\n",
       "\n",
       "    .dataframe tbody tr th {\n",
       "        vertical-align: top;\n",
       "    }\n",
       "\n",
       "    .dataframe thead th {\n",
       "        text-align: right;\n",
       "    }\n",
       "</style>\n",
       "<table border=\"1\" class=\"dataframe\">\n",
       "  <thead>\n",
       "    <tr style=\"text-align: right;\">\n",
       "      <th></th>\n",
       "      <th>Age</th>\n",
       "      <th>Album_Name</th>\n",
       "      <th>Artist</th>\n",
       "      <th>Year</th>\n",
       "      <th>Description</th>\n",
       "      <th>Age Group</th>\n",
       "      <th>Album_ID</th>\n",
       "      <th>Album_Name_Spotify</th>\n",
       "      <th>Artists_Spotify</th>\n",
       "      <th>Track_ID</th>\n",
       "      <th>...</th>\n",
       "      <th>liveness</th>\n",
       "      <th>valence</th>\n",
       "      <th>tempo</th>\n",
       "      <th>type</th>\n",
       "      <th>uri</th>\n",
       "      <th>track_href</th>\n",
       "      <th>analysis_url</th>\n",
       "      <th>duration_ms</th>\n",
       "      <th>time_signature</th>\n",
       "      <th>lyrics</th>\n",
       "    </tr>\n",
       "  </thead>\n",
       "  <tbody>\n",
       "    <tr>\n",
       "      <th>1707</th>\n",
       "      <td>6</td>\n",
       "      <td>Madagascar 3: Europe's Most Wanted Soundtrack</td>\n",
       "      <td>Various Artists</td>\n",
       "      <td>2012</td>\n",
       "      <td>Third movie soundtrack is mostly danceable fa...</td>\n",
       "      <td>Middle Childhood 1</td>\n",
       "      <td>3xBGPEOCh0In2UbR8Do8jC</td>\n",
       "      <td>Madagascar 3: Europe's Most Wanted (Music From...</td>\n",
       "      <td>['Various Artists']</td>\n",
       "      <td>7hz0ci7spOQMeIjr8NoA5N</td>\n",
       "      <td>...</td>\n",
       "      <td>0.169</td>\n",
       "      <td>0.782</td>\n",
       "      <td>120.011</td>\n",
       "      <td>audio_features</td>\n",
       "      <td>spotify:track:7hz0ci7spOQMeIjr8NoA5N</td>\n",
       "      <td>https://api.spotify.com/v1/tracks/7hz0ci7spOQM...</td>\n",
       "      <td>https://api.spotify.com/v1/audio-analysis/7hz0...</td>\n",
       "      <td>157427.0</td>\n",
       "      <td>4.0</td>\n",
       "      <td>Yo, I'll tell you what I want, what I really r...</td>\n",
       "    </tr>\n",
       "    <tr>\n",
       "      <th>3311</th>\n",
       "      <td>10</td>\n",
       "      <td>Greatest Hits</td>\n",
       "      <td>Spice Girls</td>\n",
       "      <td>2007</td>\n",
       "      <td>Just as pop-y and fun as we remember; some sex.</td>\n",
       "      <td>Middle Childhood 2</td>\n",
       "      <td>2XLpqfYjGTecYQJQU9wFxG</td>\n",
       "      <td>Greatest Hits</td>\n",
       "      <td>['Spice Girls']</td>\n",
       "      <td>6php91A59VFhwtv6qU6Bkh</td>\n",
       "      <td>...</td>\n",
       "      <td>0.110</td>\n",
       "      <td>0.844</td>\n",
       "      <td>110.018</td>\n",
       "      <td>audio_features</td>\n",
       "      <td>spotify:track:6php91A59VFhwtv6qU6Bkh</td>\n",
       "      <td>https://api.spotify.com/v1/tracks/6php91A59VFh...</td>\n",
       "      <td>https://api.spotify.com/v1/audio-analysis/6php...</td>\n",
       "      <td>174160.0</td>\n",
       "      <td>4.0</td>\n",
       "      <td>Ha, ha, ha\\r\\nYo, I'll tell you what I want, w...</td>\n",
       "    </tr>\n",
       "    <tr>\n",
       "      <th>3326</th>\n",
       "      <td>10</td>\n",
       "      <td>Greatest Hits</td>\n",
       "      <td>Spice Girls</td>\n",
       "      <td>2007</td>\n",
       "      <td>Just as pop-y and fun as we remember; some sex.</td>\n",
       "      <td>Middle Childhood 2</td>\n",
       "      <td>2XLpqfYjGTecYQJQU9wFxG</td>\n",
       "      <td>Greatest Hits</td>\n",
       "      <td>['Spice Girls']</td>\n",
       "      <td>5ao7SqQdTcIvOXYt3sg5kV</td>\n",
       "      <td>...</td>\n",
       "      <td>0.591</td>\n",
       "      <td>0.364</td>\n",
       "      <td>124.851</td>\n",
       "      <td>audio_features</td>\n",
       "      <td>spotify:track:5ao7SqQdTcIvOXYt3sg5kV</td>\n",
       "      <td>https://api.spotify.com/v1/tracks/5ao7SqQdTcIv...</td>\n",
       "      <td>https://api.spotify.com/v1/audio-analysis/5ao7...</td>\n",
       "      <td>398773.0</td>\n",
       "      <td>4.0</td>\n",
       "      <td>Yo, I'll tell you what I want, what I really, ...</td>\n",
       "    </tr>\n",
       "  </tbody>\n",
       "</table>\n",
       "<p>3 rows × 34 columns</p>\n",
       "</div>"
      ],
      "text/plain": [
       "      Age                                     Album_Name           Artist  \\\n",
       "1707    6  Madagascar 3: Europe's Most Wanted Soundtrack  Various Artists   \n",
       "3311   10                                  Greatest Hits      Spice Girls   \n",
       "3326   10                                  Greatest Hits      Spice Girls   \n",
       "\n",
       "      Year                                        Description  \\\n",
       "1707  2012   Third movie soundtrack is mostly danceable fa...   \n",
       "3311  2007   Just as pop-y and fun as we remember; some sex.    \n",
       "3326  2007   Just as pop-y and fun as we remember; some sex.    \n",
       "\n",
       "               Age Group                Album_ID  \\\n",
       "1707  Middle Childhood 1  3xBGPEOCh0In2UbR8Do8jC   \n",
       "3311  Middle Childhood 2  2XLpqfYjGTecYQJQU9wFxG   \n",
       "3326  Middle Childhood 2  2XLpqfYjGTecYQJQU9wFxG   \n",
       "\n",
       "                                     Album_Name_Spotify      Artists_Spotify  \\\n",
       "1707  Madagascar 3: Europe's Most Wanted (Music From...  ['Various Artists']   \n",
       "3311                                      Greatest Hits      ['Spice Girls']   \n",
       "3326                                      Greatest Hits      ['Spice Girls']   \n",
       "\n",
       "                    Track_ID  ... liveness valence    tempo            type  \\\n",
       "1707  7hz0ci7spOQMeIjr8NoA5N  ...    0.169   0.782  120.011  audio_features   \n",
       "3311  6php91A59VFhwtv6qU6Bkh  ...    0.110   0.844  110.018  audio_features   \n",
       "3326  5ao7SqQdTcIvOXYt3sg5kV  ...    0.591   0.364  124.851  audio_features   \n",
       "\n",
       "                                       uri  \\\n",
       "1707  spotify:track:7hz0ci7spOQMeIjr8NoA5N   \n",
       "3311  spotify:track:6php91A59VFhwtv6qU6Bkh   \n",
       "3326  spotify:track:5ao7SqQdTcIvOXYt3sg5kV   \n",
       "\n",
       "                                             track_href  \\\n",
       "1707  https://api.spotify.com/v1/tracks/7hz0ci7spOQM...   \n",
       "3311  https://api.spotify.com/v1/tracks/6php91A59VFh...   \n",
       "3326  https://api.spotify.com/v1/tracks/5ao7SqQdTcIv...   \n",
       "\n",
       "                                           analysis_url  duration_ms  \\\n",
       "1707  https://api.spotify.com/v1/audio-analysis/7hz0...     157427.0   \n",
       "3311  https://api.spotify.com/v1/audio-analysis/6php...     174160.0   \n",
       "3326  https://api.spotify.com/v1/audio-analysis/5ao7...     398773.0   \n",
       "\n",
       "      time_signature                                             lyrics  \n",
       "1707             4.0  Yo, I'll tell you what I want, what I really r...  \n",
       "3311             4.0  Ha, ha, ha\\r\\nYo, I'll tell you what I want, w...  \n",
       "3326             4.0  Yo, I'll tell you what I want, what I really, ...  \n",
       "\n",
       "[3 rows x 34 columns]"
      ]
     },
     "execution_count": 36,
     "metadata": {},
     "output_type": "execute_result"
    }
   ],
   "source": [
    "df[df['lyrics'].str.contains(\"Yo, I'll tell you what I want, what I really\")]"
   ]
  },
  {
   "cell_type": "code",
   "execution_count": 45,
   "id": "a0eaff5e",
   "metadata": {
    "ExecuteTime": {
     "end_time": "2022-03-15T01:09:45.459559Z",
     "start_time": "2022-03-15T01:09:45.425198Z"
    }
   },
   "outputs": [
    {
     "data": {
      "text/html": [
       "<div>\n",
       "<style scoped>\n",
       "    .dataframe tbody tr th:only-of-type {\n",
       "        vertical-align: middle;\n",
       "    }\n",
       "\n",
       "    .dataframe tbody tr th {\n",
       "        vertical-align: top;\n",
       "    }\n",
       "\n",
       "    .dataframe thead th {\n",
       "        text-align: right;\n",
       "    }\n",
       "</style>\n",
       "<table border=\"1\" class=\"dataframe\">\n",
       "  <thead>\n",
       "    <tr style=\"text-align: right;\">\n",
       "      <th></th>\n",
       "      <th>lyrics</th>\n",
       "      <th>Dominant_topic</th>\n",
       "      <th>Percent</th>\n",
       "      <th>Processed_Lyrics</th>\n",
       "      <th>Keywords</th>\n",
       "    </tr>\n",
       "    <tr>\n",
       "      <th>Age</th>\n",
       "      <th></th>\n",
       "      <th></th>\n",
       "      <th></th>\n",
       "      <th></th>\n",
       "      <th></th>\n",
       "    </tr>\n",
       "  </thead>\n",
       "  <tbody>\n",
       "    <tr>\n",
       "      <th>2</th>\n",
       "      <td>84</td>\n",
       "      <td>84</td>\n",
       "      <td>84</td>\n",
       "      <td>84</td>\n",
       "      <td>84</td>\n",
       "    </tr>\n",
       "    <tr>\n",
       "      <th>3</th>\n",
       "      <td>6</td>\n",
       "      <td>6</td>\n",
       "      <td>6</td>\n",
       "      <td>6</td>\n",
       "      <td>6</td>\n",
       "    </tr>\n",
       "    <tr>\n",
       "      <th>4</th>\n",
       "      <td>26</td>\n",
       "      <td>26</td>\n",
       "      <td>26</td>\n",
       "      <td>26</td>\n",
       "      <td>26</td>\n",
       "    </tr>\n",
       "    <tr>\n",
       "      <th>5</th>\n",
       "      <td>17</td>\n",
       "      <td>17</td>\n",
       "      <td>17</td>\n",
       "      <td>17</td>\n",
       "      <td>17</td>\n",
       "    </tr>\n",
       "    <tr>\n",
       "      <th>6</th>\n",
       "      <td>13</td>\n",
       "      <td>13</td>\n",
       "      <td>13</td>\n",
       "      <td>13</td>\n",
       "      <td>13</td>\n",
       "    </tr>\n",
       "    <tr>\n",
       "      <th>7</th>\n",
       "      <td>6</td>\n",
       "      <td>6</td>\n",
       "      <td>6</td>\n",
       "      <td>6</td>\n",
       "      <td>6</td>\n",
       "    </tr>\n",
       "    <tr>\n",
       "      <th>8</th>\n",
       "      <td>16</td>\n",
       "      <td>16</td>\n",
       "      <td>16</td>\n",
       "      <td>16</td>\n",
       "      <td>16</td>\n",
       "    </tr>\n",
       "    <tr>\n",
       "      <th>9</th>\n",
       "      <td>3</td>\n",
       "      <td>3</td>\n",
       "      <td>3</td>\n",
       "      <td>3</td>\n",
       "      <td>3</td>\n",
       "    </tr>\n",
       "    <tr>\n",
       "      <th>10</th>\n",
       "      <td>53</td>\n",
       "      <td>53</td>\n",
       "      <td>53</td>\n",
       "      <td>53</td>\n",
       "      <td>53</td>\n",
       "    </tr>\n",
       "    <tr>\n",
       "      <th>11</th>\n",
       "      <td>7</td>\n",
       "      <td>7</td>\n",
       "      <td>7</td>\n",
       "      <td>7</td>\n",
       "      <td>7</td>\n",
       "    </tr>\n",
       "    <tr>\n",
       "      <th>12</th>\n",
       "      <td>49</td>\n",
       "      <td>49</td>\n",
       "      <td>49</td>\n",
       "      <td>49</td>\n",
       "      <td>49</td>\n",
       "    </tr>\n",
       "    <tr>\n",
       "      <th>13</th>\n",
       "      <td>54</td>\n",
       "      <td>54</td>\n",
       "      <td>54</td>\n",
       "      <td>54</td>\n",
       "      <td>54</td>\n",
       "    </tr>\n",
       "    <tr>\n",
       "      <th>14</th>\n",
       "      <td>60</td>\n",
       "      <td>60</td>\n",
       "      <td>60</td>\n",
       "      <td>60</td>\n",
       "      <td>60</td>\n",
       "    </tr>\n",
       "    <tr>\n",
       "      <th>15</th>\n",
       "      <td>32</td>\n",
       "      <td>32</td>\n",
       "      <td>32</td>\n",
       "      <td>32</td>\n",
       "      <td>32</td>\n",
       "    </tr>\n",
       "    <tr>\n",
       "      <th>16</th>\n",
       "      <td>25</td>\n",
       "      <td>25</td>\n",
       "      <td>25</td>\n",
       "      <td>25</td>\n",
       "      <td>25</td>\n",
       "    </tr>\n",
       "    <tr>\n",
       "      <th>17</th>\n",
       "      <td>9</td>\n",
       "      <td>9</td>\n",
       "      <td>9</td>\n",
       "      <td>9</td>\n",
       "      <td>9</td>\n",
       "    </tr>\n",
       "    <tr>\n",
       "      <th>18</th>\n",
       "      <td>60</td>\n",
       "      <td>60</td>\n",
       "      <td>60</td>\n",
       "      <td>60</td>\n",
       "      <td>60</td>\n",
       "    </tr>\n",
       "  </tbody>\n",
       "</table>\n",
       "</div>"
      ],
      "text/plain": [
       "     lyrics  Dominant_topic  Percent  Processed_Lyrics  Keywords\n",
       "Age                                                             \n",
       "2        84              84       84                84        84\n",
       "3         6               6        6                 6         6\n",
       "4        26              26       26                26        26\n",
       "5        17              17       17                17        17\n",
       "6        13              13       13                13        13\n",
       "7         6               6        6                 6         6\n",
       "8        16              16       16                16        16\n",
       "9         3               3        3                 3         3\n",
       "10       53              53       53                53        53\n",
       "11        7               7        7                 7         7\n",
       "12       49              49       49                49        49\n",
       "13       54              54       54                54        54\n",
       "14       60              60       60                60        60\n",
       "15       32              32       32                32        32\n",
       "16       25              25       25                25        25\n",
       "17        9               9        9                 9         9\n",
       "18       60              60       60                60        60"
      ]
     },
     "execution_count": 45,
     "metadata": {},
     "output_type": "execute_result"
    }
   ],
   "source": [
    "main_topic_df[main_topic_df['Dominant_topic']==4].groupby('Age').count()"
   ]
  },
  {
   "cell_type": "code",
   "execution_count": 42,
   "id": "34c3ed2a",
   "metadata": {
    "ExecuteTime": {
     "end_time": "2022-03-15T01:07:02.447931Z",
     "start_time": "2022-03-15T01:07:02.400278Z"
    }
   },
   "outputs": [
    {
     "name": "stdout",
     "output_type": "stream",
     "text": [
      "topic 3:\n",
      " 0.033*\"night\" + 0.028*\"fuck\" + 0.018*\"black\" + 0.012*\"drink\" + 0.012*\"sleep\" + 0.011*\"bed\" + 0.011*\"blow\" + 0.010*\"woah\" + 0.010*\"hoe\" + 0.010*\"come\"\n"
     ]
    },
    {
     "data": {
      "text/html": [
       "<div>\n",
       "<style scoped>\n",
       "    .dataframe tbody tr th:only-of-type {\n",
       "        vertical-align: middle;\n",
       "    }\n",
       "\n",
       "    .dataframe tbody tr th {\n",
       "        vertical-align: top;\n",
       "    }\n",
       "\n",
       "    .dataframe thead th {\n",
       "        text-align: right;\n",
       "    }\n",
       "</style>\n",
       "<table border=\"1\" class=\"dataframe\">\n",
       "  <thead>\n",
       "    <tr style=\"text-align: right;\">\n",
       "      <th></th>\n",
       "      <th>lyrics</th>\n",
       "      <th>Age</th>\n",
       "      <th>Dominant_topic</th>\n",
       "      <th>Percent</th>\n",
       "      <th>Processed_Lyrics</th>\n",
       "      <th>Keywords</th>\n",
       "    </tr>\n",
       "  </thead>\n",
       "  <tbody>\n",
       "    <tr>\n",
       "      <th>4072</th>\n",
       "      <td>We're homeless, we're homeless, we're homeless...</td>\n",
       "      <td>10</td>\n",
       "      <td>4</td>\n",
       "      <td>0.963</td>\n",
       "      <td>[homeless, homeless, homeless, moonlight, slee...</td>\n",
       "      <td>night fuck black drink sleep bed blow woah hoe...</td>\n",
       "    </tr>\n",
       "    <tr>\n",
       "      <th>1053</th>\n",
       "      <td>Cruella\\r\\n\\r\\nCruella De Vil\\r\\n\\r\\nCruella\\r...</td>\n",
       "      <td>4</td>\n",
       "      <td>4</td>\n",
       "      <td>0.957</td>\n",
       "      <td>[cruella, cruella, vil, cruella, look, cruella...</td>\n",
       "      <td>night fuck black drink sleep bed blow woah hoe...</td>\n",
       "    </tr>\n",
       "    <tr>\n",
       "      <th>136</th>\n",
       "      <td>B-O-O-T-S boots!\\r\\nB-O-O-T-S black boots\\r\\nI...</td>\n",
       "      <td>2</td>\n",
       "      <td>4</td>\n",
       "      <td>0.954</td>\n",
       "      <td>[boot, black, boot, black, boot, black, boot, ...</td>\n",
       "      <td>night fuck black drink sleep bed blow woah hoe...</td>\n",
       "    </tr>\n",
       "    <tr>\n",
       "      <th>12043</th>\n",
       "      <td>Oooh, ooh oh oh, oooh oh\\r\\nLook out for Cruel...</td>\n",
       "      <td>6</td>\n",
       "      <td>4</td>\n",
       "      <td>0.950</td>\n",
       "      <td>[oooh, oooh, look, cruella, vil, cruella, vil,...</td>\n",
       "      <td>night fuck black drink sleep bed blow woah hoe...</td>\n",
       "    </tr>\n",
       "    <tr>\n",
       "      <th>4068</th>\n",
       "      <td>Emaweni webaba\\r\\nSilale maweni\\r\\nWebaba sila...</td>\n",
       "      <td>10</td>\n",
       "      <td>4</td>\n",
       "      <td>0.949</td>\n",
       "      <td>[emaweni, webaba, silale, maweni, webaba, sila...</td>\n",
       "      <td>night fuck black drink sleep bed blow woah hoe...</td>\n",
       "    </tr>\n",
       "    <tr>\n",
       "      <th>...</th>\n",
       "      <td>...</td>\n",
       "      <td>...</td>\n",
       "      <td>...</td>\n",
       "      <td>...</td>\n",
       "      <td>...</td>\n",
       "      <td>...</td>\n",
       "    </tr>\n",
       "    <tr>\n",
       "      <th>11029</th>\n",
       "      <td>[Verse 1\\r\\nLast Night Me N My Dawgs Were Hang...</td>\n",
       "      <td>17</td>\n",
       "      <td>4</td>\n",
       "      <td>0.201</td>\n",
       "      <td>[verse, night, dawgs, hang, tired, cramp, hous...</td>\n",
       "      <td>night fuck black drink sleep bed blow woah hoe...</td>\n",
       "    </tr>\n",
       "    <tr>\n",
       "      <th>11419</th>\n",
       "      <td>Baby, I gotta, get you up out of\\r\\nYour cloth...</td>\n",
       "      <td>18</td>\n",
       "      <td>4</td>\n",
       "      <td>0.198</td>\n",
       "      <td>[baby, got, to, clothe, clothe, clothe, someth...</td>\n",
       "      <td>night fuck black drink sleep bed blow woah hoe...</td>\n",
       "    </tr>\n",
       "    <tr>\n",
       "      <th>9291</th>\n",
       "      <td>Coming in from London from over the pole\\r\\nFl...</td>\n",
       "      <td>14</td>\n",
       "      <td>4</td>\n",
       "      <td>0.194</td>\n",
       "      <td>[come, london, pole, fly, big, airliner, chick...</td>\n",
       "      <td>night fuck black drink sleep bed blow woah hoe...</td>\n",
       "    </tr>\n",
       "    <tr>\n",
       "      <th>11329</th>\n",
       "      <td>What happened in hip hop\\r\\nThat got pac and b...</td>\n",
       "      <td>18</td>\n",
       "      <td>4</td>\n",
       "      <td>0.194</td>\n",
       "      <td>[happen, hip, hop, pac, big, shot, thick, bloc...</td>\n",
       "      <td>night fuck black drink sleep bed blow woah hoe...</td>\n",
       "    </tr>\n",
       "    <tr>\n",
       "      <th>11446</th>\n",
       "      <td>Jimmy can crack corn, but I don't care\\r\\nMy e...</td>\n",
       "      <td>18</td>\n",
       "      <td>4</td>\n",
       "      <td>0.189</td>\n",
       "      <td>[jimmy, crack, corn, care, enemy, crack, corn,...</td>\n",
       "      <td>night fuck black drink sleep bed blow woah hoe...</td>\n",
       "    </tr>\n",
       "  </tbody>\n",
       "</table>\n",
       "<p>520 rows × 6 columns</p>\n",
       "</div>"
      ],
      "text/plain": [
       "                                                  lyrics  Age  Dominant_topic  \\\n",
       "4072   We're homeless, we're homeless, we're homeless...   10               4   \n",
       "1053   Cruella\\r\\n\\r\\nCruella De Vil\\r\\n\\r\\nCruella\\r...    4               4   \n",
       "136    B-O-O-T-S boots!\\r\\nB-O-O-T-S black boots\\r\\nI...    2               4   \n",
       "12043  Oooh, ooh oh oh, oooh oh\\r\\nLook out for Cruel...    6               4   \n",
       "4068   Emaweni webaba\\r\\nSilale maweni\\r\\nWebaba sila...   10               4   \n",
       "...                                                  ...  ...             ...   \n",
       "11029  [Verse 1\\r\\nLast Night Me N My Dawgs Were Hang...   17               4   \n",
       "11419  Baby, I gotta, get you up out of\\r\\nYour cloth...   18               4   \n",
       "9291   Coming in from London from over the pole\\r\\nFl...   14               4   \n",
       "11329  What happened in hip hop\\r\\nThat got pac and b...   18               4   \n",
       "11446  Jimmy can crack corn, but I don't care\\r\\nMy e...   18               4   \n",
       "\n",
       "       Percent                                   Processed_Lyrics  \\\n",
       "4072     0.963  [homeless, homeless, homeless, moonlight, slee...   \n",
       "1053     0.957  [cruella, cruella, vil, cruella, look, cruella...   \n",
       "136      0.954  [boot, black, boot, black, boot, black, boot, ...   \n",
       "12043    0.950  [oooh, oooh, look, cruella, vil, cruella, vil,...   \n",
       "4068     0.949  [emaweni, webaba, silale, maweni, webaba, sila...   \n",
       "...        ...                                                ...   \n",
       "11029    0.201  [verse, night, dawgs, hang, tired, cramp, hous...   \n",
       "11419    0.198  [baby, got, to, clothe, clothe, clothe, someth...   \n",
       "9291     0.194  [come, london, pole, fly, big, airliner, chick...   \n",
       "11329    0.194  [happen, hip, hop, pac, big, shot, thick, bloc...   \n",
       "11446    0.189  [jimmy, crack, corn, care, enemy, crack, corn,...   \n",
       "\n",
       "                                                Keywords  \n",
       "4072   night fuck black drink sleep bed blow woah hoe...  \n",
       "1053   night fuck black drink sleep bed blow woah hoe...  \n",
       "136    night fuck black drink sleep bed blow woah hoe...  \n",
       "12043  night fuck black drink sleep bed blow woah hoe...  \n",
       "4068   night fuck black drink sleep bed blow woah hoe...  \n",
       "...                                                  ...  \n",
       "11029  night fuck black drink sleep bed blow woah hoe...  \n",
       "11419  night fuck black drink sleep bed blow woah hoe...  \n",
       "9291   night fuck black drink sleep bed blow woah hoe...  \n",
       "11329  night fuck black drink sleep bed blow woah hoe...  \n",
       "11446  night fuck black drink sleep bed blow woah hoe...  \n",
       "\n",
       "[520 rows x 6 columns]"
      ]
     },
     "execution_count": 42,
     "metadata": {},
     "output_type": "execute_result"
    }
   ],
   "source": [
    "print (\"topic 3:\\n\", lda_model.print_topic(4))\n",
    "main_topic_df[(main_topic_df['Dominant_topic']==8) & (main_topic_df['Age']<8)].sort_values(by='Percent', ascending=False)\n",
    "\n",
    "\n",
    "main_topic_df[main_topic_df['Dominant_topic']==4].sort_values(by='Percent', ascending=False)"
   ]
  },
  {
   "cell_type": "code",
   "execution_count": 43,
   "id": "c1d09904",
   "metadata": {
    "ExecuteTime": {
     "end_time": "2022-03-15T01:07:14.766475Z",
     "start_time": "2022-03-15T01:07:14.708128Z"
    }
   },
   "outputs": [
    {
     "data": {
      "text/html": [
       "<div>\n",
       "<style scoped>\n",
       "    .dataframe tbody tr th:only-of-type {\n",
       "        vertical-align: middle;\n",
       "    }\n",
       "\n",
       "    .dataframe tbody tr th {\n",
       "        vertical-align: top;\n",
       "    }\n",
       "\n",
       "    .dataframe thead th {\n",
       "        text-align: right;\n",
       "    }\n",
       "</style>\n",
       "<table border=\"1\" class=\"dataframe\">\n",
       "  <thead>\n",
       "    <tr style=\"text-align: right;\">\n",
       "      <th></th>\n",
       "      <th>lyrics</th>\n",
       "      <th>Age</th>\n",
       "      <th>Dominant_topic</th>\n",
       "      <th>Percent</th>\n",
       "      <th>Processed_Lyrics</th>\n",
       "      <th>Keywords</th>\n",
       "    </tr>\n",
       "  </thead>\n",
       "  <tbody>\n",
       "    <tr>\n",
       "      <th>9799</th>\n",
       "      <td>Gonna dance hall, dance hall everyday\\r\\nI'm g...</td>\n",
       "      <td>15</td>\n",
       "      <td>9</td>\n",
       "      <td>0.867</td>\n",
       "      <td>[going, to, dance, hall, dance, hall, everyday...</td>\n",
       "      <td>to going got dance party stop let start way wanna</td>\n",
       "    </tr>\n",
       "    <tr>\n",
       "      <th>10925</th>\n",
       "      <td>Yup, yeah yeah\\r\\nOh, hahahaha\\r\\nYup yup yup ...</td>\n",
       "      <td>16</td>\n",
       "      <td>8</td>\n",
       "      <td>0.825</td>\n",
       "      <td>[yup, hahahaha, yup, yup, yup, yup, yup, yup, ...</td>\n",
       "      <td>bitch nigga shit money man niggas he bout gon ass</td>\n",
       "    </tr>\n",
       "    <tr>\n",
       "      <th>11368</th>\n",
       "      <td>Yeah! Right about now (whats up)\\r\\nIt's time ...</td>\n",
       "      <td>18</td>\n",
       "      <td>8</td>\n",
       "      <td>0.823</td>\n",
       "      <td>[right, s, time, real, nigga, roll, hear, city...</td>\n",
       "      <td>bitch nigga shit money man niggas he bout gon ass</td>\n",
       "    </tr>\n",
       "    <tr>\n",
       "      <th>10870</th>\n",
       "      <td>Bang, my shit bang, it bang bang\\r\\nB-b-bang, ...</td>\n",
       "      <td>16</td>\n",
       "      <td>8</td>\n",
       "      <td>0.787</td>\n",
       "      <td>[bang, shit, bang, bang, bang, bang, shit, ban...</td>\n",
       "      <td>bitch nigga shit money man niggas he bout gon ass</td>\n",
       "    </tr>\n",
       "    <tr>\n",
       "      <th>6834</th>\n",
       "      <td>You've got the power in there\\r\\nWaving your w...</td>\n",
       "      <td>13</td>\n",
       "      <td>2</td>\n",
       "      <td>0.771</td>\n",
       "      <td>[power, wave, wand, air, time, time, fanatical...</td>\n",
       "      <td>come let life world time dream heart day fall ...</td>\n",
       "    </tr>\n",
       "    <tr>\n",
       "      <th>5264</th>\n",
       "      <td>So sorry it's over, so sorry it's over\\r\\nTher...</td>\n",
       "      <td>12</td>\n",
       "      <td>1</td>\n",
       "      <td>0.759</td>\n",
       "      <td>[sorry, sorry, sorry, need, time, sorry, soon,...</td>\n",
       "      <td>love know tell think wanna need time do cause ...</td>\n",
       "    </tr>\n",
       "    <tr>\n",
       "      <th>12034</th>\n",
       "      <td>Yes, no, maybe\\r\\nYes, no, maybe\\r\\n\\r\\nYou us...</td>\n",
       "      <td>18</td>\n",
       "      <td>1</td>\n",
       "      <td>0.757</td>\n",
       "      <td>[yes, maybe, yes, maybe, love, hug, lick, suck...</td>\n",
       "      <td>love know tell think wanna need time do cause ...</td>\n",
       "    </tr>\n",
       "    <tr>\n",
       "      <th>10211</th>\n",
       "      <td>Mami you bi\\r\\nNo I'm tri... I'll try anything...</td>\n",
       "      <td>15</td>\n",
       "      <td>7</td>\n",
       "      <td>0.745</td>\n",
       "      <td>[mami, tri, try, way, way, talk, way, way, tel...</td>\n",
       "      <td>baby girl let know right wanna tonight good co...</td>\n",
       "    </tr>\n",
       "    <tr>\n",
       "      <th>9693</th>\n",
       "      <td>Take me with you when you go\\r\\nDon't leave me...</td>\n",
       "      <td>14</td>\n",
       "      <td>6</td>\n",
       "      <td>0.734</td>\n",
       "      <td>[leave, fire, away, fuck, place, home, leave, ...</td>\n",
       "      <td>know feel way go try find hard do cause thing</td>\n",
       "    </tr>\n",
       "    <tr>\n",
       "      <th>11372</th>\n",
       "      <td>Hey Jon, man what's wrong wit these\\r\\nReally ...</td>\n",
       "      <td>18</td>\n",
       "      <td>8</td>\n",
       "      <td>0.734</td>\n",
       "      <td>[jon, man, wrong, wit, foo, foo, rif, raf, ass...</td>\n",
       "      <td>bitch nigga shit money man niggas he bout gon ass</td>\n",
       "    </tr>\n",
       "  </tbody>\n",
       "</table>\n",
       "</div>"
      ],
      "text/plain": [
       "                                                  lyrics  Age  Dominant_topic  \\\n",
       "9799   Gonna dance hall, dance hall everyday\\r\\nI'm g...   15               9   \n",
       "10925  Yup, yeah yeah\\r\\nOh, hahahaha\\r\\nYup yup yup ...   16               8   \n",
       "11368  Yeah! Right about now (whats up)\\r\\nIt's time ...   18               8   \n",
       "10870  Bang, my shit bang, it bang bang\\r\\nB-b-bang, ...   16               8   \n",
       "6834   You've got the power in there\\r\\nWaving your w...   13               2   \n",
       "5264   So sorry it's over, so sorry it's over\\r\\nTher...   12               1   \n",
       "12034  Yes, no, maybe\\r\\nYes, no, maybe\\r\\n\\r\\nYou us...   18               1   \n",
       "10211  Mami you bi\\r\\nNo I'm tri... I'll try anything...   15               7   \n",
       "9693   Take me with you when you go\\r\\nDon't leave me...   14               6   \n",
       "11372  Hey Jon, man what's wrong wit these\\r\\nReally ...   18               8   \n",
       "\n",
       "       Percent                                   Processed_Lyrics  \\\n",
       "9799     0.867  [going, to, dance, hall, dance, hall, everyday...   \n",
       "10925    0.825  [yup, hahahaha, yup, yup, yup, yup, yup, yup, ...   \n",
       "11368    0.823  [right, s, time, real, nigga, roll, hear, city...   \n",
       "10870    0.787  [bang, shit, bang, bang, bang, bang, shit, ban...   \n",
       "6834     0.771  [power, wave, wand, air, time, time, fanatical...   \n",
       "5264     0.759  [sorry, sorry, sorry, need, time, sorry, soon,...   \n",
       "12034    0.757  [yes, maybe, yes, maybe, love, hug, lick, suck...   \n",
       "10211    0.745  [mami, tri, try, way, way, talk, way, way, tel...   \n",
       "9693     0.734  [leave, fire, away, fuck, place, home, leave, ...   \n",
       "11372    0.734  [jon, man, wrong, wit, foo, foo, rif, raf, ass...   \n",
       "\n",
       "                                                Keywords  \n",
       "9799   to going got dance party stop let start way wanna  \n",
       "10925  bitch nigga shit money man niggas he bout gon ass  \n",
       "11368  bitch nigga shit money man niggas he bout gon ass  \n",
       "10870  bitch nigga shit money man niggas he bout gon ass  \n",
       "6834   come let life world time dream heart day fall ...  \n",
       "5264   love know tell think wanna need time do cause ...  \n",
       "12034  love know tell think wanna need time do cause ...  \n",
       "10211  baby girl let know right wanna tonight good co...  \n",
       "9693       know feel way go try find hard do cause thing  \n",
       "11372  bitch nigga shit money man niggas he bout gon ass  "
      ]
     },
     "execution_count": 43,
     "metadata": {},
     "output_type": "execute_result"
    }
   ],
   "source": [
    "main_topic_df[(main_topic_df['lyrics'].str.contains('fuck'))].sort_values(by='Percent', ascending=False).head(10)"
   ]
  },
  {
   "cell_type": "code",
   "execution_count": 46,
   "id": "5d00bbd2",
   "metadata": {
    "ExecuteTime": {
     "end_time": "2022-03-15T01:12:06.375047Z",
     "start_time": "2022-03-15T01:12:06.132032Z"
    }
   },
   "outputs": [
    {
     "data": {
      "image/png": "[encoded data removed]",
      "text/plain": [
       "<Figure size 432x288 with 1 Axes>"
      ]
     },
     "metadata": {
      "needs_background": "light"
     },
     "output_type": "display_data"
    }
   ],
   "source": [
    "grouped_topics = main_topic_df.groupby('Dominant_topic')\n",
    "grouped_topics.count()['Processed_Lyrics'].\\\n",
    "    plot.bar(rot=0).\\\n",
    "    set(title='Dominant Topic Frequency in the {} songs, iteration=10'.format(len(df)),\n",
    "        ylabel='Topic frequency'); \n",
    "plt.savefig(\"../figures/topic_distribution_iteration_10\")"
   ]
  },
  {
   "cell_type": "code",
   "execution_count": null,
   "id": "281a101d",
   "metadata": {
    "ExecuteTime": {
     "end_time": "2022-03-12T19:03:16.306173Z",
     "start_time": "2022-03-12T19:03:16.306173Z"
    }
   },
   "outputs": [],
   "source": [
    "representatives = pd.DataFrame()\n",
    "\n",
    "pd.set_option(\"max_colwidth\", 150)\n",
    "\n",
    "for k in grouped_topics.groups.keys():\n",
    "    representatives = pd.concat([ representatives, \n",
    "                                 grouped_topics.get_group(k).sort_values(['Percent'], ascending=False).head(1) ])\n",
    "    \n",
    "representatives"
   ]
  },
  {
   "cell_type": "code",
   "execution_count": null,
   "id": "b6f41708",
   "metadata": {
    "ExecuteTime": {
     "end_time": "2022-03-12T19:03:16.308173Z",
     "start_time": "2022-03-12T19:03:16.308173Z"
    }
   },
   "outputs": [],
   "source": [
    "import ipywidgets as widgets\n",
    "from IPython.display import display\n",
    "from ipywidgets import interact, interactive\n",
    "\n",
    "\n",
    "\n",
    "def f(idx):\n",
    "    print('Document: {}  Dominant topic: {}\\n'.format(representatives.index[idx], \n",
    "                                       representatives.loc[representatives.index[idx]]['Dominant_topic']))\n",
    "    print(df['lyrics'][representatives.index[idx]])\n",
    "\n",
    "    \n",
    "interactive(f, idx = widgets.Dropdown(options=[0,1,2,3,4], value=0, description='topic id'))"
   ]
  },
  {
   "cell_type": "code",
   "execution_count": null,
   "id": "897a7e80",
   "metadata": {
    "ExecuteTime": {
     "end_time": "2022-03-12T19:03:16.309172Z",
     "start_time": "2022-03-12T19:03:16.309172Z"
    }
   },
   "outputs": [],
   "source": [
    "coherence_scores = []\n",
    "\"\"\"\n",
    "for n in range(3, 50, 2):\n",
    "    mod = gensim.models.ldamodel.LdaModel(corpus=corpus, \n",
    "                                          id2word=dictionary,\n",
    "                                          num_topics=n, \n",
    "                                          random_state=117, update_every=1,\n",
    "                                          chunksize=1500, \n",
    "                                          passes=5, iterations=10,\n",
    "                                          alpha='asymmetric', eta=1/100,\n",
    "                                          per_word_topics=True)\n",
    "    cmodel = gensim.models.coherencemodel.CoherenceModel(model=mod,\n",
    "                                                 texts=processed_text,\n",
    "                                                 dictionary=dictionary)\n",
    "    coherence_scores.append((n, cmodel.get_coherence()))\n",
    "\n",
    "coherence_scores\n",
    "\"\"\""
   ]
  },
  {
   "cell_type": "code",
   "execution_count": null,
   "id": "d9b3945d",
   "metadata": {
    "ExecuteTime": {
     "end_time": "2022-03-12T19:03:16.310176Z",
     "start_time": "2022-03-12T19:03:16.310176Z"
    },
    "scrolled": true
   },
   "outputs": [],
   "source": [
    "sns.set()\n",
    "num_topic = [coherence[0] for coherence in coherence_scores]\n",
    "score = [coherence[1] for coherence in coherence_scores]\n",
    "sns.lineplot(x=num_topic, y=score).set(ylabel='coherence score', xlabel='num_topic',xticks=range(3,50,2));\n",
    "#plt.savefig(\"../figures/num_topics_vs_coherence.png\")"
   ]
  },
  {
   "cell_type": "code",
   "execution_count": null,
   "id": "c8450e7b",
   "metadata": {},
   "outputs": [],
   "source": []
  }
 ],
 "metadata": {
  "kernelspec": {
   "display_name": "Python 3 (ipykernel)",
   "language": "python",
   "name": "python3"
  },
  "language_info": {
   "codemirror_mode": {
    "name": "ipython",
    "version": 3
   },
   "file_extension": ".py",
   "mimetype": "text/x-python",
   "name": "python",
   "nbconvert_exporter": "python",
   "pygments_lexer": "ipython3",
   "version": "3.9.10"
  }
 },
 "nbformat": 4,
 "nbformat_minor": 5
}
