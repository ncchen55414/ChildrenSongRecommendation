{
 "cells": [
  {
   "cell_type": "markdown",
   "id": "9f655a0d",
   "metadata": {},
   "source": [
    "# Load Data"
   ]
  },
  {
   "cell_type": "code",
   "execution_count": 1,
   "id": "90c61297",
   "metadata": {
    "ExecuteTime": {
     "end_time": "2022-03-01T18:05:25.043413Z",
     "start_time": "2022-03-01T18:05:21.505671Z"
    }
   },
   "outputs": [],
   "source": [
    "import seaborn as sns"
   ]
  },
  {
   "cell_type": "code",
   "execution_count": 2,
   "id": "e9cc0f76",
   "metadata": {
    "ExecuteTime": {
     "end_time": "2022-03-01T18:05:25.470349Z",
     "start_time": "2022-03-01T18:05:25.043413Z"
    }
   },
   "outputs": [
    {
     "name": "stdout",
     "output_type": "stream",
     "text": [
      "Columns of df:  [(0, 'Age'), (1, 'Album_Name'), (2, 'Artist'), (3, 'Year'), (4, 'Description'), (5, 'Age Group'), (6, 'Album_ID'), (7, 'Album_Name_Spotify'), (8, 'Artists_Spotify'), (9, 'Track_ID'), (10, 'ISRC'), (11, 'Track_Name'), (12, 'Artists'), (13, 'popularity'), (14, 'preview_url'), (15, 'image_url'), (16, 'danceability'), (17, 'energy'), (18, 'key'), (19, 'loudness'), (20, 'mode'), (21, 'speechiness'), (22, 'acousticness'), (23, 'instrumentalness'), (24, 'liveness'), (25, 'valence'), (26, 'tempo'), (27, 'type'), (28, 'uri'), (29, 'track_href'), (30, 'analysis_url'), (31, 'duration_ms'), (32, 'time_signature'), (33, 'lyrics')] \n",
      "\n",
      "Shape of df:  (19560, 34) \n",
      "\n",
      "Number of songs having lyrics:  14270 \n",
      "\n"
     ]
    }
   ],
   "source": [
    "import pandas as pd\n",
    "\n",
    "df = pd.read_csv(\"../data/all.csv\")\n",
    "print (\"Columns of df: \",  list(enumerate(df.columns)), \"\\n\")\n",
    "\n",
    "print (\"Shape of df: \", df.shape, \"\\n\")\n",
    "\n",
    "print (\"Number of songs having lyrics: \", df['lyrics'].notnull().sum(), \"\\n\")\n",
    "\n"
   ]
  },
  {
   "cell_type": "code",
   "execution_count": 3,
   "id": "a5f1d20b",
   "metadata": {
    "ExecuteTime": {
     "end_time": "2022-03-01T18:05:25.486321Z",
     "start_time": "2022-03-01T18:05:25.472270Z"
    }
   },
   "outputs": [
    {
     "data": {
      "text/plain": [
       "\"Baby dear, blessed be your shining light\\r\\nBaby dear, blessed be your morning smile\\r\\nBaby dear, blessed be your gleaming eyes\\r\\nBlessed be the precious child, our beloved baby dear\\r\\n\\r\\nBaby dear, we will love with all our might\\r\\nBaby dear, we will comfort you at night\\r\\nBaby dear, with all the love we've got\\r\\n...\\r\\n\\r\\n******* This Lyrics is NOT for Commercial use *******\\r\\n(1409621371225)\""
      ]
     },
     "execution_count": 3,
     "metadata": {},
     "output_type": "execute_result"
    }
   ],
   "source": [
    "df['lyrics'][1023]"
   ]
  },
  {
   "cell_type": "code",
   "execution_count": 4,
   "id": "b6193a7a",
   "metadata": {
    "ExecuteTime": {
     "end_time": "2022-03-01T18:05:25.820589Z",
     "start_time": "2022-03-01T18:05:25.489275Z"
    }
   },
   "outputs": [],
   "source": [
    "#df =  df[df['Age']<6]\n",
    "df = df.dropna(subset=['lyrics'])\n",
    "df = df.reset_index(drop=True)\n",
    "\n",
    "import re\n",
    "\n",
    "def remove_disclaimer(string):\n",
    "    s = re.sub(r'(\\*)+ This Lyrics is NOT for Commercial use .*\\r\\n\\([0-9]*\\)',\"\", string)\n",
    "    return s\n",
    "\n",
    "df['lyrics'] = df['lyrics'].apply(remove_disclaimer)"
   ]
  },
  {
   "cell_type": "code",
   "execution_count": 5,
   "id": "ec6b8b93",
   "metadata": {
    "ExecuteTime": {
     "end_time": "2022-03-01T18:05:25.836186Z",
     "start_time": "2022-03-01T18:05:25.822580Z"
    }
   },
   "outputs": [
    {
     "data": {
      "text/plain": [
       "\"Bing bang bong, a ring rang rong\\r\\nThat's a pirate song\\r\\nI love to sing (he loves to sing)\\r\\nI'll sing anything (he'll sing anything)\\r\\nCaptain Feathersword sings\\r\\n\\r\\nOoh, I love to eat (he loves to eat)\\r\\nI'll eat anything (he'll eat anything)\\r\\nCaptain Feathersword eats\\r\\n...\\r\\n\\r\\n\""
      ]
     },
     "execution_count": 5,
     "metadata": {},
     "output_type": "execute_result"
    }
   ],
   "source": [
    "df['lyrics'][5]"
   ]
  },
  {
   "cell_type": "code",
   "execution_count": null,
   "id": "27544182",
   "metadata": {},
   "outputs": [],
   "source": []
  },
  {
   "cell_type": "markdown",
   "id": "4bf9a0a0",
   "metadata": {},
   "source": [
    "# Text Processing"
   ]
  },
  {
   "cell_type": "code",
   "execution_count": 6,
   "id": "f1cc3b77",
   "metadata": {
    "ExecuteTime": {
     "end_time": "2022-03-01T18:05:27.267064Z",
     "start_time": "2022-03-01T18:05:25.838214Z"
    }
   },
   "outputs": [],
   "source": [
    "import spacy\n",
    "nlp = spacy.load(\"en\", disable=['parser','ner','tagger', 'textcat'])"
   ]
  },
  {
   "cell_type": "code",
   "execution_count": 27,
   "id": "9abab84d",
   "metadata": {
    "ExecuteTime": {
     "end_time": "2022-03-01T18:06:58.350094Z",
     "start_time": "2022-03-01T18:06:58.327380Z"
    }
   },
   "outputs": [],
   "source": [
    "import re\n",
    "\n",
    "def my_lemmatizer(doc):\n",
    "    doc_cleaned = ' '.join(re.findall(r'\\b\\w[\\w\\']+\\b', doc))\n",
    "    return [ w.lemma_.lower() for w in nlp(doc_cleaned) \n",
    "                      if w.lemma_ not in ['_', '.', '-PRON-','oh'] ]\n",
    "\n",
    "stopwords = spacy.lang.en.stop_words.STOP_WORDS\n",
    "\n",
    "stopwords = set(my_lemmatizer(' '.join(list(stopwords))))"
   ]
  },
  {
   "cell_type": "code",
   "execution_count": 28,
   "id": "aee8aeca",
   "metadata": {
    "ExecuteTime": {
     "end_time": "2022-03-01T18:07:00.177328Z",
     "start_time": "2022-03-01T18:07:00.161400Z"
    }
   },
   "outputs": [
    {
     "data": {
      "text/plain": [
       "0        In old Transylvania when I was a lad\\r\\nOur ca...\n",
       "1        Saw a monster in the mirror when I woke up tod...\n",
       "2        The Big Red Car rolls along the street\\r\\nAnd ...\n",
       "3        Every night under the sea, a friendly octopus,...\n",
       "4        Having fun at the beach\\r\\nHaving fun at the b...\n",
       "                               ...                        \n",
       "14265    Just saw an alien saucer approaching from the ...\n",
       "14266    Just saw an alien saucer approaching from the ...\n",
       "14267    Just saw an alien saucer approaching from the ...\n",
       "14268    Just saw an alien saucer approaching from the ...\n",
       "14269    Rack rack city, bitch\\r\\nRack rack rack city, ...\n",
       "Name: lyrics, Length: 14270, dtype: object"
      ]
     },
     "execution_count": 28,
     "metadata": {},
     "output_type": "execute_result"
    }
   ],
   "source": [
    "df['lyrics']"
   ]
  },
  {
   "cell_type": "code",
   "execution_count": 29,
   "id": "43e266dd",
   "metadata": {
    "ExecuteTime": {
     "end_time": "2022-03-01T18:07:02.708633Z",
     "start_time": "2022-03-01T18:07:02.690638Z"
    }
   },
   "outputs": [],
   "source": [
    "s = df['lyrics'][0]"
   ]
  },
  {
   "cell_type": "code",
   "execution_count": 10,
   "id": "63e35e95",
   "metadata": {
    "ExecuteTime": {
     "end_time": "2022-03-01T18:05:27.393598Z",
     "start_time": "2022-03-01T18:05:27.333924Z"
    }
   },
   "outputs": [],
   "source": [
    "import re\n",
    "re.sub?"
   ]
  },
  {
   "cell_type": "code",
   "execution_count": 11,
   "id": "372d5e73",
   "metadata": {
    "ExecuteTime": {
     "end_time": "2022-03-01T18:05:27.409179Z",
     "start_time": "2022-03-01T18:05:27.396134Z"
    }
   },
   "outputs": [
    {
     "data": {
      "text/plain": [
       "\"In old Transylvania when I was a lad\\r\\nOur castle was poor but we never were sad\\r\\nWe learned to be happy\\r\\nWe'd dance round the hall\\r\\nAnd learning to count was the key to it all\\r\\nBy counting each count I knew just where to start\\r\\nAnd one special step has stayed close to my heart\\r\\n\\r\\nOne two three, spread out the cape\\r\\nOne two three, twirl round the floor\\r\\nOne two three, left foot you swing\\r\\nOne two three, then start to sing\\r\\nOne two three, loud as you please\\r\\n...\\r\\n\\r\\n\""
      ]
     },
     "execution_count": 11,
     "metadata": {},
     "output_type": "execute_result"
    }
   ],
   "source": [
    "\n",
    "re.sub(r'(\\*){7} This Lyrics is NOT for Commercial use .*\\r\\n\\([0-9]*\\)',\"\", s)"
   ]
  },
  {
   "cell_type": "markdown",
   "id": "55957ff2",
   "metadata": {},
   "source": [
    "# Bag-of-Words Model + K-Mean clustering"
   ]
  },
  {
   "cell_type": "code",
   "execution_count": 30,
   "id": "01112c22",
   "metadata": {
    "ExecuteTime": {
     "end_time": "2022-03-01T18:07:14.184840Z",
     "start_time": "2022-03-01T18:07:04.895227Z"
    }
   },
   "outputs": [],
   "source": [
    "from sklearn.feature_extraction.text import CountVectorizer, TfidfTransformer\n",
    "max_features = 1000\n",
    "\n",
    "cv = CountVectorizer(tokenizer=my_lemmatizer, stop_words=stopwords, \n",
    "                     min_df=1, max_df=0.9, max_features=max_features)\n",
    "counts = cv.fit_transform(df['lyrics'])\n",
    "\n",
    "tf = TfidfTransformer()\n",
    "matrix = tf.fit_transform(counts)"
   ]
  },
  {
   "cell_type": "code",
   "execution_count": 31,
   "id": "02a8c689",
   "metadata": {
    "ExecuteTime": {
     "end_time": "2022-03-01T18:07:15.874532Z",
     "start_time": "2022-03-01T18:07:15.859414Z"
    }
   },
   "outputs": [
    {
     "data": {
      "text/plain": [
       "['pimp',\n",
       " 'moment',\n",
       " 'bone',\n",
       " 'okay',\n",
       " 'shirt',\n",
       " 'pressure',\n",
       " 'sky',\n",
       " 'callin',\n",
       " 'stack',\n",
       " 'sunshine']"
      ]
     },
     "execution_count": 31,
     "metadata": {},
     "output_type": "execute_result"
    }
   ],
   "source": [
    "import random   \n",
    "random.sample(list(cv.get_feature_names_out()), 10)    #random select 10 words from CountVectorizer"
   ]
  },
  {
   "cell_type": "code",
   "execution_count": 32,
   "id": "eafa0453",
   "metadata": {
    "ExecuteTime": {
     "end_time": "2022-03-01T18:07:38.573487Z",
     "start_time": "2022-03-01T18:07:20.473897Z"
    }
   },
   "outputs": [
    {
     "name": "stdout",
     "output_type": "stream",
     "text": [
      "Cluster 0: \n",
      "wanna want cause way think let like feel time know \n",
      "\n",
      "Cluster 1: \n",
      "que hey think girl love find yes de like la \n",
      "\n",
      "Cluster 2: \n",
      "love wanna want hey ooh like know girl baby yes \n",
      "\n",
      "Cluster 3: \n",
      "yes cause day want look let man know come like \n",
      "\n",
      "Cluster 4: \n",
      "come let heart need feel want baby like know love \n",
      "\n"
     ]
    }
   ],
   "source": [
    "from sklearn.cluster import KMeans\n",
    "number_of_clusters = 5\n",
    "\n",
    "kmc_5 = KMeans(n_clusters=number_of_clusters, n_init=3, random_state=117)  # random_state for consistency\n",
    "kmc_5.fit(matrix)\n",
    "kmc_5.cluster_centers_\n",
    "import numpy as np\n",
    "\n",
    "number_of_top_words = 10\n",
    "\n",
    "cluster_words = np.argsort(kmc_5.cluster_centers_, axis=1)\n",
    "terms = cv.get_feature_names_out()\n",
    "\n",
    "top_words = set()\n",
    "\n",
    "for i in range(number_of_clusters):\n",
    "    print('Cluster {}: '.format(i))\n",
    "    print(' '.join([terms[k] for k in cluster_words[i][-number_of_top_words:]]),'\\n')\n",
    "    top_words = top_words.union([terms[k] for k in cluster_words[i][-number_of_top_words:]])\n",
    "    \n",
    "top_words = sorted(list(top_words))"
   ]
  },
  {
   "cell_type": "code",
   "execution_count": 33,
   "id": "808a3019",
   "metadata": {
    "ExecuteTime": {
     "end_time": "2022-03-01T18:17:02.024796Z",
     "start_time": "2022-03-01T18:17:01.937901Z"
    }
   },
   "outputs": [
    {
     "data": {
      "text/html": [
       "<div>\n",
       "<style scoped>\n",
       "    .dataframe tbody tr th:only-of-type {\n",
       "        vertical-align: middle;\n",
       "    }\n",
       "\n",
       "    .dataframe tbody tr th {\n",
       "        vertical-align: top;\n",
       "    }\n",
       "\n",
       "    .dataframe thead th {\n",
       "        text-align: right;\n",
       "    }\n",
       "</style>\n",
       "<table border=\"1\" class=\"dataframe\">\n",
       "  <thead>\n",
       "    <tr style=\"text-align: right;\">\n",
       "      <th></th>\n",
       "      <th>baby</th>\n",
       "      <th>cause</th>\n",
       "      <th>come</th>\n",
       "      <th>day</th>\n",
       "      <th>de</th>\n",
       "      <th>feel</th>\n",
       "      <th>find</th>\n",
       "      <th>girl</th>\n",
       "      <th>heart</th>\n",
       "      <th>hey</th>\n",
       "      <th>...</th>\n",
       "      <th>need</th>\n",
       "      <th>ooh</th>\n",
       "      <th>que</th>\n",
       "      <th>think</th>\n",
       "      <th>time</th>\n",
       "      <th>wanna</th>\n",
       "      <th>want</th>\n",
       "      <th>way</th>\n",
       "      <th>yes</th>\n",
       "      <th>Cluster</th>\n",
       "    </tr>\n",
       "  </thead>\n",
       "  <tbody>\n",
       "    <tr>\n",
       "      <th>1717</th>\n",
       "      <td>3</td>\n",
       "      <td>0</td>\n",
       "      <td>0</td>\n",
       "      <td>0</td>\n",
       "      <td>0</td>\n",
       "      <td>0</td>\n",
       "      <td>0</td>\n",
       "      <td>0</td>\n",
       "      <td>1</td>\n",
       "      <td>2</td>\n",
       "      <td>...</td>\n",
       "      <td>1</td>\n",
       "      <td>0</td>\n",
       "      <td>0</td>\n",
       "      <td>3</td>\n",
       "      <td>0</td>\n",
       "      <td>2</td>\n",
       "      <td>1</td>\n",
       "      <td>1</td>\n",
       "      <td>0</td>\n",
       "      <td>4</td>\n",
       "    </tr>\n",
       "    <tr>\n",
       "      <th>3336</th>\n",
       "      <td>1</td>\n",
       "      <td>1</td>\n",
       "      <td>0</td>\n",
       "      <td>1</td>\n",
       "      <td>0</td>\n",
       "      <td>0</td>\n",
       "      <td>0</td>\n",
       "      <td>0</td>\n",
       "      <td>0</td>\n",
       "      <td>9</td>\n",
       "      <td>...</td>\n",
       "      <td>0</td>\n",
       "      <td>0</td>\n",
       "      <td>0</td>\n",
       "      <td>0</td>\n",
       "      <td>0</td>\n",
       "      <td>0</td>\n",
       "      <td>0</td>\n",
       "      <td>1</td>\n",
       "      <td>1</td>\n",
       "      <td>2</td>\n",
       "    </tr>\n",
       "    <tr>\n",
       "      <th>9490</th>\n",
       "      <td>0</td>\n",
       "      <td>0</td>\n",
       "      <td>1</td>\n",
       "      <td>0</td>\n",
       "      <td>0</td>\n",
       "      <td>0</td>\n",
       "      <td>0</td>\n",
       "      <td>0</td>\n",
       "      <td>0</td>\n",
       "      <td>0</td>\n",
       "      <td>...</td>\n",
       "      <td>0</td>\n",
       "      <td>0</td>\n",
       "      <td>0</td>\n",
       "      <td>0</td>\n",
       "      <td>0</td>\n",
       "      <td>0</td>\n",
       "      <td>0</td>\n",
       "      <td>0</td>\n",
       "      <td>4</td>\n",
       "      <td>2</td>\n",
       "    </tr>\n",
       "  </tbody>\n",
       "</table>\n",
       "<p>3 rows × 27 columns</p>\n",
       "</div>"
      ],
      "text/plain": [
       "      baby  cause  come  day  de  feel  find  girl  heart  hey  ...  need  \\\n",
       "1717     3      0     0    0   0     0     0     0      1    2  ...     1   \n",
       "3336     1      1     0    1   0     0     0     0      0    9  ...     0   \n",
       "9490     0      0     1    0   0     0     0     0      0    0  ...     0   \n",
       "\n",
       "      ooh  que  think  time  wanna  want  way  yes  Cluster  \n",
       "1717    0    0      3     0      2     1    1    0        4  \n",
       "3336    0    0      0     0      0     0    1    1        2  \n",
       "9490    0    0      0     0      0     0    0    4        2  \n",
       "\n",
       "[3 rows x 27 columns]"
      ]
     },
     "execution_count": 33,
     "metadata": {},
     "output_type": "execute_result"
    }
   ],
   "source": [
    "word_df = pd.DataFrame(counts.toarray(), columns=terms)[top_words]\n",
    "word_df['Cluster'] = kmc_5.labels_.tolist()\n",
    "word_df.sample(3)"
   ]
  },
  {
   "cell_type": "code",
   "execution_count": 34,
   "id": "6882381f",
   "metadata": {
    "ExecuteTime": {
     "end_time": "2022-03-01T18:17:11.003915Z",
     "start_time": "2022-03-01T18:17:10.874306Z"
    }
   },
   "outputs": [
    {
     "data": {
      "image/png": "[encoded data removed]",
      "text/plain": [
       "<Figure size 432x288 with 1 Axes>"
      ]
     },
     "metadata": {
      "needs_background": "light"
     },
     "output_type": "display_data"
    }
   ],
   "source": [
    "word_df.groupby('Cluster').count()[top_words[0]].\\\n",
    "    plot.bar(rot=0).\\\n",
    "    set(ylabel='Document count',\n",
    "    title='Number of Documents per Cluster');"
   ]
  },
  {
   "cell_type": "markdown",
   "id": "3c09a8bb",
   "metadata": {},
   "source": [
    "# Latent Dirichlet allocation (LDA)"
   ]
  },
  {
   "cell_type": "code",
   "execution_count": 35,
   "id": "d747c0dc",
   "metadata": {
    "ExecuteTime": {
     "end_time": "2022-03-01T18:17:32.484007Z",
     "start_time": "2022-03-01T18:17:21.835722Z"
    }
   },
   "outputs": [],
   "source": [
    "import gensim\n",
    "\n",
    "import re\n",
    "def process_words(texts, stop_words=set()):\n",
    "    result = []\n",
    "    for t in texts:\n",
    "        t = ' '.join(re.findall(r'\\b\\w[\\w\\']+\\b', t))\n",
    "        doc = nlp(t)\n",
    "        result.append([token.lemma_.lower() for token in doc if token.lemma_ not in stop_words])\n",
    "    return result\n",
    "\n",
    "processed_text = process_words(df['lyrics'], stop_words=stopwords.union(['-PRON-', 'oh']))"
   ]
  },
  {
   "cell_type": "code",
   "execution_count": 36,
   "id": "c0a0bfd4",
   "metadata": {
    "ExecuteTime": {
     "end_time": "2022-03-01T18:17:52.842534Z",
     "start_time": "2022-03-01T18:17:37.888702Z"
    }
   },
   "outputs": [
    {
     "name": "stdout",
     "output_type": "stream",
     "text": [
      "Number of unique tokens: 25548\n"
     ]
    }
   ],
   "source": [
    "dictionary = gensim.corpora.Dictionary(processed_text)\n",
    "print('Number of unique tokens: {}'.format(len(dictionary)))\n",
    "corpus = [dictionary.doc2bow(t) for t in processed_text]\n",
    "num_topics = 5\n",
    "\n",
    "lda_model = gensim.models.ldamodel.LdaModel(corpus=corpus, \n",
    "                                            id2word=dictionary,\n",
    "                                            num_topics=num_topics, \n",
    "                                            random_state=117, update_every=1,\n",
    "                                            chunksize=1500, \n",
    "                                            passes=5, iterations=10,\n",
    "                                            alpha='asymmetric', eta=1/100,\n",
    "                                            per_word_topics=True)"
   ]
  },
  {
   "cell_type": "code",
   "execution_count": null,
   "id": "f0424f2a",
   "metadata": {},
   "outputs": [],
   "source": []
  },
  {
   "cell_type": "code",
   "execution_count": 19,
   "id": "ed2644fe",
   "metadata": {
    "ExecuteTime": {
     "end_time": "2022-03-01T18:06:22.477323Z",
     "start_time": "2022-03-01T18:06:22.461449Z"
    }
   },
   "outputs": [
    {
     "name": "stdout",
     "output_type": "stream",
     "text": [
      "[(0,\n",
      "  '0.026*\"la\" + 0.014*\"black\" + 0.012*\"like\" + 0.010*\"she\" + 0.010*\"new\" + '\n",
      "  '0.009*\"bitch\" + 0.008*\"night\" + 0.008*\"party\" + 0.008*\"hoe\" + 0.007*\"ma\"'),\n",
      " (1,\n",
      "  '0.029*\"and\" + 0.020*\"you\" + 0.018*\"know\" + 0.015*\"the\" + 0.014*\"come\" + '\n",
      "  '0.014*\"time\" + 0.012*\"let\" + 0.012*\"but\" + 0.010*\"fall\" + 0.009*\"away\"'),\n",
      " (2,\n",
      "  '0.114*\"oh\" + 0.059*\"love\" + 0.048*\"know\" + 0.042*\"yes\" + 0.038*\"baby\" + '\n",
      "  '0.027*\"you\" + 0.024*\"want\" + 0.021*\"ooh\" + 0.020*\"and\" + 0.020*\"girl\"'),\n",
      " (3,\n",
      "  '0.033*\"and\" + 0.025*\"like\" + 0.017*\"but\" + 0.015*\"feel\" + 0.013*\"know\" + '\n",
      "  '0.011*\"need\" + 0.010*\"man\" + 0.010*\"want\" + 0.009*\"what\" + 0.009*\"way\"'),\n",
      " (4,\n",
      "  '0.035*\"like\" + 0.018*\"come\" + 0.017*\"girl\" + 0.017*\"na\" + 0.015*\"shit\" + '\n",
      "  '0.015*\"let\" + 0.014*\"you\" + 0.012*\"nigga\" + 0.012*\"hey\" + 0.012*\"wanna\"')]\n"
     ]
    }
   ],
   "source": [
    "from pprint import pprint\n",
    "\n",
    "pprint(lda_model.print_topics(num_words=10))"
   ]
  },
  {
   "cell_type": "code",
   "execution_count": 20,
   "id": "eac6a21b",
   "metadata": {
    "ExecuteTime": {
     "end_time": "2022-03-01T18:06:22.492586Z",
     "start_time": "2022-03-01T18:06:22.478937Z"
    }
   },
   "outputs": [
    {
     "data": {
      "text/plain": [
       "[(0, 0.29254863), (1, 0.46760994), (3, 0.23324442)]"
      ]
     },
     "execution_count": 20,
     "metadata": {},
     "output_type": "execute_result"
    }
   ],
   "source": [
    "lda_model.get_document_topics(corpus[0])"
   ]
  },
  {
   "cell_type": "code",
   "execution_count": 21,
   "id": "6b3e068d",
   "metadata": {
    "ExecuteTime": {
     "end_time": "2022-03-01T18:06:22.507819Z",
     "start_time": "2022-03-01T18:06:22.494541Z"
    }
   },
   "outputs": [],
   "source": [
    "def get_main_topic_df(model, bow, texts):\n",
    "    topic_list = []\n",
    "    percent_list = []\n",
    "    keyword_list = []\n",
    "    \n",
    "    for wc in bow:\n",
    "        topic, percent = sorted(model.get_document_topics(wc), key=lambda x: x[1], reverse=True)[0]\n",
    "        topic_list.append(topic)\n",
    "        percent_list.append(round(percent, 3))\n",
    "        keyword_list.append(' '.join(sorted([x[0] for x in model.show_topic(topic)])))\n",
    "\n",
    "    result_df = pd.concat([pd.Series(topic_list, name='Dominant_topic'), \n",
    "                           pd.Series(percent_list, name='Percent'), \n",
    "                           pd.Series(texts, name='Processed_text'), \n",
    "                           pd.Series(keyword_list, name='Keywords')], axis=1)\n",
    "\n",
    "    return result_df"
   ]
  },
  {
   "cell_type": "code",
   "execution_count": 22,
   "id": "6493b4ad",
   "metadata": {
    "ExecuteTime": {
     "end_time": "2022-03-01T18:06:30.253343Z",
     "start_time": "2022-03-01T18:06:22.510827Z"
    }
   },
   "outputs": [
    {
     "data": {
      "text/html": [
       "<div>\n",
       "<style scoped>\n",
       "    .dataframe tbody tr th:only-of-type {\n",
       "        vertical-align: middle;\n",
       "    }\n",
       "\n",
       "    .dataframe tbody tr th {\n",
       "        vertical-align: top;\n",
       "    }\n",
       "\n",
       "    .dataframe thead th {\n",
       "        text-align: right;\n",
       "    }\n",
       "</style>\n",
       "<table border=\"1\" class=\"dataframe\">\n",
       "  <thead>\n",
       "    <tr style=\"text-align: right;\">\n",
       "      <th></th>\n",
       "      <th>Dominant_topic</th>\n",
       "      <th>Percent</th>\n",
       "      <th>Processed_text</th>\n",
       "      <th>Keywords</th>\n",
       "    </tr>\n",
       "  </thead>\n",
       "  <tbody>\n",
       "    <tr>\n",
       "      <th>9112</th>\n",
       "      <td>4</td>\n",
       "      <td>0.938</td>\n",
       "      <td>[na, na, na, na, na, na, na, na, na, na, na, n...</td>\n",
       "      <td>come girl hey let like na nigga shit wanna you</td>\n",
       "    </tr>\n",
       "    <tr>\n",
       "      <th>7379</th>\n",
       "      <td>2</td>\n",
       "      <td>0.811</td>\n",
       "      <td>[most, people, think, huh, why, know, afraid, ...</td>\n",
       "      <td>and baby girl know love oh ooh want yes you</td>\n",
       "    </tr>\n",
       "    <tr>\n",
       "      <th>4463</th>\n",
       "      <td>2</td>\n",
       "      <td>0.821</td>\n",
       "      <td>[wanna, wait, vain, love, wanna, wait, vain, l...</td>\n",
       "      <td>and baby girl know love oh ooh want yes you</td>\n",
       "    </tr>\n",
       "    <tr>\n",
       "      <th>8278</th>\n",
       "      <td>1</td>\n",
       "      <td>0.547</td>\n",
       "      <td>[bad, disease, beg, hand, knee, so, emergency,...</td>\n",
       "      <td>and away but come fall know let the time you</td>\n",
       "    </tr>\n",
       "    <tr>\n",
       "      <th>3348</th>\n",
       "      <td>4</td>\n",
       "      <td>0.901</td>\n",
       "      <td>[chorus, bounce, wit, bounce, wit, wanna, know...</td>\n",
       "      <td>come girl hey let like na nigga shit wanna you</td>\n",
       "    </tr>\n",
       "    <tr>\n",
       "      <th>10507</th>\n",
       "      <td>3</td>\n",
       "      <td>0.708</td>\n",
       "      <td>[well, care]</td>\n",
       "      <td>and but feel know like man need want way what</td>\n",
       "    </tr>\n",
       "    <tr>\n",
       "      <th>10506</th>\n",
       "      <td>2</td>\n",
       "      <td>0.430</td>\n",
       "      <td>[look, stare, deep, eye, touch, time, when, le...</td>\n",
       "      <td>and baby girl know love oh ooh want yes you</td>\n",
       "    </tr>\n",
       "    <tr>\n",
       "      <th>9343</th>\n",
       "      <td>4</td>\n",
       "      <td>0.776</td>\n",
       "      <td>[yeah, yes, yes, rock, like, no, swift, like, ...</td>\n",
       "      <td>come girl hey let like na nigga shit wanna you</td>\n",
       "    </tr>\n",
       "    <tr>\n",
       "      <th>1502</th>\n",
       "      <td>1</td>\n",
       "      <td>0.949</td>\n",
       "      <td>[dream, white, christmas, just, like, know, wh...</td>\n",
       "      <td>and away but come fall know let the time you</td>\n",
       "    </tr>\n",
       "    <tr>\n",
       "      <th>5582</th>\n",
       "      <td>1</td>\n",
       "      <td>0.632</td>\n",
       "      <td>[found, way, highway, wanna, tell, state, smok...</td>\n",
       "      <td>and away but come fall know let the time you</td>\n",
       "    </tr>\n",
       "  </tbody>\n",
       "</table>\n",
       "</div>"
      ],
      "text/plain": [
       "       Dominant_topic  Percent  \\\n",
       "9112                4    0.938   \n",
       "7379                2    0.811   \n",
       "4463                2    0.821   \n",
       "8278                1    0.547   \n",
       "3348                4    0.901   \n",
       "10507               3    0.708   \n",
       "10506               2    0.430   \n",
       "9343                4    0.776   \n",
       "1502                1    0.949   \n",
       "5582                1    0.632   \n",
       "\n",
       "                                          Processed_text  \\\n",
       "9112   [na, na, na, na, na, na, na, na, na, na, na, n...   \n",
       "7379   [most, people, think, huh, why, know, afraid, ...   \n",
       "4463   [wanna, wait, vain, love, wanna, wait, vain, l...   \n",
       "8278   [bad, disease, beg, hand, knee, so, emergency,...   \n",
       "3348   [chorus, bounce, wit, bounce, wit, wanna, know...   \n",
       "10507                                       [well, care]   \n",
       "10506  [look, stare, deep, eye, touch, time, when, le...   \n",
       "9343   [yeah, yes, yes, rock, like, no, swift, like, ...   \n",
       "1502   [dream, white, christmas, just, like, know, wh...   \n",
       "5582   [found, way, highway, wanna, tell, state, smok...   \n",
       "\n",
       "                                             Keywords  \n",
       "9112   come girl hey let like na nigga shit wanna you  \n",
       "7379      and baby girl know love oh ooh want yes you  \n",
       "4463      and baby girl know love oh ooh want yes you  \n",
       "8278     and away but come fall know let the time you  \n",
       "3348   come girl hey let like na nigga shit wanna you  \n",
       "10507   and but feel know like man need want way what  \n",
       "10506     and baby girl know love oh ooh want yes you  \n",
       "9343   come girl hey let like na nigga shit wanna you  \n",
       "1502     and away but come fall know let the time you  \n",
       "5582     and away but come fall know let the time you  "
      ]
     },
     "execution_count": 22,
     "metadata": {},
     "output_type": "execute_result"
    }
   ],
   "source": [
    "main_topic_df = get_main_topic_df(lda_model, corpus, processed_text)\n",
    "\n",
    "main_topic_df.sample(10)"
   ]
  },
  {
   "cell_type": "code",
   "execution_count": 23,
   "id": "5d00bbd2",
   "metadata": {
    "ExecuteTime": {
     "end_time": "2022-03-01T18:06:30.397250Z",
     "start_time": "2022-03-01T18:06:30.256261Z"
    }
   },
   "outputs": [
    {
     "data": {
      "image/png": "[encoded data removed]",
      "text/plain": [
       "<Figure size 432x288 with 1 Axes>"
      ]
     },
     "metadata": {
      "needs_background": "light"
     },
     "output_type": "display_data"
    }
   ],
   "source": [
    "grouped_topics = main_topic_df.groupby('Dominant_topic')\n",
    "grouped_topics.count()['Processed_text'].\\\n",
    "    plot.bar(rot=0).\\\n",
    "    set(title='Dominant Topic Frequency in the {} Reviews'.format(len(df)),\n",
    "        ylabel='Topic frequency'); "
   ]
  },
  {
   "cell_type": "code",
   "execution_count": 24,
   "id": "281a101d",
   "metadata": {
    "ExecuteTime": {
     "end_time": "2022-03-01T18:06:30.443639Z",
     "start_time": "2022-03-01T18:06:30.399260Z"
    }
   },
   "outputs": [
    {
     "data": {
      "text/html": [
       "<div>\n",
       "<style scoped>\n",
       "    .dataframe tbody tr th:only-of-type {\n",
       "        vertical-align: middle;\n",
       "    }\n",
       "\n",
       "    .dataframe tbody tr th {\n",
       "        vertical-align: top;\n",
       "    }\n",
       "\n",
       "    .dataframe thead th {\n",
       "        text-align: right;\n",
       "    }\n",
       "</style>\n",
       "<table border=\"1\" class=\"dataframe\">\n",
       "  <thead>\n",
       "    <tr style=\"text-align: right;\">\n",
       "      <th></th>\n",
       "      <th>Dominant_topic</th>\n",
       "      <th>Percent</th>\n",
       "      <th>Processed_text</th>\n",
       "      <th>Keywords</th>\n",
       "    </tr>\n",
       "  </thead>\n",
       "  <tbody>\n",
       "    <tr>\n",
       "      <th>10818</th>\n",
       "      <td>0</td>\n",
       "      <td>0.994</td>\n",
       "      <td>[sean, paul, pa, toa, en, la, calle, te, quier...</td>\n",
       "      <td>bitch black hoe la like ma new night party she</td>\n",
       "    </tr>\n",
       "    <tr>\n",
       "      <th>7014</th>\n",
       "      <td>1</td>\n",
       "      <td>0.985</td>\n",
       "      <td>[when, day, cold, and, card, fold, and, saint,...</td>\n",
       "      <td>and away but come fall know let the time you</td>\n",
       "    </tr>\n",
       "    <tr>\n",
       "      <th>8801</th>\n",
       "      <td>2</td>\n",
       "      <td>0.991</td>\n",
       "      <td>[late, glass, sit, for, night, ignoring, every...</td>\n",
       "      <td>and baby girl know love oh ooh want yes you</td>\n",
       "    </tr>\n",
       "    <tr>\n",
       "      <th>3906</th>\n",
       "      <td>3</td>\n",
       "      <td>0.985</td>\n",
       "      <td>[another, blinger, slick, trigger, finger, her...</td>\n",
       "      <td>and but feel know like man need want way what</td>\n",
       "    </tr>\n",
       "    <tr>\n",
       "      <th>11086</th>\n",
       "      <td>4</td>\n",
       "      <td>0.993</td>\n",
       "      <td>[wanna, rock, right, want, wanna, rock, right,...</td>\n",
       "      <td>come girl hey let like na nigga shit wanna you</td>\n",
       "    </tr>\n",
       "  </tbody>\n",
       "</table>\n",
       "</div>"
      ],
      "text/plain": [
       "       Dominant_topic  Percent  \\\n",
       "10818               0    0.994   \n",
       "7014                1    0.985   \n",
       "8801                2    0.991   \n",
       "3906                3    0.985   \n",
       "11086               4    0.993   \n",
       "\n",
       "                                          Processed_text  \\\n",
       "10818  [sean, paul, pa, toa, en, la, calle, te, quier...   \n",
       "7014   [when, day, cold, and, card, fold, and, saint,...   \n",
       "8801   [late, glass, sit, for, night, ignoring, every...   \n",
       "3906   [another, blinger, slick, trigger, finger, her...   \n",
       "11086  [wanna, rock, right, want, wanna, rock, right,...   \n",
       "\n",
       "                                             Keywords  \n",
       "10818  bitch black hoe la like ma new night party she  \n",
       "7014     and away but come fall know let the time you  \n",
       "8801      and baby girl know love oh ooh want yes you  \n",
       "3906    and but feel know like man need want way what  \n",
       "11086  come girl hey let like na nigga shit wanna you  "
      ]
     },
     "execution_count": 24,
     "metadata": {},
     "output_type": "execute_result"
    }
   ],
   "source": [
    "representatives = pd.DataFrame()\n",
    "\n",
    "for k in grouped_topics.groups.keys():\n",
    "    representatives = pd.concat([ representatives, \n",
    "                                 grouped_topics.get_group(k).sort_values(['Percent'], ascending=False).head(1) ])\n",
    "    \n",
    "representatives"
   ]
  },
  {
   "cell_type": "code",
   "execution_count": 25,
   "id": "b6f41708",
   "metadata": {
    "ExecuteTime": {
     "end_time": "2022-03-01T18:06:30.490634Z",
     "start_time": "2022-03-01T18:06:30.445617Z"
    }
   },
   "outputs": [
    {
     "data": {
      "application/vnd.jupyter.widget-view+json": {
       "model_id": "ca0c52b273f944c2989cadad565d8796",
       "version_major": 2,
       "version_minor": 0
      },
      "text/plain": [
       "interactive(children=(Dropdown(description='topic id', options=(0, 1, 2, 3, 4), value=0), Output()), _dom_clas…"
      ]
     },
     "metadata": {},
     "output_type": "display_data"
    }
   ],
   "source": [
    "import ipywidgets as widgets\n",
    "from IPython.display import display\n",
    "from ipywidgets import interact, interactive\n",
    "\n",
    "\n",
    "\n",
    "def f(idx):\n",
    "    print('Document: {}  Dominant topic: {}\\n'.format(representatives.index[idx], \n",
    "                                       representatives.loc[representatives.index[idx]]['Dominant_topic']))\n",
    "    print(df['lyrics'][representatives.index[idx]])\n",
    "\n",
    "    \n",
    "interactive(f, idx = widgets.Dropdown(options=[0,1,2,3,4], value=0, description='topic id'))"
   ]
  },
  {
   "cell_type": "code",
   "execution_count": null,
   "id": "897a7e80",
   "metadata": {},
   "outputs": [],
   "source": []
  }
 ],
 "metadata": {
  "kernelspec": {
   "display_name": "Python 3 (ipykernel)",
   "language": "python",
   "name": "python3"
  },
  "language_info": {
   "codemirror_mode": {
    "name": "ipython",
    "version": 3
   },
   "file_extension": ".py",
   "mimetype": "text/x-python",
   "name": "python",
   "nbconvert_exporter": "python",
   "pygments_lexer": "ipython3",
   "version": "3.9.10"
  }
 },
 "nbformat": 4,
 "nbformat_minor": 5
}
