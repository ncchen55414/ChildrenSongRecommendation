{
 "cells": [
  {
   "cell_type": "markdown",
   "id": "faf10954",
   "metadata": {},
   "source": [
    "# Summary: Visualize how words in lyrics affect Age-Ratings."
   ]
  },
  {
   "cell_type": "markdown",
   "id": "b3de1e2d",
   "metadata": {},
   "source": [
    "#  Load Lyrics and Preprocess"
   ]
  },
  {
   "cell_type": "code",
   "execution_count": 1,
   "id": "939de3ed",
   "metadata": {
    "ExecuteTime": {
     "end_time": "2022-03-17T05:44:08.173718Z",
     "start_time": "2022-03-17T05:44:02.924261Z"
    }
   },
   "outputs": [],
   "source": [
    "import numpy as np\n",
    "import pandas as pd\n",
    "import matplotlib.pyplot as plt\n",
    "import seaborn as sns\n",
    "import spotipy\n",
    "import os\n",
    "%matplotlib inline"
   ]
  },
  {
   "cell_type": "code",
   "execution_count": 2,
   "id": "6ddc004f",
   "metadata": {
    "ExecuteTime": {
     "end_time": "2022-03-17T05:44:09.360437Z",
     "start_time": "2022-03-17T05:44:08.176657Z"
    }
   },
   "outputs": [],
   "source": [
    "df = pd.read_csv('../data/all.csv')\n",
    "df = df.dropna(subset=['lyrics'])\n",
    "df = df.reset_index(drop=True)\n",
    "\n",
    "import re\n",
    "\n",
    "def remove_disclaimer(string):\n",
    "    s = re.sub(r'(\\*)+ This Lyrics is NOT for Commercial use .*\\r\\n\\([0-9]*\\)',\"\", string)\n",
    "    return s\n",
    "\n",
    "df['lyrics'] = df['lyrics'].apply(remove_disclaimer)"
   ]
  },
  {
   "cell_type": "code",
   "execution_count": 3,
   "id": "9ebb6df0",
   "metadata": {
    "ExecuteTime": {
     "end_time": "2022-03-17T05:44:20.699958Z",
     "start_time": "2022-03-17T05:44:09.363583Z"
    }
   },
   "outputs": [],
   "source": [
    "import spacy\n",
    "import re\n",
    "\n",
    "nlp = spacy.load(\"en_core_web_sm\",  disable=['parser','ner', 'textcat'])\n",
    "\n",
    "\n",
    "def my_lemmatizer(doc):\n",
    "    doc_cleaned = ' '.join(re.findall(r'\\b\\w\\w\\w+\\b', doc)) \n",
    "    return [ w.lemma_.lower() for w in nlp(doc_cleaned) \n",
    "                      if len(w.lemma_)>2 ]\n",
    "\n",
    "def process_text(text, stop_words=set()):\n",
    "    if not text:\n",
    "        return []\n",
    "\n",
    "    text = ' '.join(re.findall(r'\\b\\w\\w\\w+\\b', text))   #only keep word with at least 3 chars\n",
    "    doc = nlp(text)\n",
    "    result=  [token.lemma_.lower() for token in doc if token.lemma_.lower() not in stop_words]\n",
    "    result = \" \".join(result)\n",
    "    return result\n",
    "\n",
    "\n",
    "\n",
    "stopwords = spacy.lang.en.STOP_WORDS.union(['-pron-', 'oh','ooh','la'])\n",
    "stopwords = set(my_lemmatizer(' '.join(list(stopwords))))\n",
    "\n"
   ]
  },
  {
   "cell_type": "code",
   "execution_count": 4,
   "id": "779b705a",
   "metadata": {
    "ExecuteTime": {
     "end_time": "2022-03-17T05:46:19.763295Z",
     "start_time": "2022-03-17T05:44:20.706874Z"
    },
    "scrolled": true
   },
   "outputs": [
    {
     "data": {
      "text/plain": [
       "0    old transylvania be lad castle be poor be sad ...\n",
       "1    saw monster mirror wake today monster mirror d...\n",
       "2    big red car roll street people meet like hello...\n",
       "Name: processed_lyrics, dtype: object"
      ]
     },
     "execution_count": 4,
     "metadata": {},
     "output_type": "execute_result"
    }
   ],
   "source": [
    "df['processed_lyrics'] = df['lyrics'].apply(process_text, args=(stopwords,))\n",
    "\n",
    "df['processed_lyrics'].head(3)"
   ]
  },
  {
   "cell_type": "markdown",
   "id": "ec075379",
   "metadata": {},
   "source": [
    "## Divide data into two age groups:  Young (Age=2~8), Old (Age=12-18)"
   ]
  },
  {
   "cell_type": "code",
   "execution_count": 6,
   "id": "e40c8f80",
   "metadata": {
    "ExecuteTime": {
     "end_time": "2022-03-17T05:47:05.139141Z",
     "start_time": "2022-03-17T05:47:05.064583Z"
    }
   },
   "outputs": [
    {
     "data": {
      "text/html": [
       "<div>\n",
       "<style scoped>\n",
       "    .dataframe tbody tr th:only-of-type {\n",
       "        vertical-align: middle;\n",
       "    }\n",
       "\n",
       "    .dataframe tbody tr th {\n",
       "        vertical-align: top;\n",
       "    }\n",
       "\n",
       "    .dataframe thead th {\n",
       "        text-align: right;\n",
       "    }\n",
       "</style>\n",
       "<table border=\"1\" class=\"dataframe\">\n",
       "  <thead>\n",
       "    <tr style=\"text-align: right;\">\n",
       "      <th></th>\n",
       "      <th>processed_lyrics</th>\n",
       "      <th>group</th>\n",
       "    </tr>\n",
       "  </thead>\n",
       "  <tbody>\n",
       "    <tr>\n",
       "      <th>8540</th>\n",
       "      <td>don damn bout reputation live past new generat...</td>\n",
       "      <td>old</td>\n",
       "    </tr>\n",
       "    <tr>\n",
       "      <th>12902</th>\n",
       "      <td>talk ahhh sip let yay want feel beat baby come...</td>\n",
       "      <td>old</td>\n",
       "    </tr>\n",
       "    <tr>\n",
       "      <th>10690</th>\n",
       "      <td>let time mean like know lie god wrong s work p...</td>\n",
       "      <td>old</td>\n",
       "    </tr>\n",
       "    <tr>\n",
       "      <th>5655</th>\n",
       "      <td>away away think be simple thing want tell want...</td>\n",
       "      <td>old</td>\n",
       "    </tr>\n",
       "    <tr>\n",
       "      <th>2049</th>\n",
       "      <td>don like wait don like wait let right got to h...</td>\n",
       "      <td>young</td>\n",
       "    </tr>\n",
       "  </tbody>\n",
       "</table>\n",
       "</div>"
      ],
      "text/plain": [
       "                                        processed_lyrics  group\n",
       "8540   don damn bout reputation live past new generat...    old\n",
       "12902  talk ahhh sip let yay want feel beat baby come...    old\n",
       "10690  let time mean like know lie god wrong s work p...    old\n",
       "5655   away away think be simple thing want tell want...    old\n",
       "2049   don like wait don like wait let right got to h...  young"
      ]
     },
     "execution_count": 6,
     "metadata": {},
     "output_type": "execute_result"
    }
   ],
   "source": [
    "df_age = df[(df['Age']<9) | (df['Age']>11)].copy()\n",
    "df_age['group'] = df_age['Age'].apply(lambda x: 'young' if x<9 else 'old' )\n",
    "df_age = df_age[['processed_lyrics','group']]\n",
    "df_age = df_age.dropna(subset=['processed_lyrics'])\n",
    "df_age.sample(5)"
   ]
  },
  {
   "cell_type": "markdown",
   "id": "8647dccc",
   "metadata": {},
   "source": [
    "## Find the most polarized 50 words ( 25 young , 25 old)"
   ]
  },
  {
   "cell_type": "code",
   "execution_count": 7,
   "id": "c453a2e1",
   "metadata": {
    "ExecuteTime": {
     "end_time": "2022-03-17T05:47:10.756286Z",
     "start_time": "2022-03-17T05:47:09.895448Z"
    }
   },
   "outputs": [
    {
     "data": {
      "text/plain": [
       "<11586x22361 sparse matrix of type '<class 'numpy.float64'>'\n",
       "\twith 392187 stored elements in Compressed Sparse Row format>"
      ]
     },
     "execution_count": 7,
     "metadata": {},
     "output_type": "execute_result"
    }
   ],
   "source": [
    "from sklearn.feature_extraction.text import CountVectorizer, TfidfVectorizer\n",
    "\n",
    "tfidfVectorizer = TfidfVectorizer()\n",
    "tfidfVectorizer.fit_transform(df_age['processed_lyrics'])"
   ]
  },
  {
   "cell_type": "code",
   "execution_count": 8,
   "id": "65260cc7",
   "metadata": {
    "ExecuteTime": {
     "end_time": "2022-03-17T05:47:13.498750Z",
     "start_time": "2022-03-17T05:47:13.027847Z"
    }
   },
   "outputs": [
    {
     "data": {
      "text/plain": [
       "MultinomialNB()"
      ]
     },
     "execution_count": 8,
     "metadata": {},
     "output_type": "execute_result"
    }
   ],
   "source": [
    "from sklearn.naive_bayes import MultinomialNB\n",
    "clf = MultinomialNB()\n",
    "X_train = tfidfVectorizer.transform(df_age['processed_lyrics'])\n",
    "clf.fit(X_train, df_age['group'])"
   ]
  },
  {
   "cell_type": "code",
   "execution_count": 69,
   "id": "c64246d8",
   "metadata": {
    "ExecuteTime": {
     "end_time": "2022-03-17T06:22:37.920830Z",
     "start_time": "2022-03-17T06:22:37.898555Z"
    }
   },
   "outputs": [
    {
     "data": {
      "text/plain": [
       "array(['old', 'young'], dtype='<U5')"
      ]
     },
     "execution_count": 69,
     "metadata": {},
     "output_type": "execute_result"
    }
   ],
   "source": [
    "clf.classes_"
   ]
  },
  {
   "cell_type": "code",
   "execution_count": 72,
   "id": "9972d29a",
   "metadata": {
    "ExecuteTime": {
     "end_time": "2022-03-17T06:26:15.787513Z",
     "start_time": "2022-03-17T06:26:15.720879Z"
    }
   },
   "outputs": [],
   "source": [
    "from pprint import pprint\n",
    "matrix = clf.feature_log_prob_ \n",
    "_, ncols = matrix.shape\n",
    "polarity = [(i,0) for i in range(ncols)]\n",
    "for j in range(ncols):\n",
    "    polarity[j] = (j, matrix[0][j] - matrix[1][j])\n",
    "\n",
    "polarity.sort(key=lambda x: x[1])\n",
    "polarity = polarity[0:25] + polarity[-25::]\n",
    "word_prob =[(matrix[1][polarity[i][0]], matrix[0][polarity[i][0]]) for i in range(len(polarity))]\n"
   ]
  },
  {
   "cell_type": "code",
   "execution_count": 73,
   "id": "30693355",
   "metadata": {
    "ExecuteTime": {
     "end_time": "2022-03-17T06:26:17.702221Z",
     "start_time": "2022-03-17T06:26:17.165014Z"
    },
    "scrolled": true
   },
   "outputs": [
    {
     "name": "stdout",
     "output_type": "stream",
     "text": [
      "['mistletoe', 'christmas', 'santa', 'wiggles', 'twinkle', 'carly', 'roast', 'pirate', 'sleigh', 'reindeer', 'claus', 'quack', 'kryptonite', 'carol', 'murray', 'freddie', 'turkey', 'choo', 'aglow', 'yuletide', 'magical', 'muppet', 'henry', 'wubba', 'gary']\n",
      "['verse', 'drug', 'fucking', 'gun', 'hood', 'niggaz', 'lil', 'club', 'pussy', 'hell', 'homie', 'dick', 'wit', 'damn', 'hoe', 'motherfucker', 'fuckin', 'sex', 'ass', 'sexy', 'niggas', 'nigga', 'bitch', 'fuck', 'shit']\n"
     ]
    }
   ],
   "source": [
    "\n",
    "polar_words = [tfidfVectorizer.get_feature_names_out()[x[0]] for x in polarity]\n",
    "\n",
    "print (polar_words[0:25])\n",
    "print (polar_words[25:50])"
   ]
  },
  {
   "cell_type": "markdown",
   "id": "348f3b73",
   "metadata": {
    "ExecuteTime": {
     "end_time": "2022-03-15T22:32:42.939023Z",
     "start_time": "2022-03-15T22:32:42.909436Z"
    }
   },
   "source": [
    "## Plot the word using conditional log-probabilities as the (x,y) coordinates, and frequency as the marker size."
   ]
  },
  {
   "cell_type": "code",
   "execution_count": 92,
   "id": "2ca2bee9",
   "metadata": {
    "ExecuteTime": {
     "end_time": "2022-03-17T06:33:29.327819Z",
     "start_time": "2022-03-17T06:33:28.212462Z"
    },
    "scrolled": true
   },
   "outputs": [
    {
     "data": {
      "image/png": "[encoded data removed]",
      "text/plain": [
       "<Figure size 576x576 with 1 Axes>"
      ]
     },
     "metadata": {},
     "output_type": "display_data"
    },
    {
     "name": "stdout",
     "output_type": "stream",
     "text": [
      "['mistletoe', 'christmas', 'santa', 'wiggles', 'twinkle', 'carly', 'roast', 'pirate', 'sleigh', 'reindeer', 'claus', 'quack', 'kryptonite', 'carol', 'murray', 'freddie', 'turkey', 'choo', 'aglow', 'yuletide', 'magical', 'muppet', 'henry', 'wubba', 'gary']\n",
      "['verse', 'drug', 'fucking', 'gun', 'hood', 'niggaz', 'lil', 'club', 'pussy', 'hell', 'homie', 'dick', 'wit', 'damn', 'hoe', 'motherfucker', 'fuckin', 'sex', 'ass', 'sexy', 'niggas', 'nigga', 'bitch', 'fuck', 'shit']\n"
     ]
    }
   ],
   "source": [
    "import pandas as pd\n",
    "import numpy as np\n",
    "import matplotlib.pylab as plt\n",
    "import seaborn as sns\n",
    "sns.set()\n",
    "import math\n",
    " \n",
    "# Create dataframe\n",
    "df = pd.DataFrame({\n",
    "'log_prob_young': [ p[0] for p in word_prob],\n",
    "'log_prob_old': [p[1] for p in word_prob],\n",
    "'word': polar_words\n",
    "})\n",
    "\n",
    "plt.rcParams[\"figure.figsize\"] = (8,8)\n",
    "\n",
    "sns.regplot(data=df, x=\"log_prob_young\", y=\"log_prob_old\", fit_reg=False, marker=\"o\", color=\"blue\").set_aspect(aspect='equal')\n",
    "\n",
    "for line in range(0,df.shape[0]):\n",
    "     plt.text(df.log_prob_young[line]+0.2, df.log_prob_old[line], df.word[line], \n",
    "              horizontalalignment='left', size='medium', color='black', weight='semibold')\n",
    "\n",
    "plt.ylim([-11, -6])\n",
    "plt.xlim([-11, -6])\n",
    "plt.title(\"Word Polarity\")    \n",
    "\n",
    "plt.savefig('../figures/word_polarity.png')\n",
    "plt.show()\n",
    "\n",
    "print (polar_words[0:25])\n",
    "print (polar_words[25:50])"
   ]
  },
  {
   "cell_type": "code",
   "execution_count": null,
   "id": "83072c5c",
   "metadata": {},
   "outputs": [],
   "source": [
    "# TODO :\n",
    "# Remove the explicit words because they are obvious polarized words and try again.\n",
    "# See if there're other suprising polarized words."
   ]
  }
 ],
 "metadata": {
  "kernelspec": {
   "display_name": "Python 3 (ipykernel)",
   "language": "python",
   "name": "python3"
  },
  "language_info": {
   "codemirror_mode": {
    "name": "ipython",
    "version": 3
   },
   "file_extension": ".py",
   "mimetype": "text/x-python",
   "name": "python",
   "nbconvert_exporter": "python",
   "pygments_lexer": "ipython3",
   "version": "3.9.10"
  }
 },
 "nbformat": 4,
 "nbformat_minor": 5
}
