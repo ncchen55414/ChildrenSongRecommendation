{
 "cells": [
  {
   "cell_type": "markdown",
   "id": "faf10954",
   "metadata": {},
   "source": [
    "# Summary: Visualize how words in lyrics affect Age-Ratings."
   ]
  },
  {
   "cell_type": "markdown",
   "id": "b3de1e2d",
   "metadata": {},
   "source": [
    "#  Load Lyrics and Preprocess"
   ]
  },
  {
   "cell_type": "code",
   "execution_count": 1,
   "id": "939de3ed",
   "metadata": {
    "ExecuteTime": {
     "end_time": "2022-03-15T22:15:24.648535Z",
     "start_time": "2022-03-15T22:15:21.730223Z"
    }
   },
   "outputs": [],
   "source": [
    "import numpy as np\n",
    "import pandas as pd\n",
    "import matplotlib.pyplot as plt\n",
    "import seaborn as sns\n",
    "import spotipy\n",
    "import os\n",
    "%matplotlib inline"
   ]
  },
  {
   "cell_type": "code",
   "execution_count": 2,
   "id": "6ddc004f",
   "metadata": {
    "ExecuteTime": {
     "end_time": "2022-03-15T22:15:25.462115Z",
     "start_time": "2022-03-15T22:15:24.648535Z"
    }
   },
   "outputs": [],
   "source": [
    "df = pd.read_csv('../data/all.csv')\n",
    "df = df.dropna(subset=['lyrics'])\n",
    "df = df.reset_index(drop=True)\n",
    "\n",
    "import re\n",
    "\n",
    "def remove_disclaimer(string):\n",
    "    s = re.sub(r'(\\*)+ This Lyrics is NOT for Commercial use .*\\r\\n\\([0-9]*\\)',\"\", string)\n",
    "    return s\n",
    "\n",
    "df['lyrics'] = df['lyrics'].apply(remove_disclaimer)"
   ]
  },
  {
   "cell_type": "code",
   "execution_count": 3,
   "id": "9ebb6df0",
   "metadata": {
    "ExecuteTime": {
     "end_time": "2022-03-15T22:15:32.501710Z",
     "start_time": "2022-03-15T22:15:25.464029Z"
    }
   },
   "outputs": [],
   "source": [
    "import spacy\n",
    "import re\n",
    "\n",
    "nlp = spacy.load(\"en_core_web_sm\",  disable=['parser','ner', 'textcat'])\n",
    "\n",
    "\n",
    "def my_lemmatizer(doc):\n",
    "    doc_cleaned = ' '.join(re.findall(r'\\b\\w\\w\\w+\\b', doc)) \n",
    "    return [ w.lemma_.lower() for w in nlp(doc_cleaned) \n",
    "                      if len(w.lemma_)>2 ]\n",
    "\n",
    "def process_text(text, stop_words=set()):\n",
    "    if not text:\n",
    "        return []\n",
    "\n",
    "    text = ' '.join(re.findall(r'\\b\\w\\w\\w+\\b', text))   #only keep word with at least 3 chars\n",
    "    doc = nlp(text)\n",
    "    result=  [token.lemma_.lower() for token in doc if token.lemma_.lower() not in stop_words]\n",
    "    result = \" \".join(result)\n",
    "    return result\n",
    "\n",
    "\n",
    "\n",
    "stopwords = spacy.lang.en.STOP_WORDS.union(['-pron-', 'oh','ooh','la'])\n",
    "stopwords = set(my_lemmatizer(' '.join(list(stopwords))))\n",
    "\n"
   ]
  },
  {
   "cell_type": "code",
   "execution_count": 4,
   "id": "779b705a",
   "metadata": {
    "ExecuteTime": {
     "end_time": "2022-03-15T22:17:08.505443Z",
     "start_time": "2022-03-15T22:15:32.501997Z"
    },
    "scrolled": true
   },
   "outputs": [
    {
     "data": {
      "text/plain": [
       "0    old transylvania be lad castle be poor be sad ...\n",
       "1    saw monster mirror wake today monster mirror d...\n",
       "2    big red car roll street people meet like hello...\n",
       "Name: processed_lyrics, dtype: object"
      ]
     },
     "execution_count": 4,
     "metadata": {},
     "output_type": "execute_result"
    }
   ],
   "source": [
    "df['processed_lyrics'] = df['lyrics'].apply(process_text, args=(stopwords,))\n",
    "\n",
    "df['processed_lyrics'].head(3)"
   ]
  },
  {
   "cell_type": "markdown",
   "id": "ec075379",
   "metadata": {},
   "source": [
    "## Divide data into two age groups:  Young (Age=2~8), Old (Age=12-18)"
   ]
  },
  {
   "cell_type": "code",
   "execution_count": 25,
   "id": "04332dcd",
   "metadata": {
    "ExecuteTime": {
     "end_time": "2022-03-15T22:23:56.281306Z",
     "start_time": "2022-03-15T22:23:56.238109Z"
    }
   },
   "outputs": [],
   "source": [
    "#df_age = df_age.drop(columns='group')\n",
    "df_age = df_age.dropna(subset=['processed_lyrics'])"
   ]
  },
  {
   "cell_type": "code",
   "execution_count": 26,
   "id": "e40c8f80",
   "metadata": {
    "ExecuteTime": {
     "end_time": "2022-03-15T22:23:57.681257Z",
     "start_time": "2022-03-15T22:23:57.611713Z"
    }
   },
   "outputs": [
    {
     "data": {
      "text/html": [
       "<div>\n",
       "<style scoped>\n",
       "    .dataframe tbody tr th:only-of-type {\n",
       "        vertical-align: middle;\n",
       "    }\n",
       "\n",
       "    .dataframe tbody tr th {\n",
       "        vertical-align: top;\n",
       "    }\n",
       "\n",
       "    .dataframe thead th {\n",
       "        text-align: right;\n",
       "    }\n",
       "</style>\n",
       "<table border=\"1\" class=\"dataframe\">\n",
       "  <thead>\n",
       "    <tr style=\"text-align: right;\">\n",
       "      <th></th>\n",
       "      <th>processed_lyrics</th>\n",
       "      <th>group</th>\n",
       "    </tr>\n",
       "  </thead>\n",
       "  <tbody>\n",
       "    <tr>\n",
       "      <th>752</th>\n",
       "      <td>come boy sail away lady sail away tennessee sa...</td>\n",
       "      <td>young</td>\n",
       "    </tr>\n",
       "    <tr>\n",
       "      <th>12994</th>\n",
       "      <td>yeah yeah walk girl look like damn fly pimp be...</td>\n",
       "      <td>old</td>\n",
       "    </tr>\n",
       "    <tr>\n",
       "      <th>11133</th>\n",
       "      <td>head nigga walle play jump boo cudi funk hit h...</td>\n",
       "      <td>old</td>\n",
       "    </tr>\n",
       "    <tr>\n",
       "      <th>679</th>\n",
       "      <td>got to jump spin pick bale cotton got to jump ...</td>\n",
       "      <td>young</td>\n",
       "    </tr>\n",
       "    <tr>\n",
       "      <th>11078</th>\n",
       "      <td>ohh yeah waaaahhh yeah ciara lead floor bring ...</td>\n",
       "      <td>old</td>\n",
       "    </tr>\n",
       "  </tbody>\n",
       "</table>\n",
       "</div>"
      ],
      "text/plain": [
       "                                        processed_lyrics  group\n",
       "752    come boy sail away lady sail away tennessee sa...  young\n",
       "12994  yeah yeah walk girl look like damn fly pimp be...    old\n",
       "11133  head nigga walle play jump boo cudi funk hit h...    old\n",
       "679    got to jump spin pick bale cotton got to jump ...  young\n",
       "11078  ohh yeah waaaahhh yeah ciara lead floor bring ...    old"
      ]
     },
     "execution_count": 26,
     "metadata": {},
     "output_type": "execute_result"
    }
   ],
   "source": [
    "df_age = df[(df['Age']<9) | (df['Age']>11)].copy()\n",
    "df_age['group'] = df_age['Age'].apply(lambda x: 'young' if x<9 else 'old' )\n",
    "df_age = df_age[['processed_lyrics','group']]\n",
    "df_age.sample(5)"
   ]
  },
  {
   "cell_type": "markdown",
   "id": "8647dccc",
   "metadata": {},
   "source": [
    "## Find the most polarized 50 words ( 25 young , 25 old)"
   ]
  },
  {
   "cell_type": "code",
   "execution_count": 27,
   "id": "c453a2e1",
   "metadata": {
    "ExecuteTime": {
     "end_time": "2022-03-15T22:24:52.511935Z",
     "start_time": "2022-03-15T22:24:51.634568Z"
    }
   },
   "outputs": [
    {
     "data": {
      "text/plain": [
       "<11586x22361 sparse matrix of type '<class 'numpy.float64'>'\n",
       "\twith 393594 stored elements in Compressed Sparse Row format>"
      ]
     },
     "execution_count": 27,
     "metadata": {},
     "output_type": "execute_result"
    }
   ],
   "source": [
    "from sklearn.feature_extraction.text import CountVectorizer, TfidfVectorizer\n",
    "\n",
    "tfidfVectorizer = TfidfVectorizer()\n",
    "tfidfVectorizer.fit_transform(df_age['processed_lyrics'])"
   ]
  },
  {
   "cell_type": "code",
   "execution_count": 28,
   "id": "65260cc7",
   "metadata": {
    "ExecuteTime": {
     "end_time": "2022-03-15T22:25:36.459124Z",
     "start_time": "2022-03-15T22:25:35.907336Z"
    }
   },
   "outputs": [
    {
     "data": {
      "text/plain": [
       "MultinomialNB()"
      ]
     },
     "execution_count": 28,
     "metadata": {},
     "output_type": "execute_result"
    }
   ],
   "source": [
    "from sklearn.naive_bayes import MultinomialNB\n",
    "clf = MultinomialNB()\n",
    "X_train = tfidfVectorizer.transform(df_age['processed_lyrics'])\n",
    "clf.fit(X_train, df_age['group'])"
   ]
  },
  {
   "cell_type": "code",
   "execution_count": 37,
   "id": "9972d29a",
   "metadata": {
    "ExecuteTime": {
     "end_time": "2022-03-15T22:27:32.425817Z",
     "start_time": "2022-03-15T22:27:31.903262Z"
    }
   },
   "outputs": [
    {
     "name": "stdout",
     "output_type": "stream",
     "text": [
      "['mistletoe', 'christmas', 'santa', 'wiggles', 'twinkle', 'carly', 'roast', 'pirate', 'sleigh', 'reindeer', 'claus', 'quack', 'kryptonite', 'carol', 'murray', 'freddie', 'turkey', 'choo', 'aglow', 'yuletide', 'magical', 'muppet', 'henry', 'wubba', 'gary']\n",
      "['verse', 'drug', 'fucking', 'gun', 'hood', 'niggaz', 'lil', 'club', 'pussy', 'hell', 'homie', 'dick', 'wit', 'damn', 'hoe', 'motherfucker', 'fuckin', 'sex', 'ass', 'sexy', 'niggas', 'nigga', 'bitch', 'fuck', 'shit']\n"
     ]
    }
   ],
   "source": [
    "from pprint import pprint\n",
    "matrix = clf.feature_log_prob_ \n",
    "_, ncols = matrix.shape\n",
    "polarity = [(i,0) for i in range(ncols)]\n",
    "for j in range(ncols):\n",
    "    polarity[j] = (j, matrix[0][j] - matrix[1][j])\n",
    "\n",
    "polarity.sort(key=lambda x: x[1])\n",
    "\n",
    "polar_words = [tfidfVectorizer.get_feature_names_out()[x[0]] for x in polarity[0:25]]+ [tfidfVectorizer.get_feature_names()[x[0]] for x in polarity[-25::]]\n",
    "\n",
    "print (polar_words[0:25])\n",
    "\n",
    "print (polar_words[25:50])"
   ]
  },
  {
   "cell_type": "markdown",
   "id": "348f3b73",
   "metadata": {
    "ExecuteTime": {
     "end_time": "2022-03-15T22:32:42.939023Z",
     "start_time": "2022-03-15T22:32:42.909436Z"
    }
   },
   "source": [
    "## Plot the word using conditional probabilities as the (x,y) coordinates, and frequency as the marker size."
   ]
  },
  {
   "cell_type": "code",
   "execution_count": null,
   "id": "27f7a705",
   "metadata": {},
   "outputs": [],
   "source": [
    "-- TODO"
   ]
  }
 ],
 "metadata": {
  "kernelspec": {
   "display_name": "Python 3 (ipykernel)",
   "language": "python",
   "name": "python3"
  },
  "language_info": {
   "codemirror_mode": {
    "name": "ipython",
    "version": 3
   },
   "file_extension": ".py",
   "mimetype": "text/x-python",
   "name": "python",
   "nbconvert_exporter": "python",
   "pygments_lexer": "ipython3",
   "version": "3.9.10"
  }
 },
 "nbformat": 4,
 "nbformat_minor": 5
}
