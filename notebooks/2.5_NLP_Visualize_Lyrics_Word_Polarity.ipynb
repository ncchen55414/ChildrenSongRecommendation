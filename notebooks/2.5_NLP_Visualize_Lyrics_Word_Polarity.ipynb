{
 "cells": [
  {
   "cell_type": "markdown",
   "id": "faf10954",
   "metadata": {},
   "source": [
    "# Summary: Visualize how words in lyrics affect Age-Ratings."
   ]
  },
  {
   "cell_type": "markdown",
   "id": "b3de1e2d",
   "metadata": {},
   "source": [
    "#  Load Lyrics and Preprocess"
   ]
  },
  {
   "cell_type": "code",
   "execution_count": 1,
   "id": "939de3ed",
   "metadata": {
    "ExecuteTime": {
     "end_time": "2022-03-17T07:12:00.220887Z",
     "start_time": "2022-03-17T07:11:56.071151Z"
    }
   },
   "outputs": [],
   "source": [
    "import numpy as np\n",
    "import pandas as pd\n",
    "import matplotlib.pyplot as plt\n",
    "import seaborn as sns\n",
    "import spotipy\n",
    "import os\n",
    "%matplotlib inline"
   ]
  },
  {
   "cell_type": "code",
   "execution_count": 2,
   "id": "6ddc004f",
   "metadata": {
    "ExecuteTime": {
     "end_time": "2022-03-17T07:12:01.670785Z",
     "start_time": "2022-03-17T07:12:00.220887Z"
    }
   },
   "outputs": [],
   "source": [
    "df = pd.read_csv('../data/all.csv')\n",
    "df = df.dropna(subset=['lyrics'])\n",
    "df = df.reset_index(drop=True)\n",
    "\n",
    "import re\n",
    "\n",
    "def remove_disclaimer(string):\n",
    "    s = re.sub(r'(\\*)+ This Lyrics is NOT for Commercial use .*\\r\\n\\([0-9]*\\)',\"\", string)\n",
    "    return s\n",
    "\n",
    "df['lyrics'] = df['lyrics'].apply(remove_disclaimer)"
   ]
  },
  {
   "cell_type": "code",
   "execution_count": 3,
   "id": "9ebb6df0",
   "metadata": {
    "ExecuteTime": {
     "end_time": "2022-03-17T07:12:12.435015Z",
     "start_time": "2022-03-17T07:12:01.674074Z"
    }
   },
   "outputs": [],
   "source": [
    "import spacy\n",
    "import re\n",
    "\n",
    "nlp = spacy.load(\"en_core_web_sm\",  disable=['parser','ner', 'textcat'])\n",
    "\n",
    "\n",
    "def my_lemmatizer(doc):\n",
    "    doc_cleaned = ' '.join(re.findall(r'\\b\\w\\w\\w+\\b', doc)) \n",
    "    return [ w.lemma_.lower() for w in nlp(doc_cleaned) \n",
    "                      if len(w.lemma_)>2 ]\n",
    "\n",
    "def process_text(text, stop_words=set()):\n",
    "    if not text:\n",
    "        return []\n",
    "\n",
    "    text = ' '.join(re.findall(r'\\b\\w\\w\\w+\\b', text))   #only keep word with at least 3 chars\n",
    "    doc = nlp(text)\n",
    "    result=  [token.lemma_.lower() for token in doc if token.lemma_.lower() not in stop_words]\n",
    "    result = \" \".join(result)\n",
    "    return result\n",
    "\n",
    "\n",
    "\n",
    "stopwords = spacy.lang.en.STOP_WORDS.union(['-pron-', 'oh','ooh','la'])\n",
    "stopwords = set(my_lemmatizer(' '.join(list(stopwords))))\n",
    "\n"
   ]
  },
  {
   "cell_type": "code",
   "execution_count": 4,
   "id": "779b705a",
   "metadata": {
    "ExecuteTime": {
     "end_time": "2022-03-17T07:15:34.414136Z",
     "start_time": "2022-03-17T07:12:12.444531Z"
    },
    "scrolled": true
   },
   "outputs": [
    {
     "data": {
      "text/plain": [
       "0    old transylvania be lad castle be poor be sad ...\n",
       "1    saw monster mirror wake today monster mirror d...\n",
       "2    big red car roll street people meet like hello...\n",
       "Name: processed_lyrics, dtype: object"
      ]
     },
     "execution_count": 4,
     "metadata": {},
     "output_type": "execute_result"
    }
   ],
   "source": [
    "df['processed_lyrics'] = df['lyrics'].apply(process_text, args=(stopwords,))\n",
    "\n",
    "df['processed_lyrics'].head(3)"
   ]
  },
  {
   "cell_type": "markdown",
   "id": "ec075379",
   "metadata": {},
   "source": [
    "## Divide data into two age groups:  Young (Age=2~8), Old (Age=12-18)"
   ]
  },
  {
   "cell_type": "code",
   "execution_count": 5,
   "id": "e40c8f80",
   "metadata": {
    "ExecuteTime": {
     "end_time": "2022-03-17T07:15:34.504366Z",
     "start_time": "2022-03-17T07:15:34.414136Z"
    }
   },
   "outputs": [
    {
     "data": {
      "text/html": [
       "<div>\n",
       "<style scoped>\n",
       "    .dataframe tbody tr th:only-of-type {\n",
       "        vertical-align: middle;\n",
       "    }\n",
       "\n",
       "    .dataframe tbody tr th {\n",
       "        vertical-align: top;\n",
       "    }\n",
       "\n",
       "    .dataframe thead th {\n",
       "        text-align: right;\n",
       "    }\n",
       "</style>\n",
       "<table border=\"1\" class=\"dataframe\">\n",
       "  <thead>\n",
       "    <tr style=\"text-align: right;\">\n",
       "      <th></th>\n",
       "      <th>processed_lyrics</th>\n",
       "      <th>group</th>\n",
       "    </tr>\n",
       "  </thead>\n",
       "  <tbody>\n",
       "    <tr>\n",
       "      <th>6207</th>\n",
       "      <td>sensible incredible single friend be jealous n...</td>\n",
       "      <td>old</td>\n",
       "    </tr>\n",
       "    <tr>\n",
       "      <th>10302</th>\n",
       "      <td>think pretty makeup think funny tell punch lin...</td>\n",
       "      <td>old</td>\n",
       "    </tr>\n",
       "    <tr>\n",
       "      <th>13215</th>\n",
       "      <td>beautiful beautiful know beautiful beautiful k...</td>\n",
       "      <td>young</td>\n",
       "    </tr>\n",
       "    <tr>\n",
       "      <th>6562</th>\n",
       "      <td>think day tell story meet spark fly instantly ...</td>\n",
       "      <td>old</td>\n",
       "    </tr>\n",
       "    <tr>\n",
       "      <th>2756</th>\n",
       "      <td>break hear blind cause be dance pray heart tur...</td>\n",
       "      <td>young</td>\n",
       "    </tr>\n",
       "  </tbody>\n",
       "</table>\n",
       "</div>"
      ],
      "text/plain": [
       "                                        processed_lyrics  group\n",
       "6207   sensible incredible single friend be jealous n...    old\n",
       "10302  think pretty makeup think funny tell punch lin...    old\n",
       "13215  beautiful beautiful know beautiful beautiful k...  young\n",
       "6562   think day tell story meet spark fly instantly ...    old\n",
       "2756   break hear blind cause be dance pray heart tur...  young"
      ]
     },
     "execution_count": 5,
     "metadata": {},
     "output_type": "execute_result"
    }
   ],
   "source": [
    "df_age = df[(df['Age']<9) | (df['Age']>11)].copy()\n",
    "df_age['group'] = df_age['Age'].apply(lambda x: 'young' if x<9 else 'old' )\n",
    "df_age = df_age[['processed_lyrics','group']]\n",
    "df_age = df_age.dropna(subset=['processed_lyrics'])\n",
    "df_age.sample(5)"
   ]
  },
  {
   "cell_type": "markdown",
   "id": "8647dccc",
   "metadata": {},
   "source": [
    "## Find the most polarized 50 words ( 25 young , 25 old)"
   ]
  },
  {
   "cell_type": "code",
   "execution_count": 6,
   "id": "c453a2e1",
   "metadata": {
    "ExecuteTime": {
     "end_time": "2022-03-17T07:15:35.800578Z",
     "start_time": "2022-03-17T07:15:34.508412Z"
    }
   },
   "outputs": [
    {
     "data": {
      "text/plain": [
       "<11586x22361 sparse matrix of type '<class 'numpy.float64'>'\n",
       "\twith 392205 stored elements in Compressed Sparse Row format>"
      ]
     },
     "execution_count": 6,
     "metadata": {},
     "output_type": "execute_result"
    }
   ],
   "source": [
    "from sklearn.feature_extraction.text import CountVectorizer, TfidfVectorizer\n",
    "\n",
    "tfidfVectorizer = TfidfVectorizer()\n",
    "tfidfVectorizer.fit_transform(df_age['processed_lyrics'])"
   ]
  },
  {
   "cell_type": "code",
   "execution_count": 7,
   "id": "65260cc7",
   "metadata": {
    "ExecuteTime": {
     "end_time": "2022-03-17T07:15:36.727605Z",
     "start_time": "2022-03-17T07:15:35.803689Z"
    }
   },
   "outputs": [
    {
     "data": {
      "text/plain": [
       "MultinomialNB()"
      ]
     },
     "execution_count": 7,
     "metadata": {},
     "output_type": "execute_result"
    }
   ],
   "source": [
    "from sklearn.naive_bayes import MultinomialNB\n",
    "clf = MultinomialNB()\n",
    "X_train = tfidfVectorizer.transform(df_age['processed_lyrics'])\n",
    "clf.fit(X_train, df_age['group'])"
   ]
  },
  {
   "cell_type": "code",
   "execution_count": 8,
   "id": "c64246d8",
   "metadata": {
    "ExecuteTime": {
     "end_time": "2022-03-17T07:15:36.752254Z",
     "start_time": "2022-03-17T07:15:36.730615Z"
    }
   },
   "outputs": [
    {
     "data": {
      "text/plain": [
       "array(['old', 'young'], dtype='<U5')"
      ]
     },
     "execution_count": 8,
     "metadata": {},
     "output_type": "execute_result"
    }
   ],
   "source": [
    "clf.classes_"
   ]
  },
  {
   "cell_type": "code",
   "execution_count": 47,
   "id": "9972d29a",
   "metadata": {
    "ExecuteTime": {
     "end_time": "2022-03-17T07:36:38.808010Z",
     "start_time": "2022-03-17T07:36:38.714933Z"
    }
   },
   "outputs": [],
   "source": [
    "from pprint import pprint\n",
    "matrix = clf.feature_log_prob_ \n",
    "_, ncols = matrix.shape\n",
    "polarity = [(i,0) for i in range(ncols)]\n",
    "for j in range(ncols):\n",
    "    polarity[j] = (j, matrix[0][j] - matrix[1][j])       #(index, log(p(w|old)) - log(p(w|young))\n",
    "\n",
    "polarity.sort(key=lambda x: x[1])\n"
   ]
  },
  {
   "cell_type": "code",
   "execution_count": 48,
   "id": "3afaa4e8",
   "metadata": {
    "ExecuteTime": {
     "end_time": "2022-03-17T07:36:56.419586Z",
     "start_time": "2022-03-17T07:36:55.083550Z"
    }
   },
   "outputs": [
    {
     "name": "stdout",
     "output_type": "stream",
     "text": [
      "['mistletoe', 'christmas', 'santa', 'wiggles', 'twinkle', 'carly', 'roast', 'pirate', 'sleigh', 'reindeer', 'claus', 'quack', 'kryptonite', 'carol', 'murray', 'freddie', 'turkey', 'choo', 'aglow', 'yuletide', 'magical', 'muppet', 'henry', 'wubba', 'gary']\n",
      "['niggas', 'sexy', 'ass', 'sex', 'fuckin', 'motherfucker', 'hoe', 'damn', 'wit', 'dick', 'homie', 'hell', 'pussy', 'club', 'lil', 'niggaz', 'hood', 'gun', 'fucking', 'drug', 'verse', 'gangsta', 'pill', 'body', 'dem', 'smoke', 'ayy', 'death', 'chick', 'kill', 'gon', 'rap', 'drink', 'shady', 'bullet', 'thang', 'weed', 'wrist', 'womanizer', 'bar', 'pimp', 'ridin', 'murder', 'dope', 'dat']\n"
     ]
    }
   ],
   "source": [
    "polarity = polarity[0:25] + polarity[-50::]\n",
    "word_prob =[(matrix[1][pol[0]], matrix[0][pol[0]]) for pol in polarity]\n",
    "\n",
    "polar_words = [tfidfVectorizer.get_feature_names_out()[x[0]] for x in polarity]\n",
    "print (polar_words[0:25])\n",
    "print (polar_words[70:25:-1])"
   ]
  },
  {
   "cell_type": "markdown",
   "id": "c15896fe",
   "metadata": {},
   "source": [
    "## Unsurprisingly, the \"old\"-end of the most polarized words are almost all explicit words. I ignore them to get other more interesting polarized words."
   ]
  },
  {
   "cell_type": "code",
   "execution_count": 49,
   "id": "0de1090e",
   "metadata": {
    "ExecuteTime": {
     "end_time": "2022-03-17T07:37:32.572263Z",
     "start_time": "2022-03-17T07:37:31.698208Z"
    }
   },
   "outputs": [
    {
     "name": "stdout",
     "output_type": "stream",
     "text": [
      "['mistletoe', 'christmas', 'santa', 'wiggles', 'twinkle', 'carly', 'roast', 'pirate', 'sleigh', 'reindeer', 'claus', 'quack', 'kryptonite', 'carol', 'murray', 'freddie', 'turkey', 'choo', 'aglow', 'yuletide', 'magical', 'muppet', 'henry', 'wubba', 'gary']\n",
      "['clique', 'dat', 'dope', 'murder', 'ridin', 'pimp', 'bar', 'womanizer', 'wrist', 'weed', 'thang', 'bullet', 'shady', 'drink', 'rap', 'gon', 'kill', 'chick', 'death', 'ayy', 'smoke', 'dem', 'body', 'pill', 'gangsta']\n"
     ]
    }
   ],
   "source": [
    "polarity = polarity[0:25] + polarity[25:50]\n",
    "polar_words = [tfidfVectorizer.get_feature_names_out()[x[0]] for x in polarity]\n",
    "word_prob =[(matrix[1][pol[0]], matrix[0][pol[0]]) for pol in polarity]\n",
    "\n",
    "print (polar_words[0:25])\n",
    "print (polar_words[25:])"
   ]
  },
  {
   "cell_type": "markdown",
   "id": "348f3b73",
   "metadata": {
    "ExecuteTime": {
     "end_time": "2022-03-15T22:32:42.939023Z",
     "start_time": "2022-03-15T22:32:42.909436Z"
    }
   },
   "source": [
    "## Plot the word using conditional log-probabilities as the (x,y) coordinates."
   ]
  },
  {
   "cell_type": "code",
   "execution_count": 50,
   "id": "2ca2bee9",
   "metadata": {
    "ExecuteTime": {
     "end_time": "2022-03-17T07:38:14.573525Z",
     "start_time": "2022-03-17T07:38:13.494222Z"
    },
    "scrolled": true
   },
   "outputs": [
    {
     "data": {
      "image/png": "[encoded data removed]",
      "text/plain": [
       "<Figure size 864x864 with 1 Axes>"
      ]
     },
     "metadata": {},
     "output_type": "display_data"
    },
    {
     "name": "stdout",
     "output_type": "stream",
     "text": [
      "['mistletoe', 'christmas', 'santa', 'wiggles', 'twinkle', 'carly', 'roast', 'pirate', 'sleigh', 'reindeer', 'claus', 'quack', 'kryptonite', 'carol', 'murray', 'freddie', 'turkey', 'choo', 'aglow', 'yuletide', 'magical', 'muppet', 'henry', 'wubba', 'gary']\n",
      "['clique', 'dat', 'dope', 'murder', 'ridin', 'pimp', 'bar', 'womanizer', 'wrist', 'weed', 'thang', 'bullet', 'shady', 'drink', 'rap', 'gon', 'kill', 'chick', 'death', 'ayy', 'smoke', 'dem', 'body', 'pill', 'gangsta']\n"
     ]
    }
   ],
   "source": [
    "import pandas as pd\n",
    "import numpy as np\n",
    "import matplotlib.pylab as plt\n",
    "import seaborn as sns\n",
    "sns.set()\n",
    "import math\n",
    " \n",
    "# Create dataframe\n",
    "df = pd.DataFrame({\n",
    "'log_prob_young': [ p[0] for p in word_prob],\n",
    "'log_prob_old': [p[1] for p in word_prob],\n",
    "'word': polar_words\n",
    "})\n",
    "\n",
    "plt.rcParams[\"figure.figsize\"] = (12,12)\n",
    "\n",
    "sns.regplot(data=df, x=\"log_prob_young\", y=\"log_prob_old\", fit_reg=False, marker=\"o\", color=\"blue\").set_aspect(aspect='equal')\n",
    "\n",
    "for line in range(0,df.shape[0]):\n",
    "     plt.text(df.log_prob_young[line]+0.2, df.log_prob_old[line], df.word[line], \n",
    "              horizontalalignment='left', size='medium', color='black', weight='semibold')\n",
    "\n",
    "plt.ylim([-11, -6])\n",
    "plt.xlim([-11, -6])\n",
    "plt.title(\"Word Polarity\")    \n",
    "\n",
    "plt.savefig('../figures/word_polarity.png')\n",
    "plt.show()\n",
    "\n",
    "print (polar_words[0:25])\n",
    "print (polar_words[25:50])"
   ]
  }
 ],
 "metadata": {
  "kernelspec": {
   "display_name": "Python 3 (ipykernel)",
   "language": "python",
   "name": "python3"
  },
  "language_info": {
   "codemirror_mode": {
    "name": "ipython",
    "version": 3
   },
   "file_extension": ".py",
   "mimetype": "text/x-python",
   "name": "python",
   "nbconvert_exporter": "python",
   "pygments_lexer": "ipython3",
   "version": "3.9.10"
  }
 },
 "nbformat": 4,
 "nbformat_minor": 5
}
