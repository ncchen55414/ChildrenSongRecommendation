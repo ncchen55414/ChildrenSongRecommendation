{
 "cells": [
  {
   "cell_type": "markdown",
   "id": "faf10954",
   "metadata": {},
   "source": [
    "# Summary: Use song lyrics to predict age ratings.\n",
    "\n",
    "After basic text preprocessing (tokenization, lemmiztization, removing stop words), the processed lyrics are then feed into a model pipeline consisting of `TfIdfVectorizer` and `RidgeRegressor`. `GridSearchCV` is used on a smaller subset to select the paramters: `min_df` for `TfIdfVectorizer`, and `alpha` for `RidgeRegressor`. These parameteres will be used later for song recommendation using Lyrics with KNN model.\n",
    "\n",
    "The model achieves an $R^2$ score of 0.4."
   ]
  },
  {
   "cell_type": "markdown",
   "id": "b3de1e2d",
   "metadata": {},
   "source": [
    "#  Load Lyrics and Preprocess"
   ]
  },
  {
   "cell_type": "code",
   "execution_count": 1,
   "id": "939de3ed",
   "metadata": {
    "ExecuteTime": {
     "end_time": "2022-03-15T03:21:00.067720Z",
     "start_time": "2022-03-15T03:20:54.789586Z"
    }
   },
   "outputs": [],
   "source": [
    "import numpy as np\n",
    "import pandas as pd\n",
    "import matplotlib.pyplot as plt\n",
    "import seaborn as sns\n",
    "import spotipy\n",
    "import os\n",
    "%matplotlib inline"
   ]
  },
  {
   "cell_type": "code",
   "execution_count": 2,
   "id": "6ddc004f",
   "metadata": {
    "ExecuteTime": {
     "end_time": "2022-03-15T03:21:01.521931Z",
     "start_time": "2022-03-15T03:21:00.072683Z"
    }
   },
   "outputs": [],
   "source": [
    "df = pd.read_csv('../data/all.csv')\n",
    "df = df.dropna(subset=['lyrics'])\n",
    "df = df.reset_index(drop=True)\n",
    "\n",
    "import re\n",
    "\n",
    "def remove_disclaimer(string):\n",
    "    s = re.sub(r'(\\*)+ This Lyrics is NOT for Commercial use .*\\r\\n\\([0-9]*\\)',\"\", string)\n",
    "    return s\n",
    "\n",
    "df['lyrics'] = df['lyrics'].apply(remove_disclaimer)"
   ]
  },
  {
   "cell_type": "code",
   "execution_count": 3,
   "id": "9ebb6df0",
   "metadata": {
    "ExecuteTime": {
     "end_time": "2022-03-15T03:21:13.265683Z",
     "start_time": "2022-03-15T03:21:01.527279Z"
    }
   },
   "outputs": [],
   "source": [
    "import spacy\n",
    "import re\n",
    "\n",
    "nlp = spacy.load(\"en_core_web_sm\",  disable=['parser','ner', 'textcat'])\n",
    "\n",
    "\n",
    "def my_lemmatizer(doc):\n",
    "    doc_cleaned = ' '.join(re.findall(r'\\b\\w\\w\\w+\\b', doc)) \n",
    "    return [ w.lemma_.lower() for w in nlp(doc_cleaned) \n",
    "                      if len(w.lemma_)>2 ]\n",
    "\n",
    "def process_text(text, stop_words=set()):\n",
    "    if not text:\n",
    "        return []\n",
    "\n",
    "    text = ' '.join(re.findall(r'\\b\\w\\w\\w+\\b', text))   #only keep word with at least 3 chars\n",
    "    doc = nlp(text)\n",
    "    result=  [token.lemma_.lower() for token in doc if token.lemma_.lower() not in stop_words]\n",
    "    result = \" \".join(result)\n",
    "    return result\n",
    "\n",
    "\n",
    "\n",
    "stopwords = spacy.lang.en.STOP_WORDS.union(['-pron-', 'oh','ooh','la'])\n",
    "stopwords = set(my_lemmatizer(' '.join(list(stopwords))))\n",
    "\n"
   ]
  },
  {
   "cell_type": "code",
   "execution_count": 4,
   "id": "779b705a",
   "metadata": {
    "ExecuteTime": {
     "end_time": "2022-03-15T03:23:12.399588Z",
     "start_time": "2022-03-15T03:21:13.272581Z"
    },
    "scrolled": true
   },
   "outputs": [
    {
     "data": {
      "text/plain": [
       "0    old transylvania be lad castle be poor be sad ...\n",
       "1    saw monster mirror wake today monster mirror d...\n",
       "2    big red car roll street people meet like hello...\n",
       "Name: processed_lyrics, dtype: object"
      ]
     },
     "execution_count": 4,
     "metadata": {},
     "output_type": "execute_result"
    }
   ],
   "source": [
    "df['processed_lyrics'] = df['lyrics'].apply(process_text, args=(stopwords,))\n",
    "\n",
    "df['processed_lyrics'].head(3)"
   ]
  },
  {
   "cell_type": "markdown",
   "id": "8647dccc",
   "metadata": {},
   "source": [
    "## Tuning Parameters using a smaller subset"
   ]
  },
  {
   "cell_type": "code",
   "execution_count": 5,
   "id": "c453a2e1",
   "metadata": {
    "ExecuteTime": {
     "end_time": "2022-03-15T03:23:16.845171Z",
     "start_time": "2022-03-15T03:23:12.402589Z"
    }
   },
   "outputs": [
    {
     "name": "stdout",
     "output_type": "stream",
     "text": [
      "Fitting 3 folds for each of 3 candidates, totalling 9 fits\n",
      "[Pipeline] ........ (step 1 of 2) Processing vectorizer, total=   0.2s\n",
      "[Pipeline] ......... (step 2 of 2) Processing regressor, total=   0.1s\n",
      "Pipeline(steps=[('vectorizer',\n",
      "                 ColumnTransformer(transformers=[('tfidf',\n",
      "                                                  TfidfVectorizer(max_df=0.95,\n",
      "                                                                  min_df=2),\n",
      "                                                  'processed_lyrics')])),\n",
      "                ('regressor', Ridge(alpha=1))],\n",
      "         verbose=True)\n"
     ]
    }
   ],
   "source": [
    "from sklearn.preprocessing import FunctionTransformer\n",
    "from sklearn.compose import ColumnTransformer\n",
    "from sklearn.feature_extraction.text import CountVectorizer, TfidfTransformer\n",
    "from sklearn.pipeline import Pipeline\n",
    "from sklearn.linear_model import Ridge\n",
    "from sklearn.model_selection import GridSearchCV, train_test_split\n",
    "from sklearn.utils import shuffle\n",
    "from sklearn.tree import DecisionTreeRegressor\n",
    "from sklearn.feature_extraction.text import TfidfVectorizer\n",
    "\n",
    "X = df\n",
    "y = df['Age']\n",
    "\n",
    "X_train, X_test, y_train, y_test = train_test_split( X, y, test_size=0.2, random_state=42)\n",
    "\n",
    "\n",
    "bag_of_words_model = Pipeline([\n",
    "    ('vectorizer', ColumnTransformer([('tfidf', TfidfVectorizer(min_df=2), 'processed_lyrics')])),\n",
    "    ('regressor', Ridge())     \n",
    "], verbose = True)\n",
    "\n",
    "\n",
    "param_grid = {'regressor__alpha':[0.1, 1, 5], \n",
    "              'vectorizer__tfidf__max_df': [0.95]}\n",
    "\n",
    "\n",
    "gs_est = GridSearchCV(bag_of_words_model, param_grid, cv=3, n_jobs=2, verbose=5, return_train_score = True)\n",
    "\n",
    "model = gs_est.fit(X_train[0:len(X_train)//3], y_train[0:len(X_train)//3])   #\n",
    "print (gs_est.best_estimator_)\n"
   ]
  },
  {
   "cell_type": "code",
   "execution_count": 7,
   "id": "65260cc7",
   "metadata": {
    "ExecuteTime": {
     "end_time": "2022-03-15T04:41:58.589548Z",
     "start_time": "2022-03-15T04:41:58.549937Z"
    }
   },
   "outputs": [
    {
     "data": {
      "text/plain": [
       "Pipeline(steps=[('vectorizer',\n",
       "                 ColumnTransformer(transformers=[('tfidf',\n",
       "                                                  TfidfVectorizer(max_df=0.95,\n",
       "                                                                  min_df=2),\n",
       "                                                  'processed_lyrics')])),\n",
       "                ('regressor', Ridge(alpha=1))],\n",
       "         verbose=True)"
      ]
     },
     "execution_count": 7,
     "metadata": {},
     "output_type": "execute_result"
    }
   ],
   "source": [
    "gs_est.best_estimator_"
   ]
  },
  {
   "cell_type": "code",
   "execution_count": 16,
   "id": "9972d29a",
   "metadata": {
    "ExecuteTime": {
     "end_time": "2022-03-15T04:46:01.101223Z",
     "start_time": "2022-03-15T04:46:01.077535Z"
    }
   },
   "outputs": [
    {
     "name": "stdout",
     "output_type": "stream",
     "text": [
      "{'regressor__alpha': 0.1, 'vectorizer__tfidf__max_df': 0.95} score: 0.14854305618087812\n",
      "{'regressor__alpha': 1, 'vectorizer__tfidf__max_df': 0.95} score: 0.3298979379942056\n",
      "{'regressor__alpha': 5, 'vectorizer__tfidf__max_df': 0.95} score: 0.28848560142146\n"
     ]
    }
   ],
   "source": [
    "for i in range(len(gs_est.cv_results_['params'])):\n",
    "    print (gs_est.cv_results_['params'][i], \"score:\", gs_est.cv_results_['mean_test_score'][i])"
   ]
  },
  {
   "cell_type": "markdown",
   "id": "456e48cc",
   "metadata": {},
   "source": [
    "# Age-Rating Model, using full dataset"
   ]
  },
  {
   "cell_type": "code",
   "execution_count": 17,
   "id": "ae04cb0f",
   "metadata": {
    "ExecuteTime": {
     "end_time": "2022-03-15T04:52:05.359648Z",
     "start_time": "2022-03-15T04:52:04.672628Z"
    }
   },
   "outputs": [
    {
     "name": "stdout",
     "output_type": "stream",
     "text": [
      "[Pipeline] ........ (step 1 of 2) Processing vectorizer, total=   0.6s\n",
      "[Pipeline] ......... (step 2 of 2) Processing regressor, total=   0.1s\n"
     ]
    }
   ],
   "source": [
    "from sklearn.preprocessing import FunctionTransformer\n",
    "from sklearn.compose import ColumnTransformer\n",
    "from sklearn.feature_extraction.text import CountVectorizer, TfidfTransformer\n",
    "from sklearn.pipeline import Pipeline\n",
    "from sklearn.linear_model import Ridge\n",
    "from sklearn.model_selection import GridSearchCV, train_test_split\n",
    "from sklearn.utils import shuffle\n",
    "from sklearn.tree import DecisionTreeRegressor\n",
    "from sklearn.feature_extraction.text import TfidfVectorizer\n",
    "\n",
    "X = df\n",
    "y = df['Age']\n",
    "\n",
    "X_train, X_test, y_train, y_test = train_test_split( X, y, test_size=0.2, random_state=42)\n",
    "\n",
    "\n",
    "bag_of_words_model = Pipeline([\n",
    "    ('vectorizer', ColumnTransformer([('tfidf', TfidfVectorizer(min_df=2, max_df=0.95), 'processed_lyrics')])),\n",
    "    ('regressor', Ridge(1))     \n",
    "], verbose = True)\n",
    "\n",
    "\n",
    "model = bag_of_words_model.fit(X_train, y_train)  \n"
   ]
  },
  {
   "cell_type": "code",
   "execution_count": 18,
   "id": "2b9b8240",
   "metadata": {
    "ExecuteTime": {
     "end_time": "2022-03-15T04:52:05.532838Z",
     "start_time": "2022-03-15T04:52:05.362633Z"
    }
   },
   "outputs": [],
   "source": [
    "y_pred = model.predict(X_test)"
   ]
  },
  {
   "cell_type": "code",
   "execution_count": 27,
   "id": "dd1142a4",
   "metadata": {
    "ExecuteTime": {
     "end_time": "2022-03-15T04:58:28.136426Z",
     "start_time": "2022-03-15T04:58:28.109057Z"
    },
    "scrolled": true
   },
   "outputs": [
    {
     "name": "stdout",
     "output_type": "stream",
     "text": [
      "Baseline model: Use the mean age (age=11.431499649614576) as the prediction\n",
      "Baseline Error:  4.038358889273143\n",
      "Baseline R^2 Score:  -0.0002732693107434514 \n",
      "\n",
      "Lyrics Model: \n",
      "Error (RMSE):  3.117914328171984\n",
      "R^2 Score:  0.40373791486012056\n"
     ]
    }
   ],
   "source": [
    "from sklearn.metrics import mean_squared_error, r2_score\n",
    "\n",
    "mean = np.mean(y_train)\n",
    "baseline_score  = r2_score(y_test, [mean for _ in range(len(y_test))])\n",
    "baseline_error  = mean_squared_error(y_test, [mean for _ in range(len(y_test))],squared=False)\n",
    "\n",
    "print (f\"Baseline model: Use the mean age (age={mean}) as the prediction\")\n",
    "print (\"Baseline Error: \", baseline_error)\n",
    "print (\"Baseline R^2 Score: \", baseline_score, \"\\n\")\n",
    "\n",
    "\n",
    "\n",
    "print (\"Lyrics Model: \")\n",
    "print (\"Error (RMSE): \", mean_squared_error(y_test, y_pred, squared=False))\n",
    "print (\"R^2 Score: \" , r2_score(y_test, y_pred))"
   ]
  },
  {
   "cell_type": "code",
   "execution_count": null,
   "id": "8d43dc6d",
   "metadata": {},
   "outputs": [],
   "source": []
  }
 ],
 "metadata": {
  "kernelspec": {
   "display_name": "Python 3 (ipykernel)",
   "language": "python",
   "name": "python3"
  },
  "language_info": {
   "codemirror_mode": {
    "name": "ipython",
    "version": 3
   },
   "file_extension": ".py",
   "mimetype": "text/x-python",
   "name": "python",
   "nbconvert_exporter": "python",
   "pygments_lexer": "ipython3",
   "version": "3.9.10"
  }
 },
 "nbformat": 4,
 "nbformat_minor": 5
}
