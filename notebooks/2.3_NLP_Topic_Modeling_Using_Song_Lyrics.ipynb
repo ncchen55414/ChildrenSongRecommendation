{
 "cells": [
  {
   "cell_type": "markdown",
   "id": "9f655a0d",
   "metadata": {},
   "source": [
    "# Load Data"
   ]
  },
  {
   "cell_type": "code",
   "execution_count": 5,
   "id": "90c61297",
   "metadata": {
    "ExecuteTime": {
     "end_time": "2022-03-01T18:40:03.050681Z",
     "start_time": "2022-03-01T18:40:03.040333Z"
    }
   },
   "outputs": [],
   "source": [
    "import seaborn as sns\n",
    "import re"
   ]
  },
  {
   "cell_type": "code",
   "execution_count": 4,
   "id": "e9cc0f76",
   "metadata": {
    "ExecuteTime": {
     "end_time": "2022-03-01T18:39:39.110227Z",
     "start_time": "2022-03-01T18:39:39.049851Z"
    }
   },
   "outputs": [
    {
     "name": "stdout",
     "output_type": "stream",
     "text": [
      "Columns of df:  [(0, 'Age'), (1, 'Album_Name'), (2, 'Artist'), (3, 'Year'), (4, 'Description'), (5, 'Age Group')] \n",
      "\n",
      "Shape of df:  (2206, 6) \n",
      "\n",
      "Number of albums having description:  2206 \n",
      "\n"
     ]
    },
    {
     "data": {
      "text/html": [
       "<div>\n",
       "<style scoped>\n",
       "    .dataframe tbody tr th:only-of-type {\n",
       "        vertical-align: middle;\n",
       "    }\n",
       "\n",
       "    .dataframe tbody tr th {\n",
       "        vertical-align: top;\n",
       "    }\n",
       "\n",
       "    .dataframe thead th {\n",
       "        text-align: right;\n",
       "    }\n",
       "</style>\n",
       "<table border=\"1\" class=\"dataframe\">\n",
       "  <thead>\n",
       "    <tr style=\"text-align: right;\">\n",
       "      <th></th>\n",
       "      <th>Age</th>\n",
       "      <th>Album_Name</th>\n",
       "      <th>Artist</th>\n",
       "      <th>Year</th>\n",
       "      <th>Description</th>\n",
       "      <th>Age Group</th>\n",
       "    </tr>\n",
       "  </thead>\n",
       "  <tbody>\n",
       "    <tr>\n",
       "      <th>0</th>\n",
       "      <td>2</td>\n",
       "      <td>Sesame Street: Halloween Collection</td>\n",
       "      <td>Sesame Street</td>\n",
       "      <td>2012</td>\n",
       "      <td>Playful, not-so-spooky Halloween songs for th...</td>\n",
       "      <td>Toodler</td>\n",
       "    </tr>\n",
       "    <tr>\n",
       "      <th>1</th>\n",
       "      <td>2</td>\n",
       "      <td>A Child's Celebration of Rock 'n' Roll</td>\n",
       "      <td>Various Artists</td>\n",
       "      <td>1996</td>\n",
       "      <td>Songs to get toddlers and teens energized.</td>\n",
       "      <td>Toodler</td>\n",
       "    </tr>\n",
       "    <tr>\n",
       "      <th>2</th>\n",
       "      <td>2</td>\n",
       "      <td>Wake up Jeff</td>\n",
       "      <td>The Wiggles</td>\n",
       "      <td>2000</td>\n",
       "      <td>Songs and scenes certain to keep kids attenti...</td>\n",
       "      <td>Toodler</td>\n",
       "    </tr>\n",
       "  </tbody>\n",
       "</table>\n",
       "</div>"
      ],
      "text/plain": [
       "   Age                              Album_Name           Artist  Year  \\\n",
       "0    2     Sesame Street: Halloween Collection    Sesame Street  2012   \n",
       "1    2  A Child's Celebration of Rock 'n' Roll  Various Artists  1996   \n",
       "2    2                            Wake up Jeff      The Wiggles  2000   \n",
       "\n",
       "                                         Description Age Group  \n",
       "0   Playful, not-so-spooky Halloween songs for th...   Toodler  \n",
       "1        Songs to get toddlers and teens energized.    Toodler  \n",
       "2   Songs and scenes certain to keep kids attenti...   Toodler  "
      ]
     },
     "execution_count": 4,
     "metadata": {},
     "output_type": "execute_result"
    }
   ],
   "source": [
    "import pandas as pd\n",
    "\n",
    "df = pd.read_csv(\"../data/album_age_ratings.csv\")\n",
    "print (\"Columns of df: \",  list(enumerate(df.columns)), \"\\n\")\n",
    "\n",
    "print (\"Shape of df: \", df.shape, \"\\n\")\n",
    "\n",
    "print (\"Number of albums having description: \", df['Description'].notnull().sum(), \"\\n\")\n",
    "\n",
    "df.head(3)"
   ]
  },
  {
   "cell_type": "markdown",
   "id": "4bf9a0a0",
   "metadata": {},
   "source": [
    "# Text Processing"
   ]
  },
  {
   "cell_type": "code",
   "execution_count": 6,
   "id": "f1cc3b77",
   "metadata": {
    "ExecuteTime": {
     "end_time": "2022-03-01T18:40:10.742152Z",
     "start_time": "2022-03-01T18:40:08.926887Z"
    }
   },
   "outputs": [],
   "source": [
    "import spacy\n",
    "nlp = spacy.load(\"en\", disable=['parser','ner','tagger', 'textcat'])"
   ]
  },
  {
   "cell_type": "code",
   "execution_count": 7,
   "id": "9abab84d",
   "metadata": {
    "ExecuteTime": {
     "end_time": "2022-03-01T18:40:13.326928Z",
     "start_time": "2022-03-01T18:40:13.278984Z"
    }
   },
   "outputs": [],
   "source": [
    "import re\n",
    "\n",
    "def my_lemmatizer(doc):\n",
    "    doc_cleaned = ' '.join(re.findall(r'\\b\\w[\\w\\']+\\b', doc))\n",
    "    return [ w.lemma_.lower() for w in nlp(doc_cleaned) \n",
    "                      if w.lemma_ not in ['_', '.', '-PRON-'] ]\n",
    "\n",
    "stopwords = spacy.lang.en.stop_words.STOP_WORDS\n",
    "\n",
    "stopwords = set(my_lemmatizer(' '.join(list(stopwords))))"
   ]
  },
  {
   "cell_type": "markdown",
   "id": "55957ff2",
   "metadata": {},
   "source": [
    "# Bag-of-Words Model + K-Mean clustering"
   ]
  },
  {
   "cell_type": "code",
   "execution_count": 8,
   "id": "01112c22",
   "metadata": {
    "ExecuteTime": {
     "end_time": "2022-03-01T18:40:25.578655Z",
     "start_time": "2022-03-01T18:40:25.007508Z"
    }
   },
   "outputs": [],
   "source": [
    "from sklearn.feature_extraction.text import CountVectorizer, TfidfTransformer\n",
    "max_features = 1000\n",
    "\n",
    "cv = CountVectorizer(tokenizer=my_lemmatizer, stop_words=stopwords, \n",
    "                     min_df=1, max_df=0.9, max_features=max_features)\n",
    "counts = cv.fit_transform(df['Description'])\n",
    "\n",
    "tf = TfidfTransformer()\n",
    "matrix = tf.fit_transform(counts)"
   ]
  },
  {
   "cell_type": "code",
   "execution_count": 9,
   "id": "02a8c689",
   "metadata": {
    "ExecuteTime": {
     "end_time": "2022-03-01T18:40:27.317905Z",
     "start_time": "2022-03-01T18:40:27.284761Z"
    }
   },
   "outputs": [
    {
     "data": {
      "text/plain": [
       "['leave',\n",
       " 'invite',\n",
       " 'orchestral',\n",
       " 'hero',\n",
       " 'mj',\n",
       " 'tedious',\n",
       " 'harsh',\n",
       " 'chase',\n",
       " 'empower',\n",
       " 'outstanding']"
      ]
     },
     "execution_count": 9,
     "metadata": {},
     "output_type": "execute_result"
    }
   ],
   "source": [
    "import random   \n",
    "random.sample(list(cv.get_feature_names_out()), 10)    #random select 10 words from CountVectorizer"
   ]
  },
  {
   "cell_type": "code",
   "execution_count": 10,
   "id": "eafa0453",
   "metadata": {
    "ExecuteTime": {
     "end_time": "2022-03-01T18:40:32.878343Z",
     "start_time": "2022-03-01T18:40:31.081484Z"
    }
   },
   "outputs": [
    {
     "name": "stdout",
     "output_type": "stream",
     "text": [
      "Cluster 0: \n",
      "rap fun love country song dance track music tune clean \n",
      "\n",
      "Cluster 1: \n",
      "soundtrack love message rap sex album cd fun teen song \n",
      "\n",
      "Cluster 2: \n",
      "movie tune old fun music okay young friendly song kid \n",
      "\n",
      "Cluster 3: \n",
      "teen kid punk classic roll clean pop indie alt rock \n",
      "\n",
      "Cluster 4: \n",
      "electro punk tweens country track love song dance clean pop \n",
      "\n"
     ]
    }
   ],
   "source": [
    "from sklearn.cluster import KMeans\n",
    "number_of_clusters = 5\n",
    "\n",
    "kmc_5 = KMeans(n_clusters=number_of_clusters, n_init=3, random_state=117)  # random_state for consistency\n",
    "kmc_5.fit(matrix)\n",
    "kmc_5.cluster_centers_\n",
    "import numpy as np\n",
    "\n",
    "number_of_top_words = 10\n",
    "\n",
    "cluster_words = np.argsort(kmc_5.cluster_centers_, axis=1)\n",
    "terms = cv.get_feature_names_out()\n",
    "\n",
    "top_words = set()\n",
    "\n",
    "for i in range(number_of_clusters):\n",
    "    print('Cluster {}: '.format(i))\n",
    "    print(' '.join([terms[k] for k in cluster_words[i][-number_of_top_words:]]),'\\n')\n",
    "    top_words = top_words.union([terms[k] for k in cluster_words[i][-number_of_top_words:]])\n",
    "    \n",
    "top_words = sorted(list(top_words))"
   ]
  },
  {
   "cell_type": "code",
   "execution_count": 11,
   "id": "808a3019",
   "metadata": {
    "ExecuteTime": {
     "end_time": "2022-03-01T18:40:39.583173Z",
     "start_time": "2022-03-01T18:40:39.506541Z"
    }
   },
   "outputs": [
    {
     "data": {
      "text/html": [
       "<div>\n",
       "<style scoped>\n",
       "    .dataframe tbody tr th:only-of-type {\n",
       "        vertical-align: middle;\n",
       "    }\n",
       "\n",
       "    .dataframe tbody tr th {\n",
       "        vertical-align: top;\n",
       "    }\n",
       "\n",
       "    .dataframe thead th {\n",
       "        text-align: right;\n",
       "    }\n",
       "</style>\n",
       "<table border=\"1\" class=\"dataframe\">\n",
       "  <thead>\n",
       "    <tr style=\"text-align: right;\">\n",
       "      <th></th>\n",
       "      <th>album</th>\n",
       "      <th>alt</th>\n",
       "      <th>cd</th>\n",
       "      <th>classic</th>\n",
       "      <th>clean</th>\n",
       "      <th>country</th>\n",
       "      <th>dance</th>\n",
       "      <th>electro</th>\n",
       "      <th>friendly</th>\n",
       "      <th>fun</th>\n",
       "      <th>...</th>\n",
       "      <th>roll</th>\n",
       "      <th>sex</th>\n",
       "      <th>song</th>\n",
       "      <th>soundtrack</th>\n",
       "      <th>teen</th>\n",
       "      <th>track</th>\n",
       "      <th>tune</th>\n",
       "      <th>tweens</th>\n",
       "      <th>young</th>\n",
       "      <th>Cluster</th>\n",
       "    </tr>\n",
       "  </thead>\n",
       "  <tbody>\n",
       "    <tr>\n",
       "      <th>1036</th>\n",
       "      <td>0</td>\n",
       "      <td>0</td>\n",
       "      <td>0</td>\n",
       "      <td>0</td>\n",
       "      <td>0</td>\n",
       "      <td>0</td>\n",
       "      <td>0</td>\n",
       "      <td>0</td>\n",
       "      <td>0</td>\n",
       "      <td>1</td>\n",
       "      <td>...</td>\n",
       "      <td>0</td>\n",
       "      <td>0</td>\n",
       "      <td>1</td>\n",
       "      <td>0</td>\n",
       "      <td>0</td>\n",
       "      <td>0</td>\n",
       "      <td>0</td>\n",
       "      <td>0</td>\n",
       "      <td>0</td>\n",
       "      <td>4</td>\n",
       "    </tr>\n",
       "    <tr>\n",
       "      <th>125</th>\n",
       "      <td>0</td>\n",
       "      <td>0</td>\n",
       "      <td>0</td>\n",
       "      <td>0</td>\n",
       "      <td>0</td>\n",
       "      <td>0</td>\n",
       "      <td>0</td>\n",
       "      <td>0</td>\n",
       "      <td>0</td>\n",
       "      <td>0</td>\n",
       "      <td>...</td>\n",
       "      <td>0</td>\n",
       "      <td>0</td>\n",
       "      <td>0</td>\n",
       "      <td>0</td>\n",
       "      <td>0</td>\n",
       "      <td>0</td>\n",
       "      <td>1</td>\n",
       "      <td>0</td>\n",
       "      <td>0</td>\n",
       "      <td>0</td>\n",
       "    </tr>\n",
       "    <tr>\n",
       "      <th>881</th>\n",
       "      <td>0</td>\n",
       "      <td>0</td>\n",
       "      <td>1</td>\n",
       "      <td>0</td>\n",
       "      <td>1</td>\n",
       "      <td>0</td>\n",
       "      <td>0</td>\n",
       "      <td>0</td>\n",
       "      <td>0</td>\n",
       "      <td>0</td>\n",
       "      <td>...</td>\n",
       "      <td>0</td>\n",
       "      <td>0</td>\n",
       "      <td>0</td>\n",
       "      <td>0</td>\n",
       "      <td>0</td>\n",
       "      <td>0</td>\n",
       "      <td>0</td>\n",
       "      <td>0</td>\n",
       "      <td>0</td>\n",
       "      <td>0</td>\n",
       "    </tr>\n",
       "  </tbody>\n",
       "</table>\n",
       "<p>3 rows × 32 columns</p>\n",
       "</div>"
      ],
      "text/plain": [
       "      album  alt  cd  classic  clean  country  dance  electro  friendly  fun  \\\n",
       "1036      0    0   0        0      0        0      0        0         0    1   \n",
       "125       0    0   0        0      0        0      0        0         0    0   \n",
       "881       0    0   1        0      1        0      0        0         0    0   \n",
       "\n",
       "      ...  roll  sex  song  soundtrack  teen  track  tune  tweens  young  \\\n",
       "1036  ...     0    0     1           0     0      0     0       0      0   \n",
       "125   ...     0    0     0           0     0      0     1       0      0   \n",
       "881   ...     0    0     0           0     0      0     0       0      0   \n",
       "\n",
       "      Cluster  \n",
       "1036        4  \n",
       "125         0  \n",
       "881         0  \n",
       "\n",
       "[3 rows x 32 columns]"
      ]
     },
     "execution_count": 11,
     "metadata": {},
     "output_type": "execute_result"
    }
   ],
   "source": [
    "word_df = pd.DataFrame(counts.toarray(), columns=terms)[top_words]\n",
    "word_df['Cluster'] = kmc_5.labels_.tolist()\n",
    "word_df.sample(3)"
   ]
  },
  {
   "cell_type": "code",
   "execution_count": 12,
   "id": "6882381f",
   "metadata": {
    "ExecuteTime": {
     "end_time": "2022-03-01T18:40:45.631670Z",
     "start_time": "2022-03-01T18:40:45.390695Z"
    }
   },
   "outputs": [
    {
     "data": {
      "image/png": "[encoded data removed]",
      "text/plain": [
       "<Figure size 432x288 with 1 Axes>"
      ]
     },
     "metadata": {
      "needs_background": "light"
     },
     "output_type": "display_data"
    }
   ],
   "source": [
    "word_df.groupby('Cluster').count()[top_words[0]].\\\n",
    "    plot.bar(rot=0).\\\n",
    "    set(ylabel='Document count',\n",
    "    title='Number of Documents per Cluster');"
   ]
  },
  {
   "cell_type": "markdown",
   "id": "3c09a8bb",
   "metadata": {},
   "source": [
    "# Latent Dirichlet allocation (LDA)"
   ]
  },
  {
   "cell_type": "code",
   "execution_count": 20,
   "id": "d747c0dc",
   "metadata": {
    "ExecuteTime": {
     "end_time": "2022-03-01T18:42:00.606485Z",
     "start_time": "2022-03-01T18:42:00.433233Z"
    }
   },
   "outputs": [],
   "source": [
    "import gensim\n",
    "\n",
    "import re\n",
    "def process_words(texts, stop_words=set()):\n",
    "    result = []\n",
    "    for t in texts:\n",
    "        t = ' '.join(re.findall(r'\\b\\w[\\w\\']+\\b', t))\n",
    "        doc = nlp(t)\n",
    "        result.append([token.lemma_.lower() for token in doc if token.lemma_ not in stop_words])\n",
    "    return result\n",
    "\n",
    "processed_text = process_words(df['Description'], stop_words=stopwords.union(['-PRON-','song','album','cd','track']))"
   ]
  },
  {
   "cell_type": "code",
   "execution_count": 37,
   "id": "c0a0bfd4",
   "metadata": {
    "ExecuteTime": {
     "end_time": "2022-03-01T18:45:54.065712Z",
     "start_time": "2022-03-01T18:45:51.674034Z"
    }
   },
   "outputs": [
    {
     "name": "stdout",
     "output_type": "stream",
     "text": [
      "Number of unique tokens: 2528\n"
     ]
    }
   ],
   "source": [
    "dictionary = gensim.corpora.Dictionary(processed_text)\n",
    "print('Number of unique tokens: {}'.format(len(dictionary)))\n",
    "corpus = [dictionary.doc2bow(t) for t in processed_text]\n",
    "num_topics = 7\n",
    "\n",
    "lda_model = gensim.models.ldamodel.LdaModel(corpus=corpus, \n",
    "                                            id2word=dictionary,\n",
    "                                            num_topics=num_topics, \n",
    "                                            random_state=117, update_every=1,\n",
    "                                            chunksize=1500, \n",
    "                                            passes=5, iterations=10,\n",
    "                                            alpha='asymmetric', eta=1/100,\n",
    "                                            per_word_topics=True)"
   ]
  },
  {
   "cell_type": "code",
   "execution_count": null,
   "id": "f0424f2a",
   "metadata": {},
   "outputs": [],
   "source": []
  },
  {
   "cell_type": "code",
   "execution_count": 38,
   "id": "ed2644fe",
   "metadata": {
    "ExecuteTime": {
     "end_time": "2022-03-01T18:45:55.228131Z",
     "start_time": "2022-03-01T18:45:55.195753Z"
    }
   },
   "outputs": [
    {
     "name": "stdout",
     "output_type": "stream",
     "text": [
      "[(0,\n",
      "  '0.029*\"clean\" + 0.023*\"mature\" + 0.023*\"pop\" + 0.021*\"kid\" + 0.018*\"teen\"'),\n",
      " (1,\n",
      "  '0.056*\"rap\" + 0.043*\"explicit\" + 0.042*\"sex\" + 0.034*\"tune\" + 0.026*\"cd\"'),\n",
      " (2,\n",
      "  '0.055*\"debut\" + 0.028*\"language\" + 0.024*\"soul\" + 0.022*\"sound\" + '\n",
      "  '0.020*\"sex\"'),\n",
      " (3,\n",
      "  '0.069*\"hip\" + 0.065*\"message\" + 0.059*\"hop\" + 0.038*\"rock\" + 0.036*\"band\"'),\n",
      " (4,\n",
      "  '0.095*\"teen\" + 0.086*\"ok\" + 0.058*\"old\" + 0.044*\"catchy\" + 0.037*\"tweens\"'),\n",
      " (5, '0.116*\"dance\" + 0.096*\"pop\" + 0.041*\"kid\" + 0.029*\"sexy\" + 0.028*\"love\"'),\n",
      " (6,\n",
      "  '0.074*\"iffy\" + 0.052*\"ballad\" + 0.051*\"kid\" + 0.045*\"word\" + 0.044*\"not\"')]\n"
     ]
    }
   ],
   "source": [
    "from pprint import pprint\n",
    "\n",
    "pprint(lda_model.print_topics(num_words=5))"
   ]
  },
  {
   "cell_type": "code",
   "execution_count": 23,
   "id": "eac6a21b",
   "metadata": {
    "ExecuteTime": {
     "end_time": "2022-03-01T18:42:12.317770Z",
     "start_time": "2022-03-01T18:42:12.296237Z"
    }
   },
   "outputs": [
    {
     "data": {
      "text/plain": [
       "[(0, 0.07331658),\n",
       " (1, 0.54994),\n",
       " (2, 0.03516695),\n",
       " (3, 0.31768814),\n",
       " (4, 0.023888383)]"
      ]
     },
     "execution_count": 23,
     "metadata": {},
     "output_type": "execute_result"
    }
   ],
   "source": [
    "lda_model.get_document_topics(corpus[0])"
   ]
  },
  {
   "cell_type": "code",
   "execution_count": 39,
   "id": "6b3e068d",
   "metadata": {
    "ExecuteTime": {
     "end_time": "2022-03-01T18:46:30.312614Z",
     "start_time": "2022-03-01T18:46:30.280292Z"
    }
   },
   "outputs": [],
   "source": [
    "def get_main_topic_df(model, bow, texts):\n",
    "    topic_list = []\n",
    "    percent_list = []\n",
    "    keyword_list = []\n",
    "    \n",
    "    for wc in bow:\n",
    "        topic, percent = sorted(model.get_document_topics(wc), key=lambda x: x[1], reverse=True)[0]\n",
    "        topic_list.append(topic)\n",
    "        percent_list.append(round(percent, 3))\n",
    "        keyword_list.append(' '.join(sorted([x[0] for x in model.show_topic(topic)])))\n",
    "\n",
    "    result_df = pd.concat([pd.Series(topic_list, name='Dominant_topic'), \n",
    "                           pd.Series(percent_list, name='Percent'), \n",
    "                           pd.Series(texts, name='Processed_text'), \n",
    "                           pd.Series(keyword_list, name='Keywords')], axis=1)\n",
    "\n",
    "    return result_df"
   ]
  },
  {
   "cell_type": "code",
   "execution_count": 40,
   "id": "6493b4ad",
   "metadata": {
    "ExecuteTime": {
     "end_time": "2022-03-01T18:46:33.115254Z",
     "start_time": "2022-03-01T18:46:32.487132Z"
    }
   },
   "outputs": [
    {
     "data": {
      "text/html": [
       "<div>\n",
       "<style scoped>\n",
       "    .dataframe tbody tr th:only-of-type {\n",
       "        vertical-align: middle;\n",
       "    }\n",
       "\n",
       "    .dataframe tbody tr th {\n",
       "        vertical-align: top;\n",
       "    }\n",
       "\n",
       "    .dataframe thead th {\n",
       "        text-align: right;\n",
       "    }\n",
       "</style>\n",
       "<table border=\"1\" class=\"dataframe\">\n",
       "  <thead>\n",
       "    <tr style=\"text-align: right;\">\n",
       "      <th></th>\n",
       "      <th>Dominant_topic</th>\n",
       "      <th>Percent</th>\n",
       "      <th>Processed_text</th>\n",
       "      <th>Keywords</th>\n",
       "    </tr>\n",
       "  </thead>\n",
       "  <tbody>\n",
       "    <tr>\n",
       "      <th>845</th>\n",
       "      <td>0</td>\n",
       "      <td>0.591</td>\n",
       "      <td>[empowering, mildy, suggestive, electro, pop, ...</td>\n",
       "      <td>cd clean fun kid mature pop rock teen tune well</td>\n",
       "    </tr>\n",
       "    <tr>\n",
       "      <th>1731</th>\n",
       "      <td>5</td>\n",
       "      <td>0.413</td>\n",
       "      <td>[burlesque, dancer, try, sound, like, pop, star]</td>\n",
       "      <td>dance drink hit kid lot love mix pop sexy usual</td>\n",
       "    </tr>\n",
       "    <tr>\n",
       "      <th>1602</th>\n",
       "      <td>1</td>\n",
       "      <td>0.674</td>\n",
       "      <td>[reality, star, lame, focus, money, party]</td>\n",
       "      <td>beat cd club drink explicit party rap sex tune...</td>\n",
       "    </tr>\n",
       "    <tr>\n",
       "      <th>178</th>\n",
       "      <td>0</td>\n",
       "      <td>0.853</td>\n",
       "      <td>[inviting, encourage, listen, rhyme, movement]</td>\n",
       "      <td>cd clean fun kid mature pop rock teen tune well</td>\n",
       "    </tr>\n",
       "    <tr>\n",
       "      <th>784</th>\n",
       "      <td>0</td>\n",
       "      <td>0.611</td>\n",
       "      <td>[teen, talent, feature, mtv, appeal, peer]</td>\n",
       "      <td>cd clean fun kid mature pop rock teen tune well</td>\n",
       "    </tr>\n",
       "    <tr>\n",
       "      <th>1351</th>\n",
       "      <td>0</td>\n",
       "      <td>0.421</td>\n",
       "      <td>[one, perry, clean, despite, iffy, line]</td>\n",
       "      <td>cd clean fun kid mature pop rock teen tune well</td>\n",
       "    </tr>\n",
       "    <tr>\n",
       "      <th>889</th>\n",
       "      <td>3</td>\n",
       "      <td>0.766</td>\n",
       "      <td>[nonsensical, techno, funk, safe, group, past,...</td>\n",
       "      <td>band bite family fun hip hop message music pop...</td>\n",
       "    </tr>\n",
       "    <tr>\n",
       "      <th>514</th>\n",
       "      <td>0</td>\n",
       "      <td>0.908</td>\n",
       "      <td>[more, clean, girl, craziness, young, tween, s...</td>\n",
       "      <td>cd clean fun kid mature pop rock teen tune well</td>\n",
       "    </tr>\n",
       "    <tr>\n",
       "      <th>1964</th>\n",
       "      <td>5</td>\n",
       "      <td>0.443</td>\n",
       "      <td>[sexier, usual, rihanna, single, hot, kid]</td>\n",
       "      <td>dance drink hit kid lot love mix pop sexy usual</td>\n",
       "    </tr>\n",
       "    <tr>\n",
       "      <th>885</th>\n",
       "      <td>0</td>\n",
       "      <td>0.570</td>\n",
       "      <td>[mixed, message, mar, idol, rocker, clean, cd]</td>\n",
       "      <td>cd clean fun kid mature pop rock teen tune well</td>\n",
       "    </tr>\n",
       "  </tbody>\n",
       "</table>\n",
       "</div>"
      ],
      "text/plain": [
       "      Dominant_topic  Percent  \\\n",
       "845                0    0.591   \n",
       "1731               5    0.413   \n",
       "1602               1    0.674   \n",
       "178                0    0.853   \n",
       "784                0    0.611   \n",
       "1351               0    0.421   \n",
       "889                3    0.766   \n",
       "514                0    0.908   \n",
       "1964               5    0.443   \n",
       "885                0    0.570   \n",
       "\n",
       "                                         Processed_text  \\\n",
       "845   [empowering, mildy, suggestive, electro, pop, ...   \n",
       "1731   [burlesque, dancer, try, sound, like, pop, star]   \n",
       "1602         [reality, star, lame, focus, money, party]   \n",
       "178      [inviting, encourage, listen, rhyme, movement]   \n",
       "784          [teen, talent, feature, mtv, appeal, peer]   \n",
       "1351           [one, perry, clean, despite, iffy, line]   \n",
       "889   [nonsensical, techno, funk, safe, group, past,...   \n",
       "514   [more, clean, girl, craziness, young, tween, s...   \n",
       "1964         [sexier, usual, rihanna, single, hot, kid]   \n",
       "885      [mixed, message, mar, idol, rocker, clean, cd]   \n",
       "\n",
       "                                               Keywords  \n",
       "845     cd clean fun kid mature pop rock teen tune well  \n",
       "1731    dance drink hit kid lot love mix pop sexy usual  \n",
       "1602  beat cd club drink explicit party rap sex tune...  \n",
       "178     cd clean fun kid mature pop rock teen tune well  \n",
       "784     cd clean fun kid mature pop rock teen tune well  \n",
       "1351    cd clean fun kid mature pop rock teen tune well  \n",
       "889   band bite family fun hip hop message music pop...  \n",
       "514     cd clean fun kid mature pop rock teen tune well  \n",
       "1964    dance drink hit kid lot love mix pop sexy usual  \n",
       "885     cd clean fun kid mature pop rock teen tune well  "
      ]
     },
     "execution_count": 40,
     "metadata": {},
     "output_type": "execute_result"
    }
   ],
   "source": [
    "main_topic_df = get_main_topic_df(lda_model, corpus, processed_text)\n",
    "\n",
    "main_topic_df.sample(10)"
   ]
  },
  {
   "cell_type": "code",
   "execution_count": 41,
   "id": "5d00bbd2",
   "metadata": {
    "ExecuteTime": {
     "end_time": "2022-03-01T18:46:36.119175Z",
     "start_time": "2022-03-01T18:46:35.955878Z"
    }
   },
   "outputs": [
    {
     "data": {
      "image/png": "[encoded data removed]",
      "text/plain": [
       "<Figure size 432x288 with 1 Axes>"
      ]
     },
     "metadata": {
      "needs_background": "light"
     },
     "output_type": "display_data"
    }
   ],
   "source": [
    "grouped_topics = main_topic_df.groupby('Dominant_topic')\n",
    "grouped_topics.count()['Processed_text'].\\\n",
    "    plot.bar(rot=0).\\\n",
    "    set(title='Dominant Topic Frequency in the {} Reviews'.format(len(df)),\n",
    "        ylabel='Topic frequency'); "
   ]
  },
  {
   "cell_type": "code",
   "execution_count": 27,
   "id": "281a101d",
   "metadata": {
    "ExecuteTime": {
     "end_time": "2022-03-01T18:42:26.438372Z",
     "start_time": "2022-03-01T18:42:26.381477Z"
    }
   },
   "outputs": [
    {
     "data": {
      "text/html": [
       "<div>\n",
       "<style scoped>\n",
       "    .dataframe tbody tr th:only-of-type {\n",
       "        vertical-align: middle;\n",
       "    }\n",
       "\n",
       "    .dataframe tbody tr th {\n",
       "        vertical-align: top;\n",
       "    }\n",
       "\n",
       "    .dataframe thead th {\n",
       "        text-align: right;\n",
       "    }\n",
       "</style>\n",
       "<table border=\"1\" class=\"dataframe\">\n",
       "  <thead>\n",
       "    <tr style=\"text-align: right;\">\n",
       "      <th></th>\n",
       "      <th>Dominant_topic</th>\n",
       "      <th>Percent</th>\n",
       "      <th>Processed_text</th>\n",
       "      <th>Keywords</th>\n",
       "    </tr>\n",
       "  </thead>\n",
       "  <tbody>\n",
       "    <tr>\n",
       "      <th>1279</th>\n",
       "      <td>0</td>\n",
       "      <td>0.933</td>\n",
       "      <td>[idol, velvet, teddy, bear, offer, clean, gosp...</td>\n",
       "      <td>clean dance fun kid mature music pop rock teen...</td>\n",
       "    </tr>\n",
       "    <tr>\n",
       "      <th>1894</th>\n",
       "      <td>1</td>\n",
       "      <td>0.903</td>\n",
       "      <td>[mc, explore, money, semi, explicit, rap, tune]</td>\n",
       "      <td>cd clean explicit pop profanity rap sex star t...</td>\n",
       "    </tr>\n",
       "    <tr>\n",
       "      <th>215</th>\n",
       "      <td>2</td>\n",
       "      <td>0.894</td>\n",
       "      <td>[sweet, simple, folk, music, kid, sugar, add]</td>\n",
       "      <td>content debut great love musical original pop ...</td>\n",
       "    </tr>\n",
       "    <tr>\n",
       "      <th>1199</th>\n",
       "      <td>3</td>\n",
       "      <td>0.903</td>\n",
       "      <td>[ipod, ad, boost, singer, safe, vocal, pure, p...</td>\n",
       "      <td>bite drink explicit fun hip hop lot message po...</td>\n",
       "    </tr>\n",
       "    <tr>\n",
       "      <th>1363</th>\n",
       "      <td>4</td>\n",
       "      <td>0.899</td>\n",
       "      <td>[breezy, pop, tune, mention, party, ok, old, t...</td>\n",
       "      <td>band catchy indie kid ok old rock sexy teen tw...</td>\n",
       "    </tr>\n",
       "  </tbody>\n",
       "</table>\n",
       "</div>"
      ],
      "text/plain": [
       "      Dominant_topic  Percent  \\\n",
       "1279               0    0.933   \n",
       "1894               1    0.903   \n",
       "215                2    0.894   \n",
       "1199               3    0.903   \n",
       "1363               4    0.899   \n",
       "\n",
       "                                         Processed_text  \\\n",
       "1279  [idol, velvet, teddy, bear, offer, clean, gosp...   \n",
       "1894    [mc, explore, money, semi, explicit, rap, tune]   \n",
       "215       [sweet, simple, folk, music, kid, sugar, add]   \n",
       "1199  [ipod, ad, boost, singer, safe, vocal, pure, p...   \n",
       "1363  [breezy, pop, tune, mention, party, ok, old, t...   \n",
       "\n",
       "                                               Keywords  \n",
       "1279  clean dance fun kid mature music pop rock teen...  \n",
       "1894  cd clean explicit pop profanity rap sex star t...  \n",
       "215   content debut great love musical original pop ...  \n",
       "1199  bite drink explicit fun hip hop lot message po...  \n",
       "1363  band catchy indie kid ok old rock sexy teen tw...  "
      ]
     },
     "execution_count": 27,
     "metadata": {},
     "output_type": "execute_result"
    }
   ],
   "source": [
    "representatives = pd.DataFrame()\n",
    "\n",
    "for k in grouped_topics.groups.keys():\n",
    "    representatives = pd.concat([ representatives, \n",
    "                                 grouped_topics.get_group(k).sort_values(['Percent'], ascending=False).head(1) ])\n",
    "    \n",
    "representatives"
   ]
  },
  {
   "cell_type": "code",
   "execution_count": 42,
   "id": "b6f41708",
   "metadata": {
    "ExecuteTime": {
     "end_time": "2022-03-01T18:46:54.601394Z",
     "start_time": "2022-03-01T18:46:54.546318Z"
    }
   },
   "outputs": [
    {
     "data": {
      "application/vnd.jupyter.widget-view+json": {
       "model_id": "f8a828785ed14033808f57b1cc127bfb",
       "version_major": 2,
       "version_minor": 0
      },
      "text/plain": [
       "interactive(children=(Dropdown(description='topic id', options=(0, 1, 2, 3, 4), value=0), Output()), _dom_clas…"
      ]
     },
     "metadata": {},
     "output_type": "display_data"
    }
   ],
   "source": [
    "import ipywidgets as widgets\n",
    "from IPython.display import display\n",
    "from ipywidgets import interact, interactive\n",
    "\n",
    "\n",
    "\n",
    "def f(idx):\n",
    "    print('Document: {}  Dominant topic: {}\\n'.format(representatives.index[idx], \n",
    "                                       representatives.loc[representatives.index[idx]]['Dominant_topic']))\n",
    "    print(df['Description'][representatives.index[idx]])\n",
    "\n",
    "    \n",
    "interactive(f, idx = widgets.Dropdown(options=[0,1,2,3,4], value=0, description='topic id'))"
   ]
  },
  {
   "cell_type": "code",
   "execution_count": null,
   "id": "767b2548",
   "metadata": {},
   "outputs": [],
   "source": []
  }
 ],
 "metadata": {
  "kernelspec": {
   "display_name": "Python 3 (ipykernel)",
   "language": "python",
   "name": "python3"
  },
  "language_info": {
   "codemirror_mode": {
    "name": "ipython",
    "version": 3
   },
   "file_extension": ".py",
   "mimetype": "text/x-python",
   "name": "python",
   "nbconvert_exporter": "python",
   "pygments_lexer": "ipython3",
   "version": "3.9.10"
  }
 },
 "nbformat": 4,
 "nbformat_minor": 5
}
