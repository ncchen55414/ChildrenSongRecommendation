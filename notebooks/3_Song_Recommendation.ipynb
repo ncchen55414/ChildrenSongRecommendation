{
 "cells": [
  {
   "cell_type": "code",
   "execution_count": 1,
   "id": "4b467eb2",
   "metadata": {
    "ExecuteTime": {
     "end_time": "2022-02-23T18:48:31.467241Z",
     "start_time": "2022-02-23T18:48:30.120573Z"
    }
   },
   "outputs": [],
   "source": [
    "import pandas as pd\n",
    "import os\n",
    "import spotipy\n",
    "from spotipy.oauth2 import SpotifyClientCredentials\n",
    "from dotenv import load_dotenv\n",
    "%load_ext dotenv\n",
    "%dotenv\n",
    "\n",
    "\n",
    "client_id = os.environ['SPOTIFY_CLIENT_ID']\n",
    "client_secret = os.environ['SPOTIFY_CLIENT_SECRET']\n",
    "spotify = spotipy.Spotify(\n",
    "    client_credentials_manager=SpotifyClientCredentials(client_id = client_id, client_secret=client_secret))"
   ]
  },
  {
   "cell_type": "markdown",
   "id": "f15eb3ff",
   "metadata": {},
   "source": [
    "## Load DataFrame"
   ]
  },
  {
   "cell_type": "code",
   "execution_count": 2,
   "id": "8d1ac3e9",
   "metadata": {
    "ExecuteTime": {
     "end_time": "2022-02-23T18:48:32.184219Z",
     "start_time": "2022-02-23T18:48:31.472266Z"
    }
   },
   "outputs": [],
   "source": [
    "df = pd.read_csv(\"../data/all.csv\")"
   ]
  },
  {
   "cell_type": "code",
   "execution_count": 3,
   "id": "fc519ab7",
   "metadata": {
    "ExecuteTime": {
     "end_time": "2022-02-23T18:48:32.215647Z",
     "start_time": "2022-02-23T18:48:32.188135Z"
    }
   },
   "outputs": [
    {
     "data": {
      "text/plain": [
       "Index(['Age', 'Album_Name', 'Artist', 'Year', 'Description', 'Age Group',\n",
       "       'Album_ID', 'Album_Name_Spotify', 'Artists_Spotify', 'Track_ID', 'ISRC',\n",
       "       'Track_Name', 'Artists', 'popularity', 'preview_url', 'danceability',\n",
       "       'energy', 'key', 'loudness', 'mode', 'speechiness', 'acousticness',\n",
       "       'instrumentalness', 'liveness', 'valence', 'tempo', 'type', 'uri',\n",
       "       'track_href', 'analysis_url', 'duration_ms', 'time_signature',\n",
       "       'lyrics'],\n",
       "      dtype='object')"
      ]
     },
     "execution_count": 3,
     "metadata": {},
     "output_type": "execute_result"
    }
   ],
   "source": [
    "df.columns"
   ]
  },
  {
   "cell_type": "code",
   "execution_count": 4,
   "id": "7c81462f",
   "metadata": {
    "ExecuteTime": {
     "end_time": "2022-02-23T18:48:33.010681Z",
     "start_time": "2022-02-23T18:48:32.221973Z"
    }
   },
   "outputs": [],
   "source": [
    "df = pd.read_csv(\"../data/all.csv\")\n",
    "columns = ['Track_ID','Track_Name','Artists', 'Age','popularity','danceability', 'energy', 'key', 'loudness', 'mode', 'speechiness',\n",
    "       'acousticness', 'instrumentalness', 'liveness', 'valence', 'tempo','duration_ms',\n",
    "       'time_signature']\n",
    "df = df[columns].astype({'key': 'Int64', 'mode':'Int64', 'duration_ms':'Int64', 'time_signature':'Int64'})\n",
    "\n"
   ]
  },
  {
   "cell_type": "code",
   "execution_count": 5,
   "id": "b8ea1f12",
   "metadata": {
    "ExecuteTime": {
     "end_time": "2022-02-23T18:48:33.072441Z",
     "start_time": "2022-02-23T18:48:33.015556Z"
    }
   },
   "outputs": [
    {
     "data": {
      "text/html": [
       "<div>\n",
       "<style scoped>\n",
       "    .dataframe tbody tr th:only-of-type {\n",
       "        vertical-align: middle;\n",
       "    }\n",
       "\n",
       "    .dataframe tbody tr th {\n",
       "        vertical-align: top;\n",
       "    }\n",
       "\n",
       "    .dataframe thead th {\n",
       "        text-align: right;\n",
       "    }\n",
       "</style>\n",
       "<table border=\"1\" class=\"dataframe\">\n",
       "  <thead>\n",
       "    <tr style=\"text-align: right;\">\n",
       "      <th></th>\n",
       "      <th>Track_ID</th>\n",
       "      <th>Track_Name</th>\n",
       "      <th>Artists</th>\n",
       "      <th>Age</th>\n",
       "      <th>popularity</th>\n",
       "      <th>danceability</th>\n",
       "      <th>energy</th>\n",
       "      <th>key</th>\n",
       "      <th>loudness</th>\n",
       "      <th>mode</th>\n",
       "      <th>speechiness</th>\n",
       "      <th>acousticness</th>\n",
       "      <th>instrumentalness</th>\n",
       "      <th>liveness</th>\n",
       "      <th>valence</th>\n",
       "      <th>tempo</th>\n",
       "      <th>duration_ms</th>\n",
       "      <th>time_signature</th>\n",
       "    </tr>\n",
       "  </thead>\n",
       "  <tbody>\n",
       "    <tr>\n",
       "      <th>0</th>\n",
       "      <td>2FPQI1LRwWszttbRG8hknk</td>\n",
       "      <td>Games Monsters Play</td>\n",
       "      <td>['Herry Monster', 'Grover']</td>\n",
       "      <td>2</td>\n",
       "      <td>6</td>\n",
       "      <td>0.738</td>\n",
       "      <td>0.544</td>\n",
       "      <td>7</td>\n",
       "      <td>-8.557</td>\n",
       "      <td>1</td>\n",
       "      <td>0.346</td>\n",
       "      <td>0.212</td>\n",
       "      <td>0.0</td>\n",
       "      <td>0.0937</td>\n",
       "      <td>0.961</td>\n",
       "      <td>144.448</td>\n",
       "      <td>204267</td>\n",
       "      <td>4</td>\n",
       "    </tr>\n",
       "    <tr>\n",
       "      <th>1</th>\n",
       "      <td>6pOoswwC1lNBI2TapMdaEW</td>\n",
       "      <td>Afraid of the Dark</td>\n",
       "      <td>['Telly Monster']</td>\n",
       "      <td>2</td>\n",
       "      <td>6</td>\n",
       "      <td>0.505</td>\n",
       "      <td>0.525</td>\n",
       "      <td>0</td>\n",
       "      <td>-10.897</td>\n",
       "      <td>1</td>\n",
       "      <td>0.109</td>\n",
       "      <td>0.355</td>\n",
       "      <td>0.0</td>\n",
       "      <td>0.1000</td>\n",
       "      <td>0.444</td>\n",
       "      <td>127.922</td>\n",
       "      <td>141240</td>\n",
       "      <td>4</td>\n",
       "    </tr>\n",
       "    <tr>\n",
       "      <th>2</th>\n",
       "      <td>2EEwSq98rKwlRWT7sNCLRc</td>\n",
       "      <td>Eensy Weensy Spider</td>\n",
       "      <td>['Count Von Count', 'The Sesame Street Kids']</td>\n",
       "      <td>2</td>\n",
       "      <td>10</td>\n",
       "      <td>0.875</td>\n",
       "      <td>0.338</td>\n",
       "      <td>0</td>\n",
       "      <td>-11.382</td>\n",
       "      <td>1</td>\n",
       "      <td>0.397</td>\n",
       "      <td>0.762</td>\n",
       "      <td>0.0</td>\n",
       "      <td>0.0992</td>\n",
       "      <td>0.962</td>\n",
       "      <td>116.027</td>\n",
       "      <td>94693</td>\n",
       "      <td>4</td>\n",
       "    </tr>\n",
       "  </tbody>\n",
       "</table>\n",
       "</div>"
      ],
      "text/plain": [
       "                 Track_ID           Track_Name  \\\n",
       "0  2FPQI1LRwWszttbRG8hknk  Games Monsters Play   \n",
       "1  6pOoswwC1lNBI2TapMdaEW   Afraid of the Dark   \n",
       "2  2EEwSq98rKwlRWT7sNCLRc  Eensy Weensy Spider   \n",
       "\n",
       "                                         Artists  Age  popularity  \\\n",
       "0                    ['Herry Monster', 'Grover']    2           6   \n",
       "1                              ['Telly Monster']    2           6   \n",
       "2  ['Count Von Count', 'The Sesame Street Kids']    2          10   \n",
       "\n",
       "   danceability  energy  key  loudness  mode  speechiness  acousticness  \\\n",
       "0         0.738   0.544    7    -8.557     1        0.346         0.212   \n",
       "1         0.505   0.525    0   -10.897     1        0.109         0.355   \n",
       "2         0.875   0.338    0   -11.382     1        0.397         0.762   \n",
       "\n",
       "   instrumentalness  liveness  valence    tempo  duration_ms  time_signature  \n",
       "0               0.0    0.0937    0.961  144.448       204267               4  \n",
       "1               0.0    0.1000    0.444  127.922       141240               4  \n",
       "2               0.0    0.0992    0.962  116.027        94693               4  "
      ]
     },
     "execution_count": 5,
     "metadata": {},
     "output_type": "execute_result"
    }
   ],
   "source": [
    "df.head(3)"
   ]
  },
  {
   "cell_type": "code",
   "execution_count": 6,
   "id": "7b7a87a4",
   "metadata": {
    "ExecuteTime": {
     "end_time": "2022-02-23T18:48:33.103162Z",
     "start_time": "2022-02-23T18:48:33.077316Z"
    }
   },
   "outputs": [
    {
     "data": {
      "text/plain": [
       "Index(['Age', 'popularity', 'danceability', 'energy', 'key', 'loudness',\n",
       "       'mode', 'speechiness', 'acousticness', 'instrumentalness', 'liveness',\n",
       "       'valence', 'tempo', 'duration_ms', 'time_signature'],\n",
       "      dtype='object')"
      ]
     },
     "execution_count": 6,
     "metadata": {},
     "output_type": "execute_result"
    }
   ],
   "source": [
    "df.columns[3:18]"
   ]
  },
  {
   "cell_type": "markdown",
   "id": "7fc6ba80",
   "metadata": {},
   "source": [
    "## Recommend Songs by KNN"
   ]
  },
  {
   "cell_type": "markdown",
   "id": "816e0da8",
   "metadata": {
    "ExecuteTime": {
     "end_time": "2022-02-23T18:45:17.981688Z",
     "start_time": "2022-02-23T18:45:17.974730Z"
    }
   },
   "source": [
    "### Fit Model"
   ]
  },
  {
   "cell_type": "code",
   "execution_count": 7,
   "id": "5bdd1faf",
   "metadata": {
    "ExecuteTime": {
     "end_time": "2022-02-23T18:48:34.804784Z",
     "start_time": "2022-02-23T18:48:33.107160Z"
    }
   },
   "outputs": [],
   "source": [
    "from sklearn.compose import ColumnTransformer\n",
    "from sklearn.pipeline import Pipeline\n",
    "from sklearn.preprocessing import Normalizer\n",
    "\n",
    "from sklearn.neighbors import NearestNeighbors\n",
    "\n",
    "pipe = Pipeline([\n",
    "    ('select features columns', ColumnTransformer([('select column','passthrough',slice(3,18))])),\n",
    "    ('normalize', Normalizer())\n",
    "    \n",
    "])"
   ]
  },
  {
   "cell_type": "code",
   "execution_count": 8,
   "id": "d3b02e59",
   "metadata": {
    "ExecuteTime": {
     "end_time": "2022-02-23T18:48:34.991338Z",
     "start_time": "2022-02-23T18:48:34.809750Z"
    }
   },
   "outputs": [],
   "source": [
    "df = df.dropna().drop_duplicates()\n",
    "features = pipe.fit_transform(df)"
   ]
  },
  {
   "cell_type": "code",
   "execution_count": 9,
   "id": "4da2f08a",
   "metadata": {
    "ExecuteTime": {
     "end_time": "2022-02-23T18:48:35.179790Z",
     "start_time": "2022-02-23T18:48:34.997884Z"
    }
   },
   "outputs": [],
   "source": [
    "nn = NearestNeighbors(n_neighbors=10).fit(features)"
   ]
  },
  {
   "cell_type": "markdown",
   "id": "d3bd7b8f",
   "metadata": {},
   "source": [
    "### Example: Pick up a song using index, and make recommendations."
   ]
  },
  {
   "cell_type": "code",
   "execution_count": 10,
   "id": "5bb90d14",
   "metadata": {
    "ExecuteTime": {
     "end_time": "2022-02-23T18:48:35.257400Z",
     "start_time": "2022-02-23T18:48:35.186866Z"
    }
   },
   "outputs": [
    {
     "name": "stdout",
     "output_type": "stream",
     "text": [
      "The song picked:  Eensy Weensy Spider\n",
      "\n",
      "Recommendations: \n"
     ]
    },
    {
     "data": {
      "text/html": [
       "<div>\n",
       "<style scoped>\n",
       "    .dataframe tbody tr th:only-of-type {\n",
       "        vertical-align: middle;\n",
       "    }\n",
       "\n",
       "    .dataframe tbody tr th {\n",
       "        vertical-align: top;\n",
       "    }\n",
       "\n",
       "    .dataframe thead th {\n",
       "        text-align: right;\n",
       "    }\n",
       "</style>\n",
       "<table border=\"1\" class=\"dataframe\">\n",
       "  <thead>\n",
       "    <tr style=\"text-align: right;\">\n",
       "      <th></th>\n",
       "      <th>Track_ID</th>\n",
       "      <th>Track_Name</th>\n",
       "      <th>Artists</th>\n",
       "      <th>Age</th>\n",
       "      <th>popularity</th>\n",
       "      <th>danceability</th>\n",
       "      <th>energy</th>\n",
       "      <th>key</th>\n",
       "      <th>loudness</th>\n",
       "      <th>mode</th>\n",
       "      <th>speechiness</th>\n",
       "      <th>acousticness</th>\n",
       "      <th>instrumentalness</th>\n",
       "      <th>liveness</th>\n",
       "      <th>valence</th>\n",
       "      <th>tempo</th>\n",
       "      <th>duration_ms</th>\n",
       "      <th>time_signature</th>\n",
       "    </tr>\n",
       "  </thead>\n",
       "  <tbody>\n",
       "    <tr>\n",
       "      <th>2</th>\n",
       "      <td>2EEwSq98rKwlRWT7sNCLRc</td>\n",
       "      <td>Eensy Weensy Spider</td>\n",
       "      <td>['Count Von Count', 'The Sesame Street Kids']</td>\n",
       "      <td>2</td>\n",
       "      <td>10</td>\n",
       "      <td>0.875</td>\n",
       "      <td>0.338</td>\n",
       "      <td>0</td>\n",
       "      <td>-11.382</td>\n",
       "      <td>1</td>\n",
       "      <td>0.3970</td>\n",
       "      <td>0.762</td>\n",
       "      <td>0.0000</td>\n",
       "      <td>0.0992</td>\n",
       "      <td>0.962</td>\n",
       "      <td>116.027</td>\n",
       "      <td>94693</td>\n",
       "      <td>4</td>\n",
       "    </tr>\n",
       "    <tr>\n",
       "      <th>1572</th>\n",
       "      <td>2gceTtVQDk9XgJoIv0Pnbe</td>\n",
       "      <td>Going On A Hunt (Hand Jive)</td>\n",
       "      <td>['The Laurie Berkner Band']</td>\n",
       "      <td>2</td>\n",
       "      <td>11</td>\n",
       "      <td>0.640</td>\n",
       "      <td>0.384</td>\n",
       "      <td>4</td>\n",
       "      <td>-10.435</td>\n",
       "      <td>1</td>\n",
       "      <td>0.6640</td>\n",
       "      <td>0.785</td>\n",
       "      <td>0.0000</td>\n",
       "      <td>0.3560</td>\n",
       "      <td>0.164</td>\n",
       "      <td>129.898</td>\n",
       "      <td>103613</td>\n",
       "      <td>4</td>\n",
       "    </tr>\n",
       "    <tr>\n",
       "      <th>3473</th>\n",
       "      <td>6l2pGDGFht56LhBKDB4GrI</td>\n",
       "      <td>A Song of One</td>\n",
       "      <td>['Tom Chapin']</td>\n",
       "      <td>4</td>\n",
       "      <td>10</td>\n",
       "      <td>0.687</td>\n",
       "      <td>0.320</td>\n",
       "      <td>0</td>\n",
       "      <td>-14.580</td>\n",
       "      <td>1</td>\n",
       "      <td>0.0456</td>\n",
       "      <td>0.276</td>\n",
       "      <td>0.0046</td>\n",
       "      <td>0.0793</td>\n",
       "      <td>0.611</td>\n",
       "      <td>181.271</td>\n",
       "      <td>150573</td>\n",
       "      <td>4</td>\n",
       "    </tr>\n",
       "    <tr>\n",
       "      <th>510</th>\n",
       "      <td>1vF1Fpou7IqNvmi3EQRS4t</td>\n",
       "      <td>The Shapes That Surround You</td>\n",
       "      <td>['Hap Palmer']</td>\n",
       "      <td>2</td>\n",
       "      <td>18</td>\n",
       "      <td>0.518</td>\n",
       "      <td>0.383</td>\n",
       "      <td>4</td>\n",
       "      <td>-12.235</td>\n",
       "      <td>1</td>\n",
       "      <td>0.0318</td>\n",
       "      <td>0.431</td>\n",
       "      <td>0.0000</td>\n",
       "      <td>0.3090</td>\n",
       "      <td>0.776</td>\n",
       "      <td>188.088</td>\n",
       "      <td>152760</td>\n",
       "      <td>3</td>\n",
       "    </tr>\n",
       "    <tr>\n",
       "      <th>1929</th>\n",
       "      <td>33pFqqDLFTTSfU9Qc22aj7</td>\n",
       "      <td>How Are We Going to Wake up Jeff?</td>\n",
       "      <td>['The Wiggles']</td>\n",
       "      <td>2</td>\n",
       "      <td>10</td>\n",
       "      <td>0.650</td>\n",
       "      <td>0.762</td>\n",
       "      <td>0</td>\n",
       "      <td>-5.401</td>\n",
       "      <td>1</td>\n",
       "      <td>0.2990</td>\n",
       "      <td>0.165</td>\n",
       "      <td>0.0000</td>\n",
       "      <td>0.2950</td>\n",
       "      <td>0.920</td>\n",
       "      <td>98.681</td>\n",
       "      <td>79226</td>\n",
       "      <td>4</td>\n",
       "    </tr>\n",
       "  </tbody>\n",
       "</table>\n",
       "</div>"
      ],
      "text/plain": [
       "                    Track_ID                         Track_Name  \\\n",
       "2     2EEwSq98rKwlRWT7sNCLRc                Eensy Weensy Spider   \n",
       "1572  2gceTtVQDk9XgJoIv0Pnbe        Going On A Hunt (Hand Jive)   \n",
       "3473  6l2pGDGFht56LhBKDB4GrI                      A Song of One   \n",
       "510   1vF1Fpou7IqNvmi3EQRS4t       The Shapes That Surround You   \n",
       "1929  33pFqqDLFTTSfU9Qc22aj7  How Are We Going to Wake up Jeff?   \n",
       "\n",
       "                                            Artists  Age  popularity  \\\n",
       "2     ['Count Von Count', 'The Sesame Street Kids']    2          10   \n",
       "1572                    ['The Laurie Berkner Band']    2          11   \n",
       "3473                                 ['Tom Chapin']    4          10   \n",
       "510                                  ['Hap Palmer']    2          18   \n",
       "1929                                ['The Wiggles']    2          10   \n",
       "\n",
       "      danceability  energy  key  loudness  mode  speechiness  acousticness  \\\n",
       "2            0.875   0.338    0   -11.382     1       0.3970         0.762   \n",
       "1572         0.640   0.384    4   -10.435     1       0.6640         0.785   \n",
       "3473         0.687   0.320    0   -14.580     1       0.0456         0.276   \n",
       "510          0.518   0.383    4   -12.235     1       0.0318         0.431   \n",
       "1929         0.650   0.762    0    -5.401     1       0.2990         0.165   \n",
       "\n",
       "      instrumentalness  liveness  valence    tempo  duration_ms  \\\n",
       "2               0.0000    0.0992    0.962  116.027        94693   \n",
       "1572            0.0000    0.3560    0.164  129.898       103613   \n",
       "3473            0.0046    0.0793    0.611  181.271       150573   \n",
       "510             0.0000    0.3090    0.776  188.088       152760   \n",
       "1929            0.0000    0.2950    0.920   98.681        79226   \n",
       "\n",
       "      time_signature  \n",
       "2                  4  \n",
       "1572               4  \n",
       "3473               4  \n",
       "510                3  \n",
       "1929               4  "
      ]
     },
     "execution_count": 10,
     "metadata": {},
     "output_type": "execute_result"
    }
   ],
   "source": [
    "idx = 2\n",
    "\n",
    "print (\"The song picked: \", df.iloc[2]['Track_Name'])\n",
    "\n",
    "dists, indices = nn.kneighbors(features[idx].reshape(1,-1))\n",
    "\n",
    "print (\"\\nRecommendations: \")\n",
    "df.iloc[indices[0]][0:5]"
   ]
  },
  {
   "cell_type": "markdown",
   "id": "0bfcc597",
   "metadata": {},
   "source": [
    "### Write it as a python method"
   ]
  },
  {
   "cell_type": "code",
   "execution_count": 11,
   "id": "6c915a4b",
   "metadata": {
    "ExecuteTime": {
     "end_time": "2022-02-23T18:48:35.272654Z",
     "start_time": "2022-02-23T18:48:35.261395Z"
    }
   },
   "outputs": [],
   "source": [
    "def make_recommendation(idx, num=5):\n",
    "    dists, indices = nn.kneighbors(features[idx].reshape(1,-1))\n",
    "    num = min(num, 20)\n",
    "    return df.iloc[indices[0]][0:num]"
   ]
  },
  {
   "cell_type": "code",
   "execution_count": 12,
   "id": "ce8c8c67",
   "metadata": {
    "ExecuteTime": {
     "end_time": "2022-02-23T18:48:35.335626Z",
     "start_time": "2022-02-23T18:48:35.278154Z"
    }
   },
   "outputs": [
    {
     "data": {
      "text/html": [
       "<div>\n",
       "<style scoped>\n",
       "    .dataframe tbody tr th:only-of-type {\n",
       "        vertical-align: middle;\n",
       "    }\n",
       "\n",
       "    .dataframe tbody tr th {\n",
       "        vertical-align: top;\n",
       "    }\n",
       "\n",
       "    .dataframe thead th {\n",
       "        text-align: right;\n",
       "    }\n",
       "</style>\n",
       "<table border=\"1\" class=\"dataframe\">\n",
       "  <thead>\n",
       "    <tr style=\"text-align: right;\">\n",
       "      <th></th>\n",
       "      <th>Track_ID</th>\n",
       "      <th>Track_Name</th>\n",
       "      <th>Artists</th>\n",
       "      <th>Age</th>\n",
       "      <th>popularity</th>\n",
       "      <th>danceability</th>\n",
       "      <th>energy</th>\n",
       "      <th>key</th>\n",
       "      <th>loudness</th>\n",
       "      <th>mode</th>\n",
       "      <th>speechiness</th>\n",
       "      <th>acousticness</th>\n",
       "      <th>instrumentalness</th>\n",
       "      <th>liveness</th>\n",
       "      <th>valence</th>\n",
       "      <th>tempo</th>\n",
       "      <th>duration_ms</th>\n",
       "      <th>time_signature</th>\n",
       "    </tr>\n",
       "  </thead>\n",
       "  <tbody>\n",
       "    <tr>\n",
       "      <th>5</th>\n",
       "      <td>7jet0teuZs6qvKqCbyPHJz</td>\n",
       "      <td>Hey Little Worm</td>\n",
       "      <td>['Oscar the Grouch', 'The Sesame Street Grouch...</td>\n",
       "      <td>2</td>\n",
       "      <td>8</td>\n",
       "      <td>0.620</td>\n",
       "      <td>0.651</td>\n",
       "      <td>0</td>\n",
       "      <td>-6.745</td>\n",
       "      <td>1</td>\n",
       "      <td>0.0926</td>\n",
       "      <td>0.677</td>\n",
       "      <td>0.0</td>\n",
       "      <td>0.3570</td>\n",
       "      <td>0.706</td>\n",
       "      <td>126.047</td>\n",
       "      <td>104440</td>\n",
       "      <td>4</td>\n",
       "    </tr>\n",
       "    <tr>\n",
       "      <th>405</th>\n",
       "      <td>3j767S2jxAmw0hiJoZ7ddU</td>\n",
       "      <td>Ya Gotta Have Pep</td>\n",
       "      <td>['John Lithgow']</td>\n",
       "      <td>2</td>\n",
       "      <td>8</td>\n",
       "      <td>0.587</td>\n",
       "      <td>0.620</td>\n",
       "      <td>0</td>\n",
       "      <td>-6.432</td>\n",
       "      <td>1</td>\n",
       "      <td>0.2240</td>\n",
       "      <td>0.373</td>\n",
       "      <td>0.0</td>\n",
       "      <td>0.0338</td>\n",
       "      <td>0.961</td>\n",
       "      <td>141.990</td>\n",
       "      <td>119347</td>\n",
       "      <td>4</td>\n",
       "    </tr>\n",
       "    <tr>\n",
       "      <th>617</th>\n",
       "      <td>3mPHZwe70cl7GR5vtyYWi4</td>\n",
       "      <td>Space Explorers</td>\n",
       "      <td>[\"Jack's Big Music Show Cast\"]</td>\n",
       "      <td>2</td>\n",
       "      <td>7</td>\n",
       "      <td>0.570</td>\n",
       "      <td>0.695</td>\n",
       "      <td>0</td>\n",
       "      <td>-6.825</td>\n",
       "      <td>1</td>\n",
       "      <td>0.0312</td>\n",
       "      <td>0.025</td>\n",
       "      <td>0.0</td>\n",
       "      <td>0.0708</td>\n",
       "      <td>0.335</td>\n",
       "      <td>144.879</td>\n",
       "      <td>120773</td>\n",
       "      <td>4</td>\n",
       "    </tr>\n",
       "    <tr>\n",
       "      <th>2022</th>\n",
       "      <td>5fmH8Sn9f85UeBWnQxbbYx</td>\n",
       "      <td>Easy Come, Easy Go</td>\n",
       "      <td>['Imagination Movers']</td>\n",
       "      <td>2</td>\n",
       "      <td>8</td>\n",
       "      <td>0.755</td>\n",
       "      <td>0.903</td>\n",
       "      <td>2</td>\n",
       "      <td>-4.540</td>\n",
       "      <td>1</td>\n",
       "      <td>0.0349</td>\n",
       "      <td>0.504</td>\n",
       "      <td>0.0</td>\n",
       "      <td>0.1230</td>\n",
       "      <td>0.889</td>\n",
       "      <td>123.014</td>\n",
       "      <td>102240</td>\n",
       "      <td>4</td>\n",
       "    </tr>\n",
       "    <tr>\n",
       "      <th>3657</th>\n",
       "      <td>736FALfTOtXFwFSwM67qAC</td>\n",
       "      <td>My Aunt Came Back</td>\n",
       "      <td>['The Learning Station']</td>\n",
       "      <td>4</td>\n",
       "      <td>6</td>\n",
       "      <td>0.861</td>\n",
       "      <td>0.641</td>\n",
       "      <td>0</td>\n",
       "      <td>-6.443</td>\n",
       "      <td>1</td>\n",
       "      <td>0.0602</td>\n",
       "      <td>0.746</td>\n",
       "      <td>0.0</td>\n",
       "      <td>0.1230</td>\n",
       "      <td>0.966</td>\n",
       "      <td>102.036</td>\n",
       "      <td>84000</td>\n",
       "      <td>4</td>\n",
       "    </tr>\n",
       "  </tbody>\n",
       "</table>\n",
       "</div>"
      ],
      "text/plain": [
       "                    Track_ID          Track_Name  \\\n",
       "5     7jet0teuZs6qvKqCbyPHJz     Hey Little Worm   \n",
       "405   3j767S2jxAmw0hiJoZ7ddU   Ya Gotta Have Pep   \n",
       "617   3mPHZwe70cl7GR5vtyYWi4     Space Explorers   \n",
       "2022  5fmH8Sn9f85UeBWnQxbbYx  Easy Come, Easy Go   \n",
       "3657  736FALfTOtXFwFSwM67qAC   My Aunt Came Back   \n",
       "\n",
       "                                                Artists  Age  popularity  \\\n",
       "5     ['Oscar the Grouch', 'The Sesame Street Grouch...    2           8   \n",
       "405                                    ['John Lithgow']    2           8   \n",
       "617                      [\"Jack's Big Music Show Cast\"]    2           7   \n",
       "2022                             ['Imagination Movers']    2           8   \n",
       "3657                           ['The Learning Station']    4           6   \n",
       "\n",
       "      danceability  energy  key  loudness  mode  speechiness  acousticness  \\\n",
       "5            0.620   0.651    0    -6.745     1       0.0926         0.677   \n",
       "405          0.587   0.620    0    -6.432     1       0.2240         0.373   \n",
       "617          0.570   0.695    0    -6.825     1       0.0312         0.025   \n",
       "2022         0.755   0.903    2    -4.540     1       0.0349         0.504   \n",
       "3657         0.861   0.641    0    -6.443     1       0.0602         0.746   \n",
       "\n",
       "      instrumentalness  liveness  valence    tempo  duration_ms  \\\n",
       "5                  0.0    0.3570    0.706  126.047       104440   \n",
       "405                0.0    0.0338    0.961  141.990       119347   \n",
       "617                0.0    0.0708    0.335  144.879       120773   \n",
       "2022               0.0    0.1230    0.889  123.014       102240   \n",
       "3657               0.0    0.1230    0.966  102.036        84000   \n",
       "\n",
       "      time_signature  \n",
       "5                  4  \n",
       "405                4  \n",
       "617                4  \n",
       "2022               4  \n",
       "3657               4  "
      ]
     },
     "execution_count": 12,
     "metadata": {},
     "output_type": "execute_result"
    }
   ],
   "source": [
    "make_recommendation(5)"
   ]
  },
  {
   "cell_type": "code",
   "execution_count": null,
   "id": "b5f4404a",
   "metadata": {},
   "outputs": [],
   "source": []
  }
 ],
 "metadata": {
  "kernelspec": {
   "display_name": "Python 3 (ipykernel)",
   "language": "python",
   "name": "python3"
  },
  "language_info": {
   "codemirror_mode": {
    "name": "ipython",
    "version": 3
   },
   "file_extension": ".py",
   "mimetype": "text/x-python",
   "name": "python",
   "nbconvert_exporter": "python",
   "pygments_lexer": "ipython3",
   "version": "3.9.10"
  }
 },
 "nbformat": 4,
 "nbformat_minor": 5
}
