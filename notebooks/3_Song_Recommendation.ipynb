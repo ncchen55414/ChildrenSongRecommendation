{
 "cells": [
  {
   "cell_type": "code",
   "execution_count": 31,
   "id": "4b467eb2",
   "metadata": {
    "ExecuteTime": {
     "end_time": "2022-03-04T23:12:56.065578Z",
     "start_time": "2022-03-04T23:12:56.049519Z"
    }
   },
   "outputs": [],
   "source": [
    "import pandas as pd\n",
    "import os"
   ]
  },
  {
   "cell_type": "markdown",
   "id": "f15eb3ff",
   "metadata": {},
   "source": [
    "## Load DataFrame"
   ]
  },
  {
   "cell_type": "code",
   "execution_count": 6,
   "id": "8d1ac3e9",
   "metadata": {
    "ExecuteTime": {
     "end_time": "2022-03-04T23:07:29.464025Z",
     "start_time": "2022-03-04T23:07:29.069993Z"
    }
   },
   "outputs": [],
   "source": [
    "df = pd.read_csv(\"../data/all.csv\")"
   ]
  },
  {
   "cell_type": "code",
   "execution_count": 7,
   "id": "fc519ab7",
   "metadata": {
    "ExecuteTime": {
     "end_time": "2022-03-04T23:07:30.429410Z",
     "start_time": "2022-03-04T23:07:30.413279Z"
    }
   },
   "outputs": [
    {
     "data": {
      "text/plain": [
       "Index(['Age', 'Album_Name', 'Artist', 'Year', 'Description', 'Age Group',\n",
       "       'Album_ID', 'Album_Name_Spotify', 'Artists_Spotify', 'Track_ID', 'ISRC',\n",
       "       'Track_Name', 'Artists', 'popularity', 'preview_url', 'image_url',\n",
       "       'danceability', 'energy', 'key', 'loudness', 'mode', 'speechiness',\n",
       "       'acousticness', 'instrumentalness', 'liveness', 'valence', 'tempo',\n",
       "       'type', 'uri', 'track_href', 'analysis_url', 'duration_ms',\n",
       "       'time_signature', 'lyrics'],\n",
       "      dtype='object')"
      ]
     },
     "execution_count": 7,
     "metadata": {},
     "output_type": "execute_result"
    }
   ],
   "source": [
    "df.columns"
   ]
  },
  {
   "cell_type": "code",
   "execution_count": 9,
   "id": "7c81462f",
   "metadata": {
    "ExecuteTime": {
     "end_time": "2022-03-04T23:08:19.346869Z",
     "start_time": "2022-03-04T23:08:19.298868Z"
    }
   },
   "outputs": [],
   "source": [
    "song_features = ['danceability', 'energy', 'key', 'loudness', 'mode', 'speechiness', \\\n",
    "                'acousticness', 'instrumentalness', 'liveness', 'valence', 'tempo', \\\n",
    "                'type', 'id', 'uri', 'track_href', 'analysis_url', 'duration_ms', 'time_signature']\n",
    "\n",
    "columns = ['key','mode', 'time_signature', 'duration_min','popularity', 'danceability', 'energy','loudness', 'speechiness',\n",
    "       'acousticness', 'instrumentalness', 'liveness', 'valence', 'tempo']\n",
    "\n",
    "df['duration_min'] = df['duration_ms']/10**3/60\n",
    "\n",
    "df = df.dropna(subset=columns)\n",
    "df = df.astype({'key': 'Int64', 'mode':'Int64', 'time_signature':'Int64'})\n",
    "\n"
   ]
  },
  {
   "cell_type": "code",
   "execution_count": 5,
   "id": "b8ea1f12",
   "metadata": {
    "ExecuteTime": {
     "end_time": "2022-02-26T02:06:45.024611Z",
     "start_time": "2022-02-26T02:06:44.958879Z"
    }
   },
   "outputs": [
    {
     "data": {
      "text/html": [
       "<div>\n",
       "<style scoped>\n",
       "    .dataframe tbody tr th:only-of-type {\n",
       "        vertical-align: middle;\n",
       "    }\n",
       "\n",
       "    .dataframe tbody tr th {\n",
       "        vertical-align: top;\n",
       "    }\n",
       "\n",
       "    .dataframe thead th {\n",
       "        text-align: right;\n",
       "    }\n",
       "</style>\n",
       "<table border=\"1\" class=\"dataframe\">\n",
       "  <thead>\n",
       "    <tr style=\"text-align: right;\">\n",
       "      <th></th>\n",
       "      <th>Track_ID</th>\n",
       "      <th>Track_Name</th>\n",
       "      <th>preview_url</th>\n",
       "      <th>image_url</th>\n",
       "      <th>Artists</th>\n",
       "      <th>Age</th>\n",
       "      <th>popularity</th>\n",
       "      <th>danceability</th>\n",
       "      <th>energy</th>\n",
       "      <th>key</th>\n",
       "      <th>loudness</th>\n",
       "      <th>mode</th>\n",
       "      <th>speechiness</th>\n",
       "      <th>acousticness</th>\n",
       "      <th>instrumentalness</th>\n",
       "      <th>liveness</th>\n",
       "      <th>valence</th>\n",
       "      <th>tempo</th>\n",
       "      <th>duration_ms</th>\n",
       "      <th>time_signature</th>\n",
       "    </tr>\n",
       "  </thead>\n",
       "  <tbody>\n",
       "    <tr>\n",
       "      <th>0</th>\n",
       "      <td>2FPQI1LRwWszttbRG8hknk</td>\n",
       "      <td>Games Monsters Play</td>\n",
       "      <td>https://p.scdn.co/mp3-preview/33cc59cc1836954e...</td>\n",
       "      <td>https://i.scdn.co/image/ab67616d0000b273d61faa...</td>\n",
       "      <td>['Herry Monster', 'Grover']</td>\n",
       "      <td>2</td>\n",
       "      <td>5</td>\n",
       "      <td>0.738</td>\n",
       "      <td>0.544</td>\n",
       "      <td>7</td>\n",
       "      <td>-8.557</td>\n",
       "      <td>1</td>\n",
       "      <td>0.346</td>\n",
       "      <td>0.212</td>\n",
       "      <td>0.0</td>\n",
       "      <td>0.0937</td>\n",
       "      <td>0.961</td>\n",
       "      <td>144.448</td>\n",
       "      <td>204267</td>\n",
       "      <td>4</td>\n",
       "    </tr>\n",
       "    <tr>\n",
       "      <th>1</th>\n",
       "      <td>6pOoswwC1lNBI2TapMdaEW</td>\n",
       "      <td>Afraid of the Dark</td>\n",
       "      <td>https://p.scdn.co/mp3-preview/cf340f0b536edadd...</td>\n",
       "      <td>https://i.scdn.co/image/ab67616d0000b273d61faa...</td>\n",
       "      <td>['Telly Monster']</td>\n",
       "      <td>2</td>\n",
       "      <td>5</td>\n",
       "      <td>0.505</td>\n",
       "      <td>0.525</td>\n",
       "      <td>0</td>\n",
       "      <td>-10.897</td>\n",
       "      <td>1</td>\n",
       "      <td>0.109</td>\n",
       "      <td>0.355</td>\n",
       "      <td>0.0</td>\n",
       "      <td>0.1000</td>\n",
       "      <td>0.444</td>\n",
       "      <td>127.922</td>\n",
       "      <td>141240</td>\n",
       "      <td>4</td>\n",
       "    </tr>\n",
       "    <tr>\n",
       "      <th>2</th>\n",
       "      <td>2EEwSq98rKwlRWT7sNCLRc</td>\n",
       "      <td>Eensy Weensy Spider</td>\n",
       "      <td>https://p.scdn.co/mp3-preview/4cdc12aaeb7da4b7...</td>\n",
       "      <td>https://i.scdn.co/image/ab67616d0000b273d61faa...</td>\n",
       "      <td>['Count Von Count', 'The Sesame Street Kids']</td>\n",
       "      <td>2</td>\n",
       "      <td>9</td>\n",
       "      <td>0.875</td>\n",
       "      <td>0.338</td>\n",
       "      <td>0</td>\n",
       "      <td>-11.382</td>\n",
       "      <td>1</td>\n",
       "      <td>0.397</td>\n",
       "      <td>0.762</td>\n",
       "      <td>0.0</td>\n",
       "      <td>0.0992</td>\n",
       "      <td>0.962</td>\n",
       "      <td>116.027</td>\n",
       "      <td>94693</td>\n",
       "      <td>4</td>\n",
       "    </tr>\n",
       "  </tbody>\n",
       "</table>\n",
       "</div>"
      ],
      "text/plain": [
       "                 Track_ID           Track_Name  \\\n",
       "0  2FPQI1LRwWszttbRG8hknk  Games Monsters Play   \n",
       "1  6pOoswwC1lNBI2TapMdaEW   Afraid of the Dark   \n",
       "2  2EEwSq98rKwlRWT7sNCLRc  Eensy Weensy Spider   \n",
       "\n",
       "                                         preview_url  \\\n",
       "0  https://p.scdn.co/mp3-preview/33cc59cc1836954e...   \n",
       "1  https://p.scdn.co/mp3-preview/cf340f0b536edadd...   \n",
       "2  https://p.scdn.co/mp3-preview/4cdc12aaeb7da4b7...   \n",
       "\n",
       "                                           image_url  \\\n",
       "0  https://i.scdn.co/image/ab67616d0000b273d61faa...   \n",
       "1  https://i.scdn.co/image/ab67616d0000b273d61faa...   \n",
       "2  https://i.scdn.co/image/ab67616d0000b273d61faa...   \n",
       "\n",
       "                                         Artists  Age  popularity  \\\n",
       "0                    ['Herry Monster', 'Grover']    2           5   \n",
       "1                              ['Telly Monster']    2           5   \n",
       "2  ['Count Von Count', 'The Sesame Street Kids']    2           9   \n",
       "\n",
       "   danceability  energy  key  loudness  mode  speechiness  acousticness  \\\n",
       "0         0.738   0.544    7    -8.557     1        0.346         0.212   \n",
       "1         0.505   0.525    0   -10.897     1        0.109         0.355   \n",
       "2         0.875   0.338    0   -11.382     1        0.397         0.762   \n",
       "\n",
       "   instrumentalness  liveness  valence    tempo  duration_ms  time_signature  \n",
       "0               0.0    0.0937    0.961  144.448       204267               4  \n",
       "1               0.0    0.1000    0.444  127.922       141240               4  \n",
       "2               0.0    0.0992    0.962  116.027        94693               4  "
      ]
     },
     "execution_count": 5,
     "metadata": {},
     "output_type": "execute_result"
    }
   ],
   "source": [
    "df.head(3)"
   ]
  },
  {
   "cell_type": "markdown",
   "id": "7fc6ba80",
   "metadata": {},
   "source": [
    "## Recommend Songs by KNN"
   ]
  },
  {
   "cell_type": "markdown",
   "id": "816e0da8",
   "metadata": {
    "ExecuteTime": {
     "end_time": "2022-02-23T18:45:17.981688Z",
     "start_time": "2022-02-23T18:45:17.974730Z"
    }
   },
   "source": [
    "### Fit Model"
   ]
  },
  {
   "cell_type": "code",
   "execution_count": 14,
   "id": "5bdd1faf",
   "metadata": {
    "ExecuteTime": {
     "end_time": "2022-03-04T23:09:31.993311Z",
     "start_time": "2022-03-04T23:09:31.980736Z"
    }
   },
   "outputs": [],
   "source": [
    "from sklearn.compose import ColumnTransformer\n",
    "from sklearn.pipeline import Pipeline\n",
    "from sklearn.preprocessing import Normalizer\n",
    "from sklearn.preprocessing import OneHotEncoder\n",
    "\n",
    "from sklearn.neighbors import NearestNeighbors\n",
    "\n",
    "\n",
    "categorical_columns = ['key','mode', 'time_signature']\n",
    "\n",
    "numeric_columns = ['Age','duration_min','popularity', 'danceability', 'energy','loudness', 'speechiness',\n",
    "       'acousticness', 'instrumentalness', 'liveness', 'valence', 'tempo']\n",
    "\n",
    "features = ColumnTransformer([\n",
    "    ('categorical', OneHotEncoder(), categorical_columns),\n",
    "    ('numeric', 'passthrough', numeric_columns)\n",
    "])\n",
    "\n",
    "\n",
    "model = Pipeline([\n",
    "    ('features', features),\n",
    "    ('normalize', Normalizer()),\n",
    "    ('knn', NearestNeighbors(n_neighbors=10))\n",
    "])"
   ]
  },
  {
   "cell_type": "code",
   "execution_count": 15,
   "id": "d3b02e59",
   "metadata": {
    "ExecuteTime": {
     "end_time": "2022-03-04T23:09:35.048992Z",
     "start_time": "2022-03-04T23:09:34.938029Z"
    }
   },
   "outputs": [
    {
     "data": {
      "text/plain": [
       "Pipeline(steps=[('features',\n",
       "                 ColumnTransformer(transformers=[('categorical',\n",
       "                                                  OneHotEncoder(),\n",
       "                                                  ['key', 'mode',\n",
       "                                                   'time_signature']),\n",
       "                                                 ('numeric', 'passthrough',\n",
       "                                                  ['Age', 'duration_min',\n",
       "                                                   'popularity', 'danceability',\n",
       "                                                   'energy', 'loudness',\n",
       "                                                   'speechiness',\n",
       "                                                   'acousticness',\n",
       "                                                   'instrumentalness',\n",
       "                                                   'liveness', 'valence',\n",
       "                                                   'tempo'])])),\n",
       "                ('normalize', Normalizer()),\n",
       "                ('knn', NearestNeighbors(n_neighbors=10))])"
      ]
     },
     "execution_count": 15,
     "metadata": {},
     "output_type": "execute_result"
    }
   ],
   "source": [
    "df = df.dropna().drop_duplicates()\n",
    "df = df.reset_index(drop=True)\n",
    "\n",
    "model.fit(df)"
   ]
  },
  {
   "cell_type": "code",
   "execution_count": 16,
   "id": "c927b201",
   "metadata": {
    "ExecuteTime": {
     "end_time": "2022-03-04T23:09:37.727292Z",
     "start_time": "2022-03-04T23:09:37.702223Z"
    }
   },
   "outputs": [
    {
     "data": {
      "text/plain": [
       "NearestNeighbors(n_neighbors=10)"
      ]
     },
     "execution_count": 16,
     "metadata": {},
     "output_type": "execute_result"
    }
   ],
   "source": [
    "model[2]"
   ]
  },
  {
   "cell_type": "code",
   "execution_count": 17,
   "id": "eeb90233",
   "metadata": {
    "ExecuteTime": {
     "end_time": "2022-03-04T23:09:44.483823Z",
     "start_time": "2022-03-04T23:09:44.433856Z"
    }
   },
   "outputs": [
    {
     "data": {
      "text/plain": [
       "['../models/songs_df.joblib']"
      ]
     },
     "execution_count": 17,
     "metadata": {},
     "output_type": "execute_result"
    }
   ],
   "source": [
    "from joblib import dump, load\n",
    "dump(model[2], '../models/knn.joblib')   # dump knn model\n",
    "dump(df, '../models/songs_df.joblib')\n"
   ]
  },
  {
   "cell_type": "code",
   "execution_count": 18,
   "id": "2a444c3b",
   "metadata": {
    "ExecuteTime": {
     "end_time": "2022-03-04T23:09:49.503777Z",
     "start_time": "2022-03-04T23:09:46.202585Z"
    }
   },
   "outputs": [],
   "source": [
    "distance, indices = model[2].kneighbors()             "
   ]
  },
  {
   "cell_type": "code",
   "execution_count": 19,
   "id": "77b6dd66",
   "metadata": {
    "ExecuteTime": {
     "end_time": "2022-03-04T23:09:50.049396Z",
     "start_time": "2022-03-04T23:09:50.031254Z"
    }
   },
   "outputs": [
    {
     "data": {
      "text/plain": [
       "array([ 109,  899, 1613,  391, 1722, 1329, 1601, 1338,    3,  110],\n",
       "      dtype=int64)"
      ]
     },
     "execution_count": 19,
     "metadata": {},
     "output_type": "execute_result"
    }
   ],
   "source": [
    "indices[0]    # indices[i] is the list of the nearest kneightbors for item-i"
   ]
  },
  {
   "cell_type": "code",
   "execution_count": 20,
   "id": "59fe517a",
   "metadata": {
    "ExecuteTime": {
     "end_time": "2022-03-04T23:09:52.397895Z",
     "start_time": "2022-03-04T23:09:52.346316Z"
    }
   },
   "outputs": [
    {
     "data": {
      "text/html": [
       "<div>\n",
       "<style scoped>\n",
       "    .dataframe tbody tr th:only-of-type {\n",
       "        vertical-align: middle;\n",
       "    }\n",
       "\n",
       "    .dataframe tbody tr th {\n",
       "        vertical-align: top;\n",
       "    }\n",
       "\n",
       "    .dataframe thead th {\n",
       "        text-align: right;\n",
       "    }\n",
       "</style>\n",
       "<table border=\"1\" class=\"dataframe\">\n",
       "  <thead>\n",
       "    <tr style=\"text-align: right;\">\n",
       "      <th></th>\n",
       "      <th>Track_ID</th>\n",
       "      <th>Track_Name</th>\n",
       "      <th>preview_url</th>\n",
       "      <th>image_url</th>\n",
       "      <th>Artists</th>\n",
       "      <th>Age</th>\n",
       "      <th>popularity</th>\n",
       "      <th>danceability</th>\n",
       "      <th>energy</th>\n",
       "      <th>key</th>\n",
       "      <th>...</th>\n",
       "      <th>mode</th>\n",
       "      <th>speechiness</th>\n",
       "      <th>acousticness</th>\n",
       "      <th>instrumentalness</th>\n",
       "      <th>liveness</th>\n",
       "      <th>valence</th>\n",
       "      <th>tempo</th>\n",
       "      <th>duration_ms</th>\n",
       "      <th>time_signature</th>\n",
       "      <th>duration_min</th>\n",
       "    </tr>\n",
       "  </thead>\n",
       "  <tbody>\n",
       "    <tr>\n",
       "      <th>370</th>\n",
       "      <td>6yAArqwRhIx3aBZLh6fzyL</td>\n",
       "      <td>Everybody Dance</td>\n",
       "      <td>https://p.scdn.co/mp3-preview/51bd21a4ca87e14d...</td>\n",
       "      <td>https://i.scdn.co/image/ab67616d0000b273504563...</td>\n",
       "      <td>['Hap Palmer']</td>\n",
       "      <td>2</td>\n",
       "      <td>4</td>\n",
       "      <td>0.852</td>\n",
       "      <td>0.495</td>\n",
       "      <td>0</td>\n",
       "      <td>...</td>\n",
       "      <td>1</td>\n",
       "      <td>0.0450</td>\n",
       "      <td>0.20500</td>\n",
       "      <td>0.000009</td>\n",
       "      <td>0.268</td>\n",
       "      <td>0.960</td>\n",
       "      <td>131.009</td>\n",
       "      <td>149773</td>\n",
       "      <td>4</td>\n",
       "      <td>2.496217</td>\n",
       "    </tr>\n",
       "    <tr>\n",
       "      <th>116</th>\n",
       "      <td>3hn8UqMoSkT9ULTYt69bDs</td>\n",
       "      <td>(No Matter If I'm) Wet or Dry</td>\n",
       "      <td>https://p.scdn.co/mp3-preview/6f5914e297b55fd8...</td>\n",
       "      <td>https://i.scdn.co/image/ab67616d0000b273e8220a...</td>\n",
       "      <td>[\"Sesame Street's Chrissy And The Alphabeats\"]</td>\n",
       "      <td>2</td>\n",
       "      <td>5</td>\n",
       "      <td>0.947</td>\n",
       "      <td>0.814</td>\n",
       "      <td>0</td>\n",
       "      <td>...</td>\n",
       "      <td>1</td>\n",
       "      <td>0.0518</td>\n",
       "      <td>0.35300</td>\n",
       "      <td>0.000006</td>\n",
       "      <td>0.206</td>\n",
       "      <td>0.909</td>\n",
       "      <td>113.782</td>\n",
       "      <td>98760</td>\n",
       "      <td>4</td>\n",
       "      <td>1.646</td>\n",
       "    </tr>\n",
       "    <tr>\n",
       "      <th>2212</th>\n",
       "      <td>5KYQWgoZpru8taYk4SRZGF</td>\n",
       "      <td>Port Side</td>\n",
       "      <td>https://p.scdn.co/mp3-preview/a91b40ab885d6268...</td>\n",
       "      <td>https://i.scdn.co/image/ab67616d0000b273948e5e...</td>\n",
       "      <td>['Captain Bogg &amp; Salty']</td>\n",
       "      <td>3</td>\n",
       "      <td>4</td>\n",
       "      <td>0.885</td>\n",
       "      <td>0.490</td>\n",
       "      <td>0</td>\n",
       "      <td>...</td>\n",
       "      <td>1</td>\n",
       "      <td>0.0530</td>\n",
       "      <td>0.00759</td>\n",
       "      <td>0.021600</td>\n",
       "      <td>0.102</td>\n",
       "      <td>0.771</td>\n",
       "      <td>120.077</td>\n",
       "      <td>108933</td>\n",
       "      <td>4</td>\n",
       "      <td>1.81555</td>\n",
       "    </tr>\n",
       "  </tbody>\n",
       "</table>\n",
       "<p>3 rows × 21 columns</p>\n",
       "</div>"
      ],
      "text/plain": [
       "                    Track_ID                     Track_Name  \\\n",
       "370   6yAArqwRhIx3aBZLh6fzyL                Everybody Dance   \n",
       "116   3hn8UqMoSkT9ULTYt69bDs  (No Matter If I'm) Wet or Dry   \n",
       "2212  5KYQWgoZpru8taYk4SRZGF                      Port Side   \n",
       "\n",
       "                                            preview_url  \\\n",
       "370   https://p.scdn.co/mp3-preview/51bd21a4ca87e14d...   \n",
       "116   https://p.scdn.co/mp3-preview/6f5914e297b55fd8...   \n",
       "2212  https://p.scdn.co/mp3-preview/a91b40ab885d6268...   \n",
       "\n",
       "                                              image_url  \\\n",
       "370   https://i.scdn.co/image/ab67616d0000b273504563...   \n",
       "116   https://i.scdn.co/image/ab67616d0000b273e8220a...   \n",
       "2212  https://i.scdn.co/image/ab67616d0000b273948e5e...   \n",
       "\n",
       "                                             Artists  Age  popularity  \\\n",
       "370                                   ['Hap Palmer']    2           4   \n",
       "116   [\"Sesame Street's Chrissy And The Alphabeats\"]    2           5   \n",
       "2212                        ['Captain Bogg & Salty']    3           4   \n",
       "\n",
       "      danceability  energy  key  ...  mode  speechiness  acousticness  \\\n",
       "370          0.852   0.495    0  ...     1       0.0450       0.20500   \n",
       "116          0.947   0.814    0  ...     1       0.0518       0.35300   \n",
       "2212         0.885   0.490    0  ...     1       0.0530       0.00759   \n",
       "\n",
       "      instrumentalness  liveness  valence    tempo  duration_ms  \\\n",
       "370           0.000009     0.268    0.960  131.009       149773   \n",
       "116           0.000006     0.206    0.909  113.782        98760   \n",
       "2212          0.021600     0.102    0.771  120.077       108933   \n",
       "\n",
       "      time_signature  duration_min  \n",
       "370                4      2.496217  \n",
       "116                4         1.646  \n",
       "2212               4       1.81555  \n",
       "\n",
       "[3 rows x 21 columns]"
      ]
     },
     "execution_count": 20,
     "metadata": {},
     "output_type": "execute_result"
    }
   ],
   "source": [
    "df.iloc[indices[1]][0:3]   # show the first three recommendation for song-1"
   ]
  },
  {
   "cell_type": "markdown",
   "id": "d3bd7b8f",
   "metadata": {},
   "source": [
    "### Example: Pick up a song using index, and make recommendations."
   ]
  },
  {
   "cell_type": "code",
   "execution_count": 21,
   "id": "7526080e",
   "metadata": {
    "ExecuteTime": {
     "end_time": "2022-03-04T23:09:54.745847Z",
     "start_time": "2022-03-04T23:09:54.694982Z"
    }
   },
   "outputs": [],
   "source": [
    "knn = load('../models/knn.joblib')   # dump knn model\n",
    "df = load('../models/songs_df.joblib')\n"
   ]
  },
  {
   "cell_type": "code",
   "execution_count": 23,
   "id": "b2f6f07c",
   "metadata": {
    "ExecuteTime": {
     "end_time": "2022-03-04T23:10:00.955253Z",
     "start_time": "2022-03-04T23:09:57.907524Z"
    }
   },
   "outputs": [],
   "source": [
    "distance, indices = knn.kneighbors()"
   ]
  },
  {
   "cell_type": "code",
   "execution_count": 24,
   "id": "bf3faae1",
   "metadata": {
    "ExecuteTime": {
     "end_time": "2022-03-04T23:10:01.981199Z",
     "start_time": "2022-03-04T23:10:01.966691Z"
    }
   },
   "outputs": [
    {
     "data": {
      "text/plain": [
       "array([[  109,   899,  1613, ...,  1338,     3,   110],\n",
       "       [  370,   116,  2212, ...,  1947,  1352,  1610],\n",
       "       [  688,  2000,  1068, ...,  1902,   281,   816],\n",
       "       ...,\n",
       "       [ 8487,  8484,  9148, ...,  5878, 10254,  5879],\n",
       "       [ 9054,  8796,  7586, ..., 10140,  5987,  7991],\n",
       "       [ 8136,  8881,  9219, ...,  8013,  4730, 10222]], dtype=int64)"
      ]
     },
     "execution_count": 24,
     "metadata": {},
     "output_type": "execute_result"
    }
   ],
   "source": [
    "indices"
   ]
  },
  {
   "cell_type": "code",
   "execution_count": 25,
   "id": "5bb90d14",
   "metadata": {
    "ExecuteTime": {
     "end_time": "2022-03-04T23:10:03.873843Z",
     "start_time": "2022-03-04T23:10:03.804433Z"
    }
   },
   "outputs": [
    {
     "name": "stdout",
     "output_type": "stream",
     "text": [
      "The song picked:  Eensy Weensy Spider\n",
      "\n",
      "Recommendations: \n"
     ]
    },
    {
     "data": {
      "text/html": [
       "<div>\n",
       "<style scoped>\n",
       "    .dataframe tbody tr th:only-of-type {\n",
       "        vertical-align: middle;\n",
       "    }\n",
       "\n",
       "    .dataframe tbody tr th {\n",
       "        vertical-align: top;\n",
       "    }\n",
       "\n",
       "    .dataframe thead th {\n",
       "        text-align: right;\n",
       "    }\n",
       "</style>\n",
       "<table border=\"1\" class=\"dataframe\">\n",
       "  <thead>\n",
       "    <tr style=\"text-align: right;\">\n",
       "      <th></th>\n",
       "      <th>Track_ID</th>\n",
       "      <th>Track_Name</th>\n",
       "      <th>preview_url</th>\n",
       "      <th>image_url</th>\n",
       "      <th>Artists</th>\n",
       "      <th>Age</th>\n",
       "      <th>popularity</th>\n",
       "      <th>danceability</th>\n",
       "      <th>energy</th>\n",
       "      <th>key</th>\n",
       "      <th>...</th>\n",
       "      <th>mode</th>\n",
       "      <th>speechiness</th>\n",
       "      <th>acousticness</th>\n",
       "      <th>instrumentalness</th>\n",
       "      <th>liveness</th>\n",
       "      <th>valence</th>\n",
       "      <th>tempo</th>\n",
       "      <th>duration_ms</th>\n",
       "      <th>time_signature</th>\n",
       "      <th>duration_min</th>\n",
       "    </tr>\n",
       "  </thead>\n",
       "  <tbody>\n",
       "    <tr>\n",
       "      <th>688</th>\n",
       "      <td>616Uq1Ft4Rl56FbH1H5XXH</td>\n",
       "      <td>Lady Bug Picnic</td>\n",
       "      <td>https://p.scdn.co/mp3-preview/773afcdea6634010...</td>\n",
       "      <td>https://i.scdn.co/image/ab67616d0000b27338381e...</td>\n",
       "      <td>['Victor Johnson']</td>\n",
       "      <td>2</td>\n",
       "      <td>10</td>\n",
       "      <td>0.723</td>\n",
       "      <td>0.420</td>\n",
       "      <td>0</td>\n",
       "      <td>...</td>\n",
       "      <td>1</td>\n",
       "      <td>0.0908</td>\n",
       "      <td>0.809</td>\n",
       "      <td>0.000035</td>\n",
       "      <td>0.0996</td>\n",
       "      <td>0.914</td>\n",
       "      <td>120.471</td>\n",
       "      <td>114573</td>\n",
       "      <td>4</td>\n",
       "      <td>1.90955</td>\n",
       "    </tr>\n",
       "    <tr>\n",
       "      <th>2000</th>\n",
       "      <td>3Bob4IPl4maAnBPiTZbuxK</td>\n",
       "      <td>Siyahamba</td>\n",
       "      <td>https://p.scdn.co/mp3-preview/702f6bf219f80c11...</td>\n",
       "      <td>https://i.scdn.co/image/ab67616d0000b273cb6801...</td>\n",
       "      <td>['Dan Zanes', 'Friends']</td>\n",
       "      <td>3</td>\n",
       "      <td>11</td>\n",
       "      <td>0.499</td>\n",
       "      <td>0.338</td>\n",
       "      <td>0</td>\n",
       "      <td>...</td>\n",
       "      <td>1</td>\n",
       "      <td>0.0308</td>\n",
       "      <td>0.802</td>\n",
       "      <td>0.000007</td>\n",
       "      <td>0.0996</td>\n",
       "      <td>0.559</td>\n",
       "      <td>135.923</td>\n",
       "      <td>179840</td>\n",
       "      <td>4</td>\n",
       "      <td>2.997333</td>\n",
       "    </tr>\n",
       "    <tr>\n",
       "      <th>1068</th>\n",
       "      <td>0YawYQdvhpuWNSMXqY51xm</td>\n",
       "      <td>A Cat Had a Birthday</td>\n",
       "      <td>https://p.scdn.co/mp3-preview/74d99be6214ed824...</td>\n",
       "      <td>https://i.scdn.co/image/ab67616d0000b2738cc725...</td>\n",
       "      <td>[\"Sesame Street's David\"]</td>\n",
       "      <td>2</td>\n",
       "      <td>9</td>\n",
       "      <td>0.837</td>\n",
       "      <td>0.458</td>\n",
       "      <td>5</td>\n",
       "      <td>...</td>\n",
       "      <td>1</td>\n",
       "      <td>0.1720</td>\n",
       "      <td>0.355</td>\n",
       "      <td>0.000000</td>\n",
       "      <td>0.1170</td>\n",
       "      <td>0.919</td>\n",
       "      <td>123.939</td>\n",
       "      <td>164507</td>\n",
       "      <td>4</td>\n",
       "      <td>2.741783</td>\n",
       "    </tr>\n",
       "    <tr>\n",
       "      <th>2003</th>\n",
       "      <td>3Bh0xcxyhMWmzutOr0LJy8</td>\n",
       "      <td>Firefly</td>\n",
       "      <td>https://p.scdn.co/mp3-preview/bd156077b8b5c5fe...</td>\n",
       "      <td>https://i.scdn.co/image/ab67616d0000b273cb6801...</td>\n",
       "      <td>['Dan Zanes', 'Friends']</td>\n",
       "      <td>3</td>\n",
       "      <td>10</td>\n",
       "      <td>0.731</td>\n",
       "      <td>0.363</td>\n",
       "      <td>0</td>\n",
       "      <td>...</td>\n",
       "      <td>1</td>\n",
       "      <td>0.0319</td>\n",
       "      <td>0.691</td>\n",
       "      <td>0.007170</td>\n",
       "      <td>0.0980</td>\n",
       "      <td>0.597</td>\n",
       "      <td>125.942</td>\n",
       "      <td>184960</td>\n",
       "      <td>4</td>\n",
       "      <td>3.082667</td>\n",
       "    </tr>\n",
       "    <tr>\n",
       "      <th>2054</th>\n",
       "      <td>6dn1B2XpFwyahRFVd7PHL0</td>\n",
       "      <td>Mariposa Ole</td>\n",
       "      <td>https://p.scdn.co/mp3-preview/153a3d64b2f3b75a...</td>\n",
       "      <td>https://i.scdn.co/image/ab67616d0000b273bb8c48...</td>\n",
       "      <td>['Dan Zanes', 'Friends', 'Barbara Brousal']</td>\n",
       "      <td>3</td>\n",
       "      <td>10</td>\n",
       "      <td>0.692</td>\n",
       "      <td>0.283</td>\n",
       "      <td>1</td>\n",
       "      <td>...</td>\n",
       "      <td>1</td>\n",
       "      <td>0.0361</td>\n",
       "      <td>0.592</td>\n",
       "      <td>0.000127</td>\n",
       "      <td>0.1030</td>\n",
       "      <td>0.865</td>\n",
       "      <td>119.650</td>\n",
       "      <td>154133</td>\n",
       "      <td>4</td>\n",
       "      <td>2.568883</td>\n",
       "    </tr>\n",
       "  </tbody>\n",
       "</table>\n",
       "<p>5 rows × 21 columns</p>\n",
       "</div>"
      ],
      "text/plain": [
       "                    Track_ID            Track_Name  \\\n",
       "688   616Uq1Ft4Rl56FbH1H5XXH       Lady Bug Picnic   \n",
       "2000  3Bob4IPl4maAnBPiTZbuxK             Siyahamba   \n",
       "1068  0YawYQdvhpuWNSMXqY51xm  A Cat Had a Birthday   \n",
       "2003  3Bh0xcxyhMWmzutOr0LJy8               Firefly   \n",
       "2054  6dn1B2XpFwyahRFVd7PHL0          Mariposa Ole   \n",
       "\n",
       "                                            preview_url  \\\n",
       "688   https://p.scdn.co/mp3-preview/773afcdea6634010...   \n",
       "2000  https://p.scdn.co/mp3-preview/702f6bf219f80c11...   \n",
       "1068  https://p.scdn.co/mp3-preview/74d99be6214ed824...   \n",
       "2003  https://p.scdn.co/mp3-preview/bd156077b8b5c5fe...   \n",
       "2054  https://p.scdn.co/mp3-preview/153a3d64b2f3b75a...   \n",
       "\n",
       "                                              image_url  \\\n",
       "688   https://i.scdn.co/image/ab67616d0000b27338381e...   \n",
       "2000  https://i.scdn.co/image/ab67616d0000b273cb6801...   \n",
       "1068  https://i.scdn.co/image/ab67616d0000b2738cc725...   \n",
       "2003  https://i.scdn.co/image/ab67616d0000b273cb6801...   \n",
       "2054  https://i.scdn.co/image/ab67616d0000b273bb8c48...   \n",
       "\n",
       "                                          Artists  Age  popularity  \\\n",
       "688                            ['Victor Johnson']    2          10   \n",
       "2000                     ['Dan Zanes', 'Friends']    3          11   \n",
       "1068                    [\"Sesame Street's David\"]    2           9   \n",
       "2003                     ['Dan Zanes', 'Friends']    3          10   \n",
       "2054  ['Dan Zanes', 'Friends', 'Barbara Brousal']    3          10   \n",
       "\n",
       "      danceability  energy  key  ...  mode  speechiness  acousticness  \\\n",
       "688          0.723   0.420    0  ...     1       0.0908         0.809   \n",
       "2000         0.499   0.338    0  ...     1       0.0308         0.802   \n",
       "1068         0.837   0.458    5  ...     1       0.1720         0.355   \n",
       "2003         0.731   0.363    0  ...     1       0.0319         0.691   \n",
       "2054         0.692   0.283    1  ...     1       0.0361         0.592   \n",
       "\n",
       "      instrumentalness  liveness  valence    tempo  duration_ms  \\\n",
       "688           0.000035    0.0996    0.914  120.471       114573   \n",
       "2000          0.000007    0.0996    0.559  135.923       179840   \n",
       "1068          0.000000    0.1170    0.919  123.939       164507   \n",
       "2003          0.007170    0.0980    0.597  125.942       184960   \n",
       "2054          0.000127    0.1030    0.865  119.650       154133   \n",
       "\n",
       "      time_signature  duration_min  \n",
       "688                4       1.90955  \n",
       "2000               4      2.997333  \n",
       "1068               4      2.741783  \n",
       "2003               4      3.082667  \n",
       "2054               4      2.568883  \n",
       "\n",
       "[5 rows x 21 columns]"
      ]
     },
     "execution_count": 25,
     "metadata": {},
     "output_type": "execute_result"
    }
   ],
   "source": [
    "idx = 2         \n",
    "\n",
    "print (\"The song picked: \", df.iloc[idx]['Track_Name'])\n",
    "\n",
    "recom_idx = indices[idx]\n",
    "\n",
    "print (\"\\nRecommendations: \")\n",
    "df.iloc[recom_idx][0:5]"
   ]
  },
  {
   "cell_type": "markdown",
   "id": "0bfcc597",
   "metadata": {},
   "source": [
    "### Write it as a python method"
   ]
  },
  {
   "cell_type": "code",
   "execution_count": 26,
   "id": "6c915a4b",
   "metadata": {
    "ExecuteTime": {
     "end_time": "2022-03-04T23:10:17.590414Z",
     "start_time": "2022-03-04T23:10:17.574136Z"
    }
   },
   "outputs": [],
   "source": [
    "def make_recommendation(idx, num=5):\n",
    "    dists, indices = knn.kneighbors()\n",
    "    num = min(num, 20)\n",
    "    return df.iloc[indices[idx]][0:num]"
   ]
  },
  {
   "cell_type": "code",
   "execution_count": 30,
   "id": "ce8c8c67",
   "metadata": {
    "ExecuteTime": {
     "end_time": "2022-03-04T23:11:40.866784Z",
     "start_time": "2022-03-04T23:11:38.112681Z"
    }
   },
   "outputs": [
    {
     "data": {
      "text/html": [
       "<div>\n",
       "<style scoped>\n",
       "    .dataframe tbody tr th:only-of-type {\n",
       "        vertical-align: middle;\n",
       "    }\n",
       "\n",
       "    .dataframe tbody tr th {\n",
       "        vertical-align: top;\n",
       "    }\n",
       "\n",
       "    .dataframe thead th {\n",
       "        text-align: right;\n",
       "    }\n",
       "</style>\n",
       "<table border=\"1\" class=\"dataframe\">\n",
       "  <thead>\n",
       "    <tr style=\"text-align: right;\">\n",
       "      <th></th>\n",
       "      <th>Track_Name</th>\n",
       "      <th>Artists</th>\n",
       "      <th>Age</th>\n",
       "      <th>popularity</th>\n",
       "      <th>danceability</th>\n",
       "      <th>energy</th>\n",
       "      <th>key</th>\n",
       "      <th>loudness</th>\n",
       "      <th>mode</th>\n",
       "      <th>speechiness</th>\n",
       "      <th>acousticness</th>\n",
       "      <th>instrumentalness</th>\n",
       "      <th>liveness</th>\n",
       "      <th>valence</th>\n",
       "      <th>tempo</th>\n",
       "      <th>duration_ms</th>\n",
       "      <th>time_signature</th>\n",
       "      <th>duration_min</th>\n",
       "    </tr>\n",
       "  </thead>\n",
       "  <tbody>\n",
       "    <tr>\n",
       "      <th>1075</th>\n",
       "      <td>Do De Rubber Duck</td>\n",
       "      <td>['Ernie', 'Kermit the Frog', 'Oscar the Grouch...</td>\n",
       "      <td>2</td>\n",
       "      <td>10</td>\n",
       "      <td>0.801</td>\n",
       "      <td>0.595</td>\n",
       "      <td>0</td>\n",
       "      <td>-8.096</td>\n",
       "      <td>1</td>\n",
       "      <td>0.3790</td>\n",
       "      <td>0.180</td>\n",
       "      <td>0.000000</td>\n",
       "      <td>0.309</td>\n",
       "      <td>0.890</td>\n",
       "      <td>153.626</td>\n",
       "      <td>174547</td>\n",
       "      <td>4</td>\n",
       "      <td>2.909117</td>\n",
       "    </tr>\n",
       "    <tr>\n",
       "      <th>1377</th>\n",
       "      <td>High up on the Trapeze</td>\n",
       "      <td>['The Wiggles']</td>\n",
       "      <td>2</td>\n",
       "      <td>8</td>\n",
       "      <td>0.648</td>\n",
       "      <td>0.553</td>\n",
       "      <td>0</td>\n",
       "      <td>-6.318</td>\n",
       "      <td>1</td>\n",
       "      <td>0.0277</td>\n",
       "      <td>0.658</td>\n",
       "      <td>0.000379</td>\n",
       "      <td>0.290</td>\n",
       "      <td>0.811</td>\n",
       "      <td>112.000</td>\n",
       "      <td>106440</td>\n",
       "      <td>4</td>\n",
       "      <td>1.774</td>\n",
       "    </tr>\n",
       "    <tr>\n",
       "      <th>2056</th>\n",
       "      <td>Choo Choo Ch'Boogie</td>\n",
       "      <td>['Dan Zanes', 'Friends', 'Rankin Don aka Fathe...</td>\n",
       "      <td>3</td>\n",
       "      <td>10</td>\n",
       "      <td>0.645</td>\n",
       "      <td>0.612</td>\n",
       "      <td>7</td>\n",
       "      <td>-8.672</td>\n",
       "      <td>1</td>\n",
       "      <td>0.3760</td>\n",
       "      <td>0.788</td>\n",
       "      <td>0.000000</td>\n",
       "      <td>0.214</td>\n",
       "      <td>0.854</td>\n",
       "      <td>160.585</td>\n",
       "      <td>162307</td>\n",
       "      <td>4</td>\n",
       "      <td>2.705117</td>\n",
       "    </tr>\n",
       "    <tr>\n",
       "      <th>484</th>\n",
       "      <td>The Word is No</td>\n",
       "      <td>[\"Sesame Street's Gina\", \"Sesame Street's Maria\"]</td>\n",
       "      <td>2</td>\n",
       "      <td>8</td>\n",
       "      <td>0.929</td>\n",
       "      <td>0.762</td>\n",
       "      <td>7</td>\n",
       "      <td>-6.550</td>\n",
       "      <td>1</td>\n",
       "      <td>0.0330</td>\n",
       "      <td>0.422</td>\n",
       "      <td>0.000112</td>\n",
       "      <td>0.154</td>\n",
       "      <td>0.971</td>\n",
       "      <td>125.591</td>\n",
       "      <td>116000</td>\n",
       "      <td>4</td>\n",
       "      <td>1.933333</td>\n",
       "    </tr>\n",
       "    <tr>\n",
       "      <th>2252</th>\n",
       "      <td>The Honker Duckie Dinger Jamboree</td>\n",
       "      <td>['Ernie', 'Dinger', 'The Honkers', 'Rubber Duc...</td>\n",
       "      <td>3</td>\n",
       "      <td>11</td>\n",
       "      <td>0.656</td>\n",
       "      <td>0.592</td>\n",
       "      <td>9</td>\n",
       "      <td>-9.244</td>\n",
       "      <td>1</td>\n",
       "      <td>0.1220</td>\n",
       "      <td>0.135</td>\n",
       "      <td>0.000157</td>\n",
       "      <td>0.045</td>\n",
       "      <td>0.820</td>\n",
       "      <td>172.439</td>\n",
       "      <td>97693</td>\n",
       "      <td>4</td>\n",
       "      <td>1.628217</td>\n",
       "    </tr>\n",
       "  </tbody>\n",
       "</table>\n",
       "</div>"
      ],
      "text/plain": [
       "                             Track_Name  \\\n",
       "1075                  Do De Rubber Duck   \n",
       "1377             High up on the Trapeze   \n",
       "2056                Choo Choo Ch'Boogie   \n",
       "484                      The Word is No   \n",
       "2252  The Honker Duckie Dinger Jamboree   \n",
       "\n",
       "                                                Artists  Age  popularity  \\\n",
       "1075  ['Ernie', 'Kermit the Frog', 'Oscar the Grouch...    2          10   \n",
       "1377                                    ['The Wiggles']    2           8   \n",
       "2056  ['Dan Zanes', 'Friends', 'Rankin Don aka Fathe...    3          10   \n",
       "484   [\"Sesame Street's Gina\", \"Sesame Street's Maria\"]    2           8   \n",
       "2252  ['Ernie', 'Dinger', 'The Honkers', 'Rubber Duc...    3          11   \n",
       "\n",
       "      danceability  energy  key  loudness  mode  speechiness  acousticness  \\\n",
       "1075         0.801   0.595    0    -8.096     1       0.3790         0.180   \n",
       "1377         0.648   0.553    0    -6.318     1       0.0277         0.658   \n",
       "2056         0.645   0.612    7    -8.672     1       0.3760         0.788   \n",
       "484          0.929   0.762    7    -6.550     1       0.0330         0.422   \n",
       "2252         0.656   0.592    9    -9.244     1       0.1220         0.135   \n",
       "\n",
       "      instrumentalness  liveness  valence    tempo  duration_ms  \\\n",
       "1075          0.000000     0.309    0.890  153.626       174547   \n",
       "1377          0.000379     0.290    0.811  112.000       106440   \n",
       "2056          0.000000     0.214    0.854  160.585       162307   \n",
       "484           0.000112     0.154    0.971  125.591       116000   \n",
       "2252          0.000157     0.045    0.820  172.439        97693   \n",
       "\n",
       "      time_signature  duration_min  \n",
       "1075               4      2.909117  \n",
       "1377               4         1.774  \n",
       "2056               4      2.705117  \n",
       "484                4      1.933333  \n",
       "2252               4      1.628217  "
      ]
     },
     "execution_count": 30,
     "metadata": {},
     "output_type": "execute_result"
    }
   ],
   "source": [
    "make_recommendation(5).drop(columns=['Track_ID','preview_url','image_url'])"
   ]
  },
  {
   "cell_type": "code",
   "execution_count": null,
   "id": "b282fbc7",
   "metadata": {},
   "outputs": [],
   "source": []
  }
 ],
 "metadata": {
  "kernelspec": {
   "display_name": "Python 3 (ipykernel)",
   "language": "python",
   "name": "python3"
  },
  "language_info": {
   "codemirror_mode": {
    "name": "ipython",
    "version": 3
   },
   "file_extension": ".py",
   "mimetype": "text/x-python",
   "name": "python",
   "nbconvert_exporter": "python",
   "pygments_lexer": "ipython3",
   "version": "3.9.10"
  }
 },
 "nbformat": 4,
 "nbformat_minor": 5
}
