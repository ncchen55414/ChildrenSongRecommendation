{
 "cells": [
  {
   "cell_type": "code",
   "execution_count": 1,
   "id": "4b467eb2",
   "metadata": {
    "ExecuteTime": {
     "end_time": "2022-02-26T02:06:17.718127Z",
     "start_time": "2022-02-26T02:06:16.790403Z"
    }
   },
   "outputs": [],
   "source": [
    "import pandas as pd\n",
    "import os\n",
    "import spotipy\n",
    "from spotipy.oauth2 import SpotifyClientCredentials\n",
    "from dotenv import load_dotenv\n",
    "%load_ext dotenv\n",
    "%dotenv\n",
    "\n",
    "\n",
    "client_id = os.environ['SPOTIFY_CLIENT_ID']\n",
    "client_secret = os.environ['SPOTIFY_CLIENT_SECRET']\n",
    "spotify = spotipy.Spotify(\n",
    "    client_credentials_manager=SpotifyClientCredentials(client_id = client_id, client_secret=client_secret))"
   ]
  },
  {
   "cell_type": "markdown",
   "id": "f15eb3ff",
   "metadata": {},
   "source": [
    "## Load DataFrame"
   ]
  },
  {
   "cell_type": "code",
   "execution_count": 2,
   "id": "8d1ac3e9",
   "metadata": {
    "ExecuteTime": {
     "end_time": "2022-02-26T02:06:19.532493Z",
     "start_time": "2022-02-26T02:06:19.045533Z"
    }
   },
   "outputs": [],
   "source": [
    "df = pd.read_csv(\"../data/all.csv\")"
   ]
  },
  {
   "cell_type": "code",
   "execution_count": 3,
   "id": "fc519ab7",
   "metadata": {
    "ExecuteTime": {
     "end_time": "2022-02-26T02:06:21.202720Z",
     "start_time": "2022-02-26T02:06:21.164070Z"
    }
   },
   "outputs": [
    {
     "data": {
      "text/plain": [
       "Index(['Age', 'Album_Name', 'Artist', 'Year', 'Description', 'Age Group',\n",
       "       'Album_ID', 'Album_Name_Spotify', 'Artists_Spotify', 'Track_ID', 'ISRC',\n",
       "       'Track_Name', 'Artists', 'popularity', 'preview_url', 'image_url',\n",
       "       'danceability', 'energy', 'key', 'loudness', 'mode', 'speechiness',\n",
       "       'acousticness', 'instrumentalness', 'liveness', 'valence', 'tempo',\n",
       "       'type', 'uri', 'track_href', 'analysis_url', 'duration_ms',\n",
       "       'time_signature', 'lyrics'],\n",
       "      dtype='object')"
      ]
     },
     "execution_count": 3,
     "metadata": {},
     "output_type": "execute_result"
    }
   ],
   "source": [
    "df.columns"
   ]
  },
  {
   "cell_type": "code",
   "execution_count": 4,
   "id": "7c81462f",
   "metadata": {
    "ExecuteTime": {
     "end_time": "2022-02-26T02:06:42.928973Z",
     "start_time": "2022-02-26T02:06:42.866745Z"
    }
   },
   "outputs": [],
   "source": [
    "columns = ['Track_ID','Track_Name', 'preview_url','image_url','Artists', 'Age','popularity','danceability', 'energy', 'key', 'loudness', 'mode', 'speechiness',\n",
    "       'acousticness', 'instrumentalness', 'liveness', 'valence', 'tempo','duration_ms',\n",
    "       'time_signature']\n",
    "df = df[columns].astype({'key': 'Int64', 'mode':'Int64', 'duration_ms':'Int64', 'time_signature':'Int64'})\n",
    "\n"
   ]
  },
  {
   "cell_type": "code",
   "execution_count": 5,
   "id": "b8ea1f12",
   "metadata": {
    "ExecuteTime": {
     "end_time": "2022-02-26T02:06:45.024611Z",
     "start_time": "2022-02-26T02:06:44.958879Z"
    }
   },
   "outputs": [
    {
     "data": {
      "text/html": [
       "<div>\n",
       "<style scoped>\n",
       "    .dataframe tbody tr th:only-of-type {\n",
       "        vertical-align: middle;\n",
       "    }\n",
       "\n",
       "    .dataframe tbody tr th {\n",
       "        vertical-align: top;\n",
       "    }\n",
       "\n",
       "    .dataframe thead th {\n",
       "        text-align: right;\n",
       "    }\n",
       "</style>\n",
       "<table border=\"1\" class=\"dataframe\">\n",
       "  <thead>\n",
       "    <tr style=\"text-align: right;\">\n",
       "      <th></th>\n",
       "      <th>Track_ID</th>\n",
       "      <th>Track_Name</th>\n",
       "      <th>preview_url</th>\n",
       "      <th>image_url</th>\n",
       "      <th>Artists</th>\n",
       "      <th>Age</th>\n",
       "      <th>popularity</th>\n",
       "      <th>danceability</th>\n",
       "      <th>energy</th>\n",
       "      <th>key</th>\n",
       "      <th>loudness</th>\n",
       "      <th>mode</th>\n",
       "      <th>speechiness</th>\n",
       "      <th>acousticness</th>\n",
       "      <th>instrumentalness</th>\n",
       "      <th>liveness</th>\n",
       "      <th>valence</th>\n",
       "      <th>tempo</th>\n",
       "      <th>duration_ms</th>\n",
       "      <th>time_signature</th>\n",
       "    </tr>\n",
       "  </thead>\n",
       "  <tbody>\n",
       "    <tr>\n",
       "      <th>0</th>\n",
       "      <td>2FPQI1LRwWszttbRG8hknk</td>\n",
       "      <td>Games Monsters Play</td>\n",
       "      <td>https://p.scdn.co/mp3-preview/33cc59cc1836954e...</td>\n",
       "      <td>https://i.scdn.co/image/ab67616d0000b273d61faa...</td>\n",
       "      <td>['Herry Monster', 'Grover']</td>\n",
       "      <td>2</td>\n",
       "      <td>5</td>\n",
       "      <td>0.738</td>\n",
       "      <td>0.544</td>\n",
       "      <td>7</td>\n",
       "      <td>-8.557</td>\n",
       "      <td>1</td>\n",
       "      <td>0.346</td>\n",
       "      <td>0.212</td>\n",
       "      <td>0.0</td>\n",
       "      <td>0.0937</td>\n",
       "      <td>0.961</td>\n",
       "      <td>144.448</td>\n",
       "      <td>204267</td>\n",
       "      <td>4</td>\n",
       "    </tr>\n",
       "    <tr>\n",
       "      <th>1</th>\n",
       "      <td>6pOoswwC1lNBI2TapMdaEW</td>\n",
       "      <td>Afraid of the Dark</td>\n",
       "      <td>https://p.scdn.co/mp3-preview/cf340f0b536edadd...</td>\n",
       "      <td>https://i.scdn.co/image/ab67616d0000b273d61faa...</td>\n",
       "      <td>['Telly Monster']</td>\n",
       "      <td>2</td>\n",
       "      <td>5</td>\n",
       "      <td>0.505</td>\n",
       "      <td>0.525</td>\n",
       "      <td>0</td>\n",
       "      <td>-10.897</td>\n",
       "      <td>1</td>\n",
       "      <td>0.109</td>\n",
       "      <td>0.355</td>\n",
       "      <td>0.0</td>\n",
       "      <td>0.1000</td>\n",
       "      <td>0.444</td>\n",
       "      <td>127.922</td>\n",
       "      <td>141240</td>\n",
       "      <td>4</td>\n",
       "    </tr>\n",
       "    <tr>\n",
       "      <th>2</th>\n",
       "      <td>2EEwSq98rKwlRWT7sNCLRc</td>\n",
       "      <td>Eensy Weensy Spider</td>\n",
       "      <td>https://p.scdn.co/mp3-preview/4cdc12aaeb7da4b7...</td>\n",
       "      <td>https://i.scdn.co/image/ab67616d0000b273d61faa...</td>\n",
       "      <td>['Count Von Count', 'The Sesame Street Kids']</td>\n",
       "      <td>2</td>\n",
       "      <td>9</td>\n",
       "      <td>0.875</td>\n",
       "      <td>0.338</td>\n",
       "      <td>0</td>\n",
       "      <td>-11.382</td>\n",
       "      <td>1</td>\n",
       "      <td>0.397</td>\n",
       "      <td>0.762</td>\n",
       "      <td>0.0</td>\n",
       "      <td>0.0992</td>\n",
       "      <td>0.962</td>\n",
       "      <td>116.027</td>\n",
       "      <td>94693</td>\n",
       "      <td>4</td>\n",
       "    </tr>\n",
       "  </tbody>\n",
       "</table>\n",
       "</div>"
      ],
      "text/plain": [
       "                 Track_ID           Track_Name  \\\n",
       "0  2FPQI1LRwWszttbRG8hknk  Games Monsters Play   \n",
       "1  6pOoswwC1lNBI2TapMdaEW   Afraid of the Dark   \n",
       "2  2EEwSq98rKwlRWT7sNCLRc  Eensy Weensy Spider   \n",
       "\n",
       "                                         preview_url  \\\n",
       "0  https://p.scdn.co/mp3-preview/33cc59cc1836954e...   \n",
       "1  https://p.scdn.co/mp3-preview/cf340f0b536edadd...   \n",
       "2  https://p.scdn.co/mp3-preview/4cdc12aaeb7da4b7...   \n",
       "\n",
       "                                           image_url  \\\n",
       "0  https://i.scdn.co/image/ab67616d0000b273d61faa...   \n",
       "1  https://i.scdn.co/image/ab67616d0000b273d61faa...   \n",
       "2  https://i.scdn.co/image/ab67616d0000b273d61faa...   \n",
       "\n",
       "                                         Artists  Age  popularity  \\\n",
       "0                    ['Herry Monster', 'Grover']    2           5   \n",
       "1                              ['Telly Monster']    2           5   \n",
       "2  ['Count Von Count', 'The Sesame Street Kids']    2           9   \n",
       "\n",
       "   danceability  energy  key  loudness  mode  speechiness  acousticness  \\\n",
       "0         0.738   0.544    7    -8.557     1        0.346         0.212   \n",
       "1         0.505   0.525    0   -10.897     1        0.109         0.355   \n",
       "2         0.875   0.338    0   -11.382     1        0.397         0.762   \n",
       "\n",
       "   instrumentalness  liveness  valence    tempo  duration_ms  time_signature  \n",
       "0               0.0    0.0937    0.961  144.448       204267               4  \n",
       "1               0.0    0.1000    0.444  127.922       141240               4  \n",
       "2               0.0    0.0992    0.962  116.027        94693               4  "
      ]
     },
     "execution_count": 5,
     "metadata": {},
     "output_type": "execute_result"
    }
   ],
   "source": [
    "df.head(3)"
   ]
  },
  {
   "cell_type": "code",
   "execution_count": 6,
   "id": "7b7a87a4",
   "metadata": {
    "ExecuteTime": {
     "end_time": "2022-02-26T02:06:56.496235Z",
     "start_time": "2022-02-26T02:06:56.480699Z"
    }
   },
   "outputs": [
    {
     "data": {
      "text/plain": [
       "Index(['Age', 'popularity', 'danceability', 'energy', 'key', 'loudness',\n",
       "       'mode', 'speechiness', 'acousticness', 'instrumentalness', 'liveness',\n",
       "       'valence', 'tempo', 'duration_ms', 'time_signature'],\n",
       "      dtype='object')"
      ]
     },
     "execution_count": 6,
     "metadata": {},
     "output_type": "execute_result"
    }
   ],
   "source": [
    "df.columns[5:20]"
   ]
  },
  {
   "cell_type": "markdown",
   "id": "7fc6ba80",
   "metadata": {},
   "source": [
    "## Recommend Songs by KNN"
   ]
  },
  {
   "cell_type": "markdown",
   "id": "816e0da8",
   "metadata": {
    "ExecuteTime": {
     "end_time": "2022-02-23T18:45:17.981688Z",
     "start_time": "2022-02-23T18:45:17.974730Z"
    }
   },
   "source": [
    "### Fit Model"
   ]
  },
  {
   "cell_type": "code",
   "execution_count": 9,
   "id": "5bdd1faf",
   "metadata": {
    "ExecuteTime": {
     "end_time": "2022-02-26T02:07:43.638185Z",
     "start_time": "2022-02-26T02:07:43.616792Z"
    }
   },
   "outputs": [],
   "source": [
    "from sklearn.compose import ColumnTransformer\n",
    "from sklearn.pipeline import Pipeline\n",
    "from sklearn.preprocessing import Normalizer\n",
    "\n",
    "from sklearn.neighbors import NearestNeighbors\n",
    "\n",
    "model = Pipeline([\n",
    "    ('select features columns', ColumnTransformer([('select column','passthrough',slice(5,20))])),\n",
    "    ('normalize', Normalizer()),\n",
    "    ('knn', NearestNeighbors(n_neighbors=10))\n",
    "])"
   ]
  },
  {
   "cell_type": "code",
   "execution_count": 10,
   "id": "d3b02e59",
   "metadata": {
    "ExecuteTime": {
     "end_time": "2022-02-26T02:07:46.843609Z",
     "start_time": "2022-02-26T02:07:46.624156Z"
    }
   },
   "outputs": [
    {
     "data": {
      "text/plain": [
       "Pipeline(steps=[('select features columns',\n",
       "                 ColumnTransformer(transformers=[('select column',\n",
       "                                                  'passthrough',\n",
       "                                                  slice(5, 20, None))])),\n",
       "                ('normalize', Normalizer()),\n",
       "                ('knn', NearestNeighbors(n_neighbors=10))])"
      ]
     },
     "execution_count": 10,
     "metadata": {},
     "output_type": "execute_result"
    }
   ],
   "source": [
    "df = df.dropna().drop_duplicates()\n",
    "df = df.reset_index(drop=True)\n",
    "\n",
    "model.fit(df)"
   ]
  },
  {
   "cell_type": "code",
   "execution_count": 15,
   "id": "c927b201",
   "metadata": {
    "ExecuteTime": {
     "end_time": "2022-02-26T02:10:09.513480Z",
     "start_time": "2022-02-26T02:10:09.489301Z"
    }
   },
   "outputs": [
    {
     "data": {
      "text/plain": [
       "NearestNeighbors(n_neighbors=10)"
      ]
     },
     "execution_count": 15,
     "metadata": {},
     "output_type": "execute_result"
    }
   ],
   "source": [
    "model[2]"
   ]
  },
  {
   "cell_type": "code",
   "execution_count": 36,
   "id": "eeb90233",
   "metadata": {
    "ExecuteTime": {
     "end_time": "2022-02-26T08:07:23.066846Z",
     "start_time": "2022-02-26T08:07:23.031631Z"
    }
   },
   "outputs": [],
   "source": [
    "from joblib import dump, load\n",
    "#dump(model[2], '../models/knn.joblib')   # dump knn model\n",
    "#dump(df, '../models/songs_df.joblib')\n"
   ]
  },
  {
   "cell_type": "code",
   "execution_count": 11,
   "id": "2a444c3b",
   "metadata": {
    "ExecuteTime": {
     "end_time": "2022-02-26T02:07:51.056027Z",
     "start_time": "2022-02-26T02:07:50.613185Z"
    }
   },
   "outputs": [],
   "source": [
    "distance, indices = model[2].kneighbors()"
   ]
  },
  {
   "cell_type": "code",
   "execution_count": 13,
   "id": "77b6dd66",
   "metadata": {
    "ExecuteTime": {
     "end_time": "2022-02-26T02:07:56.654572Z",
     "start_time": "2022-02-26T02:07:56.629607Z"
    }
   },
   "outputs": [
    {
     "data": {
      "text/plain": [
       "array([ 109, 1728, 1352,  432,  322,  882, 1615, 2640,  423, 1293],\n",
       "      dtype=int64)"
      ]
     },
     "execution_count": 13,
     "metadata": {},
     "output_type": "execute_result"
    }
   ],
   "source": [
    "indices[0]"
   ]
  },
  {
   "cell_type": "code",
   "execution_count": 19,
   "id": "59fe517a",
   "metadata": {
    "ExecuteTime": {
     "end_time": "2022-02-26T02:14:14.469362Z",
     "start_time": "2022-02-26T02:14:14.418398Z"
    }
   },
   "outputs": [
    {
     "data": {
      "text/html": [
       "<div>\n",
       "<style scoped>\n",
       "    .dataframe tbody tr th:only-of-type {\n",
       "        vertical-align: middle;\n",
       "    }\n",
       "\n",
       "    .dataframe tbody tr th {\n",
       "        vertical-align: top;\n",
       "    }\n",
       "\n",
       "    .dataframe thead th {\n",
       "        text-align: right;\n",
       "    }\n",
       "</style>\n",
       "<table border=\"1\" class=\"dataframe\">\n",
       "  <thead>\n",
       "    <tr style=\"text-align: right;\">\n",
       "      <th></th>\n",
       "      <th>Track_ID</th>\n",
       "      <th>Track_Name</th>\n",
       "      <th>preview_url</th>\n",
       "      <th>image_url</th>\n",
       "      <th>Artists</th>\n",
       "      <th>Age</th>\n",
       "      <th>popularity</th>\n",
       "      <th>danceability</th>\n",
       "      <th>energy</th>\n",
       "      <th>key</th>\n",
       "      <th>loudness</th>\n",
       "      <th>mode</th>\n",
       "      <th>speechiness</th>\n",
       "      <th>acousticness</th>\n",
       "      <th>instrumentalness</th>\n",
       "      <th>liveness</th>\n",
       "      <th>valence</th>\n",
       "      <th>tempo</th>\n",
       "      <th>duration_ms</th>\n",
       "      <th>time_signature</th>\n",
       "    </tr>\n",
       "  </thead>\n",
       "  <tbody>\n",
       "    <tr>\n",
       "      <th>370</th>\n",
       "      <td>6yAArqwRhIx3aBZLh6fzyL</td>\n",
       "      <td>Everybody Dance</td>\n",
       "      <td>https://p.scdn.co/mp3-preview/51bd21a4ca87e14d...</td>\n",
       "      <td>https://i.scdn.co/image/ab67616d0000b273504563...</td>\n",
       "      <td>['Hap Palmer']</td>\n",
       "      <td>2</td>\n",
       "      <td>4</td>\n",
       "      <td>0.852</td>\n",
       "      <td>0.495</td>\n",
       "      <td>0</td>\n",
       "      <td>-11.383</td>\n",
       "      <td>1</td>\n",
       "      <td>0.0450</td>\n",
       "      <td>0.205</td>\n",
       "      <td>0.000009</td>\n",
       "      <td>0.268</td>\n",
       "      <td>0.960</td>\n",
       "      <td>131.009</td>\n",
       "      <td>149773</td>\n",
       "      <td>4</td>\n",
       "    </tr>\n",
       "    <tr>\n",
       "      <th>954</th>\n",
       "      <td>378z6t1Ci06BLsrkaEORBV</td>\n",
       "      <td>Since You Asked</td>\n",
       "      <td>https://p.scdn.co/mp3-preview/f0a5c333d2bf49b5...</td>\n",
       "      <td>https://i.scdn.co/image/ab67616d0000b27398032c...</td>\n",
       "      <td>['Melissa Errico']</td>\n",
       "      <td>2</td>\n",
       "      <td>1</td>\n",
       "      <td>0.336</td>\n",
       "      <td>0.224</td>\n",
       "      <td>2</td>\n",
       "      <td>-13.677</td>\n",
       "      <td>1</td>\n",
       "      <td>0.0343</td>\n",
       "      <td>0.936</td>\n",
       "      <td>0.001030</td>\n",
       "      <td>0.170</td>\n",
       "      <td>0.199</td>\n",
       "      <td>176.052</td>\n",
       "      <td>193973</td>\n",
       "      <td>3</td>\n",
       "    </tr>\n",
       "    <tr>\n",
       "      <th>2062</th>\n",
       "      <td>08qNaFTXAWnE2bZt0uVItY</td>\n",
       "      <td>The Fine Friends Are Here</td>\n",
       "      <td>https://p.scdn.co/mp3-preview/640e68d4aaa54e02...</td>\n",
       "      <td>https://i.scdn.co/image/ab67616d0000b273bb8c48...</td>\n",
       "      <td>['Dan Zanes', 'Friends']</td>\n",
       "      <td>3</td>\n",
       "      <td>6</td>\n",
       "      <td>0.541</td>\n",
       "      <td>0.598</td>\n",
       "      <td>2</td>\n",
       "      <td>-8.873</td>\n",
       "      <td>1</td>\n",
       "      <td>0.0342</td>\n",
       "      <td>0.361</td>\n",
       "      <td>0.001860</td>\n",
       "      <td>0.325</td>\n",
       "      <td>0.921</td>\n",
       "      <td>142.611</td>\n",
       "      <td>161973</td>\n",
       "      <td>4</td>\n",
       "    </tr>\n",
       "  </tbody>\n",
       "</table>\n",
       "</div>"
      ],
      "text/plain": [
       "                    Track_ID                 Track_Name  \\\n",
       "370   6yAArqwRhIx3aBZLh6fzyL            Everybody Dance   \n",
       "954   378z6t1Ci06BLsrkaEORBV            Since You Asked   \n",
       "2062  08qNaFTXAWnE2bZt0uVItY  The Fine Friends Are Here   \n",
       "\n",
       "                                            preview_url  \\\n",
       "370   https://p.scdn.co/mp3-preview/51bd21a4ca87e14d...   \n",
       "954   https://p.scdn.co/mp3-preview/f0a5c333d2bf49b5...   \n",
       "2062  https://p.scdn.co/mp3-preview/640e68d4aaa54e02...   \n",
       "\n",
       "                                              image_url  \\\n",
       "370   https://i.scdn.co/image/ab67616d0000b273504563...   \n",
       "954   https://i.scdn.co/image/ab67616d0000b27398032c...   \n",
       "2062  https://i.scdn.co/image/ab67616d0000b273bb8c48...   \n",
       "\n",
       "                       Artists  Age  popularity  danceability  energy  key  \\\n",
       "370             ['Hap Palmer']    2           4         0.852   0.495    0   \n",
       "954         ['Melissa Errico']    2           1         0.336   0.224    2   \n",
       "2062  ['Dan Zanes', 'Friends']    3           6         0.541   0.598    2   \n",
       "\n",
       "      loudness  mode  speechiness  acousticness  instrumentalness  liveness  \\\n",
       "370    -11.383     1       0.0450         0.205          0.000009     0.268   \n",
       "954    -13.677     1       0.0343         0.936          0.001030     0.170   \n",
       "2062    -8.873     1       0.0342         0.361          0.001860     0.325   \n",
       "\n",
       "      valence    tempo  duration_ms  time_signature  \n",
       "370     0.960  131.009       149773               4  \n",
       "954     0.199  176.052       193973               3  \n",
       "2062    0.921  142.611       161973               4  "
      ]
     },
     "execution_count": 19,
     "metadata": {},
     "output_type": "execute_result"
    }
   ],
   "source": [
    "df.iloc[indices[1]][0:3]"
   ]
  },
  {
   "cell_type": "markdown",
   "id": "d3bd7b8f",
   "metadata": {},
   "source": [
    "### Example: Pick up a song using index, and make recommendations."
   ]
  },
  {
   "cell_type": "code",
   "execution_count": 37,
   "id": "7526080e",
   "metadata": {
    "ExecuteTime": {
     "end_time": "2022-02-26T08:07:29.317543Z",
     "start_time": "2022-02-26T08:07:29.210221Z"
    }
   },
   "outputs": [],
   "source": [
    "knn = load('../models/knn.joblib')   # dump knn model\n",
    "df = load('../models/songs_df.joblib')\n"
   ]
  },
  {
   "cell_type": "code",
   "execution_count": 59,
   "id": "878813ef",
   "metadata": {
    "ExecuteTime": {
     "end_time": "2022-02-26T08:29:12.831215Z",
     "start_time": "2022-02-26T08:29:12.799914Z"
    }
   },
   "outputs": [
    {
     "data": {
      "text/plain": [
       "[4, 11, 9, 3, 1]"
      ]
     },
     "execution_count": 59,
     "metadata": {},
     "output_type": "execute_result"
    }
   ],
   "source": [
    "import random\n",
    "random.sample(range(12),5)"
   ]
  },
  {
   "cell_type": "code",
   "execution_count": 22,
   "id": "b2f6f07c",
   "metadata": {
    "ExecuteTime": {
     "end_time": "2022-02-26T02:15:08.499669Z",
     "start_time": "2022-02-26T02:15:07.916347Z"
    }
   },
   "outputs": [],
   "source": [
    "distance, indices = knn.kneighbors()"
   ]
  },
  {
   "cell_type": "code",
   "execution_count": 23,
   "id": "bf3faae1",
   "metadata": {
    "ExecuteTime": {
     "end_time": "2022-02-26T02:15:10.544582Z",
     "start_time": "2022-02-26T02:15:10.528365Z"
    }
   },
   "outputs": [
    {
     "data": {
      "text/plain": [
       "array([[  109,  1728,  1352, ...,  2640,   423,  1293],\n",
       "       [  370,   954,  2062, ...,  1163,  2421,  2108],\n",
       "       [ 2584,  2738,   368, ...,  2587,  3326,  1369],\n",
       "       ...,\n",
       "       [ 6664,  9148,  9149, ...,  3984,  4348,  4279],\n",
       "       [10165,  4736, 10180, ...,  5079,  5442,  6921],\n",
       "       [ 8013,  9044,  8881, ...,  5414, 10176,  6697]], dtype=int64)"
      ]
     },
     "execution_count": 23,
     "metadata": {},
     "output_type": "execute_result"
    }
   ],
   "source": [
    "indices"
   ]
  },
  {
   "cell_type": "code",
   "execution_count": 25,
   "id": "5bb90d14",
   "metadata": {
    "ExecuteTime": {
     "end_time": "2022-02-26T02:16:17.731373Z",
     "start_time": "2022-02-26T02:16:17.667672Z"
    }
   },
   "outputs": [
    {
     "name": "stdout",
     "output_type": "stream",
     "text": [
      "The song picked:  Eensy Weensy Spider\n",
      "\n",
      "Recommendations: \n"
     ]
    },
    {
     "data": {
      "text/html": [
       "<div>\n",
       "<style scoped>\n",
       "    .dataframe tbody tr th:only-of-type {\n",
       "        vertical-align: middle;\n",
       "    }\n",
       "\n",
       "    .dataframe tbody tr th {\n",
       "        vertical-align: top;\n",
       "    }\n",
       "\n",
       "    .dataframe thead th {\n",
       "        text-align: right;\n",
       "    }\n",
       "</style>\n",
       "<table border=\"1\" class=\"dataframe\">\n",
       "  <thead>\n",
       "    <tr style=\"text-align: right;\">\n",
       "      <th></th>\n",
       "      <th>Track_ID</th>\n",
       "      <th>Track_Name</th>\n",
       "      <th>preview_url</th>\n",
       "      <th>image_url</th>\n",
       "      <th>Artists</th>\n",
       "      <th>Age</th>\n",
       "      <th>popularity</th>\n",
       "      <th>danceability</th>\n",
       "      <th>energy</th>\n",
       "      <th>key</th>\n",
       "      <th>loudness</th>\n",
       "      <th>mode</th>\n",
       "      <th>speechiness</th>\n",
       "      <th>acousticness</th>\n",
       "      <th>instrumentalness</th>\n",
       "      <th>liveness</th>\n",
       "      <th>valence</th>\n",
       "      <th>tempo</th>\n",
       "      <th>duration_ms</th>\n",
       "      <th>time_signature</th>\n",
       "    </tr>\n",
       "  </thead>\n",
       "  <tbody>\n",
       "    <tr>\n",
       "      <th>2584</th>\n",
       "      <td>6l2pGDGFht56LhBKDB4GrI</td>\n",
       "      <td>A Song of One</td>\n",
       "      <td>https://p.scdn.co/mp3-preview/ff739b27169d20fd...</td>\n",
       "      <td>https://i.scdn.co/image/ab67616d0000b273723deb...</td>\n",
       "      <td>['Tom Chapin']</td>\n",
       "      <td>4</td>\n",
       "      <td>11</td>\n",
       "      <td>0.687</td>\n",
       "      <td>0.320</td>\n",
       "      <td>0</td>\n",
       "      <td>-14.580</td>\n",
       "      <td>1</td>\n",
       "      <td>0.0456</td>\n",
       "      <td>0.276</td>\n",
       "      <td>0.0046</td>\n",
       "      <td>0.0793</td>\n",
       "      <td>0.611</td>\n",
       "      <td>181.271</td>\n",
       "      <td>150573</td>\n",
       "      <td>4</td>\n",
       "    </tr>\n",
       "    <tr>\n",
       "      <th>2738</th>\n",
       "      <td>736FALfTOtXFwFSwM67qAC</td>\n",
       "      <td>My Aunt Came Back</td>\n",
       "      <td>https://p.scdn.co/mp3-preview/0392adbe8ad3c749...</td>\n",
       "      <td>https://i.scdn.co/image/ab67616d0000b273f4264d...</td>\n",
       "      <td>['The Learning Station']</td>\n",
       "      <td>4</td>\n",
       "      <td>6</td>\n",
       "      <td>0.861</td>\n",
       "      <td>0.641</td>\n",
       "      <td>0</td>\n",
       "      <td>-6.443</td>\n",
       "      <td>1</td>\n",
       "      <td>0.0602</td>\n",
       "      <td>0.746</td>\n",
       "      <td>0.0000</td>\n",
       "      <td>0.1230</td>\n",
       "      <td>0.966</td>\n",
       "      <td>102.036</td>\n",
       "      <td>84000</td>\n",
       "      <td>4</td>\n",
       "    </tr>\n",
       "    <tr>\n",
       "      <th>368</th>\n",
       "      <td>1vF1Fpou7IqNvmi3EQRS4t</td>\n",
       "      <td>The Shapes That Surround You</td>\n",
       "      <td>https://p.scdn.co/mp3-preview/1916ea9fab5f8db8...</td>\n",
       "      <td>https://i.scdn.co/image/ab67616d0000b273504563...</td>\n",
       "      <td>['Hap Palmer']</td>\n",
       "      <td>2</td>\n",
       "      <td>18</td>\n",
       "      <td>0.518</td>\n",
       "      <td>0.383</td>\n",
       "      <td>4</td>\n",
       "      <td>-12.235</td>\n",
       "      <td>1</td>\n",
       "      <td>0.0318</td>\n",
       "      <td>0.431</td>\n",
       "      <td>0.0000</td>\n",
       "      <td>0.3090</td>\n",
       "      <td>0.776</td>\n",
       "      <td>188.088</td>\n",
       "      <td>152760</td>\n",
       "      <td>3</td>\n",
       "    </tr>\n",
       "    <tr>\n",
       "      <th>5</th>\n",
       "      <td>7jet0teuZs6qvKqCbyPHJz</td>\n",
       "      <td>Hey Little Worm</td>\n",
       "      <td>https://p.scdn.co/mp3-preview/ddcacfd61522b06b...</td>\n",
       "      <td>https://i.scdn.co/image/ab67616d0000b273d61faa...</td>\n",
       "      <td>['Oscar the Grouch', 'The Sesame Street Grouch...</td>\n",
       "      <td>2</td>\n",
       "      <td>8</td>\n",
       "      <td>0.620</td>\n",
       "      <td>0.651</td>\n",
       "      <td>0</td>\n",
       "      <td>-6.745</td>\n",
       "      <td>1</td>\n",
       "      <td>0.0926</td>\n",
       "      <td>0.677</td>\n",
       "      <td>0.0000</td>\n",
       "      <td>0.3570</td>\n",
       "      <td>0.706</td>\n",
       "      <td>126.047</td>\n",
       "      <td>104440</td>\n",
       "      <td>4</td>\n",
       "    </tr>\n",
       "    <tr>\n",
       "      <th>281</th>\n",
       "      <td>21yqgjw9UTrcFW9IXVfqjI</td>\n",
       "      <td>Introduction to Olive Oil</td>\n",
       "      <td>https://p.scdn.co/mp3-preview/c6db9c79df1e4fef...</td>\n",
       "      <td>https://i.scdn.co/image/ab67616d0000b2730d5622...</td>\n",
       "      <td>['The Wiggles']</td>\n",
       "      <td>2</td>\n",
       "      <td>7</td>\n",
       "      <td>0.723</td>\n",
       "      <td>0.522</td>\n",
       "      <td>2</td>\n",
       "      <td>-9.512</td>\n",
       "      <td>1</td>\n",
       "      <td>0.9340</td>\n",
       "      <td>0.824</td>\n",
       "      <td>0.0000</td>\n",
       "      <td>0.2710</td>\n",
       "      <td>0.600</td>\n",
       "      <td>88.909</td>\n",
       "      <td>69547</td>\n",
       "      <td>4</td>\n",
       "    </tr>\n",
       "  </tbody>\n",
       "</table>\n",
       "</div>"
      ],
      "text/plain": [
       "                    Track_ID                    Track_Name  \\\n",
       "2584  6l2pGDGFht56LhBKDB4GrI                 A Song of One   \n",
       "2738  736FALfTOtXFwFSwM67qAC             My Aunt Came Back   \n",
       "368   1vF1Fpou7IqNvmi3EQRS4t  The Shapes That Surround You   \n",
       "5     7jet0teuZs6qvKqCbyPHJz               Hey Little Worm   \n",
       "281   21yqgjw9UTrcFW9IXVfqjI     Introduction to Olive Oil   \n",
       "\n",
       "                                            preview_url  \\\n",
       "2584  https://p.scdn.co/mp3-preview/ff739b27169d20fd...   \n",
       "2738  https://p.scdn.co/mp3-preview/0392adbe8ad3c749...   \n",
       "368   https://p.scdn.co/mp3-preview/1916ea9fab5f8db8...   \n",
       "5     https://p.scdn.co/mp3-preview/ddcacfd61522b06b...   \n",
       "281   https://p.scdn.co/mp3-preview/c6db9c79df1e4fef...   \n",
       "\n",
       "                                              image_url  \\\n",
       "2584  https://i.scdn.co/image/ab67616d0000b273723deb...   \n",
       "2738  https://i.scdn.co/image/ab67616d0000b273f4264d...   \n",
       "368   https://i.scdn.co/image/ab67616d0000b273504563...   \n",
       "5     https://i.scdn.co/image/ab67616d0000b273d61faa...   \n",
       "281   https://i.scdn.co/image/ab67616d0000b2730d5622...   \n",
       "\n",
       "                                                Artists  Age  popularity  \\\n",
       "2584                                     ['Tom Chapin']    4          11   \n",
       "2738                           ['The Learning Station']    4           6   \n",
       "368                                      ['Hap Palmer']    2          18   \n",
       "5     ['Oscar the Grouch', 'The Sesame Street Grouch...    2           8   \n",
       "281                                     ['The Wiggles']    2           7   \n",
       "\n",
       "      danceability  energy  key  loudness  mode  speechiness  acousticness  \\\n",
       "2584         0.687   0.320    0   -14.580     1       0.0456         0.276   \n",
       "2738         0.861   0.641    0    -6.443     1       0.0602         0.746   \n",
       "368          0.518   0.383    4   -12.235     1       0.0318         0.431   \n",
       "5            0.620   0.651    0    -6.745     1       0.0926         0.677   \n",
       "281          0.723   0.522    2    -9.512     1       0.9340         0.824   \n",
       "\n",
       "      instrumentalness  liveness  valence    tempo  duration_ms  \\\n",
       "2584            0.0046    0.0793    0.611  181.271       150573   \n",
       "2738            0.0000    0.1230    0.966  102.036        84000   \n",
       "368             0.0000    0.3090    0.776  188.088       152760   \n",
       "5               0.0000    0.3570    0.706  126.047       104440   \n",
       "281             0.0000    0.2710    0.600   88.909        69547   \n",
       "\n",
       "      time_signature  \n",
       "2584               4  \n",
       "2738               4  \n",
       "368                3  \n",
       "5                  4  \n",
       "281                4  "
      ]
     },
     "execution_count": 25,
     "metadata": {},
     "output_type": "execute_result"
    }
   ],
   "source": [
    "idx = 2\n",
    "\n",
    "print (\"The song picked: \", df.iloc[idx]['Track_Name'])\n",
    "\n",
    "recom_idx = indices[idx]\n",
    "\n",
    "print (\"\\nRecommendations: \")\n",
    "df.iloc[recom_idx][0:5]"
   ]
  },
  {
   "cell_type": "markdown",
   "id": "0bfcc597",
   "metadata": {},
   "source": [
    "### Write it as a python method"
   ]
  },
  {
   "cell_type": "code",
   "execution_count": 34,
   "id": "6c915a4b",
   "metadata": {
    "ExecuteTime": {
     "end_time": "2022-02-26T02:18:22.221963Z",
     "start_time": "2022-02-26T02:18:22.192115Z"
    }
   },
   "outputs": [],
   "source": [
    "def make_recommendation(idx, num=5):\n",
    "    dists, indices = knn.kneighbors()\n",
    "    num = min(num, 20)\n",
    "    return df.iloc[indices[idx]][0:num]"
   ]
  },
  {
   "cell_type": "code",
   "execution_count": 35,
   "id": "ce8c8c67",
   "metadata": {
    "ExecuteTime": {
     "end_time": "2022-02-26T02:18:24.789758Z",
     "start_time": "2022-02-26T02:18:24.113594Z"
    }
   },
   "outputs": [
    {
     "data": {
      "text/html": [
       "<div>\n",
       "<style scoped>\n",
       "    .dataframe tbody tr th:only-of-type {\n",
       "        vertical-align: middle;\n",
       "    }\n",
       "\n",
       "    .dataframe tbody tr th {\n",
       "        vertical-align: top;\n",
       "    }\n",
       "\n",
       "    .dataframe thead th {\n",
       "        text-align: right;\n",
       "    }\n",
       "</style>\n",
       "<table border=\"1\" class=\"dataframe\">\n",
       "  <thead>\n",
       "    <tr style=\"text-align: right;\">\n",
       "      <th></th>\n",
       "      <th>Track_ID</th>\n",
       "      <th>Track_Name</th>\n",
       "      <th>preview_url</th>\n",
       "      <th>image_url</th>\n",
       "      <th>Artists</th>\n",
       "      <th>Age</th>\n",
       "      <th>popularity</th>\n",
       "      <th>danceability</th>\n",
       "      <th>energy</th>\n",
       "      <th>key</th>\n",
       "      <th>loudness</th>\n",
       "      <th>mode</th>\n",
       "      <th>speechiness</th>\n",
       "      <th>acousticness</th>\n",
       "      <th>instrumentalness</th>\n",
       "      <th>liveness</th>\n",
       "      <th>valence</th>\n",
       "      <th>tempo</th>\n",
       "      <th>duration_ms</th>\n",
       "      <th>time_signature</th>\n",
       "    </tr>\n",
       "  </thead>\n",
       "  <tbody>\n",
       "    <tr>\n",
       "      <th>462</th>\n",
       "      <td>3mPHZwe70cl7GR5vtyYWi4</td>\n",
       "      <td>Space Explorers</td>\n",
       "      <td>https://p.scdn.co/mp3-preview/300e8b622a2a5dc5...</td>\n",
       "      <td>https://i.scdn.co/image/ab67616d0000b273392a05...</td>\n",
       "      <td>[\"Jack's Big Music Show Cast\"]</td>\n",
       "      <td>2</td>\n",
       "      <td>8</td>\n",
       "      <td>0.570</td>\n",
       "      <td>0.695</td>\n",
       "      <td>0</td>\n",
       "      <td>-6.825</td>\n",
       "      <td>1</td>\n",
       "      <td>0.0312</td>\n",
       "      <td>0.0250</td>\n",
       "      <td>0.00000</td>\n",
       "      <td>0.0708</td>\n",
       "      <td>0.335</td>\n",
       "      <td>144.879</td>\n",
       "      <td>120773</td>\n",
       "      <td>4</td>\n",
       "    </tr>\n",
       "    <tr>\n",
       "      <th>2738</th>\n",
       "      <td>736FALfTOtXFwFSwM67qAC</td>\n",
       "      <td>My Aunt Came Back</td>\n",
       "      <td>https://p.scdn.co/mp3-preview/0392adbe8ad3c749...</td>\n",
       "      <td>https://i.scdn.co/image/ab67616d0000b273f4264d...</td>\n",
       "      <td>['The Learning Station']</td>\n",
       "      <td>4</td>\n",
       "      <td>6</td>\n",
       "      <td>0.861</td>\n",
       "      <td>0.641</td>\n",
       "      <td>0</td>\n",
       "      <td>-6.443</td>\n",
       "      <td>1</td>\n",
       "      <td>0.0602</td>\n",
       "      <td>0.7460</td>\n",
       "      <td>0.00000</td>\n",
       "      <td>0.1230</td>\n",
       "      <td>0.966</td>\n",
       "      <td>102.036</td>\n",
       "      <td>84000</td>\n",
       "      <td>4</td>\n",
       "    </tr>\n",
       "    <tr>\n",
       "      <th>2305</th>\n",
       "      <td>3qNMAtCLwFemyXVBRcV757</td>\n",
       "      <td>Here Comes a Camel</td>\n",
       "      <td>https://p.scdn.co/mp3-preview/096d3b12cc40a29d...</td>\n",
       "      <td>https://i.scdn.co/image/ab67616d0000b2731dbf5f...</td>\n",
       "      <td>['The Wiggles']</td>\n",
       "      <td>3</td>\n",
       "      <td>10</td>\n",
       "      <td>0.804</td>\n",
       "      <td>0.716</td>\n",
       "      <td>0</td>\n",
       "      <td>-5.732</td>\n",
       "      <td>1</td>\n",
       "      <td>0.0374</td>\n",
       "      <td>0.2230</td>\n",
       "      <td>0.00000</td>\n",
       "      <td>0.1350</td>\n",
       "      <td>0.962</td>\n",
       "      <td>136.011</td>\n",
       "      <td>115507</td>\n",
       "      <td>4</td>\n",
       "    </tr>\n",
       "    <tr>\n",
       "      <th>2584</th>\n",
       "      <td>6l2pGDGFht56LhBKDB4GrI</td>\n",
       "      <td>A Song of One</td>\n",
       "      <td>https://p.scdn.co/mp3-preview/ff739b27169d20fd...</td>\n",
       "      <td>https://i.scdn.co/image/ab67616d0000b273723deb...</td>\n",
       "      <td>['Tom Chapin']</td>\n",
       "      <td>4</td>\n",
       "      <td>11</td>\n",
       "      <td>0.687</td>\n",
       "      <td>0.320</td>\n",
       "      <td>0</td>\n",
       "      <td>-14.580</td>\n",
       "      <td>1</td>\n",
       "      <td>0.0456</td>\n",
       "      <td>0.2760</td>\n",
       "      <td>0.00460</td>\n",
       "      <td>0.0793</td>\n",
       "      <td>0.611</td>\n",
       "      <td>181.271</td>\n",
       "      <td>150573</td>\n",
       "      <td>4</td>\n",
       "    </tr>\n",
       "    <tr>\n",
       "      <th>1848</th>\n",
       "      <td>5c0ujfluikmVGEuylO8vgl</td>\n",
       "      <td>Bailamos</td>\n",
       "      <td>https://p.scdn.co/mp3-preview/7552a1218cc4ab05...</td>\n",
       "      <td>https://i.scdn.co/image/ab67616d0000b27354c6df...</td>\n",
       "      <td>['Mister G']</td>\n",
       "      <td>2</td>\n",
       "      <td>8</td>\n",
       "      <td>0.671</td>\n",
       "      <td>0.767</td>\n",
       "      <td>2</td>\n",
       "      <td>-7.636</td>\n",
       "      <td>0</td>\n",
       "      <td>0.0587</td>\n",
       "      <td>0.0239</td>\n",
       "      <td>0.00925</td>\n",
       "      <td>0.0874</td>\n",
       "      <td>0.811</td>\n",
       "      <td>169.901</td>\n",
       "      <td>137893</td>\n",
       "      <td>4</td>\n",
       "    </tr>\n",
       "  </tbody>\n",
       "</table>\n",
       "</div>"
      ],
      "text/plain": [
       "                    Track_ID          Track_Name  \\\n",
       "462   3mPHZwe70cl7GR5vtyYWi4     Space Explorers   \n",
       "2738  736FALfTOtXFwFSwM67qAC   My Aunt Came Back   \n",
       "2305  3qNMAtCLwFemyXVBRcV757  Here Comes a Camel   \n",
       "2584  6l2pGDGFht56LhBKDB4GrI       A Song of One   \n",
       "1848  5c0ujfluikmVGEuylO8vgl            Bailamos   \n",
       "\n",
       "                                            preview_url  \\\n",
       "462   https://p.scdn.co/mp3-preview/300e8b622a2a5dc5...   \n",
       "2738  https://p.scdn.co/mp3-preview/0392adbe8ad3c749...   \n",
       "2305  https://p.scdn.co/mp3-preview/096d3b12cc40a29d...   \n",
       "2584  https://p.scdn.co/mp3-preview/ff739b27169d20fd...   \n",
       "1848  https://p.scdn.co/mp3-preview/7552a1218cc4ab05...   \n",
       "\n",
       "                                              image_url  \\\n",
       "462   https://i.scdn.co/image/ab67616d0000b273392a05...   \n",
       "2738  https://i.scdn.co/image/ab67616d0000b273f4264d...   \n",
       "2305  https://i.scdn.co/image/ab67616d0000b2731dbf5f...   \n",
       "2584  https://i.scdn.co/image/ab67616d0000b273723deb...   \n",
       "1848  https://i.scdn.co/image/ab67616d0000b27354c6df...   \n",
       "\n",
       "                             Artists  Age  popularity  danceability  energy  \\\n",
       "462   [\"Jack's Big Music Show Cast\"]    2           8         0.570   0.695   \n",
       "2738        ['The Learning Station']    4           6         0.861   0.641   \n",
       "2305                 ['The Wiggles']    3          10         0.804   0.716   \n",
       "2584                  ['Tom Chapin']    4          11         0.687   0.320   \n",
       "1848                    ['Mister G']    2           8         0.671   0.767   \n",
       "\n",
       "      key  loudness  mode  speechiness  acousticness  instrumentalness  \\\n",
       "462     0    -6.825     1       0.0312        0.0250           0.00000   \n",
       "2738    0    -6.443     1       0.0602        0.7460           0.00000   \n",
       "2305    0    -5.732     1       0.0374        0.2230           0.00000   \n",
       "2584    0   -14.580     1       0.0456        0.2760           0.00460   \n",
       "1848    2    -7.636     0       0.0587        0.0239           0.00925   \n",
       "\n",
       "      liveness  valence    tempo  duration_ms  time_signature  \n",
       "462     0.0708    0.335  144.879       120773               4  \n",
       "2738    0.1230    0.966  102.036        84000               4  \n",
       "2305    0.1350    0.962  136.011       115507               4  \n",
       "2584    0.0793    0.611  181.271       150573               4  \n",
       "1848    0.0874    0.811  169.901       137893               4  "
      ]
     },
     "execution_count": 35,
     "metadata": {},
     "output_type": "execute_result"
    }
   ],
   "source": [
    "make_recommendation(5)"
   ]
  },
  {
   "cell_type": "code",
   "execution_count": null,
   "id": "b282fbc7",
   "metadata": {},
   "outputs": [],
   "source": []
  }
 ],
 "metadata": {
  "kernelspec": {
   "display_name": "Python 3 (ipykernel)",
   "language": "python",
   "name": "python3"
  },
  "language_info": {
   "codemirror_mode": {
    "name": "ipython",
    "version": 3
   },
   "file_extension": ".py",
   "mimetype": "text/x-python",
   "name": "python",
   "nbconvert_exporter": "python",
   "pygments_lexer": "ipython3",
   "version": "3.9.10"
  }
 },
 "nbformat": 4,
 "nbformat_minor": 5
}
