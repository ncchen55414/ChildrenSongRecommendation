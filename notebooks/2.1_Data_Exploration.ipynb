{
 "cells": [
  {
   "cell_type": "markdown",
   "id": "780cc5a1",
   "metadata": {},
   "source": [
    "# Load Data Frames"
   ]
  },
  {
   "cell_type": "code",
   "execution_count": 1,
   "id": "d9271f2a",
   "metadata": {
    "ExecuteTime": {
     "end_time": "2022-02-26T02:04:21.779912Z",
     "start_time": "2022-02-26T02:04:17.569382Z"
    }
   },
   "outputs": [],
   "source": [
    "import pandas as pd\n",
    "import matplotlib.pyplot as plt\n",
    "import seaborn as sns\n",
    "sns.set()"
   ]
  },
  {
   "cell_type": "code",
   "execution_count": 2,
   "id": "65f62ac5",
   "metadata": {
    "ExecuteTime": {
     "end_time": "2022-02-26T02:04:21.863423Z",
     "start_time": "2022-02-26T02:04:21.783664Z"
    }
   },
   "outputs": [
    {
     "data": {
      "text/html": [
       "<div>\n",
       "<style scoped>\n",
       "    .dataframe tbody tr th:only-of-type {\n",
       "        vertical-align: middle;\n",
       "    }\n",
       "\n",
       "    .dataframe tbody tr th {\n",
       "        vertical-align: top;\n",
       "    }\n",
       "\n",
       "    .dataframe thead th {\n",
       "        text-align: right;\n",
       "    }\n",
       "</style>\n",
       "<table border=\"1\" class=\"dataframe\">\n",
       "  <thead>\n",
       "    <tr style=\"text-align: right;\">\n",
       "      <th></th>\n",
       "      <th>Age</th>\n",
       "      <th>Album_Name</th>\n",
       "      <th>Artist</th>\n",
       "      <th>Year</th>\n",
       "      <th>Description</th>\n",
       "      <th>Age Group</th>\n",
       "    </tr>\n",
       "  </thead>\n",
       "  <tbody>\n",
       "    <tr>\n",
       "      <th>0</th>\n",
       "      <td>2</td>\n",
       "      <td>Sesame Street: Halloween Collection</td>\n",
       "      <td>Sesame Street</td>\n",
       "      <td>2012</td>\n",
       "      <td>Playful, not-so-spooky Halloween songs for th...</td>\n",
       "      <td>Toodler</td>\n",
       "    </tr>\n",
       "    <tr>\n",
       "      <th>1</th>\n",
       "      <td>2</td>\n",
       "      <td>A Child's Celebration of Rock 'n' Roll</td>\n",
       "      <td>Various Artists</td>\n",
       "      <td>1996</td>\n",
       "      <td>Songs to get toddlers and teens energized.</td>\n",
       "      <td>Toodler</td>\n",
       "    </tr>\n",
       "    <tr>\n",
       "      <th>2</th>\n",
       "      <td>2</td>\n",
       "      <td>Wake up Jeff</td>\n",
       "      <td>The Wiggles</td>\n",
       "      <td>2000</td>\n",
       "      <td>Songs and scenes certain to keep kids attenti...</td>\n",
       "      <td>Toodler</td>\n",
       "    </tr>\n",
       "  </tbody>\n",
       "</table>\n",
       "</div>"
      ],
      "text/plain": [
       "   Age                              Album_Name           Artist  Year  \\\n",
       "0    2     Sesame Street: Halloween Collection    Sesame Street  2012   \n",
       "1    2  A Child's Celebration of Rock 'n' Roll  Various Artists  1996   \n",
       "2    2                            Wake up Jeff      The Wiggles  2000   \n",
       "\n",
       "                                         Description Age Group  \n",
       "0   Playful, not-so-spooky Halloween songs for th...   Toodler  \n",
       "1        Songs to get toddlers and teens energized.    Toodler  \n",
       "2   Songs and scenes certain to keep kids attenti...   Toodler  "
      ]
     },
     "execution_count": 2,
     "metadata": {},
     "output_type": "execute_result"
    }
   ],
   "source": [
    "album_age = pd.read_csv(\"../data/album_age_ratings.csv\")\n",
    "album_age.head(3)"
   ]
  },
  {
   "cell_type": "code",
   "execution_count": 3,
   "id": "bc262d4b",
   "metadata": {
    "ExecuteTime": {
     "end_time": "2022-02-26T02:04:21.946666Z",
     "start_time": "2022-02-26T02:04:21.863423Z"
    }
   },
   "outputs": [
    {
     "data": {
      "text/html": [
       "<div>\n",
       "<style scoped>\n",
       "    .dataframe tbody tr th:only-of-type {\n",
       "        vertical-align: middle;\n",
       "    }\n",
       "\n",
       "    .dataframe tbody tr th {\n",
       "        vertical-align: top;\n",
       "    }\n",
       "\n",
       "    .dataframe thead th {\n",
       "        text-align: right;\n",
       "    }\n",
       "</style>\n",
       "<table border=\"1\" class=\"dataframe\">\n",
       "  <thead>\n",
       "    <tr style=\"text-align: right;\">\n",
       "      <th></th>\n",
       "      <th>Album_Name</th>\n",
       "      <th>Artist</th>\n",
       "      <th>Album_ID</th>\n",
       "      <th>Album_Name_Spotify</th>\n",
       "      <th>Artists_Spotify</th>\n",
       "    </tr>\n",
       "  </thead>\n",
       "  <tbody>\n",
       "    <tr>\n",
       "      <th>0</th>\n",
       "      <td>Sesame Street: Halloween Collection</td>\n",
       "      <td>Sesame Street</td>\n",
       "      <td>3Bj9gANIphLWtsNj3mw1bI</td>\n",
       "      <td>Sesame Street: Halloween Collection</td>\n",
       "      <td>['Sesame Street']</td>\n",
       "    </tr>\n",
       "    <tr>\n",
       "      <th>1</th>\n",
       "      <td>Wake up Jeff</td>\n",
       "      <td>The Wiggles</td>\n",
       "      <td>6cf4favYRuUgEGrveVhwSU</td>\n",
       "      <td>It's Time to Wake up Jeff!</td>\n",
       "      <td>['The Wiggles']</td>\n",
       "    </tr>\n",
       "    <tr>\n",
       "      <th>2</th>\n",
       "      <td>Toot Toot!</td>\n",
       "      <td>The Wiggles</td>\n",
       "      <td>70kB7EJXi753JvYI7pDUT8</td>\n",
       "      <td>Toot Toot!</td>\n",
       "      <td>['The Wiggles']</td>\n",
       "    </tr>\n",
       "  </tbody>\n",
       "</table>\n",
       "</div>"
      ],
      "text/plain": [
       "                            Album_Name         Artist                Album_ID  \\\n",
       "0  Sesame Street: Halloween Collection  Sesame Street  3Bj9gANIphLWtsNj3mw1bI   \n",
       "1                         Wake up Jeff    The Wiggles  6cf4favYRuUgEGrveVhwSU   \n",
       "2                           Toot Toot!    The Wiggles  70kB7EJXi753JvYI7pDUT8   \n",
       "\n",
       "                    Album_Name_Spotify    Artists_Spotify  \n",
       "0  Sesame Street: Halloween Collection  ['Sesame Street']  \n",
       "1           It's Time to Wake up Jeff!    ['The Wiggles']  \n",
       "2                           Toot Toot!    ['The Wiggles']  "
      ]
     },
     "metadata": {},
     "output_type": "display_data"
    },
    {
     "data": {
      "text/html": [
       "<div>\n",
       "<style scoped>\n",
       "    .dataframe tbody tr th:only-of-type {\n",
       "        vertical-align: middle;\n",
       "    }\n",
       "\n",
       "    .dataframe tbody tr th {\n",
       "        vertical-align: top;\n",
       "    }\n",
       "\n",
       "    .dataframe thead th {\n",
       "        text-align: right;\n",
       "    }\n",
       "</style>\n",
       "<table border=\"1\" class=\"dataframe\">\n",
       "  <thead>\n",
       "    <tr style=\"text-align: right;\">\n",
       "      <th></th>\n",
       "      <th>Album_Name</th>\n",
       "      <th>Artist</th>\n",
       "      <th>Album_ID</th>\n",
       "      <th>Album_Name_Spotify</th>\n",
       "      <th>Artists_Spotify</th>\n",
       "      <th>Track_ID</th>\n",
       "    </tr>\n",
       "  </thead>\n",
       "  <tbody>\n",
       "    <tr>\n",
       "      <th>0</th>\n",
       "      <td>\"All Is Love\" (CD single)</td>\n",
       "      <td>Karen O and the Kids</td>\n",
       "      <td>58lyF4XIJENuFrTI0W2wXf</td>\n",
       "      <td>Where The Wild Things Are Motion Picture Sound...</td>\n",
       "      <td>['Karen O', 'The Kids']</td>\n",
       "      <td>6SExQ9H4mX00FIhjffFM2z</td>\n",
       "    </tr>\n",
       "    <tr>\n",
       "      <th>1</th>\n",
       "      <td>\"Wash Your Hands\" (CD single)</td>\n",
       "      <td>Bill Harley</td>\n",
       "      <td>2zEhdrppLh2x19soiy74yf</td>\n",
       "      <td>Wash Your Hands</td>\n",
       "      <td>['Bill Harley']</td>\n",
       "      <td>5gzOuRPg48fglThPc84goP</td>\n",
       "    </tr>\n",
       "    <tr>\n",
       "      <th>2</th>\n",
       "      <td>\"Just Like a Rockstar\" (CD Single)</td>\n",
       "      <td>The Fresh Beat Band</td>\n",
       "      <td>3VJeRrr9eaFzmaTZfDcbCO</td>\n",
       "      <td>Music from the Hit TV Show</td>\n",
       "      <td>['The Fresh Beat Band']</td>\n",
       "      <td>1b8NAn2ehmesKq4luLIfAc</td>\n",
       "    </tr>\n",
       "  </tbody>\n",
       "</table>\n",
       "</div>"
      ],
      "text/plain": [
       "                           Album_Name                Artist  \\\n",
       "0           \"All Is Love\" (CD single)  Karen O and the Kids   \n",
       "1       \"Wash Your Hands\" (CD single)           Bill Harley   \n",
       "2  \"Just Like a Rockstar\" (CD Single)   The Fresh Beat Band   \n",
       "\n",
       "                 Album_ID                                 Album_Name_Spotify  \\\n",
       "0  58lyF4XIJENuFrTI0W2wXf  Where The Wild Things Are Motion Picture Sound...   \n",
       "1  2zEhdrppLh2x19soiy74yf                                    Wash Your Hands   \n",
       "2  3VJeRrr9eaFzmaTZfDcbCO                         Music from the Hit TV Show   \n",
       "\n",
       "           Artists_Spotify                Track_ID  \n",
       "0  ['Karen O', 'The Kids']  6SExQ9H4mX00FIhjffFM2z  \n",
       "1          ['Bill Harley']  5gzOuRPg48fglThPc84goP  \n",
       "2  ['The Fresh Beat Band']  1b8NAn2ehmesKq4luLIfAc  "
      ]
     },
     "metadata": {},
     "output_type": "display_data"
    }
   ],
   "source": [
    "album_id = pd.read_csv(\"../data/album_ids.csv\")\n",
    "single_id = pd.read_csv(\"../data/single_ids.csv\")\n",
    "single_id = single_id.drop(columns=['Track_Name_Spotify'])\n",
    "\n",
    "display(album_id.head(3))\n",
    "display(single_id.head(3))"
   ]
  },
  {
   "cell_type": "code",
   "execution_count": 4,
   "id": "a1661e1d",
   "metadata": {
    "ExecuteTime": {
     "end_time": "2022-02-26T02:04:22.036990Z",
     "start_time": "2022-02-26T02:04:21.948659Z"
    }
   },
   "outputs": [
    {
     "name": "stdout",
     "output_type": "stream",
     "text": [
      "17507\n",
      "567\n"
     ]
    },
    {
     "data": {
      "text/html": [
       "<div>\n",
       "<style scoped>\n",
       "    .dataframe tbody tr th:only-of-type {\n",
       "        vertical-align: middle;\n",
       "    }\n",
       "\n",
       "    .dataframe tbody tr th {\n",
       "        vertical-align: top;\n",
       "    }\n",
       "\n",
       "    .dataframe thead th {\n",
       "        text-align: right;\n",
       "    }\n",
       "</style>\n",
       "<table border=\"1\" class=\"dataframe\">\n",
       "  <thead>\n",
       "    <tr style=\"text-align: right;\">\n",
       "      <th></th>\n",
       "      <th>Album_ID</th>\n",
       "      <th>Track_ID</th>\n",
       "    </tr>\n",
       "  </thead>\n",
       "  <tbody>\n",
       "    <tr>\n",
       "      <th>0</th>\n",
       "      <td>3Bj9gANIphLWtsNj3mw1bI</td>\n",
       "      <td>2FPQI1LRwWszttbRG8hknk</td>\n",
       "    </tr>\n",
       "    <tr>\n",
       "      <th>1</th>\n",
       "      <td>3Bj9gANIphLWtsNj3mw1bI</td>\n",
       "      <td>6pOoswwC1lNBI2TapMdaEW</td>\n",
       "    </tr>\n",
       "    <tr>\n",
       "      <th>2</th>\n",
       "      <td>3Bj9gANIphLWtsNj3mw1bI</td>\n",
       "      <td>2EEwSq98rKwlRWT7sNCLRc</td>\n",
       "    </tr>\n",
       "  </tbody>\n",
       "</table>\n",
       "</div>"
      ],
      "text/plain": [
       "                 Album_ID                Track_ID\n",
       "0  3Bj9gANIphLWtsNj3mw1bI  2FPQI1LRwWszttbRG8hknk\n",
       "1  3Bj9gANIphLWtsNj3mw1bI  6pOoswwC1lNBI2TapMdaEW\n",
       "2  3Bj9gANIphLWtsNj3mw1bI  2EEwSq98rKwlRWT7sNCLRc"
      ]
     },
     "metadata": {},
     "output_type": "display_data"
    },
    {
     "data": {
      "text/html": [
       "<div>\n",
       "<style scoped>\n",
       "    .dataframe tbody tr th:only-of-type {\n",
       "        vertical-align: middle;\n",
       "    }\n",
       "\n",
       "    .dataframe tbody tr th {\n",
       "        vertical-align: top;\n",
       "    }\n",
       "\n",
       "    .dataframe thead th {\n",
       "        text-align: right;\n",
       "    }\n",
       "</style>\n",
       "<table border=\"1\" class=\"dataframe\">\n",
       "  <thead>\n",
       "    <tr style=\"text-align: right;\">\n",
       "      <th></th>\n",
       "      <th>Album_Name</th>\n",
       "      <th>Artist</th>\n",
       "      <th>Album_ID</th>\n",
       "      <th>Album_Name_Spotify</th>\n",
       "      <th>Artists_Spotify</th>\n",
       "      <th>Track_ID</th>\n",
       "    </tr>\n",
       "  </thead>\n",
       "  <tbody>\n",
       "    <tr>\n",
       "      <th>0</th>\n",
       "      <td>\"All Is Love\" (CD single)</td>\n",
       "      <td>Karen O and the Kids</td>\n",
       "      <td>58lyF4XIJENuFrTI0W2wXf</td>\n",
       "      <td>Where The Wild Things Are Motion Picture Sound...</td>\n",
       "      <td>['Karen O', 'The Kids']</td>\n",
       "      <td>6SExQ9H4mX00FIhjffFM2z</td>\n",
       "    </tr>\n",
       "    <tr>\n",
       "      <th>1</th>\n",
       "      <td>\"Wash Your Hands\" (CD single)</td>\n",
       "      <td>Bill Harley</td>\n",
       "      <td>2zEhdrppLh2x19soiy74yf</td>\n",
       "      <td>Wash Your Hands</td>\n",
       "      <td>['Bill Harley']</td>\n",
       "      <td>5gzOuRPg48fglThPc84goP</td>\n",
       "    </tr>\n",
       "    <tr>\n",
       "      <th>2</th>\n",
       "      <td>\"Just Like a Rockstar\" (CD Single)</td>\n",
       "      <td>The Fresh Beat Band</td>\n",
       "      <td>3VJeRrr9eaFzmaTZfDcbCO</td>\n",
       "      <td>Music from the Hit TV Show</td>\n",
       "      <td>['The Fresh Beat Band']</td>\n",
       "      <td>1b8NAn2ehmesKq4luLIfAc</td>\n",
       "    </tr>\n",
       "  </tbody>\n",
       "</table>\n",
       "</div>"
      ],
      "text/plain": [
       "                           Album_Name                Artist  \\\n",
       "0           \"All Is Love\" (CD single)  Karen O and the Kids   \n",
       "1       \"Wash Your Hands\" (CD single)           Bill Harley   \n",
       "2  \"Just Like a Rockstar\" (CD Single)   The Fresh Beat Band   \n",
       "\n",
       "                 Album_ID                                 Album_Name_Spotify  \\\n",
       "0  58lyF4XIJENuFrTI0W2wXf  Where The Wild Things Are Motion Picture Sound...   \n",
       "1  2zEhdrppLh2x19soiy74yf                                    Wash Your Hands   \n",
       "2  3VJeRrr9eaFzmaTZfDcbCO                         Music from the Hit TV Show   \n",
       "\n",
       "           Artists_Spotify                Track_ID  \n",
       "0  ['Karen O', 'The Kids']  6SExQ9H4mX00FIhjffFM2z  \n",
       "1          ['Bill Harley']  5gzOuRPg48fglThPc84goP  \n",
       "2  ['The Fresh Beat Band']  1b8NAn2ehmesKq4luLIfAc  "
      ]
     },
     "metadata": {},
     "output_type": "display_data"
    }
   ],
   "source": [
    "album_tracks = pd.read_csv(\"../data/album_tracks.csv\")\n",
    "\n",
    "print (album_tracks.shape[0])\n",
    "print (single_id.shape[0])\n",
    "\n",
    "display(album_tracks.head(3))\n",
    "\n",
    "display(single_id.head(3))"
   ]
  },
  {
   "cell_type": "code",
   "execution_count": 5,
   "id": "34d093e3",
   "metadata": {
    "ExecuteTime": {
     "end_time": "2022-02-26T02:04:22.303741Z",
     "start_time": "2022-02-26T02:04:22.036990Z"
    }
   },
   "outputs": [
    {
     "name": "stdout",
     "output_type": "stream",
     "text": [
      "18049\n"
     ]
    },
    {
     "data": {
      "text/html": [
       "<div>\n",
       "<style scoped>\n",
       "    .dataframe tbody tr th:only-of-type {\n",
       "        vertical-align: middle;\n",
       "    }\n",
       "\n",
       "    .dataframe tbody tr th {\n",
       "        vertical-align: top;\n",
       "    }\n",
       "\n",
       "    .dataframe thead th {\n",
       "        text-align: right;\n",
       "    }\n",
       "</style>\n",
       "<table border=\"1\" class=\"dataframe\">\n",
       "  <thead>\n",
       "    <tr style=\"text-align: right;\">\n",
       "      <th></th>\n",
       "      <th>Track_ID</th>\n",
       "      <th>danceability</th>\n",
       "      <th>energy</th>\n",
       "      <th>key</th>\n",
       "      <th>loudness</th>\n",
       "      <th>mode</th>\n",
       "      <th>speechiness</th>\n",
       "      <th>acousticness</th>\n",
       "      <th>instrumentalness</th>\n",
       "      <th>liveness</th>\n",
       "      <th>valence</th>\n",
       "      <th>tempo</th>\n",
       "      <th>type</th>\n",
       "      <th>uri</th>\n",
       "      <th>track_href</th>\n",
       "      <th>analysis_url</th>\n",
       "      <th>duration_ms</th>\n",
       "      <th>time_signature</th>\n",
       "    </tr>\n",
       "  </thead>\n",
       "  <tbody>\n",
       "    <tr>\n",
       "      <th>0</th>\n",
       "      <td>2FPQI1LRwWszttbRG8hknk</td>\n",
       "      <td>0.738</td>\n",
       "      <td>0.544</td>\n",
       "      <td>7</td>\n",
       "      <td>-8.557</td>\n",
       "      <td>1</td>\n",
       "      <td>0.346</td>\n",
       "      <td>0.212</td>\n",
       "      <td>0.0</td>\n",
       "      <td>0.0937</td>\n",
       "      <td>0.961</td>\n",
       "      <td>144.448</td>\n",
       "      <td>audio_features</td>\n",
       "      <td>spotify:track:2FPQI1LRwWszttbRG8hknk</td>\n",
       "      <td>https://api.spotify.com/v1/tracks/2FPQI1LRwWsz...</td>\n",
       "      <td>https://api.spotify.com/v1/audio-analysis/2FPQ...</td>\n",
       "      <td>204267</td>\n",
       "      <td>4</td>\n",
       "    </tr>\n",
       "    <tr>\n",
       "      <th>1</th>\n",
       "      <td>6pOoswwC1lNBI2TapMdaEW</td>\n",
       "      <td>0.505</td>\n",
       "      <td>0.525</td>\n",
       "      <td>0</td>\n",
       "      <td>-10.897</td>\n",
       "      <td>1</td>\n",
       "      <td>0.109</td>\n",
       "      <td>0.355</td>\n",
       "      <td>0.0</td>\n",
       "      <td>0.1000</td>\n",
       "      <td>0.444</td>\n",
       "      <td>127.922</td>\n",
       "      <td>audio_features</td>\n",
       "      <td>spotify:track:6pOoswwC1lNBI2TapMdaEW</td>\n",
       "      <td>https://api.spotify.com/v1/tracks/6pOoswwC1lNB...</td>\n",
       "      <td>https://api.spotify.com/v1/audio-analysis/6pOo...</td>\n",
       "      <td>141240</td>\n",
       "      <td>4</td>\n",
       "    </tr>\n",
       "    <tr>\n",
       "      <th>2</th>\n",
       "      <td>2EEwSq98rKwlRWT7sNCLRc</td>\n",
       "      <td>0.875</td>\n",
       "      <td>0.338</td>\n",
       "      <td>0</td>\n",
       "      <td>-11.382</td>\n",
       "      <td>1</td>\n",
       "      <td>0.397</td>\n",
       "      <td>0.762</td>\n",
       "      <td>0.0</td>\n",
       "      <td>0.0992</td>\n",
       "      <td>0.962</td>\n",
       "      <td>116.027</td>\n",
       "      <td>audio_features</td>\n",
       "      <td>spotify:track:2EEwSq98rKwlRWT7sNCLRc</td>\n",
       "      <td>https://api.spotify.com/v1/tracks/2EEwSq98rKwl...</td>\n",
       "      <td>https://api.spotify.com/v1/audio-analysis/2EEw...</td>\n",
       "      <td>94693</td>\n",
       "      <td>4</td>\n",
       "    </tr>\n",
       "  </tbody>\n",
       "</table>\n",
       "</div>"
      ],
      "text/plain": [
       "                 Track_ID  danceability  energy  key  loudness  mode  \\\n",
       "0  2FPQI1LRwWszttbRG8hknk         0.738   0.544    7    -8.557     1   \n",
       "1  6pOoswwC1lNBI2TapMdaEW         0.505   0.525    0   -10.897     1   \n",
       "2  2EEwSq98rKwlRWT7sNCLRc         0.875   0.338    0   -11.382     1   \n",
       "\n",
       "   speechiness  acousticness  instrumentalness  liveness  valence    tempo  \\\n",
       "0        0.346         0.212               0.0    0.0937    0.961  144.448   \n",
       "1        0.109         0.355               0.0    0.1000    0.444  127.922   \n",
       "2        0.397         0.762               0.0    0.0992    0.962  116.027   \n",
       "\n",
       "             type                                   uri  \\\n",
       "0  audio_features  spotify:track:2FPQI1LRwWszttbRG8hknk   \n",
       "1  audio_features  spotify:track:6pOoswwC1lNBI2TapMdaEW   \n",
       "2  audio_features  spotify:track:2EEwSq98rKwlRWT7sNCLRc   \n",
       "\n",
       "                                          track_href  \\\n",
       "0  https://api.spotify.com/v1/tracks/2FPQI1LRwWsz...   \n",
       "1  https://api.spotify.com/v1/tracks/6pOoswwC1lNB...   \n",
       "2  https://api.spotify.com/v1/tracks/2EEwSq98rKwl...   \n",
       "\n",
       "                                        analysis_url  duration_ms  \\\n",
       "0  https://api.spotify.com/v1/audio-analysis/2FPQ...       204267   \n",
       "1  https://api.spotify.com/v1/audio-analysis/6pOo...       141240   \n",
       "2  https://api.spotify.com/v1/audio-analysis/2EEw...        94693   \n",
       "\n",
       "   time_signature  \n",
       "0               4  \n",
       "1               4  \n",
       "2               4  "
      ]
     },
     "execution_count": 5,
     "metadata": {},
     "output_type": "execute_result"
    }
   ],
   "source": [
    "track_features = pd.read_csv(\"../data/track_features.csv\")\n",
    "\n",
    "print (len(track_features))\n",
    "\n",
    "track_features.head(3)"
   ]
  },
  {
   "cell_type": "code",
   "execution_count": 6,
   "id": "ae55d9ab",
   "metadata": {
    "ExecuteTime": {
     "end_time": "2022-02-26T02:04:22.506432Z",
     "start_time": "2022-02-26T02:04:22.308140Z"
    },
    "scrolled": false
   },
   "outputs": [
    {
     "data": {
      "text/html": [
       "<div>\n",
       "<style scoped>\n",
       "    .dataframe tbody tr th:only-of-type {\n",
       "        vertical-align: middle;\n",
       "    }\n",
       "\n",
       "    .dataframe tbody tr th {\n",
       "        vertical-align: top;\n",
       "    }\n",
       "\n",
       "    .dataframe thead th {\n",
       "        text-align: right;\n",
       "    }\n",
       "</style>\n",
       "<table border=\"1\" class=\"dataframe\">\n",
       "  <thead>\n",
       "    <tr style=\"text-align: right;\">\n",
       "      <th></th>\n",
       "      <th>Track_ID</th>\n",
       "      <th>ISRC</th>\n",
       "      <th>Track_Name</th>\n",
       "      <th>Artists</th>\n",
       "      <th>popularity</th>\n",
       "      <th>preview_url</th>\n",
       "      <th>image_url</th>\n",
       "    </tr>\n",
       "  </thead>\n",
       "  <tbody>\n",
       "    <tr>\n",
       "      <th>0</th>\n",
       "      <td>2FPQI1LRwWszttbRG8hknk</td>\n",
       "      <td>USSM19601624</td>\n",
       "      <td>Games Monsters Play</td>\n",
       "      <td>['Herry Monster', 'Grover']</td>\n",
       "      <td>5</td>\n",
       "      <td>https://p.scdn.co/mp3-preview/33cc59cc1836954e...</td>\n",
       "      <td>https://i.scdn.co/image/ab67616d0000b273d61faa...</td>\n",
       "    </tr>\n",
       "    <tr>\n",
       "      <th>1</th>\n",
       "      <td>6pOoswwC1lNBI2TapMdaEW</td>\n",
       "      <td>USSM19600385</td>\n",
       "      <td>Afraid of the Dark</td>\n",
       "      <td>['Telly Monster']</td>\n",
       "      <td>5</td>\n",
       "      <td>https://p.scdn.co/mp3-preview/cf340f0b536edadd...</td>\n",
       "      <td>https://i.scdn.co/image/ab67616d0000b273d61faa...</td>\n",
       "    </tr>\n",
       "    <tr>\n",
       "      <th>2</th>\n",
       "      <td>2EEwSq98rKwlRWT7sNCLRc</td>\n",
       "      <td>USSM19700463</td>\n",
       "      <td>Eensy Weensy Spider</td>\n",
       "      <td>['Count Von Count', 'The Sesame Street Kids']</td>\n",
       "      <td>9</td>\n",
       "      <td>https://p.scdn.co/mp3-preview/4cdc12aaeb7da4b7...</td>\n",
       "      <td>https://i.scdn.co/image/ab67616d0000b273d61faa...</td>\n",
       "    </tr>\n",
       "  </tbody>\n",
       "</table>\n",
       "</div>"
      ],
      "text/plain": [
       "                 Track_ID          ISRC           Track_Name  \\\n",
       "0  2FPQI1LRwWszttbRG8hknk  USSM19601624  Games Monsters Play   \n",
       "1  6pOoswwC1lNBI2TapMdaEW  USSM19600385   Afraid of the Dark   \n",
       "2  2EEwSq98rKwlRWT7sNCLRc  USSM19700463  Eensy Weensy Spider   \n",
       "\n",
       "                                         Artists  popularity  \\\n",
       "0                    ['Herry Monster', 'Grover']           5   \n",
       "1                              ['Telly Monster']           5   \n",
       "2  ['Count Von Count', 'The Sesame Street Kids']           9   \n",
       "\n",
       "                                         preview_url  \\\n",
       "0  https://p.scdn.co/mp3-preview/33cc59cc1836954e...   \n",
       "1  https://p.scdn.co/mp3-preview/cf340f0b536edadd...   \n",
       "2  https://p.scdn.co/mp3-preview/4cdc12aaeb7da4b7...   \n",
       "\n",
       "                                           image_url  \n",
       "0  https://i.scdn.co/image/ab67616d0000b273d61faa...  \n",
       "1  https://i.scdn.co/image/ab67616d0000b273d61faa...  \n",
       "2  https://i.scdn.co/image/ab67616d0000b273d61faa...  "
      ]
     },
     "execution_count": 6,
     "metadata": {},
     "output_type": "execute_result"
    }
   ],
   "source": [
    "track_isrc = pd.read_csv(\"../data/track_isrc.csv\")\n",
    "track_isrc.head(3)"
   ]
  },
  {
   "cell_type": "code",
   "execution_count": 7,
   "id": "c2cb5d26",
   "metadata": {
    "ExecuteTime": {
     "end_time": "2022-02-26T02:04:22.988469Z",
     "start_time": "2022-02-26T02:04:22.506432Z"
    }
   },
   "outputs": [
    {
     "data": {
      "text/html": [
       "<div>\n",
       "<style scoped>\n",
       "    .dataframe tbody tr th:only-of-type {\n",
       "        vertical-align: middle;\n",
       "    }\n",
       "\n",
       "    .dataframe tbody tr th {\n",
       "        vertical-align: top;\n",
       "    }\n",
       "\n",
       "    .dataframe thead th {\n",
       "        text-align: right;\n",
       "    }\n",
       "</style>\n",
       "<table border=\"1\" class=\"dataframe\">\n",
       "  <thead>\n",
       "    <tr style=\"text-align: right;\">\n",
       "      <th></th>\n",
       "      <th>ISRC</th>\n",
       "      <th>lyrics</th>\n",
       "    </tr>\n",
       "  </thead>\n",
       "  <tbody>\n",
       "    <tr>\n",
       "      <th>0</th>\n",
       "      <td>USSM19501849</td>\n",
       "      <td>In old Transylvania when I was a lad\\nOur cast...</td>\n",
       "    </tr>\n",
       "    <tr>\n",
       "      <th>1</th>\n",
       "      <td>USSM19500703</td>\n",
       "      <td>Saw a monster in the mirror when I woke up tod...</td>\n",
       "    </tr>\n",
       "    <tr>\n",
       "      <th>2</th>\n",
       "      <td>AUAB00600173</td>\n",
       "      <td>The Big Red Car rolls along the street\\nAnd to...</td>\n",
       "    </tr>\n",
       "  </tbody>\n",
       "</table>\n",
       "</div>"
      ],
      "text/plain": [
       "           ISRC                                             lyrics\n",
       "0  USSM19501849  In old Transylvania when I was a lad\\nOur cast...\n",
       "1  USSM19500703  Saw a monster in the mirror when I woke up tod...\n",
       "2  AUAB00600173  The Big Red Car rolls along the street\\nAnd to..."
      ]
     },
     "metadata": {},
     "output_type": "display_data"
    },
    {
     "name": "stdout",
     "output_type": "stream",
     "text": [
      "Number of lyrics:  12486\n"
     ]
    }
   ],
   "source": [
    "lyrics_df = pd.read_csv(\"../data/lyrics.csv\")\n",
    "lyrics_df = lyrics_df.drop_duplicates()\n",
    "display(lyrics_df.head(3))\n",
    "print (\"Number of lyrics: \", lyrics_df.shape[0])"
   ]
  },
  {
   "cell_type": "markdown",
   "id": "85c47cb0",
   "metadata": {},
   "source": [
    "# Join Them All"
   ]
  },
  {
   "cell_type": "code",
   "execution_count": 8,
   "id": "c60e3432",
   "metadata": {
    "ExecuteTime": {
     "end_time": "2022-02-26T02:04:23.101664Z",
     "start_time": "2022-02-26T02:04:22.991080Z"
    }
   },
   "outputs": [],
   "source": [
    "from functools import reduce\n",
    "songs_album = reduce(pd.merge, [album_age, album_id, album_tracks, track_isrc])\n",
    "songs_single = reduce(pd.merge, [album_age, single_id, track_isrc])"
   ]
  },
  {
   "cell_type": "code",
   "execution_count": 9,
   "id": "68a5ef0e",
   "metadata": {
    "ExecuteTime": {
     "end_time": "2022-02-26T02:04:23.126601Z",
     "start_time": "2022-02-26T02:04:23.103453Z"
    }
   },
   "outputs": [
    {
     "name": "stdout",
     "output_type": "stream",
     "text": [
      "(17825, 16)\n",
      "(806, 16)\n"
     ]
    }
   ],
   "source": [
    "print (songs_album.shape)\n",
    "print (songs_single.shape)"
   ]
  },
  {
   "cell_type": "code",
   "execution_count": 10,
   "id": "9bbe8b33",
   "metadata": {
    "ExecuteTime": {
     "end_time": "2022-02-26T02:04:23.251462Z",
     "start_time": "2022-02-26T02:04:23.129841Z"
    }
   },
   "outputs": [],
   "source": [
    "df = pd.concat([songs_album, songs_single])\n",
    "df = pd.merge(df, track_features, how='left')\n",
    "df = pd.merge(df, lyrics_df, how='left')"
   ]
  },
  {
   "cell_type": "code",
   "execution_count": 11,
   "id": "5cfb3b6c",
   "metadata": {
    "ExecuteTime": {
     "end_time": "2022-02-26T02:04:23.395174Z",
     "start_time": "2022-02-26T02:04:23.253404Z"
    }
   },
   "outputs": [
    {
     "name": "stdout",
     "output_type": "stream",
     "text": [
      "(19560, 34)\n",
      "\n",
      "Columns with null values: \n"
     ]
    },
    {
     "data": {
      "text/html": [
       "<div>\n",
       "<style scoped>\n",
       "    .dataframe tbody tr th:only-of-type {\n",
       "        vertical-align: middle;\n",
       "    }\n",
       "\n",
       "    .dataframe tbody tr th {\n",
       "        vertical-align: top;\n",
       "    }\n",
       "\n",
       "    .dataframe thead th {\n",
       "        text-align: right;\n",
       "    }\n",
       "</style>\n",
       "<table border=\"1\" class=\"dataframe\">\n",
       "  <thead>\n",
       "    <tr style=\"text-align: right;\">\n",
       "      <th></th>\n",
       "      <th>preview_url</th>\n",
       "      <th>danceability</th>\n",
       "      <th>energy</th>\n",
       "      <th>key</th>\n",
       "      <th>loudness</th>\n",
       "      <th>mode</th>\n",
       "      <th>speechiness</th>\n",
       "      <th>acousticness</th>\n",
       "      <th>instrumentalness</th>\n",
       "      <th>liveness</th>\n",
       "      <th>valence</th>\n",
       "      <th>tempo</th>\n",
       "      <th>type</th>\n",
       "      <th>uri</th>\n",
       "      <th>track_href</th>\n",
       "      <th>analysis_url</th>\n",
       "      <th>duration_ms</th>\n",
       "      <th>time_signature</th>\n",
       "      <th>lyrics</th>\n",
       "    </tr>\n",
       "  </thead>\n",
       "  <tbody>\n",
       "    <tr>\n",
       "      <th>null_count</th>\n",
       "      <td>8688</td>\n",
       "      <td>33</td>\n",
       "      <td>33</td>\n",
       "      <td>33</td>\n",
       "      <td>33</td>\n",
       "      <td>33</td>\n",
       "      <td>33</td>\n",
       "      <td>33</td>\n",
       "      <td>33</td>\n",
       "      <td>33</td>\n",
       "      <td>33</td>\n",
       "      <td>33</td>\n",
       "      <td>33</td>\n",
       "      <td>33</td>\n",
       "      <td>33</td>\n",
       "      <td>33</td>\n",
       "      <td>33</td>\n",
       "      <td>33</td>\n",
       "      <td>5290</td>\n",
       "    </tr>\n",
       "  </tbody>\n",
       "</table>\n",
       "</div>"
      ],
      "text/plain": [
       "            preview_url  danceability  energy  key  loudness  mode  \\\n",
       "null_count         8688            33      33   33        33    33   \n",
       "\n",
       "            speechiness  acousticness  instrumentalness  liveness  valence  \\\n",
       "null_count           33            33                33        33       33   \n",
       "\n",
       "            tempo  type  uri  track_href  analysis_url  duration_ms  \\\n",
       "null_count     33    33   33          33            33           33   \n",
       "\n",
       "            time_signature  lyrics  \n",
       "null_count              33    5290  "
      ]
     },
     "execution_count": 11,
     "metadata": {},
     "output_type": "execute_result"
    }
   ],
   "source": [
    "print (df.shape)\n",
    "df_null = df.isnull().sum().to_frame().rename(columns={0: 'null_count'})\n",
    "print (\"\\nColumns with null values: \")\n",
    "df_null[df_null['null_count']!=0].T"
   ]
  },
  {
   "cell_type": "code",
   "execution_count": 12,
   "id": "dcda3b93",
   "metadata": {
    "ExecuteTime": {
     "end_time": "2022-02-26T02:04:25.007580Z",
     "start_time": "2022-02-26T02:04:23.395174Z"
    }
   },
   "outputs": [],
   "source": [
    "df.to_csv(\"../data/all.csv\", index=False)"
   ]
  },
  {
   "cell_type": "code",
   "execution_count": 17,
   "id": "cfffc481",
   "metadata": {
    "ExecuteTime": {
     "end_time": "2022-02-26T02:05:48.644814Z",
     "start_time": "2022-02-26T02:05:48.631890Z"
    }
   },
   "outputs": [
    {
     "data": {
      "text/plain": [
       "Index(['Age', 'Album_Name', 'Artist', 'Year', 'Description', 'Age Group',\n",
       "       'Album_ID', 'Album_Name_Spotify', 'Artists_Spotify', 'Track_ID', 'ISRC',\n",
       "       'Track_Name', 'Artists', 'popularity', 'preview_url', 'image_url',\n",
       "       'danceability', 'energy', 'key', 'loudness', 'mode', 'speechiness',\n",
       "       'acousticness', 'instrumentalness', 'liveness', 'valence', 'tempo',\n",
       "       'type', 'uri', 'track_href', 'analysis_url', 'duration_ms',\n",
       "       'time_signature', 'lyrics'],\n",
       "      dtype='object')"
      ]
     },
     "execution_count": 17,
     "metadata": {},
     "output_type": "execute_result"
    }
   ],
   "source": [
    "df.columns"
   ]
  },
  {
   "cell_type": "code",
   "execution_count": 13,
   "id": "2076472d",
   "metadata": {
    "ExecuteTime": {
     "end_time": "2022-02-26T02:04:26.136449Z",
     "start_time": "2022-02-26T02:04:25.009251Z"
    }
   },
   "outputs": [
    {
     "name": "stdout",
     "output_type": "stream",
     "text": [
      "df shape:  (19560, 34)\n",
      "number of duplicated rows:  1412\n",
      "After drop duplicated rows: (18148, 34)\n",
      "Age                      17\n",
      "Album_Name             1735\n",
      "Artist                  818\n",
      "Year                     46\n",
      "Description            1747\n",
      "Age Group                 7\n",
      "Album_ID               1456\n",
      "Album_Name_Spotify     1434\n",
      "Artists_Spotify         878\n",
      "Track_ID              17827\n",
      "dtype: int64\n"
     ]
    }
   ],
   "source": [
    "df = pd.read_csv(\"../data/all.csv\")\n",
    "\n",
    "print (\"df shape: \", df.shape)\n",
    "print (\"number of duplicated rows: \", df.duplicated().sum())\n",
    "df = df.drop_duplicates()\n",
    "print (\"After drop duplicated rows:\", df.shape)\n",
    "print (df.nunique()[0:10])"
   ]
  },
  {
   "cell_type": "markdown",
   "id": "1ee3050f",
   "metadata": {},
   "source": [
    "# Number of tracks with lyrics, By age"
   ]
  },
  {
   "cell_type": "code",
   "execution_count": 14,
   "id": "03618fe6",
   "metadata": {
    "ExecuteTime": {
     "end_time": "2022-02-26T02:04:26.987081Z",
     "start_time": "2022-02-26T02:04:26.142139Z"
    }
   },
   "outputs": [
    {
     "name": "stdout",
     "output_type": "stream",
     "text": [
      "Number of albums Tracks with lyrics:  12948\n"
     ]
    },
    {
     "data": {
      "image/png": "[encoded data removed]",
      "text/plain": [
       "<Figure size 432x288 with 1 Axes>"
      ]
     },
     "metadata": {},
     "output_type": "display_data"
    }
   ],
   "source": [
    "age_lyrics = df[~df['lyrics'].isnull()]\n",
    "\n",
    "print (\"Number of albums Tracks with lyrics: \", age_lyrics.shape[0])\n",
    "\n",
    "plt.figure(\"Number of albums\")\n",
    "plt.rcParams[\"figure.figsize\"] = (8,8)\n",
    "sns.histplot(age_lyrics,x='Age',color='r', label='tracks', alpha = 1)\n",
    "plt.xticks(range(2,19),range(2,19))\n",
    "plt.legend()\n",
    "plt.show()"
   ]
  },
  {
   "cell_type": "markdown",
   "id": "a5843c7c",
   "metadata": {},
   "source": [
    "# Number of Tracks with lyrics, by Age Group"
   ]
  },
  {
   "cell_type": "code",
   "execution_count": 15,
   "id": "aa5cd946",
   "metadata": {
    "ExecuteTime": {
     "end_time": "2022-02-26T02:04:27.460004Z",
     "start_time": "2022-02-26T02:04:26.989672Z"
    }
   },
   "outputs": [
    {
     "name": "stdout",
     "output_type": "stream",
     "text": [
      "Number of albums Tracks with lyrics:  12948\n"
     ]
    },
    {
     "data": {
      "image/png": "[encoded data removed]",
      "text/plain": [
       "<Figure size 576x576 with 1 Axes>"
      ]
     },
     "metadata": {},
     "output_type": "display_data"
    }
   ],
   "source": [
    "age_lyrics = df[~df['lyrics'].isnull()]\n",
    "\n",
    "print (\"Number of albums Tracks with lyrics: \", age_lyrics.shape[0])\n",
    "\n",
    "age_groups  = ['Toodler', 'Pre-Schooler', 'Middle Childhood 1','Middle Childhood 2',\n",
    "               \"Young Teen\", \"Teenager\", \"Adult\" ]\n",
    "\n",
    "\n",
    "#plt.figure(\"Number of lyrics\")\n",
    "plt.rcParams[\"figure.figsize\"] = (8,8)\n",
    "sns.histplot(age_lyrics, y='Age Group', bins=7,color='b', label='tracks', alpha = 1)\n",
    "plt.yticks(range(0,7), age_groups)\n",
    "plt.legend()\n",
    "plt.show()\n"
   ]
  },
  {
   "cell_type": "code",
   "execution_count": null,
   "id": "4cba9878",
   "metadata": {},
   "outputs": [],
   "source": []
  }
 ],
 "metadata": {
  "kernelspec": {
   "display_name": "Python 3 (ipykernel)",
   "language": "python",
   "name": "python3"
  },
  "language_info": {
   "codemirror_mode": {
    "name": "ipython",
    "version": 3
   },
   "file_extension": ".py",
   "mimetype": "text/x-python",
   "name": "python",
   "nbconvert_exporter": "python",
   "pygments_lexer": "ipython3",
   "version": "3.9.10"
  }
 },
 "nbformat": 4,
 "nbformat_minor": 5
}
