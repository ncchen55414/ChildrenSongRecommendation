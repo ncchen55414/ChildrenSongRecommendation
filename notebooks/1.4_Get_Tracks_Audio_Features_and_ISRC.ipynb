{
 "cells": [
  {
   "cell_type": "markdown",
   "id": "0c47be4d",
   "metadata": {},
   "source": [
    "# Summary:\n",
    "\n",
    "For each track with track_id, get audio features, ISRC, and other track data. ISRC will be used to find lyrics in the next notebook.\n",
    "\n",
    "## Input: \n",
    " - 18074 tracks with track_id.\n",
    "\n",
    "## Ouput:\n",
    " - 18049 tracks have audio features. The [13 audio features](https://developer.spotify.com/documentation/web-api/reference/#/operations/get-audio-features) are: danceability, energy, key, loudness, mode, speechiness, acousticness, instrumentalness, liveness, valence, tempo, duration_ms, time_signature.\n",
    " \n",
    "- 18074 tracks have ISRC, and other information including popularity and preview_url. "
   ]
  },
  {
   "cell_type": "markdown",
   "id": "83ce5ea0",
   "metadata": {
    "heading_collapsed": true
   },
   "source": [
    "# Import modules and credentials"
   ]
  },
  {
   "cell_type": "code",
   "execution_count": 1,
   "id": "d7cc9411",
   "metadata": {
    "ExecuteTime": {
     "end_time": "2022-02-09T01:33:56.554796Z",
     "start_time": "2022-02-09T01:33:52.673757Z"
    },
    "hidden": true
   },
   "outputs": [],
   "source": [
    "import numpy as np\n",
    "import pandas as pd\n",
    "import matplotlib.pyplot as plt\n",
    "import seaborn as sns\n",
    "sns.set()\n",
    "import spotipy\n",
    "import os\n",
    "import sys\n",
    "import re\n",
    "import time \n",
    "%matplotlib inline\n",
    "\n",
    "import spotipy\n",
    "from spotipy.oauth2 import SpotifyClientCredentials\n",
    "\n",
    "from dotenv import load_dotenv\n",
    "%load_ext dotenv\n",
    "%dotenv\n",
    "\n",
    "\n",
    "client_id = os.environ['SPOTIFY_CLIENT_ID']\n",
    "client_secret = os.environ['SPOTIFY_CLIENT_SECRET']\n",
    "spotify = spotipy.Spotify(\n",
    "    client_credentials_manager=SpotifyClientCredentials(client_id = client_id, client_secret=client_secret))"
   ]
  },
  {
   "cell_type": "markdown",
   "id": "981e8600",
   "metadata": {
    "heading_collapsed": true
   },
   "source": [
    "# Load Track IDs"
   ]
  },
  {
   "cell_type": "code",
   "execution_count": 2,
   "id": "c88d7ca3",
   "metadata": {
    "ExecuteTime": {
     "end_time": "2022-02-09T01:34:00.296134Z",
     "start_time": "2022-02-09T01:34:00.231972Z"
    },
    "hidden": true
   },
   "outputs": [
    {
     "data": {
      "text/html": [
       "<div>\n",
       "<style scoped>\n",
       "    .dataframe tbody tr th:only-of-type {\n",
       "        vertical-align: middle;\n",
       "    }\n",
       "\n",
       "    .dataframe tbody tr th {\n",
       "        vertical-align: top;\n",
       "    }\n",
       "\n",
       "    .dataframe thead th {\n",
       "        text-align: right;\n",
       "    }\n",
       "</style>\n",
       "<table border=\"1\" class=\"dataframe\">\n",
       "  <thead>\n",
       "    <tr style=\"text-align: right;\">\n",
       "      <th></th>\n",
       "      <th>Album_ID</th>\n",
       "      <th>Track_ID</th>\n",
       "    </tr>\n",
       "  </thead>\n",
       "  <tbody>\n",
       "    <tr>\n",
       "      <th>0</th>\n",
       "      <td>3Bj9gANIphLWtsNj3mw1bI</td>\n",
       "      <td>2FPQI1LRwWszttbRG8hknk</td>\n",
       "    </tr>\n",
       "    <tr>\n",
       "      <th>1</th>\n",
       "      <td>3Bj9gANIphLWtsNj3mw1bI</td>\n",
       "      <td>6pOoswwC1lNBI2TapMdaEW</td>\n",
       "    </tr>\n",
       "    <tr>\n",
       "      <th>2</th>\n",
       "      <td>3Bj9gANIphLWtsNj3mw1bI</td>\n",
       "      <td>2EEwSq98rKwlRWT7sNCLRc</td>\n",
       "    </tr>\n",
       "  </tbody>\n",
       "</table>\n",
       "</div>"
      ],
      "text/plain": [
       "                 Album_ID                Track_ID\n",
       "0  3Bj9gANIphLWtsNj3mw1bI  2FPQI1LRwWszttbRG8hknk\n",
       "1  3Bj9gANIphLWtsNj3mw1bI  6pOoswwC1lNBI2TapMdaEW\n",
       "2  3Bj9gANIphLWtsNj3mw1bI  2EEwSq98rKwlRWT7sNCLRc"
      ]
     },
     "metadata": {},
     "output_type": "display_data"
    },
    {
     "data": {
      "text/html": [
       "<div>\n",
       "<style scoped>\n",
       "    .dataframe tbody tr th:only-of-type {\n",
       "        vertical-align: middle;\n",
       "    }\n",
       "\n",
       "    .dataframe tbody tr th {\n",
       "        vertical-align: top;\n",
       "    }\n",
       "\n",
       "    .dataframe thead th {\n",
       "        text-align: right;\n",
       "    }\n",
       "</style>\n",
       "<table border=\"1\" class=\"dataframe\">\n",
       "  <thead>\n",
       "    <tr style=\"text-align: right;\">\n",
       "      <th></th>\n",
       "      <th>Album_Name</th>\n",
       "      <th>Track_ID</th>\n",
       "    </tr>\n",
       "  </thead>\n",
       "  <tbody>\n",
       "    <tr>\n",
       "      <th>0</th>\n",
       "      <td>\"All Is Love\" (CD single)</td>\n",
       "      <td>6SExQ9H4mX00FIhjffFM2z</td>\n",
       "    </tr>\n",
       "    <tr>\n",
       "      <th>1</th>\n",
       "      <td>\"Wash Your Hands\" (CD single)</td>\n",
       "      <td>5gzOuRPg48fglThPc84goP</td>\n",
       "    </tr>\n",
       "    <tr>\n",
       "      <th>2</th>\n",
       "      <td>\"Just Like a Rockstar\" (CD Single)</td>\n",
       "      <td>1b8NAn2ehmesKq4luLIfAc</td>\n",
       "    </tr>\n",
       "  </tbody>\n",
       "</table>\n",
       "</div>"
      ],
      "text/plain": [
       "                           Album_Name                Track_ID\n",
       "0           \"All Is Love\" (CD single)  6SExQ9H4mX00FIhjffFM2z\n",
       "1       \"Wash Your Hands\" (CD single)  5gzOuRPg48fglThPc84goP\n",
       "2  \"Just Like a Rockstar\" (CD Single)  1b8NAn2ehmesKq4luLIfAc"
      ]
     },
     "metadata": {},
     "output_type": "display_data"
    },
    {
     "name": "stdout",
     "output_type": "stream",
     "text": [
      "Number of tracks (from albums excluding singles):  17507\n",
      "Number of tracks (from singles):  567\n",
      "Total Number of tracks:  18074\n"
     ]
    }
   ],
   "source": [
    "album_tracks_df = pd.read_csv(\"../data/album_tracks.csv\")\n",
    "single_tracks_df = pd.read_csv(\"../data/single_ids.csv\")\n",
    "\n",
    "\n",
    "display(album_tracks_df.head(3))\n",
    "display(single_tracks_df[['Album_Name','Track_ID']].head(3))\n",
    "\n",
    "print (\"Number of tracks (from albums excluding singles): \", album_tracks_df.shape[0])\n",
    "print (\"Number of tracks (from singles): \", single_tracks_df.shape[0])\n",
    "print (\"Total Number of tracks: \", album_tracks_df.shape[0]+single_tracks_df.shape[0])"
   ]
  },
  {
   "cell_type": "markdown",
   "id": "dd5911c5",
   "metadata": {
    "heading_collapsed": true
   },
   "source": [
    "# Examples: Get audio features and track data"
   ]
  },
  {
   "cell_type": "markdown",
   "id": "e6d2d29e",
   "metadata": {
    "heading_collapsed": true,
    "hidden": true
   },
   "source": [
    "## Example: Get audio features "
   ]
  },
  {
   "cell_type": "code",
   "execution_count": 4,
   "id": "610ee78b",
   "metadata": {
    "ExecuteTime": {
     "end_time": "2022-02-09T01:35:28.570556Z",
     "start_time": "2022-02-09T01:35:28.467341Z"
    },
    "hidden": true
   },
   "outputs": [
    {
     "name": "stdout",
     "output_type": "stream",
     "text": [
      "dict_keys(['danceability', 'energy', 'key', 'loudness', 'mode', 'speechiness', 'acousticness', 'instrumentalness', 'liveness', 'valence', 'tempo', 'type', 'id', 'uri', 'track_href', 'analysis_url', 'duration_ms', 'time_signature']) \n",
      "\n",
      "[{'danceability': 0.694, 'energy': 0.545, 'key': 0, 'loudness': -9.503, 'mode': 1, 'speechiness': 0.0377, 'acousticness': 0.311, 'instrumentalness': 0.000108, 'liveness': 0.694, 'valence': 0.285, 'tempo': 120.02, 'type': 'audio_features', 'id': '6SExQ9H4mX00FIhjffFM2z', 'uri': 'spotify:track:6SExQ9H4mX00FIhjffFM2z', 'track_href': 'https://api.spotify.com/v1/tracks/6SExQ9H4mX00FIhjffFM2z', 'analysis_url': 'https://api.spotify.com/v1/audio-analysis/6SExQ9H4mX00FIhjffFM2z', 'duration_ms': 169867, 'time_signature': 4}]\n"
     ]
    }
   ],
   "source": [
    "track_id = '6SExQ9H4mX00FIhjffFM2z'\n",
    "\n",
    "audio_feature = spotify.audio_features(track_id)\n",
    "\n",
    "print (audio_feature[0].keys(), \"\\n\")\n",
    "print (audio_feature)\n"
   ]
  },
  {
   "cell_type": "markdown",
   "id": "ad9c87ac",
   "metadata": {
    "heading_collapsed": true,
    "hidden": true
   },
   "source": [
    "## Example: Get track data and ISRC"
   ]
  },
  {
   "cell_type": "code",
   "execution_count": 8,
   "id": "ee5381e3",
   "metadata": {
    "ExecuteTime": {
     "end_time": "2022-02-09T01:37:20.178408Z",
     "start_time": "2022-02-09T01:37:20.050531Z"
    },
    "hidden": true
   },
   "outputs": [
    {
     "name": "stdout",
     "output_type": "stream",
     "text": [
      "dict_keys(['album', 'artists', 'available_markets', 'disc_number', 'duration_ms', 'explicit', 'external_ids', 'external_urls', 'href', 'id', 'is_local', 'name', 'popularity', 'preview_url', 'track_number', 'type', 'uri']) \n",
      "\n",
      "{'isrc': 'USUM70980425'} \n",
      "\n",
      "[{'external_urls': {'spotify': 'https://open.spotify.com/artist/6emHCSoB4tJxTVXakbrpPz'}, 'href': 'https://api.spotify.com/v1/artists/6emHCSoB4tJxTVXakbrpPz', 'id': '6emHCSoB4tJxTVXakbrpPz', 'name': 'Karen O', 'type': 'artist', 'uri': 'spotify:artist:6emHCSoB4tJxTVXakbrpPz'}, {'external_urls': {'spotify': 'https://open.spotify.com/artist/5ITDRCbxYSx3gd19M8DFVx'}, 'href': 'https://api.spotify.com/v1/artists/5ITDRCbxYSx3gd19M8DFVx', 'id': '5ITDRCbxYSx3gd19M8DFVx', 'name': 'The Kids', 'type': 'artist', 'uri': 'spotify:artist:5ITDRCbxYSx3gd19M8DFVx'}] \n",
      "\n",
      "All Is Love\n",
      "preview_url:  None\n"
     ]
    }
   ],
   "source": [
    "track_id = '6SExQ9H4mX00FIhjffFM2z'\n",
    "\n",
    "track = spotify.track(track_id)\n",
    "\n",
    "print (track.keys(),\"\\n\")\n",
    "print (track['external_ids'],\"\\n\")\n",
    "print (track['artists'],\"\\n\")\n",
    "print (track['name'])\n",
    "print (\"preview_url: \", track['preview_url'])"
   ]
  },
  {
   "cell_type": "markdown",
   "id": "af32d5e1",
   "metadata": {
    "heading_collapsed": true
   },
   "source": [
    "#  Get audio features"
   ]
  },
  {
   "cell_type": "code",
   "execution_count": 13,
   "id": "a4c12f00",
   "metadata": {
    "ExecuteTime": {
     "end_time": "2022-02-09T01:40:42.443768Z",
     "start_time": "2022-02-09T01:40:42.436773Z"
    },
    "hidden": true
   },
   "outputs": [
    {
     "name": "stdout",
     "output_type": "stream",
     "text": [
      "18074\n"
     ]
    }
   ],
   "source": [
    "tracks = album_tracks_df['Track_ID'].tolist() + single_tracks_df['Track_ID'].tolist()\n",
    "print (len(tracks))"
   ]
  },
  {
   "cell_type": "code",
   "execution_count": 14,
   "id": "ccbaf657",
   "metadata": {
    "ExecuteTime": {
     "end_time": "2022-02-09T01:41:24.400611Z",
     "start_time": "2022-02-09T01:40:44.639542Z"
    },
    "hidden": true
   },
   "outputs": [],
   "source": [
    "song_features = ['danceability', 'energy', 'key', 'loudness', 'mode', 'speechiness', \\\n",
    "                'acousticness', 'instrumentalness', 'liveness', 'valence', 'tempo', \\\n",
    "                'type', 'id', 'uri', 'track_href', 'analysis_url', 'duration_ms', 'time_signature']\n",
    "\n",
    "track_features = []\n",
    "for i in range(0,len(tracks),100):\n",
    "    features = spotify.audio_features(tracks[i:i+100])\n",
    "    features = [f for f in features if f]   # filter out null features\n",
    "    track_features += features\n"
   ]
  },
  {
   "cell_type": "code",
   "execution_count": 24,
   "id": "c34a6ab2",
   "metadata": {
    "ExecuteTime": {
     "end_time": "2022-02-09T01:44:22.103438Z",
     "start_time": "2022-02-09T01:44:22.021112Z"
    },
    "hidden": true
   },
   "outputs": [],
   "source": [
    "# Save to a data frame\n",
    "track_features_df = pd.DataFrame(track_features, columns = song_features )\n",
    "\n",
    "id_col = track_features_df.pop('id')               # Move 'Track_ID' to the first column\n",
    "track_features_df.insert(0, 'Track_ID', id_col)\n",
    "#track_features_df.to_csv(\"../data/track_features.csv\", index = False)"
   ]
  },
  {
   "cell_type": "code",
   "execution_count": 38,
   "id": "9a51a794",
   "metadata": {
    "ExecuteTime": {
     "end_time": "2022-02-09T01:57:31.215714Z",
     "start_time": "2022-02-09T01:57:31.069778Z"
    },
    "hidden": true
   },
   "outputs": [
    {
     "data": {
      "text/html": [
       "<div>\n",
       "<style scoped>\n",
       "    .dataframe tbody tr th:only-of-type {\n",
       "        vertical-align: middle;\n",
       "    }\n",
       "\n",
       "    .dataframe tbody tr th {\n",
       "        vertical-align: top;\n",
       "    }\n",
       "\n",
       "    .dataframe thead th {\n",
       "        text-align: right;\n",
       "    }\n",
       "</style>\n",
       "<table border=\"1\" class=\"dataframe\">\n",
       "  <thead>\n",
       "    <tr style=\"text-align: right;\">\n",
       "      <th></th>\n",
       "      <th>Track_ID</th>\n",
       "      <th>danceability</th>\n",
       "      <th>energy</th>\n",
       "      <th>key</th>\n",
       "      <th>loudness</th>\n",
       "      <th>mode</th>\n",
       "      <th>speechiness</th>\n",
       "      <th>acousticness</th>\n",
       "      <th>instrumentalness</th>\n",
       "      <th>liveness</th>\n",
       "      <th>valence</th>\n",
       "      <th>tempo</th>\n",
       "      <th>type</th>\n",
       "      <th>uri</th>\n",
       "      <th>track_href</th>\n",
       "      <th>analysis_url</th>\n",
       "      <th>duration_ms</th>\n",
       "      <th>time_signature</th>\n",
       "    </tr>\n",
       "  </thead>\n",
       "  <tbody>\n",
       "    <tr>\n",
       "      <th>9719</th>\n",
       "      <td>42BeMThJuzIQe1oQvhDwgl</td>\n",
       "      <td>0.288</td>\n",
       "      <td>0.860</td>\n",
       "      <td>2</td>\n",
       "      <td>-6.311</td>\n",
       "      <td>0</td>\n",
       "      <td>0.0393</td>\n",
       "      <td>0.10300</td>\n",
       "      <td>0.000399</td>\n",
       "      <td>0.1020</td>\n",
       "      <td>0.660</td>\n",
       "      <td>161.196</td>\n",
       "      <td>audio_features</td>\n",
       "      <td>spotify:track:42BeMThJuzIQe1oQvhDwgl</td>\n",
       "      <td>https://api.spotify.com/v1/tracks/42BeMThJuzIQ...</td>\n",
       "      <td>https://api.spotify.com/v1/audio-analysis/42Be...</td>\n",
       "      <td>201507</td>\n",
       "      <td>4</td>\n",
       "    </tr>\n",
       "    <tr>\n",
       "      <th>14140</th>\n",
       "      <td>5FKql7zuVTbdxWoP1eIPb7</td>\n",
       "      <td>0.556</td>\n",
       "      <td>0.565</td>\n",
       "      <td>4</td>\n",
       "      <td>-5.215</td>\n",
       "      <td>1</td>\n",
       "      <td>0.0262</td>\n",
       "      <td>0.55100</td>\n",
       "      <td>0.000000</td>\n",
       "      <td>0.0995</td>\n",
       "      <td>0.289</td>\n",
       "      <td>113.937</td>\n",
       "      <td>audio_features</td>\n",
       "      <td>spotify:track:5FKql7zuVTbdxWoP1eIPb7</td>\n",
       "      <td>https://api.spotify.com/v1/tracks/5FKql7zuVTbd...</td>\n",
       "      <td>https://api.spotify.com/v1/audio-analysis/5FKq...</td>\n",
       "      <td>184667</td>\n",
       "      <td>4</td>\n",
       "    </tr>\n",
       "    <tr>\n",
       "      <th>11932</th>\n",
       "      <td>43r9t5K0YG0xku8hYfiOep</td>\n",
       "      <td>0.858</td>\n",
       "      <td>0.650</td>\n",
       "      <td>11</td>\n",
       "      <td>-5.603</td>\n",
       "      <td>0</td>\n",
       "      <td>0.1410</td>\n",
       "      <td>0.01650</td>\n",
       "      <td>0.000464</td>\n",
       "      <td>0.0505</td>\n",
       "      <td>0.716</td>\n",
       "      <td>120.004</td>\n",
       "      <td>audio_features</td>\n",
       "      <td>spotify:track:43r9t5K0YG0xku8hYfiOep</td>\n",
       "      <td>https://api.spotify.com/v1/tracks/43r9t5K0YG0x...</td>\n",
       "      <td>https://api.spotify.com/v1/audio-analysis/43r9...</td>\n",
       "      <td>187400</td>\n",
       "      <td>4</td>\n",
       "    </tr>\n",
       "    <tr>\n",
       "      <th>6793</th>\n",
       "      <td>6l9o6SyXq8gK6sfarFnnPQ</td>\n",
       "      <td>0.545</td>\n",
       "      <td>0.942</td>\n",
       "      <td>9</td>\n",
       "      <td>-3.374</td>\n",
       "      <td>0</td>\n",
       "      <td>0.0365</td>\n",
       "      <td>0.01050</td>\n",
       "      <td>0.000003</td>\n",
       "      <td>0.0611</td>\n",
       "      <td>0.565</td>\n",
       "      <td>140.187</td>\n",
       "      <td>audio_features</td>\n",
       "      <td>spotify:track:6l9o6SyXq8gK6sfarFnnPQ</td>\n",
       "      <td>https://api.spotify.com/v1/tracks/6l9o6SyXq8gK...</td>\n",
       "      <td>https://api.spotify.com/v1/audio-analysis/6l9o...</td>\n",
       "      <td>248773</td>\n",
       "      <td>4</td>\n",
       "    </tr>\n",
       "    <tr>\n",
       "      <th>17712</th>\n",
       "      <td>4jIQ0wouzKHbi1fYHORIN0</td>\n",
       "      <td>0.591</td>\n",
       "      <td>0.924</td>\n",
       "      <td>5</td>\n",
       "      <td>-4.724</td>\n",
       "      <td>0</td>\n",
       "      <td>0.0465</td>\n",
       "      <td>0.00231</td>\n",
       "      <td>0.004350</td>\n",
       "      <td>0.3910</td>\n",
       "      <td>0.275</td>\n",
       "      <td>128.175</td>\n",
       "      <td>audio_features</td>\n",
       "      <td>spotify:track:4jIQ0wouzKHbi1fYHORIN0</td>\n",
       "      <td>https://api.spotify.com/v1/tracks/4jIQ0wouzKHb...</td>\n",
       "      <td>https://api.spotify.com/v1/audio-analysis/4jIQ...</td>\n",
       "      <td>322107</td>\n",
       "      <td>4</td>\n",
       "    </tr>\n",
       "  </tbody>\n",
       "</table>\n",
       "</div>"
      ],
      "text/plain": [
       "                     Track_ID  danceability  energy  key  loudness  mode  \\\n",
       "9719   42BeMThJuzIQe1oQvhDwgl         0.288   0.860    2    -6.311     0   \n",
       "14140  5FKql7zuVTbdxWoP1eIPb7         0.556   0.565    4    -5.215     1   \n",
       "11932  43r9t5K0YG0xku8hYfiOep         0.858   0.650   11    -5.603     0   \n",
       "6793   6l9o6SyXq8gK6sfarFnnPQ         0.545   0.942    9    -3.374     0   \n",
       "17712  4jIQ0wouzKHbi1fYHORIN0         0.591   0.924    5    -4.724     0   \n",
       "\n",
       "       speechiness  acousticness  instrumentalness  liveness  valence  \\\n",
       "9719        0.0393       0.10300          0.000399    0.1020    0.660   \n",
       "14140       0.0262       0.55100          0.000000    0.0995    0.289   \n",
       "11932       0.1410       0.01650          0.000464    0.0505    0.716   \n",
       "6793        0.0365       0.01050          0.000003    0.0611    0.565   \n",
       "17712       0.0465       0.00231          0.004350    0.3910    0.275   \n",
       "\n",
       "         tempo            type                                   uri  \\\n",
       "9719   161.196  audio_features  spotify:track:42BeMThJuzIQe1oQvhDwgl   \n",
       "14140  113.937  audio_features  spotify:track:5FKql7zuVTbdxWoP1eIPb7   \n",
       "11932  120.004  audio_features  spotify:track:43r9t5K0YG0xku8hYfiOep   \n",
       "6793   140.187  audio_features  spotify:track:6l9o6SyXq8gK6sfarFnnPQ   \n",
       "17712  128.175  audio_features  spotify:track:4jIQ0wouzKHbi1fYHORIN0   \n",
       "\n",
       "                                              track_href  \\\n",
       "9719   https://api.spotify.com/v1/tracks/42BeMThJuzIQ...   \n",
       "14140  https://api.spotify.com/v1/tracks/5FKql7zuVTbd...   \n",
       "11932  https://api.spotify.com/v1/tracks/43r9t5K0YG0x...   \n",
       "6793   https://api.spotify.com/v1/tracks/6l9o6SyXq8gK...   \n",
       "17712  https://api.spotify.com/v1/tracks/4jIQ0wouzKHb...   \n",
       "\n",
       "                                            analysis_url  duration_ms  \\\n",
       "9719   https://api.spotify.com/v1/audio-analysis/42Be...       201507   \n",
       "14140  https://api.spotify.com/v1/audio-analysis/5FKq...       184667   \n",
       "11932  https://api.spotify.com/v1/audio-analysis/43r9...       187400   \n",
       "6793   https://api.spotify.com/v1/audio-analysis/6l9o...       248773   \n",
       "17712  https://api.spotify.com/v1/audio-analysis/4jIQ...       322107   \n",
       "\n",
       "       time_signature  \n",
       "9719                4  \n",
       "14140               4  \n",
       "11932               4  \n",
       "6793                4  \n",
       "17712               4  "
      ]
     },
     "metadata": {},
     "output_type": "display_data"
    },
    {
     "name": "stdout",
     "output_type": "stream",
     "text": [
      "Number of tracks:  18049\n"
     ]
    }
   ],
   "source": [
    "track_features_df = pd.read_csv(\"../data/track_features.csv\")\n",
    "\n",
    "display(track_features_df.sample(5))\n",
    "\n",
    "print (\"Number of tracks: \", track_features_df.shape[0])\n"
   ]
  },
  {
   "cell_type": "markdown",
   "id": "3943485d",
   "metadata": {},
   "source": [
    "# Get ISRC, artists, popularity, preview_url"
   ]
  },
  {
   "cell_type": "code",
   "execution_count": 32,
   "id": "a378f86a",
   "metadata": {
    "ExecuteTime": {
     "end_time": "2022-02-09T01:52:01.497967Z",
     "start_time": "2022-02-09T01:50:45.009257Z"
    }
   },
   "outputs": [],
   "source": [
    "track_data = []\n",
    "for i in range(0,len(tracks),50):\n",
    "    data = spotify.tracks(tracks[i:i+50])\n",
    "    for track in data['tracks']:\n",
    "        track_id = track['id']\n",
    "        name = track['name']\n",
    "        popularity = track['popularity']\n",
    "        isrc = track.get('external_ids').get('isrc')\n",
    "        artists = [artist['name'] for artist in track['artists']]\n",
    "        preview_url = track.get('preview_url')\n",
    "        \n",
    "        track_data.append([track_id, isrc, name, artists, popularity, preview_url])"
   ]
  },
  {
   "cell_type": "code",
   "execution_count": 1,
   "id": "fd9f2857",
   "metadata": {
    "ExecuteTime": {
     "end_time": "2022-02-09T02:06:32.158826Z",
     "start_time": "2022-02-09T02:06:30.968198Z"
    }
   },
   "outputs": [
    {
     "data": {
      "text/html": [
       "<div>\n",
       "<style scoped>\n",
       "    .dataframe tbody tr th:only-of-type {\n",
       "        vertical-align: middle;\n",
       "    }\n",
       "\n",
       "    .dataframe tbody tr th {\n",
       "        vertical-align: top;\n",
       "    }\n",
       "\n",
       "    .dataframe thead th {\n",
       "        text-align: right;\n",
       "    }\n",
       "</style>\n",
       "<table border=\"1\" class=\"dataframe\">\n",
       "  <thead>\n",
       "    <tr style=\"text-align: right;\">\n",
       "      <th></th>\n",
       "      <th>Track_ID</th>\n",
       "      <th>ISRC</th>\n",
       "      <th>Track_Name</th>\n",
       "      <th>Artists</th>\n",
       "      <th>popularity</th>\n",
       "      <th>preview_url</th>\n",
       "    </tr>\n",
       "  </thead>\n",
       "  <tbody>\n",
       "    <tr>\n",
       "      <th>9728</th>\n",
       "      <td>1pILUuzoFwbbDpScP6eEDU</td>\n",
       "      <td>USMC10345835</td>\n",
       "      <td>Love @ 1st Sight</td>\n",
       "      <td>['Mary J. Blige', 'Method Man']</td>\n",
       "      <td>30</td>\n",
       "      <td>NaN</td>\n",
       "    </tr>\n",
       "    <tr>\n",
       "      <th>4088</th>\n",
       "      <td>47ji0KfmvI93CMDqppVj8p</td>\n",
       "      <td>USSM11105880</td>\n",
       "      <td>Elevate</td>\n",
       "      <td>['Big Time Rush']</td>\n",
       "      <td>51</td>\n",
       "      <td>https://p.scdn.co/mp3-preview/358c99630f6e1f67...</td>\n",
       "    </tr>\n",
       "    <tr>\n",
       "      <th>6449</th>\n",
       "      <td>5XBwBd0DcuKScF37Zusigy</td>\n",
       "      <td>USHR10622296</td>\n",
       "      <td>Can't Let You Go</td>\n",
       "      <td>['Jesse McCartney']</td>\n",
       "      <td>25</td>\n",
       "      <td>NaN</td>\n",
       "    </tr>\n",
       "  </tbody>\n",
       "</table>\n",
       "</div>"
      ],
      "text/plain": [
       "                    Track_ID          ISRC        Track_Name  \\\n",
       "9728  1pILUuzoFwbbDpScP6eEDU  USMC10345835  Love @ 1st Sight   \n",
       "4088  47ji0KfmvI93CMDqppVj8p  USSM11105880           Elevate   \n",
       "6449  5XBwBd0DcuKScF37Zusigy  USHR10622296  Can't Let You Go   \n",
       "\n",
       "                              Artists  popularity  \\\n",
       "9728  ['Mary J. Blige', 'Method Man']          30   \n",
       "4088                ['Big Time Rush']          51   \n",
       "6449              ['Jesse McCartney']          25   \n",
       "\n",
       "                                            preview_url  \n",
       "9728                                                NaN  \n",
       "4088  https://p.scdn.co/mp3-preview/358c99630f6e1f67...  \n",
       "6449                                                NaN  "
      ]
     },
     "metadata": {},
     "output_type": "display_data"
    },
    {
     "name": "stdout",
     "output_type": "stream",
     "text": [
      "Number of tracks:  18074\n"
     ]
    }
   ],
   "source": [
    "# track_data_df = pd.DataFrame(track_data, columns = ['Track_ID', 'ISRC','Track_Name','Artists','popularity','preview_url'])\n",
    "# track_data_df.to_csv(\"../data/track_isrc.csv\", index = False)\n",
    "\n",
    "track_data_df = pd.read_csv(\"../data/track_isrc.csv\")\n",
    "display(track_data_df.sample(3))\n",
    "print (\"Number of tracks: \", track_data_df.shape[0])"
   ]
  },
  {
   "cell_type": "code",
   "execution_count": null,
   "id": "9ae9d139",
   "metadata": {},
   "outputs": [],
   "source": []
  }
 ],
 "metadata": {
  "kernelspec": {
   "display_name": "Python 3 (ipykernel)",
   "language": "python",
   "name": "python3"
  },
  "language_info": {
   "codemirror_mode": {
    "name": "ipython",
    "version": 3
   },
   "file_extension": ".py",
   "mimetype": "text/x-python",
   "name": "python",
   "nbconvert_exporter": "python",
   "pygments_lexer": "ipython3",
   "version": "3.9.7"
  }
 },
 "nbformat": 4,
 "nbformat_minor": 5
}
