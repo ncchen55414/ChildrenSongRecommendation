{
 "cells": [
  {
   "cell_type": "code",
   "execution_count": 1,
   "id": "4956ab61",
   "metadata": {
    "ExecuteTime": {
     "end_time": "2022-03-03T21:41:24.371769Z",
     "start_time": "2022-03-03T21:41:21.396162Z"
    }
   },
   "outputs": [],
   "source": [
    "import numpy as np\n",
    "import pandas as pd\n",
    "import matplotlib.pyplot as plt\n",
    "import seaborn as sns\n",
    "import spotipy\n",
    "import os\n",
    "%matplotlib inline"
   ]
  },
  {
   "cell_type": "markdown",
   "id": "9e27c521",
   "metadata": {
    "heading_collapsed": true
   },
   "source": [
    "## Track data: Features and Age Ratings"
   ]
  },
  {
   "cell_type": "markdown",
   "id": "b696fed4",
   "metadata": {
    "hidden": true
   },
   "source": [
    "https://developer.spotify.com/documentation/web-api/reference/#/operations/get-audio-features\n",
    "\n",
    "valence :\n",
    "A measure from 0.0 to 1.0 describing the musical positiveness conveyed by a track. Tracks with high valence sound more positive (e.g. happy, cheerful, euphoric), while tracks with low valence sound more negative (e.g. sad, depressed, angry)."
   ]
  },
  {
   "cell_type": "code",
   "execution_count": 2,
   "id": "64b0675b",
   "metadata": {
    "ExecuteTime": {
     "end_time": "2022-03-03T21:41:24.856934Z",
     "start_time": "2022-03-03T21:41:24.375763Z"
    },
    "hidden": true
   },
   "outputs": [],
   "source": [
    "data = pd.read_csv('../data/all.csv')"
   ]
  },
  {
   "cell_type": "code",
   "execution_count": 3,
   "id": "52f6e849",
   "metadata": {
    "ExecuteTime": {
     "end_time": "2022-03-03T21:41:24.952408Z",
     "start_time": "2022-03-03T21:41:24.856934Z"
    },
    "hidden": true
   },
   "outputs": [
    {
     "name": "stdout",
     "output_type": "stream",
     "text": [
      "Index(['Age', 'Album_Name', 'Artist', 'Year', 'Description', 'Age Group',\n",
      "       'Album_ID', 'Album_Name_Spotify', 'Artists_Spotify', 'Track_ID', 'ISRC',\n",
      "       'Track_Name', 'Artists', 'popularity', 'preview_url', 'image_url',\n",
      "       'danceability', 'energy', 'key', 'loudness', 'mode', 'speechiness',\n",
      "       'acousticness', 'instrumentalness', 'liveness', 'valence', 'tempo',\n",
      "       'type', 'uri', 'track_href', 'analysis_url', 'duration_ms',\n",
      "       'time_signature', 'lyrics'],\n",
      "      dtype='object')\n",
      "(19560, 34)\n"
     ]
    }
   ],
   "source": [
    "print (data.columns)\n",
    "print (data.shape)\n"
   ]
  },
  {
   "cell_type": "code",
   "execution_count": 68,
   "id": "4ebc9503",
   "metadata": {
    "ExecuteTime": {
     "end_time": "2022-03-03T22:02:42.683908Z",
     "start_time": "2022-03-03T22:02:42.615344Z"
    },
    "hidden": true
   },
   "outputs": [],
   "source": [
    "\n",
    "song_features = ['danceability', 'energy', 'key', 'loudness', 'mode', 'speechiness', \\\n",
    "                'acousticness', 'instrumentalness', 'liveness', 'valence', 'tempo', \\\n",
    "                'type', 'id', 'uri', 'track_href', 'analysis_url', 'duration_ms', 'time_signature']\n",
    "\n",
    "columns = ['key','mode', 'time_signature', 'duration_min','popularity', 'danceability', 'energy','loudness', 'speechiness',\n",
    "       'acousticness', 'instrumentalness', 'liveness', 'valence', 'tempo']\n",
    "\n",
    "data['duration_min'] = data['duration_ms']/10**3/60\n",
    "\n",
    "data = data.dropna(subset=columns)\n",
    "data = data.astype({'key': 'Int64', 'mode':'Int64', 'time_signature':'Int64'})\n",
    "\n",
    "\n",
    "X = data[columns]\n",
    "y = list(data['Age'])"
   ]
  },
  {
   "cell_type": "code",
   "execution_count": 69,
   "id": "b6c94ace",
   "metadata": {
    "ExecuteTime": {
     "end_time": "2022-03-03T22:02:44.135500Z",
     "start_time": "2022-03-03T22:02:44.088587Z"
    },
    "hidden": true
   },
   "outputs": [
    {
     "data": {
      "text/html": [
       "<div>\n",
       "<style scoped>\n",
       "    .dataframe tbody tr th:only-of-type {\n",
       "        vertical-align: middle;\n",
       "    }\n",
       "\n",
       "    .dataframe tbody tr th {\n",
       "        vertical-align: top;\n",
       "    }\n",
       "\n",
       "    .dataframe thead th {\n",
       "        text-align: right;\n",
       "    }\n",
       "</style>\n",
       "<table border=\"1\" class=\"dataframe\">\n",
       "  <thead>\n",
       "    <tr style=\"text-align: right;\">\n",
       "      <th></th>\n",
       "      <th>key</th>\n",
       "      <th>mode</th>\n",
       "      <th>time_signature</th>\n",
       "      <th>duration_min</th>\n",
       "      <th>popularity</th>\n",
       "      <th>danceability</th>\n",
       "      <th>energy</th>\n",
       "      <th>loudness</th>\n",
       "      <th>speechiness</th>\n",
       "      <th>acousticness</th>\n",
       "      <th>instrumentalness</th>\n",
       "      <th>liveness</th>\n",
       "      <th>valence</th>\n",
       "      <th>tempo</th>\n",
       "    </tr>\n",
       "  </thead>\n",
       "  <tbody>\n",
       "    <tr>\n",
       "      <th>9468</th>\n",
       "      <td>4</td>\n",
       "      <td>0</td>\n",
       "      <td>4</td>\n",
       "      <td>3.966883</td>\n",
       "      <td>28</td>\n",
       "      <td>0.739</td>\n",
       "      <td>0.607</td>\n",
       "      <td>-9.097</td>\n",
       "      <td>0.2510</td>\n",
       "      <td>0.0113</td>\n",
       "      <td>0.000373</td>\n",
       "      <td>0.0411</td>\n",
       "      <td>0.255</td>\n",
       "      <td>180.079</td>\n",
       "    </tr>\n",
       "    <tr>\n",
       "      <th>10686</th>\n",
       "      <td>2</td>\n",
       "      <td>1</td>\n",
       "      <td>4</td>\n",
       "      <td>3.284667</td>\n",
       "      <td>32</td>\n",
       "      <td>0.746</td>\n",
       "      <td>0.434</td>\n",
       "      <td>-9.391</td>\n",
       "      <td>0.0349</td>\n",
       "      <td>0.2990</td>\n",
       "      <td>0.002540</td>\n",
       "      <td>0.1710</td>\n",
       "      <td>0.713</td>\n",
       "      <td>113.514</td>\n",
       "    </tr>\n",
       "    <tr>\n",
       "      <th>2826</th>\n",
       "      <td>1</td>\n",
       "      <td>1</td>\n",
       "      <td>4</td>\n",
       "      <td>3.859117</td>\n",
       "      <td>1</td>\n",
       "      <td>0.415</td>\n",
       "      <td>0.162</td>\n",
       "      <td>-19.924</td>\n",
       "      <td>0.0332</td>\n",
       "      <td>0.9180</td>\n",
       "      <td>0.000244</td>\n",
       "      <td>0.1180</td>\n",
       "      <td>0.557</td>\n",
       "      <td>167.779</td>\n",
       "    </tr>\n",
       "    <tr>\n",
       "      <th>646</th>\n",
       "      <td>2</td>\n",
       "      <td>1</td>\n",
       "      <td>4</td>\n",
       "      <td>0.892000</td>\n",
       "      <td>20</td>\n",
       "      <td>0.717</td>\n",
       "      <td>0.275</td>\n",
       "      <td>-18.076</td>\n",
       "      <td>0.7390</td>\n",
       "      <td>0.7390</td>\n",
       "      <td>0.000000</td>\n",
       "      <td>0.5960</td>\n",
       "      <td>0.772</td>\n",
       "      <td>95.134</td>\n",
       "    </tr>\n",
       "    <tr>\n",
       "      <th>15209</th>\n",
       "      <td>0</td>\n",
       "      <td>1</td>\n",
       "      <td>4</td>\n",
       "      <td>2.659117</td>\n",
       "      <td>30</td>\n",
       "      <td>0.496</td>\n",
       "      <td>0.257</td>\n",
       "      <td>-14.559</td>\n",
       "      <td>0.0295</td>\n",
       "      <td>0.4520</td>\n",
       "      <td>0.000060</td>\n",
       "      <td>0.0411</td>\n",
       "      <td>0.460</td>\n",
       "      <td>127.475</td>\n",
       "    </tr>\n",
       "  </tbody>\n",
       "</table>\n",
       "</div>"
      ],
      "text/plain": [
       "       key  mode  time_signature  duration_min  popularity  danceability  \\\n",
       "9468     4     0               4      3.966883          28         0.739   \n",
       "10686    2     1               4      3.284667          32         0.746   \n",
       "2826     1     1               4      3.859117           1         0.415   \n",
       "646      2     1               4      0.892000          20         0.717   \n",
       "15209    0     1               4      2.659117          30         0.496   \n",
       "\n",
       "       energy  loudness  speechiness  acousticness  instrumentalness  \\\n",
       "9468    0.607    -9.097       0.2510        0.0113          0.000373   \n",
       "10686   0.434    -9.391       0.0349        0.2990          0.002540   \n",
       "2826    0.162   -19.924       0.0332        0.9180          0.000244   \n",
       "646     0.275   -18.076       0.7390        0.7390          0.000000   \n",
       "15209   0.257   -14.559       0.0295        0.4520          0.000060   \n",
       "\n",
       "       liveness  valence    tempo  \n",
       "9468     0.0411    0.255  180.079  \n",
       "10686    0.1710    0.713  113.514  \n",
       "2826     0.1180    0.557  167.779  \n",
       "646      0.5960    0.772   95.134  \n",
       "15209    0.0411    0.460  127.475  "
      ]
     },
     "metadata": {},
     "output_type": "display_data"
    },
    {
     "name": "stdout",
     "output_type": "stream",
     "text": [
      "Number of Tracks: 19527\n",
      "Number of Freatures: 14\n",
      "Ages:  {2, 3, 4, 5, 6, 7, 8, 9, 10, 11, 12, 13, 14, 15, 16, 17, 18}\n"
     ]
    }
   ],
   "source": [
    "display(X.sample(5))\n",
    "\n",
    "print (\"Number of Tracks:\" , X.shape[0])\n",
    "print (\"Number of Freatures:\", X.shape[1])\n",
    "print (\"Ages: \", set(y))"
   ]
  },
  {
   "cell_type": "markdown",
   "id": "d305ad3d",
   "metadata": {
    "heading_collapsed": true
   },
   "source": [
    "## Decision Tree Model"
   ]
  },
  {
   "cell_type": "code",
   "execution_count": 71,
   "id": "1a0faacd",
   "metadata": {
    "ExecuteTime": {
     "end_time": "2022-03-03T22:02:53.700480Z",
     "start_time": "2022-03-03T22:02:53.511741Z"
    },
    "hidden": true
   },
   "outputs": [
    {
     "name": "stdout",
     "output_type": "stream",
     "text": [
      "R^2 Score:  0.5021094761704463\n"
     ]
    }
   ],
   "source": [
    "from sklearn.model_selection import GridSearchCV, train_test_split\n",
    "from sklearn.pipeline import Pipeline\n",
    "from sklearn.preprocessing import OneHotEncoder\n",
    "from sklearn.compose import ColumnTransformer\n",
    "\n",
    "from sklearn.tree import DecisionTreeRegressor\n",
    "\n",
    "X_train, X_test, y_train, y_test = train_test_split(X, y, test_size=0.2, random_state=42)\n",
    "\n",
    "\n",
    "categorical_columns = ['key','mode', 'time_signature']\n",
    "\n",
    "numeric_columns = ['duration_min','popularity', 'danceability', 'energy','loudness', 'speechiness',\n",
    "       'acousticness', 'instrumentalness', 'liveness', 'valence', 'tempo']\n",
    "\n",
    "features = ColumnTransformer([\n",
    "    ('categorical', OneHotEncoder(), categorical_columns),\n",
    "    ('numeric', 'passthrough', numeric_columns)\n",
    "])\n",
    "\n",
    "est = Pipeline([\n",
    "    ('features', features),\n",
    "    ('regressor', DecisionTreeRegressor(max_depth=5) )\n",
    "])\n",
    "\n",
    "est.fit(X_train, y_train)\n",
    "\n",
    "\n",
    "print (\"R^2 Score: \", est.score(X_test,y_test))\n",
    "\n",
    "\n",
    "# The best possible score is 1.0 and it can be negative (because the model can be arbitrarily worse).\n",
    "# A constant model that always predicts the expected value of y, disregarding the input features, \n",
    "# would get a  score of 0.0.\""
   ]
  },
  {
   "cell_type": "code",
   "execution_count": 72,
   "id": "e898c18a",
   "metadata": {
    "ExecuteTime": {
     "end_time": "2022-03-03T22:02:56.163956Z",
     "start_time": "2022-03-03T22:02:56.136986Z"
    },
    "hidden": true
   },
   "outputs": [
    {
     "name": "stdout",
     "output_type": "stream",
     "text": [
      "Base Line Model Test Error:  4.825135424997403\n",
      "Current Model Test Error:  3.4046751211576454\n"
     ]
    }
   ],
   "source": [
    "from sklearn.metrics import mean_squared_error\n",
    "import math\n",
    "test_error = math.sqrt(mean_squared_error(y_test, est.predict(X_test)))\n",
    "\n",
    "mean = np.mean(y_train)\n",
    "baseline_error  = math.sqrt(mean_squared_error(y_test, [mean for _ in range(len(y_test))]))\n",
    "\n",
    "print (\"Base Line Model Test Error: \", baseline_error)\n",
    "print (\"Current Model Test Error: \", test_error)"
   ]
  },
  {
   "cell_type": "markdown",
   "id": "06724ca9",
   "metadata": {
    "heading_collapsed": true
   },
   "source": [
    "## Cross validation on  max_depth "
   ]
  },
  {
   "cell_type": "code",
   "execution_count": 74,
   "id": "e62c0794",
   "metadata": {
    "ExecuteTime": {
     "end_time": "2022-03-03T22:03:08.190720Z",
     "start_time": "2022-03-03T22:03:03.309851Z"
    },
    "hidden": true
   },
   "outputs": [],
   "source": [
    "from sklearn.model_selection import GridSearchCV\n",
    "\n",
    "X_train, X_test, y_train, y_test = train_test_split(X, y, test_size=0.2, random_state=42)\n",
    "\n",
    "\n",
    "categorical_columns = ['key','mode', 'time_signature']\n",
    "\n",
    "numeric_columns = ['duration_min','popularity', 'danceability', 'energy','loudness', 'speechiness',\n",
    "       'acousticness', 'instrumentalness', 'liveness', 'valence', 'tempo']\n",
    "\n",
    "features = ColumnTransformer([\n",
    "    ('categorical', OneHotEncoder(), categorical_columns),\n",
    "    ('numeric', 'passthrough', numeric_columns)\n",
    "])\n",
    "\n",
    "\n",
    "pipeline = Pipeline([\n",
    "    ('features', features),\n",
    "    ('regressor', DecisionTreeRegressor()) \n",
    "])\n",
    "param_grid = {'regressor__max_depth': range(2,10)}\n",
    "est = GridSearchCV(pipeline,  param_grid,  return_train_score = True)\n",
    "est.fit(X_train, y_train);"
   ]
  },
  {
   "cell_type": "code",
   "execution_count": 75,
   "id": "4d12e90d",
   "metadata": {
    "ExecuteTime": {
     "end_time": "2022-03-03T22:03:15.744734Z",
     "start_time": "2022-03-03T22:03:15.585673Z"
    },
    "hidden": true
   },
   "outputs": [
    {
     "data": {
      "image/png": "[encoded data removed]",
      "text/plain": [
       "<Figure size 432x288 with 1 Axes>"
      ]
     },
     "metadata": {
      "needs_background": "light"
     },
     "output_type": "display_data"
    }
   ],
   "source": [
    "depth = est.param_grid['regressor__max_depth']\n",
    "\n",
    "plt.plot(depth, est.cv_results_['mean_test_score'], c='r', label = 'validation score')\n",
    "plt.plot(depth, est.cv_results_['mean_train_score'], c='b', label = 'train score')\n",
    "plt.xlabel('max_depth')\n",
    "plt.ylabel('score')\n",
    "plt.legend(loc='upper right');"
   ]
  },
  {
   "cell_type": "code",
   "execution_count": 76,
   "id": "c450cf8c",
   "metadata": {
    "ExecuteTime": {
     "end_time": "2022-03-03T22:03:20.866062Z",
     "start_time": "2022-03-03T22:03:19.845890Z"
    },
    "hidden": true
   },
   "outputs": [
    {
     "data": {
      "image/png": "[encoded data removed]",
      "text/plain": [
       "<Figure size 432x288 with 1 Axes>"
      ]
     },
     "metadata": {
      "needs_background": "light"
     },
     "output_type": "display_data"
    }
   ],
   "source": [
    "\n",
    "from sklearn import metrics\n",
    "test_errors = []\n",
    "in_sample_errors = []\n",
    "max_depths= [2,3,4,5,6,7,8,9,10]\n",
    "for max_depth in max_depths:\n",
    "    model = DecisionTreeRegressor(max_depth=max_depth).fit(X_train, y_train)\n",
    "    y_pred = model.predict(X_test)\n",
    "    y_train_pred = model.predict(X_train)\n",
    "    in_sample_errors.append(metrics.mean_squared_error(y_train, y_train_pred))\n",
    "    test_errors.append(metrics.mean_squared_error(y_test, y_pred))\n",
    "\n",
    "plt.plot(max_depths, in_sample_errors, 'b-', label='in-sample error')\n",
    "plt.plot(max_depths, test_errors, c='r', label='out-of-sample error')\n",
    "plt.xlabel('max_depth')\n",
    "plt.ylabel('MSE')\n",
    "plt.legend(loc='upper right');"
   ]
  },
  {
   "cell_type": "markdown",
   "id": "8a5fde0a",
   "metadata": {},
   "source": [
    "## Feature importance"
   ]
  },
  {
   "cell_type": "code",
   "execution_count": 77,
   "id": "ca381954",
   "metadata": {
    "ExecuteTime": {
     "end_time": "2022-03-03T22:03:24.741388Z",
     "start_time": "2022-03-03T22:03:24.727483Z"
    }
   },
   "outputs": [
    {
     "data": {
      "text/plain": [
       "array([3.93365795e-04, 0.00000000e+00, 0.00000000e+00, 0.00000000e+00,\n",
       "       0.00000000e+00, 0.00000000e+00, 0.00000000e+00, 0.00000000e+00,\n",
       "       3.52453163e-04, 0.00000000e+00, 0.00000000e+00, 1.39259028e-05,\n",
       "       5.32339918e-04, 2.57183169e-03, 0.00000000e+00, 0.00000000e+00,\n",
       "       0.00000000e+00, 1.24844732e-03, 8.33877420e-04, 2.21047840e-01,\n",
       "       4.86270687e-01, 1.02270756e-02, 6.85148633e-03, 2.57850521e-02,\n",
       "       1.01199199e-01, 8.88606949e-02, 8.16689462e-03, 7.46119806e-03,\n",
       "       3.30803263e-02, 5.10330518e-03])"
      ]
     },
     "execution_count": 77,
     "metadata": {},
     "output_type": "execute_result"
    }
   ],
   "source": [
    "model = est.best_estimator_['regressor']\n",
    "model.feature_importances_"
   ]
  },
  {
   "cell_type": "code",
   "execution_count": 78,
   "id": "a577e192",
   "metadata": {
    "ExecuteTime": {
     "end_time": "2022-03-03T22:03:26.912213Z",
     "start_time": "2022-03-03T22:03:26.902074Z"
    }
   },
   "outputs": [
    {
     "data": {
      "text/plain": [
       "['categorical__x0_0',\n",
       " 'categorical__x0_1',\n",
       " 'categorical__x0_2',\n",
       " 'categorical__x0_3',\n",
       " 'categorical__x0_4',\n",
       " 'categorical__x0_5',\n",
       " 'categorical__x0_6',\n",
       " 'categorical__x0_7',\n",
       " 'categorical__x0_8',\n",
       " 'categorical__x0_9']"
      ]
     },
     "execution_count": 78,
     "metadata": {},
     "output_type": "execute_result"
    }
   ],
   "source": [
    "est.best_estimator_['features'].get_feature_names()[0:10]"
   ]
  },
  {
   "cell_type": "code",
   "execution_count": 63,
   "id": "40dd834f",
   "metadata": {
    "ExecuteTime": {
     "end_time": "2022-03-03T21:59:25.571732Z",
     "start_time": "2022-03-03T21:59:25.557562Z"
    }
   },
   "outputs": [
    {
     "name": "stdout",
     "output_type": "stream",
     "text": [
      "('popularity', 0.48695586683099706)\n",
      "('duration_ms', 0.22108574948959803)\n",
      "('speechiness', 0.10207091686662674)\n",
      "('acousticness', 0.08884398380442976)\n",
      "('valence', 0.03304241685961839)\n",
      "('loudness', 0.025781802675881312)\n",
      "('danceability', 0.010243786703616484)\n",
      "('instrumentalness', 0.008166894620060507)\n",
      "('liveness', 0.00746119805922366)\n",
      "('energy', 0.0068547357065220586)\n",
      "('tempo', 0.003953698869950373)\n",
      "('categorical__x1_0', 0.00310417161183368)\n",
      "('categorical__x2_4', 0.0012484473189348466)\n",
      "('categorical__x2_5', 0.0008338774197275185)\n",
      "('categorical__x0_8', 0.0003524531629795962)\n",
      "('categorical__x0_0', 0.0)\n",
      "('categorical__x0_1', 0.0)\n",
      "('categorical__x0_2', 0.0)\n",
      "('categorical__x0_3', 0.0)\n",
      "('categorical__x0_4', 0.0)\n",
      "('categorical__x0_5', 0.0)\n",
      "('categorical__x0_6', 0.0)\n",
      "('categorical__x0_7', 0.0)\n",
      "('categorical__x0_9', 0.0)\n",
      "('categorical__x0_10', 0.0)\n",
      "('categorical__x0_11', 0.0)\n",
      "('categorical__x1_1', 0.0)\n",
      "('categorical__x2_0', 0.0)\n",
      "('categorical__x2_1', 0.0)\n",
      "('categorical__x2_3', 0.0)\n"
     ]
    }
   ],
   "source": [
    "feature_names = est.best_estimator_['features'].get_feature_names()\n",
    "features = [(feature_names[i], model.feature_importances_[i]) for i in range(len(feature_names))]\n",
    "\n",
    "for feature in sorted(features, key=lambda x: -x[1]):\n",
    "    print (feature)"
   ]
  },
  {
   "cell_type": "markdown",
   "id": "11e6f19a",
   "metadata": {},
   "source": [
    "## Visualize the decision tree"
   ]
  },
  {
   "cell_type": "markdown",
   "id": "2850e9a2",
   "metadata": {},
   "source": [
    "### Problem with Graphviz on win10\n",
    "https://stackoverflow.com/questions/35064304/runtimeerror-make-sure-the-graphviz-executables-are-on-your-systems-path-aft"
   ]
  },
  {
   "cell_type": "code",
   "execution_count": 79,
   "id": "ddb44dbb",
   "metadata": {
    "ExecuteTime": {
     "end_time": "2022-03-03T22:03:31.069841Z",
     "start_time": "2022-03-03T22:03:30.995322Z"
    }
   },
   "outputs": [
    {
     "data": {
      "image/svg+xml": [
       "<?xml version=\"1.0\" encoding=\"UTF-8\" standalone=\"no\"?>\n",
       "<!DOCTYPE svg PUBLIC \"-//W3C//DTD SVG 1.1//EN\"\n",
       " \"http://www.w3.org/Graphics/SVG/1.1/DTD/svg11.dtd\">\n",
       "<!-- Generated by graphviz version 3.0.0 (20220226.1711)\n",
       " -->\n",
       "<!-- Title: Tree Pages: 1 -->\n",
       "<svg width=\"1214pt\" height=\"460pt\"\n",
       " viewBox=\"0.00 0.00 1214.00 460.00\" xmlns=\"http://www.w3.org/2000/svg\" xmlns:xlink=\"http://www.w3.org/1999/xlink\">\n",
       "<g id=\"graph0\" class=\"graph\" transform=\"scale(1 1) rotate(0) translate(4 456)\">\n",
       "<title>Tree</title>\n",
       "<polygon fill=\"white\" stroke=\"transparent\" points=\"-4,4 -4,-456 1210,-456 1210,4 -4,4\"/>\n",
       "<!-- 0 -->\n",
       "<g id=\"node1\" class=\"node\">\n",
       "<title>0</title>\n",
       "<polygon fill=\"none\" stroke=\"black\" points=\"656.5,-452 535.5,-452 535.5,-384 656.5,-384 656.5,-452\"/>\n",
       "<text text-anchor=\"middle\" x=\"596\" y=\"-436.8\" font-family=\"Times New Roman,serif\" font-size=\"14.00\">popularity &lt;= 22.5</text>\n",
       "<text text-anchor=\"middle\" x=\"596\" y=\"-421.8\" font-family=\"Times New Roman,serif\" font-size=\"14.00\">mse = 23.708</text>\n",
       "<text text-anchor=\"middle\" x=\"596\" y=\"-406.8\" font-family=\"Times New Roman,serif\" font-size=\"14.00\">samples = 15621</text>\n",
       "<text text-anchor=\"middle\" x=\"596\" y=\"-391.8\" font-family=\"Times New Roman,serif\" font-size=\"14.00\">value = 9.986</text>\n",
       "</g>\n",
       "<!-- 1 -->\n",
       "<g id=\"node2\" class=\"node\">\n",
       "<title>1</title>\n",
       "<polygon fill=\"none\" stroke=\"black\" points=\"518.5,-348 377.5,-348 377.5,-280 518.5,-280 518.5,-348\"/>\n",
       "<text text-anchor=\"middle\" x=\"448\" y=\"-332.8\" font-family=\"Times New Roman,serif\" font-size=\"14.00\">duration_ms &lt;= 3.285</text>\n",
       "<text text-anchor=\"middle\" x=\"448\" y=\"-317.8\" font-family=\"Times New Roman,serif\" font-size=\"14.00\">mse = 23.949</text>\n",
       "<text text-anchor=\"middle\" x=\"448\" y=\"-302.8\" font-family=\"Times New Roman,serif\" font-size=\"14.00\">samples = 5663</text>\n",
       "<text text-anchor=\"middle\" x=\"448\" y=\"-287.8\" font-family=\"Times New Roman,serif\" font-size=\"14.00\">value = 6.874</text>\n",
       "</g>\n",
       "<!-- 0&#45;&gt;1 -->\n",
       "<g id=\"edge1\" class=\"edge\">\n",
       "<title>0&#45;&gt;1</title>\n",
       "<path fill=\"none\" stroke=\"black\" d=\"M547.95,-383.88C534.05,-374.3 518.75,-363.76 504.39,-353.86\"/>\n",
       "<polygon fill=\"black\" stroke=\"black\" points=\"506.28,-350.92 496.06,-348.12 502.31,-356.68 506.28,-350.92\"/>\n",
       "<text text-anchor=\"middle\" x=\"500.59\" y=\"-369.01\" font-family=\"Times New Roman,serif\" font-size=\"14.00\">True</text>\n",
       "</g>\n",
       "<!-- 128 -->\n",
       "<g id=\"node17\" class=\"node\">\n",
       "<title>128</title>\n",
       "<polygon fill=\"none\" stroke=\"black\" points=\"807.5,-348 666.5,-348 666.5,-280 807.5,-280 807.5,-348\"/>\n",
       "<text text-anchor=\"middle\" x=\"737\" y=\"-332.8\" font-family=\"Times New Roman,serif\" font-size=\"14.00\">duration_ms &lt;= 2.866</text>\n",
       "<text text-anchor=\"middle\" x=\"737\" y=\"-317.8\" font-family=\"Times New Roman,serif\" font-size=\"14.00\">mse = 14.93</text>\n",
       "<text text-anchor=\"middle\" x=\"737\" y=\"-302.8\" font-family=\"Times New Roman,serif\" font-size=\"14.00\">samples = 9958</text>\n",
       "<text text-anchor=\"middle\" x=\"737\" y=\"-287.8\" font-family=\"Times New Roman,serif\" font-size=\"14.00\">value = 11.756</text>\n",
       "</g>\n",
       "<!-- 0&#45;&gt;128 -->\n",
       "<g id=\"edge16\" class=\"edge\">\n",
       "<title>0&#45;&gt;128</title>\n",
       "<path fill=\"none\" stroke=\"black\" d=\"M641.78,-383.88C654.83,-374.44 669.18,-364.06 682.69,-354.29\"/>\n",
       "<polygon fill=\"black\" stroke=\"black\" points=\"684.92,-357 690.97,-348.3 680.81,-351.32 684.92,-357\"/>\n",
       "<text text-anchor=\"middle\" x=\"687.01\" y=\"-369.28\" font-family=\"Times New Roman,serif\" font-size=\"14.00\">False</text>\n",
       "</g>\n",
       "<!-- 2 -->\n",
       "<g id=\"node3\" class=\"node\">\n",
       "<title>2</title>\n",
       "<polygon fill=\"none\" stroke=\"black\" points=\"304.5,-244 161.5,-244 161.5,-176 304.5,-176 304.5,-244\"/>\n",
       "<text text-anchor=\"middle\" x=\"233\" y=\"-228.8\" font-family=\"Times New Roman,serif\" font-size=\"14.00\">acousticness &lt;= 0.037</text>\n",
       "<text text-anchor=\"middle\" x=\"233\" y=\"-213.8\" font-family=\"Times New Roman,serif\" font-size=\"14.00\">mse = 17.631</text>\n",
       "<text text-anchor=\"middle\" x=\"233\" y=\"-198.8\" font-family=\"Times New Roman,serif\" font-size=\"14.00\">samples = 3150</text>\n",
       "<text text-anchor=\"middle\" x=\"233\" y=\"-183.8\" font-family=\"Times New Roman,serif\" font-size=\"14.00\">value = 5.15</text>\n",
       "</g>\n",
       "<!-- 1&#45;&gt;2 -->\n",
       "<g id=\"edge2\" class=\"edge\">\n",
       "<title>1&#45;&gt;2</title>\n",
       "<path fill=\"none\" stroke=\"black\" d=\"M378.2,-279.88C357.06,-269.86 333.7,-258.77 312.01,-248.48\"/>\n",
       "<polygon fill=\"black\" stroke=\"black\" points=\"313.36,-245.25 302.82,-244.12 310.36,-251.57 313.36,-245.25\"/>\n",
       "</g>\n",
       "<!-- 65 -->\n",
       "<g id=\"node10\" class=\"node\">\n",
       "<title>65</title>\n",
       "<polygon fill=\"none\" stroke=\"black\" points=\"505,-244 391,-244 391,-176 505,-176 505,-244\"/>\n",
       "<text text-anchor=\"middle\" x=\"448\" y=\"-228.8\" font-family=\"Times New Roman,serif\" font-size=\"14.00\">popularity &lt;= 4.5</text>\n",
       "<text text-anchor=\"middle\" x=\"448\" y=\"-213.8\" font-family=\"Times New Roman,serif\" font-size=\"14.00\">mse = 23.481</text>\n",
       "<text text-anchor=\"middle\" x=\"448\" y=\"-198.8\" font-family=\"Times New Roman,serif\" font-size=\"14.00\">samples = 2513</text>\n",
       "<text text-anchor=\"middle\" x=\"448\" y=\"-183.8\" font-family=\"Times New Roman,serif\" font-size=\"14.00\">value = 9.034</text>\n",
       "</g>\n",
       "<!-- 1&#45;&gt;65 -->\n",
       "<g id=\"edge9\" class=\"edge\">\n",
       "<title>1&#45;&gt;65</title>\n",
       "<path fill=\"none\" stroke=\"black\" d=\"M448,-279.88C448,-271.78 448,-262.98 448,-254.47\"/>\n",
       "<polygon fill=\"black\" stroke=\"black\" points=\"451.5,-254.3 448,-244.3 444.5,-254.3 451.5,-254.3\"/>\n",
       "</g>\n",
       "<!-- 3 -->\n",
       "<g id=\"node4\" class=\"node\">\n",
       "<title>3</title>\n",
       "<polygon fill=\"none\" stroke=\"black\" points=\"158.5,-140 37.5,-140 37.5,-72 158.5,-72 158.5,-140\"/>\n",
       "<text text-anchor=\"middle\" x=\"98\" y=\"-124.8\" font-family=\"Times New Roman,serif\" font-size=\"14.00\">popularity &lt;= 12.5</text>\n",
       "<text text-anchor=\"middle\" x=\"98\" y=\"-109.8\" font-family=\"Times New Roman,serif\" font-size=\"14.00\">mse = 20.234</text>\n",
       "<text text-anchor=\"middle\" x=\"98\" y=\"-94.8\" font-family=\"Times New Roman,serif\" font-size=\"14.00\">samples = 442</text>\n",
       "<text text-anchor=\"middle\" x=\"98\" y=\"-79.8\" font-family=\"Times New Roman,serif\" font-size=\"14.00\">value = 7.846</text>\n",
       "</g>\n",
       "<!-- 2&#45;&gt;3 -->\n",
       "<g id=\"edge3\" class=\"edge\">\n",
       "<title>2&#45;&gt;3</title>\n",
       "<path fill=\"none\" stroke=\"black\" d=\"M189.17,-175.88C176.79,-166.53 163.2,-156.26 150.37,-146.57\"/>\n",
       "<polygon fill=\"black\" stroke=\"black\" points=\"152.16,-143.54 142.07,-140.3 147.94,-149.12 152.16,-143.54\"/>\n",
       "</g>\n",
       "<!-- 34 -->\n",
       "<g id=\"node7\" class=\"node\">\n",
       "<title>34</title>\n",
       "<polygon fill=\"none\" stroke=\"black\" points=\"289.5,-140 176.5,-140 176.5,-72 289.5,-72 289.5,-140\"/>\n",
       "<text text-anchor=\"middle\" x=\"233\" y=\"-124.8\" font-family=\"Times New Roman,serif\" font-size=\"14.00\">valence &lt;= 0.152</text>\n",
       "<text text-anchor=\"middle\" x=\"233\" y=\"-109.8\" font-family=\"Times New Roman,serif\" font-size=\"14.00\">mse = 15.826</text>\n",
       "<text text-anchor=\"middle\" x=\"233\" y=\"-94.8\" font-family=\"Times New Roman,serif\" font-size=\"14.00\">samples = 2708</text>\n",
       "<text text-anchor=\"middle\" x=\"233\" y=\"-79.8\" font-family=\"Times New Roman,serif\" font-size=\"14.00\">value = 4.71</text>\n",
       "</g>\n",
       "<!-- 2&#45;&gt;34 -->\n",
       "<g id=\"edge6\" class=\"edge\">\n",
       "<title>2&#45;&gt;34</title>\n",
       "<path fill=\"none\" stroke=\"black\" d=\"M233,-175.88C233,-167.78 233,-158.98 233,-150.47\"/>\n",
       "<polygon fill=\"black\" stroke=\"black\" points=\"236.5,-150.3 233,-140.3 229.5,-150.3 236.5,-150.3\"/>\n",
       "</g>\n",
       "<!-- 4 -->\n",
       "<g id=\"node5\" class=\"node\">\n",
       "<title>4</title>\n",
       "<polygon fill=\"none\" stroke=\"black\" points=\"54,-36 0,-36 0,0 54,0 54,-36\"/>\n",
       "<text text-anchor=\"middle\" x=\"27\" y=\"-14.3\" font-family=\"Times New Roman,serif\" font-size=\"14.00\">(...)</text>\n",
       "</g>\n",
       "<!-- 3&#45;&gt;4 -->\n",
       "<g id=\"edge4\" class=\"edge\">\n",
       "<title>3&#45;&gt;4</title>\n",
       "<path fill=\"none\" stroke=\"black\" d=\"M70.75,-72C63.17,-62.81 55.05,-52.97 47.89,-44.3\"/>\n",
       "<polygon fill=\"black\" stroke=\"black\" points=\"50.43,-41.89 41.37,-36.4 45.04,-46.34 50.43,-41.89\"/>\n",
       "</g>\n",
       "<!-- 19 -->\n",
       "<g id=\"node6\" class=\"node\">\n",
       "<title>19</title>\n",
       "<polygon fill=\"none\" stroke=\"black\" points=\"126,-36 72,-36 72,0 126,0 126,-36\"/>\n",
       "<text text-anchor=\"middle\" x=\"99\" y=\"-14.3\" font-family=\"Times New Roman,serif\" font-size=\"14.00\">(...)</text>\n",
       "</g>\n",
       "<!-- 3&#45;&gt;19 -->\n",
       "<g id=\"edge5\" class=\"edge\">\n",
       "<title>3&#45;&gt;19</title>\n",
       "<path fill=\"none\" stroke=\"black\" d=\"M98.38,-72C98.48,-63.56 98.59,-54.59 98.68,-46.47\"/>\n",
       "<polygon fill=\"black\" stroke=\"black\" points=\"102.18,-46.44 98.8,-36.4 95.18,-46.36 102.18,-46.44\"/>\n",
       "</g>\n",
       "<!-- 35 -->\n",
       "<g id=\"node8\" class=\"node\">\n",
       "<title>35</title>\n",
       "<polygon fill=\"none\" stroke=\"black\" points=\"229,-36 175,-36 175,0 229,0 229,-36\"/>\n",
       "<text text-anchor=\"middle\" x=\"202\" y=\"-14.3\" font-family=\"Times New Roman,serif\" font-size=\"14.00\">(...)</text>\n",
       "</g>\n",
       "<!-- 34&#45;&gt;35 -->\n",
       "<g id=\"edge7\" class=\"edge\">\n",
       "<title>34&#45;&gt;35</title>\n",
       "<path fill=\"none\" stroke=\"black\" d=\"M221.1,-72C218,-63.38 214.68,-54.19 211.7,-45.92\"/>\n",
       "<polygon fill=\"black\" stroke=\"black\" points=\"214.96,-44.62 208.27,-36.4 208.37,-47 214.96,-44.62\"/>\n",
       "</g>\n",
       "<!-- 50 -->\n",
       "<g id=\"node9\" class=\"node\">\n",
       "<title>50</title>\n",
       "<polygon fill=\"none\" stroke=\"black\" points=\"301,-36 247,-36 247,0 301,0 301,-36\"/>\n",
       "<text text-anchor=\"middle\" x=\"274\" y=\"-14.3\" font-family=\"Times New Roman,serif\" font-size=\"14.00\">(...)</text>\n",
       "</g>\n",
       "<!-- 34&#45;&gt;50 -->\n",
       "<g id=\"edge8\" class=\"edge\">\n",
       "<title>34&#45;&gt;50</title>\n",
       "<path fill=\"none\" stroke=\"black\" d=\"M248.73,-72C252.89,-63.28 257.32,-53.98 261.29,-45.65\"/>\n",
       "<polygon fill=\"black\" stroke=\"black\" points=\"264.56,-46.94 265.7,-36.4 258.24,-43.92 264.56,-46.94\"/>\n",
       "</g>\n",
       "<!-- 66 -->\n",
       "<g id=\"node11\" class=\"node\">\n",
       "<title>66</title>\n",
       "<polygon fill=\"none\" stroke=\"black\" points=\"450.5,-140 307.5,-140 307.5,-72 450.5,-72 450.5,-140\"/>\n",
       "<text text-anchor=\"middle\" x=\"379\" y=\"-124.8\" font-family=\"Times New Roman,serif\" font-size=\"14.00\">acousticness &lt;= 0.083</text>\n",
       "<text text-anchor=\"middle\" x=\"379\" y=\"-109.8\" font-family=\"Times New Roman,serif\" font-size=\"14.00\">mse = 17.363</text>\n",
       "<text text-anchor=\"middle\" x=\"379\" y=\"-94.8\" font-family=\"Times New Roman,serif\" font-size=\"14.00\">samples = 878</text>\n",
       "<text text-anchor=\"middle\" x=\"379\" y=\"-79.8\" font-family=\"Times New Roman,serif\" font-size=\"14.00\">value = 5.925</text>\n",
       "</g>\n",
       "<!-- 65&#45;&gt;66 -->\n",
       "<g id=\"edge10\" class=\"edge\">\n",
       "<title>65&#45;&gt;66</title>\n",
       "<path fill=\"none\" stroke=\"black\" d=\"M425.6,-175.88C419.75,-167.24 413.38,-157.82 407.27,-148.79\"/>\n",
       "<polygon fill=\"black\" stroke=\"black\" points=\"410.03,-146.62 401.53,-140.3 404.23,-150.54 410.03,-146.62\"/>\n",
       "</g>\n",
       "<!-- 97 -->\n",
       "<g id=\"node14\" class=\"node\">\n",
       "<title>97</title>\n",
       "<polygon fill=\"none\" stroke=\"black\" points=\"605,-140 469,-140 469,-72 605,-72 605,-140\"/>\n",
       "<text text-anchor=\"middle\" x=\"537\" y=\"-124.8\" font-family=\"Times New Roman,serif\" font-size=\"14.00\">acousticness &lt;= 0.42</text>\n",
       "<text text-anchor=\"middle\" x=\"537\" y=\"-109.8\" font-family=\"Times New Roman,serif\" font-size=\"14.00\">mse = 18.788</text>\n",
       "<text text-anchor=\"middle\" x=\"537\" y=\"-94.8\" font-family=\"Times New Roman,serif\" font-size=\"14.00\">samples = 1635</text>\n",
       "<text text-anchor=\"middle\" x=\"537\" y=\"-79.8\" font-family=\"Times New Roman,serif\" font-size=\"14.00\">value = 10.703</text>\n",
       "</g>\n",
       "<!-- 65&#45;&gt;97 -->\n",
       "<g id=\"edge13\" class=\"edge\">\n",
       "<title>65&#45;&gt;97</title>\n",
       "<path fill=\"none\" stroke=\"black\" d=\"M476.9,-175.88C484.67,-166.98 493.17,-157.24 501.26,-147.96\"/>\n",
       "<polygon fill=\"black\" stroke=\"black\" points=\"504.01,-150.14 507.94,-140.3 498.73,-145.53 504.01,-150.14\"/>\n",
       "</g>\n",
       "<!-- 67 -->\n",
       "<g id=\"node12\" class=\"node\">\n",
       "<title>67</title>\n",
       "<polygon fill=\"none\" stroke=\"black\" points=\"388,-36 334,-36 334,0 388,0 388,-36\"/>\n",
       "<text text-anchor=\"middle\" x=\"361\" y=\"-14.3\" font-family=\"Times New Roman,serif\" font-size=\"14.00\">(...)</text>\n",
       "</g>\n",
       "<!-- 66&#45;&gt;67 -->\n",
       "<g id=\"edge11\" class=\"edge\">\n",
       "<title>66&#45;&gt;67</title>\n",
       "<path fill=\"none\" stroke=\"black\" d=\"M372.09,-72C370.31,-63.47 368.41,-54.39 366.69,-46.2\"/>\n",
       "<polygon fill=\"black\" stroke=\"black\" points=\"370.12,-45.47 364.64,-36.4 363.27,-46.91 370.12,-45.47\"/>\n",
       "</g>\n",
       "<!-- 82 -->\n",
       "<g id=\"node13\" class=\"node\">\n",
       "<title>82</title>\n",
       "<polygon fill=\"none\" stroke=\"black\" points=\"460,-36 406,-36 406,0 460,0 460,-36\"/>\n",
       "<text text-anchor=\"middle\" x=\"433\" y=\"-14.3\" font-family=\"Times New Roman,serif\" font-size=\"14.00\">(...)</text>\n",
       "</g>\n",
       "<!-- 66&#45;&gt;82 -->\n",
       "<g id=\"edge12\" class=\"edge\">\n",
       "<title>66&#45;&gt;82</title>\n",
       "<path fill=\"none\" stroke=\"black\" d=\"M399.72,-72C405.32,-63.09 411.29,-53.58 416.61,-45.11\"/>\n",
       "<polygon fill=\"black\" stroke=\"black\" points=\"419.72,-46.73 422.07,-36.4 413.79,-43.01 419.72,-46.73\"/>\n",
       "</g>\n",
       "<!-- 98 -->\n",
       "<g id=\"node15\" class=\"node\">\n",
       "<title>98</title>\n",
       "<polygon fill=\"none\" stroke=\"black\" points=\"540,-36 486,-36 486,0 540,0 540,-36\"/>\n",
       "<text text-anchor=\"middle\" x=\"513\" y=\"-14.3\" font-family=\"Times New Roman,serif\" font-size=\"14.00\">(...)</text>\n",
       "</g>\n",
       "<!-- 97&#45;&gt;98 -->\n",
       "<g id=\"edge14\" class=\"edge\">\n",
       "<title>97&#45;&gt;98</title>\n",
       "<path fill=\"none\" stroke=\"black\" d=\"M527.79,-72C525.41,-63.47 522.88,-54.39 520.59,-46.2\"/>\n",
       "<polygon fill=\"black\" stroke=\"black\" points=\"523.92,-45.09 517.86,-36.4 517.17,-46.98 523.92,-45.09\"/>\n",
       "</g>\n",
       "<!-- 113 -->\n",
       "<g id=\"node16\" class=\"node\">\n",
       "<title>113</title>\n",
       "<polygon fill=\"none\" stroke=\"black\" points=\"612,-36 558,-36 558,0 612,0 612,-36\"/>\n",
       "<text text-anchor=\"middle\" x=\"585\" y=\"-14.3\" font-family=\"Times New Roman,serif\" font-size=\"14.00\">(...)</text>\n",
       "</g>\n",
       "<!-- 97&#45;&gt;113 -->\n",
       "<g id=\"edge15\" class=\"edge\">\n",
       "<title>97&#45;&gt;113</title>\n",
       "<path fill=\"none\" stroke=\"black\" d=\"M555.42,-72C560.34,-63.19 565.59,-53.78 570.28,-45.38\"/>\n",
       "<polygon fill=\"black\" stroke=\"black\" points=\"573.47,-46.84 575.29,-36.4 567.36,-43.43 573.47,-46.84\"/>\n",
       "</g>\n",
       "<!-- 129 -->\n",
       "<g id=\"node18\" class=\"node\">\n",
       "<title>129</title>\n",
       "<polygon fill=\"none\" stroke=\"black\" points=\"808.5,-244 665.5,-244 665.5,-176 808.5,-176 808.5,-244\"/>\n",
       "<text text-anchor=\"middle\" x=\"737\" y=\"-228.8\" font-family=\"Times New Roman,serif\" font-size=\"14.00\">acousticness &lt;= 0.293</text>\n",
       "<text text-anchor=\"middle\" x=\"737\" y=\"-213.8\" font-family=\"Times New Roman,serif\" font-size=\"14.00\">mse = 25.756</text>\n",
       "<text text-anchor=\"middle\" x=\"737\" y=\"-198.8\" font-family=\"Times New Roman,serif\" font-size=\"14.00\">samples = 1506</text>\n",
       "<text text-anchor=\"middle\" x=\"737\" y=\"-183.8\" font-family=\"Times New Roman,serif\" font-size=\"14.00\">value = 8.479</text>\n",
       "</g>\n",
       "<!-- 128&#45;&gt;129 -->\n",
       "<g id=\"edge17\" class=\"edge\">\n",
       "<title>128&#45;&gt;129</title>\n",
       "<path fill=\"none\" stroke=\"black\" d=\"M737,-279.88C737,-271.78 737,-262.98 737,-254.47\"/>\n",
       "<polygon fill=\"black\" stroke=\"black\" points=\"740.5,-254.3 737,-244.3 733.5,-254.3 740.5,-254.3\"/>\n",
       "</g>\n",
       "<!-- 190 -->\n",
       "<g id=\"node25\" class=\"node\">\n",
       "<title>190</title>\n",
       "<polygon fill=\"none\" stroke=\"black\" points=\"1027,-244 889,-244 889,-176 1027,-176 1027,-244\"/>\n",
       "<text text-anchor=\"middle\" x=\"958\" y=\"-228.8\" font-family=\"Times New Roman,serif\" font-size=\"14.00\">speechiness &lt;= 0.142</text>\n",
       "<text text-anchor=\"middle\" x=\"958\" y=\"-213.8\" font-family=\"Times New Roman,serif\" font-size=\"14.00\">mse = 10.747</text>\n",
       "<text text-anchor=\"middle\" x=\"958\" y=\"-198.8\" font-family=\"Times New Roman,serif\" font-size=\"14.00\">samples = 8452</text>\n",
       "<text text-anchor=\"middle\" x=\"958\" y=\"-183.8\" font-family=\"Times New Roman,serif\" font-size=\"14.00\">value = 12.34</text>\n",
       "</g>\n",
       "<!-- 128&#45;&gt;190 -->\n",
       "<g id=\"edge24\" class=\"edge\">\n",
       "<title>128&#45;&gt;190</title>\n",
       "<path fill=\"none\" stroke=\"black\" d=\"M807.53,-280.45C830.51,-269.84 856.14,-258.01 879.65,-247.16\"/>\n",
       "<polygon fill=\"black\" stroke=\"black\" points=\"881.28,-250.26 888.89,-242.9 878.34,-243.91 881.28,-250.26\"/>\n",
       "</g>\n",
       "<!-- 130 -->\n",
       "<g id=\"node19\" class=\"node\">\n",
       "<title>130</title>\n",
       "<polygon fill=\"none\" stroke=\"black\" points=\"729,-140 623,-140 623,-72 729,-72 729,-140\"/>\n",
       "<text text-anchor=\"middle\" x=\"676\" y=\"-124.8\" font-family=\"Times New Roman,serif\" font-size=\"14.00\">valence &lt;= 0.68</text>\n",
       "<text text-anchor=\"middle\" x=\"676\" y=\"-109.8\" font-family=\"Times New Roman,serif\" font-size=\"14.00\">mse = 20.371</text>\n",
       "<text text-anchor=\"middle\" x=\"676\" y=\"-94.8\" font-family=\"Times New Roman,serif\" font-size=\"14.00\">samples = 771</text>\n",
       "<text text-anchor=\"middle\" x=\"676\" y=\"-79.8\" font-family=\"Times New Roman,serif\" font-size=\"14.00\">value = 10.086</text>\n",
       "</g>\n",
       "<!-- 129&#45;&gt;130 -->\n",
       "<g id=\"edge18\" class=\"edge\">\n",
       "<title>129&#45;&gt;130</title>\n",
       "<path fill=\"none\" stroke=\"black\" d=\"M717.2,-175.88C712.08,-167.33 706.51,-158.01 701.16,-149.07\"/>\n",
       "<polygon fill=\"black\" stroke=\"black\" points=\"704.05,-147.09 695.91,-140.3 698.04,-150.68 704.05,-147.09\"/>\n",
       "</g>\n",
       "<!-- 161 -->\n",
       "<g id=\"node22\" class=\"node\">\n",
       "<title>161</title>\n",
       "<polygon fill=\"none\" stroke=\"black\" points=\"868.5,-140 747.5,-140 747.5,-72 868.5,-72 868.5,-140\"/>\n",
       "<text text-anchor=\"middle\" x=\"808\" y=\"-124.8\" font-family=\"Times New Roman,serif\" font-size=\"14.00\">popularity &lt;= 41.5</text>\n",
       "<text text-anchor=\"middle\" x=\"808\" y=\"-109.8\" font-family=\"Times New Roman,serif\" font-size=\"14.00\">mse = 25.858</text>\n",
       "<text text-anchor=\"middle\" x=\"808\" y=\"-94.8\" font-family=\"Times New Roman,serif\" font-size=\"14.00\">samples = 735</text>\n",
       "<text text-anchor=\"middle\" x=\"808\" y=\"-79.8\" font-family=\"Times New Roman,serif\" font-size=\"14.00\">value = 6.795</text>\n",
       "</g>\n",
       "<!-- 129&#45;&gt;161 -->\n",
       "<g id=\"edge21\" class=\"edge\">\n",
       "<title>129&#45;&gt;161</title>\n",
       "<path fill=\"none\" stroke=\"black\" d=\"M760.05,-175.88C766.13,-167.15 772.76,-157.62 779.1,-148.51\"/>\n",
       "<polygon fill=\"black\" stroke=\"black\" points=\"781.98,-150.51 784.82,-140.3 776.24,-146.51 781.98,-150.51\"/>\n",
       "</g>\n",
       "<!-- 131 -->\n",
       "<g id=\"node20\" class=\"node\">\n",
       "<title>131</title>\n",
       "<polygon fill=\"none\" stroke=\"black\" points=\"688,-36 634,-36 634,0 688,0 688,-36\"/>\n",
       "<text text-anchor=\"middle\" x=\"661\" y=\"-14.3\" font-family=\"Times New Roman,serif\" font-size=\"14.00\">(...)</text>\n",
       "</g>\n",
       "<!-- 130&#45;&gt;131 -->\n",
       "<g id=\"edge19\" class=\"edge\">\n",
       "<title>130&#45;&gt;131</title>\n",
       "<path fill=\"none\" stroke=\"black\" d=\"M670.24,-72C668.77,-63.56 667.21,-54.59 665.79,-46.47\"/>\n",
       "<polygon fill=\"black\" stroke=\"black\" points=\"669.2,-45.65 664.04,-36.4 662.31,-46.86 669.2,-45.65\"/>\n",
       "</g>\n",
       "<!-- 146 -->\n",
       "<g id=\"node21\" class=\"node\">\n",
       "<title>146</title>\n",
       "<polygon fill=\"none\" stroke=\"black\" points=\"760,-36 706,-36 706,0 760,0 760,-36\"/>\n",
       "<text text-anchor=\"middle\" x=\"733\" y=\"-14.3\" font-family=\"Times New Roman,serif\" font-size=\"14.00\">(...)</text>\n",
       "</g>\n",
       "<!-- 130&#45;&gt;146 -->\n",
       "<g id=\"edge20\" class=\"edge\">\n",
       "<title>130&#45;&gt;146</title>\n",
       "<path fill=\"none\" stroke=\"black\" d=\"M697.87,-72C703.84,-63 710.21,-53.38 715.87,-44.84\"/>\n",
       "<polygon fill=\"black\" stroke=\"black\" points=\"718.86,-46.67 721.47,-36.4 713.02,-42.81 718.86,-46.67\"/>\n",
       "</g>\n",
       "<!-- 162 -->\n",
       "<g id=\"node23\" class=\"node\">\n",
       "<title>162</title>\n",
       "<polygon fill=\"none\" stroke=\"black\" points=\"834,-36 780,-36 780,0 834,0 834,-36\"/>\n",
       "<text text-anchor=\"middle\" x=\"807\" y=\"-14.3\" font-family=\"Times New Roman,serif\" font-size=\"14.00\">(...)</text>\n",
       "</g>\n",
       "<!-- 161&#45;&gt;162 -->\n",
       "<g id=\"edge22\" class=\"edge\">\n",
       "<title>161&#45;&gt;162</title>\n",
       "<path fill=\"none\" stroke=\"black\" d=\"M807.62,-72C807.52,-63.56 807.41,-54.59 807.32,-46.47\"/>\n",
       "<polygon fill=\"black\" stroke=\"black\" points=\"810.82,-46.36 807.2,-36.4 803.82,-46.44 810.82,-46.36\"/>\n",
       "</g>\n",
       "<!-- 177 -->\n",
       "<g id=\"node24\" class=\"node\">\n",
       "<title>177</title>\n",
       "<polygon fill=\"none\" stroke=\"black\" points=\"906,-36 852,-36 852,0 906,0 906,-36\"/>\n",
       "<text text-anchor=\"middle\" x=\"879\" y=\"-14.3\" font-family=\"Times New Roman,serif\" font-size=\"14.00\">(...)</text>\n",
       "</g>\n",
       "<!-- 161&#45;&gt;177 -->\n",
       "<g id=\"edge23\" class=\"edge\">\n",
       "<title>161&#45;&gt;177</title>\n",
       "<path fill=\"none\" stroke=\"black\" d=\"M835.25,-72C842.83,-62.81 850.95,-52.97 858.11,-44.3\"/>\n",
       "<polygon fill=\"black\" stroke=\"black\" points=\"860.96,-46.34 864.63,-36.4 855.57,-41.89 860.96,-46.34\"/>\n",
       "</g>\n",
       "<!-- 191 -->\n",
       "<g id=\"node26\" class=\"node\">\n",
       "<title>191</title>\n",
       "<polygon fill=\"none\" stroke=\"black\" points=\"1029.5,-140 886.5,-140 886.5,-72 1029.5,-72 1029.5,-140\"/>\n",
       "<text text-anchor=\"middle\" x=\"958\" y=\"-124.8\" font-family=\"Times New Roman,serif\" font-size=\"14.00\">acousticness &lt;= 0.425</text>\n",
       "<text text-anchor=\"middle\" x=\"958\" y=\"-109.8\" font-family=\"Times New Roman,serif\" font-size=\"14.00\">mse = 9.108</text>\n",
       "<text text-anchor=\"middle\" x=\"958\" y=\"-94.8\" font-family=\"Times New Roman,serif\" font-size=\"14.00\">samples = 6977</text>\n",
       "<text text-anchor=\"middle\" x=\"958\" y=\"-79.8\" font-family=\"Times New Roman,serif\" font-size=\"14.00\">value = 11.779</text>\n",
       "</g>\n",
       "<!-- 190&#45;&gt;191 -->\n",
       "<g id=\"edge25\" class=\"edge\">\n",
       "<title>190&#45;&gt;191</title>\n",
       "<path fill=\"none\" stroke=\"black\" d=\"M958,-175.88C958,-167.78 958,-158.98 958,-150.47\"/>\n",
       "<polygon fill=\"black\" stroke=\"black\" points=\"961.5,-150.3 958,-140.3 954.5,-150.3 961.5,-150.3\"/>\n",
       "</g>\n",
       "<!-- 222 -->\n",
       "<g id=\"node29\" class=\"node\">\n",
       "<title>222</title>\n",
       "<polygon fill=\"none\" stroke=\"black\" points=\"1190.5,-140 1047.5,-140 1047.5,-72 1190.5,-72 1190.5,-140\"/>\n",
       "<text text-anchor=\"middle\" x=\"1119\" y=\"-124.8\" font-family=\"Times New Roman,serif\" font-size=\"14.00\">acousticness &lt;= 0.613</text>\n",
       "<text text-anchor=\"middle\" x=\"1119\" y=\"-109.8\" font-family=\"Times New Roman,serif\" font-size=\"14.00\">mse = 9.969</text>\n",
       "<text text-anchor=\"middle\" x=\"1119\" y=\"-94.8\" font-family=\"Times New Roman,serif\" font-size=\"14.00\">samples = 1475</text>\n",
       "<text text-anchor=\"middle\" x=\"1119\" y=\"-79.8\" font-family=\"Times New Roman,serif\" font-size=\"14.00\">value = 14.994</text>\n",
       "</g>\n",
       "<!-- 190&#45;&gt;222 -->\n",
       "<g id=\"edge28\" class=\"edge\">\n",
       "<title>190&#45;&gt;222</title>\n",
       "<path fill=\"none\" stroke=\"black\" d=\"M1010.27,-175.88C1025.53,-166.21 1042.35,-155.56 1058.09,-145.59\"/>\n",
       "<polygon fill=\"black\" stroke=\"black\" points=\"1060.14,-148.43 1066.71,-140.12 1056.39,-142.52 1060.14,-148.43\"/>\n",
       "</g>\n",
       "<!-- 192 -->\n",
       "<g id=\"node27\" class=\"node\">\n",
       "<title>192</title>\n",
       "<polygon fill=\"none\" stroke=\"black\" points=\"982,-36 928,-36 928,0 982,0 982,-36\"/>\n",
       "<text text-anchor=\"middle\" x=\"955\" y=\"-14.3\" font-family=\"Times New Roman,serif\" font-size=\"14.00\">(...)</text>\n",
       "</g>\n",
       "<!-- 191&#45;&gt;192 -->\n",
       "<g id=\"edge26\" class=\"edge\">\n",
       "<title>191&#45;&gt;192</title>\n",
       "<path fill=\"none\" stroke=\"black\" d=\"M956.85,-72C956.55,-63.56 956.24,-54.59 955.96,-46.47\"/>\n",
       "<polygon fill=\"black\" stroke=\"black\" points=\"959.45,-46.28 955.61,-36.4 952.46,-46.52 959.45,-46.28\"/>\n",
       "</g>\n",
       "<!-- 207 -->\n",
       "<g id=\"node28\" class=\"node\">\n",
       "<title>207</title>\n",
       "<polygon fill=\"none\" stroke=\"black\" points=\"1054,-36 1000,-36 1000,0 1054,0 1054,-36\"/>\n",
       "<text text-anchor=\"middle\" x=\"1027\" y=\"-14.3\" font-family=\"Times New Roman,serif\" font-size=\"14.00\">(...)</text>\n",
       "</g>\n",
       "<!-- 191&#45;&gt;207 -->\n",
       "<g id=\"edge27\" class=\"edge\">\n",
       "<title>191&#45;&gt;207</title>\n",
       "<path fill=\"none\" stroke=\"black\" d=\"M984.48,-72C991.85,-62.81 999.74,-52.97 1006.7,-44.3\"/>\n",
       "<polygon fill=\"black\" stroke=\"black\" points=\"1009.51,-46.39 1013.04,-36.4 1004.05,-42.01 1009.51,-46.39\"/>\n",
       "</g>\n",
       "<!-- 223 -->\n",
       "<g id=\"node30\" class=\"node\">\n",
       "<title>223</title>\n",
       "<polygon fill=\"none\" stroke=\"black\" points=\"1134,-36 1080,-36 1080,0 1134,0 1134,-36\"/>\n",
       "<text text-anchor=\"middle\" x=\"1107\" y=\"-14.3\" font-family=\"Times New Roman,serif\" font-size=\"14.00\">(...)</text>\n",
       "</g>\n",
       "<!-- 222&#45;&gt;223 -->\n",
       "<g id=\"edge29\" class=\"edge\">\n",
       "<title>222&#45;&gt;223</title>\n",
       "<path fill=\"none\" stroke=\"black\" d=\"M1114.39,-72C1113.22,-63.56 1111.97,-54.59 1110.83,-46.47\"/>\n",
       "<polygon fill=\"black\" stroke=\"black\" points=\"1114.28,-45.82 1109.43,-36.4 1107.34,-46.79 1114.28,-45.82\"/>\n",
       "</g>\n",
       "<!-- 238 -->\n",
       "<g id=\"node31\" class=\"node\">\n",
       "<title>238</title>\n",
       "<polygon fill=\"none\" stroke=\"black\" points=\"1206,-36 1152,-36 1152,0 1206,0 1206,-36\"/>\n",
       "<text text-anchor=\"middle\" x=\"1179\" y=\"-14.3\" font-family=\"Times New Roman,serif\" font-size=\"14.00\">(...)</text>\n",
       "</g>\n",
       "<!-- 222&#45;&gt;238 -->\n",
       "<g id=\"edge30\" class=\"edge\">\n",
       "<title>222&#45;&gt;238</title>\n",
       "<path fill=\"none\" stroke=\"black\" d=\"M1142.03,-72C1148.3,-63 1155.02,-53.38 1160.97,-44.84\"/>\n",
       "<polygon fill=\"black\" stroke=\"black\" points=\"1164.01,-46.61 1166.86,-36.4 1158.27,-42.6 1164.01,-46.61\"/>\n",
       "</g>\n",
       "</g>\n",
       "</svg>\n"
      ],
      "text/plain": [
       "<graphviz.sources.Source at 0x1e42cd63640>"
      ]
     },
     "execution_count": 79,
     "metadata": {},
     "output_type": "execute_result"
    }
   ],
   "source": [
    "import os\n",
    "os.environ[\"PATH\"] += os.pathsep + 'C:/Program Files/Graphviz/bin/'\n",
    "\n",
    "\n",
    "import graphviz\n",
    "from sklearn.tree import export_graphviz\n",
    "g = graphviz.Source(export_graphviz(model, feature_names=feature_names, max_depth=3))\n",
    "g"
   ]
  },
  {
   "cell_type": "code",
   "execution_count": 80,
   "id": "bda5a60f",
   "metadata": {
    "ExecuteTime": {
     "end_time": "2022-03-03T22:03:42.938262Z",
     "start_time": "2022-03-03T22:03:42.808235Z"
    }
   },
   "outputs": [
    {
     "data": {
      "text/plain": [
       "'..\\\\figures\\\\rating_decision_tree.png'"
      ]
     },
     "execution_count": 80,
     "metadata": {},
     "output_type": "execute_result"
    }
   ],
   "source": [
    "g.render('../figures/rating_decision_tree', format='png')"
   ]
  }
 ],
 "metadata": {
  "kernelspec": {
   "display_name": "Python 3 (ipykernel)",
   "language": "python",
   "name": "python3"
  },
  "language_info": {
   "codemirror_mode": {
    "name": "ipython",
    "version": 3
   },
   "file_extension": ".py",
   "mimetype": "text/x-python",
   "name": "python",
   "nbconvert_exporter": "python",
   "pygments_lexer": "ipython3",
   "version": "3.9.7"
  }
 },
 "nbformat": 4,
 "nbformat_minor": 5
}
