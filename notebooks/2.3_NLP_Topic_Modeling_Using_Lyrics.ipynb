{
 "cells": [
  {
   "cell_type": "markdown",
   "id": "4f103753",
   "metadata": {},
   "source": [
    "# Load Data"
   ]
  },
  {
   "cell_type": "code",
   "execution_count": 1,
   "id": "c505c132",
   "metadata": {
    "ExecuteTime": {
     "end_time": "2022-03-01T00:35:27.620430Z",
     "start_time": "2022-03-01T00:35:24.908850Z"
    }
   },
   "outputs": [],
   "source": [
    "import seaborn as sns"
   ]
  },
  {
   "cell_type": "code",
   "execution_count": 2,
   "id": "23d460b3",
   "metadata": {
    "ExecuteTime": {
     "end_time": "2022-03-01T00:35:28.020026Z",
     "start_time": "2022-03-01T00:35:27.620430Z"
    }
   },
   "outputs": [
    {
     "name": "stdout",
     "output_type": "stream",
     "text": [
      "Columns of df:  [(0, 'Age'), (1, 'Album_Name'), (2, 'Artist'), (3, 'Year'), (4, 'Description'), (5, 'Age Group'), (6, 'Album_ID'), (7, 'Album_Name_Spotify'), (8, 'Artists_Spotify'), (9, 'Track_ID'), (10, 'ISRC'), (11, 'Track_Name'), (12, 'Artists'), (13, 'popularity'), (14, 'preview_url'), (15, 'image_url'), (16, 'danceability'), (17, 'energy'), (18, 'key'), (19, 'loudness'), (20, 'mode'), (21, 'speechiness'), (22, 'acousticness'), (23, 'instrumentalness'), (24, 'liveness'), (25, 'valence'), (26, 'tempo'), (27, 'type'), (28, 'uri'), (29, 'track_href'), (30, 'analysis_url'), (31, 'duration_ms'), (32, 'time_signature'), (33, 'lyrics')] \n",
      "\n",
      "Shape of df:  (19560, 34) \n",
      "\n",
      "Number of songs having lyrics:  14270 \n",
      "\n"
     ]
    }
   ],
   "source": [
    "import pandas as pd\n",
    "\n",
    "df = pd.read_csv(\"../data/all.csv\")\n",
    "print (\"Columns of df: \",  list(enumerate(df.columns)), \"\\n\")\n",
    "\n",
    "print (\"Shape of df: \", df.shape, \"\\n\")\n",
    "\n",
    "print (\"Number of songs having lyrics: \", df['lyrics'].notnull().sum(), \"\\n\")\n",
    "\n"
   ]
  },
  {
   "cell_type": "code",
   "execution_count": 3,
   "id": "5f0f47cd",
   "metadata": {
    "ExecuteTime": {
     "end_time": "2022-03-01T00:35:28.038774Z",
     "start_time": "2022-03-01T00:35:28.020026Z"
    }
   },
   "outputs": [
    {
     "data": {
      "text/plain": [
       "\"Baby dear, blessed be your shining light\\r\\nBaby dear, blessed be your morning smile\\r\\nBaby dear, blessed be your gleaming eyes\\r\\nBlessed be the precious child, our beloved baby dear\\r\\n\\r\\nBaby dear, we will love with all our might\\r\\nBaby dear, we will comfort you at night\\r\\nBaby dear, with all the love we've got\\r\\n...\\r\\n\\r\\n******* This Lyrics is NOT for Commercial use *******\\r\\n(1409621371225)\""
      ]
     },
     "execution_count": 3,
     "metadata": {},
     "output_type": "execute_result"
    }
   ],
   "source": [
    "df['lyrics'][1023]"
   ]
  },
  {
   "cell_type": "code",
   "execution_count": 4,
   "id": "4d4f075e",
   "metadata": {
    "ExecuteTime": {
     "end_time": "2022-03-01T00:35:28.443474Z",
     "start_time": "2022-03-01T00:35:28.039874Z"
    }
   },
   "outputs": [],
   "source": [
    "#df =  df[df['Age']<6]\n",
    "df = df.dropna(subset=['lyrics'])\n",
    "df = df.reset_index(drop=True)\n",
    "\n",
    "import re\n",
    "\n",
    "def remove_disclaimer(string):\n",
    "    s = re.sub(r'(\\*)+ This Lyrics is NOT for Commercial use .*\\r\\n\\([0-9]*\\)',\"\", string)\n",
    "    return s\n",
    "\n",
    "df['lyrics'] = df['lyrics'].apply(remove_disclaimer)"
   ]
  },
  {
   "cell_type": "code",
   "execution_count": 5,
   "id": "c52cea42",
   "metadata": {
    "ExecuteTime": {
     "end_time": "2022-03-01T00:35:28.458685Z",
     "start_time": "2022-03-01T00:35:28.444689Z"
    }
   },
   "outputs": [
    {
     "data": {
      "text/plain": [
       "\"Bing bang bong, a ring rang rong\\r\\nThat's a pirate song\\r\\nI love to sing (he loves to sing)\\r\\nI'll sing anything (he'll sing anything)\\r\\nCaptain Feathersword sings\\r\\n\\r\\nOoh, I love to eat (he loves to eat)\\r\\nI'll eat anything (he'll eat anything)\\r\\nCaptain Feathersword eats\\r\\n...\\r\\n\\r\\n\""
      ]
     },
     "execution_count": 5,
     "metadata": {},
     "output_type": "execute_result"
    }
   ],
   "source": [
    "df['lyrics'][5]"
   ]
  },
  {
   "cell_type": "code",
   "execution_count": null,
   "id": "df82e480",
   "metadata": {},
   "outputs": [],
   "source": []
  },
  {
   "cell_type": "markdown",
   "id": "cf9f1c6b",
   "metadata": {},
   "source": [
    "# Text Processing"
   ]
  },
  {
   "cell_type": "code",
   "execution_count": 6,
   "id": "627ffa59",
   "metadata": {
    "ExecuteTime": {
     "end_time": "2022-03-01T00:35:30.177540Z",
     "start_time": "2022-03-01T00:35:28.462588Z"
    }
   },
   "outputs": [],
   "source": [
    "import spacy\n",
    "nlp = spacy.load(\"en\", disable=['parser','ner','tagger', 'textcat'])"
   ]
  },
  {
   "cell_type": "code",
   "execution_count": 7,
   "id": "d255d198",
   "metadata": {
    "ExecuteTime": {
     "end_time": "2022-03-01T00:35:30.231392Z",
     "start_time": "2022-03-01T00:35:30.177540Z"
    }
   },
   "outputs": [],
   "source": [
    "import re\n",
    "\n",
    "def my_lemmatizer(doc):\n",
    "    doc_cleaned = ' '.join(re.findall(r'\\b\\w[\\w\\']+\\b', doc))\n",
    "    return [ w.lemma_.lower() for w in nlp(doc_cleaned) \n",
    "                      if w.lemma_ not in ['_', '.', '-PRON-'] ]\n",
    "\n",
    "stopwords = spacy.lang.en.stop_words.STOP_WORDS\n",
    "\n",
    "stopwords = set(my_lemmatizer(' '.join(list(stopwords))))"
   ]
  },
  {
   "cell_type": "code",
   "execution_count": 8,
   "id": "93bb8ab0",
   "metadata": {
    "ExecuteTime": {
     "end_time": "2022-03-01T00:35:30.262468Z",
     "start_time": "2022-03-01T00:35:30.231392Z"
    }
   },
   "outputs": [
    {
     "data": {
      "text/plain": [
       "0        In old Transylvania when I was a lad\\r\\nOur ca...\n",
       "1        Saw a monster in the mirror when I woke up tod...\n",
       "2        The Big Red Car rolls along the street\\r\\nAnd ...\n",
       "3        Every night under the sea, a friendly octopus,...\n",
       "4        Having fun at the beach\\r\\nHaving fun at the b...\n",
       "                               ...                        \n",
       "14265    Just saw an alien saucer approaching from the ...\n",
       "14266    Just saw an alien saucer approaching from the ...\n",
       "14267    Just saw an alien saucer approaching from the ...\n",
       "14268    Just saw an alien saucer approaching from the ...\n",
       "14269    Rack rack city, bitch\\r\\nRack rack rack city, ...\n",
       "Name: lyrics, Length: 14270, dtype: object"
      ]
     },
     "execution_count": 8,
     "metadata": {},
     "output_type": "execute_result"
    }
   ],
   "source": [
    "df['lyrics']"
   ]
  },
  {
   "cell_type": "code",
   "execution_count": 9,
   "id": "5462632c",
   "metadata": {
    "ExecuteTime": {
     "end_time": "2022-03-01T00:35:30.281712Z",
     "start_time": "2022-03-01T00:35:30.268819Z"
    }
   },
   "outputs": [],
   "source": [
    "s = df['lyrics'][0]"
   ]
  },
  {
   "cell_type": "code",
   "execution_count": 10,
   "id": "57070ced",
   "metadata": {
    "ExecuteTime": {
     "end_time": "2022-03-01T00:35:30.423013Z",
     "start_time": "2022-03-01T00:35:30.285931Z"
    }
   },
   "outputs": [],
   "source": [
    "import re\n",
    "re.sub?"
   ]
  },
  {
   "cell_type": "code",
   "execution_count": 11,
   "id": "6a8b4214",
   "metadata": {
    "ExecuteTime": {
     "end_time": "2022-03-01T00:35:30.449101Z",
     "start_time": "2022-03-01T00:35:30.423013Z"
    }
   },
   "outputs": [
    {
     "data": {
      "text/plain": [
       "\"In old Transylvania when I was a lad\\r\\nOur castle was poor but we never were sad\\r\\nWe learned to be happy\\r\\nWe'd dance round the hall\\r\\nAnd learning to count was the key to it all\\r\\nBy counting each count I knew just where to start\\r\\nAnd one special step has stayed close to my heart\\r\\n\\r\\nOne two three, spread out the cape\\r\\nOne two three, twirl round the floor\\r\\nOne two three, left foot you swing\\r\\nOne two three, then start to sing\\r\\nOne two three, loud as you please\\r\\n...\\r\\n\\r\\n\""
      ]
     },
     "execution_count": 11,
     "metadata": {},
     "output_type": "execute_result"
    }
   ],
   "source": [
    "\n",
    "re.sub(r'(\\*){7} This Lyrics is NOT for Commercial use .*\\r\\n\\([0-9]*\\)',\"\", s)"
   ]
  },
  {
   "cell_type": "markdown",
   "id": "a566efe6",
   "metadata": {},
   "source": [
    "# Bag-of-Words Model + K-Mean clustering"
   ]
  },
  {
   "cell_type": "code",
   "execution_count": 12,
   "id": "2a783e3f",
   "metadata": {
    "ExecuteTime": {
     "end_time": "2022-03-01T00:35:54.492560Z",
     "start_time": "2022-03-01T00:35:30.451535Z"
    }
   },
   "outputs": [],
   "source": [
    "from sklearn.feature_extraction.text import CountVectorizer, TfidfTransformer\n",
    "max_features = 1000\n",
    "\n",
    "cv = CountVectorizer(tokenizer=my_lemmatizer, stop_words=stopwords, \n",
    "                     min_df=1, max_df=0.9, max_features=max_features)\n",
    "counts = cv.fit_transform(df['lyrics'])\n",
    "\n",
    "tf = TfidfTransformer()\n",
    "matrix = tf.fit_transform(counts)"
   ]
  },
  {
   "cell_type": "code",
   "execution_count": 13,
   "id": "245bb106",
   "metadata": {
    "ExecuteTime": {
     "end_time": "2022-03-01T00:35:54.523721Z",
     "start_time": "2022-03-01T00:35:54.492560Z"
    }
   },
   "outputs": [
    {
     "data": {
      "text/plain": [
       "['fallin',\n",
       " 'uhh',\n",
       " 'tell',\n",
       " 'bunch',\n",
       " 'vein',\n",
       " 'west',\n",
       " 'california',\n",
       " 'drive',\n",
       " 'wish',\n",
       " 'forget']"
      ]
     },
     "execution_count": 13,
     "metadata": {},
     "output_type": "execute_result"
    }
   ],
   "source": [
    "import random   \n",
    "random.sample(list(cv.get_feature_names_out()), 10)    #random select 10 words from CountVectorizer"
   ]
  },
  {
   "cell_type": "code",
   "execution_count": 14,
   "id": "2faddffc",
   "metadata": {
    "ExecuteTime": {
     "end_time": "2022-03-01T00:36:28.808018Z",
     "start_time": "2022-03-01T00:35:54.528147Z"
    }
   },
   "outputs": [
    {
     "name": "stdout",
     "output_type": "stream",
     "text": [
      "Cluster 0: \n",
      "come let need feel want heart like baby know love \n",
      "\n",
      "Cluster 1: \n",
      "cause want way wanna think let like time feel know \n",
      "\n",
      "Cluster 2: \n",
      "want baby cause come like love whoa know yes oh \n",
      "\n",
      "Cluster 3: \n",
      "oh want know ooh la like hey baby girl yes \n",
      "\n",
      "Cluster 4: \n",
      "cause away time let look day man know come like \n",
      "\n"
     ]
    }
   ],
   "source": [
    "from sklearn.cluster import KMeans\n",
    "number_of_clusters = 5\n",
    "\n",
    "kmc_5 = KMeans(n_clusters=number_of_clusters, n_init=3, random_state=117)  # random_state for consistency\n",
    "kmc_5.fit(matrix)\n",
    "kmc_5.cluster_centers_\n",
    "import numpy as np\n",
    "\n",
    "number_of_top_words = 10\n",
    "\n",
    "cluster_words = np.argsort(kmc_5.cluster_centers_, axis=1)\n",
    "terms = cv.get_feature_names_out()\n",
    "\n",
    "top_words = set()\n",
    "\n",
    "for i in range(number_of_clusters):\n",
    "    print('Cluster {}: '.format(i))\n",
    "    print(' '.join([terms[k] for k in cluster_words[i][-number_of_top_words:]]),'\\n')\n",
    "    top_words = top_words.union([terms[k] for k in cluster_words[i][-number_of_top_words:]])\n",
    "    \n",
    "top_words = sorted(list(top_words))"
   ]
  },
  {
   "cell_type": "code",
   "execution_count": 15,
   "id": "499d6087",
   "metadata": {
    "ExecuteTime": {
     "end_time": "2022-03-01T00:36:28.946824Z",
     "start_time": "2022-03-01T00:36:28.808018Z"
    }
   },
   "outputs": [
    {
     "data": {
      "text/html": [
       "<div>\n",
       "<style scoped>\n",
       "    .dataframe tbody tr th:only-of-type {\n",
       "        vertical-align: middle;\n",
       "    }\n",
       "\n",
       "    .dataframe tbody tr th {\n",
       "        vertical-align: top;\n",
       "    }\n",
       "\n",
       "    .dataframe thead th {\n",
       "        text-align: right;\n",
       "    }\n",
       "</style>\n",
       "<table border=\"1\" class=\"dataframe\">\n",
       "  <thead>\n",
       "    <tr style=\"text-align: right;\">\n",
       "      <th></th>\n",
       "      <th>away</th>\n",
       "      <th>baby</th>\n",
       "      <th>cause</th>\n",
       "      <th>come</th>\n",
       "      <th>day</th>\n",
       "      <th>feel</th>\n",
       "      <th>girl</th>\n",
       "      <th>heart</th>\n",
       "      <th>hey</th>\n",
       "      <th>know</th>\n",
       "      <th>...</th>\n",
       "      <th>oh</th>\n",
       "      <th>ooh</th>\n",
       "      <th>think</th>\n",
       "      <th>time</th>\n",
       "      <th>wanna</th>\n",
       "      <th>want</th>\n",
       "      <th>way</th>\n",
       "      <th>whoa</th>\n",
       "      <th>yes</th>\n",
       "      <th>Cluster</th>\n",
       "    </tr>\n",
       "  </thead>\n",
       "  <tbody>\n",
       "    <tr>\n",
       "      <th>4965</th>\n",
       "      <td>0</td>\n",
       "      <td>0</td>\n",
       "      <td>0</td>\n",
       "      <td>0</td>\n",
       "      <td>0</td>\n",
       "      <td>0</td>\n",
       "      <td>0</td>\n",
       "      <td>0</td>\n",
       "      <td>0</td>\n",
       "      <td>2</td>\n",
       "      <td>...</td>\n",
       "      <td>0</td>\n",
       "      <td>0</td>\n",
       "      <td>0</td>\n",
       "      <td>0</td>\n",
       "      <td>0</td>\n",
       "      <td>0</td>\n",
       "      <td>0</td>\n",
       "      <td>0</td>\n",
       "      <td>0</td>\n",
       "      <td>1</td>\n",
       "    </tr>\n",
       "    <tr>\n",
       "      <th>12198</th>\n",
       "      <td>0</td>\n",
       "      <td>0</td>\n",
       "      <td>2</td>\n",
       "      <td>0</td>\n",
       "      <td>0</td>\n",
       "      <td>1</td>\n",
       "      <td>1</td>\n",
       "      <td>1</td>\n",
       "      <td>0</td>\n",
       "      <td>2</td>\n",
       "      <td>...</td>\n",
       "      <td>0</td>\n",
       "      <td>0</td>\n",
       "      <td>2</td>\n",
       "      <td>2</td>\n",
       "      <td>0</td>\n",
       "      <td>0</td>\n",
       "      <td>0</td>\n",
       "      <td>0</td>\n",
       "      <td>1</td>\n",
       "      <td>4</td>\n",
       "    </tr>\n",
       "    <tr>\n",
       "      <th>14184</th>\n",
       "      <td>3</td>\n",
       "      <td>0</td>\n",
       "      <td>3</td>\n",
       "      <td>0</td>\n",
       "      <td>2</td>\n",
       "      <td>1</td>\n",
       "      <td>0</td>\n",
       "      <td>0</td>\n",
       "      <td>0</td>\n",
       "      <td>2</td>\n",
       "      <td>...</td>\n",
       "      <td>3</td>\n",
       "      <td>0</td>\n",
       "      <td>0</td>\n",
       "      <td>0</td>\n",
       "      <td>1</td>\n",
       "      <td>0</td>\n",
       "      <td>0</td>\n",
       "      <td>0</td>\n",
       "      <td>4</td>\n",
       "      <td>3</td>\n",
       "    </tr>\n",
       "  </tbody>\n",
       "</table>\n",
       "<p>3 rows × 27 columns</p>\n",
       "</div>"
      ],
      "text/plain": [
       "       away  baby  cause  come  day  feel  girl  heart  hey  know  ...  oh  \\\n",
       "4965      0     0      0     0    0     0     0      0    0     2  ...   0   \n",
       "12198     0     0      2     0    0     1     1      1    0     2  ...   0   \n",
       "14184     3     0      3     0    2     1     0      0    0     2  ...   3   \n",
       "\n",
       "       ooh  think  time  wanna  want  way  whoa  yes  Cluster  \n",
       "4965     0      0     0      0     0    0     0    0        1  \n",
       "12198    0      2     2      0     0    0     0    1        4  \n",
       "14184    0      0     0      1     0    0     0    4        3  \n",
       "\n",
       "[3 rows x 27 columns]"
      ]
     },
     "execution_count": 15,
     "metadata": {},
     "output_type": "execute_result"
    }
   ],
   "source": [
    "word_df = pd.DataFrame(counts.toarray(), columns=terms)[top_words]\n",
    "word_df['Cluster'] = kmc_5.labels_.tolist()\n",
    "word_df.sample(3)"
   ]
  },
  {
   "cell_type": "code",
   "execution_count": 16,
   "id": "b6183f17",
   "metadata": {
    "ExecuteTime": {
     "end_time": "2022-03-01T00:36:29.284301Z",
     "start_time": "2022-03-01T00:36:28.946824Z"
    }
   },
   "outputs": [
    {
     "data": {
      "image/png": "[encoded data removed]",
      "text/plain": [
       "<Figure size 432x288 with 1 Axes>"
      ]
     },
     "metadata": {
      "needs_background": "light"
     },
     "output_type": "display_data"
    }
   ],
   "source": [
    "word_df.groupby('Cluster').count()[top_words[0]].\\\n",
    "    plot.bar(rot=0).\\\n",
    "    set(ylabel='Document count',\n",
    "    title='Number of Documents per Cluster');"
   ]
  },
  {
   "cell_type": "markdown",
   "id": "e8833c91",
   "metadata": {},
   "source": [
    "# Latent Dirichlet allocation (LDA)"
   ]
  },
  {
   "cell_type": "code",
   "execution_count": 17,
   "id": "3926d91f",
   "metadata": {
    "ExecuteTime": {
     "end_time": "2022-03-01T00:36:56.914098Z",
     "start_time": "2022-03-01T00:36:29.284301Z"
    }
   },
   "outputs": [],
   "source": [
    "import gensim\n",
    "\n",
    "import re\n",
    "def process_words(texts, stop_words=set()):\n",
    "    result = []\n",
    "    for t in texts:\n",
    "        t = ' '.join(re.findall(r'\\b\\w[\\w\\']+\\b', t))\n",
    "        doc = nlp(t)\n",
    "        result.append([token.lemma_.lower() for token in doc if token.lemma_ not in stop_words])\n",
    "    return result\n",
    "\n",
    "processed_text = process_words(df['lyrics'], stop_words=stopwords.union(['-PRON-']))"
   ]
  },
  {
   "cell_type": "code",
   "execution_count": 18,
   "id": "bc4d5c3e",
   "metadata": {
    "ExecuteTime": {
     "end_time": "2022-03-01T00:37:35.588989Z",
     "start_time": "2022-03-01T00:36:56.914098Z"
    }
   },
   "outputs": [
    {
     "name": "stdout",
     "output_type": "stream",
     "text": [
      "Number of unique tokens: 25548\n"
     ]
    }
   ],
   "source": [
    "dictionary = gensim.corpora.Dictionary(processed_text)\n",
    "print('Number of unique tokens: {}'.format(len(dictionary)))\n",
    "corpus = [dictionary.doc2bow(t) for t in processed_text]\n",
    "num_topics = 5\n",
    "\n",
    "lda_model = gensim.models.ldamodel.LdaModel(corpus=corpus, \n",
    "                                            id2word=dictionary,\n",
    "                                            num_topics=num_topics, \n",
    "                                            random_state=117, update_every=1,\n",
    "                                            chunksize=1500, \n",
    "                                            passes=5, iterations=10,\n",
    "                                            alpha='asymmetric', eta=1/100,\n",
    "                                            per_word_topics=True)"
   ]
  },
  {
   "cell_type": "code",
   "execution_count": 19,
   "id": "2db7490c",
   "metadata": {
    "ExecuteTime": {
     "end_time": "2022-03-01T00:37:35.623038Z",
     "start_time": "2022-03-01T00:37:35.592949Z"
    }
   },
   "outputs": [
    {
     "name": "stdout",
     "output_type": "stream",
     "text": [
      "[(0,\n",
      "  '0.026*\"la\" + 0.014*\"black\" + 0.012*\"like\" + 0.010*\"she\" + 0.010*\"new\" + '\n",
      "  '0.009*\"bitch\" + 0.008*\"night\" + 0.008*\"party\" + 0.008*\"hoe\" + 0.007*\"ma\"'),\n",
      " (1,\n",
      "  '0.029*\"and\" + 0.020*\"you\" + 0.018*\"know\" + 0.015*\"the\" + 0.014*\"come\" + '\n",
      "  '0.014*\"time\" + 0.012*\"let\" + 0.012*\"but\" + 0.010*\"fall\" + 0.009*\"away\"'),\n",
      " (2,\n",
      "  '0.114*\"oh\" + 0.059*\"love\" + 0.048*\"know\" + 0.042*\"yes\" + 0.038*\"baby\" + '\n",
      "  '0.027*\"you\" + 0.024*\"want\" + 0.021*\"ooh\" + 0.020*\"and\" + 0.020*\"girl\"'),\n",
      " (3,\n",
      "  '0.033*\"and\" + 0.025*\"like\" + 0.017*\"but\" + 0.015*\"feel\" + 0.013*\"know\" + '\n",
      "  '0.011*\"need\" + 0.010*\"man\" + 0.010*\"want\" + 0.009*\"what\" + 0.009*\"way\"'),\n",
      " (4,\n",
      "  '0.035*\"like\" + 0.018*\"come\" + 0.017*\"girl\" + 0.017*\"na\" + 0.015*\"shit\" + '\n",
      "  '0.015*\"let\" + 0.014*\"you\" + 0.012*\"nigga\" + 0.012*\"hey\" + 0.012*\"wanna\"')]\n"
     ]
    }
   ],
   "source": [
    "from pprint import pprint\n",
    "\n",
    "pprint(lda_model.print_topics(num_words=10))"
   ]
  },
  {
   "cell_type": "code",
   "execution_count": 20,
   "id": "9994f8c0",
   "metadata": {
    "ExecuteTime": {
     "end_time": "2022-03-01T00:37:35.656709Z",
     "start_time": "2022-03-01T00:37:35.625554Z"
    }
   },
   "outputs": [
    {
     "data": {
      "text/plain": [
       "[(0, 0.29254863), (1, 0.46760994), (3, 0.23324442)]"
      ]
     },
     "execution_count": 20,
     "metadata": {},
     "output_type": "execute_result"
    }
   ],
   "source": [
    "lda_model.get_document_topics(corpus[0])"
   ]
  },
  {
   "cell_type": "code",
   "execution_count": 21,
   "id": "12495907",
   "metadata": {
    "ExecuteTime": {
     "end_time": "2022-03-01T00:37:35.686211Z",
     "start_time": "2022-03-01T00:37:35.656709Z"
    }
   },
   "outputs": [],
   "source": [
    "def get_main_topic_df(model, bow, texts):\n",
    "    topic_list = []\n",
    "    percent_list = []\n",
    "    keyword_list = []\n",
    "    \n",
    "    for wc in bow:\n",
    "        topic, percent = sorted(model.get_document_topics(wc), key=lambda x: x[1], reverse=True)[0]\n",
    "        topic_list.append(topic)\n",
    "        percent_list.append(round(percent, 3))\n",
    "        keyword_list.append(' '.join(sorted([x[0] for x in model.show_topic(topic)])))\n",
    "\n",
    "    result_df = pd.concat([pd.Series(topic_list, name='Dominant_topic'), \n",
    "                           pd.Series(percent_list, name='Percent'), \n",
    "                           pd.Series(texts, name='Processed_text'), \n",
    "                           pd.Series(keyword_list, name='Keywords')], axis=1)\n",
    "\n",
    "    return result_df"
   ]
  },
  {
   "cell_type": "code",
   "execution_count": 22,
   "id": "d1342cd0",
   "metadata": {
    "ExecuteTime": {
     "end_time": "2022-03-01T00:37:53.785279Z",
     "start_time": "2022-03-01T00:37:35.686211Z"
    }
   },
   "outputs": [
    {
     "data": {
      "text/html": [
       "<div>\n",
       "<style scoped>\n",
       "    .dataframe tbody tr th:only-of-type {\n",
       "        vertical-align: middle;\n",
       "    }\n",
       "\n",
       "    .dataframe tbody tr th {\n",
       "        vertical-align: top;\n",
       "    }\n",
       "\n",
       "    .dataframe thead th {\n",
       "        text-align: right;\n",
       "    }\n",
       "</style>\n",
       "<table border=\"1\" class=\"dataframe\">\n",
       "  <thead>\n",
       "    <tr style=\"text-align: right;\">\n",
       "      <th></th>\n",
       "      <th>Dominant_topic</th>\n",
       "      <th>Percent</th>\n",
       "      <th>Processed_text</th>\n",
       "      <th>Keywords</th>\n",
       "    </tr>\n",
       "  </thead>\n",
       "  <tbody>\n",
       "    <tr>\n",
       "      <th>10126</th>\n",
       "      <td>4</td>\n",
       "      <td>0.435</td>\n",
       "      <td>[welcome, welcome, to, future, uhh, blue, prin...</td>\n",
       "      <td>come girl hey let like na nigga shit wanna you</td>\n",
       "    </tr>\n",
       "    <tr>\n",
       "      <th>9525</th>\n",
       "      <td>4</td>\n",
       "      <td>0.547</td>\n",
       "      <td>[woo, what, folk, oh, this, right, 16, year, o...</td>\n",
       "      <td>come girl hey let like na nigga shit wanna you</td>\n",
       "    </tr>\n",
       "    <tr>\n",
       "      <th>11996</th>\n",
       "      <td>3</td>\n",
       "      <td>0.410</td>\n",
       "      <td>[yeah, yes, yes, yes, yes, yes, yes, let, ha, ...</td>\n",
       "      <td>and but feel know like man need want way what</td>\n",
       "    </tr>\n",
       "    <tr>\n",
       "      <th>2337</th>\n",
       "      <td>3</td>\n",
       "      <td>0.429</td>\n",
       "      <td>[well, hello, let, everybody, know, love, hear...</td>\n",
       "      <td>and but feel know like man need want way what</td>\n",
       "    </tr>\n",
       "    <tr>\n",
       "      <th>11458</th>\n",
       "      <td>4</td>\n",
       "      <td>0.464</td>\n",
       "      <td>[fabolous, talk, fabolous, yes, uh, huh, uh, h...</td>\n",
       "      <td>come girl hey let like na nigga shit wanna you</td>\n",
       "    </tr>\n",
       "    <tr>\n",
       "      <th>10476</th>\n",
       "      <td>3</td>\n",
       "      <td>0.525</td>\n",
       "      <td>[my, temper, well, and, mean, know, single, th...</td>\n",
       "      <td>and but feel know like man need want way what</td>\n",
       "    </tr>\n",
       "    <tr>\n",
       "      <th>13621</th>\n",
       "      <td>4</td>\n",
       "      <td>0.782</td>\n",
       "      <td>[somebody, shawty, fire, burn, dance, floor, w...</td>\n",
       "      <td>come girl hey let like na nigga shit wanna you</td>\n",
       "    </tr>\n",
       "    <tr>\n",
       "      <th>2347</th>\n",
       "      <td>1</td>\n",
       "      <td>0.606</td>\n",
       "      <td>[sometimes, sit, wonder, and, believe, what, b...</td>\n",
       "      <td>and away but come fall know let the time you</td>\n",
       "    </tr>\n",
       "    <tr>\n",
       "      <th>3204</th>\n",
       "      <td>1</td>\n",
       "      <td>0.340</td>\n",
       "      <td>[my, homie, knee, high, we, come, south, where...</td>\n",
       "      <td>and away but come fall know let the time you</td>\n",
       "    </tr>\n",
       "    <tr>\n",
       "      <th>9718</th>\n",
       "      <td>4</td>\n",
       "      <td>0.304</td>\n",
       "      <td>[now, bounce, wit, wit, can, lean, wit, rock, ...</td>\n",
       "      <td>come girl hey let like na nigga shit wanna you</td>\n",
       "    </tr>\n",
       "  </tbody>\n",
       "</table>\n",
       "</div>"
      ],
      "text/plain": [
       "       Dominant_topic  Percent  \\\n",
       "10126               4    0.435   \n",
       "9525                4    0.547   \n",
       "11996               3    0.410   \n",
       "2337                3    0.429   \n",
       "11458               4    0.464   \n",
       "10476               3    0.525   \n",
       "13621               4    0.782   \n",
       "2347                1    0.606   \n",
       "3204                1    0.340   \n",
       "9718                4    0.304   \n",
       "\n",
       "                                          Processed_text  \\\n",
       "10126  [welcome, welcome, to, future, uhh, blue, prin...   \n",
       "9525   [woo, what, folk, oh, this, right, 16, year, o...   \n",
       "11996  [yeah, yes, yes, yes, yes, yes, yes, let, ha, ...   \n",
       "2337   [well, hello, let, everybody, know, love, hear...   \n",
       "11458  [fabolous, talk, fabolous, yes, uh, huh, uh, h...   \n",
       "10476  [my, temper, well, and, mean, know, single, th...   \n",
       "13621  [somebody, shawty, fire, burn, dance, floor, w...   \n",
       "2347   [sometimes, sit, wonder, and, believe, what, b...   \n",
       "3204   [my, homie, knee, high, we, come, south, where...   \n",
       "9718   [now, bounce, wit, wit, can, lean, wit, rock, ...   \n",
       "\n",
       "                                             Keywords  \n",
       "10126  come girl hey let like na nigga shit wanna you  \n",
       "9525   come girl hey let like na nigga shit wanna you  \n",
       "11996   and but feel know like man need want way what  \n",
       "2337    and but feel know like man need want way what  \n",
       "11458  come girl hey let like na nigga shit wanna you  \n",
       "10476   and but feel know like man need want way what  \n",
       "13621  come girl hey let like na nigga shit wanna you  \n",
       "2347     and away but come fall know let the time you  \n",
       "3204     and away but come fall know let the time you  \n",
       "9718   come girl hey let like na nigga shit wanna you  "
      ]
     },
     "execution_count": 22,
     "metadata": {},
     "output_type": "execute_result"
    }
   ],
   "source": [
    "main_topic_df = get_main_topic_df(lda_model, corpus, processed_text)\n",
    "\n",
    "main_topic_df.sample(10)"
   ]
  },
  {
   "cell_type": "code",
   "execution_count": 23,
   "id": "6310a0b1",
   "metadata": {
    "ExecuteTime": {
     "end_time": "2022-03-01T00:37:54.033941Z",
     "start_time": "2022-03-01T00:37:53.786303Z"
    }
   },
   "outputs": [
    {
     "data": {
      "image/png": "[encoded data removed]",
      "text/plain": [
       "<Figure size 432x288 with 1 Axes>"
      ]
     },
     "metadata": {
      "needs_background": "light"
     },
     "output_type": "display_data"
    }
   ],
   "source": [
    "grouped_topics = main_topic_df.groupby('Dominant_topic')\n",
    "grouped_topics.count()['Processed_text'].\\\n",
    "    plot.bar(rot=0).\\\n",
    "    set(title='Dominant Topic Frequency in the {} Reviews'.format(len(df)),\n",
    "        ylabel='Topic frequency'); "
   ]
  },
  {
   "cell_type": "code",
   "execution_count": 48,
   "id": "4c3a36e6",
   "metadata": {
    "ExecuteTime": {
     "end_time": "2022-03-01T01:15:05.969071Z",
     "start_time": "2022-03-01T01:15:05.894386Z"
    }
   },
   "outputs": [
    {
     "data": {
      "text/html": [
       "<div>\n",
       "<style scoped>\n",
       "    .dataframe tbody tr th:only-of-type {\n",
       "        vertical-align: middle;\n",
       "    }\n",
       "\n",
       "    .dataframe tbody tr th {\n",
       "        vertical-align: top;\n",
       "    }\n",
       "\n",
       "    .dataframe thead th {\n",
       "        text-align: right;\n",
       "    }\n",
       "</style>\n",
       "<table border=\"1\" class=\"dataframe\">\n",
       "  <thead>\n",
       "    <tr style=\"text-align: right;\">\n",
       "      <th></th>\n",
       "      <th>Dominant_topic</th>\n",
       "      <th>Percent</th>\n",
       "      <th>Processed_text</th>\n",
       "      <th>Keywords</th>\n",
       "    </tr>\n",
       "  </thead>\n",
       "  <tbody>\n",
       "    <tr>\n",
       "      <th>10818</th>\n",
       "      <td>0</td>\n",
       "      <td>0.994</td>\n",
       "      <td>[sean, paul, pa, toa, en, la, calle, te, quier...</td>\n",
       "      <td>bitch black hoe la like ma new night party she</td>\n",
       "    </tr>\n",
       "    <tr>\n",
       "      <th>7014</th>\n",
       "      <td>1</td>\n",
       "      <td>0.985</td>\n",
       "      <td>[when, day, cold, and, card, fold, and, saint,...</td>\n",
       "      <td>and away but come fall know let the time you</td>\n",
       "    </tr>\n",
       "    <tr>\n",
       "      <th>8801</th>\n",
       "      <td>2</td>\n",
       "      <td>0.991</td>\n",
       "      <td>[late, glass, sit, for, night, ignoring, every...</td>\n",
       "      <td>and baby girl know love oh ooh want yes you</td>\n",
       "    </tr>\n",
       "    <tr>\n",
       "      <th>3906</th>\n",
       "      <td>3</td>\n",
       "      <td>0.985</td>\n",
       "      <td>[another, blinger, slick, trigger, finger, her...</td>\n",
       "      <td>and but feel know like man need want way what</td>\n",
       "    </tr>\n",
       "    <tr>\n",
       "      <th>11086</th>\n",
       "      <td>4</td>\n",
       "      <td>0.993</td>\n",
       "      <td>[wanna, rock, right, want, wanna, rock, right,...</td>\n",
       "      <td>come girl hey let like na nigga shit wanna you</td>\n",
       "    </tr>\n",
       "  </tbody>\n",
       "</table>\n",
       "</div>"
      ],
      "text/plain": [
       "       Dominant_topic  Percent  \\\n",
       "10818               0    0.994   \n",
       "7014                1    0.985   \n",
       "8801                2    0.991   \n",
       "3906                3    0.985   \n",
       "11086               4    0.993   \n",
       "\n",
       "                                          Processed_text  \\\n",
       "10818  [sean, paul, pa, toa, en, la, calle, te, quier...   \n",
       "7014   [when, day, cold, and, card, fold, and, saint,...   \n",
       "8801   [late, glass, sit, for, night, ignoring, every...   \n",
       "3906   [another, blinger, slick, trigger, finger, her...   \n",
       "11086  [wanna, rock, right, want, wanna, rock, right,...   \n",
       "\n",
       "                                             Keywords  \n",
       "10818  bitch black hoe la like ma new night party she  \n",
       "7014     and away but come fall know let the time you  \n",
       "8801      and baby girl know love oh ooh want yes you  \n",
       "3906    and but feel know like man need want way what  \n",
       "11086  come girl hey let like na nigga shit wanna you  "
      ]
     },
     "execution_count": 48,
     "metadata": {},
     "output_type": "execute_result"
    }
   ],
   "source": [
    "representatives = pd.DataFrame()\n",
    "\n",
    "for k in grouped_topics.groups.keys():\n",
    "    representatives = pd.concat([ representatives, \n",
    "                                 grouped_topics.get_group(k).sort_values(['Percent'], ascending=False).head(1) ])\n",
    "    \n",
    "representatives"
   ]
  },
  {
   "cell_type": "code",
   "execution_count": 47,
   "id": "bc804b82",
   "metadata": {
    "ExecuteTime": {
     "end_time": "2022-03-01T01:14:08.573169Z",
     "start_time": "2022-03-01T01:14:08.492463Z"
    }
   },
   "outputs": [
    {
     "data": {
      "application/vnd.jupyter.widget-view+json": {
       "model_id": "c93eba8f42584ced8eded4f6cc3c762c",
       "version_major": 2,
       "version_minor": 0
      },
      "text/plain": [
       "interactive(children=(Dropdown(description='idx', options=(0, 1, 2, 3, 4), value=0), Output()), _dom_classes=(…"
      ]
     },
     "metadata": {},
     "output_type": "display_data"
    }
   ],
   "source": [
    "import ipywidgets as widgets\n",
    "from IPython.display import display\n",
    "from ipywidgets import interact, interactive\n",
    "\n",
    "\n",
    "\n",
    "def f(idx):\n",
    "    print('Document: {}  Dominant topic: {}\\n'.format(representatives.index[idx], \n",
    "                                       representatives.loc[representatives.index[idx]]['Dominant_topic']))\n",
    "    print(df['lyrics'][representatives.index[idx]])\n",
    "\n",
    "    \n",
    "interactive(f, idx = widgets.Dropdown(options=[0,1,2,3,4], value=0))"
   ]
  }
 ],
 "metadata": {
  "kernelspec": {
   "display_name": "Python 3 (ipykernel)",
   "language": "python",
   "name": "python3"
  },
  "language_info": {
   "codemirror_mode": {
    "name": "ipython",
    "version": 3
   },
   "file_extension": ".py",
   "mimetype": "text/x-python",
   "name": "python",
   "nbconvert_exporter": "python",
   "pygments_lexer": "ipython3",
   "version": "3.9.10"
  }
 },
 "nbformat": 4,
 "nbformat_minor": 5
}
