{
 "cells": [
  {
   "cell_type": "code",
   "execution_count": 1,
   "id": "939de3ed",
   "metadata": {
    "ExecuteTime": {
     "end_time": "2022-03-03T23:24:37.388301Z",
     "start_time": "2022-03-03T23:24:34.931343Z"
    }
   },
   "outputs": [],
   "source": [
    "import numpy as np\n",
    "import pandas as pd\n",
    "import matplotlib.pyplot as plt\n",
    "import seaborn as sns\n",
    "import spotipy\n",
    "import os\n",
    "%matplotlib inline\n"
   ]
  },
  {
   "cell_type": "code",
   "execution_count": 57,
   "id": "6ddc004f",
   "metadata": {
    "ExecuteTime": {
     "end_time": "2022-03-03T23:41:20.835190Z",
     "start_time": "2022-03-03T23:41:20.198739Z"
    }
   },
   "outputs": [],
   "source": [
    "df = pd.read_csv('../data/all.csv')\n",
    "df = df.dropna(subset=['lyrics'])\n",
    "df = df.reset_index(drop=True)\n",
    "\n",
    "import re\n",
    "\n",
    "def remove_disclaimer(string):\n",
    "    s = re.sub(r'(\\*)+ This Lyrics is NOT for Commercial use .*\\r\\n\\([0-9]*\\)',\"\", string)\n",
    "    return s\n",
    "\n",
    "df['lyrics'] = df['lyrics'].apply(remove_disclaimer)"
   ]
  },
  {
   "cell_type": "code",
   "execution_count": 9,
   "id": "23c848ba",
   "metadata": {
    "ExecuteTime": {
     "end_time": "2022-03-03T23:29:11.058304Z",
     "start_time": "2022-03-03T23:29:11.030740Z"
    }
   },
   "outputs": [
    {
     "data": {
      "text/plain": [
       "(14270, 34)"
      ]
     },
     "execution_count": 9,
     "metadata": {},
     "output_type": "execute_result"
    }
   ],
   "source": [
    "df.shape"
   ]
  },
  {
   "cell_type": "code",
   "execution_count": 84,
   "id": "c453a2e1",
   "metadata": {
    "ExecuteTime": {
     "end_time": "2022-03-04T07:52:35.070938Z",
     "start_time": "2022-03-04T07:41:27.139586Z"
    }
   },
   "outputs": [
    {
     "name": "stdout",
     "output_type": "stream",
     "text": [
      "Fitting 3 folds for each of 10 candidates, totalling 30 fits\n"
     ]
    }
   ],
   "source": [
    "from sklearn.preprocessing import FunctionTransformer\n",
    "from sklearn.compose import ColumnTransformer\n",
    "from sklearn.feature_extraction.text import CountVectorizer\n",
    "from sklearn.pipeline import Pipeline\n",
    "from sklearn.linear_model import Ridge\n",
    "from sklearn.model_selection import GridSearchCV, train_test_split\n",
    "from sklearn.utils import shuffle\n",
    "from sklearn.tree import DecisionTreeRegressor\n",
    "\n",
    "\n",
    "X = df[['lyrics']]\n",
    "y = df['Age']\n",
    "\n",
    "#X_train, y_train = shuffle(X, y, random_state=42)\n",
    "\n",
    "X_train, X_test, y_train, y_test = train_test_split( X, y, test_size=0.2, random_state=42)\n",
    "\n",
    "bag_of_words_model = Pipeline([\n",
    "    ('vectorizer', ColumnTransformer([('counter', CountVectorizer(),'lyrics')])),\n",
    "    ('regressor', Ridge())     \n",
    "])\n",
    "\n",
    "\n",
    "param_grid = {'regressor__alpha':[0, 5, 10, 15, 20], 'vectorizer__counter__min_df': [2], \n",
    "              'vectorizer__counter__max_df': [0.9, 0.95]}\n",
    "\n",
    "\n",
    "gs_est = GridSearchCV(bag_of_words_model, param_grid, cv=3, n_jobs=2, verbose=1, return_train_score = True)\n",
    "model = gs_est.fit(X_train, y_train)"
   ]
  },
  {
   "cell_type": "code",
   "execution_count": 85,
   "id": "65260cc7",
   "metadata": {
    "ExecuteTime": {
     "end_time": "2022-03-04T07:56:06.547075Z",
     "start_time": "2022-03-04T07:56:06.520220Z"
    }
   },
   "outputs": [
    {
     "data": {
      "text/plain": [
       "Pipeline(steps=[('vectorizer',\n",
       "                 ColumnTransformer(transformers=[('counter',\n",
       "                                                  CountVectorizer(max_df=0.9,\n",
       "                                                                  min_df=2),\n",
       "                                                  'lyrics')])),\n",
       "                ('regressor', Ridge(alpha=20))])"
      ]
     },
     "execution_count": 85,
     "metadata": {},
     "output_type": "execute_result"
    }
   ],
   "source": [
    "gs_est.best_estimator_"
   ]
  },
  {
   "cell_type": "code",
   "execution_count": 86,
   "id": "6da5b0d4",
   "metadata": {
    "ExecuteTime": {
     "end_time": "2022-03-04T07:56:12.960022Z",
     "start_time": "2022-03-04T07:56:12.948912Z"
    }
   },
   "outputs": [
    {
     "data": {
      "text/plain": [
       "array([-1.66442037e+08, -1.66442037e+08,  3.69911289e-02,  3.69911289e-02,\n",
       "        1.67789105e-01,  1.67789105e-01,  2.21945275e-01,  2.21945275e-01,\n",
       "        2.52346946e-01,  2.52346946e-01])"
      ]
     },
     "execution_count": 86,
     "metadata": {},
     "output_type": "execute_result"
    }
   ],
   "source": [
    "gs_est.cv_results_['mean_test_score']"
   ]
  },
  {
   "cell_type": "code",
   "execution_count": 87,
   "id": "5ac3cdb0",
   "metadata": {
    "ExecuteTime": {
     "end_time": "2022-03-04T07:56:35.760579Z",
     "start_time": "2022-03-04T07:56:35.746951Z"
    }
   },
   "outputs": [],
   "source": [
    "alpha = gs_est.param_grid['regressor__alpha']\n",
    "\n",
    "#plt.plot(alpha, gs_est.cv_results_['mean_test_score'], c='r', label = 'validation score')\n",
    "#plt.plot(alpha, gs_est.cv_results_['mean_train_score'], c='b', label = 'train score')\n",
    "#plt.xlabel('regressor_alpha')\n",
    "#plt.ylabel('score')\n",
    "#plt.legend(loc='upper right');"
   ]
  },
  {
   "cell_type": "code",
   "execution_count": 88,
   "id": "6aaf36f1",
   "metadata": {
    "ExecuteTime": {
     "end_time": "2022-03-04T07:56:37.783873Z",
     "start_time": "2022-03-04T07:56:37.762524Z"
    }
   },
   "outputs": [
    {
     "data": {
      "text/plain": [
       "0.2523469464603774"
      ]
     },
     "execution_count": 88,
     "metadata": {},
     "output_type": "execute_result"
    }
   ],
   "source": [
    "gs_est.best_score_"
   ]
  },
  {
   "cell_type": "code",
   "execution_count": 89,
   "id": "2b9b8240",
   "metadata": {
    "ExecuteTime": {
     "end_time": "2022-03-04T07:56:39.980733Z",
     "start_time": "2022-03-04T07:56:39.674691Z"
    }
   },
   "outputs": [],
   "source": [
    "y_pred = gs_est.predict(X_test)"
   ]
  },
  {
   "cell_type": "code",
   "execution_count": 90,
   "id": "dd1142a4",
   "metadata": {
    "ExecuteTime": {
     "end_time": "2022-03-04T07:56:41.615668Z",
     "start_time": "2022-03-04T07:56:41.601470Z"
    }
   },
   "outputs": [
    {
     "name": "stdout",
     "output_type": "stream",
     "text": [
      "Error (RMSE):  3.351922865054057\n",
      "R^2 Score:  0.3108768002078405\n"
     ]
    }
   ],
   "source": [
    "from sklearn.metrics import mean_squared_error, r2_score\n",
    "\n",
    "print (\"Error (RMSE): \", mean_squared_error(y_test, y_pred, squared=False))\n",
    "print (\"R^2 Score: \" , r2_score(y_test, y_pred))"
   ]
  },
  {
   "cell_type": "code",
   "execution_count": null,
   "id": "1485ad6e",
   "metadata": {},
   "outputs": [],
   "source": []
  }
 ],
 "metadata": {
  "kernelspec": {
   "display_name": "Python 3 (ipykernel)",
   "language": "python",
   "name": "python3"
  },
  "language_info": {
   "codemirror_mode": {
    "name": "ipython",
    "version": 3
   },
   "file_extension": ".py",
   "mimetype": "text/x-python",
   "name": "python",
   "nbconvert_exporter": "python",
   "pygments_lexer": "ipython3",
   "version": "3.9.7"
  }
 },
 "nbformat": 4,
 "nbformat_minor": 5
}
