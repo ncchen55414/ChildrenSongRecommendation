{
 "cells": [
  {
   "cell_type": "code",
   "execution_count": 1,
   "id": "2c924ccd",
   "metadata": {
    "ExecuteTime": {
     "end_time": "2022-02-22T21:22:26.085969Z",
     "start_time": "2022-02-22T21:22:26.072974Z"
    }
   },
   "outputs": [],
   "source": [
    "# https://developer.musixmatch.com/documentation/api-reference/track-get"
   ]
  },
  {
   "cell_type": "code",
   "execution_count": 2,
   "id": "2be56d44",
   "metadata": {
    "ExecuteTime": {
     "end_time": "2022-02-22T21:22:31.788235Z",
     "start_time": "2022-02-22T21:22:27.235269Z"
    }
   },
   "outputs": [],
   "source": [
    "import numpy as np\n",
    "import pandas as pd\n",
    "import matplotlib.pyplot as plt\n",
    "import seaborn as sns\n",
    "sns.set()\n",
    "import os\n",
    "import sys\n",
    "import re\n",
    "import time\n",
    "import requests\n",
    "%matplotlib inline\n",
    "\n",
    "from dotenv import load_dotenv\n",
    "%load_ext dotenv\n",
    "%dotenv"
   ]
  },
  {
   "cell_type": "markdown",
   "id": "91c04922",
   "metadata": {},
   "source": [
    "# Example: Use MusicMatch API to find lyrics"
   ]
  },
  {
   "cell_type": "code",
   "execution_count": 3,
   "id": "e7e9407e",
   "metadata": {
    "ExecuteTime": {
     "end_time": "2022-02-22T21:22:43.283747Z",
     "start_time": "2022-02-22T21:22:42.790628Z"
    }
   },
   "outputs": [
    {
     "name": "stdout",
     "output_type": "stream",
     "text": [
      "Greg: Well, it's Christmas time in Wiggle World\n",
      "And as you can see\n",
      "We're dancing round and decorating\n",
      "Our Wiggly Christmas tree\n",
      "We'll have lots of fun\n",
      "In our Christmas way\n",
      "We just can't wait for Christmas day\n",
      "Wiggles: Can't wait for Christmas day, can't wait for Christmas day\n",
      "Well, Murray and Greg are having fun\n",
      "Hanging the Christmas star\n",
      "Murray: This is fun\n",
      "Greg: You'll hear Wags the Dog bark his Christmas song\n",
      "No matter where you are\n",
      "...\n",
      "\n",
      "******* This Lyrics is NOT for Commercial use *******\n",
      "(1409621371225)\n"
     ]
    }
   ],
   "source": [
    "# https://developer.musixmatch.com/documentation/api-reference/track-get\n",
    "\n",
    "\n",
    "base_url = 'https://api.musixmatch.com/ws/1.1/'\n",
    "api_key = os.environ['MUSIXMATCH_API_KEY']\n",
    "\n",
    "isrc = 'AUAB00000088'\n",
    "\n",
    "query_string = f\"{base_url}matcher.lyrics.get?track_isrc={isrc}&apikey={api_key}\"\n",
    "response = requests.get(query_string)\n",
    "\n",
    "\n",
    "with open('outputfile.json', 'wb') as outf:\n",
    "    outf.write(response.content)\n",
    "\n",
    "response = response.json()\n",
    "lyrics = response['message']['body']['lyrics']['lyrics_body']\n",
    "explicit = response['message']['body']['lyrics']['explicit']\n",
    "\n",
    "print (lyrics)"
   ]
  },
  {
   "cell_type": "markdown",
   "id": "844164f1",
   "metadata": {},
   "source": [
    "# Load Tracks data"
   ]
  },
  {
   "cell_type": "code",
   "execution_count": 4,
   "id": "00462c58",
   "metadata": {
    "ExecuteTime": {
     "end_time": "2022-02-22T21:22:46.373629Z",
     "start_time": "2022-02-22T21:22:46.215684Z"
    }
   },
   "outputs": [
    {
     "data": {
      "text/html": [
       "<div>\n",
       "<style scoped>\n",
       "    .dataframe tbody tr th:only-of-type {\n",
       "        vertical-align: middle;\n",
       "    }\n",
       "\n",
       "    .dataframe tbody tr th {\n",
       "        vertical-align: top;\n",
       "    }\n",
       "\n",
       "    .dataframe thead th {\n",
       "        text-align: right;\n",
       "    }\n",
       "</style>\n",
       "<table border=\"1\" class=\"dataframe\">\n",
       "  <thead>\n",
       "    <tr style=\"text-align: right;\">\n",
       "      <th></th>\n",
       "      <th>Track_ID</th>\n",
       "      <th>ISRC</th>\n",
       "      <th>Track_Name</th>\n",
       "      <th>Artists</th>\n",
       "      <th>popularity</th>\n",
       "      <th>preview_url</th>\n",
       "    </tr>\n",
       "  </thead>\n",
       "  <tbody>\n",
       "    <tr>\n",
       "      <th>0</th>\n",
       "      <td>2FPQI1LRwWszttbRG8hknk</td>\n",
       "      <td>USSM19601624</td>\n",
       "      <td>Games Monsters Play</td>\n",
       "      <td>['Herry Monster', 'Grover']</td>\n",
       "      <td>6</td>\n",
       "      <td>https://p.scdn.co/mp3-preview/33cc59cc1836954e...</td>\n",
       "    </tr>\n",
       "    <tr>\n",
       "      <th>1</th>\n",
       "      <td>6pOoswwC1lNBI2TapMdaEW</td>\n",
       "      <td>USSM19600385</td>\n",
       "      <td>Afraid of the Dark</td>\n",
       "      <td>['Telly Monster']</td>\n",
       "      <td>6</td>\n",
       "      <td>https://p.scdn.co/mp3-preview/cf340f0b536edadd...</td>\n",
       "    </tr>\n",
       "    <tr>\n",
       "      <th>2</th>\n",
       "      <td>2EEwSq98rKwlRWT7sNCLRc</td>\n",
       "      <td>USSM19700463</td>\n",
       "      <td>Eensy Weensy Spider</td>\n",
       "      <td>['Count Von Count', 'The Sesame Street Kids']</td>\n",
       "      <td>10</td>\n",
       "      <td>https://p.scdn.co/mp3-preview/4cdc12aaeb7da4b7...</td>\n",
       "    </tr>\n",
       "  </tbody>\n",
       "</table>\n",
       "</div>"
      ],
      "text/plain": [
       "                 Track_ID          ISRC           Track_Name  \\\n",
       "0  2FPQI1LRwWszttbRG8hknk  USSM19601624  Games Monsters Play   \n",
       "1  6pOoswwC1lNBI2TapMdaEW  USSM19600385   Afraid of the Dark   \n",
       "2  2EEwSq98rKwlRWT7sNCLRc  USSM19700463  Eensy Weensy Spider   \n",
       "\n",
       "                                         Artists  popularity  \\\n",
       "0                    ['Herry Monster', 'Grover']           6   \n",
       "1                              ['Telly Monster']           6   \n",
       "2  ['Count Von Count', 'The Sesame Street Kids']          10   \n",
       "\n",
       "                                         preview_url  \n",
       "0  https://p.scdn.co/mp3-preview/33cc59cc1836954e...  \n",
       "1  https://p.scdn.co/mp3-preview/cf340f0b536edadd...  \n",
       "2  https://p.scdn.co/mp3-preview/4cdc12aaeb7da4b7...  "
      ]
     },
     "execution_count": 4,
     "metadata": {},
     "output_type": "execute_result"
    }
   ],
   "source": [
    "tracks_df = pd.read_csv(\"../data/track_isrc.csv\")\n",
    "tracks_df.head(3)"
   ]
  },
  {
   "cell_type": "code",
   "execution_count": 5,
   "id": "a1f970ec",
   "metadata": {
    "ExecuteTime": {
     "end_time": "2022-02-22T21:22:47.834379Z",
     "start_time": "2022-02-22T21:22:47.795359Z"
    }
   },
   "outputs": [
    {
     "name": "stdout",
     "output_type": "stream",
     "text": [
      "18074\n"
     ]
    },
    {
     "data": {
      "text/plain": [
       "Track_ID          0\n",
       "ISRC              0\n",
       "Track_Name        0\n",
       "Artists           0\n",
       "popularity        0\n",
       "preview_url    7790\n",
       "dtype: int64"
      ]
     },
     "execution_count": 5,
     "metadata": {},
     "output_type": "execute_result"
    }
   ],
   "source": [
    "# Check null values\n",
    "\n",
    "print (len(tracks_df))\n",
    "tracks_df.isnull().sum() \n",
    "\n",
    "# All tracks have ISRC.  "
   ]
  },
  {
   "cell_type": "code",
   "execution_count": 6,
   "id": "b87c0c91",
   "metadata": {
    "ExecuteTime": {
     "end_time": "2022-02-16T07:34:33.039670Z",
     "start_time": "2022-02-16T07:34:13.447127Z"
    }
   },
   "outputs": [],
   "source": [
    "base_url = 'https://api.musixmatch.com/ws/1.1/'\n",
    "api_key = os.environ['MUSIXMATCH_API_KEY']\n",
    "\n",
    "# Feb 10, 10AM   idx 1800: 3700\n",
    "# Feb 11, 10:30AM  index 3700:5600\n",
    "# Feb 11, 10:50AM, index 5600:5700\n",
    "# Feb 11, 10:52AM  index 5700:6000\n",
    "# Feb 12,  12:40PM index 6000:8000\n",
    "# Feb 12,  4:20PM index 8000:10000\n",
    "# Feb 13, 11:30AM  index 10000:12000\n",
    "# Feb 13, 13:40PM  index 12000:14000\n",
    "# Feb 14, 13:00PM index 14000:16000\n",
    "# Feb 14, 23:10PM index 16000:18000\n",
    "# Feb 15, 23:20PM index 16000:18000   (try again to compare with yesterday)\n",
    "# Feb 15, 23:34 PM index 18000:18074\n",
    "\n",
    "\n",
    "for (i, row) in tracks_df[18000:].iterrows():\n",
    "        \n",
    "    isrc = row['ISRC']\n",
    "    query_string = f\"{base_url}matcher.lyrics.get?track_isrc={isrc}&apikey={api_key}\"\n",
    "    response = requests.get(query_string)\n",
    "    \n",
    "    filepath = os.path.join('../data/lyrics/',isrc + \".json\")\n",
    "\n",
    "    with open(filepath, 'wb') as outf:\n",
    "        outf.write(response.content)\n",
    "        \n",
    "    if i%100 == 0:\n",
    "        time.sleep(3)\n"
   ]
  },
  {
   "cell_type": "code",
   "execution_count": 4,
   "id": "9ca8e2e3",
   "metadata": {
    "ExecuteTime": {
     "end_time": "2022-02-22T01:16:57.316174Z",
     "start_time": "2022-02-22T01:15:18.909587Z"
    }
   },
   "outputs": [],
   "source": [
    "import json\n",
    "\n",
    "lyrics_df = []\n",
    "for (i, row) in tracks_df.iterrows():\n",
    "        \n",
    "    isrc = row['ISRC']\n",
    "\n",
    "    filepath = os.path.join('../data/lyrics/',isrc + \".json\")\n",
    "\n",
    "    with open(filepath, 'r') as f:\n",
    "        data = json.load(f)\n",
    "        body = data['message']['body']\n",
    "        if body:\n",
    "            lyrics = body.get('lyrics')['lyrics_body']\n",
    "            if lyrics:\n",
    "                count += 1\n",
    "                lyrics_df.append([isrc, lyrics])\n"
   ]
  },
  {
   "cell_type": "code",
   "execution_count": 6,
   "id": "103c1286",
   "metadata": {
    "ExecuteTime": {
     "end_time": "2022-02-22T21:23:04.145001Z",
     "start_time": "2022-02-22T21:23:03.913635Z"
    }
   },
   "outputs": [
    {
     "data": {
      "text/html": [
       "<div>\n",
       "<style scoped>\n",
       "    .dataframe tbody tr th:only-of-type {\n",
       "        vertical-align: middle;\n",
       "    }\n",
       "\n",
       "    .dataframe tbody tr th {\n",
       "        vertical-align: top;\n",
       "    }\n",
       "\n",
       "    .dataframe thead th {\n",
       "        text-align: right;\n",
       "    }\n",
       "</style>\n",
       "<table border=\"1\" class=\"dataframe\">\n",
       "  <thead>\n",
       "    <tr style=\"text-align: right;\">\n",
       "      <th></th>\n",
       "      <th>ISRC</th>\n",
       "      <th>lyrics</th>\n",
       "    </tr>\n",
       "  </thead>\n",
       "  <tbody>\n",
       "    <tr>\n",
       "      <th>5502</th>\n",
       "      <td>USMC10400184</td>\n",
       "      <td>You must not have a heart\\nHave nothing in you...</td>\n",
       "    </tr>\n",
       "    <tr>\n",
       "      <th>6210</th>\n",
       "      <td>USUM70845900</td>\n",
       "      <td>If you feel like runnin' today\\nYou know I'd u...</td>\n",
       "    </tr>\n",
       "    <tr>\n",
       "      <th>2308</th>\n",
       "      <td>GBAAA9600217</td>\n",
       "      <td>(Ah, yeah, hey, yea, yeah)\\n(Oh yeah)\\nWe've g...</td>\n",
       "    </tr>\n",
       "  </tbody>\n",
       "</table>\n",
       "</div>"
      ],
      "text/plain": [
       "              ISRC                                             lyrics\n",
       "5502  USMC10400184  You must not have a heart\\nHave nothing in you...\n",
       "6210  USUM70845900  If you feel like runnin' today\\nYou know I'd u...\n",
       "2308  GBAAA9600217  (Ah, yeah, hey, yea, yeah)\\n(Oh yeah)\\nWe've g..."
      ]
     },
     "metadata": {},
     "output_type": "display_data"
    },
    {
     "name": "stdout",
     "output_type": "stream",
     "text": [
      "Number of lyrics:  12900\n"
     ]
    }
   ],
   "source": [
    "#lyrics_df = pd.DataFrame(lyrics_df, columns = ['ISRC','lyrics'])\n",
    "#lyrics_df.to_csv(\"../data/lyrics.csv\", index = False)\n",
    "\n",
    "lyrics_df = pd.read_csv(\"../data/lyrics.csv\")\n",
    "display(lyrics_df.sample(3))\n",
    "print (\"Number of lyrics: \", lyrics_df.shape[0])"
   ]
  },
  {
   "cell_type": "code",
   "execution_count": 7,
   "id": "61aac86f",
   "metadata": {
    "ExecuteTime": {
     "end_time": "2022-02-22T21:23:06.725727Z",
     "start_time": "2022-02-22T21:23:06.703623Z"
    }
   },
   "outputs": [
    {
     "name": "stdout",
     "output_type": "stream",
     "text": [
      "Feb 10, 1326 out of 3700 songs have lyrics \t 0.36\n",
      "Feb 11, 3367 out of 6000 songs have lyrics \t 0.56\n",
      "Feb 12, 5135 out of 8000 songs have lyrics \t 0.64\n",
      "Feb 12, 6919 out of 10000 songs have lyrics \t 0.69\n",
      "Feb 13, 10459 out of 14000 songs have lyrics \t 0.75\n",
      "Feb 14, 11782 out of 16000 songs have lyrics \t 0.74\n",
      "Feb 14, 12834 out of 18000 songs have lyrics \t 0.71\n",
      "Feb 15, 12900 out of 18074 songs have lyrics \t 0.71\n"
     ]
    }
   ],
   "source": [
    "print (\"Feb 10, 1326 out of 3700 songs have lyrics \\t\", f\"{1326/3700:.2f}\")\n",
    "print (\"Feb 11, 3367 out of 6000 songs have lyrics \\t\", f\"{3367/6000:.2f}\")\n",
    "nsongs, nlyrics = 8000, 5135 \n",
    "print (f\"Feb 12, {nlyrics} out of {nsongs} songs have lyrics \\t {nlyrics/nsongs:.2f}\")\n",
    "\n",
    "nsongs, nlyrics = 10000, 6919 \n",
    "print (f\"Feb 12, {nlyrics} out of {nsongs} songs have lyrics \\t {nlyrics/nsongs:.2f}\")\n",
    "\n",
    "nsongs, nlyrics = 14000, 10459\n",
    "print (f\"Feb 13, {nlyrics} out of {nsongs} songs have lyrics \\t {nlyrics/nsongs:.2f}\")\n",
    "\n",
    "nsongs, nlyrics = 16000, 11782\n",
    "print (f\"Feb 14, {nlyrics} out of {nsongs} songs have lyrics \\t {nlyrics/nsongs:.2f}\")\n",
    "\n",
    "nsongs, nlyrics = 18000, 12834\n",
    "print (f\"Feb 14, {nlyrics} out of {nsongs} songs have lyrics \\t {nlyrics/nsongs:.2f}\")\n",
    "\n",
    "nsongs, nlyrics = 18074, 12900\n",
    "print (f\"Feb 15, {nlyrics} out of {nsongs} songs have lyrics \\t {nlyrics/nsongs:.2f}\")"
   ]
  }
 ],
 "metadata": {
  "kernelspec": {
   "display_name": "Python 3 (ipykernel)",
   "language": "python",
   "name": "python3"
  },
  "language_info": {
   "codemirror_mode": {
    "name": "ipython",
    "version": 3
   },
   "file_extension": ".py",
   "mimetype": "text/x-python",
   "name": "python",
   "nbconvert_exporter": "python",
   "pygments_lexer": "ipython3",
   "version": "3.9.10"
  }
 },
 "nbformat": 4,
 "nbformat_minor": 5
}
