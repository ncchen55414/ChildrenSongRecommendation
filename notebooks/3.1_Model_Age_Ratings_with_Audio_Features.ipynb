{
 "cells": [
  {
   "cell_type": "markdown",
   "id": "fa56b7a4",
   "metadata": {},
   "source": [
    "# Summary: Use audio features to predict age ratings.\n",
    "\n",
    "This notebook use `TreeRegressor` model with 13 audio features (key, acousticness, tempo, duration, etc) and popularity to predict age-ratings. \n",
    "\n",
    "The model achieves an $R^2$ score of 0.50, with popluarity and duration being the two most important features. "
   ]
  },
  {
   "cell_type": "code",
   "execution_count": 1,
   "id": "4956ab61",
   "metadata": {
    "ExecuteTime": {
     "end_time": "2022-03-15T05:17:56.106794Z",
     "start_time": "2022-03-15T05:17:51.435388Z"
    }
   },
   "outputs": [],
   "source": [
    "import numpy as np\n",
    "import pandas as pd\n",
    "import matplotlib.pyplot as plt\n",
    "import seaborn as sns\n",
    "import spotipy\n",
    "import os\n",
    "%matplotlib inline"
   ]
  },
  {
   "cell_type": "markdown",
   "id": "9e27c521",
   "metadata": {},
   "source": [
    "## Track data: Features and Age Ratings"
   ]
  },
  {
   "cell_type": "markdown",
   "id": "b696fed4",
   "metadata": {},
   "source": [
    "https://developer.spotify.com/documentation/web-api/reference/#/operations/get-audio-features\n",
    "\n",
    "valence :\n",
    "A measure from 0.0 to 1.0 describing the musical positiveness conveyed by a track. Tracks with high valence sound more positive (e.g. happy, cheerful, euphoric), while tracks with low valence sound more negative (e.g. sad, depressed, angry)."
   ]
  },
  {
   "cell_type": "code",
   "execution_count": 2,
   "id": "64b0675b",
   "metadata": {
    "ExecuteTime": {
     "end_time": "2022-03-15T05:17:56.647516Z",
     "start_time": "2022-03-15T05:17:56.111811Z"
    }
   },
   "outputs": [],
   "source": [
    "data = pd.read_csv('../data/all.csv')"
   ]
  },
  {
   "cell_type": "code",
   "execution_count": 3,
   "id": "52f6e849",
   "metadata": {
    "ExecuteTime": {
     "end_time": "2022-03-15T05:17:56.663556Z",
     "start_time": "2022-03-15T05:17:56.650440Z"
    }
   },
   "outputs": [
    {
     "name": "stdout",
     "output_type": "stream",
     "text": [
      "Index(['Age', 'Album_Name', 'Artist', 'Year', 'Description', 'Age Group',\n",
      "       'Album_ID', 'Album_Name_Spotify', 'Artists_Spotify', 'Track_ID', 'ISRC',\n",
      "       'Track_Name', 'Artists', 'popularity', 'preview_url', 'image_url',\n",
      "       'danceability', 'energy', 'key', 'loudness', 'mode', 'speechiness',\n",
      "       'acousticness', 'instrumentalness', 'liveness', 'valence', 'tempo',\n",
      "       'type', 'uri', 'track_href', 'analysis_url', 'duration_ms',\n",
      "       'time_signature', 'lyrics'],\n",
      "      dtype='object')\n",
      "(19560, 34)\n"
     ]
    }
   ],
   "source": [
    "print (data.columns)\n",
    "print (data.shape)\n"
   ]
  },
  {
   "cell_type": "code",
   "execution_count": 4,
   "id": "4ebc9503",
   "metadata": {
    "ExecuteTime": {
     "end_time": "2022-03-15T05:17:56.756360Z",
     "start_time": "2022-03-15T05:17:56.666560Z"
    }
   },
   "outputs": [],
   "source": [
    "\n",
    "song_features = ['danceability', 'energy', 'key', 'loudness', 'mode', 'speechiness', \\\n",
    "                'acousticness', 'instrumentalness', 'liveness', 'valence', 'tempo', \\\n",
    "                'type', 'id', 'uri', 'track_href', 'analysis_url', 'duration_ms', 'time_signature']\n",
    "\n",
    "columns = ['key','mode', 'time_signature', 'duration_min','popularity', 'danceability', 'energy','loudness', 'speechiness',\n",
    "       'acousticness', 'instrumentalness', 'liveness', 'valence', 'tempo']\n",
    "\n",
    "data['duration_min'] = data['duration_ms']/10**3/60\n",
    "\n",
    "data = data.dropna(subset=columns)\n",
    "data = data.astype({'key': 'Int64', 'mode':'Int64', 'time_signature':'Int64'})\n",
    "\n",
    "\n",
    "X = data[columns]\n",
    "y = list(data['Age'])"
   ]
  },
  {
   "cell_type": "code",
   "execution_count": 5,
   "id": "b6c94ace",
   "metadata": {
    "ExecuteTime": {
     "end_time": "2022-03-15T05:17:56.802049Z",
     "start_time": "2022-03-15T05:17:56.759357Z"
    }
   },
   "outputs": [
    {
     "data": {
      "text/html": [
       "<div>\n",
       "<style scoped>\n",
       "    .dataframe tbody tr th:only-of-type {\n",
       "        vertical-align: middle;\n",
       "    }\n",
       "\n",
       "    .dataframe tbody tr th {\n",
       "        vertical-align: top;\n",
       "    }\n",
       "\n",
       "    .dataframe thead th {\n",
       "        text-align: right;\n",
       "    }\n",
       "</style>\n",
       "<table border=\"1\" class=\"dataframe\">\n",
       "  <thead>\n",
       "    <tr style=\"text-align: right;\">\n",
       "      <th></th>\n",
       "      <th>key</th>\n",
       "      <th>mode</th>\n",
       "      <th>time_signature</th>\n",
       "      <th>duration_min</th>\n",
       "      <th>popularity</th>\n",
       "      <th>danceability</th>\n",
       "      <th>energy</th>\n",
       "      <th>loudness</th>\n",
       "      <th>speechiness</th>\n",
       "      <th>acousticness</th>\n",
       "      <th>instrumentalness</th>\n",
       "      <th>liveness</th>\n",
       "      <th>valence</th>\n",
       "      <th>tempo</th>\n",
       "    </tr>\n",
       "  </thead>\n",
       "  <tbody>\n",
       "    <tr>\n",
       "      <th>13066</th>\n",
       "      <td>1</td>\n",
       "      <td>0</td>\n",
       "      <td>4</td>\n",
       "      <td>3.238450</td>\n",
       "      <td>53</td>\n",
       "      <td>0.354</td>\n",
       "      <td>0.895</td>\n",
       "      <td>-5.964</td>\n",
       "      <td>0.0962</td>\n",
       "      <td>0.000014</td>\n",
       "      <td>0.001460</td>\n",
       "      <td>0.1590</td>\n",
       "      <td>0.293</td>\n",
       "      <td>152.035</td>\n",
       "    </tr>\n",
       "    <tr>\n",
       "      <th>60</th>\n",
       "      <td>0</td>\n",
       "      <td>1</td>\n",
       "      <td>4</td>\n",
       "      <td>2.087117</td>\n",
       "      <td>53</td>\n",
       "      <td>0.764</td>\n",
       "      <td>0.460</td>\n",
       "      <td>-9.292</td>\n",
       "      <td>0.0640</td>\n",
       "      <td>0.293000</td>\n",
       "      <td>0.001560</td>\n",
       "      <td>0.2520</td>\n",
       "      <td>0.763</td>\n",
       "      <td>133.490</td>\n",
       "    </tr>\n",
       "    <tr>\n",
       "      <th>9499</th>\n",
       "      <td>11</td>\n",
       "      <td>0</td>\n",
       "      <td>4</td>\n",
       "      <td>3.006217</td>\n",
       "      <td>13</td>\n",
       "      <td>0.505</td>\n",
       "      <td>0.957</td>\n",
       "      <td>-3.020</td>\n",
       "      <td>0.0468</td>\n",
       "      <td>0.000727</td>\n",
       "      <td>0.000045</td>\n",
       "      <td>0.2900</td>\n",
       "      <td>0.487</td>\n",
       "      <td>130.812</td>\n",
       "    </tr>\n",
       "    <tr>\n",
       "      <th>14088</th>\n",
       "      <td>5</td>\n",
       "      <td>1</td>\n",
       "      <td>4</td>\n",
       "      <td>4.974450</td>\n",
       "      <td>40</td>\n",
       "      <td>0.633</td>\n",
       "      <td>0.444</td>\n",
       "      <td>-9.050</td>\n",
       "      <td>0.0255</td>\n",
       "      <td>0.760000</td>\n",
       "      <td>0.000064</td>\n",
       "      <td>0.1370</td>\n",
       "      <td>0.237</td>\n",
       "      <td>94.086</td>\n",
       "    </tr>\n",
       "    <tr>\n",
       "      <th>13137</th>\n",
       "      <td>4</td>\n",
       "      <td>0</td>\n",
       "      <td>4</td>\n",
       "      <td>3.648667</td>\n",
       "      <td>77</td>\n",
       "      <td>0.500</td>\n",
       "      <td>0.824</td>\n",
       "      <td>-5.846</td>\n",
       "      <td>0.0388</td>\n",
       "      <td>0.000160</td>\n",
       "      <td>0.001610</td>\n",
       "      <td>0.0916</td>\n",
       "      <td>0.539</td>\n",
       "      <td>120.125</td>\n",
       "    </tr>\n",
       "  </tbody>\n",
       "</table>\n",
       "</div>"
      ],
      "text/plain": [
       "       key  mode  time_signature  duration_min  popularity  danceability  \\\n",
       "13066    1     0               4      3.238450          53         0.354   \n",
       "60       0     1               4      2.087117          53         0.764   \n",
       "9499    11     0               4      3.006217          13         0.505   \n",
       "14088    5     1               4      4.974450          40         0.633   \n",
       "13137    4     0               4      3.648667          77         0.500   \n",
       "\n",
       "       energy  loudness  speechiness  acousticness  instrumentalness  \\\n",
       "13066   0.895    -5.964       0.0962      0.000014          0.001460   \n",
       "60      0.460    -9.292       0.0640      0.293000          0.001560   \n",
       "9499    0.957    -3.020       0.0468      0.000727          0.000045   \n",
       "14088   0.444    -9.050       0.0255      0.760000          0.000064   \n",
       "13137   0.824    -5.846       0.0388      0.000160          0.001610   \n",
       "\n",
       "       liveness  valence    tempo  \n",
       "13066    0.1590    0.293  152.035  \n",
       "60       0.2520    0.763  133.490  \n",
       "9499     0.2900    0.487  130.812  \n",
       "14088    0.1370    0.237   94.086  \n",
       "13137    0.0916    0.539  120.125  "
      ]
     },
     "metadata": {},
     "output_type": "display_data"
    },
    {
     "name": "stdout",
     "output_type": "stream",
     "text": [
      "Number of Tracks: 19527\n",
      "Number of Freatures: 14\n",
      "Ages:  {2, 3, 4, 5, 6, 7, 8, 9, 10, 11, 12, 13, 14, 15, 16, 17, 18}\n"
     ]
    }
   ],
   "source": [
    "display(X.sample(5))\n",
    "\n",
    "print (\"Number of Tracks:\" , X.shape[0])\n",
    "print (\"Number of Freatures:\", X.shape[1])\n",
    "print (\"Ages: \", set(y))"
   ]
  },
  {
   "cell_type": "markdown",
   "id": "d305ad3d",
   "metadata": {},
   "source": [
    "## Decision Tree Model"
   ]
  },
  {
   "cell_type": "code",
   "execution_count": 6,
   "id": "1a0faacd",
   "metadata": {
    "ExecuteTime": {
     "end_time": "2022-03-15T05:17:57.607415Z",
     "start_time": "2022-03-15T05:17:56.803986Z"
    }
   },
   "outputs": [
    {
     "name": "stdout",
     "output_type": "stream",
     "text": [
      "R^2 Score:  0.5021094761704463\n"
     ]
    }
   ],
   "source": [
    "from sklearn.model_selection import GridSearchCV, train_test_split\n",
    "from sklearn.pipeline import Pipeline\n",
    "from sklearn.preprocessing import OneHotEncoder\n",
    "from sklearn.compose import ColumnTransformer\n",
    "\n",
    "from sklearn.tree import DecisionTreeRegressor\n",
    "\n",
    "X_train, X_test, y_train, y_test = train_test_split(X, y, test_size=0.2, random_state=42)\n",
    "\n",
    "\n",
    "categorical_columns = ['key','mode', 'time_signature']\n",
    "\n",
    "numeric_columns = ['duration_min','popularity', 'danceability', 'energy','loudness', 'speechiness',\n",
    "       'acousticness', 'instrumentalness', 'liveness', 'valence', 'tempo']\n",
    "\n",
    "features = ColumnTransformer([\n",
    "    ('categorical', OneHotEncoder(), categorical_columns),\n",
    "    ('numeric', 'passthrough', numeric_columns)\n",
    "])\n",
    "\n",
    "est = Pipeline([\n",
    "    ('features', features),\n",
    "    ('regressor', DecisionTreeRegressor(max_depth=5) )\n",
    "])\n",
    "\n",
    "est.fit(X_train, y_train)\n",
    "\n",
    "\n",
    "print (\"R^2 Score: \", est.score(X_test,y_test))\n",
    "\n",
    "\n",
    "# The best possible score is 1.0 and it can be negative (because the model can be arbitrarily worse).\n",
    "# A constant model that always predicts the expected value of y, disregarding the input features, \n",
    "# would get a  score of 0.0.\""
   ]
  },
  {
   "cell_type": "code",
   "execution_count": 7,
   "id": "e898c18a",
   "metadata": {
    "ExecuteTime": {
     "end_time": "2022-03-15T05:17:57.653883Z",
     "start_time": "2022-03-15T05:17:57.611454Z"
    }
   },
   "outputs": [
    {
     "name": "stdout",
     "output_type": "stream",
     "text": [
      "Base Line Model Test Error:  4.825135424997403\n",
      "Current Model Test Error:  3.4046751211576454\n"
     ]
    }
   ],
   "source": [
    "from sklearn.metrics import mean_squared_error\n",
    "import math\n",
    "test_error = math.sqrt(mean_squared_error(y_test, est.predict(X_test)))\n",
    "\n",
    "mean = np.mean(y_train)\n",
    "baseline_error  = math.sqrt(mean_squared_error(y_test, [mean for _ in range(len(y_test))]))\n",
    "\n",
    "print (\"Base Line Model Test Error: \", baseline_error)\n",
    "print (\"Current Model Test Error: \", test_error)"
   ]
  },
  {
   "cell_type": "markdown",
   "id": "06724ca9",
   "metadata": {
    "heading_collapsed": true
   },
   "source": [
    "## Cross validation on  max_depth "
   ]
  },
  {
   "cell_type": "code",
   "execution_count": 8,
   "id": "e62c0794",
   "metadata": {
    "ExecuteTime": {
     "end_time": "2022-03-15T05:18:02.536291Z",
     "start_time": "2022-03-15T05:17:57.657950Z"
    },
    "hidden": true
   },
   "outputs": [],
   "source": [
    "from sklearn.model_selection import GridSearchCV\n",
    "\n",
    "X_train, X_test, y_train, y_test = train_test_split(X, y, test_size=0.2, random_state=42)\n",
    "\n",
    "\n",
    "categorical_columns = ['key','mode', 'time_signature']\n",
    "\n",
    "numeric_columns = ['duration_min','popularity', 'danceability', 'energy','loudness', 'speechiness',\n",
    "       'acousticness', 'instrumentalness', 'liveness', 'valence', 'tempo']\n",
    "\n",
    "features = ColumnTransformer([\n",
    "    ('categorical', OneHotEncoder(), categorical_columns),\n",
    "    ('numeric', 'passthrough', numeric_columns)\n",
    "])\n",
    "\n",
    "\n",
    "pipeline = Pipeline([\n",
    "    ('features', features),\n",
    "    ('regressor', DecisionTreeRegressor()) \n",
    "])\n",
    "param_grid = {'regressor__max_depth': range(2,10)}\n",
    "est = GridSearchCV(pipeline,  param_grid,  return_train_score = True)\n",
    "est.fit(X_train, y_train);"
   ]
  },
  {
   "cell_type": "code",
   "execution_count": 9,
   "id": "4d12e90d",
   "metadata": {
    "ExecuteTime": {
     "end_time": "2022-03-15T05:18:02.915135Z",
     "start_time": "2022-03-15T05:18:02.539222Z"
    },
    "hidden": true
   },
   "outputs": [
    {
     "data": {
      "image/png": "[encoded data removed]",
      "text/plain": [
       "<Figure size 432x288 with 1 Axes>"
      ]
     },
     "metadata": {
      "needs_background": "light"
     },
     "output_type": "display_data"
    }
   ],
   "source": [
    "depth = est.param_grid['regressor__max_depth']\n",
    "\n",
    "plt.plot(depth, est.cv_results_['mean_test_score'], c='r', label = 'validation score')\n",
    "plt.plot(depth, est.cv_results_['mean_train_score'], c='b', label = 'train score')\n",
    "plt.xlabel('max_depth')\n",
    "plt.ylabel('score')\n",
    "plt.legend(loc='upper right');"
   ]
  },
  {
   "cell_type": "code",
   "execution_count": 10,
   "id": "c450cf8c",
   "metadata": {
    "ExecuteTime": {
     "end_time": "2022-03-15T05:18:03.997846Z",
     "start_time": "2022-03-15T05:18:02.920141Z"
    },
    "hidden": true
   },
   "outputs": [
    {
     "data": {
      "image/png": "[encoded data removed]",
      "text/plain": [
       "<Figure size 432x288 with 1 Axes>"
      ]
     },
     "metadata": {
      "needs_background": "light"
     },
     "output_type": "display_data"
    }
   ],
   "source": [
    "\n",
    "from sklearn import metrics\n",
    "test_errors = []\n",
    "in_sample_errors = []\n",
    "max_depths= [2,3,4,5,6,7,8,9,10]\n",
    "for max_depth in max_depths:\n",
    "    model = DecisionTreeRegressor(max_depth=max_depth).fit(X_train, y_train)\n",
    "    y_pred = model.predict(X_test)\n",
    "    y_train_pred = model.predict(X_train)\n",
    "    in_sample_errors.append(metrics.mean_squared_error(y_train, y_train_pred))\n",
    "    test_errors.append(metrics.mean_squared_error(y_test, y_pred))\n",
    "\n",
    "plt.plot(max_depths, in_sample_errors, 'b-', label='in-sample error')\n",
    "plt.plot(max_depths, test_errors, c='r', label='out-of-sample error')\n",
    "plt.xlabel('max_depth')\n",
    "plt.ylabel('MSE')\n",
    "plt.legend(loc='upper right');"
   ]
  },
  {
   "cell_type": "markdown",
   "id": "8a5fde0a",
   "metadata": {},
   "source": [
    "## Feature importance"
   ]
  },
  {
   "cell_type": "code",
   "execution_count": 11,
   "id": "ca381954",
   "metadata": {
    "ExecuteTime": {
     "end_time": "2022-03-15T05:18:04.028786Z",
     "start_time": "2022-03-15T05:18:04.002537Z"
    }
   },
   "outputs": [
    {
     "data": {
      "text/plain": [
       "array([3.93365795e-04, 0.00000000e+00, 0.00000000e+00, 0.00000000e+00,\n",
       "       0.00000000e+00, 0.00000000e+00, 0.00000000e+00, 0.00000000e+00,\n",
       "       3.52453163e-04, 0.00000000e+00, 0.00000000e+00, 1.39259028e-05,\n",
       "       8.69839097e-04, 2.23433251e-03, 0.00000000e+00, 0.00000000e+00,\n",
       "       0.00000000e+00, 1.24844732e-03, 8.33877420e-04, 2.21512266e-01,\n",
       "       4.86363526e-01, 1.02270756e-02, 6.85473571e-03, 2.57780891e-02,\n",
       "       1.01106360e-01, 8.88644085e-02, 8.16689462e-03, 7.46119806e-03,\n",
       "       3.30424169e-02, 4.67678848e-03])"
      ]
     },
     "execution_count": 11,
     "metadata": {},
     "output_type": "execute_result"
    }
   ],
   "source": [
    "model = est.best_estimator_['regressor']\n",
    "model.feature_importances_"
   ]
  },
  {
   "cell_type": "code",
   "execution_count": 16,
   "id": "a577e192",
   "metadata": {
    "ExecuteTime": {
     "end_time": "2022-03-15T05:18:19.665592Z",
     "start_time": "2022-03-15T05:18:19.643862Z"
    }
   },
   "outputs": [
    {
     "data": {
      "text/plain": [
       "array(['categorical__key_0', 'categorical__key_1', 'categorical__key_2',\n",
       "       'categorical__key_3', 'categorical__key_4', 'categorical__key_5',\n",
       "       'categorical__key_6', 'categorical__key_7', 'categorical__key_8',\n",
       "       'categorical__key_9'], dtype=object)"
      ]
     },
     "execution_count": 16,
     "metadata": {},
     "output_type": "execute_result"
    }
   ],
   "source": [
    "est.best_estimator_['features'].get_feature_names_out()[0:10]"
   ]
  },
  {
   "cell_type": "code",
   "execution_count": 13,
   "id": "40dd834f",
   "metadata": {
    "ExecuteTime": {
     "end_time": "2022-03-15T05:18:04.092195Z",
     "start_time": "2022-03-15T05:18:04.063501Z"
    }
   },
   "outputs": [
    {
     "name": "stdout",
     "output_type": "stream",
     "text": [
      "('popularity', 0.4863635259767914)\n",
      "('duration_min', 0.22151226619356706)\n",
      "('speechiness', 0.10110635971046776)\n",
      "('acousticness', 0.08886440846186068)\n",
      "('valence', 0.03304241685961839)\n",
      "('loudness', 0.02577808910180296)\n",
      "('danceability', 0.010227075620263912)\n",
      "('instrumentalness', 0.008166894620060506)\n",
      "('liveness', 0.0074611980592236594)\n",
      "('energy', 0.006854735706522058)\n",
      "('tempo', 0.0046767884781645785)\n",
      "('categorical__x1_1', 0.0022343325148414094)\n",
      "('categorical__x2_4', 0.0012484473189348464)\n",
      "('categorical__x1_0', 0.0008698390969922705)\n",
      "('categorical__x2_5', 0.0008338774197275184)\n",
      "('categorical__x0_0', 0.00039336579538753563)\n",
      "('categorical__x0_8', 0.00035245316297959615)\n",
      "('categorical__x0_11', 1.3925902793811138e-05)\n",
      "('categorical__x0_1', 0.0)\n",
      "('categorical__x0_2', 0.0)\n",
      "('categorical__x0_3', 0.0)\n",
      "('categorical__x0_4', 0.0)\n",
      "('categorical__x0_5', 0.0)\n",
      "('categorical__x0_6', 0.0)\n",
      "('categorical__x0_7', 0.0)\n",
      "('categorical__x0_9', 0.0)\n",
      "('categorical__x0_10', 0.0)\n",
      "('categorical__x2_0', 0.0)\n",
      "('categorical__x2_1', 0.0)\n",
      "('categorical__x2_3', 0.0)\n"
     ]
    }
   ],
   "source": [
    "feature_names = est.best_estimator_['features'].get_feature_names()\n",
    "features = [(feature_names[i], model.feature_importances_[i]) for i in range(len(feature_names))]\n",
    "\n",
    "for feature in sorted(features, key=lambda x: -x[1]):\n",
    "    print (feature)"
   ]
  },
  {
   "cell_type": "markdown",
   "id": "11e6f19a",
   "metadata": {},
   "source": [
    "## Visualize the decision tree"
   ]
  },
  {
   "cell_type": "markdown",
   "id": "2850e9a2",
   "metadata": {},
   "source": [
    "### Problem with Graphviz on win10\n",
    "https://stackoverflow.com/questions/35064304/runtimeerror-make-sure-the-graphviz-executables-are-on-your-systems-path-aft"
   ]
  },
  {
   "cell_type": "code",
   "execution_count": 27,
   "id": "103b6546",
   "metadata": {
    "ExecuteTime": {
     "end_time": "2022-03-15T05:26:23.208665Z",
     "start_time": "2022-03-15T05:26:09.154578Z"
    }
   },
   "outputs": [
    {
     "name": "stdout",
     "output_type": "stream",
     "text": [
      "Collecting package metadata (current_repodata.json): ...working... done\n",
      "Solving environment: ...working... done\n",
      "\n",
      "# All requested packages already installed.\n",
      "\n"
     ]
    }
   ],
   "source": [
    "!conda install graphviz"
   ]
  },
  {
   "cell_type": "code",
   "execution_count": 32,
   "id": "ddb44dbb",
   "metadata": {
    "ExecuteTime": {
     "end_time": "2022-03-15T05:30:01.542835Z",
     "start_time": "2022-03-15T05:30:01.498732Z"
    }
   },
   "outputs": [
    {
     "name": "stderr",
     "output_type": "stream",
     "text": [
      "Warning: Could not load \"C:\\Users\\ncche_hrdkov7\\anaconda3\\envs\\nlp\\Library\\bin\\gvplugin_pango.dll\" - It was found, so perhaps one of its dependents was not.  Try ldd.\n"
     ]
    },
    {
     "data": {
      "image/svg+xml": [
       "<?xml version=\"1.0\" encoding=\"UTF-8\" standalone=\"no\"?>\n",
       "<!DOCTYPE svg PUBLIC \"-//W3C//DTD SVG 1.1//EN\"\n",
       " \"http://www.w3.org/Graphics/SVG/1.1/DTD/svg11.dtd\">\n",
       "<!-- Generated by graphviz version 2.50.0 (0)\n",
       " -->\n",
       "<!-- Title: Tree Pages: 1 -->\n",
       "<svg width=\"1423pt\" height=\"489pt\"\n",
       " viewBox=\"0.00 0.00 1423.40 488.80\" xmlns=\"http://www.w3.org/2000/svg\" xmlns:xlink=\"http://www.w3.org/1999/xlink\">\n",
       "<g id=\"graph0\" class=\"graph\" transform=\"scale(1 1) rotate(0) translate(4 484.8)\">\n",
       "<title>Tree</title>\n",
       "<polygon fill=\"white\" stroke=\"transparent\" points=\"-4,4 -4,-484.8 1419.4,-484.8 1419.4,4 -4,4\"/>\n",
       "<!-- 0 -->\n",
       "<g id=\"node1\" class=\"node\">\n",
       "<title>0</title>\n",
       "<polygon fill=\"none\" stroke=\"black\" points=\"750.57,-480.9 588.14,-480.9 588.14,-405.5 750.57,-405.5 750.57,-480.9\"/>\n",
       "<text text-anchor=\"middle\" x=\"669.36\" y=\"-464.2\" font-family=\"Helvetica,sans-Serif\" font-size=\"14.00\">popularity &lt;= 22.5</text>\n",
       "<text text-anchor=\"middle\" x=\"669.36\" y=\"-447.4\" font-family=\"Helvetica,sans-Serif\" font-size=\"14.00\">squared_error = 23.708</text>\n",
       "<text text-anchor=\"middle\" x=\"669.36\" y=\"-430.6\" font-family=\"Helvetica,sans-Serif\" font-size=\"14.00\">samples = 15621</text>\n",
       "<text text-anchor=\"middle\" x=\"669.36\" y=\"-413.8\" font-family=\"Helvetica,sans-Serif\" font-size=\"14.00\">value = 9.986</text>\n",
       "</g>\n",
       "<!-- 1 -->\n",
       "<g id=\"node2\" class=\"node\">\n",
       "<title>1</title>\n",
       "<polygon fill=\"none\" stroke=\"black\" points=\"660.57,-369.7 498.14,-369.7 498.14,-294.3 660.57,-294.3 660.57,-369.7\"/>\n",
       "<text text-anchor=\"middle\" x=\"579.36\" y=\"-353\" font-family=\"Helvetica,sans-Serif\" font-size=\"14.00\">duration_min &lt;= 3.285</text>\n",
       "<text text-anchor=\"middle\" x=\"579.36\" y=\"-336.2\" font-family=\"Helvetica,sans-Serif\" font-size=\"14.00\">squared_error = 23.949</text>\n",
       "<text text-anchor=\"middle\" x=\"579.36\" y=\"-319.4\" font-family=\"Helvetica,sans-Serif\" font-size=\"14.00\">samples = 5663</text>\n",
       "<text text-anchor=\"middle\" x=\"579.36\" y=\"-302.6\" font-family=\"Helvetica,sans-Serif\" font-size=\"14.00\">value = 6.874</text>\n",
       "</g>\n",
       "<!-- 0&#45;&gt;1 -->\n",
       "<g id=\"edge1\" class=\"edge\">\n",
       "<title>0&#45;&gt;1</title>\n",
       "<path fill=\"none\" stroke=\"black\" d=\"M639.14,-405.53C631.79,-396.62 623.85,-386.99 616.24,-377.75\"/>\n",
       "<polygon fill=\"black\" stroke=\"black\" points=\"618.71,-375.25 609.65,-369.75 613.31,-379.7 618.71,-375.25\"/>\n",
       "<text text-anchor=\"middle\" x=\"607.25\" y=\"-390.44\" font-family=\"Helvetica,sans-Serif\" font-size=\"14.00\">True</text>\n",
       "</g>\n",
       "<!-- 128 -->\n",
       "<g id=\"node17\" class=\"node\">\n",
       "<title>128</title>\n",
       "<polygon fill=\"none\" stroke=\"black\" points=\"928.46,-369.7 772.25,-369.7 772.25,-294.3 928.46,-294.3 928.46,-369.7\"/>\n",
       "<text text-anchor=\"middle\" x=\"850.36\" y=\"-353\" font-family=\"Helvetica,sans-Serif\" font-size=\"14.00\">duration_min &lt;= 2.866</text>\n",
       "<text text-anchor=\"middle\" x=\"850.36\" y=\"-336.2\" font-family=\"Helvetica,sans-Serif\" font-size=\"14.00\">squared_error = 14.93</text>\n",
       "<text text-anchor=\"middle\" x=\"850.36\" y=\"-319.4\" font-family=\"Helvetica,sans-Serif\" font-size=\"14.00\">samples = 9958</text>\n",
       "<text text-anchor=\"middle\" x=\"850.36\" y=\"-302.6\" font-family=\"Helvetica,sans-Serif\" font-size=\"14.00\">value = 11.756</text>\n",
       "</g>\n",
       "<!-- 0&#45;&gt;128 -->\n",
       "<g id=\"edge16\" class=\"edge\">\n",
       "<title>0&#45;&gt;128</title>\n",
       "<path fill=\"none\" stroke=\"black\" d=\"M730.13,-405.53C746.4,-395.72 764.11,-385.04 780.81,-374.96\"/>\n",
       "<polygon fill=\"black\" stroke=\"black\" points=\"782.68,-377.92 789.43,-369.75 779.06,-371.92 782.68,-377.92\"/>\n",
       "<text text-anchor=\"middle\" x=\"783.43\" y=\"-389.82\" font-family=\"Helvetica,sans-Serif\" font-size=\"14.00\">False</text>\n",
       "</g>\n",
       "<!-- 2 -->\n",
       "<g id=\"node3\" class=\"node\">\n",
       "<title>2</title>\n",
       "<polygon fill=\"none\" stroke=\"black\" points=\"343.57,-258.5 181.14,-258.5 181.14,-183.1 343.57,-183.1 343.57,-258.5\"/>\n",
       "<text text-anchor=\"middle\" x=\"262.36\" y=\"-241.8\" font-family=\"Helvetica,sans-Serif\" font-size=\"14.00\">acousticness &lt;= 0.037</text>\n",
       "<text text-anchor=\"middle\" x=\"262.36\" y=\"-225\" font-family=\"Helvetica,sans-Serif\" font-size=\"14.00\">squared_error = 17.631</text>\n",
       "<text text-anchor=\"middle\" x=\"262.36\" y=\"-208.2\" font-family=\"Helvetica,sans-Serif\" font-size=\"14.00\">samples = 3150</text>\n",
       "<text text-anchor=\"middle\" x=\"262.36\" y=\"-191.4\" font-family=\"Helvetica,sans-Serif\" font-size=\"14.00\">value = 5.15</text>\n",
       "</g>\n",
       "<!-- 1&#45;&gt;2 -->\n",
       "<g id=\"edge2\" class=\"edge\">\n",
       "<title>1&#45;&gt;2</title>\n",
       "<path fill=\"none\" stroke=\"black\" d=\"M498.13,-303.02C453.86,-287.77 398.94,-268.85 353.25,-253.11\"/>\n",
       "<polygon fill=\"black\" stroke=\"black\" points=\"354.24,-249.75 343.64,-249.8 351.96,-256.37 354.24,-249.75\"/>\n",
       "</g>\n",
       "<!-- 65 -->\n",
       "<g id=\"node10\" class=\"node\">\n",
       "<title>65</title>\n",
       "<polygon fill=\"none\" stroke=\"black\" points=\"660.57,-258.5 498.14,-258.5 498.14,-183.1 660.57,-183.1 660.57,-258.5\"/>\n",
       "<text text-anchor=\"middle\" x=\"579.36\" y=\"-241.8\" font-family=\"Helvetica,sans-Serif\" font-size=\"14.00\">popularity &lt;= 4.5</text>\n",
       "<text text-anchor=\"middle\" x=\"579.36\" y=\"-225\" font-family=\"Helvetica,sans-Serif\" font-size=\"14.00\">squared_error = 23.481</text>\n",
       "<text text-anchor=\"middle\" x=\"579.36\" y=\"-208.2\" font-family=\"Helvetica,sans-Serif\" font-size=\"14.00\">samples = 2513</text>\n",
       "<text text-anchor=\"middle\" x=\"579.36\" y=\"-191.4\" font-family=\"Helvetica,sans-Serif\" font-size=\"14.00\">value = 9.034</text>\n",
       "</g>\n",
       "<!-- 1&#45;&gt;65 -->\n",
       "<g id=\"edge9\" class=\"edge\">\n",
       "<title>1&#45;&gt;65</title>\n",
       "<path fill=\"none\" stroke=\"black\" d=\"M579.36,-294.33C579.36,-286.14 579.36,-277.34 579.36,-268.8\"/>\n",
       "<polygon fill=\"black\" stroke=\"black\" points=\"582.86,-268.55 579.36,-258.55 575.86,-268.55 582.86,-268.55\"/>\n",
       "</g>\n",
       "<!-- 3 -->\n",
       "<g id=\"node4\" class=\"node\">\n",
       "<title>3</title>\n",
       "<polygon fill=\"none\" stroke=\"black\" points=\"162.57,-147.3 0.14,-147.3 0.14,-71.9 162.57,-71.9 162.57,-147.3\"/>\n",
       "<text text-anchor=\"middle\" x=\"81.36\" y=\"-130.6\" font-family=\"Helvetica,sans-Serif\" font-size=\"14.00\">popularity &lt;= 12.5</text>\n",
       "<text text-anchor=\"middle\" x=\"81.36\" y=\"-113.8\" font-family=\"Helvetica,sans-Serif\" font-size=\"14.00\">squared_error = 20.234</text>\n",
       "<text text-anchor=\"middle\" x=\"81.36\" y=\"-97\" font-family=\"Helvetica,sans-Serif\" font-size=\"14.00\">samples = 442</text>\n",
       "<text text-anchor=\"middle\" x=\"81.36\" y=\"-80.2\" font-family=\"Helvetica,sans-Serif\" font-size=\"14.00\">value = 7.846</text>\n",
       "</g>\n",
       "<!-- 2&#45;&gt;3 -->\n",
       "<g id=\"edge3\" class=\"edge\">\n",
       "<title>2&#45;&gt;3</title>\n",
       "<path fill=\"none\" stroke=\"black\" d=\"M201.58,-183.13C185.32,-173.32 167.61,-162.64 150.91,-152.56\"/>\n",
       "<polygon fill=\"black\" stroke=\"black\" points=\"152.65,-149.52 142.28,-147.35 149.03,-155.52 152.65,-149.52\"/>\n",
       "</g>\n",
       "<!-- 34 -->\n",
       "<g id=\"node7\" class=\"node\">\n",
       "<title>34</title>\n",
       "<polygon fill=\"none\" stroke=\"black\" points=\"343.57,-147.3 181.14,-147.3 181.14,-71.9 343.57,-71.9 343.57,-147.3\"/>\n",
       "<text text-anchor=\"middle\" x=\"262.36\" y=\"-130.6\" font-family=\"Helvetica,sans-Serif\" font-size=\"14.00\">valence &lt;= 0.152</text>\n",
       "<text text-anchor=\"middle\" x=\"262.36\" y=\"-113.8\" font-family=\"Helvetica,sans-Serif\" font-size=\"14.00\">squared_error = 15.826</text>\n",
       "<text text-anchor=\"middle\" x=\"262.36\" y=\"-97\" font-family=\"Helvetica,sans-Serif\" font-size=\"14.00\">samples = 2708</text>\n",
       "<text text-anchor=\"middle\" x=\"262.36\" y=\"-80.2\" font-family=\"Helvetica,sans-Serif\" font-size=\"14.00\">value = 4.71</text>\n",
       "</g>\n",
       "<!-- 2&#45;&gt;34 -->\n",
       "<g id=\"edge6\" class=\"edge\">\n",
       "<title>2&#45;&gt;34</title>\n",
       "<path fill=\"none\" stroke=\"black\" d=\"M262.36,-183.13C262.36,-174.94 262.36,-166.14 262.36,-157.6\"/>\n",
       "<polygon fill=\"black\" stroke=\"black\" points=\"265.86,-157.35 262.36,-147.35 258.86,-157.35 265.86,-157.35\"/>\n",
       "</g>\n",
       "<!-- 4 -->\n",
       "<g id=\"node5\" class=\"node\">\n",
       "<title>4</title>\n",
       "<polygon fill=\"none\" stroke=\"black\" points=\"72.36,-36 18.36,-36 18.36,0 72.36,0 72.36,-36\"/>\n",
       "<text text-anchor=\"middle\" x=\"45.36\" y=\"-13.8\" font-family=\"Helvetica,sans-Serif\" font-size=\"14.00\">(...)</text>\n",
       "</g>\n",
       "<!-- 3&#45;&gt;4 -->\n",
       "<g id=\"edge4\" class=\"edge\">\n",
       "<title>3&#45;&gt;4</title>\n",
       "<path fill=\"none\" stroke=\"black\" d=\"M66.61,-71.9C63.08,-63.1 59.37,-53.88 56.06,-45.64\"/>\n",
       "<polygon fill=\"black\" stroke=\"black\" points=\"59.23,-44.14 52.26,-36.17 52.74,-46.75 59.23,-44.14\"/>\n",
       "</g>\n",
       "<!-- 19 -->\n",
       "<g id=\"node6\" class=\"node\">\n",
       "<title>19</title>\n",
       "<polygon fill=\"none\" stroke=\"black\" points=\"144.36,-36 90.36,-36 90.36,0 144.36,0 144.36,-36\"/>\n",
       "<text text-anchor=\"middle\" x=\"117.36\" y=\"-13.8\" font-family=\"Helvetica,sans-Serif\" font-size=\"14.00\">(...)</text>\n",
       "</g>\n",
       "<!-- 3&#45;&gt;19 -->\n",
       "<g id=\"edge5\" class=\"edge\">\n",
       "<title>3&#45;&gt;19</title>\n",
       "<path fill=\"none\" stroke=\"black\" d=\"M96.1,-71.9C99.64,-63.1 103.34,-53.88 106.65,-45.64\"/>\n",
       "<polygon fill=\"black\" stroke=\"black\" points=\"109.98,-46.75 110.46,-36.17 103.48,-44.14 109.98,-46.75\"/>\n",
       "</g>\n",
       "<!-- 35 -->\n",
       "<g id=\"node8\" class=\"node\">\n",
       "<title>35</title>\n",
       "<polygon fill=\"none\" stroke=\"black\" points=\"254.36,-36 200.36,-36 200.36,0 254.36,0 254.36,-36\"/>\n",
       "<text text-anchor=\"middle\" x=\"227.36\" y=\"-13.8\" font-family=\"Helvetica,sans-Serif\" font-size=\"14.00\">(...)</text>\n",
       "</g>\n",
       "<!-- 34&#45;&gt;35 -->\n",
       "<g id=\"edge7\" class=\"edge\">\n",
       "<title>34&#45;&gt;35</title>\n",
       "<path fill=\"none\" stroke=\"black\" d=\"M248.02,-71.9C244.58,-63.1 240.98,-53.88 237.76,-45.64\"/>\n",
       "<polygon fill=\"black\" stroke=\"black\" points=\"240.96,-44.21 234.06,-36.17 234.44,-46.76 240.96,-44.21\"/>\n",
       "</g>\n",
       "<!-- 50 -->\n",
       "<g id=\"node9\" class=\"node\">\n",
       "<title>50</title>\n",
       "<polygon fill=\"none\" stroke=\"black\" points=\"326.36,-36 272.36,-36 272.36,0 326.36,0 326.36,-36\"/>\n",
       "<text text-anchor=\"middle\" x=\"299.36\" y=\"-13.8\" font-family=\"Helvetica,sans-Serif\" font-size=\"14.00\">(...)</text>\n",
       "</g>\n",
       "<!-- 34&#45;&gt;50 -->\n",
       "<g id=\"edge8\" class=\"edge\">\n",
       "<title>34&#45;&gt;50</title>\n",
       "<path fill=\"none\" stroke=\"black\" d=\"M277.51,-71.9C281.14,-63.1 284.95,-53.88 288.36,-45.64\"/>\n",
       "<polygon fill=\"black\" stroke=\"black\" points=\"291.68,-46.75 292.27,-36.17 285.21,-44.08 291.68,-46.75\"/>\n",
       "</g>\n",
       "<!-- 66 -->\n",
       "<g id=\"node11\" class=\"node\">\n",
       "<title>66</title>\n",
       "<polygon fill=\"none\" stroke=\"black\" points=\"524.57,-147.3 362.14,-147.3 362.14,-71.9 524.57,-71.9 524.57,-147.3\"/>\n",
       "<text text-anchor=\"middle\" x=\"443.36\" y=\"-130.6\" font-family=\"Helvetica,sans-Serif\" font-size=\"14.00\">acousticness &lt;= 0.083</text>\n",
       "<text text-anchor=\"middle\" x=\"443.36\" y=\"-113.8\" font-family=\"Helvetica,sans-Serif\" font-size=\"14.00\">squared_error = 17.363</text>\n",
       "<text text-anchor=\"middle\" x=\"443.36\" y=\"-97\" font-family=\"Helvetica,sans-Serif\" font-size=\"14.00\">samples = 878</text>\n",
       "<text text-anchor=\"middle\" x=\"443.36\" y=\"-80.2\" font-family=\"Helvetica,sans-Serif\" font-size=\"14.00\">value = 5.925</text>\n",
       "</g>\n",
       "<!-- 65&#45;&gt;66 -->\n",
       "<g id=\"edge10\" class=\"edge\">\n",
       "<title>65&#45;&gt;66</title>\n",
       "<path fill=\"none\" stroke=\"black\" d=\"M533.69,-183.13C521.92,-173.68 509.14,-163.42 497,-153.67\"/>\n",
       "<polygon fill=\"black\" stroke=\"black\" points=\"499.12,-150.89 489.13,-147.35 494.74,-156.34 499.12,-150.89\"/>\n",
       "</g>\n",
       "<!-- 97 -->\n",
       "<g id=\"node14\" class=\"node\">\n",
       "<title>97</title>\n",
       "<polygon fill=\"none\" stroke=\"black\" points=\"705.57,-147.3 543.14,-147.3 543.14,-71.9 705.57,-71.9 705.57,-147.3\"/>\n",
       "<text text-anchor=\"middle\" x=\"624.36\" y=\"-130.6\" font-family=\"Helvetica,sans-Serif\" font-size=\"14.00\">acousticness &lt;= 0.42</text>\n",
       "<text text-anchor=\"middle\" x=\"624.36\" y=\"-113.8\" font-family=\"Helvetica,sans-Serif\" font-size=\"14.00\">squared_error = 18.788</text>\n",
       "<text text-anchor=\"middle\" x=\"624.36\" y=\"-97\" font-family=\"Helvetica,sans-Serif\" font-size=\"14.00\">samples = 1635</text>\n",
       "<text text-anchor=\"middle\" x=\"624.36\" y=\"-80.2\" font-family=\"Helvetica,sans-Serif\" font-size=\"14.00\">value = 10.703</text>\n",
       "</g>\n",
       "<!-- 65&#45;&gt;97 -->\n",
       "<g id=\"edge13\" class=\"edge\">\n",
       "<title>65&#45;&gt;97</title>\n",
       "<path fill=\"none\" stroke=\"black\" d=\"M594.47,-183.13C597.95,-174.67 601.71,-165.56 605.34,-156.75\"/>\n",
       "<polygon fill=\"black\" stroke=\"black\" points=\"608.64,-157.93 609.21,-147.35 602.16,-155.27 608.64,-157.93\"/>\n",
       "</g>\n",
       "<!-- 67 -->\n",
       "<g id=\"node12\" class=\"node\">\n",
       "<title>67</title>\n",
       "<polygon fill=\"none\" stroke=\"black\" points=\"416.36,-36 362.36,-36 362.36,0 416.36,0 416.36,-36\"/>\n",
       "<text text-anchor=\"middle\" x=\"389.36\" y=\"-13.8\" font-family=\"Helvetica,sans-Serif\" font-size=\"14.00\">(...)</text>\n",
       "</g>\n",
       "<!-- 66&#45;&gt;67 -->\n",
       "<g id=\"edge11\" class=\"edge\">\n",
       "<title>66&#45;&gt;67</title>\n",
       "<path fill=\"none\" stroke=\"black\" d=\"M421.24,-71.9C415.76,-62.81 410.01,-53.27 404.92,-44.82\"/>\n",
       "<polygon fill=\"black\" stroke=\"black\" points=\"407.86,-42.93 399.7,-36.17 401.87,-46.54 407.86,-42.93\"/>\n",
       "</g>\n",
       "<!-- 82 -->\n",
       "<g id=\"node13\" class=\"node\">\n",
       "<title>82</title>\n",
       "<polygon fill=\"none\" stroke=\"black\" points=\"488.36,-36 434.36,-36 434.36,0 488.36,0 488.36,-36\"/>\n",
       "<text text-anchor=\"middle\" x=\"461.36\" y=\"-13.8\" font-family=\"Helvetica,sans-Serif\" font-size=\"14.00\">(...)</text>\n",
       "</g>\n",
       "<!-- 66&#45;&gt;82 -->\n",
       "<g id=\"edge12\" class=\"edge\">\n",
       "<title>66&#45;&gt;82</title>\n",
       "<path fill=\"none\" stroke=\"black\" d=\"M450.73,-71.9C452.46,-63.3 454.27,-54.28 455.9,-46.18\"/>\n",
       "<polygon fill=\"black\" stroke=\"black\" points=\"459.37,-46.66 457.91,-36.17 452.51,-45.28 459.37,-46.66\"/>\n",
       "</g>\n",
       "<!-- 98 -->\n",
       "<g id=\"node15\" class=\"node\">\n",
       "<title>98</title>\n",
       "<polygon fill=\"none\" stroke=\"black\" points=\"597.36,-36 543.36,-36 543.36,0 597.36,0 597.36,-36\"/>\n",
       "<text text-anchor=\"middle\" x=\"570.36\" y=\"-13.8\" font-family=\"Helvetica,sans-Serif\" font-size=\"14.00\">(...)</text>\n",
       "</g>\n",
       "<!-- 97&#45;&gt;98 -->\n",
       "<g id=\"edge14\" class=\"edge\">\n",
       "<title>97&#45;&gt;98</title>\n",
       "<path fill=\"none\" stroke=\"black\" d=\"M602.24,-71.9C596.76,-62.81 591.01,-53.27 585.92,-44.82\"/>\n",
       "<polygon fill=\"black\" stroke=\"black\" points=\"588.86,-42.93 580.7,-36.17 582.87,-46.54 588.86,-42.93\"/>\n",
       "</g>\n",
       "<!-- 113 -->\n",
       "<g id=\"node16\" class=\"node\">\n",
       "<title>113</title>\n",
       "<polygon fill=\"none\" stroke=\"black\" points=\"669.36,-36 615.36,-36 615.36,0 669.36,0 669.36,-36\"/>\n",
       "<text text-anchor=\"middle\" x=\"642.36\" y=\"-13.8\" font-family=\"Helvetica,sans-Serif\" font-size=\"14.00\">(...)</text>\n",
       "</g>\n",
       "<!-- 97&#45;&gt;113 -->\n",
       "<g id=\"edge15\" class=\"edge\">\n",
       "<title>97&#45;&gt;113</title>\n",
       "<path fill=\"none\" stroke=\"black\" d=\"M631.73,-71.9C633.46,-63.3 635.27,-54.28 636.9,-46.18\"/>\n",
       "<polygon fill=\"black\" stroke=\"black\" points=\"640.37,-46.66 638.91,-36.17 633.51,-45.28 640.37,-46.66\"/>\n",
       "</g>\n",
       "<!-- 129 -->\n",
       "<g id=\"node18\" class=\"node\">\n",
       "<title>129</title>\n",
       "<polygon fill=\"none\" stroke=\"black\" points=\"931.57,-258.5 769.14,-258.5 769.14,-183.1 931.57,-183.1 931.57,-258.5\"/>\n",
       "<text text-anchor=\"middle\" x=\"850.36\" y=\"-241.8\" font-family=\"Helvetica,sans-Serif\" font-size=\"14.00\">acousticness &lt;= 0.293</text>\n",
       "<text text-anchor=\"middle\" x=\"850.36\" y=\"-225\" font-family=\"Helvetica,sans-Serif\" font-size=\"14.00\">squared_error = 25.756</text>\n",
       "<text text-anchor=\"middle\" x=\"850.36\" y=\"-208.2\" font-family=\"Helvetica,sans-Serif\" font-size=\"14.00\">samples = 1506</text>\n",
       "<text text-anchor=\"middle\" x=\"850.36\" y=\"-191.4\" font-family=\"Helvetica,sans-Serif\" font-size=\"14.00\">value = 8.479</text>\n",
       "</g>\n",
       "<!-- 128&#45;&gt;129 -->\n",
       "<g id=\"edge17\" class=\"edge\">\n",
       "<title>128&#45;&gt;129</title>\n",
       "<path fill=\"none\" stroke=\"black\" d=\"M850.36,-294.33C850.36,-286.14 850.36,-277.34 850.36,-268.8\"/>\n",
       "<polygon fill=\"black\" stroke=\"black\" points=\"853.86,-268.55 850.36,-258.55 846.86,-268.55 853.86,-268.55\"/>\n",
       "</g>\n",
       "<!-- 190 -->\n",
       "<g id=\"node25\" class=\"node\">\n",
       "<title>190</title>\n",
       "<polygon fill=\"none\" stroke=\"black\" points=\"1244.57,-258.5 1082.14,-258.5 1082.14,-183.1 1244.57,-183.1 1244.57,-258.5\"/>\n",
       "<text text-anchor=\"middle\" x=\"1163.36\" y=\"-241.8\" font-family=\"Helvetica,sans-Serif\" font-size=\"14.00\">speechiness &lt;= 0.142</text>\n",
       "<text text-anchor=\"middle\" x=\"1163.36\" y=\"-225\" font-family=\"Helvetica,sans-Serif\" font-size=\"14.00\">squared_error = 10.747</text>\n",
       "<text text-anchor=\"middle\" x=\"1163.36\" y=\"-208.2\" font-family=\"Helvetica,sans-Serif\" font-size=\"14.00\">samples = 8452</text>\n",
       "<text text-anchor=\"middle\" x=\"1163.36\" y=\"-191.4\" font-family=\"Helvetica,sans-Serif\" font-size=\"14.00\">value = 12.34</text>\n",
       "</g>\n",
       "<!-- 128&#45;&gt;190 -->\n",
       "<g id=\"edge24\" class=\"edge\">\n",
       "<title>128&#45;&gt;190</title>\n",
       "<path fill=\"none\" stroke=\"black\" d=\"M928.53,-303.73C972.23,-288.48 1026.91,-269.4 1072.5,-253.5\"/>\n",
       "<polygon fill=\"black\" stroke=\"black\" points=\"1073.8,-256.75 1082.09,-250.15 1071.49,-250.14 1073.8,-256.75\"/>\n",
       "</g>\n",
       "<!-- 130 -->\n",
       "<g id=\"node19\" class=\"node\">\n",
       "<title>130</title>\n",
       "<polygon fill=\"none\" stroke=\"black\" points=\"886.57,-147.3 724.14,-147.3 724.14,-71.9 886.57,-71.9 886.57,-147.3\"/>\n",
       "<text text-anchor=\"middle\" x=\"805.36\" y=\"-130.6\" font-family=\"Helvetica,sans-Serif\" font-size=\"14.00\">valence &lt;= 0.68</text>\n",
       "<text text-anchor=\"middle\" x=\"805.36\" y=\"-113.8\" font-family=\"Helvetica,sans-Serif\" font-size=\"14.00\">squared_error = 20.371</text>\n",
       "<text text-anchor=\"middle\" x=\"805.36\" y=\"-97\" font-family=\"Helvetica,sans-Serif\" font-size=\"14.00\">samples = 771</text>\n",
       "<text text-anchor=\"middle\" x=\"805.36\" y=\"-80.2\" font-family=\"Helvetica,sans-Serif\" font-size=\"14.00\">value = 10.086</text>\n",
       "</g>\n",
       "<!-- 129&#45;&gt;130 -->\n",
       "<g id=\"edge18\" class=\"edge\">\n",
       "<title>129&#45;&gt;130</title>\n",
       "<path fill=\"none\" stroke=\"black\" d=\"M835.25,-183.13C831.76,-174.67 828.01,-165.56 824.37,-156.75\"/>\n",
       "<polygon fill=\"black\" stroke=\"black\" points=\"827.55,-155.27 820.5,-147.35 821.08,-157.93 827.55,-155.27\"/>\n",
       "</g>\n",
       "<!-- 161 -->\n",
       "<g id=\"node22\" class=\"node\">\n",
       "<title>161</title>\n",
       "<polygon fill=\"none\" stroke=\"black\" points=\"1067.57,-147.3 905.14,-147.3 905.14,-71.9 1067.57,-71.9 1067.57,-147.3\"/>\n",
       "<text text-anchor=\"middle\" x=\"986.36\" y=\"-130.6\" font-family=\"Helvetica,sans-Serif\" font-size=\"14.00\">popularity &lt;= 41.5</text>\n",
       "<text text-anchor=\"middle\" x=\"986.36\" y=\"-113.8\" font-family=\"Helvetica,sans-Serif\" font-size=\"14.00\">squared_error = 25.858</text>\n",
       "<text text-anchor=\"middle\" x=\"986.36\" y=\"-97\" font-family=\"Helvetica,sans-Serif\" font-size=\"14.00\">samples = 735</text>\n",
       "<text text-anchor=\"middle\" x=\"986.36\" y=\"-80.2\" font-family=\"Helvetica,sans-Serif\" font-size=\"14.00\">value = 6.795</text>\n",
       "</g>\n",
       "<!-- 129&#45;&gt;161 -->\n",
       "<g id=\"edge21\" class=\"edge\">\n",
       "<title>129&#45;&gt;161</title>\n",
       "<path fill=\"none\" stroke=\"black\" d=\"M896.02,-183.13C907.79,-173.68 920.57,-163.42 932.71,-153.67\"/>\n",
       "<polygon fill=\"black\" stroke=\"black\" points=\"934.97,-156.34 940.58,-147.35 930.59,-150.89 934.97,-156.34\"/>\n",
       "</g>\n",
       "<!-- 131 -->\n",
       "<g id=\"node20\" class=\"node\">\n",
       "<title>131</title>\n",
       "<polygon fill=\"none\" stroke=\"black\" points=\"778.36,-36 724.36,-36 724.36,0 778.36,0 778.36,-36\"/>\n",
       "<text text-anchor=\"middle\" x=\"751.36\" y=\"-13.8\" font-family=\"Helvetica,sans-Serif\" font-size=\"14.00\">(...)</text>\n",
       "</g>\n",
       "<!-- 130&#45;&gt;131 -->\n",
       "<g id=\"edge19\" class=\"edge\">\n",
       "<title>130&#45;&gt;131</title>\n",
       "<path fill=\"none\" stroke=\"black\" d=\"M783.24,-71.9C777.76,-62.81 772.01,-53.27 766.92,-44.82\"/>\n",
       "<polygon fill=\"black\" stroke=\"black\" points=\"769.86,-42.93 761.7,-36.17 763.87,-46.54 769.86,-42.93\"/>\n",
       "</g>\n",
       "<!-- 146 -->\n",
       "<g id=\"node21\" class=\"node\">\n",
       "<title>146</title>\n",
       "<polygon fill=\"none\" stroke=\"black\" points=\"850.36,-36 796.36,-36 796.36,0 850.36,0 850.36,-36\"/>\n",
       "<text text-anchor=\"middle\" x=\"823.36\" y=\"-13.8\" font-family=\"Helvetica,sans-Serif\" font-size=\"14.00\">(...)</text>\n",
       "</g>\n",
       "<!-- 130&#45;&gt;146 -->\n",
       "<g id=\"edge20\" class=\"edge\">\n",
       "<title>130&#45;&gt;146</title>\n",
       "<path fill=\"none\" stroke=\"black\" d=\"M812.73,-71.9C814.46,-63.3 816.27,-54.28 817.9,-46.18\"/>\n",
       "<polygon fill=\"black\" stroke=\"black\" points=\"821.37,-46.66 819.91,-36.17 814.51,-45.28 821.37,-46.66\"/>\n",
       "</g>\n",
       "<!-- 162 -->\n",
       "<g id=\"node23\" class=\"node\">\n",
       "<title>162</title>\n",
       "<polygon fill=\"none\" stroke=\"black\" points=\"957.36,-36 903.36,-36 903.36,0 957.36,0 957.36,-36\"/>\n",
       "<text text-anchor=\"middle\" x=\"930.36\" y=\"-13.8\" font-family=\"Helvetica,sans-Serif\" font-size=\"14.00\">(...)</text>\n",
       "</g>\n",
       "<!-- 161&#45;&gt;162 -->\n",
       "<g id=\"edge22\" class=\"edge\">\n",
       "<title>161&#45;&gt;162</title>\n",
       "<path fill=\"none\" stroke=\"black\" d=\"M963.42,-71.9C957.74,-62.81 951.77,-53.27 946.5,-44.82\"/>\n",
       "<polygon fill=\"black\" stroke=\"black\" points=\"949.36,-42.79 941.09,-36.17 943.42,-46.5 949.36,-42.79\"/>\n",
       "</g>\n",
       "<!-- 177 -->\n",
       "<g id=\"node24\" class=\"node\">\n",
       "<title>177</title>\n",
       "<polygon fill=\"none\" stroke=\"black\" points=\"1029.36,-36 975.36,-36 975.36,0 1029.36,0 1029.36,-36\"/>\n",
       "<text text-anchor=\"middle\" x=\"1002.36\" y=\"-13.8\" font-family=\"Helvetica,sans-Serif\" font-size=\"14.00\">(...)</text>\n",
       "</g>\n",
       "<!-- 161&#45;&gt;177 -->\n",
       "<g id=\"edge23\" class=\"edge\">\n",
       "<title>161&#45;&gt;177</title>\n",
       "<path fill=\"none\" stroke=\"black\" d=\"M992.91,-71.9C994.45,-63.3 996.06,-54.28 997.5,-46.18\"/>\n",
       "<polygon fill=\"black\" stroke=\"black\" points=\"1000.98,-46.63 999.29,-36.17 994.09,-45.4 1000.98,-46.63\"/>\n",
       "</g>\n",
       "<!-- 191 -->\n",
       "<g id=\"node26\" class=\"node\">\n",
       "<title>191</title>\n",
       "<polygon fill=\"none\" stroke=\"black\" points=\"1241.45,-147.3 1085.26,-147.3 1085.26,-71.9 1241.45,-71.9 1241.45,-147.3\"/>\n",
       "<text text-anchor=\"middle\" x=\"1163.36\" y=\"-130.6\" font-family=\"Helvetica,sans-Serif\" font-size=\"14.00\">acousticness &lt;= 0.425</text>\n",
       "<text text-anchor=\"middle\" x=\"1163.36\" y=\"-113.8\" font-family=\"Helvetica,sans-Serif\" font-size=\"14.00\">squared_error = 9.108</text>\n",
       "<text text-anchor=\"middle\" x=\"1163.36\" y=\"-97\" font-family=\"Helvetica,sans-Serif\" font-size=\"14.00\">samples = 6977</text>\n",
       "<text text-anchor=\"middle\" x=\"1163.36\" y=\"-80.2\" font-family=\"Helvetica,sans-Serif\" font-size=\"14.00\">value = 11.779</text>\n",
       "</g>\n",
       "<!-- 190&#45;&gt;191 -->\n",
       "<g id=\"edge25\" class=\"edge\">\n",
       "<title>190&#45;&gt;191</title>\n",
       "<path fill=\"none\" stroke=\"black\" d=\"M1163.36,-183.13C1163.36,-174.94 1163.36,-166.14 1163.36,-157.6\"/>\n",
       "<polygon fill=\"black\" stroke=\"black\" points=\"1166.86,-157.35 1163.36,-147.35 1159.86,-157.35 1166.86,-157.35\"/>\n",
       "</g>\n",
       "<!-- 222 -->\n",
       "<g id=\"node29\" class=\"node\">\n",
       "<title>222</title>\n",
       "<polygon fill=\"none\" stroke=\"black\" points=\"1415.45,-147.3 1259.26,-147.3 1259.26,-71.9 1415.45,-71.9 1415.45,-147.3\"/>\n",
       "<text text-anchor=\"middle\" x=\"1337.36\" y=\"-130.6\" font-family=\"Helvetica,sans-Serif\" font-size=\"14.00\">acousticness &lt;= 0.613</text>\n",
       "<text text-anchor=\"middle\" x=\"1337.36\" y=\"-113.8\" font-family=\"Helvetica,sans-Serif\" font-size=\"14.00\">squared_error = 9.969</text>\n",
       "<text text-anchor=\"middle\" x=\"1337.36\" y=\"-97\" font-family=\"Helvetica,sans-Serif\" font-size=\"14.00\">samples = 1475</text>\n",
       "<text text-anchor=\"middle\" x=\"1337.36\" y=\"-80.2\" font-family=\"Helvetica,sans-Serif\" font-size=\"14.00\">value = 14.994</text>\n",
       "</g>\n",
       "<!-- 190&#45;&gt;222 -->\n",
       "<g id=\"edge28\" class=\"edge\">\n",
       "<title>190&#45;&gt;222</title>\n",
       "<path fill=\"none\" stroke=\"black\" d=\"M1221.78,-183.13C1237.27,-173.41 1254.13,-162.83 1270.05,-152.84\"/>\n",
       "<polygon fill=\"black\" stroke=\"black\" points=\"1272.18,-155.64 1278.79,-147.35 1268.46,-149.71 1272.18,-155.64\"/>\n",
       "</g>\n",
       "<!-- 192 -->\n",
       "<g id=\"node27\" class=\"node\">\n",
       "<title>192</title>\n",
       "<polygon fill=\"none\" stroke=\"black\" points=\"1151.36,-36 1097.36,-36 1097.36,0 1151.36,0 1151.36,-36\"/>\n",
       "<text text-anchor=\"middle\" x=\"1124.36\" y=\"-13.8\" font-family=\"Helvetica,sans-Serif\" font-size=\"14.00\">(...)</text>\n",
       "</g>\n",
       "<!-- 191&#45;&gt;192 -->\n",
       "<g id=\"edge26\" class=\"edge\">\n",
       "<title>191&#45;&gt;192</title>\n",
       "<path fill=\"none\" stroke=\"black\" d=\"M1147.38,-71.9C1143.51,-63.01 1139.45,-53.67 1135.83,-45.36\"/>\n",
       "<polygon fill=\"black\" stroke=\"black\" points=\"1139.03,-43.94 1131.83,-36.17 1132.61,-46.74 1139.03,-43.94\"/>\n",
       "</g>\n",
       "<!-- 207 -->\n",
       "<g id=\"node28\" class=\"node\">\n",
       "<title>207</title>\n",
       "<polygon fill=\"none\" stroke=\"black\" points=\"1223.36,-36 1169.36,-36 1169.36,0 1223.36,0 1223.36,-36\"/>\n",
       "<text text-anchor=\"middle\" x=\"1196.36\" y=\"-13.8\" font-family=\"Helvetica,sans-Serif\" font-size=\"14.00\">(...)</text>\n",
       "</g>\n",
       "<!-- 191&#45;&gt;207 -->\n",
       "<g id=\"edge27\" class=\"edge\">\n",
       "<title>191&#45;&gt;207</title>\n",
       "<path fill=\"none\" stroke=\"black\" d=\"M1176.87,-71.9C1180.11,-63.1 1183.51,-53.88 1186.55,-45.64\"/>\n",
       "<polygon fill=\"black\" stroke=\"black\" points=\"1189.86,-46.76 1190.03,-36.17 1183.29,-44.34 1189.86,-46.76\"/>\n",
       "</g>\n",
       "<!-- 223 -->\n",
       "<g id=\"node30\" class=\"node\">\n",
       "<title>223</title>\n",
       "<polygon fill=\"none\" stroke=\"black\" points=\"1328.36,-36 1274.36,-36 1274.36,0 1328.36,0 1328.36,-36\"/>\n",
       "<text text-anchor=\"middle\" x=\"1301.36\" y=\"-13.8\" font-family=\"Helvetica,sans-Serif\" font-size=\"14.00\">(...)</text>\n",
       "</g>\n",
       "<!-- 222&#45;&gt;223 -->\n",
       "<g id=\"edge29\" class=\"edge\">\n",
       "<title>222&#45;&gt;223</title>\n",
       "<path fill=\"none\" stroke=\"black\" d=\"M1322.61,-71.9C1319.08,-63.1 1315.37,-53.88 1312.06,-45.64\"/>\n",
       "<polygon fill=\"black\" stroke=\"black\" points=\"1315.23,-44.14 1308.26,-36.17 1308.74,-46.75 1315.23,-44.14\"/>\n",
       "</g>\n",
       "<!-- 238 -->\n",
       "<g id=\"node31\" class=\"node\">\n",
       "<title>238</title>\n",
       "<polygon fill=\"none\" stroke=\"black\" points=\"1400.36,-36 1346.36,-36 1346.36,0 1400.36,0 1400.36,-36\"/>\n",
       "<text text-anchor=\"middle\" x=\"1373.36\" y=\"-13.8\" font-family=\"Helvetica,sans-Serif\" font-size=\"14.00\">(...)</text>\n",
       "</g>\n",
       "<!-- 222&#45;&gt;238 -->\n",
       "<g id=\"edge30\" class=\"edge\">\n",
       "<title>222&#45;&gt;238</title>\n",
       "<path fill=\"none\" stroke=\"black\" d=\"M1352.1,-71.9C1355.64,-63.1 1359.34,-53.88 1362.65,-45.64\"/>\n",
       "<polygon fill=\"black\" stroke=\"black\" points=\"1365.98,-46.75 1366.46,-36.17 1359.48,-44.14 1365.98,-46.75\"/>\n",
       "</g>\n",
       "</g>\n",
       "</svg>\n"
      ],
      "text/plain": [
       "<graphviz.sources.Source at 0x13a5f159790>"
      ]
     },
     "execution_count": 32,
     "metadata": {},
     "output_type": "execute_result"
    }
   ],
   "source": [
    "import os\n",
    "os.environ[\"PATH\"] += os.pathsep + 'C:/Program Files/Graphviz/bin/'\n",
    "\n",
    "\n",
    "import graphviz\n",
    "from sklearn.tree import export_graphviz\n",
    "g = graphviz.Source(export_graphviz(model, feature_names=feature_names, max_depth=3))\n",
    "g"
   ]
  },
  {
   "cell_type": "code",
   "execution_count": 34,
   "id": "bda5a60f",
   "metadata": {
    "ExecuteTime": {
     "end_time": "2022-03-15T05:30:19.565162Z",
     "start_time": "2022-03-15T05:30:19.444627Z"
    }
   },
   "outputs": [
    {
     "data": {
      "text/plain": [
       "'..\\\\figures\\\\rating_decision_tree.png'"
      ]
     },
     "execution_count": 34,
     "metadata": {},
     "output_type": "execute_result"
    }
   ],
   "source": [
    "g.render('../figures/rating_decision_tree', format='png', quiet=True)"
   ]
  },
  {
   "cell_type": "code",
   "execution_count": null,
   "id": "251cc162",
   "metadata": {},
   "outputs": [],
   "source": []
  }
 ],
 "metadata": {
  "kernelspec": {
   "display_name": "Python 3 (ipykernel)",
   "language": "python",
   "name": "python3"
  },
  "language_info": {
   "codemirror_mode": {
    "name": "ipython",
    "version": 3
   },
   "file_extension": ".py",
   "mimetype": "text/x-python",
   "name": "python",
   "nbconvert_exporter": "python",
   "pygments_lexer": "ipython3",
   "version": "3.9.10"
  }
 },
 "nbformat": 4,
 "nbformat_minor": 5
}
